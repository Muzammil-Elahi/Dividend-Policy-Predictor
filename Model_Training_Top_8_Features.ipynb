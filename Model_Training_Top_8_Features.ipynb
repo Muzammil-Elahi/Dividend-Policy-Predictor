{
  "nbformat": 4,
  "nbformat_minor": 0,
  "metadata": {
    "colab": {
      "provenance": []
    },
    "kernelspec": {
      "name": "python3",
      "display_name": "Python 3"
    },
    "language_info": {
      "name": "python"
    }
  },
  "cells": [
    {
      "cell_type": "code",
      "source": [
        "! pip install optuna"
      ],
      "metadata": {
        "colab": {
          "base_uri": "https://localhost:8080/"
        },
        "id": "yVEl8pBSYbjH",
        "outputId": "4c6df390-e9bb-4d27-f9d3-91391f3243c9"
      },
      "execution_count": 1,
      "outputs": [
        {
          "output_type": "stream",
          "name": "stdout",
          "text": [
            "Collecting optuna\n",
            "  Downloading optuna-3.6.1-py3-none-any.whl (380 kB)\n",
            "\u001b[2K     \u001b[90m━━━━━━━━━━━━━━━━━━━━━━━━━━━━━━━━━━━━━━━━\u001b[0m \u001b[32m380.1/380.1 kB\u001b[0m \u001b[31m5.5 MB/s\u001b[0m eta \u001b[36m0:00:00\u001b[0m\n",
            "\u001b[?25hCollecting alembic>=1.5.0 (from optuna)\n",
            "  Downloading alembic-1.13.1-py3-none-any.whl (233 kB)\n",
            "\u001b[2K     \u001b[90m━━━━━━━━━━━━━━━━━━━━━━━━━━━━━━━━━━━━━━━━\u001b[0m \u001b[32m233.4/233.4 kB\u001b[0m \u001b[31m12.5 MB/s\u001b[0m eta \u001b[36m0:00:00\u001b[0m\n",
            "\u001b[?25hCollecting colorlog (from optuna)\n",
            "  Downloading colorlog-6.8.2-py3-none-any.whl (11 kB)\n",
            "Requirement already satisfied: numpy in /usr/local/lib/python3.10/dist-packages (from optuna) (1.25.2)\n",
            "Requirement already satisfied: packaging>=20.0 in /usr/local/lib/python3.10/dist-packages (from optuna) (24.0)\n",
            "Requirement already satisfied: sqlalchemy>=1.3.0 in /usr/local/lib/python3.10/dist-packages (from optuna) (2.0.30)\n",
            "Requirement already satisfied: tqdm in /usr/local/lib/python3.10/dist-packages (from optuna) (4.66.4)\n",
            "Requirement already satisfied: PyYAML in /usr/local/lib/python3.10/dist-packages (from optuna) (6.0.1)\n",
            "Collecting Mako (from alembic>=1.5.0->optuna)\n",
            "  Downloading Mako-1.3.3-py3-none-any.whl (78 kB)\n",
            "\u001b[2K     \u001b[90m━━━━━━━━━━━━━━━━━━━━━━━━━━━━━━━━━━━━━━━━\u001b[0m \u001b[32m78.8/78.8 kB\u001b[0m \u001b[31m9.5 MB/s\u001b[0m eta \u001b[36m0:00:00\u001b[0m\n",
            "\u001b[?25hRequirement already satisfied: typing-extensions>=4 in /usr/local/lib/python3.10/dist-packages (from alembic>=1.5.0->optuna) (4.11.0)\n",
            "Requirement already satisfied: greenlet!=0.4.17 in /usr/local/lib/python3.10/dist-packages (from sqlalchemy>=1.3.0->optuna) (3.0.3)\n",
            "Requirement already satisfied: MarkupSafe>=0.9.2 in /usr/local/lib/python3.10/dist-packages (from Mako->alembic>=1.5.0->optuna) (2.1.5)\n",
            "Installing collected packages: Mako, colorlog, alembic, optuna\n",
            "Successfully installed Mako-1.3.3 alembic-1.13.1 colorlog-6.8.2 optuna-3.6.1\n"
          ]
        }
      ]
    },
    {
      "cell_type": "code",
      "execution_count": 2,
      "metadata": {
        "id": "q3m8mSswRt7z"
      },
      "outputs": [],
      "source": [
        "import pandas as pd\n",
        "import numpy as np\n",
        "import os\n",
        "import warnings\n",
        "\n",
        "import matplotlib.pyplot as plt\n",
        "import seaborn as sns\n",
        "\n",
        "from imblearn.over_sampling import SMOTENC\n",
        "from sklearn.svm import SVC\n",
        "from sklearn.model_selection import train_test_split\n",
        "from sklearn.ensemble import RandomForestClassifier\n",
        "from sklearn.metrics import roc_auc_score, make_scorer, accuracy_score, precision_score, recall_score, f1_score\n",
        "from sklearn.neighbors import KNeighborsClassifier\n",
        "from sklearn.linear_model import LogisticRegression\n",
        "from sklearn.tree import DecisionTreeClassifier\n",
        "from sklearn.svm import SVC\n",
        "from sklearn.pipeline import Pipeline\n",
        "from sklearn.preprocessing import OrdinalEncoder, LabelEncoder, StandardScaler\n",
        "from sklearn.compose import ColumnTransformer\n",
        "from sklearn.model_selection import cross_val_score, GridSearchCV\n",
        "import pickle\n",
        "import optuna\n",
        "from xgboost import XGBClassifier\n",
        "\n",
        "# Register API for Financial Modeling Prep (Financial Statements and Company Fundamentals)\n",
        "# https://site.financialmodelingprep.com/developer/\n",
        "# Register API for Federal Reserve Economic Data (For Macroeconomics Data)\n",
        "# https://fred.stlouisfed.org/docs/api/fred/\n",
        "# Yahoo Finance does not need an API\n",
        "\n",
        "warnings.filterwarnings('ignore')"
      ]
    },
    {
      "cell_type": "code",
      "source": [
        "X_test_transformed = pd.read_csv('X_test_transformed.csv')\n",
        "y_test = pd.read_csv('y_test.csv')\n",
        "X_train_oversampled = pd.read_csv('X_train_oversampled.csv')\n",
        "y_train_oversampled = pd.read_csv('y_train_oversampled.csv')\n",
        "X_validate_transformed = pd.read_csv('X_validate_transformed.csv')\n",
        "y_validate = pd.read_csv('y_validate.csv')"
      ],
      "metadata": {
        "id": "ELZ0IMoUUhXT"
      },
      "execution_count": 3,
      "outputs": []
    },
    {
      "cell_type": "code",
      "source": [
        "# testing if file read correctly\n",
        "X_train_oversampled.info()"
      ],
      "metadata": {
        "colab": {
          "base_uri": "https://localhost:8080/"
        },
        "id": "YB7W4PTEazvq",
        "outputId": "69d312c8-ff00-4475-8814-fe96c11aa26b"
      },
      "execution_count": 4,
      "outputs": [
        {
          "output_type": "stream",
          "name": "stdout",
          "text": [
            "<class 'pandas.core.frame.DataFrame'>\n",
            "RangeIndex: 7236 entries, 0 to 7235\n",
            "Data columns (total 92 columns):\n",
            " #   Column                                                Non-Null Count  Dtype  \n",
            "---  ------                                                --------------  -----  \n",
            " 0   industry                                              7236 non-null   float64\n",
            " 1   sector                                                7236 non-null   float64\n",
            " 2   symbol                                                7236 non-null   float64\n",
            " 3   year                                                  7236 non-null   float64\n",
            " 4   adjDividend                                           7236 non-null   float64\n",
            " 5   dps_growth                                            7236 non-null   float64\n",
            " 6   dps_growth_rate                                       7236 non-null   float64\n",
            " 7   interestRate                                          7236 non-null   float64\n",
            " 8   interestRate_percentage_change                        7236 non-null   float64\n",
            " 9   currentRatio                                          7236 non-null   float64\n",
            " 10  currentRatio_percentage_change                        7236 non-null   float64\n",
            " 11  quickRatio                                            7236 non-null   float64\n",
            " 12  daysOfSalesOutstanding                                7236 non-null   float64\n",
            " 13  daysOfSalesOutstanding_percentage_change              7236 non-null   float64\n",
            " 14  daysOfInventoryOutstanding                            7236 non-null   float64\n",
            " 15  daysOfInventoryOutstanding_percentage_change          7236 non-null   float64\n",
            " 16  operatingCycle_percentage_change                      7236 non-null   float64\n",
            " 17  daysOfPayablesOutstanding                             7236 non-null   float64\n",
            " 18  grossProfitMargin                                     7236 non-null   float64\n",
            " 19  grossProfitMargin_percentage_change                   7236 non-null   float64\n",
            " 20  operatingProfitMargin                                 7236 non-null   float64\n",
            " 21  operatingProfitMargin_percentage_change               7236 non-null   float64\n",
            " 22  pretaxProfitMargin                                    7236 non-null   float64\n",
            " 23  pretaxProfitMargin_percentage_change                  7236 non-null   float64\n",
            " 24  netProfitMargin                                       7236 non-null   float64\n",
            " 25  netProfitMargin_percentage_change                     7236 non-null   float64\n",
            " 26  effectiveTaxRate                                      7236 non-null   float64\n",
            " 27  effectiveTaxRate_percentage_change                    7236 non-null   float64\n",
            " 28  returnOnAssets                                        7236 non-null   float64\n",
            " 29  returnOnAssets_percentage_change                      7236 non-null   float64\n",
            " 30  returnOnEquity                                        7236 non-null   float64\n",
            " 31  returnOnEquity_percentage_change                      7236 non-null   float64\n",
            " 32  returnOnCapitalEmployed                               7236 non-null   float64\n",
            " 33  netIncomePerEBT                                       7236 non-null   float64\n",
            " 34  netIncomePerEBT_percentage_change                     7236 non-null   float64\n",
            " 35  ebtPerEbit                                            7236 non-null   float64\n",
            " 36  ebtPerEbit_percentage_change                          7236 non-null   float64\n",
            " 37  debtRatio                                             7236 non-null   float64\n",
            " 38  debtRatio_percentage_change                           7236 non-null   float64\n",
            " 39  debtEquityRatio                                       7236 non-null   float64\n",
            " 40  debtEquityRatio_percentage_change                     7236 non-null   float64\n",
            " 41  longTermDebtToCapitalization                          7236 non-null   float64\n",
            " 42  longTermDebtToCapitalization_percentage_change        7236 non-null   float64\n",
            " 43  totalDebtToCapitalization                             7236 non-null   float64\n",
            " 44  interestCoverage                                      7236 non-null   float64\n",
            " 45  interestCoverage_percentage_change                    7236 non-null   float64\n",
            " 46  cashFlowToDebtRatio                                   7236 non-null   float64\n",
            " 47  cashFlowToDebtRatio_percentage_change                 7236 non-null   float64\n",
            " 48  companyEquityMultiplier                               7236 non-null   float64\n",
            " 49  companyEquityMultiplier_percentage_change             7236 non-null   float64\n",
            " 50  receivablesTurnover                                   7236 non-null   float64\n",
            " 51  receivablesTurnover_percentage_change                 7236 non-null   float64\n",
            " 52  payablesTurnover                                      7236 non-null   float64\n",
            " 53  payablesTurnover_percentage_change                    7236 non-null   float64\n",
            " 54  inventoryTurnover                                     7236 non-null   float64\n",
            " 55  inventoryTurnover_percentage_change                   7236 non-null   float64\n",
            " 56  fixedAssetTurnover                                    7236 non-null   float64\n",
            " 57  fixedAssetTurnover_percentage_change                  7236 non-null   float64\n",
            " 58  assetTurnover                                         7236 non-null   float64\n",
            " 59  assetTurnover_percentage_change                       7236 non-null   float64\n",
            " 60  operatingCashFlowPerShare                             7236 non-null   float64\n",
            " 61  operatingCashFlowPerShare_percentage_change           7236 non-null   float64\n",
            " 62  freeCashFlowPerShare                                  7236 non-null   float64\n",
            " 63  freeCashFlowPerShare_percentage_change                7236 non-null   float64\n",
            " 64  cashPerShare                                          7236 non-null   float64\n",
            " 65  cashPerShare_percentage_change                        7236 non-null   float64\n",
            " 66  payoutRatio                                           7236 non-null   float64\n",
            " 67  payoutRatio_percentage_change                         7236 non-null   float64\n",
            " 68  operatingCashFlowSalesRatio                           7236 non-null   float64\n",
            " 69  freeCashFlowOperatingCashFlowRatio                    7236 non-null   float64\n",
            " 70  freeCashFlowOperatingCashFlowRatio_percentage_change  7236 non-null   float64\n",
            " 71  shortTermCoverageRatios                               7236 non-null   float64\n",
            " 72  shortTermCoverageRatios_percentage_change             7236 non-null   float64\n",
            " 73  capitalExpenditureCoverageRatio                       7236 non-null   float64\n",
            " 74  capitalExpenditureCoverageRatio_percentage_change     7236 non-null   float64\n",
            " 75  dividendPaidAndCapexCoverageRatio                     7236 non-null   float64\n",
            " 76  dividendPaidAndCapexCoverageRatio_percentage_change   7236 non-null   float64\n",
            " 77  priceBookValueRatio                                   7236 non-null   float64\n",
            " 78  priceToSalesRatio                                     7236 non-null   float64\n",
            " 79  priceToSalesRatio_percentage_change                   7236 non-null   float64\n",
            " 80  priceEarningsRatio                                    7236 non-null   float64\n",
            " 81  priceEarningsRatio_percentage_change                  7236 non-null   float64\n",
            " 82  priceToFreeCashFlowsRatio                             7236 non-null   float64\n",
            " 83  priceToFreeCashFlowsRatio_percentage_change           7236 non-null   float64\n",
            " 84  priceToOperatingCashFlowsRatio                        7236 non-null   float64\n",
            " 85  priceToOperatingCashFlowsRatio_percentage_change      7236 non-null   float64\n",
            " 86  priceEarningsToGrowthRatio                            7236 non-null   float64\n",
            " 87  priceEarningsToGrowthRatio_percentage_change          7236 non-null   float64\n",
            " 88  dividendYield                                         7236 non-null   float64\n",
            " 89  dividendYield_percentage_change                       7236 non-null   float64\n",
            " 90  enterpriseValueMultiple                               7236 non-null   float64\n",
            " 91  enterpriseValueMultiple_percentage_change             7236 non-null   float64\n",
            "dtypes: float64(92)\n",
            "memory usage: 5.1 MB\n"
          ]
        }
      ]
    },
    {
      "cell_type": "code",
      "source": [
        "# using only top 8 features\n",
        "cols = ['dps_growth_rate','dps_growth','interestRate','year','dividendYield','interestRate_percentage_change','freeCashFlowPerShare','adjDividend']\n",
        "X_train_oversampled = X_train_oversampled[cols]\n",
        "X_validate_transformed = X_validate_transformed[cols]\n",
        "X_test_transformed = X_test_transformed[cols]\n",
        "X_test_transformed.info()"
      ],
      "metadata": {
        "colab": {
          "base_uri": "https://localhost:8080/"
        },
        "id": "uuBc3QEEbaVe",
        "outputId": "2894cdf7-a8e7-408e-9105-93a697becb7f"
      },
      "execution_count": 5,
      "outputs": [
        {
          "output_type": "stream",
          "name": "stdout",
          "text": [
            "<class 'pandas.core.frame.DataFrame'>\n",
            "RangeIndex: 479 entries, 0 to 478\n",
            "Data columns (total 8 columns):\n",
            " #   Column                          Non-Null Count  Dtype  \n",
            "---  ------                          --------------  -----  \n",
            " 0   dps_growth_rate                 479 non-null    float64\n",
            " 1   dps_growth                      479 non-null    float64\n",
            " 2   interestRate                    479 non-null    float64\n",
            " 3   year                            479 non-null    float64\n",
            " 4   dividendYield                   479 non-null    float64\n",
            " 5   interestRate_percentage_change  479 non-null    float64\n",
            " 6   freeCashFlowPerShare            479 non-null    float64\n",
            " 7   adjDividend                     479 non-null    float64\n",
            "dtypes: float64(8)\n",
            "memory usage: 30.1 KB\n"
          ]
        }
      ]
    },
    {
      "cell_type": "code",
      "source": [
        "# Logistic Regression\n",
        "def objective_function(trial):\n",
        "    C = trial.suggest_float('C', 0.1, 10, log=True)\n",
        "    penalty = trial.suggest_categorical('penalty', ['l1', 'l2'])\n",
        "\n",
        "    model = LogisticRegression(\n",
        "        C=C,\n",
        "        penalty=penalty,\n",
        "        solver='liblinear',\n",
        "        n_jobs=-1\n",
        "    )\n",
        "    metrics = ['roc_auc','accuracy','precison','recall','f1-score']\n",
        "    # Using cross_val_score to get the average precision score for each fold\n",
        "    scores = cross_val_score(model, X_train_oversampled, y_train_oversampled, cv=5, scoring='roc_auc')\n",
        "    roc_auc = np.mean(scores)\n",
        "    # Printing intermediate results\n",
        "    print(f\"Trial {trial.number}, C: {C}, penalty: {penalty}, ROC-AUC: {roc_auc}\")\n",
        "    return roc_auc\n",
        "\n",
        "\n",
        "study_lr = optuna.create_study(direction=\"maximize\")\n",
        "study_lr.optimize(objective_function, n_trials=100)\n",
        "\n",
        "best_params_lr = study_lr.best_params\n",
        "print(\"Best Parameters: \", best_params_lr)\n",
        "print(\"Best ROC-AUC Score: \", study_lr.best_value)\n",
        "\n",
        "# Create and save model\n",
        "best_model_lr = LogisticRegression(**best_params_lr, solver='liblinear', n_jobs=-1)\n",
        "with open('best_models_lr_8_features.pkl', 'wb') as file:\n",
        "    pickle.dump(best_model_lr, file)"
      ],
      "metadata": {
        "colab": {
          "base_uri": "https://localhost:8080/"
        },
        "id": "PlslFrWSfaDY",
        "outputId": "a49dc9a3-5a2e-4481-888d-33f15c9f9c48"
      },
      "execution_count": 6,
      "outputs": [
        {
          "output_type": "stream",
          "name": "stderr",
          "text": [
            "[I 2024-05-13 19:37:30,581] A new study created in memory with name: no-name-8399fe2c-8fce-48b4-ad07-e10291406f63\n",
            "[I 2024-05-13 19:37:31,268] Trial 0 finished with value: 0.7162263290996873 and parameters: {'C': 0.586202521120192, 'penalty': 'l2'}. Best is trial 0 with value: 0.7162263290996873.\n"
          ]
        },
        {
          "output_type": "stream",
          "name": "stdout",
          "text": [
            "Trial 0, C: 0.586202521120192, penalty: l2, ROC-AUC: 0.7162263290996873\n"
          ]
        },
        {
          "output_type": "stream",
          "name": "stderr",
          "text": [
            "[I 2024-05-13 19:37:32,242] Trial 1 finished with value: 0.7463089245456522 and parameters: {'C': 3.9640007504045256, 'penalty': 'l1'}. Best is trial 1 with value: 0.7463089245456522.\n"
          ]
        },
        {
          "output_type": "stream",
          "name": "stdout",
          "text": [
            "Trial 1, C: 3.9640007504045256, penalty: l1, ROC-AUC: 0.7463089245456522\n"
          ]
        },
        {
          "output_type": "stream",
          "name": "stderr",
          "text": [
            "[I 2024-05-13 19:37:33,141] Trial 2 finished with value: 0.7312900209248396 and parameters: {'C': 0.18182473561720253, 'penalty': 'l1'}. Best is trial 1 with value: 0.7463089245456522.\n"
          ]
        },
        {
          "output_type": "stream",
          "name": "stdout",
          "text": [
            "Trial 2, C: 0.18182473561720253, penalty: l1, ROC-AUC: 0.7312900209248396\n"
          ]
        },
        {
          "output_type": "stream",
          "name": "stderr",
          "text": [
            "[I 2024-05-13 19:37:34,273] Trial 3 finished with value: 0.6972003559413892 and parameters: {'C': 0.10444167165828577, 'penalty': 'l2'}. Best is trial 1 with value: 0.7463089245456522.\n"
          ]
        },
        {
          "output_type": "stream",
          "name": "stdout",
          "text": [
            "Trial 3, C: 0.10444167165828577, penalty: l2, ROC-AUC: 0.6972003559413892\n"
          ]
        },
        {
          "output_type": "stream",
          "name": "stderr",
          "text": [
            "[I 2024-05-13 19:37:35,755] Trial 4 finished with value: 0.7289977925123753 and parameters: {'C': 1.5291776039489207, 'penalty': 'l2'}. Best is trial 1 with value: 0.7463089245456522.\n"
          ]
        },
        {
          "output_type": "stream",
          "name": "stdout",
          "text": [
            "Trial 4, C: 1.5291776039489207, penalty: l2, ROC-AUC: 0.7289977925123753\n"
          ]
        },
        {
          "output_type": "stream",
          "name": "stderr",
          "text": [
            "[I 2024-05-13 19:37:36,453] Trial 5 finished with value: 0.7179325291183226 and parameters: {'C': 0.10691299494623838, 'penalty': 'l1'}. Best is trial 1 with value: 0.7463089245456522.\n"
          ]
        },
        {
          "output_type": "stream",
          "name": "stdout",
          "text": [
            "Trial 5, C: 0.10691299494623838, penalty: l1, ROC-AUC: 0.7179325291183226\n"
          ]
        },
        {
          "output_type": "stream",
          "name": "stderr",
          "text": [
            "[I 2024-05-13 19:37:37,365] Trial 6 finished with value: 0.7233853981366283 and parameters: {'C': 0.9755115211319484, 'penalty': 'l2'}. Best is trial 1 with value: 0.7463089245456522.\n"
          ]
        },
        {
          "output_type": "stream",
          "name": "stdout",
          "text": [
            "Trial 6, C: 0.9755115211319484, penalty: l2, ROC-AUC: 0.7233853981366283\n"
          ]
        },
        {
          "output_type": "stream",
          "name": "stderr",
          "text": [
            "[I 2024-05-13 19:37:37,984] Trial 7 finished with value: 0.7016198818358519 and parameters: {'C': 0.17373470135596916, 'penalty': 'l2'}. Best is trial 1 with value: 0.7463089245456522.\n"
          ]
        },
        {
          "output_type": "stream",
          "name": "stdout",
          "text": [
            "Trial 7, C: 0.17373470135596916, penalty: l2, ROC-AUC: 0.7016198818358519\n"
          ]
        },
        {
          "output_type": "stream",
          "name": "stderr",
          "text": [
            "[I 2024-05-13 19:37:38,855] Trial 8 finished with value: 0.7399092379855057 and parameters: {'C': 5.628038750447132, 'penalty': 'l2'}. Best is trial 1 with value: 0.7463089245456522.\n"
          ]
        },
        {
          "output_type": "stream",
          "name": "stdout",
          "text": [
            "Trial 8, C: 5.628038750447132, penalty: l2, ROC-AUC: 0.7399092379855057\n"
          ]
        },
        {
          "output_type": "stream",
          "name": "stderr",
          "text": [
            "[I 2024-05-13 19:37:40,579] Trial 9 finished with value: 0.7465174800283524 and parameters: {'C': 6.284087569617021, 'penalty': 'l1'}. Best is trial 9 with value: 0.7465174800283524.\n"
          ]
        },
        {
          "output_type": "stream",
          "name": "stdout",
          "text": [
            "Trial 9, C: 6.284087569617021, penalty: l1, ROC-AUC: 0.7465174800283524\n"
          ]
        },
        {
          "output_type": "stream",
          "name": "stderr",
          "text": [
            "[I 2024-05-13 19:37:44,220] Trial 10 finished with value: 0.7466297690262977 and parameters: {'C': 9.127941383154996, 'penalty': 'l1'}. Best is trial 10 with value: 0.7466297690262977.\n"
          ]
        },
        {
          "output_type": "stream",
          "name": "stdout",
          "text": [
            "Trial 10, C: 9.127941383154996, penalty: l1, ROC-AUC: 0.7466297690262977\n"
          ]
        },
        {
          "output_type": "stream",
          "name": "stderr",
          "text": [
            "[I 2024-05-13 19:37:47,966] Trial 11 finished with value: 0.7466599316277075 and parameters: {'C': 9.989390173920432, 'penalty': 'l1'}. Best is trial 11 with value: 0.7466599316277075.\n"
          ]
        },
        {
          "output_type": "stream",
          "name": "stdout",
          "text": [
            "Trial 11, C: 9.989390173920432, penalty: l1, ROC-AUC: 0.7466599316277075\n"
          ]
        },
        {
          "output_type": "stream",
          "name": "stderr",
          "text": [
            "[I 2024-05-13 19:37:52,103] Trial 12 finished with value: 0.7466465757512928 and parameters: {'C': 9.419849627555488, 'penalty': 'l1'}. Best is trial 11 with value: 0.7466599316277075.\n"
          ]
        },
        {
          "output_type": "stream",
          "name": "stdout",
          "text": [
            "Trial 12, C: 9.419849627555488, penalty: l1, ROC-AUC: 0.7466465757512928\n"
          ]
        },
        {
          "output_type": "stream",
          "name": "stderr",
          "text": [
            "[I 2024-05-13 19:37:55,308] Trial 13 finished with value: 0.7459640243942858 and parameters: {'C': 2.585121206890998, 'penalty': 'l1'}. Best is trial 11 with value: 0.7466599316277075.\n"
          ]
        },
        {
          "output_type": "stream",
          "name": "stdout",
          "text": [
            "Trial 13, C: 2.585121206890998, penalty: l1, ROC-AUC: 0.7459640243942858\n"
          ]
        },
        {
          "output_type": "stream",
          "name": "stderr",
          "text": [
            "[I 2024-05-13 19:37:57,517] Trial 14 finished with value: 0.7466477172385966 and parameters: {'C': 9.469817899844847, 'penalty': 'l1'}. Best is trial 11 with value: 0.7466599316277075.\n"
          ]
        },
        {
          "output_type": "stream",
          "name": "stdout",
          "text": [
            "Trial 14, C: 9.469817899844847, penalty: l1, ROC-AUC: 0.7466477172385966\n"
          ]
        },
        {
          "output_type": "stream",
          "name": "stderr",
          "text": [
            "[I 2024-05-13 19:37:59,042] Trial 15 finished with value: 0.7459613466751087 and parameters: {'C': 2.5561253267039965, 'penalty': 'l1'}. Best is trial 11 with value: 0.7466599316277075.\n"
          ]
        },
        {
          "output_type": "stream",
          "name": "stdout",
          "text": [
            "Trial 15, C: 2.5561253267039965, penalty: l1, ROC-AUC: 0.7459613466751087\n"
          ]
        },
        {
          "output_type": "stream",
          "name": "stderr",
          "text": [
            "[I 2024-05-13 19:38:00,014] Trial 16 finished with value: 0.746276843105668 and parameters: {'C': 3.731460822350199, 'penalty': 'l1'}. Best is trial 11 with value: 0.7466599316277075.\n"
          ]
        },
        {
          "output_type": "stream",
          "name": "stdout",
          "text": [
            "Trial 16, C: 3.731460822350199, penalty: l1, ROC-AUC: 0.746276843105668\n"
          ]
        },
        {
          "output_type": "stream",
          "name": "stderr",
          "text": [
            "[I 2024-05-13 19:38:01,048] Trial 17 finished with value: 0.7433965212786533 and parameters: {'C': 0.7150736579678689, 'penalty': 'l1'}. Best is trial 11 with value: 0.7466599316277075.\n"
          ]
        },
        {
          "output_type": "stream",
          "name": "stdout",
          "text": [
            "Trial 17, C: 0.7150736579678689, penalty: l1, ROC-AUC: 0.7433965212786533\n"
          ]
        },
        {
          "output_type": "stream",
          "name": "stderr",
          "text": [
            "[I 2024-05-13 19:38:02,008] Trial 18 finished with value: 0.7408511565783675 and parameters: {'C': 0.4290038529258093, 'penalty': 'l1'}. Best is trial 11 with value: 0.7466599316277075.\n"
          ]
        },
        {
          "output_type": "stream",
          "name": "stdout",
          "text": [
            "Trial 18, C: 0.4290038529258093, penalty: l1, ROC-AUC: 0.7408511565783675\n"
          ]
        },
        {
          "output_type": "stream",
          "name": "stderr",
          "text": [
            "[I 2024-05-13 19:38:04,270] Trial 19 finished with value: 0.7454342323250375 and parameters: {'C': 1.690406787818459, 'penalty': 'l1'}. Best is trial 11 with value: 0.7466599316277075.\n"
          ]
        },
        {
          "output_type": "stream",
          "name": "stdout",
          "text": [
            "Trial 19, C: 1.690406787818459, penalty: l1, ROC-AUC: 0.7454342323250375\n"
          ]
        },
        {
          "output_type": "stream",
          "name": "stderr",
          "text": [
            "[I 2024-05-13 19:38:07,422] Trial 20 finished with value: 0.746497621421213 and parameters: {'C': 5.916443050741599, 'penalty': 'l1'}. Best is trial 11 with value: 0.7466599316277075.\n"
          ]
        },
        {
          "output_type": "stream",
          "name": "stdout",
          "text": [
            "Trial 20, C: 5.916443050741599, penalty: l1, ROC-AUC: 0.746497621421213\n"
          ]
        },
        {
          "output_type": "stream",
          "name": "stderr",
          "text": [
            "[I 2024-05-13 19:38:09,995] Trial 21 finished with value: 0.7466561171708272 and parameters: {'C': 9.933934650279276, 'penalty': 'l1'}. Best is trial 11 with value: 0.7466599316277075.\n"
          ]
        },
        {
          "output_type": "stream",
          "name": "stdout",
          "text": [
            "Trial 21, C: 9.933934650279276, penalty: l1, ROC-AUC: 0.7466561171708272\n"
          ]
        },
        {
          "output_type": "stream",
          "name": "stderr",
          "text": [
            "[I 2024-05-13 19:38:12,246] Trial 22 finished with value: 0.74662403995271 and parameters: {'C': 8.415284128612047, 'penalty': 'l1'}. Best is trial 11 with value: 0.7466599316277075.\n"
          ]
        },
        {
          "output_type": "stream",
          "name": "stdout",
          "text": [
            "Trial 22, C: 8.415284128612047, penalty: l1, ROC-AUC: 0.74662403995271\n"
          ]
        },
        {
          "output_type": "stream",
          "name": "stderr",
          "text": [
            "[I 2024-05-13 19:38:13,777] Trial 23 finished with value: 0.7463253518303461 and parameters: {'C': 4.163678004133044, 'penalty': 'l1'}. Best is trial 11 with value: 0.7466599316277075.\n"
          ]
        },
        {
          "output_type": "stream",
          "name": "stdout",
          "text": [
            "Trial 23, C: 4.163678004133044, penalty: l1, ROC-AUC: 0.7463253518303461\n"
          ]
        },
        {
          "output_type": "stream",
          "name": "stderr",
          "text": [
            "[I 2024-05-13 19:38:16,936] Trial 24 finished with value: 0.7466614562494461 and parameters: {'C': 9.89676911760343, 'penalty': 'l1'}. Best is trial 24 with value: 0.7466614562494461.\n"
          ]
        },
        {
          "output_type": "stream",
          "name": "stdout",
          "text": [
            "Trial 24, C: 9.89676911760343, penalty: l1, ROC-AUC: 0.7466614562494461\n"
          ]
        },
        {
          "output_type": "stream",
          "name": "stderr",
          "text": [
            "[I 2024-05-13 19:38:18,172] Trial 25 finished with value: 0.7465010453553911 and parameters: {'C': 5.9880755638997, 'penalty': 'l1'}. Best is trial 24 with value: 0.7466614562494461.\n"
          ]
        },
        {
          "output_type": "stream",
          "name": "stdout",
          "text": [
            "Trial 25, C: 5.9880755638997, penalty: l1, ROC-AUC: 0.7465010453553911\n"
          ]
        },
        {
          "output_type": "stream",
          "name": "stderr",
          "text": [
            "[I 2024-05-13 19:38:19,645] Trial 26 finished with value: 0.745957141167793 and parameters: {'C': 2.5572298712127366, 'penalty': 'l1'}. Best is trial 24 with value: 0.7466614562494461.\n"
          ]
        },
        {
          "output_type": "stream",
          "name": "stdout",
          "text": [
            "Trial 26, C: 2.5572298712127366, penalty: l1, ROC-AUC: 0.745957141167793\n"
          ]
        },
        {
          "output_type": "stream",
          "name": "stderr",
          "text": [
            "[I 2024-05-13 19:38:20,820] Trial 27 finished with value: 0.7463433010981119 and parameters: {'C': 4.309247331329187, 'penalty': 'l1'}. Best is trial 24 with value: 0.7466614562494461.\n"
          ]
        },
        {
          "output_type": "stream",
          "name": "stdout",
          "text": [
            "Trial 27, C: 4.309247331329187, penalty: l1, ROC-AUC: 0.7463433010981119\n"
          ]
        },
        {
          "output_type": "stream",
          "name": "stderr",
          "text": [
            "[I 2024-05-13 19:38:22,993] Trial 28 finished with value: 0.7465835554140948 and parameters: {'C': 7.243218945516624, 'penalty': 'l1'}. Best is trial 24 with value: 0.7466614562494461.\n"
          ]
        },
        {
          "output_type": "stream",
          "name": "stdout",
          "text": [
            "Trial 28, C: 7.243218945516624, penalty: l1, ROC-AUC: 0.7465835554140948\n"
          ]
        },
        {
          "output_type": "stream",
          "name": "stderr",
          "text": [
            "[I 2024-05-13 19:38:23,480] Trial 29 finished with value: 0.7132197275350548 and parameters: {'C': 0.4600165945601079, 'penalty': 'l2'}. Best is trial 24 with value: 0.7466614562494461.\n"
          ]
        },
        {
          "output_type": "stream",
          "name": "stdout",
          "text": [
            "Trial 29, C: 0.4600165945601079, penalty: l2, ROC-AUC: 0.7132197275350548\n"
          ]
        },
        {
          "output_type": "stream",
          "name": "stderr",
          "text": [
            "[I 2024-05-13 19:38:25,637] Trial 30 finished with value: 0.7455373614546831 and parameters: {'C': 1.8116676375124618, 'penalty': 'l1'}. Best is trial 24 with value: 0.7466614562494461.\n"
          ]
        },
        {
          "output_type": "stream",
          "name": "stdout",
          "text": [
            "Trial 30, C: 1.8116676375124618, penalty: l1, ROC-AUC: 0.7455373614546831\n"
          ]
        },
        {
          "output_type": "stream",
          "name": "stderr",
          "text": [
            "[I 2024-05-13 19:38:27,016] Trial 31 finished with value: 0.7466442780001505 and parameters: {'C': 9.42378151265696, 'penalty': 'l1'}. Best is trial 24 with value: 0.7466614562494461.\n"
          ]
        },
        {
          "output_type": "stream",
          "name": "stdout",
          "text": [
            "Trial 31, C: 9.42378151265696, penalty: l1, ROC-AUC: 0.7466442780001505\n"
          ]
        },
        {
          "output_type": "stream",
          "name": "stderr",
          "text": [
            "[I 2024-05-13 19:38:28,281] Trial 32 finished with value: 0.7464193142311581 and parameters: {'C': 4.799892165040075, 'penalty': 'l1'}. Best is trial 24 with value: 0.7466614562494461.\n"
          ]
        },
        {
          "output_type": "stream",
          "name": "stdout",
          "text": [
            "Trial 32, C: 4.799892165040075, penalty: l1, ROC-AUC: 0.7464193142311581\n"
          ]
        },
        {
          "output_type": "stream",
          "name": "stderr",
          "text": [
            "[I 2024-05-13 19:38:30,442] Trial 33 finished with value: 0.7461863246929025 and parameters: {'C': 3.3287220494542864, 'penalty': 'l1'}. Best is trial 24 with value: 0.7466614562494461.\n"
          ]
        },
        {
          "output_type": "stream",
          "name": "stdout",
          "text": [
            "Trial 33, C: 3.3287220494542864, penalty: l1, ROC-AUC: 0.7461863246929025\n"
          ]
        },
        {
          "output_type": "stream",
          "name": "stderr",
          "text": [
            "[I 2024-05-13 19:38:32,174] Trial 34 finished with value: 0.7465728556197885 and parameters: {'C': 7.3040895608220096, 'penalty': 'l1'}. Best is trial 24 with value: 0.7466614562494461.\n"
          ]
        },
        {
          "output_type": "stream",
          "name": "stdout",
          "text": [
            "Trial 34, C: 7.3040895608220096, penalty: l1, ROC-AUC: 0.7465728556197885\n"
          ]
        },
        {
          "output_type": "stream",
          "name": "stderr",
          "text": [
            "[I 2024-05-13 19:38:34,422] Trial 35 finished with value: 0.7466393125567656 and parameters: {'C': 9.430272736137761, 'penalty': 'l1'}. Best is trial 24 with value: 0.7466614562494461.\n"
          ]
        },
        {
          "output_type": "stream",
          "name": "stdout",
          "text": [
            "Trial 35, C: 9.430272736137761, penalty: l1, ROC-AUC: 0.7466393125567656\n"
          ]
        },
        {
          "output_type": "stream",
          "name": "stderr",
          "text": [
            "[I 2024-05-13 19:38:34,942] Trial 36 finished with value: 0.7414262951938729 and parameters: {'C': 7.15172358106136, 'penalty': 'l2'}. Best is trial 24 with value: 0.7466614562494461.\n"
          ]
        },
        {
          "output_type": "stream",
          "name": "stdout",
          "text": [
            "Trial 36, C: 7.15172358106136, penalty: l2, ROC-AUC: 0.7414262951938729\n"
          ]
        },
        {
          "output_type": "stream",
          "name": "stderr",
          "text": [
            "[I 2024-05-13 19:38:35,451] Trial 37 finished with value: 0.746391431965689 and parameters: {'C': 4.648691374165525, 'penalty': 'l1'}. Best is trial 24 with value: 0.7466614562494461.\n"
          ]
        },
        {
          "output_type": "stream",
          "name": "stdout",
          "text": [
            "Trial 37, C: 4.648691374165525, penalty: l1, ROC-AUC: 0.746391431965689\n"
          ]
        },
        {
          "output_type": "stream",
          "name": "stderr",
          "text": [
            "[I 2024-05-13 19:38:37,654] Trial 38 finished with value: 0.7461832706998248 and parameters: {'C': 3.2871608239162904, 'penalty': 'l1'}. Best is trial 24 with value: 0.7466614562494461.\n"
          ]
        },
        {
          "output_type": "stream",
          "name": "stdout",
          "text": [
            "Trial 38, C: 3.2871608239162904, penalty: l1, ROC-AUC: 0.7461832706998248\n"
          ]
        },
        {
          "output_type": "stream",
          "name": "stderr",
          "text": [
            "[I 2024-05-13 19:38:38,193] Trial 39 finished with value: 0.7391135522016763 and parameters: {'C': 5.350810252410025, 'penalty': 'l2'}. Best is trial 24 with value: 0.7466614562494461.\n"
          ]
        },
        {
          "output_type": "stream",
          "name": "stdout",
          "text": [
            "Trial 39, C: 5.350810252410025, penalty: l2, ROC-AUC: 0.7391135522016763\n"
          ]
        },
        {
          "output_type": "stream",
          "name": "stderr",
          "text": [
            "[I 2024-05-13 19:38:38,643] Trial 40 finished with value: 0.7349404102464207 and parameters: {'C': 0.2308035423464287, 'penalty': 'l1'}. Best is trial 24 with value: 0.7466614562494461.\n"
          ]
        },
        {
          "output_type": "stream",
          "name": "stdout",
          "text": [
            "Trial 40, C: 0.2308035423464287, penalty: l1, ROC-AUC: 0.7349404102464207\n"
          ]
        },
        {
          "output_type": "stream",
          "name": "stderr",
          "text": [
            "[I 2024-05-13 19:38:41,372] Trial 41 finished with value: 0.7466484824519997 and parameters: {'C': 9.490486842331618, 'penalty': 'l1'}. Best is trial 24 with value: 0.7466614562494461.\n"
          ]
        },
        {
          "output_type": "stream",
          "name": "stdout",
          "text": [
            "Trial 41, C: 9.490486842331618, penalty: l1, ROC-AUC: 0.7466484824519997\n"
          ]
        },
        {
          "output_type": "stream",
          "name": "stderr",
          "text": [
            "[I 2024-05-13 19:38:43,171] Trial 42 finished with value: 0.7465934826067311 and parameters: {'C': 7.559425086340331, 'penalty': 'l1'}. Best is trial 24 with value: 0.7466614562494461.\n"
          ]
        },
        {
          "output_type": "stream",
          "name": "stdout",
          "text": [
            "Trial 42, C: 7.559425086340331, penalty: l1, ROC-AUC: 0.7465934826067311\n"
          ]
        },
        {
          "output_type": "stream",
          "name": "stderr",
          "text": [
            "[I 2024-05-13 19:38:45,744] Trial 43 finished with value: 0.74665230007528 and parameters: {'C': 9.566911168485243, 'penalty': 'l1'}. Best is trial 24 with value: 0.7466614562494461.\n"
          ]
        },
        {
          "output_type": "stream",
          "name": "stdout",
          "text": [
            "Trial 43, C: 9.566911168485243, penalty: l1, ROC-AUC: 0.74665230007528\n"
          ]
        },
        {
          "output_type": "stream",
          "name": "stderr",
          "text": [
            "[I 2024-05-13 19:38:48,019] Trial 44 finished with value: 0.7465602591517094 and parameters: {'C': 6.779062266739337, 'penalty': 'l1'}. Best is trial 24 with value: 0.7466614562494461.\n"
          ]
        },
        {
          "output_type": "stream",
          "name": "stdout",
          "text": [
            "Trial 44, C: 6.779062266739337, penalty: l1, ROC-AUC: 0.7465602591517094\n"
          ]
        },
        {
          "output_type": "stream",
          "name": "stderr",
          "text": [
            "[I 2024-05-13 19:38:48,539] Trial 45 finished with value: 0.7417405588392534 and parameters: {'C': 7.971611140489147, 'penalty': 'l2'}. Best is trial 24 with value: 0.7466614562494461.\n"
          ]
        },
        {
          "output_type": "stream",
          "name": "stdout",
          "text": [
            "Trial 45, C: 7.971611140489147, penalty: l2, ROC-AUC: 0.7417405588392534\n"
          ]
        },
        {
          "output_type": "stream",
          "name": "stderr",
          "text": [
            "[I 2024-05-13 19:38:50,801] Trial 46 finished with value: 0.7466641371350233 and parameters: {'C': 9.936392598186321, 'penalty': 'l1'}. Best is trial 46 with value: 0.7466641371350233.\n"
          ]
        },
        {
          "output_type": "stream",
          "name": "stdout",
          "text": [
            "Trial 46, C: 9.936392598186321, penalty: l1, ROC-AUC: 0.7466641371350233\n"
          ]
        },
        {
          "output_type": "stream",
          "name": "stderr",
          "text": [
            "[I 2024-05-13 19:38:51,842] Trial 47 finished with value: 0.7464724158194541 and parameters: {'C': 5.54790470422908, 'penalty': 'l1'}. Best is trial 46 with value: 0.7466641371350233.\n"
          ]
        },
        {
          "output_type": "stream",
          "name": "stdout",
          "text": [
            "Trial 47, C: 5.54790470422908, penalty: l1, ROC-AUC: 0.7464724158194541\n"
          ]
        },
        {
          "output_type": "stream",
          "name": "stderr",
          "text": [
            "[I 2024-05-13 19:38:54,325] Trial 48 finished with value: 0.7465476537121631 and parameters: {'C': 6.62173203436565, 'penalty': 'l1'}. Best is trial 46 with value: 0.7466641371350233.\n"
          ]
        },
        {
          "output_type": "stream",
          "name": "stdout",
          "text": [
            "Trial 48, C: 6.62173203436565, penalty: l1, ROC-AUC: 0.7465476537121631\n"
          ]
        },
        {
          "output_type": "stream",
          "name": "stderr",
          "text": [
            "[I 2024-05-13 19:38:54,810] Trial 49 finished with value: 0.7275444480274023 and parameters: {'C': 1.3895702943060093, 'penalty': 'l2'}. Best is trial 46 with value: 0.7466641371350233.\n"
          ]
        },
        {
          "output_type": "stream",
          "name": "stdout",
          "text": [
            "Trial 49, C: 1.3895702943060093, penalty: l2, ROC-AUC: 0.7275444480274023\n"
          ]
        },
        {
          "output_type": "stream",
          "name": "stderr",
          "text": [
            "[I 2024-05-13 19:38:58,272] Trial 50 finished with value: 0.746652676349181 and parameters: {'C': 9.88884759204062, 'penalty': 'l1'}. Best is trial 46 with value: 0.7466641371350233.\n"
          ]
        },
        {
          "output_type": "stream",
          "name": "stdout",
          "text": [
            "Trial 50, C: 9.88884759204062, penalty: l1, ROC-AUC: 0.746652676349181\n"
          ]
        },
        {
          "output_type": "stream",
          "name": "stderr",
          "text": [
            "[I 2024-05-13 19:39:00,959] Trial 51 finished with value: 0.7466671942945013 and parameters: {'C': 9.898434526891652, 'penalty': 'l1'}. Best is trial 51 with value: 0.7466671942945013.\n"
          ]
        },
        {
          "output_type": "stream",
          "name": "stdout",
          "text": [
            "Trial 51, C: 9.898434526891652, penalty: l1, ROC-AUC: 0.7466671942945013\n"
          ]
        },
        {
          "output_type": "stream",
          "name": "stderr",
          "text": [
            "[I 2024-05-13 19:39:04,072] Trial 52 finished with value: 0.7466118187030653 and parameters: {'C': 7.936109088005687, 'penalty': 'l1'}. Best is trial 51 with value: 0.7466671942945013.\n"
          ]
        },
        {
          "output_type": "stream",
          "name": "stdout",
          "text": [
            "Trial 52, C: 7.936109088005687, penalty: l1, ROC-AUC: 0.7466118187030653\n"
          ]
        },
        {
          "output_type": "stream",
          "name": "stderr",
          "text": [
            "[I 2024-05-13 19:39:05,897] Trial 53 finished with value: 0.746457134243931 and parameters: {'C': 5.319769616944947, 'penalty': 'l1'}. Best is trial 51 with value: 0.7466671942945013.\n"
          ]
        },
        {
          "output_type": "stream",
          "name": "stdout",
          "text": [
            "Trial 53, C: 5.319769616944947, penalty: l1, ROC-AUC: 0.746457134243931\n"
          ]
        },
        {
          "output_type": "stream",
          "name": "stderr",
          "text": [
            "[I 2024-05-13 19:39:08,051] Trial 54 finished with value: 0.7466668164374003 and parameters: {'C': 9.918244261433498, 'penalty': 'l1'}. Best is trial 51 with value: 0.7466671942945013.\n"
          ]
        },
        {
          "output_type": "stream",
          "name": "stdout",
          "text": [
            "Trial 54, C: 9.918244261433498, penalty: l1, ROC-AUC: 0.7466668164374003\n"
          ]
        },
        {
          "output_type": "stream",
          "name": "stderr",
          "text": [
            "[I 2024-05-13 19:39:11,032] Trial 55 finished with value: 0.7465064034324117 and parameters: {'C': 5.9014695018729295, 'penalty': 'l1'}. Best is trial 51 with value: 0.7466671942945013.\n"
          ]
        },
        {
          "output_type": "stream",
          "name": "stdout",
          "text": [
            "Trial 55, C: 5.9014695018729295, penalty: l1, ROC-AUC: 0.7465064034324117\n"
          ]
        },
        {
          "output_type": "stream",
          "name": "stderr",
          "text": [
            "[I 2024-05-13 19:39:13,631] Trial 56 finished with value: 0.7466091404561551 and parameters: {'C': 8.073343695166802, 'penalty': 'l1'}. Best is trial 51 with value: 0.7466671942945013.\n"
          ]
        },
        {
          "output_type": "stream",
          "name": "stdout",
          "text": [
            "Trial 56, C: 8.073343695166802, penalty: l1, ROC-AUC: 0.7466091404561551\n"
          ]
        },
        {
          "output_type": "stream",
          "name": "stderr",
          "text": [
            "[I 2024-05-13 19:39:15,448] Trial 57 finished with value: 0.7462164888775124 and parameters: {'C': 3.4515500335695757, 'penalty': 'l1'}. Best is trial 51 with value: 0.7466671942945013.\n"
          ]
        },
        {
          "output_type": "stream",
          "name": "stdout",
          "text": [
            "Trial 57, C: 3.4515500335695757, penalty: l1, ROC-AUC: 0.7462164888775124\n"
          ]
        },
        {
          "output_type": "stream",
          "name": "stderr",
          "text": [
            "[I 2024-05-13 19:39:17,408] Trial 58 finished with value: 0.7465392432252649 and parameters: {'C': 6.459920865643041, 'penalty': 'l1'}. Best is trial 51 with value: 0.7466671942945013.\n"
          ]
        },
        {
          "output_type": "stream",
          "name": "stdout",
          "text": [
            "Trial 58, C: 6.459920865643041, penalty: l1, ROC-AUC: 0.7465392432252649\n"
          ]
        },
        {
          "output_type": "stream",
          "name": "stderr",
          "text": [
            "[I 2024-05-13 19:39:18,422] Trial 59 finished with value: 0.74434527507427 and parameters: {'C': 0.9615055467589566, 'penalty': 'l1'}. Best is trial 51 with value: 0.7466671942945013.\n"
          ]
        },
        {
          "output_type": "stream",
          "name": "stdout",
          "text": [
            "Trial 59, C: 0.9615055467589566, penalty: l1, ROC-AUC: 0.74434527507427\n"
          ]
        },
        {
          "output_type": "stream",
          "name": "stderr",
          "text": [
            "[I 2024-05-13 19:39:20,832] Trial 60 finished with value: 0.7466183108791224 and parameters: {'C': 8.385160561084069, 'penalty': 'l1'}. Best is trial 51 with value: 0.7466671942945013.\n"
          ]
        },
        {
          "output_type": "stream",
          "name": "stdout",
          "text": [
            "Trial 60, C: 8.385160561084069, penalty: l1, ROC-AUC: 0.7466183108791224\n"
          ]
        },
        {
          "output_type": "stream",
          "name": "stderr",
          "text": [
            "[I 2024-05-13 19:39:23,541] Trial 61 finished with value: 0.7466500112956054 and parameters: {'C': 9.68764165743428, 'penalty': 'l1'}. Best is trial 51 with value: 0.7466671942945013.\n"
          ]
        },
        {
          "output_type": "stream",
          "name": "stdout",
          "text": [
            "Trial 61, C: 9.68764165743428, penalty: l1, ROC-AUC: 0.7466500112956054\n"
          ]
        },
        {
          "output_type": "stream",
          "name": "stderr",
          "text": [
            "[I 2024-05-13 19:39:25,361] Trial 62 finished with value: 0.7466179288001542 and parameters: {'C': 8.279419545553102, 'penalty': 'l1'}. Best is trial 51 with value: 0.7466671942945013.\n"
          ]
        },
        {
          "output_type": "stream",
          "name": "stdout",
          "text": [
            "Trial 62, C: 8.279419545553102, penalty: l1, ROC-AUC: 0.7466179288001542\n"
          ]
        },
        {
          "output_type": "stream",
          "name": "stderr",
          "text": [
            "[I 2024-05-13 19:39:27,802] Trial 63 finished with value: 0.7465594891887062 and parameters: {'C': 6.75824698001102, 'penalty': 'l1'}. Best is trial 51 with value: 0.7466671942945013.\n"
          ]
        },
        {
          "output_type": "stream",
          "name": "stdout",
          "text": [
            "Trial 63, C: 6.75824698001102, penalty: l1, ROC-AUC: 0.7465594891887062\n"
          ]
        },
        {
          "output_type": "stream",
          "name": "stderr",
          "text": [
            "[I 2024-05-13 19:39:30,363] Trial 64 finished with value: 0.7466538326130194 and parameters: {'C': 9.794402840642764, 'penalty': 'l1'}. Best is trial 51 with value: 0.7466671942945013.\n"
          ]
        },
        {
          "output_type": "stream",
          "name": "stdout",
          "text": [
            "Trial 64, C: 9.794402840642764, penalty: l1, ROC-AUC: 0.7466538326130194\n"
          ]
        },
        {
          "output_type": "stream",
          "name": "stderr",
          "text": [
            "[I 2024-05-13 19:39:30,961] Trial 65 finished with value: 0.7464086197141855 and parameters: {'C': 4.787056846508535, 'penalty': 'l1'}. Best is trial 51 with value: 0.7466671942945013.\n"
          ]
        },
        {
          "output_type": "stream",
          "name": "stdout",
          "text": [
            "Trial 65, C: 4.787056846508535, penalty: l1, ROC-AUC: 0.7464086197141855\n"
          ]
        },
        {
          "output_type": "stream",
          "name": "stderr",
          "text": [
            "[I 2024-05-13 19:39:32,604] Trial 66 finished with value: 0.7466045607858718 and parameters: {'C': 7.9160693698400495, 'penalty': 'l1'}. Best is trial 51 with value: 0.7466671942945013.\n"
          ]
        },
        {
          "output_type": "stream",
          "name": "stdout",
          "text": [
            "Trial 66, C: 7.9160693698400495, penalty: l1, ROC-AUC: 0.7466045607858718\n"
          ]
        },
        {
          "output_type": "stream",
          "name": "stderr",
          "text": [
            "[I 2024-05-13 19:39:32,960] Trial 67 finished with value: 0.7229636658100076 and parameters: {'C': 0.12582987531833328, 'penalty': 'l1'}. Best is trial 51 with value: 0.7466671942945013.\n"
          ]
        },
        {
          "output_type": "stream",
          "name": "stdout",
          "text": [
            "Trial 67, C: 0.12582987531833328, penalty: l1, ROC-AUC: 0.7229636658100076\n"
          ]
        },
        {
          "output_type": "stream",
          "name": "stderr",
          "text": [
            "[I 2024-05-13 19:39:33,462] Trial 68 finished with value: 0.7372348060598822 and parameters: {'C': 3.9475072635480464, 'penalty': 'l2'}. Best is trial 51 with value: 0.7466671942945013.\n"
          ]
        },
        {
          "output_type": "stream",
          "name": "stdout",
          "text": [
            "Trial 68, C: 3.9475072635480464, penalty: l2, ROC-AUC: 0.7372348060598822\n"
          ]
        },
        {
          "output_type": "stream",
          "name": "stderr",
          "text": [
            "[I 2024-05-13 19:39:34,079] Trial 69 finished with value: 0.7465037320460354 and parameters: {'C': 5.998373402945038, 'penalty': 'l1'}. Best is trial 51 with value: 0.7466671942945013.\n"
          ]
        },
        {
          "output_type": "stream",
          "name": "stdout",
          "text": [
            "Trial 69, C: 5.998373402945038, penalty: l1, ROC-AUC: 0.7465037320460354\n"
          ]
        },
        {
          "output_type": "stream",
          "name": "stderr",
          "text": [
            "[I 2024-05-13 19:39:35,868] Trial 70 finished with value: 0.7466282396549586 and parameters: {'C': 8.514605834332016, 'penalty': 'l1'}. Best is trial 51 with value: 0.7466671942945013.\n"
          ]
        },
        {
          "output_type": "stream",
          "name": "stdout",
          "text": [
            "Trial 70, C: 8.514605834332016, penalty: l1, ROC-AUC: 0.7466282396549586\n"
          ]
        },
        {
          "output_type": "stream",
          "name": "stderr",
          "text": [
            "[I 2024-05-13 19:39:40,024] Trial 71 finished with value: 0.7466820964297234 and parameters: {'C': 9.920488934355904, 'penalty': 'l1'}. Best is trial 71 with value: 0.7466820964297234.\n"
          ]
        },
        {
          "output_type": "stream",
          "name": "stdout",
          "text": [
            "Trial 71, C: 9.920488934355904, penalty: l1, ROC-AUC: 0.7466820964297234\n"
          ]
        },
        {
          "output_type": "stream",
          "name": "stderr",
          "text": [
            "[I 2024-05-13 19:39:41,879] Trial 72 finished with value: 0.7466652860105945 and parameters: {'C': 9.989285958629827, 'penalty': 'l1'}. Best is trial 71 with value: 0.7466820964297234.\n"
          ]
        },
        {
          "output_type": "stream",
          "name": "stdout",
          "text": [
            "Trial 72, C: 9.989285958629827, penalty: l1, ROC-AUC: 0.7466652860105945\n"
          ]
        },
        {
          "output_type": "stream",
          "name": "stderr",
          "text": [
            "[I 2024-05-13 19:39:44,200] Trial 73 finished with value: 0.7465709515577486 and parameters: {'C': 7.0730402755654715, 'penalty': 'l1'}. Best is trial 71 with value: 0.7466820964297234.\n"
          ]
        },
        {
          "output_type": "stream",
          "name": "stdout",
          "text": [
            "Trial 73, C: 7.0730402755654715, penalty: l1, ROC-AUC: 0.7465709515577486\n"
          ]
        },
        {
          "output_type": "stream",
          "name": "stderr",
          "text": [
            "[I 2024-05-13 19:39:46,575] Trial 74 finished with value: 0.7466270960567213 and parameters: {'C': 8.693069830578466, 'penalty': 'l1'}. Best is trial 71 with value: 0.7466820964297234.\n"
          ]
        },
        {
          "output_type": "stream",
          "name": "stdout",
          "text": [
            "Trial 74, C: 8.693069830578466, penalty: l1, ROC-AUC: 0.7466270960567213\n"
          ]
        },
        {
          "output_type": "stream",
          "name": "stderr",
          "text": [
            "[I 2024-05-13 19:39:46,846] Trial 75 finished with value: 0.7464208441302305 and parameters: {'C': 5.045689047131408, 'penalty': 'l1'}. Best is trial 71 with value: 0.7466820964297234.\n"
          ]
        },
        {
          "output_type": "stream",
          "name": "stdout",
          "text": [
            "Trial 75, C: 5.045689047131408, penalty: l1, ROC-AUC: 0.7464208441302305\n"
          ]
        },
        {
          "output_type": "stream",
          "name": "stderr",
          "text": [
            "[I 2024-05-13 19:39:47,964] Trial 76 finished with value: 0.746574767597829 and parameters: {'C': 7.157511180278957, 'penalty': 'l1'}. Best is trial 71 with value: 0.7466820964297234.\n"
          ]
        },
        {
          "output_type": "stream",
          "name": "stdout",
          "text": [
            "Trial 76, C: 7.157511180278957, penalty: l1, ROC-AUC: 0.746574767597829\n"
          ]
        },
        {
          "output_type": "stream",
          "name": "stderr",
          "text": [
            "[I 2024-05-13 19:39:50,588] Trial 77 finished with value: 0.7466301553271328 and parameters: {'C': 8.737185662263002, 'penalty': 'l1'}. Best is trial 71 with value: 0.7466820964297234.\n"
          ]
        },
        {
          "output_type": "stream",
          "name": "stdout",
          "text": [
            "Trial 77, C: 8.737185662263002, penalty: l1, ROC-AUC: 0.7466301553271328\n"
          ]
        },
        {
          "output_type": "stream",
          "name": "stderr",
          "text": [
            "[I 2024-05-13 19:39:52,462] Trial 78 finished with value: 0.7465075501970493 and parameters: {'C': 6.0532761536885165, 'penalty': 'l1'}. Best is trial 71 with value: 0.7466820964297234.\n"
          ]
        },
        {
          "output_type": "stream",
          "name": "stdout",
          "text": [
            "Trial 78, C: 6.0532761536885165, penalty: l1, ROC-AUC: 0.7465075501970493\n"
          ]
        },
        {
          "output_type": "stream",
          "name": "stderr",
          "text": [
            "[I 2024-05-13 19:39:56,379] Trial 79 finished with value: 0.7466565045271292 and parameters: {'C': 9.868604142146655, 'penalty': 'l1'}. Best is trial 71 with value: 0.7466820964297234.\n"
          ]
        },
        {
          "output_type": "stream",
          "name": "stdout",
          "text": [
            "Trial 79, C: 9.868604142146655, penalty: l1, ROC-AUC: 0.7466565045271292\n"
          ]
        },
        {
          "output_type": "stream",
          "name": "stderr",
          "text": [
            "[I 2024-05-13 19:39:56,922] Trial 80 finished with value: 0.7412196136924099 and parameters: {'C': 7.459003716576671, 'penalty': 'l2'}. Best is trial 71 with value: 0.7466820964297234.\n"
          ]
        },
        {
          "output_type": "stream",
          "name": "stdout",
          "text": [
            "Trial 80, C: 7.459003716576671, penalty: l2, ROC-AUC: 0.7412196136924099\n"
          ]
        },
        {
          "output_type": "stream",
          "name": "stderr",
          "text": [
            "[I 2024-05-13 19:39:59,146] Trial 81 finished with value: 0.7466320604446395 and parameters: {'C': 8.878803132641368, 'penalty': 'l1'}. Best is trial 71 with value: 0.7466820964297234.\n"
          ]
        },
        {
          "output_type": "stream",
          "name": "stdout",
          "text": [
            "Trial 81, C: 8.878803132641368, penalty: l1, ROC-AUC: 0.7466320604446395\n"
          ]
        },
        {
          "output_type": "stream",
          "name": "stderr",
          "text": [
            "[I 2024-05-13 19:40:01,039] Trial 82 finished with value: 0.7466576449589661 and parameters: {'C': 9.957432256256993, 'penalty': 'l1'}. Best is trial 71 with value: 0.7466820964297234.\n"
          ]
        },
        {
          "output_type": "stream",
          "name": "stdout",
          "text": [
            "Trial 82, C: 9.957432256256993, penalty: l1, ROC-AUC: 0.7466576449589661\n"
          ]
        },
        {
          "output_type": "stream",
          "name": "stderr",
          "text": [
            "[I 2024-05-13 19:40:01,521] Trial 83 finished with value: 0.7380399630747065 and parameters: {'C': 0.3014395856250723, 'penalty': 'l1'}. Best is trial 71 with value: 0.7466820964297234.\n"
          ]
        },
        {
          "output_type": "stream",
          "name": "stdout",
          "text": [
            "Trial 83, C: 0.3014395856250723, penalty: l1, ROC-AUC: 0.7380399630747065\n"
          ]
        },
        {
          "output_type": "stream",
          "name": "stderr",
          "text": [
            "[I 2024-05-13 19:40:04,722] Trial 84 finished with value: 0.7466713982186169 and parameters: {'C': 9.790585140927394, 'penalty': 'l1'}. Best is trial 71 with value: 0.7466820964297234.\n"
          ]
        },
        {
          "output_type": "stream",
          "name": "stdout",
          "text": [
            "Trial 84, C: 9.790585140927394, penalty: l1, ROC-AUC: 0.7466713982186169\n"
          ]
        },
        {
          "output_type": "stream",
          "name": "stderr",
          "text": [
            "[I 2024-05-13 19:40:06,448] Trial 85 finished with value: 0.7466011236583594 and parameters: {'C': 7.635816987708762, 'penalty': 'l1'}. Best is trial 71 with value: 0.7466820964297234.\n"
          ]
        },
        {
          "output_type": "stream",
          "name": "stdout",
          "text": [
            "Trial 85, C: 7.635816987708762, penalty: l1, ROC-AUC: 0.7466011236583594\n"
          ]
        },
        {
          "output_type": "stream",
          "name": "stderr",
          "text": [
            "[I 2024-05-13 19:40:08,750] Trial 86 finished with value: 0.7465235848481075 and parameters: {'C': 6.376517190276188, 'penalty': 'l1'}. Best is trial 71 with value: 0.7466820964297234.\n"
          ]
        },
        {
          "output_type": "stream",
          "name": "stdout",
          "text": [
            "Trial 86, C: 6.376517190276188, penalty: l1, ROC-AUC: 0.7465235848481075\n"
          ]
        },
        {
          "output_type": "stream",
          "name": "stderr",
          "text": [
            "[I 2024-05-13 19:40:11,693] Trial 87 finished with value: 0.7466290064515617 and parameters: {'C': 8.661439140486946, 'penalty': 'l1'}. Best is trial 71 with value: 0.7466820964297234.\n"
          ]
        },
        {
          "output_type": "stream",
          "name": "stdout",
          "text": [
            "Trial 87, C: 8.661439140486946, penalty: l1, ROC-AUC: 0.7466290064515617\n"
          ]
        },
        {
          "output_type": "stream",
          "name": "stderr",
          "text": [
            "[I 2024-05-13 19:40:12,917] Trial 88 finished with value: 0.7466606989520439 and parameters: {'C': 9.936083371372446, 'penalty': 'l1'}. Best is trial 71 with value: 0.7466820964297234.\n"
          ]
        },
        {
          "output_type": "stream",
          "name": "stdout",
          "text": [
            "Trial 88, C: 9.936083371372446, penalty: l1, ROC-AUC: 0.7466606989520439\n"
          ]
        },
        {
          "output_type": "stream",
          "name": "stderr",
          "text": [
            "[I 2024-05-13 19:40:14,918] Trial 89 finished with value: 0.7465656087849959 and parameters: {'C': 6.941632461826416, 'penalty': 'l1'}. Best is trial 71 with value: 0.7466820964297234.\n"
          ]
        },
        {
          "output_type": "stream",
          "name": "stdout",
          "text": [
            "Trial 89, C: 6.941632461826416, penalty: l1, ROC-AUC: 0.7465656087849959\n"
          ]
        },
        {
          "output_type": "stream",
          "name": "stderr",
          "text": [
            "[I 2024-05-13 19:40:17,877] Trial 90 finished with value: 0.745756222514854 and parameters: {'C': 2.135539095535067, 'penalty': 'l1'}. Best is trial 71 with value: 0.7466820964297234.\n"
          ]
        },
        {
          "output_type": "stream",
          "name": "stdout",
          "text": [
            "Trial 90, C: 2.135539095535067, penalty: l1, ROC-AUC: 0.745756222514854\n"
          ]
        },
        {
          "output_type": "stream",
          "name": "stderr",
          "text": [
            "[I 2024-05-13 19:40:20,302] Trial 91 finished with value: 0.7466400777701685 and parameters: {'C': 9.05768222681091, 'penalty': 'l1'}. Best is trial 71 with value: 0.7466820964297234.\n"
          ]
        },
        {
          "output_type": "stream",
          "name": "stdout",
          "text": [
            "Trial 91, C: 9.05768222681091, penalty: l1, ROC-AUC: 0.7466400777701685\n"
          ]
        },
        {
          "output_type": "stream",
          "name": "stderr",
          "text": [
            "[I 2024-05-13 19:40:22,763] Trial 92 finished with value: 0.7466603179285427 and parameters: {'C': 9.832869076427773, 'penalty': 'l1'}. Best is trial 71 with value: 0.7466820964297234.\n"
          ]
        },
        {
          "output_type": "stream",
          "name": "stdout",
          "text": [
            "Trial 92, C: 9.832869076427773, penalty: l1, ROC-AUC: 0.7466603179285427\n"
          ]
        },
        {
          "output_type": "stream",
          "name": "stderr",
          "text": [
            "[I 2024-05-13 19:40:26,021] Trial 93 finished with value: 0.7466057049118426 and parameters: {'C': 7.74691037414927, 'penalty': 'l1'}. Best is trial 71 with value: 0.7466820964297234.\n"
          ]
        },
        {
          "output_type": "stream",
          "name": "stdout",
          "text": [
            "Trial 93, C: 7.74691037414927, penalty: l1, ROC-AUC: 0.7466057049118426\n"
          ]
        },
        {
          "output_type": "stream",
          "name": "stderr",
          "text": [
            "[I 2024-05-13 19:40:27,185] Trial 94 finished with value: 0.7466202276067633 and parameters: {'C': 8.650968902172604, 'penalty': 'l1'}. Best is trial 71 with value: 0.7466820964297234.\n"
          ]
        },
        {
          "output_type": "stream",
          "name": "stdout",
          "text": [
            "Trial 94, C: 8.650968902172604, penalty: l1, ROC-AUC: 0.7466202276067633\n"
          ]
        },
        {
          "output_type": "stream",
          "name": "stderr",
          "text": [
            "[I 2024-05-13 19:40:28,244] Trial 95 finished with value: 0.7464827282574585 and parameters: {'C': 5.615490828237619, 'penalty': 'l1'}. Best is trial 71 with value: 0.7466820964297234.\n"
          ]
        },
        {
          "output_type": "stream",
          "name": "stdout",
          "text": [
            "Trial 95, C: 5.615490828237619, penalty: l1, ROC-AUC: 0.7464827282574585\n"
          ]
        },
        {
          "output_type": "stream",
          "name": "stderr",
          "text": [
            "[I 2024-05-13 19:40:28,978] Trial 96 finished with value: 0.7427384039772014 and parameters: {'C': 0.6080882534649934, 'penalty': 'l1'}. Best is trial 71 with value: 0.7466820964297234.\n"
          ]
        },
        {
          "output_type": "stream",
          "name": "stdout",
          "text": [
            "Trial 96, C: 0.6080882534649934, penalty: l1, ROC-AUC: 0.7427384039772014\n"
          ]
        },
        {
          "output_type": "stream",
          "name": "stderr",
          "text": [
            "[I 2024-05-13 19:40:29,497] Trial 97 finished with value: 0.7414967892912174 and parameters: {'C': 8.042821526159976, 'penalty': 'l2'}. Best is trial 71 with value: 0.7466820964297234.\n"
          ]
        },
        {
          "output_type": "stream",
          "name": "stdout",
          "text": [
            "Trial 97, C: 8.042821526159976, penalty: l2, ROC-AUC: 0.7414967892912174\n"
          ]
        },
        {
          "output_type": "stream",
          "name": "stderr",
          "text": [
            "[I 2024-05-13 19:40:30,602] Trial 98 finished with value: 0.746653450006318 and parameters: {'C': 9.984210741535154, 'penalty': 'l1'}. Best is trial 71 with value: 0.7466820964297234.\n"
          ]
        },
        {
          "output_type": "stream",
          "name": "stdout",
          "text": [
            "Trial 98, C: 9.984210741535154, penalty: l1, ROC-AUC: 0.746653450006318\n"
          ]
        },
        {
          "output_type": "stream",
          "name": "stderr",
          "text": [
            "[I 2024-05-13 19:40:31,927] Trial 99 finished with value: 0.7449632798891406 and parameters: {'C': 1.255055301594677, 'penalty': 'l1'}. Best is trial 71 with value: 0.7466820964297234.\n"
          ]
        },
        {
          "output_type": "stream",
          "name": "stdout",
          "text": [
            "Trial 99, C: 1.255055301594677, penalty: l1, ROC-AUC: 0.7449632798891406\n",
            "Best Parameters:  {'C': 9.920488934355904, 'penalty': 'l1'}\n",
            "Best ROC-AUC Score:  0.7466820964297234\n"
          ]
        }
      ]
    },
    {
      "cell_type": "code",
      "source": [
        "# Decision Tree\n",
        "def objective_function(trial):\n",
        "    max_depth = trial.suggest_int('max_depth', 1, 10)\n",
        "    min_samples_split = trial.suggest_int('min_samples_split', 2, 10)\n",
        "    min_samples_leaf = trial.suggest_int('min_samples_leaf', 1, 10)\n",
        "    criterion = trial.suggest_categorical('criterion', ['gini', 'entropy'])\n",
        "\n",
        "    model = DecisionTreeClassifier(\n",
        "        max_depth=max_depth,\n",
        "        min_samples_split=min_samples_split,\n",
        "        min_samples_leaf=min_samples_leaf,\n",
        "        criterion=criterion\n",
        "    )\n",
        "    metrics = ['roc_auc','accuracy','precison','recall','f1-score']\n",
        "    # Using cross_val_score to get the average precision score for each fold\n",
        "    scores = cross_val_score(model, X_train_oversampled, y_train_oversampled, cv=5, scoring='roc_auc')\n",
        "    roc_auc = np.mean(scores)\n",
        "    # Printing intermediate results\n",
        "    print(f\"Trial {trial.number}, max_depth: {max_depth}, min_samples_split: {min_samples_split}, \"\n",
        "          f\"min_samples_leaf: {min_samples_leaf}, criterion: {criterion}, ROC-AUC: {roc_auc}\")\n",
        "    return roc_auc\n",
        "\n",
        "study_dt = optuna.create_study(direction=\"maximize\")\n",
        "study_dt.optimize(objective_function, n_trials=100)\n",
        "\n",
        "best_params_dt = study_dt.best_params\n",
        "print(\"Best Parameters: \", best_params_dt)\n",
        "print(\"Best ROC-AUC Score: \", study_dt.best_value)\n",
        "\n",
        "# Create and save model\n",
        "best_model_dt = DecisionTreeClassifier(**best_params_dt)\n",
        "with open('best_models_dt_8_features.pkl', 'wb') as file:\n",
        "    pickle.dump(best_model_dt, file)"
      ],
      "metadata": {
        "colab": {
          "base_uri": "https://localhost:8080/"
        },
        "id": "5D-ue6l1nr8P",
        "outputId": "977403f1-c5c3-4458-ba72-03b91b8c496e"
      },
      "execution_count": 7,
      "outputs": [
        {
          "output_type": "stream",
          "name": "stderr",
          "text": [
            "[I 2024-05-13 19:40:31,957] A new study created in memory with name: no-name-104b400f-dec2-4465-b58e-e0e5a7430c38\n",
            "[I 2024-05-13 19:40:32,286] Trial 0 finished with value: 0.9605684227332679 and parameters: {'max_depth': 10, 'min_samples_split': 6, 'min_samples_leaf': 4, 'criterion': 'entropy'}. Best is trial 0 with value: 0.9605684227332679.\n"
          ]
        },
        {
          "output_type": "stream",
          "name": "stdout",
          "text": [
            "Trial 0, max_depth: 10, min_samples_split: 6, min_samples_leaf: 4, criterion: entropy, ROC-AUC: 0.9605684227332679\n"
          ]
        },
        {
          "output_type": "stream",
          "name": "stderr",
          "text": [
            "[I 2024-05-13 19:40:32,508] Trial 1 finished with value: 0.9273296228082654 and parameters: {'max_depth': 6, 'min_samples_split': 2, 'min_samples_leaf': 5, 'criterion': 'gini'}. Best is trial 0 with value: 0.9605684227332679.\n"
          ]
        },
        {
          "output_type": "stream",
          "name": "stdout",
          "text": [
            "Trial 1, max_depth: 6, min_samples_split: 2, min_samples_leaf: 5, criterion: gini, ROC-AUC: 0.9273296228082654\n"
          ]
        },
        {
          "output_type": "stream",
          "name": "stderr",
          "text": [
            "[I 2024-05-13 19:40:32,800] Trial 2 finished with value: 0.9571814288364411 and parameters: {'max_depth': 9, 'min_samples_split': 2, 'min_samples_leaf': 2, 'criterion': 'entropy'}. Best is trial 0 with value: 0.9605684227332679.\n"
          ]
        },
        {
          "output_type": "stream",
          "name": "stdout",
          "text": [
            "Trial 2, max_depth: 9, min_samples_split: 2, min_samples_leaf: 2, criterion: entropy, ROC-AUC: 0.9571814288364411\n"
          ]
        },
        {
          "output_type": "stream",
          "name": "stderr",
          "text": [
            "[I 2024-05-13 19:40:33,009] Trial 3 finished with value: 0.9023866156386484 and parameters: {'max_depth': 5, 'min_samples_split': 6, 'min_samples_leaf': 5, 'criterion': 'gini'}. Best is trial 0 with value: 0.9605684227332679.\n"
          ]
        },
        {
          "output_type": "stream",
          "name": "stdout",
          "text": [
            "Trial 3, max_depth: 5, min_samples_split: 6, min_samples_leaf: 5, criterion: gini, ROC-AUC: 0.9023866156386484\n"
          ]
        },
        {
          "output_type": "stream",
          "name": "stderr",
          "text": [
            "[I 2024-05-13 19:40:33,271] Trial 4 finished with value: 0.9326854651418802 and parameters: {'max_depth': 7, 'min_samples_split': 9, 'min_samples_leaf': 5, 'criterion': 'entropy'}. Best is trial 0 with value: 0.9605684227332679.\n"
          ]
        },
        {
          "output_type": "stream",
          "name": "stdout",
          "text": [
            "Trial 4, max_depth: 7, min_samples_split: 9, min_samples_leaf: 5, criterion: entropy, ROC-AUC: 0.9326854651418802\n"
          ]
        },
        {
          "output_type": "stream",
          "name": "stderr",
          "text": [
            "[I 2024-05-13 19:40:33,532] Trial 5 finished with value: 0.9316578909354952 and parameters: {'max_depth': 7, 'min_samples_split': 10, 'min_samples_leaf': 4, 'criterion': 'entropy'}. Best is trial 0 with value: 0.9605684227332679.\n"
          ]
        },
        {
          "output_type": "stream",
          "name": "stdout",
          "text": [
            "Trial 5, max_depth: 7, min_samples_split: 10, min_samples_leaf: 4, criterion: entropy, ROC-AUC: 0.9316578909354952\n"
          ]
        },
        {
          "output_type": "stream",
          "name": "stderr",
          "text": [
            "[I 2024-05-13 19:40:33,756] Trial 6 finished with value: 0.9266032558595398 and parameters: {'max_depth': 6, 'min_samples_split': 7, 'min_samples_leaf': 1, 'criterion': 'gini'}. Best is trial 0 with value: 0.9605684227332679.\n"
          ]
        },
        {
          "output_type": "stream",
          "name": "stdout",
          "text": [
            "Trial 6, max_depth: 6, min_samples_split: 7, min_samples_leaf: 1, criterion: gini, ROC-AUC: 0.9266032558595398\n"
          ]
        },
        {
          "output_type": "stream",
          "name": "stderr",
          "text": [
            "[I 2024-05-13 19:40:34,058] Trial 7 finished with value: 0.9382725958651964 and parameters: {'max_depth': 7, 'min_samples_split': 5, 'min_samples_leaf': 2, 'criterion': 'gini'}. Best is trial 0 with value: 0.9605684227332679.\n"
          ]
        },
        {
          "output_type": "stream",
          "name": "stdout",
          "text": [
            "Trial 7, max_depth: 7, min_samples_split: 5, min_samples_leaf: 2, criterion: gini, ROC-AUC: 0.9382725958651964\n"
          ]
        },
        {
          "output_type": "stream",
          "name": "stderr",
          "text": [
            "[I 2024-05-13 19:40:34,278] Trial 8 finished with value: 0.6542278948213017 and parameters: {'max_depth': 1, 'min_samples_split': 4, 'min_samples_leaf': 7, 'criterion': 'gini'}. Best is trial 0 with value: 0.9605684227332679.\n"
          ]
        },
        {
          "output_type": "stream",
          "name": "stdout",
          "text": [
            "Trial 8, max_depth: 1, min_samples_split: 4, min_samples_leaf: 7, criterion: gini, ROC-AUC: 0.6542278948213017\n"
          ]
        },
        {
          "output_type": "stream",
          "name": "stderr",
          "text": [
            "[I 2024-05-13 19:40:34,704] Trial 9 finished with value: 0.9574319897853615 and parameters: {'max_depth': 9, 'min_samples_split': 9, 'min_samples_leaf': 5, 'criterion': 'entropy'}. Best is trial 0 with value: 0.9605684227332679.\n"
          ]
        },
        {
          "output_type": "stream",
          "name": "stdout",
          "text": [
            "Trial 9, max_depth: 9, min_samples_split: 9, min_samples_leaf: 5, criterion: entropy, ROC-AUC: 0.9574319897853615\n"
          ]
        },
        {
          "output_type": "stream",
          "name": "stderr",
          "text": [
            "[I 2024-05-13 19:40:35,024] Trial 10 finished with value: 0.7902524565144529 and parameters: {'max_depth': 3, 'min_samples_split': 7, 'min_samples_leaf': 10, 'criterion': 'entropy'}. Best is trial 0 with value: 0.9605684227332679.\n"
          ]
        },
        {
          "output_type": "stream",
          "name": "stdout",
          "text": [
            "Trial 10, max_depth: 3, min_samples_split: 7, min_samples_leaf: 10, criterion: entropy, ROC-AUC: 0.7902524565144529\n"
          ]
        },
        {
          "output_type": "stream",
          "name": "stderr",
          "text": [
            "[I 2024-05-13 19:40:35,491] Trial 11 finished with value: 0.9626963165539871 and parameters: {'max_depth': 10, 'min_samples_split': 8, 'min_samples_leaf': 7, 'criterion': 'entropy'}. Best is trial 11 with value: 0.9626963165539871.\n"
          ]
        },
        {
          "output_type": "stream",
          "name": "stdout",
          "text": [
            "Trial 11, max_depth: 10, min_samples_split: 8, min_samples_leaf: 7, criterion: entropy, ROC-AUC: 0.9626963165539871\n"
          ]
        },
        {
          "output_type": "stream",
          "name": "stderr",
          "text": [
            "[I 2024-05-13 19:40:35,967] Trial 12 finished with value: 0.9628950086997904 and parameters: {'max_depth': 10, 'min_samples_split': 8, 'min_samples_leaf': 8, 'criterion': 'entropy'}. Best is trial 12 with value: 0.9628950086997904.\n"
          ]
        },
        {
          "output_type": "stream",
          "name": "stdout",
          "text": [
            "Trial 12, max_depth: 10, min_samples_split: 8, min_samples_leaf: 8, criterion: entropy, ROC-AUC: 0.9628950086997904\n"
          ]
        },
        {
          "output_type": "stream",
          "name": "stderr",
          "text": [
            "[I 2024-05-13 19:40:36,440] Trial 13 finished with value: 0.9623322243227419 and parameters: {'max_depth': 10, 'min_samples_split': 8, 'min_samples_leaf': 8, 'criterion': 'entropy'}. Best is trial 12 with value: 0.9628950086997904.\n"
          ]
        },
        {
          "output_type": "stream",
          "name": "stdout",
          "text": [
            "Trial 13, max_depth: 10, min_samples_split: 8, min_samples_leaf: 8, criterion: entropy, ROC-AUC: 0.9623322243227419\n"
          ]
        },
        {
          "output_type": "stream",
          "name": "stderr",
          "text": [
            "[I 2024-05-13 19:40:36,906] Trial 14 finished with value: 0.9596662540741544 and parameters: {'max_depth': 9, 'min_samples_split': 8, 'min_samples_leaf': 8, 'criterion': 'entropy'}. Best is trial 12 with value: 0.9628950086997904.\n"
          ]
        },
        {
          "output_type": "stream",
          "name": "stdout",
          "text": [
            "Trial 14, max_depth: 9, min_samples_split: 8, min_samples_leaf: 8, criterion: entropy, ROC-AUC: 0.9596662540741544\n"
          ]
        },
        {
          "output_type": "stream",
          "name": "stderr",
          "text": [
            "[I 2024-05-13 19:40:37,345] Trial 15 finished with value: 0.9479992722451126 and parameters: {'max_depth': 8, 'min_samples_split': 10, 'min_samples_leaf': 10, 'criterion': 'entropy'}. Best is trial 12 with value: 0.9628950086997904.\n"
          ]
        },
        {
          "output_type": "stream",
          "name": "stdout",
          "text": [
            "Trial 15, max_depth: 8, min_samples_split: 10, min_samples_leaf: 10, criterion: entropy, ROC-AUC: 0.9479992722451126\n"
          ]
        },
        {
          "output_type": "stream",
          "name": "stderr",
          "text": [
            "[I 2024-05-13 19:40:37,601] Trial 16 finished with value: 0.8393576489444087 and parameters: {'max_depth': 4, 'min_samples_split': 8, 'min_samples_leaf': 7, 'criterion': 'entropy'}. Best is trial 12 with value: 0.9628950086997904.\n"
          ]
        },
        {
          "output_type": "stream",
          "name": "stdout",
          "text": [
            "Trial 16, max_depth: 4, min_samples_split: 8, min_samples_leaf: 7, criterion: entropy, ROC-AUC: 0.8393576489444087\n"
          ]
        },
        {
          "output_type": "stream",
          "name": "stderr",
          "text": [
            "[I 2024-05-13 19:40:37,919] Trial 17 finished with value: 0.9627081850138666 and parameters: {'max_depth': 10, 'min_samples_split': 4, 'min_samples_leaf': 8, 'criterion': 'entropy'}. Best is trial 12 with value: 0.9628950086997904.\n"
          ]
        },
        {
          "output_type": "stream",
          "name": "stdout",
          "text": [
            "Trial 17, max_depth: 10, min_samples_split: 4, min_samples_leaf: 8, criterion: entropy, ROC-AUC: 0.9627081850138666\n"
          ]
        },
        {
          "output_type": "stream",
          "name": "stderr",
          "text": [
            "[I 2024-05-13 19:40:38,201] Trial 18 finished with value: 0.9483836903914064 and parameters: {'max_depth': 8, 'min_samples_split': 4, 'min_samples_leaf': 9, 'criterion': 'entropy'}. Best is trial 12 with value: 0.9628950086997904.\n",
            "[I 2024-05-13 19:40:38,352] Trial 19 finished with value: 0.6200912404575778 and parameters: {'max_depth': 1, 'min_samples_split': 4, 'min_samples_leaf': 9, 'criterion': 'entropy'}. Best is trial 12 with value: 0.9628950086997904.\n"
          ]
        },
        {
          "output_type": "stream",
          "name": "stdout",
          "text": [
            "Trial 18, max_depth: 8, min_samples_split: 4, min_samples_leaf: 9, criterion: entropy, ROC-AUC: 0.9483836903914064\n",
            "Trial 19, max_depth: 1, min_samples_split: 4, min_samples_leaf: 9, criterion: entropy, ROC-AUC: 0.6200912404575778\n"
          ]
        },
        {
          "output_type": "stream",
          "name": "stderr",
          "text": [
            "[I 2024-05-13 19:40:38,653] Trial 20 finished with value: 0.9479870929502715 and parameters: {'max_depth': 8, 'min_samples_split': 3, 'min_samples_leaf': 8, 'criterion': 'entropy'}. Best is trial 12 with value: 0.9628950086997904.\n"
          ]
        },
        {
          "output_type": "stream",
          "name": "stdout",
          "text": [
            "Trial 20, max_depth: 8, min_samples_split: 3, min_samples_leaf: 8, criterion: entropy, ROC-AUC: 0.9479870929502715\n"
          ]
        },
        {
          "output_type": "stream",
          "name": "stderr",
          "text": [
            "[I 2024-05-13 19:40:38,968] Trial 21 finished with value: 0.962428003445719 and parameters: {'max_depth': 10, 'min_samples_split': 6, 'min_samples_leaf': 7, 'criterion': 'entropy'}. Best is trial 12 with value: 0.9628950086997904.\n"
          ]
        },
        {
          "output_type": "stream",
          "name": "stdout",
          "text": [
            "Trial 21, max_depth: 10, min_samples_split: 6, min_samples_leaf: 7, criterion: entropy, ROC-AUC: 0.962428003445719\n"
          ]
        },
        {
          "output_type": "stream",
          "name": "stderr",
          "text": [
            "[I 2024-05-13 19:40:39,281] Trial 22 finished with value: 0.9623953393880817 and parameters: {'max_depth': 10, 'min_samples_split': 7, 'min_samples_leaf': 6, 'criterion': 'entropy'}. Best is trial 12 with value: 0.9628950086997904.\n"
          ]
        },
        {
          "output_type": "stream",
          "name": "stdout",
          "text": [
            "Trial 22, max_depth: 10, min_samples_split: 7, min_samples_leaf: 6, criterion: entropy, ROC-AUC: 0.9623953393880817\n"
          ]
        },
        {
          "output_type": "stream",
          "name": "stderr",
          "text": [
            "[I 2024-05-13 19:40:39,594] Trial 23 finished with value: 0.9596328905059203 and parameters: {'max_depth': 9, 'min_samples_split': 9, 'min_samples_leaf': 9, 'criterion': 'entropy'}. Best is trial 12 with value: 0.9628950086997904.\n"
          ]
        },
        {
          "output_type": "stream",
          "name": "stdout",
          "text": [
            "Trial 23, max_depth: 9, min_samples_split: 9, min_samples_leaf: 9, criterion: entropy, ROC-AUC: 0.9596328905059203\n"
          ]
        },
        {
          "output_type": "stream",
          "name": "stderr",
          "text": [
            "[I 2024-05-13 19:40:39,916] Trial 24 finished with value: 0.9619545561502619 and parameters: {'max_depth': 10, 'min_samples_split': 5, 'min_samples_leaf': 6, 'criterion': 'entropy'}. Best is trial 12 with value: 0.9628950086997904.\n"
          ]
        },
        {
          "output_type": "stream",
          "name": "stdout",
          "text": [
            "Trial 24, max_depth: 10, min_samples_split: 5, min_samples_leaf: 6, criterion: entropy, ROC-AUC: 0.9619545561502619\n"
          ]
        },
        {
          "output_type": "stream",
          "name": "stderr",
          "text": [
            "[I 2024-05-13 19:40:40,204] Trial 25 finished with value: 0.9484479292649819 and parameters: {'max_depth': 8, 'min_samples_split': 5, 'min_samples_leaf': 7, 'criterion': 'entropy'}. Best is trial 12 with value: 0.9628950086997904.\n"
          ]
        },
        {
          "output_type": "stream",
          "name": "stdout",
          "text": [
            "Trial 25, max_depth: 8, min_samples_split: 5, min_samples_leaf: 7, criterion: entropy, ROC-AUC: 0.9484479292649819\n"
          ]
        },
        {
          "output_type": "stream",
          "name": "stderr",
          "text": [
            "[I 2024-05-13 19:40:40,488] Trial 26 finished with value: 0.9610015583227923 and parameters: {'max_depth': 9, 'min_samples_split': 8, 'min_samples_leaf': 8, 'criterion': 'gini'}. Best is trial 12 with value: 0.9628950086997904.\n"
          ]
        },
        {
          "output_type": "stream",
          "name": "stdout",
          "text": [
            "Trial 26, max_depth: 9, min_samples_split: 8, min_samples_leaf: 8, criterion: gini, ROC-AUC: 0.9610015583227923\n"
          ]
        },
        {
          "output_type": "stream",
          "name": "stderr",
          "text": [
            "[I 2024-05-13 19:40:40,698] Trial 27 finished with value: 0.7902524565144529 and parameters: {'max_depth': 3, 'min_samples_split': 3, 'min_samples_leaf': 9, 'criterion': 'entropy'}. Best is trial 12 with value: 0.9628950086997904.\n"
          ]
        },
        {
          "output_type": "stream",
          "name": "stdout",
          "text": [
            "Trial 27, max_depth: 3, min_samples_split: 3, min_samples_leaf: 9, criterion: entropy, ROC-AUC: 0.7902524565144529\n"
          ]
        },
        {
          "output_type": "stream",
          "name": "stderr",
          "text": [
            "[I 2024-05-13 19:40:41,017] Trial 28 finished with value: 0.9621034938567401 and parameters: {'max_depth': 10, 'min_samples_split': 7, 'min_samples_leaf': 6, 'criterion': 'entropy'}. Best is trial 12 with value: 0.9628950086997904.\n"
          ]
        },
        {
          "output_type": "stream",
          "name": "stdout",
          "text": [
            "Trial 28, max_depth: 10, min_samples_split: 7, min_samples_leaf: 6, criterion: entropy, ROC-AUC: 0.9621034938567401\n"
          ]
        },
        {
          "output_type": "stream",
          "name": "stderr",
          "text": [
            "[I 2024-05-13 19:40:41,327] Trial 29 finished with value: 0.963140288356897 and parameters: {'max_depth': 10, 'min_samples_split': 6, 'min_samples_leaf': 10, 'criterion': 'entropy'}. Best is trial 29 with value: 0.963140288356897.\n"
          ]
        },
        {
          "output_type": "stream",
          "name": "stdout",
          "text": [
            "Trial 29, max_depth: 10, min_samples_split: 6, min_samples_leaf: 10, criterion: entropy, ROC-AUC: 0.963140288356897\n"
          ]
        },
        {
          "output_type": "stream",
          "name": "stderr",
          "text": [
            "[I 2024-05-13 19:40:41,642] Trial 30 finished with value: 0.9592644587230803 and parameters: {'max_depth': 9, 'min_samples_split': 6, 'min_samples_leaf': 10, 'criterion': 'entropy'}. Best is trial 29 with value: 0.963140288356897.\n"
          ]
        },
        {
          "output_type": "stream",
          "name": "stdout",
          "text": [
            "Trial 30, max_depth: 9, min_samples_split: 6, min_samples_leaf: 10, criterion: entropy, ROC-AUC: 0.9592644587230803\n"
          ]
        },
        {
          "output_type": "stream",
          "name": "stderr",
          "text": [
            "[I 2024-05-13 19:40:41,952] Trial 31 finished with value: 0.962839582182083 and parameters: {'max_depth': 10, 'min_samples_split': 5, 'min_samples_leaf': 8, 'criterion': 'entropy'}. Best is trial 29 with value: 0.963140288356897.\n"
          ]
        },
        {
          "output_type": "stream",
          "name": "stdout",
          "text": [
            "Trial 31, max_depth: 10, min_samples_split: 5, min_samples_leaf: 8, criterion: entropy, ROC-AUC: 0.962839582182083\n"
          ]
        },
        {
          "output_type": "stream",
          "name": "stderr",
          "text": [
            "[I 2024-05-13 19:40:42,260] Trial 32 finished with value: 0.963194831712791 and parameters: {'max_depth': 10, 'min_samples_split': 5, 'min_samples_leaf': 10, 'criterion': 'entropy'}. Best is trial 32 with value: 0.963194831712791.\n"
          ]
        },
        {
          "output_type": "stream",
          "name": "stdout",
          "text": [
            "Trial 32, max_depth: 10, min_samples_split: 5, min_samples_leaf: 10, criterion: entropy, ROC-AUC: 0.963194831712791\n"
          ]
        },
        {
          "output_type": "stream",
          "name": "stderr",
          "text": [
            "[I 2024-05-13 19:40:42,570] Trial 33 finished with value: 0.9593846225585416 and parameters: {'max_depth': 9, 'min_samples_split': 5, 'min_samples_leaf': 10, 'criterion': 'entropy'}. Best is trial 32 with value: 0.963194831712791.\n"
          ]
        },
        {
          "output_type": "stream",
          "name": "stdout",
          "text": [
            "Trial 33, max_depth: 9, min_samples_split: 5, min_samples_leaf: 10, criterion: entropy, ROC-AUC: 0.9593846225585416\n"
          ]
        },
        {
          "output_type": "stream",
          "name": "stderr",
          "text": [
            "[I 2024-05-13 19:40:42,833] Trial 34 finished with value: 0.9583271786427737 and parameters: {'max_depth': 8, 'min_samples_split': 6, 'min_samples_leaf': 9, 'criterion': 'gini'}. Best is trial 32 with value: 0.963194831712791.\n"
          ]
        },
        {
          "output_type": "stream",
          "name": "stdout",
          "text": [
            "Trial 34, max_depth: 8, min_samples_split: 6, min_samples_leaf: 9, criterion: gini, ROC-AUC: 0.9583271786427737\n"
          ]
        },
        {
          "output_type": "stream",
          "name": "stderr",
          "text": [
            "[I 2024-05-13 19:40:43,153] Trial 35 finished with value: 0.9631569713284144 and parameters: {'max_depth': 10, 'min_samples_split': 5, 'min_samples_leaf': 10, 'criterion': 'entropy'}. Best is trial 32 with value: 0.963194831712791.\n"
          ]
        },
        {
          "output_type": "stream",
          "name": "stdout",
          "text": [
            "Trial 35, max_depth: 10, min_samples_split: 5, min_samples_leaf: 10, criterion: entropy, ROC-AUC: 0.9631569713284144\n"
          ]
        },
        {
          "output_type": "stream",
          "name": "stderr",
          "text": [
            "[I 2024-05-13 19:40:43,422] Trial 36 finished with value: 0.910149033015127 and parameters: {'max_depth': 6, 'min_samples_split': 3, 'min_samples_leaf': 10, 'criterion': 'entropy'}. Best is trial 32 with value: 0.963194831712791.\n"
          ]
        },
        {
          "output_type": "stream",
          "name": "stdout",
          "text": [
            "Trial 36, max_depth: 6, min_samples_split: 3, min_samples_leaf: 10, criterion: entropy, ROC-AUC: 0.910149033015127\n"
          ]
        },
        {
          "output_type": "stream",
          "name": "stderr",
          "text": [
            "[I 2024-05-13 19:40:43,747] Trial 37 finished with value: 0.9599446146982696 and parameters: {'max_depth': 9, 'min_samples_split': 6, 'min_samples_leaf': 10, 'criterion': 'entropy'}. Best is trial 32 with value: 0.963194831712791.\n"
          ]
        },
        {
          "output_type": "stream",
          "name": "stdout",
          "text": [
            "Trial 37, max_depth: 9, min_samples_split: 6, min_samples_leaf: 10, criterion: entropy, ROC-AUC: 0.9599446146982696\n"
          ]
        },
        {
          "output_type": "stream",
          "name": "stderr",
          "text": [
            "[I 2024-05-13 19:40:44,005] Trial 38 finished with value: 0.9396942006175493 and parameters: {'max_depth': 7, 'min_samples_split': 6, 'min_samples_leaf': 9, 'criterion': 'gini'}. Best is trial 32 with value: 0.963194831712791.\n"
          ]
        },
        {
          "output_type": "stream",
          "name": "stdout",
          "text": [
            "Trial 38, max_depth: 7, min_samples_split: 6, min_samples_leaf: 9, criterion: gini, ROC-AUC: 0.9396942006175493\n"
          ]
        },
        {
          "output_type": "stream",
          "name": "stderr",
          "text": [
            "[I 2024-05-13 19:40:44,316] Trial 39 finished with value: 0.957284493846481 and parameters: {'max_depth': 9, 'min_samples_split': 7, 'min_samples_leaf': 3, 'criterion': 'entropy'}. Best is trial 32 with value: 0.963194831712791.\n"
          ]
        },
        {
          "output_type": "stream",
          "name": "stdout",
          "text": [
            "Trial 39, max_depth: 9, min_samples_split: 7, min_samples_leaf: 3, criterion: entropy, ROC-AUC: 0.957284493846481\n"
          ]
        },
        {
          "output_type": "stream",
          "name": "stderr",
          "text": [
            "[I 2024-05-13 19:40:44,578] Trial 40 finished with value: 0.9387563690558591 and parameters: {'max_depth': 7, 'min_samples_split': 5, 'min_samples_leaf': 10, 'criterion': 'gini'}. Best is trial 32 with value: 0.963194831712791.\n"
          ]
        },
        {
          "output_type": "stream",
          "name": "stdout",
          "text": [
            "Trial 40, max_depth: 7, min_samples_split: 5, min_samples_leaf: 10, criterion: gini, ROC-AUC: 0.9387563690558591\n"
          ]
        },
        {
          "output_type": "stream",
          "name": "stderr",
          "text": [
            "[I 2024-05-13 19:40:44,903] Trial 41 finished with value: 0.9619734318539784 and parameters: {'max_depth': 10, 'min_samples_split': 5, 'min_samples_leaf': 9, 'criterion': 'entropy'}. Best is trial 32 with value: 0.963194831712791.\n"
          ]
        },
        {
          "output_type": "stream",
          "name": "stdout",
          "text": [
            "Trial 41, max_depth: 10, min_samples_split: 5, min_samples_leaf: 9, criterion: entropy, ROC-AUC: 0.9619734318539784\n"
          ]
        },
        {
          "output_type": "stream",
          "name": "stderr",
          "text": [
            "[I 2024-05-13 19:40:45,216] Trial 42 finished with value: 0.9639446498136488 and parameters: {'max_depth': 10, 'min_samples_split': 4, 'min_samples_leaf': 10, 'criterion': 'entropy'}. Best is trial 42 with value: 0.9639446498136488.\n"
          ]
        },
        {
          "output_type": "stream",
          "name": "stdout",
          "text": [
            "Trial 42, max_depth: 10, min_samples_split: 4, min_samples_leaf: 10, criterion: entropy, ROC-AUC: 0.9639446498136488\n"
          ]
        },
        {
          "output_type": "stream",
          "name": "stderr",
          "text": [
            "[I 2024-05-13 19:40:45,527] Trial 43 finished with value: 0.9636110323381084 and parameters: {'max_depth': 10, 'min_samples_split': 4, 'min_samples_leaf': 10, 'criterion': 'entropy'}. Best is trial 42 with value: 0.9639446498136488.\n"
          ]
        },
        {
          "output_type": "stream",
          "name": "stdout",
          "text": [
            "Trial 43, max_depth: 10, min_samples_split: 4, min_samples_leaf: 10, criterion: entropy, ROC-AUC: 0.9636110323381084\n"
          ]
        },
        {
          "output_type": "stream",
          "name": "stderr",
          "text": [
            "[I 2024-05-13 19:40:45,784] Trial 44 finished with value: 0.8819016800096664 and parameters: {'max_depth': 5, 'min_samples_split': 2, 'min_samples_leaf': 10, 'criterion': 'entropy'}. Best is trial 42 with value: 0.9639446498136488.\n"
          ]
        },
        {
          "output_type": "stream",
          "name": "stdout",
          "text": [
            "Trial 44, max_depth: 5, min_samples_split: 2, min_samples_leaf: 10, criterion: entropy, ROC-AUC: 0.8819016800096664\n"
          ]
        },
        {
          "output_type": "stream",
          "name": "stderr",
          "text": [
            "[I 2024-05-13 19:40:46,090] Trial 45 finished with value: 0.9598368177668661 and parameters: {'max_depth': 9, 'min_samples_split': 4, 'min_samples_leaf': 10, 'criterion': 'entropy'}. Best is trial 42 with value: 0.9639446498136488.\n"
          ]
        },
        {
          "output_type": "stream",
          "name": "stdout",
          "text": [
            "Trial 45, max_depth: 9, min_samples_split: 4, min_samples_leaf: 10, criterion: entropy, ROC-AUC: 0.9598368177668661\n"
          ]
        },
        {
          "output_type": "stream",
          "name": "stderr",
          "text": [
            "[I 2024-05-13 19:40:46,400] Trial 46 finished with value: 0.9610437418990287 and parameters: {'max_depth': 10, 'min_samples_split': 3, 'min_samples_leaf': 4, 'criterion': 'entropy'}. Best is trial 42 with value: 0.9639446498136488.\n"
          ]
        },
        {
          "output_type": "stream",
          "name": "stdout",
          "text": [
            "Trial 46, max_depth: 10, min_samples_split: 3, min_samples_leaf: 4, criterion: entropy, ROC-AUC: 0.9610437418990287\n"
          ]
        },
        {
          "output_type": "stream",
          "name": "stderr",
          "text": [
            "[I 2024-05-13 19:40:46,705] Trial 47 finished with value: 0.948612555693287 and parameters: {'max_depth': 8, 'min_samples_split': 4, 'min_samples_leaf': 9, 'criterion': 'entropy'}. Best is trial 42 with value: 0.9639446498136488.\n"
          ]
        },
        {
          "output_type": "stream",
          "name": "stdout",
          "text": [
            "Trial 47, max_depth: 8, min_samples_split: 4, min_samples_leaf: 9, criterion: entropy, ROC-AUC: 0.948612555693287\n"
          ]
        },
        {
          "output_type": "stream",
          "name": "stderr",
          "text": [
            "[I 2024-05-13 19:40:46,989] Trial 48 finished with value: 0.9631052183627743 and parameters: {'max_depth': 10, 'min_samples_split': 4, 'min_samples_leaf': 10, 'criterion': 'gini'}. Best is trial 42 with value: 0.9639446498136488.\n"
          ]
        },
        {
          "output_type": "stream",
          "name": "stdout",
          "text": [
            "Trial 48, max_depth: 10, min_samples_split: 4, min_samples_leaf: 10, criterion: gini, ROC-AUC: 0.9631052183627743\n"
          ]
        },
        {
          "output_type": "stream",
          "name": "stderr",
          "text": [
            "[I 2024-05-13 19:40:47,290] Trial 49 finished with value: 0.9592776765972155 and parameters: {'max_depth': 9, 'min_samples_split': 5, 'min_samples_leaf': 9, 'criterion': 'entropy'}. Best is trial 42 with value: 0.9639446498136488.\n"
          ]
        },
        {
          "output_type": "stream",
          "name": "stdout",
          "text": [
            "Trial 49, max_depth: 9, min_samples_split: 5, min_samples_leaf: 9, criterion: entropy, ROC-AUC: 0.9592776765972155\n"
          ]
        },
        {
          "output_type": "stream",
          "name": "stderr",
          "text": [
            "[I 2024-05-13 19:40:47,693] Trial 50 finished with value: 0.9630979316841117 and parameters: {'max_depth': 10, 'min_samples_split': 2, 'min_samples_leaf': 10, 'criterion': 'entropy'}. Best is trial 42 with value: 0.9639446498136488.\n"
          ]
        },
        {
          "output_type": "stream",
          "name": "stdout",
          "text": [
            "Trial 50, max_depth: 10, min_samples_split: 2, min_samples_leaf: 10, criterion: entropy, ROC-AUC: 0.9630979316841117\n"
          ]
        },
        {
          "output_type": "stream",
          "name": "stderr",
          "text": [
            "[I 2024-05-13 19:40:48,106] Trial 51 finished with value: 0.9639275021728894 and parameters: {'max_depth': 10, 'min_samples_split': 4, 'min_samples_leaf': 10, 'criterion': 'gini'}. Best is trial 42 with value: 0.9639446498136488.\n"
          ]
        },
        {
          "output_type": "stream",
          "name": "stdout",
          "text": [
            "Trial 51, max_depth: 10, min_samples_split: 4, min_samples_leaf: 10, criterion: gini, ROC-AUC: 0.9639275021728894\n"
          ]
        },
        {
          "output_type": "stream",
          "name": "stderr",
          "text": [
            "[I 2024-05-13 19:40:48,518] Trial 52 finished with value: 0.9506495506054726 and parameters: {'max_depth': 10, 'min_samples_split': 4, 'min_samples_leaf': 1, 'criterion': 'gini'}. Best is trial 42 with value: 0.9639446498136488.\n"
          ]
        },
        {
          "output_type": "stream",
          "name": "stdout",
          "text": [
            "Trial 52, max_depth: 10, min_samples_split: 4, min_samples_leaf: 1, criterion: gini, ROC-AUC: 0.9506495506054726\n"
          ]
        },
        {
          "output_type": "stream",
          "name": "stderr",
          "text": [
            "[I 2024-05-13 19:40:48,927] Trial 53 finished with value: 0.9612567878650706 and parameters: {'max_depth': 9, 'min_samples_split': 3, 'min_samples_leaf': 10, 'criterion': 'gini'}. Best is trial 42 with value: 0.9639446498136488.\n"
          ]
        },
        {
          "output_type": "stream",
          "name": "stdout",
          "text": [
            "Trial 53, max_depth: 9, min_samples_split: 3, min_samples_leaf: 10, criterion: gini, ROC-AUC: 0.9612567878650706\n"
          ]
        },
        {
          "output_type": "stream",
          "name": "stderr",
          "text": [
            "[I 2024-05-13 19:40:49,341] Trial 54 finished with value: 0.9631207959967243 and parameters: {'max_depth': 10, 'min_samples_split': 5, 'min_samples_leaf': 9, 'criterion': 'gini'}. Best is trial 42 with value: 0.9639446498136488.\n"
          ]
        },
        {
          "output_type": "stream",
          "name": "stdout",
          "text": [
            "Trial 54, max_depth: 10, min_samples_split: 5, min_samples_leaf: 9, criterion: gini, ROC-AUC: 0.9631207959967243\n"
          ]
        },
        {
          "output_type": "stream",
          "name": "stderr",
          "text": [
            "[I 2024-05-13 19:40:49,753] Trial 55 finished with value: 0.9611705203446916 and parameters: {'max_depth': 9, 'min_samples_split': 4, 'min_samples_leaf': 10, 'criterion': 'gini'}. Best is trial 42 with value: 0.9639446498136488.\n"
          ]
        },
        {
          "output_type": "stream",
          "name": "stdout",
          "text": [
            "Trial 55, max_depth: 9, min_samples_split: 4, min_samples_leaf: 10, criterion: gini, ROC-AUC: 0.9611705203446916\n"
          ]
        },
        {
          "output_type": "stream",
          "name": "stderr",
          "text": [
            "[I 2024-05-13 19:40:50,050] Trial 56 finished with value: 0.733584655009923 and parameters: {'max_depth': 2, 'min_samples_split': 6, 'min_samples_leaf': 9, 'criterion': 'entropy'}. Best is trial 42 with value: 0.9639446498136488.\n"
          ]
        },
        {
          "output_type": "stream",
          "name": "stdout",
          "text": [
            "Trial 56, max_depth: 2, min_samples_split: 6, min_samples_leaf: 9, criterion: entropy, ROC-AUC: 0.733584655009923\n"
          ]
        },
        {
          "output_type": "stream",
          "name": "stderr",
          "text": [
            "[I 2024-05-13 19:40:50,555] Trial 57 finished with value: 0.962924858355305 and parameters: {'max_depth': 10, 'min_samples_split': 3, 'min_samples_leaf': 10, 'criterion': 'entropy'}. Best is trial 42 with value: 0.9639446498136488.\n"
          ]
        },
        {
          "output_type": "stream",
          "name": "stdout",
          "text": [
            "Trial 57, max_depth: 10, min_samples_split: 3, min_samples_leaf: 10, criterion: entropy, ROC-AUC: 0.962924858355305\n"
          ]
        },
        {
          "output_type": "stream",
          "name": "stderr",
          "text": [
            "[I 2024-05-13 19:40:50,853] Trial 58 finished with value: 0.9579013228713779 and parameters: {'max_depth': 8, 'min_samples_split': 4, 'min_samples_leaf': 10, 'criterion': 'gini'}. Best is trial 42 with value: 0.9639446498136488.\n"
          ]
        },
        {
          "output_type": "stream",
          "name": "stdout",
          "text": [
            "Trial 58, max_depth: 8, min_samples_split: 4, min_samples_leaf: 10, criterion: gini, ROC-AUC: 0.9579013228713779\n"
          ]
        },
        {
          "output_type": "stream",
          "name": "stderr",
          "text": [
            "[I 2024-05-13 19:40:51,166] Trial 59 finished with value: 0.9629077669181505 and parameters: {'max_depth': 10, 'min_samples_split': 5, 'min_samples_leaf': 9, 'criterion': 'entropy'}. Best is trial 42 with value: 0.9639446498136488.\n"
          ]
        },
        {
          "output_type": "stream",
          "name": "stdout",
          "text": [
            "Trial 59, max_depth: 10, min_samples_split: 5, min_samples_leaf: 9, criterion: entropy, ROC-AUC: 0.9629077669181505\n"
          ]
        },
        {
          "output_type": "stream",
          "name": "stderr",
          "text": [
            "[I 2024-05-13 19:40:51,411] Trial 60 finished with value: 0.8818441660425691 and parameters: {'max_depth': 5, 'min_samples_split': 4, 'min_samples_leaf': 8, 'criterion': 'entropy'}. Best is trial 42 with value: 0.9639446498136488.\n"
          ]
        },
        {
          "output_type": "stream",
          "name": "stdout",
          "text": [
            "Trial 60, max_depth: 5, min_samples_split: 4, min_samples_leaf: 8, criterion: entropy, ROC-AUC: 0.8818441660425691\n"
          ]
        },
        {
          "output_type": "stream",
          "name": "stderr",
          "text": [
            "[I 2024-05-13 19:40:51,695] Trial 61 finished with value: 0.9627144146425664 and parameters: {'max_depth': 10, 'min_samples_split': 5, 'min_samples_leaf': 9, 'criterion': 'gini'}. Best is trial 42 with value: 0.9639446498136488.\n"
          ]
        },
        {
          "output_type": "stream",
          "name": "stdout",
          "text": [
            "Trial 61, max_depth: 10, min_samples_split: 5, min_samples_leaf: 9, criterion: gini, ROC-AUC: 0.9627144146425664\n"
          ]
        },
        {
          "output_type": "stream",
          "name": "stderr",
          "text": [
            "[I 2024-05-13 19:40:51,986] Trial 62 finished with value: 0.9638254670345434 and parameters: {'max_depth': 10, 'min_samples_split': 5, 'min_samples_leaf': 10, 'criterion': 'gini'}. Best is trial 42 with value: 0.9639446498136488.\n"
          ]
        },
        {
          "output_type": "stream",
          "name": "stdout",
          "text": [
            "Trial 62, max_depth: 10, min_samples_split: 5, min_samples_leaf: 10, criterion: gini, ROC-AUC: 0.9638254670345434\n"
          ]
        },
        {
          "output_type": "stream",
          "name": "stderr",
          "text": [
            "[I 2024-05-13 19:40:52,264] Trial 63 finished with value: 0.9607993411818686 and parameters: {'max_depth': 9, 'min_samples_split': 4, 'min_samples_leaf': 10, 'criterion': 'gini'}. Best is trial 42 with value: 0.9639446498136488.\n"
          ]
        },
        {
          "output_type": "stream",
          "name": "stdout",
          "text": [
            "Trial 63, max_depth: 9, min_samples_split: 4, min_samples_leaf: 10, criterion: gini, ROC-AUC: 0.9607993411818686\n"
          ]
        },
        {
          "output_type": "stream",
          "name": "stderr",
          "text": [
            "[I 2024-05-13 19:40:52,544] Trial 64 finished with value: 0.9643698614864528 and parameters: {'max_depth': 10, 'min_samples_split': 6, 'min_samples_leaf': 10, 'criterion': 'gini'}. Best is trial 64 with value: 0.9643698614864528.\n"
          ]
        },
        {
          "output_type": "stream",
          "name": "stdout",
          "text": [
            "Trial 64, max_depth: 10, min_samples_split: 6, min_samples_leaf: 10, criterion: gini, ROC-AUC: 0.9643698614864528\n"
          ]
        },
        {
          "output_type": "stream",
          "name": "stderr",
          "text": [
            "[I 2024-05-13 19:40:52,817] Trial 65 finished with value: 0.9610991982336721 and parameters: {'max_depth': 9, 'min_samples_split': 5, 'min_samples_leaf': 10, 'criterion': 'gini'}. Best is trial 64 with value: 0.9643698614864528.\n"
          ]
        },
        {
          "output_type": "stream",
          "name": "stdout",
          "text": [
            "Trial 65, max_depth: 9, min_samples_split: 5, min_samples_leaf: 10, criterion: gini, ROC-AUC: 0.9610991982336721\n"
          ]
        },
        {
          "output_type": "stream",
          "name": "stderr",
          "text": [
            "[I 2024-05-13 19:40:53,117] Trial 66 finished with value: 0.9631808990237903 and parameters: {'max_depth': 10, 'min_samples_split': 6, 'min_samples_leaf': 9, 'criterion': 'gini'}. Best is trial 64 with value: 0.9643698614864528.\n"
          ]
        },
        {
          "output_type": "stream",
          "name": "stdout",
          "text": [
            "Trial 66, max_depth: 10, min_samples_split: 6, min_samples_leaf: 9, criterion: gini, ROC-AUC: 0.9631808990237903\n"
          ]
        },
        {
          "output_type": "stream",
          "name": "stderr",
          "text": [
            "[I 2024-05-13 19:40:53,397] Trial 67 finished with value: 0.9639589389865485 and parameters: {'max_depth': 10, 'min_samples_split': 6, 'min_samples_leaf': 9, 'criterion': 'gini'}. Best is trial 64 with value: 0.9643698614864528.\n"
          ]
        },
        {
          "output_type": "stream",
          "name": "stdout",
          "text": [
            "Trial 67, max_depth: 10, min_samples_split: 6, min_samples_leaf: 9, criterion: gini, ROC-AUC: 0.9639589389865485\n"
          ]
        },
        {
          "output_type": "stream",
          "name": "stderr",
          "text": [
            "[I 2024-05-13 19:40:53,685] Trial 68 finished with value: 0.9618805766378005 and parameters: {'max_depth': 9, 'min_samples_split': 7, 'min_samples_leaf': 9, 'criterion': 'gini'}. Best is trial 64 with value: 0.9643698614864528.\n"
          ]
        },
        {
          "output_type": "stream",
          "name": "stdout",
          "text": [
            "Trial 68, max_depth: 9, min_samples_split: 7, min_samples_leaf: 9, criterion: gini, ROC-AUC: 0.9618805766378005\n"
          ]
        },
        {
          "output_type": "stream",
          "name": "stderr",
          "text": [
            "[I 2024-05-13 19:40:53,946] Trial 69 finished with value: 0.9263224135691989 and parameters: {'max_depth': 6, 'min_samples_split': 6, 'min_samples_leaf': 10, 'criterion': 'gini'}. Best is trial 64 with value: 0.9643698614864528.\n"
          ]
        },
        {
          "output_type": "stream",
          "name": "stdout",
          "text": [
            "Trial 69, max_depth: 6, min_samples_split: 6, min_samples_leaf: 10, criterion: gini, ROC-AUC: 0.9263224135691989\n"
          ]
        },
        {
          "output_type": "stream",
          "name": "stderr",
          "text": [
            "[I 2024-05-13 19:40:54,162] Trial 70 finished with value: 0.8633069634461885 and parameters: {'max_depth': 4, 'min_samples_split': 7, 'min_samples_leaf': 8, 'criterion': 'gini'}. Best is trial 64 with value: 0.9643698614864528.\n"
          ]
        },
        {
          "output_type": "stream",
          "name": "stdout",
          "text": [
            "Trial 70, max_depth: 4, min_samples_split: 7, min_samples_leaf: 8, criterion: gini, ROC-AUC: 0.8633069634461885\n"
          ]
        },
        {
          "output_type": "stream",
          "name": "stderr",
          "text": [
            "[I 2024-05-13 19:40:54,454] Trial 71 finished with value: 0.9639771840488743 and parameters: {'max_depth': 10, 'min_samples_split': 6, 'min_samples_leaf': 9, 'criterion': 'gini'}. Best is trial 64 with value: 0.9643698614864528.\n"
          ]
        },
        {
          "output_type": "stream",
          "name": "stdout",
          "text": [
            "Trial 71, max_depth: 10, min_samples_split: 6, min_samples_leaf: 9, criterion: gini, ROC-AUC: 0.9639771840488743\n"
          ]
        },
        {
          "output_type": "stream",
          "name": "stderr",
          "text": [
            "[I 2024-05-13 19:40:54,741] Trial 72 finished with value: 0.9628633130329078 and parameters: {'max_depth': 10, 'min_samples_split': 6, 'min_samples_leaf': 9, 'criterion': 'gini'}. Best is trial 64 with value: 0.9643698614864528.\n"
          ]
        },
        {
          "output_type": "stream",
          "name": "stdout",
          "text": [
            "Trial 72, max_depth: 10, min_samples_split: 6, min_samples_leaf: 9, criterion: gini, ROC-AUC: 0.9628633130329078\n"
          ]
        },
        {
          "output_type": "stream",
          "name": "stderr",
          "text": [
            "[I 2024-05-13 19:40:55,043] Trial 73 finished with value: 0.9637317996366915 and parameters: {'max_depth': 10, 'min_samples_split': 6, 'min_samples_leaf': 10, 'criterion': 'gini'}. Best is trial 64 with value: 0.9643698614864528.\n"
          ]
        },
        {
          "output_type": "stream",
          "name": "stdout",
          "text": [
            "Trial 73, max_depth: 10, min_samples_split: 6, min_samples_leaf: 10, criterion: gini, ROC-AUC: 0.9637317996366915\n"
          ]
        },
        {
          "output_type": "stream",
          "name": "stderr",
          "text": [
            "[I 2024-05-13 19:40:55,328] Trial 74 finished with value: 0.9637607809069271 and parameters: {'max_depth': 10, 'min_samples_split': 6, 'min_samples_leaf': 10, 'criterion': 'gini'}. Best is trial 64 with value: 0.9643698614864528.\n"
          ]
        },
        {
          "output_type": "stream",
          "name": "stdout",
          "text": [
            "Trial 74, max_depth: 10, min_samples_split: 6, min_samples_leaf: 10, criterion: gini, ROC-AUC: 0.9637607809069271\n"
          ]
        },
        {
          "output_type": "stream",
          "name": "stderr",
          "text": [
            "[I 2024-05-13 19:40:55,604] Trial 75 finished with value: 0.9615649759798984 and parameters: {'max_depth': 9, 'min_samples_split': 6, 'min_samples_leaf': 9, 'criterion': 'gini'}. Best is trial 64 with value: 0.9643698614864528.\n"
          ]
        },
        {
          "output_type": "stream",
          "name": "stdout",
          "text": [
            "Trial 75, max_depth: 9, min_samples_split: 6, min_samples_leaf: 9, criterion: gini, ROC-AUC: 0.9615649759798984\n"
          ]
        },
        {
          "output_type": "stream",
          "name": "stderr",
          "text": [
            "[I 2024-05-13 19:40:55,884] Trial 76 finished with value: 0.9609947909337769 and parameters: {'max_depth': 10, 'min_samples_split': 7, 'min_samples_leaf': 8, 'criterion': 'gini'}. Best is trial 64 with value: 0.9643698614864528.\n"
          ]
        },
        {
          "output_type": "stream",
          "name": "stdout",
          "text": [
            "Trial 76, max_depth: 10, min_samples_split: 7, min_samples_leaf: 8, criterion: gini, ROC-AUC: 0.9609947909337769\n"
          ]
        },
        {
          "output_type": "stream",
          "name": "stderr",
          "text": [
            "[I 2024-05-13 19:40:56,190] Trial 77 finished with value: 0.9627207901895464 and parameters: {'max_depth': 10, 'min_samples_split': 6, 'min_samples_leaf': 10, 'criterion': 'gini'}. Best is trial 64 with value: 0.9643698614864528.\n"
          ]
        },
        {
          "output_type": "stream",
          "name": "stdout",
          "text": [
            "Trial 77, max_depth: 10, min_samples_split: 6, min_samples_leaf: 10, criterion: gini, ROC-AUC: 0.9627207901895464\n"
          ]
        },
        {
          "output_type": "stream",
          "name": "stderr",
          "text": [
            "[I 2024-05-13 19:40:56,462] Trial 78 finished with value: 0.9614577099482766 and parameters: {'max_depth': 9, 'min_samples_split': 6, 'min_samples_leaf': 9, 'criterion': 'gini'}. Best is trial 64 with value: 0.9643698614864528.\n"
          ]
        },
        {
          "output_type": "stream",
          "name": "stdout",
          "text": [
            "Trial 78, max_depth: 9, min_samples_split: 6, min_samples_leaf: 9, criterion: gini, ROC-AUC: 0.9614577099482766\n"
          ]
        },
        {
          "output_type": "stream",
          "name": "stderr",
          "text": [
            "[I 2024-05-13 19:40:56,748] Trial 79 finished with value: 0.9642224887733167 and parameters: {'max_depth': 10, 'min_samples_split': 7, 'min_samples_leaf': 10, 'criterion': 'gini'}. Best is trial 64 with value: 0.9643698614864528.\n"
          ]
        },
        {
          "output_type": "stream",
          "name": "stdout",
          "text": [
            "Trial 79, max_depth: 10, min_samples_split: 7, min_samples_leaf: 10, criterion: gini, ROC-AUC: 0.9642224887733167\n"
          ]
        },
        {
          "output_type": "stream",
          "name": "stderr",
          "text": [
            "[I 2024-05-13 19:40:57,052] Trial 80 finished with value: 0.9636360155002471 and parameters: {'max_depth': 10, 'min_samples_split': 7, 'min_samples_leaf': 10, 'criterion': 'gini'}. Best is trial 64 with value: 0.9643698614864528.\n"
          ]
        },
        {
          "output_type": "stream",
          "name": "stdout",
          "text": [
            "Trial 80, max_depth: 10, min_samples_split: 7, min_samples_leaf: 10, criterion: gini, ROC-AUC: 0.9636360155002471\n"
          ]
        },
        {
          "output_type": "stream",
          "name": "stderr",
          "text": [
            "[I 2024-05-13 19:40:57,332] Trial 81 finished with value: 0.9641092390367507 and parameters: {'max_depth': 10, 'min_samples_split': 7, 'min_samples_leaf': 10, 'criterion': 'gini'}. Best is trial 64 with value: 0.9643698614864528.\n"
          ]
        },
        {
          "output_type": "stream",
          "name": "stdout",
          "text": [
            "Trial 81, max_depth: 10, min_samples_split: 7, min_samples_leaf: 10, criterion: gini, ROC-AUC: 0.9641092390367507\n"
          ]
        },
        {
          "output_type": "stream",
          "name": "stderr",
          "text": [
            "[I 2024-05-13 19:40:57,615] Trial 82 finished with value: 0.9647926389890351 and parameters: {'max_depth': 10, 'min_samples_split': 7, 'min_samples_leaf': 10, 'criterion': 'gini'}. Best is trial 82 with value: 0.9647926389890351.\n"
          ]
        },
        {
          "output_type": "stream",
          "name": "stdout",
          "text": [
            "Trial 82, max_depth: 10, min_samples_split: 7, min_samples_leaf: 10, criterion: gini, ROC-AUC: 0.9647926389890351\n"
          ]
        },
        {
          "output_type": "stream",
          "name": "stderr",
          "text": [
            "[I 2024-05-13 19:40:57,893] Trial 83 finished with value: 0.9614286054522964 and parameters: {'max_depth': 9, 'min_samples_split': 8, 'min_samples_leaf': 10, 'criterion': 'gini'}. Best is trial 82 with value: 0.9647926389890351.\n"
          ]
        },
        {
          "output_type": "stream",
          "name": "stdout",
          "text": [
            "Trial 83, max_depth: 9, min_samples_split: 8, min_samples_leaf: 10, criterion: gini, ROC-AUC: 0.9614286054522964\n"
          ]
        },
        {
          "output_type": "stream",
          "name": "stderr",
          "text": [
            "[I 2024-05-13 19:40:58,190] Trial 84 finished with value: 0.9631002283797873 and parameters: {'max_depth': 10, 'min_samples_split': 7, 'min_samples_leaf': 9, 'criterion': 'gini'}. Best is trial 82 with value: 0.9647926389890351.\n"
          ]
        },
        {
          "output_type": "stream",
          "name": "stdout",
          "text": [
            "Trial 84, max_depth: 10, min_samples_split: 7, min_samples_leaf: 9, criterion: gini, ROC-AUC: 0.9631002283797873\n"
          ]
        },
        {
          "output_type": "stream",
          "name": "stderr",
          "text": [
            "[I 2024-05-13 19:40:58,471] Trial 85 finished with value: 0.964358450571415 and parameters: {'max_depth': 10, 'min_samples_split': 7, 'min_samples_leaf': 10, 'criterion': 'gini'}. Best is trial 82 with value: 0.9647926389890351.\n"
          ]
        },
        {
          "output_type": "stream",
          "name": "stdout",
          "text": [
            "Trial 85, max_depth: 10, min_samples_split: 7, min_samples_leaf: 10, criterion: gini, ROC-AUC: 0.964358450571415\n"
          ]
        },
        {
          "output_type": "stream",
          "name": "stderr",
          "text": [
            "[I 2024-05-13 19:40:58,747] Trial 86 finished with value: 0.9613382838840823 and parameters: {'max_depth': 9, 'min_samples_split': 8, 'min_samples_leaf': 7, 'criterion': 'gini'}. Best is trial 82 with value: 0.9647926389890351.\n"
          ]
        },
        {
          "output_type": "stream",
          "name": "stdout",
          "text": [
            "Trial 86, max_depth: 9, min_samples_split: 8, min_samples_leaf: 7, criterion: gini, ROC-AUC: 0.9613382838840823\n"
          ]
        },
        {
          "output_type": "stream",
          "name": "stderr",
          "text": [
            "[I 2024-05-13 19:40:59,049] Trial 87 finished with value: 0.9620305202041036 and parameters: {'max_depth': 10, 'min_samples_split': 9, 'min_samples_leaf': 5, 'criterion': 'gini'}. Best is trial 82 with value: 0.9647926389890351.\n"
          ]
        },
        {
          "output_type": "stream",
          "name": "stdout",
          "text": [
            "Trial 87, max_depth: 10, min_samples_split: 9, min_samples_leaf: 5, criterion: gini, ROC-AUC: 0.9620305202041036\n"
          ]
        },
        {
          "output_type": "stream",
          "name": "stderr",
          "text": [
            "[I 2024-05-13 19:40:59,323] Trial 88 finished with value: 0.9609369785334525 and parameters: {'max_depth': 9, 'min_samples_split': 7, 'min_samples_leaf': 9, 'criterion': 'gini'}. Best is trial 82 with value: 0.9647926389890351.\n"
          ]
        },
        {
          "output_type": "stream",
          "name": "stdout",
          "text": [
            "Trial 88, max_depth: 9, min_samples_split: 7, min_samples_leaf: 9, criterion: gini, ROC-AUC: 0.9609369785334525\n"
          ]
        },
        {
          "output_type": "stream",
          "name": "stderr",
          "text": [
            "[I 2024-05-13 19:40:59,606] Trial 89 finished with value: 0.9636919306990658 and parameters: {'max_depth': 10, 'min_samples_split': 8, 'min_samples_leaf': 10, 'criterion': 'gini'}. Best is trial 82 with value: 0.9647926389890351.\n"
          ]
        },
        {
          "output_type": "stream",
          "name": "stdout",
          "text": [
            "Trial 89, max_depth: 10, min_samples_split: 8, min_samples_leaf: 10, criterion: gini, ROC-AUC: 0.9636919306990658\n"
          ]
        },
        {
          "output_type": "stream",
          "name": "stderr",
          "text": [
            "[I 2024-05-13 19:40:59,884] Trial 90 finished with value: 0.9561825058030617 and parameters: {'max_depth': 8, 'min_samples_split': 7, 'min_samples_leaf': 3, 'criterion': 'gini'}. Best is trial 82 with value: 0.9647926389890351.\n"
          ]
        },
        {
          "output_type": "stream",
          "name": "stdout",
          "text": [
            "Trial 90, max_depth: 8, min_samples_split: 7, min_samples_leaf: 3, criterion: gini, ROC-AUC: 0.9561825058030617\n"
          ]
        },
        {
          "output_type": "stream",
          "name": "stderr",
          "text": [
            "[I 2024-05-13 19:41:00,190] Trial 91 finished with value: 0.9630313971703274 and parameters: {'max_depth': 10, 'min_samples_split': 7, 'min_samples_leaf': 10, 'criterion': 'gini'}. Best is trial 82 with value: 0.9647926389890351.\n"
          ]
        },
        {
          "output_type": "stream",
          "name": "stdout",
          "text": [
            "Trial 91, max_depth: 10, min_samples_split: 7, min_samples_leaf: 10, criterion: gini, ROC-AUC: 0.9630313971703274\n"
          ]
        },
        {
          "output_type": "stream",
          "name": "stderr",
          "text": [
            "[I 2024-05-13 19:41:00,479] Trial 92 finished with value: 0.963185358898596 and parameters: {'max_depth': 10, 'min_samples_split': 7, 'min_samples_leaf': 10, 'criterion': 'gini'}. Best is trial 82 with value: 0.9647926389890351.\n"
          ]
        },
        {
          "output_type": "stream",
          "name": "stdout",
          "text": [
            "Trial 92, max_depth: 10, min_samples_split: 7, min_samples_leaf: 10, criterion: gini, ROC-AUC: 0.963185358898596\n"
          ]
        },
        {
          "output_type": "stream",
          "name": "stderr",
          "text": [
            "[I 2024-05-13 19:41:00,829] Trial 93 finished with value: 0.9644725428343243 and parameters: {'max_depth': 10, 'min_samples_split': 8, 'min_samples_leaf': 10, 'criterion': 'gini'}. Best is trial 82 with value: 0.9647926389890351.\n"
          ]
        },
        {
          "output_type": "stream",
          "name": "stdout",
          "text": [
            "Trial 93, max_depth: 10, min_samples_split: 8, min_samples_leaf: 10, criterion: gini, ROC-AUC: 0.9644725428343243\n"
          ]
        },
        {
          "output_type": "stream",
          "name": "stderr",
          "text": [
            "[I 2024-05-13 19:41:01,248] Trial 94 finished with value: 0.9641203581152287 and parameters: {'max_depth': 10, 'min_samples_split': 8, 'min_samples_leaf': 10, 'criterion': 'gini'}. Best is trial 82 with value: 0.9647926389890351.\n"
          ]
        },
        {
          "output_type": "stream",
          "name": "stdout",
          "text": [
            "Trial 94, max_depth: 10, min_samples_split: 8, min_samples_leaf: 10, criterion: gini, ROC-AUC: 0.9641203581152287\n"
          ]
        },
        {
          "output_type": "stream",
          "name": "stderr",
          "text": [
            "[I 2024-05-13 19:41:01,648] Trial 95 finished with value: 0.9603919885344224 and parameters: {'max_depth': 9, 'min_samples_split': 8, 'min_samples_leaf': 10, 'criterion': 'gini'}. Best is trial 82 with value: 0.9647926389890351.\n"
          ]
        },
        {
          "output_type": "stream",
          "name": "stdout",
          "text": [
            "Trial 95, max_depth: 9, min_samples_split: 8, min_samples_leaf: 10, criterion: gini, ROC-AUC: 0.9603919885344224\n"
          ]
        },
        {
          "output_type": "stream",
          "name": "stderr",
          "text": [
            "[I 2024-05-13 19:41:02,066] Trial 96 finished with value: 0.9626263847565607 and parameters: {'max_depth': 10, 'min_samples_split': 10, 'min_samples_leaf': 9, 'criterion': 'gini'}. Best is trial 82 with value: 0.9647926389890351.\n"
          ]
        },
        {
          "output_type": "stream",
          "name": "stdout",
          "text": [
            "Trial 96, max_depth: 10, min_samples_split: 10, min_samples_leaf: 9, criterion: gini, ROC-AUC: 0.9626263847565607\n"
          ]
        },
        {
          "output_type": "stream",
          "name": "stderr",
          "text": [
            "[I 2024-05-13 19:41:02,493] Trial 97 finished with value: 0.9643080741983002 and parameters: {'max_depth': 10, 'min_samples_split': 9, 'min_samples_leaf': 10, 'criterion': 'gini'}. Best is trial 82 with value: 0.9647926389890351.\n"
          ]
        },
        {
          "output_type": "stream",
          "name": "stdout",
          "text": [
            "Trial 97, max_depth: 10, min_samples_split: 9, min_samples_leaf: 10, criterion: gini, ROC-AUC: 0.9643080741983002\n"
          ]
        },
        {
          "output_type": "stream",
          "name": "stderr",
          "text": [
            "[I 2024-05-13 19:41:02,911] Trial 98 finished with value: 0.9631035372680881 and parameters: {'max_depth': 10, 'min_samples_split': 9, 'min_samples_leaf': 10, 'criterion': 'gini'}. Best is trial 82 with value: 0.9647926389890351.\n"
          ]
        },
        {
          "output_type": "stream",
          "name": "stdout",
          "text": [
            "Trial 98, max_depth: 10, min_samples_split: 9, min_samples_leaf: 10, criterion: gini, ROC-AUC: 0.9631035372680881\n"
          ]
        },
        {
          "output_type": "stream",
          "name": "stderr",
          "text": [
            "[I 2024-05-13 19:41:03,353] Trial 99 finished with value: 0.9625915868089958 and parameters: {'max_depth': 10, 'min_samples_split': 8, 'min_samples_leaf': 9, 'criterion': 'gini'}. Best is trial 82 with value: 0.9647926389890351.\n"
          ]
        },
        {
          "output_type": "stream",
          "name": "stdout",
          "text": [
            "Trial 99, max_depth: 10, min_samples_split: 8, min_samples_leaf: 9, criterion: gini, ROC-AUC: 0.9625915868089958\n",
            "Best Parameters:  {'max_depth': 10, 'min_samples_split': 7, 'min_samples_leaf': 10, 'criterion': 'gini'}\n",
            "Best ROC-AUC Score:  0.9647926389890351\n"
          ]
        }
      ]
    },
    {
      "cell_type": "code",
      "source": [
        "# KNN\n",
        "def objective_function(trial):\n",
        "    n_neighbors = trial.suggest_int('n_neighbors', 1, 10)\n",
        "    weights = trial.suggest_categorical('weights', ['uniform', 'distance'])\n",
        "    p = trial.suggest_int('p', 1, 5)\n",
        "    metric = trial.suggest_categorical('metric', ['euclidean', 'manhattan', 'minkowski'])\n",
        "\n",
        "    model = KNeighborsClassifier(\n",
        "        n_neighbors=n_neighbors,\n",
        "        weights=weights,\n",
        "        p=p,\n",
        "        metric=metric\n",
        "    )\n",
        "    metrics = ['roc_auc','accuracy','precison','recall','f1-score']\n",
        "    # Using cross_val_score to get the average precision score for each fold\n",
        "    scores = cross_val_score(model, X_train_oversampled, y_train_oversampled, cv=5, scoring='roc_auc')\n",
        "    roc_auc = np.mean(scores)\n",
        "    # Printing intermediate results\n",
        "    print(f\"Trial {trial.number}, n_neighbors: {n_neighbors}, weights: {weights}, p: {p}, metric: {metric}, \"\n",
        "          f\"ROC-AUC: {roc_auc}\")\n",
        "    return roc_auc\n",
        "\n",
        "\n",
        "study_knn = optuna.create_study(direction=\"maximize\")\n",
        "study_knn.optimize(objective_function, n_trials=100)\n",
        "\n",
        "best_params_knn = study_knn.best_params\n",
        "print(\"Best Parameters: \", best_params_knn)\n",
        "print(\"Best ROC-AUC Score: \", study_knn.best_value)\n",
        "\n",
        "# Create and save model\n",
        "best_model_knn = KNeighborsClassifier(**best_params_knn)\n",
        "with open('best_models_knn_8_features.pkl', 'wb') as file:\n",
        "    pickle.dump(best_model_knn, file)"
      ],
      "metadata": {
        "colab": {
          "base_uri": "https://localhost:8080/"
        },
        "id": "j6TM7v9Cpy2s",
        "outputId": "ee8e4c2d-1d80-4daa-aef4-4d054f6ee8c3"
      },
      "execution_count": 8,
      "outputs": [
        {
          "output_type": "stream",
          "name": "stderr",
          "text": [
            "[I 2024-05-13 19:41:03,384] A new study created in memory with name: no-name-76c92874-4e9b-4351-be1c-99e7b8d00630\n",
            "[I 2024-05-13 19:41:03,739] Trial 0 finished with value: 0.924409583503105 and parameters: {'n_neighbors': 7, 'weights': 'uniform', 'p': 2, 'metric': 'euclidean'}. Best is trial 0 with value: 0.924409583503105.\n"
          ]
        },
        {
          "output_type": "stream",
          "name": "stdout",
          "text": [
            "Trial 0, n_neighbors: 7, weights: uniform, p: 2, metric: euclidean, ROC-AUC: 0.924409583503105\n"
          ]
        },
        {
          "output_type": "stream",
          "name": "stderr",
          "text": [
            "[I 2024-05-13 19:41:04,099] Trial 1 finished with value: 0.9230246250844848 and parameters: {'n_neighbors': 9, 'weights': 'uniform', 'p': 3, 'metric': 'euclidean'}. Best is trial 0 with value: 0.924409583503105.\n"
          ]
        },
        {
          "output_type": "stream",
          "name": "stdout",
          "text": [
            "Trial 1, n_neighbors: 9, weights: uniform, p: 3, metric: euclidean, ROC-AUC: 0.9230246250844848\n"
          ]
        },
        {
          "output_type": "stream",
          "name": "stderr",
          "text": [
            "[I 2024-05-13 19:41:04,713] Trial 2 finished with value: 0.9224677088387698 and parameters: {'n_neighbors': 4, 'weights': 'distance', 'p': 4, 'metric': 'minkowski'}. Best is trial 0 with value: 0.924409583503105.\n"
          ]
        },
        {
          "output_type": "stream",
          "name": "stdout",
          "text": [
            "Trial 2, n_neighbors: 4, weights: distance, p: 4, metric: minkowski, ROC-AUC: 0.9224677088387698\n"
          ]
        },
        {
          "output_type": "stream",
          "name": "stderr",
          "text": [
            "[I 2024-05-13 19:41:04,954] Trial 3 finished with value: 0.9396118583780607 and parameters: {'n_neighbors': 8, 'weights': 'uniform', 'p': 2, 'metric': 'manhattan'}. Best is trial 3 with value: 0.9396118583780607.\n"
          ]
        },
        {
          "output_type": "stream",
          "name": "stdout",
          "text": [
            "Trial 3, n_neighbors: 8, weights: uniform, p: 2, metric: manhattan, ROC-AUC: 0.9396118583780607\n"
          ]
        },
        {
          "output_type": "stream",
          "name": "stderr",
          "text": [
            "[I 2024-05-13 19:41:05,166] Trial 4 finished with value: 0.8853035235322435 and parameters: {'n_neighbors': 1, 'weights': 'distance', 'p': 2, 'metric': 'manhattan'}. Best is trial 3 with value: 0.9396118583780607.\n"
          ]
        },
        {
          "output_type": "stream",
          "name": "stdout",
          "text": [
            "Trial 4, n_neighbors: 1, weights: distance, p: 2, metric: manhattan, ROC-AUC: 0.8853035235322435\n"
          ]
        },
        {
          "output_type": "stream",
          "name": "stderr",
          "text": [
            "[I 2024-05-13 19:41:05,420] Trial 5 finished with value: 0.9339906458413786 and parameters: {'n_neighbors': 6, 'weights': 'distance', 'p': 3, 'metric': 'euclidean'}. Best is trial 3 with value: 0.9396118583780607.\n"
          ]
        },
        {
          "output_type": "stream",
          "name": "stdout",
          "text": [
            "Trial 5, n_neighbors: 6, weights: distance, p: 3, metric: euclidean, ROC-AUC: 0.9339906458413786\n"
          ]
        },
        {
          "output_type": "stream",
          "name": "stderr",
          "text": [
            "[I 2024-05-13 19:41:05,633] Trial 6 finished with value: 0.928866643378848 and parameters: {'n_neighbors': 4, 'weights': 'distance', 'p': 2, 'metric': 'euclidean'}. Best is trial 3 with value: 0.9396118583780607.\n"
          ]
        },
        {
          "output_type": "stream",
          "name": "stdout",
          "text": [
            "Trial 6, n_neighbors: 4, weights: distance, p: 2, metric: euclidean, ROC-AUC: 0.928866643378848\n"
          ]
        },
        {
          "output_type": "stream",
          "name": "stderr",
          "text": [
            "[I 2024-05-13 19:41:06,126] Trial 7 finished with value: 0.9210168180501535 and parameters: {'n_neighbors': 4, 'weights': 'distance', 'p': 5, 'metric': 'minkowski'}. Best is trial 3 with value: 0.9396118583780607.\n"
          ]
        },
        {
          "output_type": "stream",
          "name": "stdout",
          "text": [
            "Trial 7, n_neighbors: 4, weights: distance, p: 5, metric: minkowski, ROC-AUC: 0.9210168180501535\n"
          ]
        },
        {
          "output_type": "stream",
          "name": "stderr",
          "text": [
            "[I 2024-05-13 19:41:06,373] Trial 8 finished with value: 0.9444288569594713 and parameters: {'n_neighbors': 5, 'weights': 'distance', 'p': 1, 'metric': 'manhattan'}. Best is trial 8 with value: 0.9444288569594713.\n"
          ]
        },
        {
          "output_type": "stream",
          "name": "stdout",
          "text": [
            "Trial 8, n_neighbors: 5, weights: distance, p: 1, metric: manhattan, ROC-AUC: 0.9444288569594713\n"
          ]
        },
        {
          "output_type": "stream",
          "name": "stderr",
          "text": [
            "[I 2024-05-13 19:41:06,619] Trial 9 finished with value: 0.939503659841554 and parameters: {'n_neighbors': 10, 'weights': 'uniform', 'p': 5, 'metric': 'manhattan'}. Best is trial 8 with value: 0.9444288569594713.\n"
          ]
        },
        {
          "output_type": "stream",
          "name": "stdout",
          "text": [
            "Trial 9, n_neighbors: 10, weights: uniform, p: 5, metric: manhattan, ROC-AUC: 0.939503659841554\n"
          ]
        },
        {
          "output_type": "stream",
          "name": "stderr",
          "text": [
            "[I 2024-05-13 19:41:06,834] Trial 10 finished with value: 0.8853035235322435 and parameters: {'n_neighbors': 1, 'weights': 'distance', 'p': 1, 'metric': 'manhattan'}. Best is trial 8 with value: 0.9444288569594713.\n"
          ]
        },
        {
          "output_type": "stream",
          "name": "stdout",
          "text": [
            "Trial 10, n_neighbors: 1, weights: distance, p: 1, metric: manhattan, ROC-AUC: 0.8853035235322435\n"
          ]
        },
        {
          "output_type": "stream",
          "name": "stderr",
          "text": [
            "[I 2024-05-13 19:41:07,095] Trial 11 finished with value: 0.9396118583780607 and parameters: {'n_neighbors': 8, 'weights': 'uniform', 'p': 1, 'metric': 'manhattan'}. Best is trial 8 with value: 0.9444288569594713.\n"
          ]
        },
        {
          "output_type": "stream",
          "name": "stdout",
          "text": [
            "Trial 11, n_neighbors: 8, weights: uniform, p: 1, metric: manhattan, ROC-AUC: 0.9396118583780607\n"
          ]
        },
        {
          "output_type": "stream",
          "name": "stderr",
          "text": [
            "[I 2024-05-13 19:41:07,343] Trial 12 finished with value: 0.9393862581626106 and parameters: {'n_neighbors': 6, 'weights': 'uniform', 'p': 1, 'metric': 'manhattan'}. Best is trial 8 with value: 0.9444288569594713.\n"
          ]
        },
        {
          "output_type": "stream",
          "name": "stdout",
          "text": [
            "Trial 12, n_neighbors: 6, weights: uniform, p: 1, metric: manhattan, ROC-AUC: 0.9393862581626106\n"
          ]
        },
        {
          "output_type": "stream",
          "name": "stderr",
          "text": [
            "[I 2024-05-13 19:41:07,605] Trial 13 finished with value: 0.9396118583780607 and parameters: {'n_neighbors': 8, 'weights': 'uniform', 'p': 2, 'metric': 'manhattan'}. Best is trial 8 with value: 0.9444288569594713.\n"
          ]
        },
        {
          "output_type": "stream",
          "name": "stdout",
          "text": [
            "Trial 13, n_neighbors: 8, weights: uniform, p: 2, metric: manhattan, ROC-AUC: 0.9396118583780607\n"
          ]
        },
        {
          "output_type": "stream",
          "name": "stderr",
          "text": [
            "[I 2024-05-13 19:41:07,844] Trial 14 finished with value: 0.9356528249800105 and parameters: {'n_neighbors': 3, 'weights': 'distance', 'p': 1, 'metric': 'manhattan'}. Best is trial 8 with value: 0.9444288569594713.\n"
          ]
        },
        {
          "output_type": "stream",
          "name": "stdout",
          "text": [
            "Trial 14, n_neighbors: 3, weights: distance, p: 1, metric: manhattan, ROC-AUC: 0.9356528249800105\n"
          ]
        },
        {
          "output_type": "stream",
          "name": "stderr",
          "text": [
            "[I 2024-05-13 19:41:08,102] Trial 15 finished with value: 0.9398713633523279 and parameters: {'n_neighbors': 7, 'weights': 'uniform', 'p': 2, 'metric': 'manhattan'}. Best is trial 8 with value: 0.9444288569594713.\n"
          ]
        },
        {
          "output_type": "stream",
          "name": "stdout",
          "text": [
            "Trial 15, n_neighbors: 7, weights: uniform, p: 2, metric: manhattan, ROC-AUC: 0.9398713633523279\n"
          ]
        },
        {
          "output_type": "stream",
          "name": "stderr",
          "text": [
            "[I 2024-05-13 19:41:08,635] Trial 16 finished with value: 0.9187576637441636 and parameters: {'n_neighbors': 5, 'weights': 'uniform', 'p': 3, 'metric': 'minkowski'}. Best is trial 8 with value: 0.9444288569594713.\n"
          ]
        },
        {
          "output_type": "stream",
          "name": "stdout",
          "text": [
            "Trial 16, n_neighbors: 5, weights: uniform, p: 3, metric: minkowski, ROC-AUC: 0.9187576637441636\n"
          ]
        },
        {
          "output_type": "stream",
          "name": "stderr",
          "text": [
            "[I 2024-05-13 19:41:08,889] Trial 17 finished with value: 0.9472897043692482 and parameters: {'n_neighbors': 7, 'weights': 'distance', 'p': 1, 'metric': 'manhattan'}. Best is trial 17 with value: 0.9472897043692482.\n"
          ]
        },
        {
          "output_type": "stream",
          "name": "stdout",
          "text": [
            "Trial 17, n_neighbors: 7, weights: distance, p: 1, metric: manhattan, ROC-AUC: 0.9472897043692482\n"
          ]
        },
        {
          "output_type": "stream",
          "name": "stderr",
          "text": [
            "[I 2024-05-13 19:41:09,121] Trial 18 finished with value: 0.9240271089988548 and parameters: {'n_neighbors': 2, 'weights': 'distance', 'p': 4, 'metric': 'manhattan'}. Best is trial 17 with value: 0.9472897043692482.\n"
          ]
        },
        {
          "output_type": "stream",
          "name": "stdout",
          "text": [
            "Trial 18, n_neighbors: 2, weights: distance, p: 4, metric: manhattan, ROC-AUC: 0.9240271089988548\n"
          ]
        },
        {
          "output_type": "stream",
          "name": "stderr",
          "text": [
            "[I 2024-05-13 19:41:09,366] Trial 19 finished with value: 0.9444288569594713 and parameters: {'n_neighbors': 5, 'weights': 'distance', 'p': 1, 'metric': 'minkowski'}. Best is trial 17 with value: 0.9472897043692482.\n"
          ]
        },
        {
          "output_type": "stream",
          "name": "stdout",
          "text": [
            "Trial 19, n_neighbors: 5, weights: distance, p: 1, metric: minkowski, ROC-AUC: 0.9444288569594713\n"
          ]
        },
        {
          "output_type": "stream",
          "name": "stderr",
          "text": [
            "[I 2024-05-13 19:41:09,640] Trial 20 finished with value: 0.9482379985090897 and parameters: {'n_neighbors': 10, 'weights': 'distance', 'p': 4, 'metric': 'manhattan'}. Best is trial 20 with value: 0.9482379985090897.\n"
          ]
        },
        {
          "output_type": "stream",
          "name": "stdout",
          "text": [
            "Trial 20, n_neighbors: 10, weights: distance, p: 4, metric: manhattan, ROC-AUC: 0.9482379985090897\n"
          ]
        },
        {
          "output_type": "stream",
          "name": "stderr",
          "text": [
            "[I 2024-05-13 19:41:09,906] Trial 21 finished with value: 0.9482379985090897 and parameters: {'n_neighbors': 10, 'weights': 'distance', 'p': 4, 'metric': 'manhattan'}. Best is trial 20 with value: 0.9482379985090897.\n"
          ]
        },
        {
          "output_type": "stream",
          "name": "stdout",
          "text": [
            "Trial 21, n_neighbors: 10, weights: distance, p: 4, metric: manhattan, ROC-AUC: 0.9482379985090897\n"
          ]
        },
        {
          "output_type": "stream",
          "name": "stderr",
          "text": [
            "[I 2024-05-13 19:41:10,172] Trial 22 finished with value: 0.9482379985090897 and parameters: {'n_neighbors': 10, 'weights': 'distance', 'p': 4, 'metric': 'manhattan'}. Best is trial 20 with value: 0.9482379985090897.\n"
          ]
        },
        {
          "output_type": "stream",
          "name": "stdout",
          "text": [
            "Trial 22, n_neighbors: 10, weights: distance, p: 4, metric: manhattan, ROC-AUC: 0.9482379985090897\n"
          ]
        },
        {
          "output_type": "stream",
          "name": "stderr",
          "text": [
            "[I 2024-05-13 19:41:10,440] Trial 23 finished with value: 0.9482379985090897 and parameters: {'n_neighbors': 10, 'weights': 'distance', 'p': 4, 'metric': 'manhattan'}. Best is trial 20 with value: 0.9482379985090897.\n"
          ]
        },
        {
          "output_type": "stream",
          "name": "stdout",
          "text": [
            "Trial 23, n_neighbors: 10, weights: distance, p: 4, metric: manhattan, ROC-AUC: 0.9482379985090897\n"
          ]
        },
        {
          "output_type": "stream",
          "name": "stderr",
          "text": [
            "[I 2024-05-13 19:41:10,705] Trial 24 finished with value: 0.9479818187828585 and parameters: {'n_neighbors': 9, 'weights': 'distance', 'p': 4, 'metric': 'manhattan'}. Best is trial 20 with value: 0.9482379985090897.\n"
          ]
        },
        {
          "output_type": "stream",
          "name": "stdout",
          "text": [
            "Trial 24, n_neighbors: 9, weights: distance, p: 4, metric: manhattan, ROC-AUC: 0.9479818187828585\n"
          ]
        },
        {
          "output_type": "stream",
          "name": "stderr",
          "text": [
            "[I 2024-05-13 19:41:10,977] Trial 25 finished with value: 0.9482379985090897 and parameters: {'n_neighbors': 10, 'weights': 'distance', 'p': 5, 'metric': 'manhattan'}. Best is trial 20 with value: 0.9482379985090897.\n"
          ]
        },
        {
          "output_type": "stream",
          "name": "stdout",
          "text": [
            "Trial 25, n_neighbors: 10, weights: distance, p: 5, metric: manhattan, ROC-AUC: 0.9482379985090897\n"
          ]
        },
        {
          "output_type": "stream",
          "name": "stderr",
          "text": [
            "[I 2024-05-13 19:41:11,237] Trial 26 finished with value: 0.9479818187828585 and parameters: {'n_neighbors': 9, 'weights': 'distance', 'p': 4, 'metric': 'manhattan'}. Best is trial 20 with value: 0.9482379985090897.\n"
          ]
        },
        {
          "output_type": "stream",
          "name": "stdout",
          "text": [
            "Trial 26, n_neighbors: 9, weights: distance, p: 4, metric: manhattan, ROC-AUC: 0.9479818187828585\n"
          ]
        },
        {
          "output_type": "stream",
          "name": "stderr",
          "text": [
            "[I 2024-05-13 19:41:11,512] Trial 27 finished with value: 0.9482379985090897 and parameters: {'n_neighbors': 10, 'weights': 'distance', 'p': 4, 'metric': 'manhattan'}. Best is trial 20 with value: 0.9482379985090897.\n"
          ]
        },
        {
          "output_type": "stream",
          "name": "stdout",
          "text": [
            "Trial 27, n_neighbors: 10, weights: distance, p: 4, metric: manhattan, ROC-AUC: 0.9482379985090897\n"
          ]
        },
        {
          "output_type": "stream",
          "name": "stderr",
          "text": [
            "[I 2024-05-13 19:41:11,751] Trial 28 finished with value: 0.934080327532868 and parameters: {'n_neighbors': 9, 'weights': 'distance', 'p': 5, 'metric': 'euclidean'}. Best is trial 20 with value: 0.9482379985090897.\n"
          ]
        },
        {
          "output_type": "stream",
          "name": "stdout",
          "text": [
            "Trial 28, n_neighbors: 9, weights: distance, p: 5, metric: euclidean, ROC-AUC: 0.934080327532868\n"
          ]
        },
        {
          "output_type": "stream",
          "name": "stderr",
          "text": [
            "[I 2024-05-13 19:41:12,331] Trial 29 finished with value: 0.9298987534536456 and parameters: {'n_neighbors': 8, 'weights': 'distance', 'p': 3, 'metric': 'minkowski'}. Best is trial 20 with value: 0.9482379985090897.\n"
          ]
        },
        {
          "output_type": "stream",
          "name": "stdout",
          "text": [
            "Trial 29, n_neighbors: 8, weights: distance, p: 3, metric: minkowski, ROC-AUC: 0.9298987534536456\n"
          ]
        },
        {
          "output_type": "stream",
          "name": "stderr",
          "text": [
            "[I 2024-05-13 19:41:12,580] Trial 30 finished with value: 0.9334525556924426 and parameters: {'n_neighbors': 10, 'weights': 'distance', 'p': 4, 'metric': 'euclidean'}. Best is trial 20 with value: 0.9482379985090897.\n"
          ]
        },
        {
          "output_type": "stream",
          "name": "stdout",
          "text": [
            "Trial 30, n_neighbors: 10, weights: distance, p: 4, metric: euclidean, ROC-AUC: 0.9334525556924426\n"
          ]
        },
        {
          "output_type": "stream",
          "name": "stderr",
          "text": [
            "[I 2024-05-13 19:41:12,846] Trial 31 finished with value: 0.9482379985090897 and parameters: {'n_neighbors': 10, 'weights': 'distance', 'p': 4, 'metric': 'manhattan'}. Best is trial 20 with value: 0.9482379985090897.\n"
          ]
        },
        {
          "output_type": "stream",
          "name": "stdout",
          "text": [
            "Trial 31, n_neighbors: 10, weights: distance, p: 4, metric: manhattan, ROC-AUC: 0.9482379985090897\n"
          ]
        },
        {
          "output_type": "stream",
          "name": "stderr",
          "text": [
            "[I 2024-05-13 19:41:13,109] Trial 32 finished with value: 0.9479818187828585 and parameters: {'n_neighbors': 9, 'weights': 'distance', 'p': 3, 'metric': 'manhattan'}. Best is trial 20 with value: 0.9482379985090897.\n"
          ]
        },
        {
          "output_type": "stream",
          "name": "stdout",
          "text": [
            "Trial 32, n_neighbors: 9, weights: distance, p: 3, metric: manhattan, ROC-AUC: 0.9479818187828585\n"
          ]
        },
        {
          "output_type": "stream",
          "name": "stderr",
          "text": [
            "[I 2024-05-13 19:41:13,373] Trial 33 finished with value: 0.9482379985090897 and parameters: {'n_neighbors': 10, 'weights': 'distance', 'p': 4, 'metric': 'manhattan'}. Best is trial 20 with value: 0.9482379985090897.\n"
          ]
        },
        {
          "output_type": "stream",
          "name": "stdout",
          "text": [
            "Trial 33, n_neighbors: 10, weights: distance, p: 4, metric: manhattan, ROC-AUC: 0.9482379985090897\n"
          ]
        },
        {
          "output_type": "stream",
          "name": "stderr",
          "text": [
            "[I 2024-05-13 19:41:13,659] Trial 34 finished with value: 0.9479818187828585 and parameters: {'n_neighbors': 9, 'weights': 'distance', 'p': 4, 'metric': 'manhattan'}. Best is trial 20 with value: 0.9482379985090897.\n"
          ]
        },
        {
          "output_type": "stream",
          "name": "stdout",
          "text": [
            "Trial 34, n_neighbors: 9, weights: distance, p: 4, metric: manhattan, ROC-AUC: 0.9479818187828585\n"
          ]
        },
        {
          "output_type": "stream",
          "name": "stderr",
          "text": [
            "[I 2024-05-13 19:41:13,917] Trial 35 finished with value: 0.9479818187828585 and parameters: {'n_neighbors': 9, 'weights': 'distance', 'p': 5, 'metric': 'manhattan'}. Best is trial 20 with value: 0.9482379985090897.\n"
          ]
        },
        {
          "output_type": "stream",
          "name": "stdout",
          "text": [
            "Trial 35, n_neighbors: 9, weights: distance, p: 5, metric: manhattan, ROC-AUC: 0.9479818187828585\n"
          ]
        },
        {
          "output_type": "stream",
          "name": "stderr",
          "text": [
            "[I 2024-05-13 19:41:14,153] Trial 36 finished with value: 0.9342073128500165 and parameters: {'n_neighbors': 8, 'weights': 'distance', 'p': 3, 'metric': 'euclidean'}. Best is trial 20 with value: 0.9482379985090897.\n"
          ]
        },
        {
          "output_type": "stream",
          "name": "stdout",
          "text": [
            "Trial 36, n_neighbors: 8, weights: distance, p: 3, metric: euclidean, ROC-AUC: 0.9342073128500165\n"
          ]
        },
        {
          "output_type": "stream",
          "name": "stderr",
          "text": [
            "[I 2024-05-13 19:41:14,441] Trial 37 finished with value: 0.9482379985090897 and parameters: {'n_neighbors': 10, 'weights': 'distance', 'p': 4, 'metric': 'manhattan'}. Best is trial 20 with value: 0.9482379985090897.\n"
          ]
        },
        {
          "output_type": "stream",
          "name": "stdout",
          "text": [
            "Trial 37, n_neighbors: 10, weights: distance, p: 4, metric: manhattan, ROC-AUC: 0.9482379985090897\n"
          ]
        },
        {
          "output_type": "stream",
          "name": "stderr",
          "text": [
            "[I 2024-05-13 19:41:15,294] Trial 38 finished with value: 0.9261287974269241 and parameters: {'n_neighbors': 7, 'weights': 'distance', 'p': 5, 'metric': 'minkowski'}. Best is trial 20 with value: 0.9482379985090897.\n"
          ]
        },
        {
          "output_type": "stream",
          "name": "stdout",
          "text": [
            "Trial 38, n_neighbors: 7, weights: distance, p: 5, metric: minkowski, ROC-AUC: 0.9261287974269241\n"
          ]
        },
        {
          "output_type": "stream",
          "name": "stderr",
          "text": [
            "[I 2024-05-13 19:41:15,734] Trial 39 finished with value: 0.9482379985090897 and parameters: {'n_neighbors': 10, 'weights': 'distance', 'p': 3, 'metric': 'manhattan'}. Best is trial 20 with value: 0.9482379985090897.\n"
          ]
        },
        {
          "output_type": "stream",
          "name": "stdout",
          "text": [
            "Trial 39, n_neighbors: 10, weights: distance, p: 3, metric: manhattan, ROC-AUC: 0.9482379985090897\n"
          ]
        },
        {
          "output_type": "stream",
          "name": "stderr",
          "text": [
            "[I 2024-05-13 19:41:16,113] Trial 40 finished with value: 0.934080327532868 and parameters: {'n_neighbors': 9, 'weights': 'distance', 'p': 4, 'metric': 'euclidean'}. Best is trial 20 with value: 0.9482379985090897.\n"
          ]
        },
        {
          "output_type": "stream",
          "name": "stdout",
          "text": [
            "Trial 40, n_neighbors: 9, weights: distance, p: 4, metric: euclidean, ROC-AUC: 0.934080327532868\n"
          ]
        },
        {
          "output_type": "stream",
          "name": "stderr",
          "text": [
            "[I 2024-05-13 19:41:16,546] Trial 41 finished with value: 0.9482379985090897 and parameters: {'n_neighbors': 10, 'weights': 'distance', 'p': 5, 'metric': 'manhattan'}. Best is trial 20 with value: 0.9482379985090897.\n"
          ]
        },
        {
          "output_type": "stream",
          "name": "stdout",
          "text": [
            "Trial 41, n_neighbors: 10, weights: distance, p: 5, metric: manhattan, ROC-AUC: 0.9482379985090897\n"
          ]
        },
        {
          "output_type": "stream",
          "name": "stderr",
          "text": [
            "[I 2024-05-13 19:41:16,987] Trial 42 finished with value: 0.9482379985090897 and parameters: {'n_neighbors': 10, 'weights': 'distance', 'p': 5, 'metric': 'manhattan'}. Best is trial 20 with value: 0.9482379985090897.\n"
          ]
        },
        {
          "output_type": "stream",
          "name": "stdout",
          "text": [
            "Trial 42, n_neighbors: 10, weights: distance, p: 5, metric: manhattan, ROC-AUC: 0.9482379985090897\n"
          ]
        },
        {
          "output_type": "stream",
          "name": "stderr",
          "text": [
            "[I 2024-05-13 19:41:17,430] Trial 43 finished with value: 0.9479818187828585 and parameters: {'n_neighbors': 9, 'weights': 'distance', 'p': 5, 'metric': 'manhattan'}. Best is trial 20 with value: 0.9482379985090897.\n"
          ]
        },
        {
          "output_type": "stream",
          "name": "stdout",
          "text": [
            "Trial 43, n_neighbors: 9, weights: distance, p: 5, metric: manhattan, ROC-AUC: 0.9479818187828585\n"
          ]
        },
        {
          "output_type": "stream",
          "name": "stderr",
          "text": [
            "[I 2024-05-13 19:41:17,838] Trial 44 finished with value: 0.9482379985090897 and parameters: {'n_neighbors': 10, 'weights': 'distance', 'p': 4, 'metric': 'manhattan'}. Best is trial 20 with value: 0.9482379985090897.\n"
          ]
        },
        {
          "output_type": "stream",
          "name": "stdout",
          "text": [
            "Trial 44, n_neighbors: 10, weights: distance, p: 4, metric: manhattan, ROC-AUC: 0.9482379985090897\n"
          ]
        },
        {
          "output_type": "stream",
          "name": "stderr",
          "text": [
            "[I 2024-05-13 19:41:18,094] Trial 45 finished with value: 0.9474685125767097 and parameters: {'n_neighbors': 8, 'weights': 'distance', 'p': 4, 'metric': 'manhattan'}. Best is trial 20 with value: 0.9482379985090897.\n"
          ]
        },
        {
          "output_type": "stream",
          "name": "stdout",
          "text": [
            "Trial 45, n_neighbors: 8, weights: distance, p: 4, metric: manhattan, ROC-AUC: 0.9474685125767097\n"
          ]
        },
        {
          "output_type": "stream",
          "name": "stderr",
          "text": [
            "[I 2024-05-13 19:41:18,350] Trial 46 finished with value: 0.9398425620391754 and parameters: {'n_neighbors': 9, 'weights': 'uniform', 'p': 5, 'metric': 'manhattan'}. Best is trial 20 with value: 0.9482379985090897.\n"
          ]
        },
        {
          "output_type": "stream",
          "name": "stdout",
          "text": [
            "Trial 46, n_neighbors: 9, weights: uniform, p: 5, metric: manhattan, ROC-AUC: 0.9398425620391754\n"
          ]
        },
        {
          "output_type": "stream",
          "name": "stderr",
          "text": [
            "[I 2024-05-13 19:41:18,610] Trial 47 finished with value: 0.9482379985090897 and parameters: {'n_neighbors': 10, 'weights': 'distance', 'p': 3, 'metric': 'manhattan'}. Best is trial 20 with value: 0.9482379985090897.\n"
          ]
        },
        {
          "output_type": "stream",
          "name": "stdout",
          "text": [
            "Trial 47, n_neighbors: 10, weights: distance, p: 3, metric: manhattan, ROC-AUC: 0.9482379985090897\n"
          ]
        },
        {
          "output_type": "stream",
          "name": "stderr",
          "text": [
            "[I 2024-05-13 19:41:18,896] Trial 48 finished with value: 0.9474685125767097 and parameters: {'n_neighbors': 8, 'weights': 'distance', 'p': 5, 'metric': 'manhattan'}. Best is trial 20 with value: 0.9482379985090897.\n"
          ]
        },
        {
          "output_type": "stream",
          "name": "stdout",
          "text": [
            "Trial 48, n_neighbors: 8, weights: distance, p: 5, metric: manhattan, ROC-AUC: 0.9474685125767097\n"
          ]
        },
        {
          "output_type": "stream",
          "name": "stderr",
          "text": [
            "[I 2024-05-13 19:41:19,490] Trial 49 finished with value: 0.9141411930291234 and parameters: {'n_neighbors': 10, 'weights': 'uniform', 'p': 4, 'metric': 'minkowski'}. Best is trial 20 with value: 0.9482379985090897.\n"
          ]
        },
        {
          "output_type": "stream",
          "name": "stdout",
          "text": [
            "Trial 49, n_neighbors: 10, weights: uniform, p: 4, metric: minkowski, ROC-AUC: 0.9141411930291234\n"
          ]
        },
        {
          "output_type": "stream",
          "name": "stderr",
          "text": [
            "[I 2024-05-13 19:41:19,752] Trial 50 finished with value: 0.9479818187828585 and parameters: {'n_neighbors': 9, 'weights': 'distance', 'p': 3, 'metric': 'manhattan'}. Best is trial 20 with value: 0.9482379985090897.\n"
          ]
        },
        {
          "output_type": "stream",
          "name": "stdout",
          "text": [
            "Trial 50, n_neighbors: 9, weights: distance, p: 3, metric: manhattan, ROC-AUC: 0.9479818187828585\n"
          ]
        },
        {
          "output_type": "stream",
          "name": "stderr",
          "text": [
            "[I 2024-05-13 19:41:20,029] Trial 51 finished with value: 0.9482379985090897 and parameters: {'n_neighbors': 10, 'weights': 'distance', 'p': 4, 'metric': 'manhattan'}. Best is trial 20 with value: 0.9482379985090897.\n"
          ]
        },
        {
          "output_type": "stream",
          "name": "stdout",
          "text": [
            "Trial 51, n_neighbors: 10, weights: distance, p: 4, metric: manhattan, ROC-AUC: 0.9482379985090897\n"
          ]
        },
        {
          "output_type": "stream",
          "name": "stderr",
          "text": [
            "[I 2024-05-13 19:41:20,295] Trial 52 finished with value: 0.9482379985090897 and parameters: {'n_neighbors': 10, 'weights': 'distance', 'p': 4, 'metric': 'manhattan'}. Best is trial 20 with value: 0.9482379985090897.\n"
          ]
        },
        {
          "output_type": "stream",
          "name": "stdout",
          "text": [
            "Trial 52, n_neighbors: 10, weights: distance, p: 4, metric: manhattan, ROC-AUC: 0.9482379985090897\n"
          ]
        },
        {
          "output_type": "stream",
          "name": "stderr",
          "text": [
            "[I 2024-05-13 19:41:20,557] Trial 53 finished with value: 0.9479818187828585 and parameters: {'n_neighbors': 9, 'weights': 'distance', 'p': 4, 'metric': 'manhattan'}. Best is trial 20 with value: 0.9482379985090897.\n"
          ]
        },
        {
          "output_type": "stream",
          "name": "stdout",
          "text": [
            "Trial 53, n_neighbors: 9, weights: distance, p: 4, metric: manhattan, ROC-AUC: 0.9479818187828585\n"
          ]
        },
        {
          "output_type": "stream",
          "name": "stderr",
          "text": [
            "[I 2024-05-13 19:41:20,832] Trial 54 finished with value: 0.9482379985090897 and parameters: {'n_neighbors': 10, 'weights': 'distance', 'p': 4, 'metric': 'manhattan'}. Best is trial 20 with value: 0.9482379985090897.\n"
          ]
        },
        {
          "output_type": "stream",
          "name": "stdout",
          "text": [
            "Trial 54, n_neighbors: 10, weights: distance, p: 4, metric: manhattan, ROC-AUC: 0.9482379985090897\n"
          ]
        },
        {
          "output_type": "stream",
          "name": "stderr",
          "text": [
            "[I 2024-05-13 19:41:21,093] Trial 55 finished with value: 0.9479818187828585 and parameters: {'n_neighbors': 9, 'weights': 'distance', 'p': 5, 'metric': 'manhattan'}. Best is trial 20 with value: 0.9482379985090897.\n"
          ]
        },
        {
          "output_type": "stream",
          "name": "stdout",
          "text": [
            "Trial 55, n_neighbors: 9, weights: distance, p: 5, metric: manhattan, ROC-AUC: 0.9479818187828585\n"
          ]
        },
        {
          "output_type": "stream",
          "name": "stderr",
          "text": [
            "[I 2024-05-13 19:41:21,331] Trial 56 finished with value: 0.9311299361700142 and parameters: {'n_neighbors': 3, 'weights': 'uniform', 'p': 4, 'metric': 'manhattan'}. Best is trial 20 with value: 0.9482379985090897.\n"
          ]
        },
        {
          "output_type": "stream",
          "name": "stdout",
          "text": [
            "Trial 56, n_neighbors: 3, weights: uniform, p: 4, metric: manhattan, ROC-AUC: 0.9311299361700142\n"
          ]
        },
        {
          "output_type": "stream",
          "name": "stderr",
          "text": [
            "[I 2024-05-13 19:41:21,569] Trial 57 finished with value: 0.9334525556924426 and parameters: {'n_neighbors': 10, 'weights': 'distance', 'p': 3, 'metric': 'euclidean'}. Best is trial 20 with value: 0.9482379985090897.\n"
          ]
        },
        {
          "output_type": "stream",
          "name": "stdout",
          "text": [
            "Trial 57, n_neighbors: 10, weights: distance, p: 3, metric: euclidean, ROC-AUC: 0.9334525556924426\n"
          ]
        },
        {
          "output_type": "stream",
          "name": "stderr",
          "text": [
            "[I 2024-05-13 19:41:21,828] Trial 58 finished with value: 0.9472897043692482 and parameters: {'n_neighbors': 7, 'weights': 'distance', 'p': 4, 'metric': 'manhattan'}. Best is trial 20 with value: 0.9482379985090897.\n"
          ]
        },
        {
          "output_type": "stream",
          "name": "stdout",
          "text": [
            "Trial 58, n_neighbors: 7, weights: distance, p: 4, metric: manhattan, ROC-AUC: 0.9472897043692482\n"
          ]
        },
        {
          "output_type": "stream",
          "name": "stderr",
          "text": [
            "[I 2024-05-13 19:41:22,108] Trial 59 finished with value: 0.9482379985090897 and parameters: {'n_neighbors': 10, 'weights': 'distance', 'p': 5, 'metric': 'manhattan'}. Best is trial 20 with value: 0.9482379985090897.\n"
          ]
        },
        {
          "output_type": "stream",
          "name": "stdout",
          "text": [
            "Trial 59, n_neighbors: 10, weights: distance, p: 5, metric: manhattan, ROC-AUC: 0.9482379985090897\n"
          ]
        },
        {
          "output_type": "stream",
          "name": "stderr",
          "text": [
            "[I 2024-05-13 19:41:22,344] Trial 60 finished with value: 0.934080327532868 and parameters: {'n_neighbors': 9, 'weights': 'distance', 'p': 2, 'metric': 'minkowski'}. Best is trial 20 with value: 0.9482379985090897.\n"
          ]
        },
        {
          "output_type": "stream",
          "name": "stdout",
          "text": [
            "Trial 60, n_neighbors: 9, weights: distance, p: 2, metric: minkowski, ROC-AUC: 0.934080327532868\n"
          ]
        },
        {
          "output_type": "stream",
          "name": "stderr",
          "text": [
            "[I 2024-05-13 19:41:22,610] Trial 61 finished with value: 0.9482379985090897 and parameters: {'n_neighbors': 10, 'weights': 'distance', 'p': 4, 'metric': 'manhattan'}. Best is trial 20 with value: 0.9482379985090897.\n"
          ]
        },
        {
          "output_type": "stream",
          "name": "stdout",
          "text": [
            "Trial 61, n_neighbors: 10, weights: distance, p: 4, metric: manhattan, ROC-AUC: 0.9482379985090897\n"
          ]
        },
        {
          "output_type": "stream",
          "name": "stderr",
          "text": [
            "[I 2024-05-13 19:41:22,884] Trial 62 finished with value: 0.9482379985090897 and parameters: {'n_neighbors': 10, 'weights': 'distance', 'p': 4, 'metric': 'manhattan'}. Best is trial 20 with value: 0.9482379985090897.\n"
          ]
        },
        {
          "output_type": "stream",
          "name": "stdout",
          "text": [
            "Trial 62, n_neighbors: 10, weights: distance, p: 4, metric: manhattan, ROC-AUC: 0.9482379985090897\n"
          ]
        },
        {
          "output_type": "stream",
          "name": "stderr",
          "text": [
            "[I 2024-05-13 19:41:23,144] Trial 63 finished with value: 0.9462745706857278 and parameters: {'n_neighbors': 6, 'weights': 'distance', 'p': 4, 'metric': 'manhattan'}. Best is trial 20 with value: 0.9482379985090897.\n"
          ]
        },
        {
          "output_type": "stream",
          "name": "stdout",
          "text": [
            "Trial 63, n_neighbors: 6, weights: distance, p: 4, metric: manhattan, ROC-AUC: 0.9462745706857278\n"
          ]
        },
        {
          "output_type": "stream",
          "name": "stderr",
          "text": [
            "[I 2024-05-13 19:41:23,407] Trial 64 finished with value: 0.9482379985090897 and parameters: {'n_neighbors': 10, 'weights': 'distance', 'p': 4, 'metric': 'manhattan'}. Best is trial 20 with value: 0.9482379985090897.\n"
          ]
        },
        {
          "output_type": "stream",
          "name": "stdout",
          "text": [
            "Trial 64, n_neighbors: 10, weights: distance, p: 4, metric: manhattan, ROC-AUC: 0.9482379985090897\n"
          ]
        },
        {
          "output_type": "stream",
          "name": "stderr",
          "text": [
            "[I 2024-05-13 19:41:23,678] Trial 65 finished with value: 0.9479818187828585 and parameters: {'n_neighbors': 9, 'weights': 'distance', 'p': 4, 'metric': 'manhattan'}. Best is trial 20 with value: 0.9482379985090897.\n"
          ]
        },
        {
          "output_type": "stream",
          "name": "stdout",
          "text": [
            "Trial 65, n_neighbors: 9, weights: distance, p: 4, metric: manhattan, ROC-AUC: 0.9479818187828585\n"
          ]
        },
        {
          "output_type": "stream",
          "name": "stderr",
          "text": [
            "[I 2024-05-13 19:41:23,958] Trial 66 finished with value: 0.9482379985090897 and parameters: {'n_neighbors': 10, 'weights': 'distance', 'p': 3, 'metric': 'manhattan'}. Best is trial 20 with value: 0.9482379985090897.\n"
          ]
        },
        {
          "output_type": "stream",
          "name": "stdout",
          "text": [
            "Trial 66, n_neighbors: 10, weights: distance, p: 3, metric: manhattan, ROC-AUC: 0.9482379985090897\n"
          ]
        },
        {
          "output_type": "stream",
          "name": "stderr",
          "text": [
            "[I 2024-05-13 19:41:24,219] Trial 67 finished with value: 0.9396118583780607 and parameters: {'n_neighbors': 8, 'weights': 'uniform', 'p': 5, 'metric': 'manhattan'}. Best is trial 20 with value: 0.9482379985090897.\n"
          ]
        },
        {
          "output_type": "stream",
          "name": "stdout",
          "text": [
            "Trial 67, n_neighbors: 8, weights: uniform, p: 5, metric: manhattan, ROC-AUC: 0.9396118583780607\n"
          ]
        },
        {
          "output_type": "stream",
          "name": "stderr",
          "text": [
            "[I 2024-05-13 19:41:24,470] Trial 68 finished with value: 0.934080327532868 and parameters: {'n_neighbors': 9, 'weights': 'distance', 'p': 4, 'metric': 'euclidean'}. Best is trial 20 with value: 0.9482379985090897.\n"
          ]
        },
        {
          "output_type": "stream",
          "name": "stdout",
          "text": [
            "Trial 68, n_neighbors: 9, weights: distance, p: 4, metric: euclidean, ROC-AUC: 0.934080327532868\n"
          ]
        },
        {
          "output_type": "stream",
          "name": "stderr",
          "text": [
            "[I 2024-05-13 19:41:24,738] Trial 69 finished with value: 0.9482379985090897 and parameters: {'n_neighbors': 10, 'weights': 'distance', 'p': 4, 'metric': 'manhattan'}. Best is trial 20 with value: 0.9482379985090897.\n"
          ]
        },
        {
          "output_type": "stream",
          "name": "stdout",
          "text": [
            "Trial 69, n_neighbors: 10, weights: distance, p: 4, metric: manhattan, ROC-AUC: 0.9482379985090897\n"
          ]
        },
        {
          "output_type": "stream",
          "name": "stderr",
          "text": [
            "[I 2024-05-13 19:41:25,024] Trial 70 finished with value: 0.9482379985090897 and parameters: {'n_neighbors': 10, 'weights': 'distance', 'p': 3, 'metric': 'manhattan'}. Best is trial 20 with value: 0.9482379985090897.\n"
          ]
        },
        {
          "output_type": "stream",
          "name": "stdout",
          "text": [
            "Trial 70, n_neighbors: 10, weights: distance, p: 3, metric: manhattan, ROC-AUC: 0.9482379985090897\n"
          ]
        },
        {
          "output_type": "stream",
          "name": "stderr",
          "text": [
            "[I 2024-05-13 19:41:25,295] Trial 71 finished with value: 0.9482379985090897 and parameters: {'n_neighbors': 10, 'weights': 'distance', 'p': 4, 'metric': 'manhattan'}. Best is trial 20 with value: 0.9482379985090897.\n"
          ]
        },
        {
          "output_type": "stream",
          "name": "stdout",
          "text": [
            "Trial 71, n_neighbors: 10, weights: distance, p: 4, metric: manhattan, ROC-AUC: 0.9482379985090897\n"
          ]
        },
        {
          "output_type": "stream",
          "name": "stderr",
          "text": [
            "[I 2024-05-13 19:41:25,560] Trial 72 finished with value: 0.9482379985090897 and parameters: {'n_neighbors': 10, 'weights': 'distance', 'p': 4, 'metric': 'manhattan'}. Best is trial 20 with value: 0.9482379985090897.\n"
          ]
        },
        {
          "output_type": "stream",
          "name": "stdout",
          "text": [
            "Trial 72, n_neighbors: 10, weights: distance, p: 4, metric: manhattan, ROC-AUC: 0.9482379985090897\n"
          ]
        },
        {
          "output_type": "stream",
          "name": "stderr",
          "text": [
            "[I 2024-05-13 19:41:25,825] Trial 73 finished with value: 0.9479818187828585 and parameters: {'n_neighbors': 9, 'weights': 'distance', 'p': 4, 'metric': 'manhattan'}. Best is trial 20 with value: 0.9482379985090897.\n"
          ]
        },
        {
          "output_type": "stream",
          "name": "stdout",
          "text": [
            "Trial 73, n_neighbors: 9, weights: distance, p: 4, metric: manhattan, ROC-AUC: 0.9479818187828585\n"
          ]
        },
        {
          "output_type": "stream",
          "name": "stderr",
          "text": [
            "[I 2024-05-13 19:41:26,109] Trial 74 finished with value: 0.9482379985090897 and parameters: {'n_neighbors': 10, 'weights': 'distance', 'p': 4, 'metric': 'manhattan'}. Best is trial 20 with value: 0.9482379985090897.\n"
          ]
        },
        {
          "output_type": "stream",
          "name": "stdout",
          "text": [
            "Trial 74, n_neighbors: 10, weights: distance, p: 4, metric: manhattan, ROC-AUC: 0.9482379985090897\n"
          ]
        },
        {
          "output_type": "stream",
          "name": "stderr",
          "text": [
            "[I 2024-05-13 19:41:26,331] Trial 75 finished with value: 0.8853035235322435 and parameters: {'n_neighbors': 1, 'weights': 'distance', 'p': 5, 'metric': 'manhattan'}. Best is trial 20 with value: 0.9482379985090897.\n"
          ]
        },
        {
          "output_type": "stream",
          "name": "stdout",
          "text": [
            "Trial 75, n_neighbors: 1, weights: distance, p: 5, metric: manhattan, ROC-AUC: 0.8853035235322435\n"
          ]
        },
        {
          "output_type": "stream",
          "name": "stderr",
          "text": [
            "[I 2024-05-13 19:41:26,915] Trial 76 finished with value: 0.9272124842044122 and parameters: {'n_neighbors': 9, 'weights': 'distance', 'p': 4, 'metric': 'minkowski'}. Best is trial 20 with value: 0.9482379985090897.\n"
          ]
        },
        {
          "output_type": "stream",
          "name": "stdout",
          "text": [
            "Trial 76, n_neighbors: 9, weights: distance, p: 4, metric: minkowski, ROC-AUC: 0.9272124842044122\n"
          ]
        },
        {
          "output_type": "stream",
          "name": "stderr",
          "text": [
            "[I 2024-05-13 19:41:27,196] Trial 77 finished with value: 0.9479818187828585 and parameters: {'n_neighbors': 9, 'weights': 'distance', 'p': 3, 'metric': 'manhattan'}. Best is trial 20 with value: 0.9482379985090897.\n"
          ]
        },
        {
          "output_type": "stream",
          "name": "stdout",
          "text": [
            "Trial 77, n_neighbors: 9, weights: distance, p: 3, metric: manhattan, ROC-AUC: 0.9479818187828585\n"
          ]
        },
        {
          "output_type": "stream",
          "name": "stderr",
          "text": [
            "[I 2024-05-13 19:41:27,468] Trial 78 finished with value: 0.9482379985090897 and parameters: {'n_neighbors': 10, 'weights': 'distance', 'p': 5, 'metric': 'manhattan'}. Best is trial 20 with value: 0.9482379985090897.\n"
          ]
        },
        {
          "output_type": "stream",
          "name": "stdout",
          "text": [
            "Trial 78, n_neighbors: 10, weights: distance, p: 5, metric: manhattan, ROC-AUC: 0.9482379985090897\n"
          ]
        },
        {
          "output_type": "stream",
          "name": "stderr",
          "text": [
            "[I 2024-05-13 19:41:27,736] Trial 79 finished with value: 0.939503659841554 and parameters: {'n_neighbors': 10, 'weights': 'uniform', 'p': 4, 'metric': 'manhattan'}. Best is trial 20 with value: 0.9482379985090897.\n"
          ]
        },
        {
          "output_type": "stream",
          "name": "stdout",
          "text": [
            "Trial 79, n_neighbors: 10, weights: uniform, p: 4, metric: manhattan, ROC-AUC: 0.939503659841554\n"
          ]
        },
        {
          "output_type": "stream",
          "name": "stderr",
          "text": [
            "[I 2024-05-13 19:41:28,090] Trial 80 finished with value: 0.9107736943950029 and parameters: {'n_neighbors': 2, 'weights': 'distance', 'p': 4, 'metric': 'euclidean'}. Best is trial 20 with value: 0.9482379985090897.\n"
          ]
        },
        {
          "output_type": "stream",
          "name": "stdout",
          "text": [
            "Trial 80, n_neighbors: 2, weights: distance, p: 4, metric: euclidean, ROC-AUC: 0.9107736943950029\n"
          ]
        },
        {
          "output_type": "stream",
          "name": "stderr",
          "text": [
            "[I 2024-05-13 19:41:28,520] Trial 81 finished with value: 0.9482379985090897 and parameters: {'n_neighbors': 10, 'weights': 'distance', 'p': 4, 'metric': 'manhattan'}. Best is trial 20 with value: 0.9482379985090897.\n"
          ]
        },
        {
          "output_type": "stream",
          "name": "stdout",
          "text": [
            "Trial 81, n_neighbors: 10, weights: distance, p: 4, metric: manhattan, ROC-AUC: 0.9482379985090897\n"
          ]
        },
        {
          "output_type": "stream",
          "name": "stderr",
          "text": [
            "[I 2024-05-13 19:41:28,960] Trial 82 finished with value: 0.9482379985090897 and parameters: {'n_neighbors': 10, 'weights': 'distance', 'p': 4, 'metric': 'manhattan'}. Best is trial 20 with value: 0.9482379985090897.\n"
          ]
        },
        {
          "output_type": "stream",
          "name": "stdout",
          "text": [
            "Trial 82, n_neighbors: 10, weights: distance, p: 4, metric: manhattan, ROC-AUC: 0.9482379985090897\n"
          ]
        },
        {
          "output_type": "stream",
          "name": "stderr",
          "text": [
            "[I 2024-05-13 19:41:29,411] Trial 83 finished with value: 0.9482379985090897 and parameters: {'n_neighbors': 10, 'weights': 'distance', 'p': 4, 'metric': 'manhattan'}. Best is trial 20 with value: 0.9482379985090897.\n"
          ]
        },
        {
          "output_type": "stream",
          "name": "stdout",
          "text": [
            "Trial 83, n_neighbors: 10, weights: distance, p: 4, metric: manhattan, ROC-AUC: 0.9482379985090897\n"
          ]
        },
        {
          "output_type": "stream",
          "name": "stderr",
          "text": [
            "[I 2024-05-13 19:41:29,848] Trial 84 finished with value: 0.9479818187828585 and parameters: {'n_neighbors': 9, 'weights': 'distance', 'p': 4, 'metric': 'manhattan'}. Best is trial 20 with value: 0.9482379985090897.\n"
          ]
        },
        {
          "output_type": "stream",
          "name": "stdout",
          "text": [
            "Trial 84, n_neighbors: 9, weights: distance, p: 4, metric: manhattan, ROC-AUC: 0.9479818187828585\n"
          ]
        },
        {
          "output_type": "stream",
          "name": "stderr",
          "text": [
            "[I 2024-05-13 19:41:30,292] Trial 85 finished with value: 0.9482379985090897 and parameters: {'n_neighbors': 10, 'weights': 'distance', 'p': 4, 'metric': 'manhattan'}. Best is trial 20 with value: 0.9482379985090897.\n"
          ]
        },
        {
          "output_type": "stream",
          "name": "stdout",
          "text": [
            "Trial 85, n_neighbors: 10, weights: distance, p: 4, metric: manhattan, ROC-AUC: 0.9482379985090897\n"
          ]
        },
        {
          "output_type": "stream",
          "name": "stderr",
          "text": [
            "[I 2024-05-13 19:41:30,737] Trial 86 finished with value: 0.9479818187828585 and parameters: {'n_neighbors': 9, 'weights': 'distance', 'p': 4, 'metric': 'manhattan'}. Best is trial 20 with value: 0.9482379985090897.\n"
          ]
        },
        {
          "output_type": "stream",
          "name": "stdout",
          "text": [
            "Trial 86, n_neighbors: 9, weights: distance, p: 4, metric: manhattan, ROC-AUC: 0.9479818187828585\n"
          ]
        },
        {
          "output_type": "stream",
          "name": "stderr",
          "text": [
            "[I 2024-05-13 19:41:31,180] Trial 87 finished with value: 0.9482379985090897 and parameters: {'n_neighbors': 10, 'weights': 'distance', 'p': 5, 'metric': 'manhattan'}. Best is trial 20 with value: 0.9482379985090897.\n"
          ]
        },
        {
          "output_type": "stream",
          "name": "stdout",
          "text": [
            "Trial 87, n_neighbors: 10, weights: distance, p: 5, metric: manhattan, ROC-AUC: 0.9482379985090897\n"
          ]
        },
        {
          "output_type": "stream",
          "name": "stderr",
          "text": [
            "[I 2024-05-13 19:41:31,809] Trial 88 finished with value: 0.9292026625690069 and parameters: {'n_neighbors': 10, 'weights': 'distance', 'p': 3, 'metric': 'minkowski'}. Best is trial 20 with value: 0.9482379985090897.\n"
          ]
        },
        {
          "output_type": "stream",
          "name": "stdout",
          "text": [
            "Trial 88, n_neighbors: 10, weights: distance, p: 3, metric: minkowski, ROC-AUC: 0.9292026625690069\n"
          ]
        },
        {
          "output_type": "stream",
          "name": "stderr",
          "text": [
            "[I 2024-05-13 19:41:32,072] Trial 89 finished with value: 0.9479818187828585 and parameters: {'n_neighbors': 9, 'weights': 'distance', 'p': 4, 'metric': 'manhattan'}. Best is trial 20 with value: 0.9482379985090897.\n"
          ]
        },
        {
          "output_type": "stream",
          "name": "stdout",
          "text": [
            "Trial 89, n_neighbors: 9, weights: distance, p: 4, metric: manhattan, ROC-AUC: 0.9479818187828585\n"
          ]
        },
        {
          "output_type": "stream",
          "name": "stderr",
          "text": [
            "[I 2024-05-13 19:41:32,345] Trial 90 finished with value: 0.9474685125767097 and parameters: {'n_neighbors': 8, 'weights': 'distance', 'p': 4, 'metric': 'manhattan'}. Best is trial 20 with value: 0.9482379985090897.\n"
          ]
        },
        {
          "output_type": "stream",
          "name": "stdout",
          "text": [
            "Trial 90, n_neighbors: 8, weights: distance, p: 4, metric: manhattan, ROC-AUC: 0.9474685125767097\n"
          ]
        },
        {
          "output_type": "stream",
          "name": "stderr",
          "text": [
            "[I 2024-05-13 19:41:32,606] Trial 91 finished with value: 0.9482379985090897 and parameters: {'n_neighbors': 10, 'weights': 'distance', 'p': 2, 'metric': 'manhattan'}. Best is trial 20 with value: 0.9482379985090897.\n"
          ]
        },
        {
          "output_type": "stream",
          "name": "stdout",
          "text": [
            "Trial 91, n_neighbors: 10, weights: distance, p: 2, metric: manhattan, ROC-AUC: 0.9482379985090897\n"
          ]
        },
        {
          "output_type": "stream",
          "name": "stderr",
          "text": [
            "[I 2024-05-13 19:41:32,877] Trial 92 finished with value: 0.9482379985090897 and parameters: {'n_neighbors': 10, 'weights': 'distance', 'p': 3, 'metric': 'manhattan'}. Best is trial 20 with value: 0.9482379985090897.\n"
          ]
        },
        {
          "output_type": "stream",
          "name": "stdout",
          "text": [
            "Trial 92, n_neighbors: 10, weights: distance, p: 3, metric: manhattan, ROC-AUC: 0.9482379985090897\n"
          ]
        },
        {
          "output_type": "stream",
          "name": "stderr",
          "text": [
            "[I 2024-05-13 19:41:33,150] Trial 93 finished with value: 0.9482379985090897 and parameters: {'n_neighbors': 10, 'weights': 'distance', 'p': 3, 'metric': 'manhattan'}. Best is trial 20 with value: 0.9482379985090897.\n"
          ]
        },
        {
          "output_type": "stream",
          "name": "stdout",
          "text": [
            "Trial 93, n_neighbors: 10, weights: distance, p: 3, metric: manhattan, ROC-AUC: 0.9482379985090897\n"
          ]
        },
        {
          "output_type": "stream",
          "name": "stderr",
          "text": [
            "[I 2024-05-13 19:41:33,427] Trial 94 finished with value: 0.9482379985090897 and parameters: {'n_neighbors': 10, 'weights': 'distance', 'p': 3, 'metric': 'manhattan'}. Best is trial 20 with value: 0.9482379985090897.\n"
          ]
        },
        {
          "output_type": "stream",
          "name": "stdout",
          "text": [
            "Trial 94, n_neighbors: 10, weights: distance, p: 3, metric: manhattan, ROC-AUC: 0.9482379985090897\n"
          ]
        },
        {
          "output_type": "stream",
          "name": "stderr",
          "text": [
            "[I 2024-05-13 19:41:33,690] Trial 95 finished with value: 0.9398425620391754 and parameters: {'n_neighbors': 9, 'weights': 'uniform', 'p': 3, 'metric': 'manhattan'}. Best is trial 20 with value: 0.9482379985090897.\n"
          ]
        },
        {
          "output_type": "stream",
          "name": "stdout",
          "text": [
            "Trial 95, n_neighbors: 9, weights: uniform, p: 3, metric: manhattan, ROC-AUC: 0.9398425620391754\n"
          ]
        },
        {
          "output_type": "stream",
          "name": "stderr",
          "text": [
            "[I 2024-05-13 19:41:33,953] Trial 96 finished with value: 0.9482379985090897 and parameters: {'n_neighbors': 10, 'weights': 'distance', 'p': 4, 'metric': 'manhattan'}. Best is trial 20 with value: 0.9482379985090897.\n"
          ]
        },
        {
          "output_type": "stream",
          "name": "stdout",
          "text": [
            "Trial 96, n_neighbors: 10, weights: distance, p: 4, metric: manhattan, ROC-AUC: 0.9482379985090897\n"
          ]
        },
        {
          "output_type": "stream",
          "name": "stderr",
          "text": [
            "[I 2024-05-13 19:41:34,219] Trial 97 finished with value: 0.9482379985090897 and parameters: {'n_neighbors': 10, 'weights': 'distance', 'p': 4, 'metric': 'manhattan'}. Best is trial 20 with value: 0.9482379985090897.\n"
          ]
        },
        {
          "output_type": "stream",
          "name": "stdout",
          "text": [
            "Trial 97, n_neighbors: 10, weights: distance, p: 4, metric: manhattan, ROC-AUC: 0.9482379985090897\n"
          ]
        },
        {
          "output_type": "stream",
          "name": "stderr",
          "text": [
            "[I 2024-05-13 19:41:34,476] Trial 98 finished with value: 0.934080327532868 and parameters: {'n_neighbors': 9, 'weights': 'distance', 'p': 3, 'metric': 'euclidean'}. Best is trial 20 with value: 0.9482379985090897.\n"
          ]
        },
        {
          "output_type": "stream",
          "name": "stdout",
          "text": [
            "Trial 98, n_neighbors: 9, weights: distance, p: 3, metric: euclidean, ROC-AUC: 0.934080327532868\n"
          ]
        },
        {
          "output_type": "stream",
          "name": "stderr",
          "text": [
            "[I 2024-05-13 19:41:34,736] Trial 99 finished with value: 0.9444288569594713 and parameters: {'n_neighbors': 5, 'weights': 'distance', 'p': 4, 'metric': 'manhattan'}. Best is trial 20 with value: 0.9482379985090897.\n"
          ]
        },
        {
          "output_type": "stream",
          "name": "stdout",
          "text": [
            "Trial 99, n_neighbors: 5, weights: distance, p: 4, metric: manhattan, ROC-AUC: 0.9444288569594713\n",
            "Best Parameters:  {'n_neighbors': 10, 'weights': 'distance', 'p': 4, 'metric': 'manhattan'}\n",
            "Best ROC-AUC Score:  0.9482379985090897\n"
          ]
        }
      ]
    },
    {
      "cell_type": "code",
      "source": [
        "# Random Forest\n",
        "def objective_function(trial):\n",
        "    n_estimators = trial.suggest_int('n_estimators', 2, 50)\n",
        "    max_depth = trial.suggest_int('max_depth', 1, 10)\n",
        "    min_samples_split = trial.suggest_int('min_samples_split', 2, 10)\n",
        "    min_samples_leaf = trial.suggest_int('min_samples_leaf', 1, 10)\n",
        "\n",
        "    model = RandomForestClassifier(\n",
        "        n_estimators=n_estimators,\n",
        "        max_depth=max_depth,\n",
        "        min_samples_split=min_samples_split,\n",
        "        min_samples_leaf=min_samples_leaf,\n",
        "        n_jobs=-1\n",
        "    )\n",
        "\n",
        "    # Using cross_val_score to get the average ROC-AUC score for each fold\n",
        "    scores = cross_val_score(model, X_train_oversampled, y_train_oversampled, cv=5, scoring='roc_auc')\n",
        "    roc_auc = np.mean(scores)\n",
        "    # Printing intermediate results\n",
        "    print(f\"Trial {trial.number}, n_estimators: {n_estimators}, max_depth: {max_depth}, \"\n",
        "          f\"min_samples_split: {min_samples_split}, min_samples_leaf: {min_samples_leaf}, ROC-AUC: {roc_auc}\")\n",
        "    return roc_auc\n",
        "\n",
        "\n",
        "study_rf = optuna.create_study(direction=\"maximize\")\n",
        "study_rf.optimize(objective_function, n_trials=100)\n",
        "\n",
        "best_params_rf = study_rf.best_params\n",
        "print(\"Best Parameters: \", best_params_rf)\n",
        "print(\"Best ROC-AUC: Score: \", study_rf.best_value)\n",
        "\n",
        "# Create and save model\n",
        "best_model_rf = RandomForestClassifier(**best_params_rf, n_jobs=-1)\n",
        "with open('best_models_rf_8_features.pkl', 'wb') as file:\n",
        "    pickle.dump(best_model_rf, file)"
      ],
      "metadata": {
        "colab": {
          "base_uri": "https://localhost:8080/"
        },
        "id": "o-ZvEJF0q24m",
        "outputId": "3a85ddfc-9bd8-4683-d7b6-bdac093a05a4"
      },
      "execution_count": 9,
      "outputs": [
        {
          "output_type": "stream",
          "name": "stderr",
          "text": [
            "[I 2024-05-13 19:41:34,760] A new study created in memory with name: no-name-2241285a-1c5d-4510-89c7-1adea6620cca\n",
            "[I 2024-05-13 19:41:35,426] Trial 0 finished with value: 0.8914686969878625 and parameters: {'n_estimators': 25, 'max_depth': 2, 'min_samples_split': 2, 'min_samples_leaf': 5}. Best is trial 0 with value: 0.8914686969878625.\n"
          ]
        },
        {
          "output_type": "stream",
          "name": "stdout",
          "text": [
            "Trial 0, n_estimators: 25, max_depth: 2, min_samples_split: 2, min_samples_leaf: 5, ROC-AUC: 0.8914686969878625\n"
          ]
        },
        {
          "output_type": "stream",
          "name": "stderr",
          "text": [
            "[I 2024-05-13 19:41:36,303] Trial 1 finished with value: 0.9715798298802893 and parameters: {'n_estimators': 26, 'max_depth': 6, 'min_samples_split': 2, 'min_samples_leaf': 5}. Best is trial 1 with value: 0.9715798298802893.\n"
          ]
        },
        {
          "output_type": "stream",
          "name": "stdout",
          "text": [
            "Trial 1, n_estimators: 26, max_depth: 6, min_samples_split: 2, min_samples_leaf: 5, ROC-AUC: 0.9715798298802893\n"
          ]
        },
        {
          "output_type": "stream",
          "name": "stderr",
          "text": [
            "[I 2024-05-13 19:41:37,131] Trial 2 finished with value: 0.9815596763229631 and parameters: {'n_estimators': 21, 'max_depth': 8, 'min_samples_split': 10, 'min_samples_leaf': 8}. Best is trial 2 with value: 0.9815596763229631.\n"
          ]
        },
        {
          "output_type": "stream",
          "name": "stdout",
          "text": [
            "Trial 2, n_estimators: 21, max_depth: 8, min_samples_split: 10, min_samples_leaf: 8, ROC-AUC: 0.9815596763229631\n"
          ]
        },
        {
          "output_type": "stream",
          "name": "stderr",
          "text": [
            "[I 2024-05-13 19:41:38,105] Trial 3 finished with value: 0.9716935738391669 and parameters: {'n_estimators': 29, 'max_depth': 6, 'min_samples_split': 4, 'min_samples_leaf': 7}. Best is trial 2 with value: 0.9815596763229631.\n"
          ]
        },
        {
          "output_type": "stream",
          "name": "stdout",
          "text": [
            "Trial 3, n_estimators: 29, max_depth: 6, min_samples_split: 4, min_samples_leaf: 7, ROC-AUC: 0.9716935738391669\n"
          ]
        },
        {
          "output_type": "stream",
          "name": "stderr",
          "text": [
            "[I 2024-05-13 19:41:39,068] Trial 4 finished with value: 0.9709428150535567 and parameters: {'n_estimators': 29, 'max_depth': 6, 'min_samples_split': 8, 'min_samples_leaf': 3}. Best is trial 2 with value: 0.9815596763229631.\n"
          ]
        },
        {
          "output_type": "stream",
          "name": "stdout",
          "text": [
            "Trial 4, n_estimators: 29, max_depth: 6, min_samples_split: 8, min_samples_leaf: 3, ROC-AUC: 0.9709428150535567\n"
          ]
        },
        {
          "output_type": "stream",
          "name": "stderr",
          "text": [
            "[I 2024-05-13 19:41:40,474] Trial 5 finished with value: 0.9768783131365547 and parameters: {'n_estimators': 42, 'max_depth': 7, 'min_samples_split': 3, 'min_samples_leaf': 4}. Best is trial 2 with value: 0.9815596763229631.\n"
          ]
        },
        {
          "output_type": "stream",
          "name": "stdout",
          "text": [
            "Trial 5, n_estimators: 42, max_depth: 7, min_samples_split: 3, min_samples_leaf: 4, ROC-AUC: 0.9768783131365547\n"
          ]
        },
        {
          "output_type": "stream",
          "name": "stderr",
          "text": [
            "[I 2024-05-13 19:41:41,083] Trial 6 finished with value: 0.8538462375121922 and parameters: {'n_estimators': 27, 'max_depth': 1, 'min_samples_split': 8, 'min_samples_leaf': 6}. Best is trial 2 with value: 0.9815596763229631.\n"
          ]
        },
        {
          "output_type": "stream",
          "name": "stdout",
          "text": [
            "Trial 6, n_estimators: 27, max_depth: 1, min_samples_split: 8, min_samples_leaf: 6, ROC-AUC: 0.8538462375121922\n"
          ]
        },
        {
          "output_type": "stream",
          "name": "stderr",
          "text": [
            "[I 2024-05-13 19:41:42,368] Trial 7 finished with value: 0.968860519244051 and parameters: {'n_estimators': 26, 'max_depth': 6, 'min_samples_split': 4, 'min_samples_leaf': 3}. Best is trial 2 with value: 0.9815596763229631.\n"
          ]
        },
        {
          "output_type": "stream",
          "name": "stdout",
          "text": [
            "Trial 7, n_estimators: 26, max_depth: 6, min_samples_split: 4, min_samples_leaf: 3, ROC-AUC: 0.968860519244051\n"
          ]
        },
        {
          "output_type": "stream",
          "name": "stderr",
          "text": [
            "[I 2024-05-13 19:41:43,863] Trial 8 finished with value: 0.904660647540258 and parameters: {'n_estimators': 43, 'max_depth': 2, 'min_samples_split': 2, 'min_samples_leaf': 9}. Best is trial 2 with value: 0.9815596763229631.\n"
          ]
        },
        {
          "output_type": "stream",
          "name": "stdout",
          "text": [
            "Trial 8, n_estimators: 43, max_depth: 2, min_samples_split: 2, min_samples_leaf: 9, ROC-AUC: 0.904660647540258\n"
          ]
        },
        {
          "output_type": "stream",
          "name": "stderr",
          "text": [
            "[I 2024-05-13 19:41:44,996] Trial 9 finished with value: 0.9445093365639906 and parameters: {'n_estimators': 31, 'max_depth': 4, 'min_samples_split': 4, 'min_samples_leaf': 7}. Best is trial 2 with value: 0.9815596763229631.\n"
          ]
        },
        {
          "output_type": "stream",
          "name": "stdout",
          "text": [
            "Trial 9, n_estimators: 31, max_depth: 4, min_samples_split: 4, min_samples_leaf: 7, ROC-AUC: 0.9445093365639906\n"
          ]
        },
        {
          "output_type": "stream",
          "name": "stderr",
          "text": [
            "[I 2024-05-13 19:41:45,459] Trial 10 finished with value: 0.9813739943882098 and parameters: {'n_estimators': 7, 'max_depth': 10, 'min_samples_split': 10, 'min_samples_leaf': 10}. Best is trial 2 with value: 0.9815596763229631.\n"
          ]
        },
        {
          "output_type": "stream",
          "name": "stdout",
          "text": [
            "Trial 10, n_estimators: 7, max_depth: 10, min_samples_split: 10, min_samples_leaf: 10, ROC-AUC: 0.9813739943882098\n"
          ]
        },
        {
          "output_type": "stream",
          "name": "stderr",
          "text": [
            "[I 2024-05-13 19:41:45,807] Trial 11 finished with value: 0.972298224360823 and parameters: {'n_estimators': 3, 'max_depth': 10, 'min_samples_split': 10, 'min_samples_leaf': 10}. Best is trial 2 with value: 0.9815596763229631.\n"
          ]
        },
        {
          "output_type": "stream",
          "name": "stdout",
          "text": [
            "Trial 11, n_estimators: 3, max_depth: 10, min_samples_split: 10, min_samples_leaf: 10, ROC-AUC: 0.972298224360823\n"
          ]
        },
        {
          "output_type": "stream",
          "name": "stderr",
          "text": [
            "[I 2024-05-13 19:41:46,265] Trial 12 finished with value: 0.9840367314782364 and parameters: {'n_estimators': 7, 'max_depth': 10, 'min_samples_split': 10, 'min_samples_leaf': 9}. Best is trial 12 with value: 0.9840367314782364.\n"
          ]
        },
        {
          "output_type": "stream",
          "name": "stdout",
          "text": [
            "Trial 12, n_estimators: 7, max_depth: 10, min_samples_split: 10, min_samples_leaf: 9, ROC-AUC: 0.9840367314782364\n"
          ]
        },
        {
          "output_type": "stream",
          "name": "stderr",
          "text": [
            "[I 2024-05-13 19:41:46,881] Trial 13 finished with value: 0.9813208854116466 and parameters: {'n_estimators': 12, 'max_depth': 8, 'min_samples_split': 8, 'min_samples_leaf': 1}. Best is trial 12 with value: 0.9840367314782364.\n"
          ]
        },
        {
          "output_type": "stream",
          "name": "stdout",
          "text": [
            "Trial 13, n_estimators: 12, max_depth: 8, min_samples_split: 8, min_samples_leaf: 1, ROC-AUC: 0.9813208854116466\n"
          ]
        },
        {
          "output_type": "stream",
          "name": "stderr",
          "text": [
            "[I 2024-05-13 19:41:47,587] Trial 14 finished with value: 0.9835811751360065 and parameters: {'n_estimators': 16, 'max_depth': 9, 'min_samples_split': 6, 'min_samples_leaf': 8}. Best is trial 12 with value: 0.9840367314782364.\n"
          ]
        },
        {
          "output_type": "stream",
          "name": "stdout",
          "text": [
            "Trial 14, n_estimators: 16, max_depth: 9, min_samples_split: 6, min_samples_leaf: 8, ROC-AUC: 0.9835811751360065\n"
          ]
        },
        {
          "output_type": "stream",
          "name": "stderr",
          "text": [
            "[I 2024-05-13 19:41:48,229] Trial 15 finished with value: 0.9837142700225107 and parameters: {'n_estimators': 13, 'max_depth': 9, 'min_samples_split': 6, 'min_samples_leaf': 8}. Best is trial 12 with value: 0.9840367314782364.\n"
          ]
        },
        {
          "output_type": "stream",
          "name": "stdout",
          "text": [
            "Trial 15, n_estimators: 13, max_depth: 9, min_samples_split: 6, min_samples_leaf: 8, ROC-AUC: 0.9837142700225107\n"
          ]
        },
        {
          "output_type": "stream",
          "name": "stderr",
          "text": [
            "[I 2024-05-13 19:41:48,824] Trial 16 finished with value: 0.9816484049279659 and parameters: {'n_estimators': 11, 'max_depth': 9, 'min_samples_split': 6, 'min_samples_leaf': 9}. Best is trial 12 with value: 0.9840367314782364.\n"
          ]
        },
        {
          "output_type": "stream",
          "name": "stdout",
          "text": [
            "Trial 16, n_estimators: 11, max_depth: 9, min_samples_split: 6, min_samples_leaf: 9, ROC-AUC: 0.9816484049279659\n"
          ]
        },
        {
          "output_type": "stream",
          "name": "stderr",
          "text": [
            "[I 2024-05-13 19:41:49,150] Trial 17 finished with value: 0.9621644241058813 and parameters: {'n_estimators': 2, 'max_depth': 10, 'min_samples_split': 7, 'min_samples_leaf': 8}. Best is trial 12 with value: 0.9840367314782364.\n"
          ]
        },
        {
          "output_type": "stream",
          "name": "stdout",
          "text": [
            "Trial 17, n_estimators: 2, max_depth: 10, min_samples_split: 7, min_samples_leaf: 8, ROC-AUC: 0.9621644241058813\n"
          ]
        },
        {
          "output_type": "stream",
          "name": "stderr",
          "text": [
            "[I 2024-05-13 19:41:49,891] Trial 18 finished with value: 0.9805917040607988 and parameters: {'n_estimators': 17, 'max_depth': 8, 'min_samples_split': 5, 'min_samples_leaf': 7}. Best is trial 12 with value: 0.9840367314782364.\n"
          ]
        },
        {
          "output_type": "stream",
          "name": "stdout",
          "text": [
            "Trial 18, n_estimators: 17, max_depth: 8, min_samples_split: 5, min_samples_leaf: 7, ROC-AUC: 0.9805917040607988\n"
          ]
        },
        {
          "output_type": "stream",
          "name": "stderr",
          "text": [
            "[I 2024-05-13 19:41:50,324] Trial 19 finished with value: 0.9301333726325828 and parameters: {'n_estimators': 8, 'max_depth': 4, 'min_samples_split': 9, 'min_samples_leaf': 9}. Best is trial 12 with value: 0.9840367314782364.\n"
          ]
        },
        {
          "output_type": "stream",
          "name": "stdout",
          "text": [
            "Trial 19, n_estimators: 8, max_depth: 4, min_samples_split: 9, min_samples_leaf: 9, ROC-AUC: 0.9301333726325828\n"
          ]
        },
        {
          "output_type": "stream",
          "name": "stderr",
          "text": [
            "[I 2024-05-13 19:41:51,094] Trial 20 finished with value: 0.9842091628193848 and parameters: {'n_estimators': 18, 'max_depth': 9, 'min_samples_split': 7, 'min_samples_leaf': 6}. Best is trial 20 with value: 0.9842091628193848.\n"
          ]
        },
        {
          "output_type": "stream",
          "name": "stdout",
          "text": [
            "Trial 20, n_estimators: 18, max_depth: 9, min_samples_split: 7, min_samples_leaf: 6, ROC-AUC: 0.9842091628193848\n"
          ]
        },
        {
          "output_type": "stream",
          "name": "stderr",
          "text": [
            "[I 2024-05-13 19:41:51,847] Trial 21 finished with value: 0.9844831395623015 and parameters: {'n_estimators': 17, 'max_depth': 9, 'min_samples_split': 7, 'min_samples_leaf': 6}. Best is trial 21 with value: 0.9844831395623015.\n"
          ]
        },
        {
          "output_type": "stream",
          "name": "stdout",
          "text": [
            "Trial 21, n_estimators: 17, max_depth: 9, min_samples_split: 7, min_samples_leaf: 6, ROC-AUC: 0.9844831395623015\n"
          ]
        },
        {
          "output_type": "stream",
          "name": "stderr",
          "text": [
            "[I 2024-05-13 19:41:52,650] Trial 22 finished with value: 0.9845006890720306 and parameters: {'n_estimators': 20, 'max_depth': 9, 'min_samples_split': 7, 'min_samples_leaf': 6}. Best is trial 22 with value: 0.9845006890720306.\n"
          ]
        },
        {
          "output_type": "stream",
          "name": "stdout",
          "text": [
            "Trial 22, n_estimators: 20, max_depth: 9, min_samples_split: 7, min_samples_leaf: 6, ROC-AUC: 0.9845006890720306\n"
          ]
        },
        {
          "output_type": "stream",
          "name": "stderr",
          "text": [
            "[I 2024-05-13 19:41:53,811] Trial 23 finished with value: 0.9787082465792428 and parameters: {'n_estimators': 34, 'max_depth': 7, 'min_samples_split': 7, 'min_samples_leaf': 6}. Best is trial 22 with value: 0.9845006890720306.\n"
          ]
        },
        {
          "output_type": "stream",
          "name": "stdout",
          "text": [
            "Trial 23, n_estimators: 34, max_depth: 7, min_samples_split: 7, min_samples_leaf: 6, ROC-AUC: 0.9787082465792428\n"
          ]
        },
        {
          "output_type": "stream",
          "name": "stderr",
          "text": [
            "[I 2024-05-13 19:41:54,797] Trial 24 finished with value: 0.9838144744537569 and parameters: {'n_estimators': 20, 'max_depth': 9, 'min_samples_split': 7, 'min_samples_leaf': 4}. Best is trial 22 with value: 0.9845006890720306.\n"
          ]
        },
        {
          "output_type": "stream",
          "name": "stdout",
          "text": [
            "Trial 24, n_estimators: 20, max_depth: 9, min_samples_split: 7, min_samples_leaf: 4, ROC-AUC: 0.9838144744537569\n"
          ]
        },
        {
          "output_type": "stream",
          "name": "stderr",
          "text": [
            "[I 2024-05-13 19:41:56,096] Trial 25 finished with value: 0.9753520501470835 and parameters: {'n_estimators': 20, 'max_depth': 7, 'min_samples_split': 5, 'min_samples_leaf': 6}. Best is trial 22 with value: 0.9845006890720306.\n"
          ]
        },
        {
          "output_type": "stream",
          "name": "stdout",
          "text": [
            "Trial 25, n_estimators: 20, max_depth: 7, min_samples_split: 5, min_samples_leaf: 6, ROC-AUC: 0.9753520501470835\n"
          ]
        },
        {
          "output_type": "stream",
          "name": "stderr",
          "text": [
            "[I 2024-05-13 19:41:57,998] Trial 26 finished with value: 0.982963054219792 and parameters: {'n_estimators': 36, 'max_depth': 8, 'min_samples_split': 7, 'min_samples_leaf': 5}. Best is trial 22 with value: 0.9845006890720306.\n"
          ]
        },
        {
          "output_type": "stream",
          "name": "stdout",
          "text": [
            "Trial 26, n_estimators: 36, max_depth: 8, min_samples_split: 7, min_samples_leaf: 5, ROC-AUC: 0.982963054219792\n"
          ]
        },
        {
          "output_type": "stream",
          "name": "stderr",
          "text": [
            "[I 2024-05-13 19:41:59,351] Trial 27 finished with value: 0.9467655820035825 and parameters: {'n_estimators': 50, 'max_depth': 4, 'min_samples_split': 9, 'min_samples_leaf': 4}. Best is trial 22 with value: 0.9845006890720306.\n"
          ]
        },
        {
          "output_type": "stream",
          "name": "stdout",
          "text": [
            "Trial 27, n_estimators: 50, max_depth: 4, min_samples_split: 9, min_samples_leaf: 4, ROC-AUC: 0.9467655820035825\n"
          ]
        },
        {
          "output_type": "stream",
          "name": "stderr",
          "text": [
            "[I 2024-05-13 19:42:00,242] Trial 28 finished with value: 0.9843975554566514 and parameters: {'n_estimators': 22, 'max_depth': 9, 'min_samples_split': 5, 'min_samples_leaf': 6}. Best is trial 22 with value: 0.9845006890720306.\n"
          ]
        },
        {
          "output_type": "stream",
          "name": "stdout",
          "text": [
            "Trial 28, n_estimators: 22, max_depth: 9, min_samples_split: 5, min_samples_leaf: 6, ROC-AUC: 0.9843975554566514\n"
          ]
        },
        {
          "output_type": "stream",
          "name": "stderr",
          "text": [
            "[I 2024-05-13 19:42:00,963] Trial 29 finished with value: 0.9607665079856826 and parameters: {'n_estimators': 21, 'max_depth': 5, 'min_samples_split': 5, 'min_samples_leaf': 5}. Best is trial 22 with value: 0.9845006890720306.\n"
          ]
        },
        {
          "output_type": "stream",
          "name": "stdout",
          "text": [
            "Trial 29, n_estimators: 21, max_depth: 5, min_samples_split: 5, min_samples_leaf: 5, ROC-AUC: 0.9607665079856826\n"
          ]
        },
        {
          "output_type": "stream",
          "name": "stderr",
          "text": [
            "[I 2024-05-13 19:42:01,658] Trial 30 finished with value: 0.9809752440587459 and parameters: {'n_estimators': 15, 'max_depth': 8, 'min_samples_split': 5, 'min_samples_leaf': 7}. Best is trial 22 with value: 0.9845006890720306.\n"
          ]
        },
        {
          "output_type": "stream",
          "name": "stdout",
          "text": [
            "Trial 30, n_estimators: 15, max_depth: 8, min_samples_split: 5, min_samples_leaf: 7, ROC-AUC: 0.9809752440587459\n"
          ]
        },
        {
          "output_type": "stream",
          "name": "stderr",
          "text": [
            "[I 2024-05-13 19:42:02,598] Trial 31 finished with value: 0.9842221202570964 and parameters: {'n_estimators': 23, 'max_depth': 9, 'min_samples_split': 7, 'min_samples_leaf': 6}. Best is trial 22 with value: 0.9845006890720306.\n"
          ]
        },
        {
          "output_type": "stream",
          "name": "stdout",
          "text": [
            "Trial 31, n_estimators: 23, max_depth: 9, min_samples_split: 7, min_samples_leaf: 6, ROC-AUC: 0.9842221202570964\n"
          ]
        },
        {
          "output_type": "stream",
          "name": "stderr",
          "text": [
            "[I 2024-05-13 19:42:03,549] Trial 32 finished with value: 0.9844463333253539 and parameters: {'n_estimators': 23, 'max_depth': 9, 'min_samples_split': 6, 'min_samples_leaf': 6}. Best is trial 22 with value: 0.9845006890720306.\n"
          ]
        },
        {
          "output_type": "stream",
          "name": "stdout",
          "text": [
            "Trial 32, n_estimators: 23, max_depth: 9, min_samples_split: 6, min_samples_leaf: 6, ROC-AUC: 0.9844463333253539\n"
          ]
        },
        {
          "output_type": "stream",
          "name": "stderr",
          "text": [
            "[I 2024-05-13 19:42:04,489] Trial 33 finished with value: 0.9876331941003798 and parameters: {'n_estimators': 23, 'max_depth': 10, 'min_samples_split': 6, 'min_samples_leaf': 5}. Best is trial 33 with value: 0.9876331941003798.\n"
          ]
        },
        {
          "output_type": "stream",
          "name": "stdout",
          "text": [
            "Trial 33, n_estimators: 23, max_depth: 10, min_samples_split: 6, min_samples_leaf: 5, ROC-AUC: 0.9876331941003798\n"
          ]
        },
        {
          "output_type": "stream",
          "name": "stderr",
          "text": [
            "[I 2024-05-13 19:42:05,455] Trial 34 finished with value: 0.9870174981190527 and parameters: {'n_estimators': 24, 'max_depth': 10, 'min_samples_split': 6, 'min_samples_leaf': 5}. Best is trial 33 with value: 0.9876331941003798.\n"
          ]
        },
        {
          "output_type": "stream",
          "name": "stdout",
          "text": [
            "Trial 34, n_estimators: 24, max_depth: 10, min_samples_split: 6, min_samples_leaf: 5, ROC-AUC: 0.9870174981190527\n"
          ]
        },
        {
          "output_type": "stream",
          "name": "stderr",
          "text": [
            "[I 2024-05-13 19:42:06,459] Trial 35 finished with value: 0.9867383572411331 and parameters: {'n_estimators': 25, 'max_depth': 10, 'min_samples_split': 6, 'min_samples_leaf': 3}. Best is trial 33 with value: 0.9876331941003798.\n"
          ]
        },
        {
          "output_type": "stream",
          "name": "stdout",
          "text": [
            "Trial 35, n_estimators: 25, max_depth: 10, min_samples_split: 6, min_samples_leaf: 3, ROC-AUC: 0.9867383572411331\n"
          ]
        },
        {
          "output_type": "stream",
          "name": "stderr",
          "text": [
            "[I 2024-05-13 19:42:07,613] Trial 36 finished with value: 0.9872019156046244 and parameters: {'n_estimators': 29, 'max_depth': 10, 'min_samples_split': 6, 'min_samples_leaf': 2}. Best is trial 33 with value: 0.9876331941003798.\n"
          ]
        },
        {
          "output_type": "stream",
          "name": "stdout",
          "text": [
            "Trial 36, n_estimators: 29, max_depth: 10, min_samples_split: 6, min_samples_leaf: 2, ROC-AUC: 0.9872019156046244\n"
          ]
        },
        {
          "output_type": "stream",
          "name": "stderr",
          "text": [
            "[I 2024-05-13 19:42:09,744] Trial 37 finished with value: 0.9878851830958301 and parameters: {'n_estimators': 33, 'max_depth': 10, 'min_samples_split': 6, 'min_samples_leaf': 1}. Best is trial 37 with value: 0.9878851830958301.\n"
          ]
        },
        {
          "output_type": "stream",
          "name": "stdout",
          "text": [
            "Trial 37, n_estimators: 33, max_depth: 10, min_samples_split: 6, min_samples_leaf: 1, ROC-AUC: 0.9878851830958301\n"
          ]
        },
        {
          "output_type": "stream",
          "name": "stderr",
          "text": [
            "[I 2024-05-13 19:42:11,623] Trial 38 finished with value: 0.9880123470507283 and parameters: {'n_estimators': 33, 'max_depth': 10, 'min_samples_split': 4, 'min_samples_leaf': 1}. Best is trial 38 with value: 0.9880123470507283.\n"
          ]
        },
        {
          "output_type": "stream",
          "name": "stdout",
          "text": [
            "Trial 38, n_estimators: 33, max_depth: 10, min_samples_split: 4, min_samples_leaf: 1, ROC-AUC: 0.9880123470507283\n"
          ]
        },
        {
          "output_type": "stream",
          "name": "stderr",
          "text": [
            "[I 2024-05-13 19:42:13,099] Trial 39 finished with value: 0.9875323286830735 and parameters: {'n_estimators': 37, 'max_depth': 10, 'min_samples_split': 3, 'min_samples_leaf': 1}. Best is trial 38 with value: 0.9880123470507283.\n"
          ]
        },
        {
          "output_type": "stream",
          "name": "stdout",
          "text": [
            "Trial 39, n_estimators: 37, max_depth: 10, min_samples_split: 3, min_samples_leaf: 1, ROC-AUC: 0.9875323286830735\n"
          ]
        },
        {
          "output_type": "stream",
          "name": "stderr",
          "text": [
            "[I 2024-05-13 19:42:14,677] Trial 40 finished with value: 0.982162729395674 and parameters: {'n_estimators': 40, 'max_depth': 8, 'min_samples_split': 3, 'min_samples_leaf': 1}. Best is trial 38 with value: 0.9880123470507283.\n"
          ]
        },
        {
          "output_type": "stream",
          "name": "stdout",
          "text": [
            "Trial 40, n_estimators: 40, max_depth: 8, min_samples_split: 3, min_samples_leaf: 1, ROC-AUC: 0.982162729395674\n"
          ]
        },
        {
          "output_type": "stream",
          "name": "stderr",
          "text": [
            "[I 2024-05-13 19:42:16,023] Trial 41 finished with value: 0.9874066830171133 and parameters: {'n_estimators': 33, 'max_depth': 10, 'min_samples_split': 3, 'min_samples_leaf': 2}. Best is trial 38 with value: 0.9880123470507283.\n"
          ]
        },
        {
          "output_type": "stream",
          "name": "stdout",
          "text": [
            "Trial 41, n_estimators: 33, max_depth: 10, min_samples_split: 3, min_samples_leaf: 2, ROC-AUC: 0.9874066830171133\n"
          ]
        },
        {
          "output_type": "stream",
          "name": "stderr",
          "text": [
            "[I 2024-05-13 19:42:17,416] Trial 42 finished with value: 0.9873302590436298 and parameters: {'n_estimators': 35, 'max_depth': 10, 'min_samples_split': 2, 'min_samples_leaf': 2}. Best is trial 38 with value: 0.9880123470507283.\n"
          ]
        },
        {
          "output_type": "stream",
          "name": "stdout",
          "text": [
            "Trial 42, n_estimators: 35, max_depth: 10, min_samples_split: 2, min_samples_leaf: 2, ROC-AUC: 0.9873302590436298\n"
          ]
        },
        {
          "output_type": "stream",
          "name": "stderr",
          "text": [
            "[I 2024-05-13 19:42:18,906] Trial 43 finished with value: 0.9877151207498306 and parameters: {'n_estimators': 38, 'max_depth': 10, 'min_samples_split': 3, 'min_samples_leaf': 2}. Best is trial 38 with value: 0.9880123470507283.\n"
          ]
        },
        {
          "output_type": "stream",
          "name": "stdout",
          "text": [
            "Trial 43, n_estimators: 38, max_depth: 10, min_samples_split: 3, min_samples_leaf: 2, ROC-AUC: 0.9877151207498306\n"
          ]
        },
        {
          "output_type": "stream",
          "name": "stderr",
          "text": [
            "[I 2024-05-13 19:42:20,401] Trial 44 finished with value: 0.9887328165789173 and parameters: {'n_estimators': 39, 'max_depth': 10, 'min_samples_split': 4, 'min_samples_leaf': 1}. Best is trial 44 with value: 0.9887328165789173.\n"
          ]
        },
        {
          "output_type": "stream",
          "name": "stdout",
          "text": [
            "Trial 44, n_estimators: 39, max_depth: 10, min_samples_split: 4, min_samples_leaf: 1, ROC-AUC: 0.9887328165789173\n"
          ]
        },
        {
          "output_type": "stream",
          "name": "stderr",
          "text": [
            "[I 2024-05-13 19:42:21,640] Trial 45 finished with value: 0.9213751587791424 and parameters: {'n_estimators': 39, 'max_depth': 3, 'min_samples_split': 4, 'min_samples_leaf': 2}. Best is trial 44 with value: 0.9887328165789173.\n"
          ]
        },
        {
          "output_type": "stream",
          "name": "stdout",
          "text": [
            "Trial 45, n_estimators: 39, max_depth: 3, min_samples_split: 4, min_samples_leaf: 2, ROC-AUC: 0.9213751587791424\n"
          ]
        },
        {
          "output_type": "stream",
          "name": "stderr",
          "text": [
            "[I 2024-05-13 19:42:22,978] Trial 46 finished with value: 0.8566831503660591 and parameters: {'n_estimators': 45, 'max_depth': 1, 'min_samples_split': 2, 'min_samples_leaf': 1}. Best is trial 44 with value: 0.9887328165789173.\n"
          ]
        },
        {
          "output_type": "stream",
          "name": "stdout",
          "text": [
            "Trial 46, n_estimators: 45, max_depth: 1, min_samples_split: 2, min_samples_leaf: 1, ROC-AUC: 0.8566831503660591\n"
          ]
        },
        {
          "output_type": "stream",
          "name": "stderr",
          "text": [
            "[I 2024-05-13 19:42:24,740] Trial 47 finished with value: 0.9874426578101184 and parameters: {'n_estimators': 31, 'max_depth': 10, 'min_samples_split': 3, 'min_samples_leaf': 3}. Best is trial 44 with value: 0.9887328165789173.\n"
          ]
        },
        {
          "output_type": "stream",
          "name": "stdout",
          "text": [
            "Trial 47, n_estimators: 31, max_depth: 10, min_samples_split: 3, min_samples_leaf: 3, ROC-AUC: 0.9874426578101184\n"
          ]
        },
        {
          "output_type": "stream",
          "name": "stderr",
          "text": [
            "[I 2024-05-13 19:42:26,326] Trial 48 finished with value: 0.9834753875494524 and parameters: {'n_estimators': 45, 'max_depth': 8, 'min_samples_split': 4, 'min_samples_leaf': 1}. Best is trial 44 with value: 0.9887328165789173.\n"
          ]
        },
        {
          "output_type": "stream",
          "name": "stdout",
          "text": [
            "Trial 48, n_estimators: 45, max_depth: 8, min_samples_split: 4, min_samples_leaf: 1, ROC-AUC: 0.9834753875494524\n"
          ]
        },
        {
          "output_type": "stream",
          "name": "stderr",
          "text": [
            "[I 2024-05-13 19:42:27,336] Trial 49 finished with value: 0.9772547614533238 and parameters: {'n_estimators': 28, 'max_depth': 7, 'min_samples_split': 4, 'min_samples_leaf': 2}. Best is trial 44 with value: 0.9887328165789173.\n"
          ]
        },
        {
          "output_type": "stream",
          "name": "stdout",
          "text": [
            "Trial 49, n_estimators: 28, max_depth: 7, min_samples_split: 4, min_samples_leaf: 2, ROC-AUC: 0.9772547614533238\n"
          ]
        },
        {
          "output_type": "stream",
          "name": "stderr",
          "text": [
            "[I 2024-05-13 19:42:28,791] Trial 50 finished with value: 0.987154810123007 and parameters: {'n_estimators': 38, 'max_depth': 10, 'min_samples_split': 3, 'min_samples_leaf': 1}. Best is trial 44 with value: 0.9887328165789173.\n"
          ]
        },
        {
          "output_type": "stream",
          "name": "stdout",
          "text": [
            "Trial 50, n_estimators: 38, max_depth: 10, min_samples_split: 3, min_samples_leaf: 1, ROC-AUC: 0.987154810123007\n"
          ]
        },
        {
          "output_type": "stream",
          "name": "stderr",
          "text": [
            "[I 2024-05-13 19:42:30,259] Trial 51 finished with value: 0.987505640942113 and parameters: {'n_estimators': 37, 'max_depth': 10, 'min_samples_split': 3, 'min_samples_leaf': 1}. Best is trial 44 with value: 0.9887328165789173.\n"
          ]
        },
        {
          "output_type": "stream",
          "name": "stdout",
          "text": [
            "Trial 51, n_estimators: 37, max_depth: 10, min_samples_split: 3, min_samples_leaf: 1, ROC-AUC: 0.987505640942113\n"
          ]
        },
        {
          "output_type": "stream",
          "name": "stderr",
          "text": [
            "[I 2024-05-13 19:42:31,826] Trial 52 finished with value: 0.9879655698192742 and parameters: {'n_estimators': 41, 'max_depth': 10, 'min_samples_split': 4, 'min_samples_leaf': 1}. Best is trial 44 with value: 0.9887328165789173.\n"
          ]
        },
        {
          "output_type": "stream",
          "name": "stdout",
          "text": [
            "Trial 52, n_estimators: 41, max_depth: 10, min_samples_split: 4, min_samples_leaf: 1, ROC-AUC: 0.9879655698192742\n"
          ]
        },
        {
          "output_type": "stream",
          "name": "stderr",
          "text": [
            "[I 2024-05-13 19:42:33,392] Trial 53 finished with value: 0.9879142429983396 and parameters: {'n_estimators': 41, 'max_depth': 10, 'min_samples_split': 4, 'min_samples_leaf': 2}. Best is trial 44 with value: 0.9887328165789173.\n"
          ]
        },
        {
          "output_type": "stream",
          "name": "stdout",
          "text": [
            "Trial 53, n_estimators: 41, max_depth: 10, min_samples_split: 4, min_samples_leaf: 2, ROC-AUC: 0.9879142429983396\n"
          ]
        },
        {
          "output_type": "stream",
          "name": "stderr",
          "text": [
            "[I 2024-05-13 19:42:35,283] Trial 54 finished with value: 0.9854854572406561 and parameters: {'n_estimators': 41, 'max_depth': 9, 'min_samples_split': 4, 'min_samples_leaf': 2}. Best is trial 44 with value: 0.9887328165789173.\n"
          ]
        },
        {
          "output_type": "stream",
          "name": "stdout",
          "text": [
            "Trial 54, n_estimators: 41, max_depth: 9, min_samples_split: 4, min_samples_leaf: 2, ROC-AUC: 0.9854854572406561\n"
          ]
        },
        {
          "output_type": "stream",
          "name": "stderr",
          "text": [
            "[I 2024-05-13 19:42:37,940] Trial 55 finished with value: 0.9875196311540521 and parameters: {'n_estimators': 43, 'max_depth': 10, 'min_samples_split': 4, 'min_samples_leaf': 3}. Best is trial 44 with value: 0.9887328165789173.\n"
          ]
        },
        {
          "output_type": "stream",
          "name": "stdout",
          "text": [
            "Trial 55, n_estimators: 43, max_depth: 10, min_samples_split: 4, min_samples_leaf: 3, ROC-AUC: 0.9875196311540521\n"
          ]
        },
        {
          "output_type": "stream",
          "name": "stderr",
          "text": [
            "[I 2024-05-13 19:42:39,638] Trial 56 finished with value: 0.9859662959698522 and parameters: {'n_estimators': 47, 'max_depth': 9, 'min_samples_split': 4, 'min_samples_leaf': 1}. Best is trial 44 with value: 0.9887328165789173.\n"
          ]
        },
        {
          "output_type": "stream",
          "name": "stdout",
          "text": [
            "Trial 56, n_estimators: 47, max_depth: 9, min_samples_split: 4, min_samples_leaf: 1, ROC-AUC: 0.9859662959698522\n"
          ]
        },
        {
          "output_type": "stream",
          "name": "stderr",
          "text": [
            "[I 2024-05-13 19:42:40,881] Trial 57 finished with value: 0.9875496367547807 and parameters: {'n_estimators': 31, 'max_depth': 10, 'min_samples_split': 2, 'min_samples_leaf': 2}. Best is trial 44 with value: 0.9887328165789173.\n"
          ]
        },
        {
          "output_type": "stream",
          "name": "stdout",
          "text": [
            "Trial 57, n_estimators: 31, max_depth: 10, min_samples_split: 2, min_samples_leaf: 2, ROC-AUC: 0.9875496367547807\n"
          ]
        },
        {
          "output_type": "stream",
          "name": "stderr",
          "text": [
            "[I 2024-05-13 19:42:41,856] Trial 58 finished with value: 0.901909598490733 and parameters: {'n_estimators': 42, 'max_depth': 2, 'min_samples_split': 5, 'min_samples_leaf': 1}. Best is trial 44 with value: 0.9887328165789173.\n"
          ]
        },
        {
          "output_type": "stream",
          "name": "stdout",
          "text": [
            "Trial 58, n_estimators: 42, max_depth: 2, min_samples_split: 5, min_samples_leaf: 1, ROC-AUC: 0.901909598490733\n"
          ]
        },
        {
          "output_type": "stream",
          "name": "stderr",
          "text": [
            "[I 2024-05-13 19:42:43,082] Trial 59 finished with value: 0.9857197357676958 and parameters: {'n_estimators': 33, 'max_depth': 9, 'min_samples_split': 4, 'min_samples_leaf': 2}. Best is trial 44 with value: 0.9887328165789173.\n"
          ]
        },
        {
          "output_type": "stream",
          "name": "stdout",
          "text": [
            "Trial 59, n_estimators: 33, max_depth: 9, min_samples_split: 4, min_samples_leaf: 2, ROC-AUC: 0.9857197357676958\n"
          ]
        },
        {
          "output_type": "stream",
          "name": "stderr",
          "text": [
            "[I 2024-05-13 19:42:44,609] Trial 60 finished with value: 0.9858457431948885 and parameters: {'n_estimators': 40, 'max_depth': 9, 'min_samples_split': 3, 'min_samples_leaf': 3}. Best is trial 44 with value: 0.9887328165789173.\n"
          ]
        },
        {
          "output_type": "stream",
          "name": "stdout",
          "text": [
            "Trial 60, n_estimators: 40, max_depth: 9, min_samples_split: 3, min_samples_leaf: 3, ROC-AUC: 0.9858457431948885\n"
          ]
        },
        {
          "output_type": "stream",
          "name": "stderr",
          "text": [
            "[I 2024-05-13 19:42:46,313] Trial 61 finished with value: 0.9882904984285578 and parameters: {'n_estimators': 44, 'max_depth': 10, 'min_samples_split': 5, 'min_samples_leaf': 1}. Best is trial 44 with value: 0.9887328165789173.\n"
          ]
        },
        {
          "output_type": "stream",
          "name": "stdout",
          "text": [
            "Trial 61, n_estimators: 44, max_depth: 10, min_samples_split: 5, min_samples_leaf: 1, ROC-AUC: 0.9882904984285578\n"
          ]
        },
        {
          "output_type": "stream",
          "name": "stderr",
          "text": [
            "[I 2024-05-13 19:42:48,150] Trial 62 finished with value: 0.9869178971509278 and parameters: {'n_estimators': 45, 'max_depth': 10, 'min_samples_split': 5, 'min_samples_leaf': 1}. Best is trial 44 with value: 0.9887328165789173.\n"
          ]
        },
        {
          "output_type": "stream",
          "name": "stdout",
          "text": [
            "Trial 62, n_estimators: 45, max_depth: 10, min_samples_split: 5, min_samples_leaf: 1, ROC-AUC: 0.9869178971509278\n"
          ]
        },
        {
          "output_type": "stream",
          "name": "stderr",
          "text": [
            "[I 2024-05-13 19:42:51,139] Trial 63 finished with value: 0.9886855767891545 and parameters: {'n_estimators': 48, 'max_depth': 10, 'min_samples_split': 4, 'min_samples_leaf': 1}. Best is trial 44 with value: 0.9887328165789173.\n"
          ]
        },
        {
          "output_type": "stream",
          "name": "stdout",
          "text": [
            "Trial 63, n_estimators: 48, max_depth: 10, min_samples_split: 4, min_samples_leaf: 1, ROC-AUC: 0.9886855767891545\n"
          ]
        },
        {
          "output_type": "stream",
          "name": "stderr",
          "text": [
            "[I 2024-05-13 19:42:52,928] Trial 64 finished with value: 0.9852610845330508 and parameters: {'n_estimators': 49, 'max_depth': 9, 'min_samples_split': 5, 'min_samples_leaf': 1}. Best is trial 44 with value: 0.9887328165789173.\n"
          ]
        },
        {
          "output_type": "stream",
          "name": "stdout",
          "text": [
            "Trial 64, n_estimators: 49, max_depth: 9, min_samples_split: 5, min_samples_leaf: 1, ROC-AUC: 0.9852610845330508\n"
          ]
        },
        {
          "output_type": "stream",
          "name": "stderr",
          "text": [
            "[I 2024-05-13 19:42:54,649] Trial 65 finished with value: 0.9877265295539349 and parameters: {'n_estimators': 46, 'max_depth': 10, 'min_samples_split': 4, 'min_samples_leaf': 1}. Best is trial 44 with value: 0.9887328165789173.\n"
          ]
        },
        {
          "output_type": "stream",
          "name": "stdout",
          "text": [
            "Trial 65, n_estimators: 46, max_depth: 10, min_samples_split: 4, min_samples_leaf: 1, ROC-AUC: 0.9877265295539349\n"
          ]
        },
        {
          "output_type": "stream",
          "name": "stderr",
          "text": [
            "[I 2024-05-13 19:42:56,079] Trial 66 finished with value: 0.9633053897452454 and parameters: {'n_estimators': 48, 'max_depth': 5, 'min_samples_split': 5, 'min_samples_leaf': 1}. Best is trial 44 with value: 0.9887328165789173.\n"
          ]
        },
        {
          "output_type": "stream",
          "name": "stdout",
          "text": [
            "Trial 66, n_estimators: 48, max_depth: 5, min_samples_split: 5, min_samples_leaf: 1, ROC-AUC: 0.9633053897452454\n"
          ]
        },
        {
          "output_type": "stream",
          "name": "stderr",
          "text": [
            "[I 2024-05-13 19:42:57,637] Trial 67 finished with value: 0.9858845709145531 and parameters: {'n_estimators': 43, 'max_depth': 9, 'min_samples_split': 4, 'min_samples_leaf': 2}. Best is trial 44 with value: 0.9887328165789173.\n"
          ]
        },
        {
          "output_type": "stream",
          "name": "stdout",
          "text": [
            "Trial 67, n_estimators: 43, max_depth: 9, min_samples_split: 4, min_samples_leaf: 2, ROC-AUC: 0.9858845709145531\n"
          ]
        },
        {
          "output_type": "stream",
          "name": "stderr",
          "text": [
            "[I 2024-05-13 19:42:59,119] Trial 68 finished with value: 0.9827659589952006 and parameters: {'n_estimators': 41, 'max_depth': 8, 'min_samples_split': 4, 'min_samples_leaf': 1}. Best is trial 44 with value: 0.9887328165789173.\n"
          ]
        },
        {
          "output_type": "stream",
          "name": "stdout",
          "text": [
            "Trial 68, n_estimators: 41, max_depth: 8, min_samples_split: 4, min_samples_leaf: 1, ROC-AUC: 0.9827659589952006\n"
          ]
        },
        {
          "output_type": "stream",
          "name": "stderr",
          "text": [
            "[I 2024-05-13 19:43:00,766] Trial 69 finished with value: 0.9878370097457158 and parameters: {'n_estimators': 44, 'max_depth': 10, 'min_samples_split': 5, 'min_samples_leaf': 2}. Best is trial 44 with value: 0.9887328165789173.\n"
          ]
        },
        {
          "output_type": "stream",
          "name": "stdout",
          "text": [
            "Trial 69, n_estimators: 44, max_depth: 10, min_samples_split: 5, min_samples_leaf: 2, ROC-AUC: 0.9878370097457158\n"
          ]
        },
        {
          "output_type": "stream",
          "name": "stderr",
          "text": [
            "[I 2024-05-13 19:43:02,792] Trial 70 finished with value: 0.9863762297612665 and parameters: {'n_estimators': 36, 'max_depth': 9, 'min_samples_split': 4, 'min_samples_leaf': 1}. Best is trial 44 with value: 0.9887328165789173.\n"
          ]
        },
        {
          "output_type": "stream",
          "name": "stdout",
          "text": [
            "Trial 70, n_estimators: 36, max_depth: 9, min_samples_split: 4, min_samples_leaf: 1, ROC-AUC: 0.9863762297612665\n"
          ]
        },
        {
          "output_type": "stream",
          "name": "stderr",
          "text": [
            "[I 2024-05-13 19:43:05,077] Trial 71 finished with value: 0.9878230638633807 and parameters: {'n_estimators': 43, 'max_depth': 10, 'min_samples_split': 5, 'min_samples_leaf': 2}. Best is trial 44 with value: 0.9887328165789173.\n"
          ]
        },
        {
          "output_type": "stream",
          "name": "stdout",
          "text": [
            "Trial 71, n_estimators: 43, max_depth: 10, min_samples_split: 5, min_samples_leaf: 2, ROC-AUC: 0.9878230638633807\n"
          ]
        },
        {
          "output_type": "stream",
          "name": "stderr",
          "text": [
            "[I 2024-05-13 19:43:06,953] Trial 72 finished with value: 0.9884406132443431 and parameters: {'n_estimators': 50, 'max_depth': 10, 'min_samples_split': 5, 'min_samples_leaf': 1}. Best is trial 44 with value: 0.9887328165789173.\n"
          ]
        },
        {
          "output_type": "stream",
          "name": "stdout",
          "text": [
            "Trial 72, n_estimators: 50, max_depth: 10, min_samples_split: 5, min_samples_leaf: 1, ROC-AUC: 0.9884406132443431\n"
          ]
        },
        {
          "output_type": "stream",
          "name": "stderr",
          "text": [
            "[I 2024-05-13 19:43:08,688] Trial 73 finished with value: 0.9884277726995754 and parameters: {'n_estimators': 48, 'max_depth': 10, 'min_samples_split': 5, 'min_samples_leaf': 1}. Best is trial 44 with value: 0.9887328165789173.\n"
          ]
        },
        {
          "output_type": "stream",
          "name": "stdout",
          "text": [
            "Trial 73, n_estimators: 48, max_depth: 10, min_samples_split: 5, min_samples_leaf: 1, ROC-AUC: 0.9884277726995754\n"
          ]
        },
        {
          "output_type": "stream",
          "name": "stderr",
          "text": [
            "[I 2024-05-13 19:43:10,544] Trial 74 finished with value: 0.987632694073001 and parameters: {'n_estimators': 50, 'max_depth': 10, 'min_samples_split': 5, 'min_samples_leaf': 1}. Best is trial 44 with value: 0.9887328165789173.\n"
          ]
        },
        {
          "output_type": "stream",
          "name": "stdout",
          "text": [
            "Trial 74, n_estimators: 50, max_depth: 10, min_samples_split: 5, min_samples_leaf: 1, ROC-AUC: 0.987632694073001\n"
          ]
        },
        {
          "output_type": "stream",
          "name": "stderr",
          "text": [
            "[I 2024-05-13 19:43:12,248] Trial 75 finished with value: 0.9854562640854679 and parameters: {'n_estimators': 47, 'max_depth': 9, 'min_samples_split': 4, 'min_samples_leaf': 1}. Best is trial 44 with value: 0.9887328165789173.\n"
          ]
        },
        {
          "output_type": "stream",
          "name": "stdout",
          "text": [
            "Trial 75, n_estimators: 47, max_depth: 9, min_samples_split: 4, min_samples_leaf: 1, ROC-AUC: 0.9854562640854679\n"
          ]
        },
        {
          "output_type": "stream",
          "name": "stderr",
          "text": [
            "[I 2024-05-13 19:43:14,033] Trial 76 finished with value: 0.9882522802409488 and parameters: {'n_estimators': 48, 'max_depth': 10, 'min_samples_split': 5, 'min_samples_leaf': 1}. Best is trial 44 with value: 0.9887328165789173.\n"
          ]
        },
        {
          "output_type": "stream",
          "name": "stdout",
          "text": [
            "Trial 76, n_estimators: 48, max_depth: 10, min_samples_split: 5, min_samples_leaf: 1, ROC-AUC: 0.9882522802409488\n"
          ]
        },
        {
          "output_type": "stream",
          "name": "stderr",
          "text": [
            "[I 2024-05-13 19:43:16,760] Trial 77 finished with value: 0.988169308679403 and parameters: {'n_estimators': 48, 'max_depth': 10, 'min_samples_split': 5, 'min_samples_leaf': 1}. Best is trial 44 with value: 0.9887328165789173.\n"
          ]
        },
        {
          "output_type": "stream",
          "name": "stdout",
          "text": [
            "Trial 77, n_estimators: 48, max_depth: 10, min_samples_split: 5, min_samples_leaf: 1, ROC-AUC: 0.988169308679403\n"
          ]
        },
        {
          "output_type": "stream",
          "name": "stderr",
          "text": [
            "[I 2024-05-13 19:43:18,971] Trial 78 finished with value: 0.9856326075141719 and parameters: {'n_estimators': 48, 'max_depth': 9, 'min_samples_split': 5, 'min_samples_leaf': 1}. Best is trial 44 with value: 0.9887328165789173.\n"
          ]
        },
        {
          "output_type": "stream",
          "name": "stdout",
          "text": [
            "Trial 78, n_estimators: 48, max_depth: 9, min_samples_split: 5, min_samples_leaf: 1, ROC-AUC: 0.9856326075141719\n"
          ]
        },
        {
          "output_type": "stream",
          "name": "stderr",
          "text": [
            "[I 2024-05-13 19:43:20,771] Trial 79 finished with value: 0.9877470420227337 and parameters: {'n_estimators': 49, 'max_depth': 10, 'min_samples_split': 5, 'min_samples_leaf': 2}. Best is trial 44 with value: 0.9887328165789173.\n"
          ]
        },
        {
          "output_type": "stream",
          "name": "stdout",
          "text": [
            "Trial 79, n_estimators: 49, max_depth: 10, min_samples_split: 5, min_samples_leaf: 2, ROC-AUC: 0.9877470420227337\n"
          ]
        },
        {
          "output_type": "stream",
          "name": "stderr",
          "text": [
            "[I 2024-05-13 19:43:22,418] Trial 80 finished with value: 0.9867447314687794 and parameters: {'n_estimators': 46, 'max_depth': 9, 'min_samples_split': 6, 'min_samples_leaf': 1}. Best is trial 44 with value: 0.9887328165789173.\n"
          ]
        },
        {
          "output_type": "stream",
          "name": "stdout",
          "text": [
            "Trial 80, n_estimators: 46, max_depth: 9, min_samples_split: 6, min_samples_leaf: 1, ROC-AUC: 0.9867447314687794\n"
          ]
        },
        {
          "output_type": "stream",
          "name": "stderr",
          "text": [
            "[I 2024-05-13 19:43:24,196] Trial 81 finished with value: 0.988301302450207 and parameters: {'n_estimators': 48, 'max_depth': 10, 'min_samples_split': 5, 'min_samples_leaf': 1}. Best is trial 44 with value: 0.9887328165789173.\n"
          ]
        },
        {
          "output_type": "stream",
          "name": "stdout",
          "text": [
            "Trial 81, n_estimators: 48, max_depth: 10, min_samples_split: 5, min_samples_leaf: 1, ROC-AUC: 0.988301302450207\n"
          ]
        },
        {
          "output_type": "stream",
          "name": "stderr",
          "text": [
            "[I 2024-05-13 19:43:26,042] Trial 82 finished with value: 0.9878451194245865 and parameters: {'n_estimators': 50, 'max_depth': 10, 'min_samples_split': 5, 'min_samples_leaf': 1}. Best is trial 44 with value: 0.9887328165789173.\n"
          ]
        },
        {
          "output_type": "stream",
          "name": "stdout",
          "text": [
            "Trial 82, n_estimators: 50, max_depth: 10, min_samples_split: 5, min_samples_leaf: 1, ROC-AUC: 0.9878451194245865\n"
          ]
        },
        {
          "output_type": "stream",
          "name": "stderr",
          "text": [
            "[I 2024-05-13 19:43:27,827] Trial 83 finished with value: 0.9877600672741849 and parameters: {'n_estimators': 48, 'max_depth': 10, 'min_samples_split': 5, 'min_samples_leaf': 1}. Best is trial 44 with value: 0.9887328165789173.\n"
          ]
        },
        {
          "output_type": "stream",
          "name": "stdout",
          "text": [
            "Trial 83, n_estimators: 48, max_depth: 10, min_samples_split: 5, min_samples_leaf: 1, ROC-AUC: 0.9877600672741849\n"
          ]
        },
        {
          "output_type": "stream",
          "name": "stderr",
          "text": [
            "[I 2024-05-13 19:43:30,765] Trial 84 finished with value: 0.9878394177931347 and parameters: {'n_estimators': 47, 'max_depth': 10, 'min_samples_split': 6, 'min_samples_leaf': 2}. Best is trial 44 with value: 0.9887328165789173.\n"
          ]
        },
        {
          "output_type": "stream",
          "name": "stdout",
          "text": [
            "Trial 84, n_estimators: 47, max_depth: 10, min_samples_split: 6, min_samples_leaf: 2, ROC-AUC: 0.9878394177931347\n"
          ]
        },
        {
          "output_type": "stream",
          "name": "stderr",
          "text": [
            "[I 2024-05-13 19:43:32,788] Trial 85 finished with value: 0.988053530572207 and parameters: {'n_estimators': 49, 'max_depth': 10, 'min_samples_split': 5, 'min_samples_leaf': 1}. Best is trial 44 with value: 0.9887328165789173.\n"
          ]
        },
        {
          "output_type": "stream",
          "name": "stdout",
          "text": [
            "Trial 85, n_estimators: 49, max_depth: 10, min_samples_split: 5, min_samples_leaf: 1, ROC-AUC: 0.988053530572207\n"
          ]
        },
        {
          "output_type": "stream",
          "name": "stderr",
          "text": [
            "[I 2024-05-13 19:43:34,312] Trial 86 finished with value: 0.9709597959305677 and parameters: {'n_estimators': 49, 'max_depth': 6, 'min_samples_split': 6, 'min_samples_leaf': 1}. Best is trial 44 with value: 0.9887328165789173.\n"
          ]
        },
        {
          "output_type": "stream",
          "name": "stdout",
          "text": [
            "Trial 86, n_estimators: 49, max_depth: 6, min_samples_split: 6, min_samples_leaf: 1, ROC-AUC: 0.9709597959305677\n"
          ]
        },
        {
          "output_type": "stream",
          "name": "stderr",
          "text": [
            "[I 2024-05-13 19:43:36,026] Trial 87 finished with value: 0.9877411564761983 and parameters: {'n_estimators': 46, 'max_depth': 10, 'min_samples_split': 5, 'min_samples_leaf': 2}. Best is trial 44 with value: 0.9887328165789173.\n"
          ]
        },
        {
          "output_type": "stream",
          "name": "stdout",
          "text": [
            "Trial 87, n_estimators: 46, max_depth: 10, min_samples_split: 5, min_samples_leaf: 2, ROC-AUC: 0.9877411564761983\n"
          ]
        },
        {
          "output_type": "stream",
          "name": "stderr",
          "text": [
            "[I 2024-05-13 19:43:37,818] Trial 88 finished with value: 0.9861344215343422 and parameters: {'n_estimators': 50, 'max_depth': 9, 'min_samples_split': 5, 'min_samples_leaf': 1}. Best is trial 44 with value: 0.9887328165789173.\n"
          ]
        },
        {
          "output_type": "stream",
          "name": "stdout",
          "text": [
            "Trial 88, n_estimators: 50, max_depth: 9, min_samples_split: 5, min_samples_leaf: 1, ROC-AUC: 0.9861344215343422\n"
          ]
        },
        {
          "output_type": "stream",
          "name": "stderr",
          "text": [
            "[I 2024-05-13 19:43:39,402] Trial 89 finished with value: 0.9860987005810935 and parameters: {'n_estimators': 44, 'max_depth': 9, 'min_samples_split': 6, 'min_samples_leaf': 2}. Best is trial 44 with value: 0.9887328165789173.\n"
          ]
        },
        {
          "output_type": "stream",
          "name": "stdout",
          "text": [
            "Trial 89, n_estimators: 44, max_depth: 9, min_samples_split: 6, min_samples_leaf: 2, ROC-AUC: 0.9860987005810935\n"
          ]
        },
        {
          "output_type": "stream",
          "name": "stderr",
          "text": [
            "[I 2024-05-13 19:43:40,611] Trial 90 finished with value: 0.9282224603495968 and parameters: {'n_estimators': 48, 'max_depth': 3, 'min_samples_split': 5, 'min_samples_leaf': 3}. Best is trial 44 with value: 0.9887328165789173.\n"
          ]
        },
        {
          "output_type": "stream",
          "name": "stdout",
          "text": [
            "Trial 90, n_estimators: 48, max_depth: 3, min_samples_split: 5, min_samples_leaf: 3, ROC-AUC: 0.9282224603495968\n"
          ]
        },
        {
          "output_type": "stream",
          "name": "stderr",
          "text": [
            "[I 2024-05-13 19:43:43,048] Trial 91 finished with value: 0.9878732779584809 and parameters: {'n_estimators': 46, 'max_depth': 10, 'min_samples_split': 5, 'min_samples_leaf': 1}. Best is trial 44 with value: 0.9887328165789173.\n"
          ]
        },
        {
          "output_type": "stream",
          "name": "stdout",
          "text": [
            "Trial 91, n_estimators: 46, max_depth: 10, min_samples_split: 5, min_samples_leaf: 1, ROC-AUC: 0.9878732779584809\n"
          ]
        },
        {
          "output_type": "stream",
          "name": "stderr",
          "text": [
            "[I 2024-05-13 19:43:45,570] Trial 92 finished with value: 0.988053479382069 and parameters: {'n_estimators': 49, 'max_depth': 10, 'min_samples_split': 4, 'min_samples_leaf': 1}. Best is trial 44 with value: 0.9887328165789173.\n"
          ]
        },
        {
          "output_type": "stream",
          "name": "stdout",
          "text": [
            "Trial 92, n_estimators: 49, max_depth: 10, min_samples_split: 4, min_samples_leaf: 1, ROC-AUC: 0.988053479382069\n"
          ]
        },
        {
          "output_type": "stream",
          "name": "stderr",
          "text": [
            "[I 2024-05-13 19:43:47,408] Trial 93 finished with value: 0.9880921680439876 and parameters: {'n_estimators': 49, 'max_depth': 10, 'min_samples_split': 5, 'min_samples_leaf': 1}. Best is trial 44 with value: 0.9887328165789173.\n"
          ]
        },
        {
          "output_type": "stream",
          "name": "stdout",
          "text": [
            "Trial 93, n_estimators: 49, max_depth: 10, min_samples_split: 5, min_samples_leaf: 1, ROC-AUC: 0.9880921680439876\n"
          ]
        },
        {
          "output_type": "stream",
          "name": "stderr",
          "text": [
            "[I 2024-05-13 19:43:49,172] Trial 94 finished with value: 0.9882019347402368 and parameters: {'n_estimators': 47, 'max_depth': 10, 'min_samples_split': 5, 'min_samples_leaf': 1}. Best is trial 44 with value: 0.9887328165789173.\n"
          ]
        },
        {
          "output_type": "stream",
          "name": "stdout",
          "text": [
            "Trial 94, n_estimators: 47, max_depth: 10, min_samples_split: 5, min_samples_leaf: 1, ROC-AUC: 0.9882019347402368\n"
          ]
        },
        {
          "output_type": "stream",
          "name": "stderr",
          "text": [
            "[I 2024-05-13 19:43:50,866] Trial 95 finished with value: 0.9879038337212596 and parameters: {'n_estimators': 44, 'max_depth': 10, 'min_samples_split': 6, 'min_samples_leaf': 1}. Best is trial 44 with value: 0.9887328165789173.\n"
          ]
        },
        {
          "output_type": "stream",
          "name": "stdout",
          "text": [
            "Trial 95, n_estimators: 44, max_depth: 10, min_samples_split: 6, min_samples_leaf: 1, ROC-AUC: 0.9879038337212596\n"
          ]
        },
        {
          "output_type": "stream",
          "name": "stderr",
          "text": [
            "[I 2024-05-13 19:43:52,626] Trial 96 finished with value: 0.9876703692229608 and parameters: {'n_estimators': 47, 'max_depth': 10, 'min_samples_split': 5, 'min_samples_leaf': 2}. Best is trial 44 with value: 0.9887328165789173.\n"
          ]
        },
        {
          "output_type": "stream",
          "name": "stdout",
          "text": [
            "Trial 96, n_estimators: 47, max_depth: 10, min_samples_split: 5, min_samples_leaf: 2, ROC-AUC: 0.9876703692229608\n"
          ]
        },
        {
          "output_type": "stream",
          "name": "stderr",
          "text": [
            "[I 2024-05-13 19:43:54,281] Trial 97 finished with value: 0.9862181229511542 and parameters: {'n_estimators': 45, 'max_depth': 9, 'min_samples_split': 5, 'min_samples_leaf': 1}. Best is trial 44 with value: 0.9887328165789173.\n"
          ]
        },
        {
          "output_type": "stream",
          "name": "stdout",
          "text": [
            "Trial 97, n_estimators: 45, max_depth: 9, min_samples_split: 5, min_samples_leaf: 1, ROC-AUC: 0.9862181229511542\n"
          ]
        },
        {
          "output_type": "stream",
          "name": "stderr",
          "text": [
            "[I 2024-05-13 19:43:56,850] Trial 98 finished with value: 0.988601485905107 and parameters: {'n_estimators': 47, 'max_depth': 10, 'min_samples_split': 5, 'min_samples_leaf': 1}. Best is trial 44 with value: 0.9887328165789173.\n"
          ]
        },
        {
          "output_type": "stream",
          "name": "stdout",
          "text": [
            "Trial 98, n_estimators: 47, max_depth: 10, min_samples_split: 5, min_samples_leaf: 1, ROC-AUC: 0.988601485905107\n"
          ]
        },
        {
          "output_type": "stream",
          "name": "stderr",
          "text": [
            "[I 2024-05-13 19:43:59,243] Trial 99 finished with value: 0.988609728308923 and parameters: {'n_estimators': 47, 'max_depth': 10, 'min_samples_split': 6, 'min_samples_leaf': 2}. Best is trial 44 with value: 0.9887328165789173.\n"
          ]
        },
        {
          "output_type": "stream",
          "name": "stdout",
          "text": [
            "Trial 99, n_estimators: 47, max_depth: 10, min_samples_split: 6, min_samples_leaf: 2, ROC-AUC: 0.988609728308923\n",
            "Best Parameters:  {'n_estimators': 39, 'max_depth': 10, 'min_samples_split': 4, 'min_samples_leaf': 1}\n",
            "Best ROC-AUC: Score:  0.9887328165789173\n"
          ]
        }
      ]
    },
    {
      "cell_type": "code",
      "source": [
        "sc = StandardScaler()\n",
        "X_train = sc.fit_transform(X_train_oversampled)\n",
        "X_test = sc.transform(X_test_transformed)\n",
        "\n",
        "# Support Vector Machine\n",
        "def objective_function(trial):\n",
        "    C = trial.suggest_float('C', 0.01, 10, log=True)\n",
        "    kernel = trial.suggest_categorical('kernel', ['linear', 'poly', 'rbf', 'sigmoid'])\n",
        "    gamma = trial.suggest_categorical('gamma', ['auto', 'scale'])\n",
        "\n",
        "    model = SVC(\n",
        "        C=C,\n",
        "        kernel=kernel,\n",
        "        gamma=gamma,\n",
        "        probability=True\n",
        "    )\n",
        "\n",
        "    # Using cross_val_score to get the average ROC-AUC score for each fold\n",
        "    scores = cross_val_score(model, X_train, y_train_oversampled, cv=5, scoring='roc_auc')\n",
        "    roc_auc = np.mean(scores)\n",
        "    # Printing intermediate results\n",
        "    print(f\"Trial {trial.number}, C: {C}, kernel: {kernel}, gamma: {gamma}, ROC-AUC: {roc_auc}\")\n",
        "    return roc_auc\n",
        "\n",
        "study_svm = optuna.create_study(direction=\"maximize\")\n",
        "study_svm.optimize(objective_function, n_trials=100)\n",
        "\n",
        "best_params_svm = study_svm.best_params\n",
        "print(\"Best Parameters: \", best_params_svm)\n",
        "print(\"Best ROC-AUC: Score: \", study_svm.best_value)\n",
        "\n",
        "# Create and save model\n",
        "best_model_svm = SVC(**best_params_svm, probability=True)\n",
        "with open('best_models_svm_8_features.pkl', 'wb') as file:\n",
        "    pickle.dump(best_model_svm, file)"
      ],
      "metadata": {
        "id": "8HBkerLUUkYq",
        "colab": {
          "base_uri": "https://localhost:8080/"
        },
        "outputId": "80191cf3-02c8-49ff-9e8e-06a12d1266ad"
      },
      "execution_count": null,
      "outputs": [
        {
          "output_type": "stream",
          "name": "stderr",
          "text": [
            "[I 2024-05-13 19:43:59,272] A new study created in memory with name: no-name-189481d1-79b2-4bf8-abed-9507f600fa3b\n",
            "[I 2024-05-13 19:44:39,453] Trial 0 finished with value: 0.7616713847086425 and parameters: {'C': 0.4393578465731463, 'kernel': 'linear', 'gamma': 'auto'}. Best is trial 0 with value: 0.7616713847086425.\n"
          ]
        },
        {
          "output_type": "stream",
          "name": "stdout",
          "text": [
            "Trial 0, C: 0.4393578465731463, kernel: linear, gamma: auto, ROC-AUC: 0.7616713847086425\n"
          ]
        },
        {
          "output_type": "stream",
          "name": "stderr",
          "text": [
            "[I 2024-05-13 19:45:41,252] Trial 1 finished with value: 0.7618333133639021 and parameters: {'C': 2.609897267396315, 'kernel': 'linear', 'gamma': 'auto'}. Best is trial 1 with value: 0.7618333133639021.\n"
          ]
        },
        {
          "output_type": "stream",
          "name": "stdout",
          "text": [
            "Trial 1, C: 2.609897267396315, kernel: linear, gamma: auto, ROC-AUC: 0.7618333133639021\n"
          ]
        },
        {
          "output_type": "stream",
          "name": "stderr",
          "text": [
            "[I 2024-05-13 19:46:45,446] Trial 2 finished with value: 0.718671779094353 and parameters: {'C': 0.014399085782224975, 'kernel': 'sigmoid', 'gamma': 'auto'}. Best is trial 1 with value: 0.7618333133639021.\n"
          ]
        },
        {
          "output_type": "stream",
          "name": "stdout",
          "text": [
            "Trial 2, C: 0.014399085782224975, kernel: sigmoid, gamma: auto, ROC-AUC: 0.718671779094353\n"
          ]
        },
        {
          "output_type": "stream",
          "name": "stderr",
          "text": [
            "[I 2024-05-13 19:47:21,347] Trial 3 finished with value: 0.8449388146973156 and parameters: {'C': 0.058634871099566006, 'kernel': 'rbf', 'gamma': 'scale'}. Best is trial 3 with value: 0.8449388146973156.\n"
          ]
        },
        {
          "output_type": "stream",
          "name": "stdout",
          "text": [
            "Trial 3, C: 0.058634871099566006, kernel: rbf, gamma: scale, ROC-AUC: 0.8449388146973156\n"
          ]
        },
        {
          "output_type": "stream",
          "name": "stderr",
          "text": [
            "[I 2024-05-13 19:48:10,015] Trial 4 finished with value: 0.7618256749509409 and parameters: {'C': 1.2115757956648143, 'kernel': 'linear', 'gamma': 'auto'}. Best is trial 3 with value: 0.8449388146973156.\n"
          ]
        },
        {
          "output_type": "stream",
          "name": "stdout",
          "text": [
            "Trial 4, C: 1.2115757956648143, kernel: linear, gamma: auto, ROC-AUC: 0.7618256749509409\n"
          ]
        },
        {
          "output_type": "stream",
          "name": "stderr",
          "text": [
            "[I 2024-05-13 19:49:58,459] Trial 5 finished with value: 0.7618386619417219 and parameters: {'C': 8.28755044143463, 'kernel': 'linear', 'gamma': 'auto'}. Best is trial 3 with value: 0.8449388146973156.\n"
          ]
        },
        {
          "output_type": "stream",
          "name": "stdout",
          "text": [
            "Trial 5, C: 8.28755044143463, kernel: linear, gamma: auto, ROC-AUC: 0.7618386619417219\n"
          ]
        },
        {
          "output_type": "stream",
          "name": "stderr",
          "text": [
            "[I 2024-05-13 19:50:33,840] Trial 6 finished with value: 0.8503856142540027 and parameters: {'C': 0.06882459983915547, 'kernel': 'rbf', 'gamma': 'scale'}. Best is trial 6 with value: 0.8503856142540027.\n"
          ]
        },
        {
          "output_type": "stream",
          "name": "stdout",
          "text": [
            "Trial 6, C: 0.06882459983915547, kernel: rbf, gamma: scale, ROC-AUC: 0.8503856142540027\n"
          ]
        },
        {
          "output_type": "stream",
          "name": "stderr",
          "text": [
            "[I 2024-05-13 19:51:17,956] Trial 7 finished with value: 0.5904980301190528 and parameters: {'C': 0.28629109613524356, 'kernel': 'sigmoid', 'gamma': 'scale'}. Best is trial 6 with value: 0.8503856142540027.\n"
          ]
        },
        {
          "output_type": "stream",
          "name": "stdout",
          "text": [
            "Trial 7, C: 0.28629109613524356, kernel: sigmoid, gamma: scale, ROC-AUC: 0.5904980301190528\n"
          ]
        },
        {
          "output_type": "stream",
          "name": "stderr",
          "text": [
            "[I 2024-05-13 19:51:51,100] Trial 8 finished with value: 0.862703941509747 and parameters: {'C': 0.09728183711148798, 'kernel': 'rbf', 'gamma': 'scale'}. Best is trial 8 with value: 0.862703941509747.\n"
          ]
        },
        {
          "output_type": "stream",
          "name": "stdout",
          "text": [
            "Trial 8, C: 0.09728183711148798, kernel: rbf, gamma: scale, ROC-AUC: 0.862703941509747\n"
          ]
        },
        {
          "output_type": "stream",
          "name": "stderr",
          "text": [
            "[I 2024-05-13 19:52:20,703] Trial 9 finished with value: 0.9086957410396256 and parameters: {'C': 0.3199256373604727, 'kernel': 'rbf', 'gamma': 'scale'}. Best is trial 9 with value: 0.9086957410396256.\n"
          ]
        },
        {
          "output_type": "stream",
          "name": "stdout",
          "text": [
            "Trial 9, C: 0.3199256373604727, kernel: rbf, gamma: scale, ROC-AUC: 0.9086957410396256\n"
          ]
        },
        {
          "output_type": "stream",
          "name": "stderr",
          "text": [
            "[I 2024-05-13 19:53:03,006] Trial 10 finished with value: 0.7820038404846906 and parameters: {'C': 0.01704597805432602, 'kernel': 'poly', 'gamma': 'scale'}. Best is trial 9 with value: 0.9086957410396256.\n"
          ]
        },
        {
          "output_type": "stream",
          "name": "stdout",
          "text": [
            "Trial 10, C: 0.01704597805432602, kernel: poly, gamma: scale, ROC-AUC: 0.7820038404846906\n"
          ]
        },
        {
          "output_type": "stream",
          "name": "stderr",
          "text": [
            "[I 2024-05-13 19:53:36,291] Trial 11 finished with value: 0.8773472630881362 and parameters: {'C': 0.1440151764931892, 'kernel': 'rbf', 'gamma': 'scale'}. Best is trial 9 with value: 0.9086957410396256.\n"
          ]
        },
        {
          "output_type": "stream",
          "name": "stdout",
          "text": [
            "Trial 11, C: 0.1440151764931892, kernel: rbf, gamma: scale, ROC-AUC: 0.8773472630881362\n"
          ]
        },
        {
          "output_type": "stream",
          "name": "stderr",
          "text": [
            "[I 2024-05-13 19:54:06,538] Trial 12 finished with value: 0.9026946383090613 and parameters: {'C': 0.2691115315485265, 'kernel': 'rbf', 'gamma': 'scale'}. Best is trial 9 with value: 0.9086957410396256.\n"
          ]
        },
        {
          "output_type": "stream",
          "name": "stdout",
          "text": [
            "Trial 12, C: 0.2691115315485265, kernel: rbf, gamma: scale, ROC-AUC: 0.9026946383090613\n"
          ]
        },
        {
          "output_type": "stream",
          "name": "stderr",
          "text": [
            "[I 2024-05-13 19:54:34,142] Trial 13 finished with value: 0.9313691592949702 and parameters: {'C': 0.7984264849038141, 'kernel': 'rbf', 'gamma': 'scale'}. Best is trial 13 with value: 0.9313691592949702.\n"
          ]
        },
        {
          "output_type": "stream",
          "name": "stdout",
          "text": [
            "Trial 13, C: 0.7984264849038141, kernel: rbf, gamma: scale, ROC-AUC: 0.9313691592949702\n"
          ]
        },
        {
          "output_type": "stream",
          "name": "stderr",
          "text": [
            "[I 2024-05-13 19:55:15,319] Trial 14 finished with value: 0.8573017728928525 and parameters: {'C': 1.2045022277198238, 'kernel': 'poly', 'gamma': 'scale'}. Best is trial 13 with value: 0.9313691592949702.\n"
          ]
        },
        {
          "output_type": "stream",
          "name": "stdout",
          "text": [
            "Trial 14, C: 1.2045022277198238, kernel: poly, gamma: scale, ROC-AUC: 0.8573017728928525\n"
          ]
        },
        {
          "output_type": "stream",
          "name": "stderr",
          "text": [
            "[I 2024-05-13 19:55:42,697] Trial 15 finished with value: 0.9319215029948025 and parameters: {'C': 0.8198664079615173, 'kernel': 'rbf', 'gamma': 'scale'}. Best is trial 15 with value: 0.9319215029948025.\n"
          ]
        },
        {
          "output_type": "stream",
          "name": "stdout",
          "text": [
            "Trial 15, C: 0.8198664079615173, kernel: rbf, gamma: scale, ROC-AUC: 0.9319215029948025\n"
          ]
        },
        {
          "output_type": "stream",
          "name": "stderr",
          "text": [
            "[I 2024-05-13 19:56:09,409] Trial 16 finished with value: 0.9413877616855686 and parameters: {'C': 1.2549287272606051, 'kernel': 'rbf', 'gamma': 'scale'}. Best is trial 16 with value: 0.9413877616855686.\n"
          ]
        },
        {
          "output_type": "stream",
          "name": "stdout",
          "text": [
            "Trial 16, C: 1.2549287272606051, kernel: rbf, gamma: scale, ROC-AUC: 0.9413877616855686\n"
          ]
        },
        {
          "output_type": "stream",
          "name": "stderr",
          "text": [
            "[I 2024-05-13 19:56:33,969] Trial 17 finished with value: 0.9531699065485505 and parameters: {'C': 3.8388580781306225, 'kernel': 'rbf', 'gamma': 'scale'}. Best is trial 17 with value: 0.9531699065485505.\n"
          ]
        },
        {
          "output_type": "stream",
          "name": "stdout",
          "text": [
            "Trial 17, C: 3.8388580781306225, kernel: rbf, gamma: scale, ROC-AUC: 0.9531699065485505\n"
          ]
        },
        {
          "output_type": "stream",
          "name": "stderr",
          "text": [
            "[I 2024-05-13 19:57:26,585] Trial 18 finished with value: 0.8713258315399898 and parameters: {'C': 5.29828661723287, 'kernel': 'poly', 'gamma': 'scale'}. Best is trial 17 with value: 0.9531699065485505.\n"
          ]
        },
        {
          "output_type": "stream",
          "name": "stdout",
          "text": [
            "Trial 18, C: 5.29828661723287, kernel: poly, gamma: scale, ROC-AUC: 0.8713258315399898\n"
          ]
        },
        {
          "output_type": "stream",
          "name": "stderr",
          "text": [
            "[I 2024-05-13 19:58:01,225] Trial 19 finished with value: 0.5659563538951347 and parameters: {'C': 2.792903398914797, 'kernel': 'sigmoid', 'gamma': 'scale'}. Best is trial 17 with value: 0.9531699065485505.\n"
          ]
        },
        {
          "output_type": "stream",
          "name": "stdout",
          "text": [
            "Trial 19, C: 2.792903398914797, kernel: sigmoid, gamma: scale, ROC-AUC: 0.5659563538951347\n"
          ]
        },
        {
          "output_type": "stream",
          "name": "stderr",
          "text": [
            "[I 2024-05-13 19:58:26,286] Trial 20 finished with value: 0.9515132036992169 and parameters: {'C': 2.9873081926627174, 'kernel': 'rbf', 'gamma': 'scale'}. Best is trial 17 with value: 0.9531699065485505.\n"
          ]
        },
        {
          "output_type": "stream",
          "name": "stdout",
          "text": [
            "Trial 20, C: 2.9873081926627174, kernel: rbf, gamma: scale, ROC-AUC: 0.9515132036992169\n"
          ]
        },
        {
          "output_type": "stream",
          "name": "stderr",
          "text": [
            "[I 2024-05-13 19:58:50,479] Trial 21 finished with value: 0.9517157029136328 and parameters: {'C': 3.1055638169872317, 'kernel': 'rbf', 'gamma': 'scale'}. Best is trial 17 with value: 0.9531699065485505.\n"
          ]
        },
        {
          "output_type": "stream",
          "name": "stdout",
          "text": [
            "Trial 21, C: 3.1055638169872317, kernel: rbf, gamma: scale, ROC-AUC: 0.9517157029136328\n"
          ]
        },
        {
          "output_type": "stream",
          "name": "stderr",
          "text": [
            "[I 2024-05-13 19:59:14,828] Trial 22 finished with value: 0.9520813978711574 and parameters: {'C': 3.32703755449906, 'kernel': 'rbf', 'gamma': 'scale'}. Best is trial 17 with value: 0.9531699065485505.\n"
          ]
        },
        {
          "output_type": "stream",
          "name": "stdout",
          "text": [
            "Trial 22, C: 3.32703755449906, kernel: rbf, gamma: scale, ROC-AUC: 0.9520813978711574\n"
          ]
        },
        {
          "output_type": "stream",
          "name": "stderr",
          "text": [
            "[I 2024-05-13 19:59:38,841] Trial 23 finished with value: 0.9600631552258502 and parameters: {'C': 8.555055007892562, 'kernel': 'rbf', 'gamma': 'scale'}. Best is trial 23 with value: 0.9600631552258502.\n"
          ]
        },
        {
          "output_type": "stream",
          "name": "stdout",
          "text": [
            "Trial 23, C: 8.555055007892562, kernel: rbf, gamma: scale, ROC-AUC: 0.9600631552258502\n"
          ]
        },
        {
          "output_type": "stream",
          "name": "stderr",
          "text": [
            "[I 2024-05-13 20:00:02,652] Trial 24 finished with value: 0.9599963172653716 and parameters: {'C': 8.478244318429903, 'kernel': 'rbf', 'gamma': 'scale'}. Best is trial 23 with value: 0.9600631552258502.\n"
          ]
        },
        {
          "output_type": "stream",
          "name": "stdout",
          "text": [
            "Trial 24, C: 8.478244318429903, kernel: rbf, gamma: scale, ROC-AUC: 0.9599963172653716\n"
          ]
        },
        {
          "output_type": "stream",
          "name": "stderr",
          "text": [
            "[I 2024-05-13 20:00:25,234] Trial 25 finished with value: 0.9611152107199283 and parameters: {'C': 9.97295648022564, 'kernel': 'rbf', 'gamma': 'scale'}. Best is trial 25 with value: 0.9611152107199283.\n"
          ]
        },
        {
          "output_type": "stream",
          "name": "stdout",
          "text": [
            "Trial 25, C: 9.97295648022564, kernel: rbf, gamma: scale, ROC-AUC: 0.9611152107199283\n"
          ]
        },
        {
          "output_type": "stream",
          "name": "stderr",
          "text": [
            "[I 2024-05-13 20:00:48,911] Trial 26 finished with value: 0.960687995771209 and parameters: {'C': 9.197986602946495, 'kernel': 'rbf', 'gamma': 'auto'}. Best is trial 25 with value: 0.9611152107199283.\n"
          ]
        },
        {
          "output_type": "stream",
          "name": "stdout",
          "text": [
            "Trial 26, C: 9.197986602946495, kernel: rbf, gamma: auto, ROC-AUC: 0.960687995771209\n"
          ]
        },
        {
          "output_type": "stream",
          "name": "stderr",
          "text": [
            "[I 2024-05-13 20:01:46,657] Trial 27 finished with value: 0.8763081069810978 and parameters: {'C': 9.80006496213401, 'kernel': 'poly', 'gamma': 'auto'}. Best is trial 25 with value: 0.9611152107199283.\n"
          ]
        },
        {
          "output_type": "stream",
          "name": "stdout",
          "text": [
            "Trial 27, C: 9.80006496213401, kernel: poly, gamma: auto, ROC-AUC: 0.8763081069810978\n"
          ]
        },
        {
          "output_type": "stream",
          "name": "stderr",
          "text": [
            "[I 2024-05-13 20:02:20,945] Trial 28 finished with value: 0.5643613911018157 and parameters: {'C': 4.861695734093556, 'kernel': 'sigmoid', 'gamma': 'auto'}. Best is trial 25 with value: 0.9611152107199283.\n"
          ]
        },
        {
          "output_type": "stream",
          "name": "stdout",
          "text": [
            "Trial 28, C: 4.861695734093556, kernel: sigmoid, gamma: auto, ROC-AUC: 0.5643613911018157\n"
          ]
        },
        {
          "output_type": "stream",
          "name": "stderr",
          "text": [
            "[I 2024-05-13 20:03:48,812] Trial 29 finished with value: 0.76183904402069 and parameters: {'C': 5.931435084916563, 'kernel': 'linear', 'gamma': 'auto'}. Best is trial 25 with value: 0.9611152107199283.\n"
          ]
        },
        {
          "output_type": "stream",
          "name": "stdout",
          "text": [
            "Trial 29, C: 5.931435084916563, kernel: linear, gamma: auto, ROC-AUC: 0.76183904402069\n"
          ]
        },
        {
          "output_type": "stream",
          "name": "stderr",
          "text": [
            "[I 2024-05-13 20:04:14,776] Trial 30 finished with value: 0.9463623939641149 and parameters: {'C': 1.796503592132184, 'kernel': 'rbf', 'gamma': 'auto'}. Best is trial 25 with value: 0.9611152107199283.\n"
          ]
        },
        {
          "output_type": "stream",
          "name": "stdout",
          "text": [
            "Trial 30, C: 1.796503592132184, kernel: rbf, gamma: auto, ROC-AUC: 0.9463623939641149\n"
          ]
        },
        {
          "output_type": "stream",
          "name": "stderr",
          "text": [
            "[I 2024-05-13 20:04:38,667] Trial 31 finished with value: 0.961227307622923 and parameters: {'C': 9.767144647005729, 'kernel': 'rbf', 'gamma': 'auto'}. Best is trial 31 with value: 0.961227307622923.\n"
          ]
        },
        {
          "output_type": "stream",
          "name": "stdout",
          "text": [
            "Trial 31, C: 9.767144647005729, kernel: rbf, gamma: auto, ROC-AUC: 0.961227307622923\n"
          ]
        },
        {
          "output_type": "stream",
          "name": "stderr",
          "text": [
            "[I 2024-05-13 20:05:02,563] Trial 32 finished with value: 0.9578189004164155 and parameters: {'C': 6.5053780024596675, 'kernel': 'rbf', 'gamma': 'auto'}. Best is trial 31 with value: 0.961227307622923.\n"
          ]
        },
        {
          "output_type": "stream",
          "name": "stdout",
          "text": [
            "Trial 32, C: 6.5053780024596675, kernel: rbf, gamma: auto, ROC-AUC: 0.9578189004164155\n"
          ]
        },
        {
          "output_type": "stream",
          "name": "stderr",
          "text": [
            "[I 2024-05-13 20:05:26,683] Trial 33 finished with value: 0.9613613545404471 and parameters: {'C': 9.936204059070974, 'kernel': 'rbf', 'gamma': 'auto'}. Best is trial 33 with value: 0.9613613545404471.\n"
          ]
        },
        {
          "output_type": "stream",
          "name": "stdout",
          "text": [
            "Trial 33, C: 9.936204059070974, kernel: rbf, gamma: auto, ROC-AUC: 0.9613613545404471\n"
          ]
        },
        {
          "output_type": "stream",
          "name": "stderr",
          "text": [
            "[I 2024-05-13 20:05:52,312] Trial 34 finished with value: 0.9484763925649038 and parameters: {'C': 2.0928744470773304, 'kernel': 'rbf', 'gamma': 'auto'}. Best is trial 33 with value: 0.9613613545404471.\n"
          ]
        },
        {
          "output_type": "stream",
          "name": "stdout",
          "text": [
            "Trial 34, C: 2.0928744470773304, kernel: rbf, gamma: auto, ROC-AUC: 0.9484763925649038\n"
          ]
        },
        {
          "output_type": "stream",
          "name": "stderr",
          "text": [
            "[I 2024-05-13 20:07:12,541] Trial 35 finished with value: 0.7618218589108605 and parameters: {'C': 4.77969243934484, 'kernel': 'linear', 'gamma': 'auto'}. Best is trial 33 with value: 0.9613613545404471.\n"
          ]
        },
        {
          "output_type": "stream",
          "name": "stdout",
          "text": [
            "Trial 35, C: 4.77969243934484, kernel: linear, gamma: auto, ROC-AUC: 0.7618218589108605\n"
          ]
        },
        {
          "output_type": "stream",
          "name": "stderr",
          "text": [
            "[I 2024-05-13 20:07:36,603] Trial 36 finished with value: 0.9579243077710682 and parameters: {'C': 6.5620561227386895, 'kernel': 'rbf', 'gamma': 'auto'}. Best is trial 33 with value: 0.9613613545404471.\n"
          ]
        },
        {
          "output_type": "stream",
          "name": "stdout",
          "text": [
            "Trial 36, C: 6.5620561227386895, kernel: rbf, gamma: auto, ROC-AUC: 0.9579243077710682\n"
          ]
        },
        {
          "output_type": "stream",
          "name": "stderr",
          "text": [
            "[I 2024-05-13 20:08:36,943] Trial 37 finished with value: 0.7160961214425123 and parameters: {'C': 0.03398489756262459, 'kernel': 'sigmoid', 'gamma': 'auto'}. Best is trial 33 with value: 0.9613613545404471.\n"
          ]
        },
        {
          "output_type": "stream",
          "name": "stdout",
          "text": [
            "Trial 37, C: 0.03398489756262459, kernel: sigmoid, gamma: auto, ROC-AUC: 0.7160961214425123\n"
          ]
        },
        {
          "output_type": "stream",
          "name": "stderr",
          "text": [
            "[I 2024-05-13 20:10:38,956] Trial 38 finished with value: 0.761853939295378 and parameters: {'C': 9.976688670165917, 'kernel': 'linear', 'gamma': 'auto'}. Best is trial 33 with value: 0.9613613545404471.\n"
          ]
        },
        {
          "output_type": "stream",
          "name": "stdout",
          "text": [
            "Trial 38, C: 9.976688670165917, kernel: linear, gamma: auto, ROC-AUC: 0.761853939295378\n"
          ]
        },
        {
          "output_type": "stream",
          "name": "stderr",
          "text": [
            "[I 2024-05-13 20:11:04,857] Trial 39 finished with value: 0.9475649046620094 and parameters: {'C': 1.954739870064684, 'kernel': 'rbf', 'gamma': 'auto'}. Best is trial 33 with value: 0.9613613545404471.\n"
          ]
        },
        {
          "output_type": "stream",
          "name": "stdout",
          "text": [
            "Trial 39, C: 1.954739870064684, kernel: rbf, gamma: auto, ROC-AUC: 0.9475649046620094\n"
          ]
        },
        {
          "output_type": "stream",
          "name": "stderr",
          "text": [
            "[I 2024-05-13 20:11:28,955] Trial 40 finished with value: 0.9582039315250317 and parameters: {'C': 6.795551689687695, 'kernel': 'rbf', 'gamma': 'auto'}. Best is trial 33 with value: 0.9613613545404471.\n"
          ]
        },
        {
          "output_type": "stream",
          "name": "stdout",
          "text": [
            "Trial 40, C: 6.795551689687695, kernel: rbf, gamma: auto, ROC-AUC: 0.9582039315250317\n"
          ]
        },
        {
          "output_type": "stream",
          "name": "stderr",
          "text": [
            "[I 2024-05-13 20:11:52,279] Trial 41 finished with value: 0.9613773965797726 and parameters: {'C': 9.964757844788775, 'kernel': 'rbf', 'gamma': 'auto'}. Best is trial 41 with value: 0.9613773965797726.\n"
          ]
        },
        {
          "output_type": "stream",
          "name": "stdout",
          "text": [
            "Trial 41, C: 9.964757844788775, kernel: rbf, gamma: auto, ROC-AUC: 0.9613773965797726\n"
          ]
        },
        {
          "output_type": "stream",
          "name": "stderr",
          "text": [
            "[I 2024-05-13 20:12:15,867] Trial 42 finished with value: 0.9542122828846817 and parameters: {'C': 4.156976474880637, 'kernel': 'rbf', 'gamma': 'auto'}. Best is trial 41 with value: 0.9613773965797726.\n"
          ]
        },
        {
          "output_type": "stream",
          "name": "stdout",
          "text": [
            "Trial 42, C: 4.156976474880637, kernel: rbf, gamma: auto, ROC-AUC: 0.9542122828846817\n"
          ]
        },
        {
          "output_type": "stream",
          "name": "stderr",
          "text": [
            "[I 2024-05-13 20:12:39,743] Trial 43 finished with value: 0.961381597337488 and parameters: {'C': 9.964156812992208, 'kernel': 'rbf', 'gamma': 'auto'}. Best is trial 43 with value: 0.961381597337488.\n"
          ]
        },
        {
          "output_type": "stream",
          "name": "stdout",
          "text": [
            "Trial 43, C: 9.964156812992208, kernel: rbf, gamma: auto, ROC-AUC: 0.961381597337488\n"
          ]
        },
        {
          "output_type": "stream",
          "name": "stderr",
          "text": [
            "[I 2024-05-13 20:13:03,779] Trial 44 finished with value: 0.9582192162669552 and parameters: {'C': 6.8099421190847735, 'kernel': 'rbf', 'gamma': 'auto'}. Best is trial 43 with value: 0.961381597337488.\n"
          ]
        },
        {
          "output_type": "stream",
          "name": "stdout",
          "text": [
            "Trial 44, C: 6.8099421190847735, kernel: rbf, gamma: auto, ROC-AUC: 0.9582192162669552\n"
          ]
        },
        {
          "output_type": "stream",
          "name": "stderr",
          "text": [
            "[I 2024-05-13 20:13:27,253] Trial 45 finished with value: 0.9544452623960031 and parameters: {'C': 4.28802199830329, 'kernel': 'rbf', 'gamma': 'auto'}. Best is trial 43 with value: 0.961381597337488.\n"
          ]
        },
        {
          "output_type": "stream",
          "name": "stdout",
          "text": [
            "Trial 45, C: 4.28802199830329, kernel: rbf, gamma: auto, ROC-AUC: 0.9544452623960031\n"
          ]
        },
        {
          "output_type": "stream",
          "name": "stderr",
          "text": [
            "[I 2024-05-13 20:13:52,251] Trial 46 finished with value: 0.9614003128741233 and parameters: {'C': 9.995424278822245, 'kernel': 'rbf', 'gamma': 'auto'}. Best is trial 46 with value: 0.9614003128741233.\n"
          ]
        },
        {
          "output_type": "stream",
          "name": "stdout",
          "text": [
            "Trial 46, C: 9.995424278822245, kernel: rbf, gamma: auto, ROC-AUC: 0.9614003128741233\n"
          ]
        },
        {
          "output_type": "stream",
          "name": "stderr",
          "text": [
            "[I 2024-05-13 20:14:45,721] Trial 47 finished with value: 0.8725324954995953 and parameters: {'C': 5.883631305279253, 'kernel': 'poly', 'gamma': 'auto'}. Best is trial 46 with value: 0.9614003128741233.\n"
          ]
        },
        {
          "output_type": "stream",
          "name": "stdout",
          "text": [
            "Trial 47, C: 5.883631305279253, kernel: poly, gamma: auto, ROC-AUC: 0.8725324954995953\n"
          ]
        },
        {
          "output_type": "stream",
          "name": "stderr",
          "text": [
            "[I 2024-05-13 20:15:20,029] Trial 48 finished with value: 0.563689065106805 and parameters: {'C': 6.991320059762168, 'kernel': 'sigmoid', 'gamma': 'auto'}. Best is trial 46 with value: 0.9614003128741233.\n"
          ]
        },
        {
          "output_type": "stream",
          "name": "stdout",
          "text": [
            "Trial 48, C: 6.991320059762168, kernel: sigmoid, gamma: auto, ROC-AUC: 0.563689065106805\n"
          ]
        },
        {
          "output_type": "stream",
          "name": "stderr",
          "text": [
            "[I 2024-05-13 20:15:48,458] Trial 49 finished with value: 0.9226500591926869 and parameters: {'C': 0.5428722865591371, 'kernel': 'rbf', 'gamma': 'auto'}. Best is trial 46 with value: 0.9614003128741233.\n"
          ]
        },
        {
          "output_type": "stream",
          "name": "stdout",
          "text": [
            "Trial 49, C: 0.5428722865591371, kernel: rbf, gamma: auto, ROC-AUC: 0.9226500591926869\n"
          ]
        },
        {
          "output_type": "stream",
          "name": "stderr",
          "text": [
            "[I 2024-05-13 20:16:17,375] Trial 50 finished with value: 0.7561860115359139 and parameters: {'C': 0.010655426024143301, 'kernel': 'linear', 'gamma': 'auto'}. Best is trial 46 with value: 0.9614003128741233.\n"
          ]
        },
        {
          "output_type": "stream",
          "name": "stdout",
          "text": [
            "Trial 50, C: 0.010655426024143301, kernel: linear, gamma: auto, ROC-AUC: 0.7561860115359139\n"
          ]
        },
        {
          "output_type": "stream",
          "name": "stderr",
          "text": [
            "[I 2024-05-13 20:16:41,089] Trial 51 finished with value: 0.9613892383891163 and parameters: {'C': 9.980804116801929, 'kernel': 'rbf', 'gamma': 'auto'}. Best is trial 46 with value: 0.9614003128741233.\n"
          ]
        },
        {
          "output_type": "stream",
          "name": "stdout",
          "text": [
            "Trial 51, C: 9.980804116801929, kernel: rbf, gamma: auto, ROC-AUC: 0.9613892383891163\n"
          ]
        },
        {
          "output_type": "stream",
          "name": "stderr",
          "text": [
            "[I 2024-05-13 20:17:03,940] Trial 52 finished with value: 0.9553751534173713 and parameters: {'C': 4.819868867265218, 'kernel': 'rbf', 'gamma': 'auto'}. Best is trial 46 with value: 0.9614003128741233.\n"
          ]
        },
        {
          "output_type": "stream",
          "name": "stdout",
          "text": [
            "Trial 52, C: 4.819868867265218, kernel: rbf, gamma: auto, ROC-AUC: 0.9553751534173713\n"
          ]
        },
        {
          "output_type": "stream",
          "name": "stderr",
          "text": [
            "[I 2024-05-13 20:17:27,923] Trial 53 finished with value: 0.9587677824512438 and parameters: {'C': 7.358152259776625, 'kernel': 'rbf', 'gamma': 'auto'}. Best is trial 46 with value: 0.9614003128741233.\n"
          ]
        },
        {
          "output_type": "stream",
          "name": "stdout",
          "text": [
            "Trial 53, C: 7.358152259776625, kernel: rbf, gamma: auto, ROC-AUC: 0.9587677824512438\n"
          ]
        },
        {
          "output_type": "stream",
          "name": "stderr",
          "text": [
            "[I 2024-05-13 20:17:54,071] Trial 54 finished with value: 0.953553483223968 and parameters: {'C': 3.8692690909673657, 'kernel': 'rbf', 'gamma': 'auto'}. Best is trial 46 with value: 0.9614003128741233.\n"
          ]
        },
        {
          "output_type": "stream",
          "name": "stdout",
          "text": [
            "Trial 54, C: 3.8692690909673657, kernel: rbf, gamma: auto, ROC-AUC: 0.953553483223968\n"
          ]
        },
        {
          "output_type": "stream",
          "name": "stderr",
          "text": [
            "[I 2024-05-13 20:18:24,800] Trial 55 finished with value: 0.894768714090646 and parameters: {'C': 0.21663265349391195, 'kernel': 'rbf', 'gamma': 'auto'}. Best is trial 46 with value: 0.9614003128741233.\n"
          ]
        },
        {
          "output_type": "stream",
          "name": "stdout",
          "text": [
            "Trial 55, C: 0.21663265349391195, kernel: rbf, gamma: auto, ROC-AUC: 0.894768714090646\n"
          ]
        },
        {
          "output_type": "stream",
          "name": "stderr",
          "text": [
            "[I 2024-05-13 20:18:50,141] Trial 56 finished with value: 0.9507507535082766 and parameters: {'C': 2.6197948915115883, 'kernel': 'rbf', 'gamma': 'auto'}. Best is trial 46 with value: 0.9614003128741233.\n"
          ]
        },
        {
          "output_type": "stream",
          "name": "stdout",
          "text": [
            "Trial 56, C: 2.6197948915115883, kernel: rbf, gamma: auto, ROC-AUC: 0.9507507535082766\n"
          ]
        },
        {
          "output_type": "stream",
          "name": "stderr",
          "text": [
            "[I 2024-05-13 20:19:14,066] Trial 57 finished with value: 0.9592673797273459 and parameters: {'C': 7.857175793977057, 'kernel': 'rbf', 'gamma': 'auto'}. Best is trial 46 with value: 0.9614003128741233.\n"
          ]
        },
        {
          "output_type": "stream",
          "name": "stdout",
          "text": [
            "Trial 57, C: 7.857175793977057, kernel: rbf, gamma: auto, ROC-AUC: 0.9592673797273459\n"
          ]
        },
        {
          "output_type": "stream",
          "name": "stderr",
          "text": [
            "[I 2024-05-13 20:20:04,850] Trial 58 finished with value: 0.8719248611734013 and parameters: {'C': 5.3542794919559755, 'kernel': 'poly', 'gamma': 'auto'}. Best is trial 46 with value: 0.9614003128741233.\n"
          ]
        },
        {
          "output_type": "stream",
          "name": "stdout",
          "text": [
            "Trial 58, C: 5.3542794919559755, kernel: poly, gamma: auto, ROC-AUC: 0.8719248611734013\n"
          ]
        },
        {
          "output_type": "stream",
          "name": "stderr",
          "text": [
            "[I 2024-05-13 20:20:28,752] Trial 59 finished with value: 0.9531683650393438 and parameters: {'C': 3.73223119354667, 'kernel': 'rbf', 'gamma': 'auto'}. Best is trial 46 with value: 0.9614003128741233.\n"
          ]
        },
        {
          "output_type": "stream",
          "name": "stdout",
          "text": [
            "Trial 59, C: 3.73223119354667, kernel: rbf, gamma: auto, ROC-AUC: 0.9531683650393438\n"
          ]
        },
        {
          "output_type": "stream",
          "name": "stderr",
          "text": [
            "[I 2024-05-13 20:21:07,726] Trial 60 finished with value: 0.8301593067702747 and parameters: {'C': 0.03585327425441214, 'kernel': 'rbf', 'gamma': 'auto'}. Best is trial 46 with value: 0.9614003128741233.\n"
          ]
        },
        {
          "output_type": "stream",
          "name": "stdout",
          "text": [
            "Trial 60, C: 0.03585327425441214, kernel: rbf, gamma: auto, ROC-AUC: 0.8301593067702747\n"
          ]
        },
        {
          "output_type": "stream",
          "name": "stderr",
          "text": [
            "[I 2024-05-13 20:21:31,504] Trial 61 finished with value: 0.9607644020656245 and parameters: {'C': 9.267844330311643, 'kernel': 'rbf', 'gamma': 'auto'}. Best is trial 46 with value: 0.9614003128741233.\n"
          ]
        },
        {
          "output_type": "stream",
          "name": "stdout",
          "text": [
            "Trial 61, C: 9.267844330311643, kernel: rbf, gamma: auto, ROC-AUC: 0.9607644020656245\n"
          ]
        },
        {
          "output_type": "stream",
          "name": "stderr",
          "text": [
            "[I 2024-05-13 20:21:56,809] Trial 62 finished with value: 0.9593452916450982 and parameters: {'C': 7.9242999053101615, 'kernel': 'rbf', 'gamma': 'auto'}. Best is trial 46 with value: 0.9614003128741233.\n"
          ]
        },
        {
          "output_type": "stream",
          "name": "stdout",
          "text": [
            "Trial 62, C: 7.9242999053101615, kernel: rbf, gamma: auto, ROC-AUC: 0.9593452916450982\n"
          ]
        },
        {
          "output_type": "stream",
          "name": "stderr",
          "text": [
            "[I 2024-05-13 20:22:19,109] Trial 63 finished with value: 0.9612689447312428 and parameters: {'C': 9.811141522112733, 'kernel': 'rbf', 'gamma': 'auto'}. Best is trial 46 with value: 0.9614003128741233.\n"
          ]
        },
        {
          "output_type": "stream",
          "name": "stdout",
          "text": [
            "Trial 63, C: 9.811141522112733, kernel: rbf, gamma: auto, ROC-AUC: 0.9612689447312428\n"
          ]
        },
        {
          "output_type": "stream",
          "name": "stderr",
          "text": [
            "[I 2024-05-13 20:22:43,188] Trial 64 finished with value: 0.9563943886447313 and parameters: {'C': 5.470373457691098, 'kernel': 'rbf', 'gamma': 'auto'}. Best is trial 46 with value: 0.9614003128741233.\n"
          ]
        },
        {
          "output_type": "stream",
          "name": "stdout",
          "text": [
            "Trial 64, C: 5.470373457691098, kernel: rbf, gamma: auto, ROC-AUC: 0.9563943886447313\n"
          ]
        },
        {
          "output_type": "stream",
          "name": "stderr",
          "text": [
            "[I 2024-05-13 20:23:07,029] Trial 65 finished with value: 0.9586948576139452 and parameters: {'C': 7.287523734247334, 'kernel': 'rbf', 'gamma': 'auto'}. Best is trial 46 with value: 0.9614003128741233.\n"
          ]
        },
        {
          "output_type": "stream",
          "name": "stdout",
          "text": [
            "Trial 65, C: 7.287523734247334, kernel: rbf, gamma: auto, ROC-AUC: 0.9586948576139452\n"
          ]
        },
        {
          "output_type": "stream",
          "name": "stderr",
          "text": [
            "[I 2024-05-13 20:23:39,946] Trial 66 finished with value: 0.5633099620272611 and parameters: {'C': 9.747637859848208, 'kernel': 'sigmoid', 'gamma': 'auto'}. Best is trial 46 with value: 0.9614003128741233.\n"
          ]
        },
        {
          "output_type": "stream",
          "name": "stdout",
          "text": [
            "Trial 66, C: 9.747637859848208, kernel: sigmoid, gamma: auto, ROC-AUC: 0.5633099620272611\n"
          ]
        },
        {
          "output_type": "stream",
          "name": "stderr",
          "text": [
            "[I 2024-05-13 20:24:04,737] Trial 67 finished with value: 0.9525654101250419 and parameters: {'C': 3.4687345502433953, 'kernel': 'rbf', 'gamma': 'auto'}. Best is trial 46 with value: 0.9614003128741233.\n"
          ]
        },
        {
          "output_type": "stream",
          "name": "stdout",
          "text": [
            "Trial 67, C: 3.4687345502433953, kernel: rbf, gamma: auto, ROC-AUC: 0.9525654101250419\n"
          ]
        },
        {
          "output_type": "stream",
          "name": "stderr",
          "text": [
            "[I 2024-05-13 20:24:28,768] Trial 68 finished with value: 0.9567562881437771 and parameters: {'C': 5.798765029674524, 'kernel': 'rbf', 'gamma': 'auto'}. Best is trial 46 with value: 0.9614003128741233.\n"
          ]
        },
        {
          "output_type": "stream",
          "name": "stdout",
          "text": [
            "Trial 68, C: 5.798765029674524, kernel: rbf, gamma: auto, ROC-AUC: 0.9567562881437771\n"
          ]
        },
        {
          "output_type": "stream",
          "name": "stderr",
          "text": [
            "[I 2024-05-13 20:25:01,580] Trial 69 finished with value: 0.8671668360057542 and parameters: {'C': 0.10957562490954294, 'kernel': 'rbf', 'gamma': 'auto'}. Best is trial 46 with value: 0.9614003128741233.\n"
          ]
        },
        {
          "output_type": "stream",
          "name": "stdout",
          "text": [
            "Trial 69, C: 0.10957562490954294, kernel: rbf, gamma: auto, ROC-AUC: 0.8671668360057542\n"
          ]
        },
        {
          "output_type": "stream",
          "name": "stderr",
          "text": [
            "[I 2024-05-13 20:25:57,136] Trial 70 finished with value: 0.874999050607647 and parameters: {'C': 7.95488372340656, 'kernel': 'poly', 'gamma': 'auto'}. Best is trial 46 with value: 0.9614003128741233.\n"
          ]
        },
        {
          "output_type": "stream",
          "name": "stdout",
          "text": [
            "Trial 70, C: 7.95488372340656, kernel: poly, gamma: auto, ROC-AUC: 0.874999050607647\n"
          ]
        },
        {
          "output_type": "stream",
          "name": "stderr",
          "text": [
            "[I 2024-05-13 20:26:20,991] Trial 71 finished with value: 0.9606026459791804 and parameters: {'C': 9.31196943277486, 'kernel': 'rbf', 'gamma': 'scale'}. Best is trial 46 with value: 0.9614003128741233.\n"
          ]
        },
        {
          "output_type": "stream",
          "name": "stdout",
          "text": [
            "Trial 71, C: 9.31196943277486, kernel: rbf, gamma: scale, ROC-AUC: 0.9606026459791804\n"
          ]
        },
        {
          "output_type": "stream",
          "name": "stderr",
          "text": [
            "[I 2024-05-13 20:26:43,599] Trial 72 finished with value: 0.9608371569727744 and parameters: {'C': 9.56988032316885, 'kernel': 'rbf', 'gamma': 'scale'}. Best is trial 46 with value: 0.9614003128741233.\n"
          ]
        },
        {
          "output_type": "stream",
          "name": "stdout",
          "text": [
            "Trial 72, C: 9.56988032316885, kernel: rbf, gamma: scale, ROC-AUC: 0.9608371569727744\n"
          ]
        },
        {
          "output_type": "stream",
          "name": "stderr",
          "text": [
            "[I 2024-05-13 20:27:07,640] Trial 73 finished with value: 0.9547909536197086 and parameters: {'C': 4.674411159654394, 'kernel': 'rbf', 'gamma': 'scale'}. Best is trial 46 with value: 0.9614003128741233.\n"
          ]
        },
        {
          "output_type": "stream",
          "name": "stdout",
          "text": [
            "Trial 73, C: 4.674411159654394, kernel: rbf, gamma: scale, ROC-AUC: 0.9547909536197086\n"
          ]
        },
        {
          "output_type": "stream",
          "name": "stderr",
          "text": [
            "[I 2024-05-13 20:27:31,699] Trial 74 finished with value: 0.9569683118902595 and parameters: {'C': 5.927598287968757, 'kernel': 'rbf', 'gamma': 'auto'}. Best is trial 46 with value: 0.9614003128741233.\n"
          ]
        },
        {
          "output_type": "stream",
          "name": "stdout",
          "text": [
            "Trial 74, C: 5.927598287968757, kernel: rbf, gamma: auto, ROC-AUC: 0.9569683118902595\n"
          ]
        },
        {
          "output_type": "stream",
          "name": "stderr",
          "text": [
            "[I 2024-05-13 20:29:30,893] Trial 75 finished with value: 0.7618493559309611 and parameters: {'C': 9.989976821406506, 'kernel': 'linear', 'gamma': 'auto'}. Best is trial 46 with value: 0.9614003128741233.\n"
          ]
        },
        {
          "output_type": "stream",
          "name": "stdout",
          "text": [
            "Trial 75, C: 9.989976821406506, kernel: linear, gamma: auto, ROC-AUC: 0.7618493559309611\n"
          ]
        },
        {
          "output_type": "stream",
          "name": "stderr",
          "text": [
            "[I 2024-05-13 20:29:55,356] Trial 76 finished with value: 0.9594507158872194 and parameters: {'C': 8.018208266519167, 'kernel': 'rbf', 'gamma': 'auto'}. Best is trial 46 with value: 0.9614003128741233.\n"
          ]
        },
        {
          "output_type": "stream",
          "name": "stdout",
          "text": [
            "Trial 76, C: 8.018208266519167, kernel: rbf, gamma: auto, ROC-AUC: 0.9594507158872194\n"
          ]
        }
      ]
    },
    {
      "cell_type": "code",
      "source": [
        "label_encoder = LabelEncoder()\n",
        "# Fit the encoder and transform the target variable\n",
        "y_train_oversampled_encoded = label_encoder.fit_transform(y_train_oversampled)\n",
        "# This suppresses printing logs\n",
        "optuna.logging.set_verbosity(optuna.logging.WARNING)\n",
        "\n",
        "def objective_function(trial):\n",
        "    n_estimators = trial.suggest_int('n_estimators', 2, 50)\n",
        "    max_depth = trial.suggest_int('max_depth', 1, 10)\n",
        "    learning_rate = trial.suggest_float('learning_rate', 0.001, 0.9, log=True)\n",
        "    min_child_weight = trial.suggest_int('min_child_weight', 1, 10)\n",
        "    subsample = trial.suggest_float('subsample', 0.5, 1.0)\n",
        "    colsample_bytree = trial.suggest_float('colsample_bytree', 0.5, 1.0)\n",
        "    gamma = trial.suggest_float('gamma', 0, 1.0)\n",
        "    reg_alpha = trial.suggest_float('reg_alpha', 0, 1)\n",
        "    reg_lambda = trial.suggest_float('reg_lambda', 0, 1)\n",
        "\n",
        "    model = XGBClassifier(\n",
        "        n_estimators=n_estimators,\n",
        "        max_depth=max_depth,\n",
        "        learning_rate=learning_rate,\n",
        "        min_child_weight=min_child_weight,\n",
        "        subsample=subsample,\n",
        "        colsample_bytree=colsample_bytree,\n",
        "        gamma=gamma,\n",
        "        reg_alpha=reg_alpha,\n",
        "        reg_lambda=reg_lambda,\n",
        "        use_label_encoder=False,\n",
        "        n_jobs=-1\n",
        "    )\n",
        "\n",
        "    # Using cross_val_score to get the average ROC-AUC score for each fold\n",
        "    scores = cross_val_score(model, X_train_oversampled, y_train_oversampled_encoded, cv=5, scoring='roc_auc')\n",
        "    roc_auc = np.mean(scores)\n",
        "    # Printing intermediate results\n",
        "    print(f\"Trial {trial.number}, n_estimators: {n_estimators}, max_depth: {max_depth}, learning_rate: {learning_rate},\"\n",
        "          f\"min_child_weight: {min_child_weight}, subsample: {subsample}, colsample_bytree: {colsample_bytree}, \"\n",
        "          f\"gamma: {gamma}, reg_alpha: {reg_alpha}, reg_lambda: {reg_lambda}, ROC-AUC: {roc_auc}\")\n",
        "    return roc_auc\n",
        "\n",
        "\n",
        "study_xgb = optuna.create_study(direction=\"maximize\")\n",
        "study_xgb.optimize(objective_function, n_trials=100)\n",
        "\n",
        "best_params_xgb = study_xgb.best_params\n",
        "print(\"Best Parameters: \", best_params_xgb)\n",
        "print(\"Best ROC-AUC Score: \", study_xgb.best_value)\n",
        "\n",
        "best_model_xgb = XGBClassifier(**best_params_xgb, use_label_encoder=False, n_jobs=-1)\n",
        "with open('best_models_xgb_8_features.pkl', 'wb') as file:\n",
        "    pickle.dump(best_model_xgb, file)"
      ],
      "metadata": {
        "id": "MoH6yVDtr5z7"
      },
      "execution_count": null,
      "outputs": []
    },
    {
      "cell_type": "code",
      "source": [
        "with open('best_models_lr_8_features.pkl', 'rb') as file:\n",
        "    best_model_lr = pickle.load(file)\n",
        "with open('best_models_dt_8_features.pkl', 'rb') as file:\n",
        "    best_model_dt = pickle.load(file)\n",
        "with open('best_models_knn_8_features.pkl', 'rb') as file:\n",
        "    best_model_knn = pickle.load(file)\n",
        "with open('best_models_rf_8_features.pkl', 'rb') as file:\n",
        "    best_model_rf = pickle.load(file)\n",
        "with open('best_models_xgb_8_features.pkl', 'rb') as file:\n",
        "    best_model_xgb = pickle.load(file)\n",
        "with open('best_models_svm_8_features.pkl', 'rb') as file:\n",
        "    best_model_svm = pickle.load(file)\n",
        "\n",
        "print(\"Testing Performances...Please wait\")\n",
        "best_model_lr.fit(X_train_oversampled, y_train_oversampled)\n",
        "predicted_probs = best_model_lr.predict_proba(X_test_transformed)[:, 1]\n",
        "lr_performance = roc_auc_score(y_test, predicted_probs)\n",
        "\n",
        "best_model_dt.fit(X_train_oversampled, y_train_oversampled)\n",
        "predicted_probs = best_model_dt.predict_proba(X_test_transformed)[:, 1]\n",
        "dt_performance = roc_auc_score(y_test, predicted_probs)\n",
        "\n",
        "best_model_knn.fit(X_train_oversampled, y_train_oversampled)\n",
        "predicted_probs = best_model_knn.predict_proba(X_test_transformed)[:, 1]\n",
        "knn_performance = roc_auc_score(y_test, predicted_probs)\n",
        "\n",
        "best_model_rf.fit(X_train_oversampled, y_train_oversampled)\n",
        "predicted_probs = best_model_rf.predict_proba(X_test_transformed)[:, 1]\n",
        "rf_performance = roc_auc_score(y_test, predicted_probs)\n",
        "\n",
        "best_model_xgb.fit(X_train_oversampled, y_train_oversampled_encoded)\n",
        "predicted_probs = best_model_xgb.predict_proba(X_test_transformed)[:, 1]\n",
        "xgb_performance = roc_auc_score(y_test, predicted_probs)\n",
        "\n",
        "best_model_svm.fit(X_train_oversampled, y_train_oversampled)\n",
        "predicted_probs = best_model_svm.predict_proba(X_test)[:, 1]\n",
        "svm_performance = roc_auc_score(y_test, predicted_probs)\n",
        "\n",
        "# Test performance of the models are\n",
        "print(f\"Logistic Regression Test ROCAUC: {lr_performance}\")\n",
        "print(f\"Decision Tree Test ROCAUC: {dt_performance}\")\n",
        "print(f\"KNN Test ROCAUC: {knn_performance}\")\n",
        "print(f\"Random Forest Test ROCAUC: {rf_performance}\")\n",
        "print(f\"XGBoost Test ROCAUC: {xgb_performance}\")\n",
        "print(f\"SVM Test ROCAUC: {svm_performance}\")"
      ],
      "metadata": {
        "id": "Og4cBUYivQZz"
      },
      "execution_count": null,
      "outputs": []
    }
  ]
}