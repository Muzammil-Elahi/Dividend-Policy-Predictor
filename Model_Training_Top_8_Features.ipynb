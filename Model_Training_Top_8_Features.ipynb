{
  "nbformat": 4,
  "nbformat_minor": 0,
  "metadata": {
    "colab": {
      "provenance": []
    },
    "kernelspec": {
      "name": "python3",
      "display_name": "Python 3"
    },
    "language_info": {
      "name": "python"
    }
  },
  "cells": [
    {
      "cell_type": "code",
      "source": [
        "! pip install optuna"
      ],
      "metadata": {
        "colab": {
          "base_uri": "https://localhost:8080/"
        },
        "id": "yVEl8pBSYbjH",
        "outputId": "d804fd05-0a1c-4ed8-86e0-3b551e97490b"
      },
      "execution_count": 2,
      "outputs": [
        {
          "output_type": "stream",
          "name": "stdout",
          "text": [
            "Collecting optuna\n",
            "  Downloading optuna-3.6.1-py3-none-any.whl (380 kB)\n",
            "\u001b[2K     \u001b[90m━━━━━━━━━━━━━━━━━━━━━━━━━━━━━━━━━━━━━━━━\u001b[0m \u001b[32m380.1/380.1 kB\u001b[0m \u001b[31m2.6 MB/s\u001b[0m eta \u001b[36m0:00:00\u001b[0m\n",
            "\u001b[?25hCollecting alembic>=1.5.0 (from optuna)\n",
            "  Downloading alembic-1.13.1-py3-none-any.whl (233 kB)\n",
            "\u001b[2K     \u001b[90m━━━━━━━━━━━━━━━━━━━━━━━━━━━━━━━━━━━━━━━━\u001b[0m \u001b[32m233.4/233.4 kB\u001b[0m \u001b[31m20.7 MB/s\u001b[0m eta \u001b[36m0:00:00\u001b[0m\n",
            "\u001b[?25hCollecting colorlog (from optuna)\n",
            "  Downloading colorlog-6.8.2-py3-none-any.whl (11 kB)\n",
            "Requirement already satisfied: numpy in /usr/local/lib/python3.10/dist-packages (from optuna) (1.25.2)\n",
            "Requirement already satisfied: packaging>=20.0 in /usr/local/lib/python3.10/dist-packages (from optuna) (24.0)\n",
            "Requirement already satisfied: sqlalchemy>=1.3.0 in /usr/local/lib/python3.10/dist-packages (from optuna) (2.0.30)\n",
            "Requirement already satisfied: tqdm in /usr/local/lib/python3.10/dist-packages (from optuna) (4.66.4)\n",
            "Requirement already satisfied: PyYAML in /usr/local/lib/python3.10/dist-packages (from optuna) (6.0.1)\n",
            "Collecting Mako (from alembic>=1.5.0->optuna)\n",
            "  Downloading Mako-1.3.3-py3-none-any.whl (78 kB)\n",
            "\u001b[2K     \u001b[90m━━━━━━━━━━━━━━━━━━━━━━━━━━━━━━━━━━━━━━━━\u001b[0m \u001b[32m78.8/78.8 kB\u001b[0m \u001b[31m8.8 MB/s\u001b[0m eta \u001b[36m0:00:00\u001b[0m\n",
            "\u001b[?25hRequirement already satisfied: typing-extensions>=4 in /usr/local/lib/python3.10/dist-packages (from alembic>=1.5.0->optuna) (4.11.0)\n",
            "Requirement already satisfied: greenlet!=0.4.17 in /usr/local/lib/python3.10/dist-packages (from sqlalchemy>=1.3.0->optuna) (3.0.3)\n",
            "Requirement already satisfied: MarkupSafe>=0.9.2 in /usr/local/lib/python3.10/dist-packages (from Mako->alembic>=1.5.0->optuna) (2.1.5)\n",
            "Installing collected packages: Mako, colorlog, alembic, optuna\n",
            "Successfully installed Mako-1.3.3 alembic-1.13.1 colorlog-6.8.2 optuna-3.6.1\n"
          ]
        }
      ]
    },
    {
      "cell_type": "code",
      "execution_count": 3,
      "metadata": {
        "id": "q3m8mSswRt7z"
      },
      "outputs": [],
      "source": [
        "import pandas as pd\n",
        "import numpy as np\n",
        "import os\n",
        "import warnings\n",
        "\n",
        "import matplotlib.pyplot as plt\n",
        "import seaborn as sns\n",
        "\n",
        "from imblearn.over_sampling import SMOTENC\n",
        "from sklearn.model_selection import train_test_split\n",
        "from sklearn.ensemble import RandomForestClassifier\n",
        "from sklearn.metrics import roc_auc_score, make_scorer, accuracy_score, precision_score, recall_score, f1_score\n",
        "from sklearn.neighbors import KNeighborsClassifier\n",
        "from sklearn.linear_model import LogisticRegression\n",
        "from sklearn.tree import DecisionTreeClassifier\n",
        "from sklearn.svm import SVC\n",
        "from sklearn.pipeline import Pipeline\n",
        "from sklearn.preprocessing import OrdinalEncoder, LabelEncoder\n",
        "from sklearn.compose import ColumnTransformer\n",
        "from sklearn.model_selection import cross_val_score, GridSearchCV\n",
        "import pickle\n",
        "import optuna\n",
        "from xgboost import XGBClassifier\n",
        "\n",
        "# Register API for Financial Modeling Prep (Financial Statements and Company Fundamentals)\n",
        "# https://site.financialmodelingprep.com/developer/\n",
        "# Register API for Federal Reserve Economic Data (For Macroeconomics Data)\n",
        "# https://fred.stlouisfed.org/docs/api/fred/\n",
        "# Yahoo Finance does not need an API\n",
        "\n",
        "warnings.filterwarnings('ignore')"
      ]
    },
    {
      "cell_type": "code",
      "source": [
        "X_test_transformed = pd.read_csv('X_test_transformed.csv')\n",
        "y_test = pd.read_csv('y_test.csv')\n",
        "X_train_oversampled = pd.read_csv('X_train_oversampled.csv')\n",
        "y_train_oversampled = pd.read_csv('y_train_oversampled.csv')\n",
        "X_validate_transformed = pd.read_csv('X_validate_transformed.csv')\n",
        "y_validate = pd.read_csv('y_validate.csv')"
      ],
      "metadata": {
        "id": "ELZ0IMoUUhXT"
      },
      "execution_count": 10,
      "outputs": []
    },
    {
      "cell_type": "code",
      "source": [
        "# testing if file read correctly\n",
        "X_train_oversampled.info()"
      ],
      "metadata": {
        "colab": {
          "base_uri": "https://localhost:8080/"
        },
        "id": "YB7W4PTEazvq",
        "outputId": "3bc15a87-b19f-4724-b010-d0165e4ef21d"
      },
      "execution_count": 9,
      "outputs": [
        {
          "output_type": "stream",
          "name": "stdout",
          "text": [
            "<class 'pandas.core.frame.DataFrame'>\n",
            "RangeIndex: 7236 entries, 0 to 7235\n",
            "Data columns (total 92 columns):\n",
            " #   Column                                                Non-Null Count  Dtype  \n",
            "---  ------                                                --------------  -----  \n",
            " 0   industry                                              7236 non-null   float64\n",
            " 1   sector                                                7236 non-null   float64\n",
            " 2   symbol                                                7236 non-null   float64\n",
            " 3   year                                                  7236 non-null   float64\n",
            " 4   adjDividend                                           7236 non-null   float64\n",
            " 5   dps_growth                                            7236 non-null   float64\n",
            " 6   dps_growth_rate                                       7236 non-null   float64\n",
            " 7   interestRate                                          7236 non-null   float64\n",
            " 8   interestRate_percentage_change                        7236 non-null   float64\n",
            " 9   currentRatio                                          7236 non-null   float64\n",
            " 10  currentRatio_percentage_change                        7236 non-null   float64\n",
            " 11  quickRatio                                            7236 non-null   float64\n",
            " 12  daysOfSalesOutstanding                                7236 non-null   float64\n",
            " 13  daysOfSalesOutstanding_percentage_change              7236 non-null   float64\n",
            " 14  daysOfInventoryOutstanding                            7236 non-null   float64\n",
            " 15  daysOfInventoryOutstanding_percentage_change          7236 non-null   float64\n",
            " 16  operatingCycle_percentage_change                      7236 non-null   float64\n",
            " 17  daysOfPayablesOutstanding                             7236 non-null   float64\n",
            " 18  grossProfitMargin                                     7236 non-null   float64\n",
            " 19  grossProfitMargin_percentage_change                   7236 non-null   float64\n",
            " 20  operatingProfitMargin                                 7236 non-null   float64\n",
            " 21  operatingProfitMargin_percentage_change               7236 non-null   float64\n",
            " 22  pretaxProfitMargin                                    7236 non-null   float64\n",
            " 23  pretaxProfitMargin_percentage_change                  7236 non-null   float64\n",
            " 24  netProfitMargin                                       7236 non-null   float64\n",
            " 25  netProfitMargin_percentage_change                     7236 non-null   float64\n",
            " 26  effectiveTaxRate                                      7236 non-null   float64\n",
            " 27  effectiveTaxRate_percentage_change                    7236 non-null   float64\n",
            " 28  returnOnAssets                                        7236 non-null   float64\n",
            " 29  returnOnAssets_percentage_change                      7236 non-null   float64\n",
            " 30  returnOnEquity                                        7236 non-null   float64\n",
            " 31  returnOnEquity_percentage_change                      7236 non-null   float64\n",
            " 32  returnOnCapitalEmployed                               7236 non-null   float64\n",
            " 33  netIncomePerEBT                                       7236 non-null   float64\n",
            " 34  netIncomePerEBT_percentage_change                     7236 non-null   float64\n",
            " 35  ebtPerEbit                                            7236 non-null   float64\n",
            " 36  ebtPerEbit_percentage_change                          7236 non-null   float64\n",
            " 37  debtRatio                                             7236 non-null   float64\n",
            " 38  debtRatio_percentage_change                           7236 non-null   float64\n",
            " 39  debtEquityRatio                                       7236 non-null   float64\n",
            " 40  debtEquityRatio_percentage_change                     7236 non-null   float64\n",
            " 41  longTermDebtToCapitalization                          7236 non-null   float64\n",
            " 42  longTermDebtToCapitalization_percentage_change        7236 non-null   float64\n",
            " 43  totalDebtToCapitalization                             7236 non-null   float64\n",
            " 44  interestCoverage                                      7236 non-null   float64\n",
            " 45  interestCoverage_percentage_change                    7236 non-null   float64\n",
            " 46  cashFlowToDebtRatio                                   7236 non-null   float64\n",
            " 47  cashFlowToDebtRatio_percentage_change                 7236 non-null   float64\n",
            " 48  companyEquityMultiplier                               7236 non-null   float64\n",
            " 49  companyEquityMultiplier_percentage_change             7236 non-null   float64\n",
            " 50  receivablesTurnover                                   7236 non-null   float64\n",
            " 51  receivablesTurnover_percentage_change                 7236 non-null   float64\n",
            " 52  payablesTurnover                                      7236 non-null   float64\n",
            " 53  payablesTurnover_percentage_change                    7236 non-null   float64\n",
            " 54  inventoryTurnover                                     7236 non-null   float64\n",
            " 55  inventoryTurnover_percentage_change                   7236 non-null   float64\n",
            " 56  fixedAssetTurnover                                    7236 non-null   float64\n",
            " 57  fixedAssetTurnover_percentage_change                  7236 non-null   float64\n",
            " 58  assetTurnover                                         7236 non-null   float64\n",
            " 59  assetTurnover_percentage_change                       7236 non-null   float64\n",
            " 60  operatingCashFlowPerShare                             7236 non-null   float64\n",
            " 61  operatingCashFlowPerShare_percentage_change           7236 non-null   float64\n",
            " 62  freeCashFlowPerShare                                  7236 non-null   float64\n",
            " 63  freeCashFlowPerShare_percentage_change                7236 non-null   float64\n",
            " 64  cashPerShare                                          7236 non-null   float64\n",
            " 65  cashPerShare_percentage_change                        7236 non-null   float64\n",
            " 66  payoutRatio                                           7236 non-null   float64\n",
            " 67  payoutRatio_percentage_change                         7236 non-null   float64\n",
            " 68  operatingCashFlowSalesRatio                           7236 non-null   float64\n",
            " 69  freeCashFlowOperatingCashFlowRatio                    7236 non-null   float64\n",
            " 70  freeCashFlowOperatingCashFlowRatio_percentage_change  7236 non-null   float64\n",
            " 71  shortTermCoverageRatios                               7236 non-null   float64\n",
            " 72  shortTermCoverageRatios_percentage_change             7236 non-null   float64\n",
            " 73  capitalExpenditureCoverageRatio                       7236 non-null   float64\n",
            " 74  capitalExpenditureCoverageRatio_percentage_change     7236 non-null   float64\n",
            " 75  dividendPaidAndCapexCoverageRatio                     7236 non-null   float64\n",
            " 76  dividendPaidAndCapexCoverageRatio_percentage_change   7236 non-null   float64\n",
            " 77  priceBookValueRatio                                   7236 non-null   float64\n",
            " 78  priceToSalesRatio                                     7236 non-null   float64\n",
            " 79  priceToSalesRatio_percentage_change                   7236 non-null   float64\n",
            " 80  priceEarningsRatio                                    7236 non-null   float64\n",
            " 81  priceEarningsRatio_percentage_change                  7236 non-null   float64\n",
            " 82  priceToFreeCashFlowsRatio                             7236 non-null   float64\n",
            " 83  priceToFreeCashFlowsRatio_percentage_change           7236 non-null   float64\n",
            " 84  priceToOperatingCashFlowsRatio                        7236 non-null   float64\n",
            " 85  priceToOperatingCashFlowsRatio_percentage_change      7236 non-null   float64\n",
            " 86  priceEarningsToGrowthRatio                            7236 non-null   float64\n",
            " 87  priceEarningsToGrowthRatio_percentage_change          7236 non-null   float64\n",
            " 88  dividendYield                                         7236 non-null   float64\n",
            " 89  dividendYield_percentage_change                       7236 non-null   float64\n",
            " 90  enterpriseValueMultiple                               7236 non-null   float64\n",
            " 91  enterpriseValueMultiple_percentage_change             7236 non-null   float64\n",
            "dtypes: float64(92)\n",
            "memory usage: 5.1 MB\n"
          ]
        }
      ]
    },
    {
      "cell_type": "code",
      "source": [
        "# using only top 8 features\n",
        "cols = ['dps_growth_rate','dps_growth','interestRate','year','dividendYield','interestRate_percentage_change','freeCashFlowPerShare','adjDividend']\n",
        "X_train_oversampled = X_train_oversampled[cols]\n",
        "X_validate_transformed = X_validate_transformed[cols]\n",
        "X_test_transformed = X_test_transformed[cols]\n",
        "X_test_transformed.info()"
      ],
      "metadata": {
        "colab": {
          "base_uri": "https://localhost:8080/"
        },
        "id": "uuBc3QEEbaVe",
        "outputId": "b574d0bb-d394-421c-ee5c-958bab7fd05e"
      },
      "execution_count": 15,
      "outputs": [
        {
          "output_type": "stream",
          "name": "stdout",
          "text": [
            "<class 'pandas.core.frame.DataFrame'>\n",
            "RangeIndex: 479 entries, 0 to 478\n",
            "Data columns (total 8 columns):\n",
            " #   Column                          Non-Null Count  Dtype  \n",
            "---  ------                          --------------  -----  \n",
            " 0   dps_growth_rate                 479 non-null    float64\n",
            " 1   dps_growth                      479 non-null    float64\n",
            " 2   interestRate                    479 non-null    float64\n",
            " 3   year                            479 non-null    float64\n",
            " 4   dividendYield                   479 non-null    float64\n",
            " 5   interestRate_percentage_change  479 non-null    float64\n",
            " 6   freeCashFlowPerShare            479 non-null    float64\n",
            " 7   adjDividend                     479 non-null    float64\n",
            "dtypes: float64(8)\n",
            "memory usage: 30.1 KB\n"
          ]
        }
      ]
    },
    {
      "cell_type": "code",
      "source": [
        "# Logistic Regression\n",
        "def objective_function(trial):\n",
        "    C = trial.suggest_float('C', 0.1, 10, log=True)\n",
        "    penalty = trial.suggest_categorical('penalty', ['l1', 'l2'])\n",
        "\n",
        "    model = LogisticRegression(\n",
        "        C=C,\n",
        "        penalty=penalty,\n",
        "        solver='liblinear',\n",
        "        n_jobs=-1\n",
        "    )\n",
        "    metrics = ['roc_auc','accuracy','precison','recall','f1-score']\n",
        "    # Using cross_val_score to get the average precision score for each fold\n",
        "    scores = cross_val_score(model, X_train_oversampled, y_train_oversampled, cv=5, scoring='roc_auc')\n",
        "    roc_auc = np.mean(scores)\n",
        "    # Printing intermediate results\n",
        "    print(f\"Trial {trial.number}, C: {C}, penalty: {penalty}, ROC-AUC: {roc_auc}\")\n",
        "    return roc_auc\n",
        "\n",
        "\n",
        "study_lr = optuna.create_study(direction=\"maximize\")\n",
        "study_lr.optimize(objective_function, n_trials=100)\n",
        "\n",
        "best_params_lr = study_lr.best_params\n",
        "print(\"Best Parameters: \", best_params_lr)\n",
        "print(\"Best ROC-AUC Score: \", study_lr.best_value)\n",
        "\n",
        "# Create and save model\n",
        "best_model_lr = LogisticRegression(**best_params_lr, solver='liblinear', n_jobs=-1)\n",
        "with open('best_models_lr_8_features.pkl', 'wb') as file:\n",
        "    pickle.dump(best_model_lr, file)"
      ],
      "metadata": {
        "colab": {
          "base_uri": "https://localhost:8080/"
        },
        "id": "PlslFrWSfaDY",
        "outputId": "fc61dea1-a3cb-4a2a-f98a-025a5db7025c"
      },
      "execution_count": 16,
      "outputs": [
        {
          "output_type": "stream",
          "name": "stderr",
          "text": [
            "[I 2024-05-11 03:06:33,488] A new study created in memory with name: no-name-fbbe8bb7-2c12-41b1-b78c-23cafa17583e\n",
            "[I 2024-05-11 03:06:33,987] Trial 0 finished with value: 0.7204457786036875 and parameters: {'C': 0.789404277723618, 'penalty': 'l2'}. Best is trial 0 with value: 0.7204457786036875.\n"
          ]
        },
        {
          "output_type": "stream",
          "name": "stdout",
          "text": [
            "Trial 0, C: 0.789404277723618, penalty: l2, ROC-AUC: 0.7204457786036875\n"
          ]
        },
        {
          "output_type": "stream",
          "name": "stderr",
          "text": [
            "[I 2024-05-11 03:06:35,772] Trial 1 finished with value: 0.7465415309494731 and parameters: {'C': 6.61404623532381, 'penalty': 'l1'}. Best is trial 1 with value: 0.7465415309494731.\n"
          ]
        },
        {
          "output_type": "stream",
          "name": "stdout",
          "text": [
            "Trial 1, C: 6.61404623532381, penalty: l1, ROC-AUC: 0.7465415309494731\n"
          ]
        },
        {
          "output_type": "stream",
          "name": "stderr",
          "text": [
            "[I 2024-05-11 03:06:36,297] Trial 2 finished with value: 0.746483488721261 and parameters: {'C': 5.793508394876492, 'penalty': 'l1'}. Best is trial 1 with value: 0.7465415309494731.\n"
          ]
        },
        {
          "output_type": "stream",
          "name": "stdout",
          "text": [
            "Trial 2, C: 5.793508394876492, penalty: l1, ROC-AUC: 0.746483488721261\n"
          ]
        },
        {
          "output_type": "stream",
          "name": "stderr",
          "text": [
            "[I 2024-05-11 03:06:36,799] Trial 3 finished with value: 0.7255724002069897 and parameters: {'C': 1.1686539230155462, 'penalty': 'l2'}. Best is trial 1 with value: 0.7465415309494731.\n"
          ]
        },
        {
          "output_type": "stream",
          "name": "stdout",
          "text": [
            "Trial 3, C: 1.1686539230155462, penalty: l2, ROC-AUC: 0.7255724002069897\n"
          ]
        },
        {
          "output_type": "stream",
          "name": "stderr",
          "text": [
            "[I 2024-05-11 03:06:37,443] Trial 4 finished with value: 0.7428354219542912 and parameters: {'C': 0.6204656365703638, 'penalty': 'l1'}. Best is trial 1 with value: 0.7465415309494731.\n"
          ]
        },
        {
          "output_type": "stream",
          "name": "stdout",
          "text": [
            "Trial 4, C: 0.6204656365703638, penalty: l1, ROC-AUC: 0.7428354219542912\n"
          ]
        },
        {
          "output_type": "stream",
          "name": "stderr",
          "text": [
            "[I 2024-05-11 03:06:39,980] Trial 5 finished with value: 0.746623657873742 and parameters: {'C': 8.309034637820485, 'penalty': 'l1'}. Best is trial 5 with value: 0.746623657873742.\n"
          ]
        },
        {
          "output_type": "stream",
          "name": "stdout",
          "text": [
            "Trial 5, C: 8.309034637820485, penalty: l1, ROC-AUC: 0.746623657873742\n"
          ]
        },
        {
          "output_type": "stream",
          "name": "stderr",
          "text": [
            "[I 2024-05-11 03:06:40,459] Trial 6 finished with value: 0.7385869381428505 and parameters: {'C': 0.3207294774717492, 'penalty': 'l1'}. Best is trial 5 with value: 0.746623657873742.\n"
          ]
        },
        {
          "output_type": "stream",
          "name": "stdout",
          "text": [
            "Trial 6, C: 0.3207294774717492, penalty: l1, ROC-AUC: 0.7385869381428505\n"
          ]
        },
        {
          "output_type": "stream",
          "name": "stderr",
          "text": [
            "[I 2024-05-11 03:06:40,993] Trial 7 finished with value: 0.7405789480061451 and parameters: {'C': 6.161875445587325, 'penalty': 'l2'}. Best is trial 5 with value: 0.746623657873742.\n"
          ]
        },
        {
          "output_type": "stream",
          "name": "stdout",
          "text": [
            "Trial 7, C: 6.161875445587325, penalty: l2, ROC-AUC: 0.7405789480061451\n"
          ]
        },
        {
          "output_type": "stream",
          "name": "stderr",
          "text": [
            "[I 2024-05-11 03:06:41,445] Trial 8 finished with value: 0.7182137592926987 and parameters: {'C': 0.6597469874800199, 'penalty': 'l2'}. Best is trial 5 with value: 0.746623657873742.\n"
          ]
        },
        {
          "output_type": "stream",
          "name": "stdout",
          "text": [
            "Trial 8, C: 0.6597469874800199, penalty: l2, ROC-AUC: 0.7182137592926987\n"
          ]
        },
        {
          "output_type": "stream",
          "name": "stderr",
          "text": [
            "[I 2024-05-11 03:06:41,913] Trial 9 finished with value: 0.7114496126711403 and parameters: {'C': 0.4119662861014622, 'penalty': 'l2'}. Best is trial 5 with value: 0.746623657873742.\n"
          ]
        },
        {
          "output_type": "stream",
          "name": "stdout",
          "text": [
            "Trial 9, C: 0.4119662861014622, penalty: l2, ROC-AUC: 0.7114496126711403\n"
          ]
        },
        {
          "output_type": "stream",
          "name": "stderr",
          "text": [
            "[I 2024-05-11 03:06:42,246] Trial 10 finished with value: 0.7247951840360398 and parameters: {'C': 0.13481533011293195, 'penalty': 'l1'}. Best is trial 5 with value: 0.746623657873742.\n"
          ]
        },
        {
          "output_type": "stream",
          "name": "stdout",
          "text": [
            "Trial 10, C: 0.13481533011293195, penalty: l1, ROC-AUC: 0.7247951840360398\n"
          ]
        },
        {
          "output_type": "stream",
          "name": "stderr",
          "text": [
            "[I 2024-05-11 03:06:44,371] Trial 11 finished with value: 0.7459472123919567 and parameters: {'C': 2.5109221524722294, 'penalty': 'l1'}. Best is trial 5 with value: 0.746623657873742.\n"
          ]
        },
        {
          "output_type": "stream",
          "name": "stdout",
          "text": [
            "Trial 11, C: 2.5109221524722294, penalty: l1, ROC-AUC: 0.7459472123919567\n"
          ]
        },
        {
          "output_type": "stream",
          "name": "stderr",
          "text": [
            "[I 2024-05-11 03:06:47,124] Trial 12 finished with value: 0.7466301489943323 and parameters: {'C': 9.04435711671053, 'penalty': 'l1'}. Best is trial 12 with value: 0.7466301489943323.\n"
          ]
        },
        {
          "output_type": "stream",
          "name": "stdout",
          "text": [
            "Trial 12, C: 9.04435711671053, penalty: l1, ROC-AUC: 0.7466301489943323\n"
          ]
        },
        {
          "output_type": "stream",
          "name": "stderr",
          "text": [
            "[I 2024-05-11 03:06:49,918] Trial 13 finished with value: 0.7466649018206928 and parameters: {'C': 9.864408031134255, 'penalty': 'l1'}. Best is trial 13 with value: 0.7466649018206928.\n"
          ]
        },
        {
          "output_type": "stream",
          "name": "stdout",
          "text": [
            "Trial 13, C: 9.864408031134255, penalty: l1, ROC-AUC: 0.7466649018206928\n"
          ]
        },
        {
          "output_type": "stream",
          "name": "stderr",
          "text": [
            "[I 2024-05-11 03:06:51,255] Trial 14 finished with value: 0.746014811343971 and parameters: {'C': 2.7247065026009536, 'penalty': 'l1'}. Best is trial 13 with value: 0.7466649018206928.\n"
          ]
        },
        {
          "output_type": "stream",
          "name": "stdout",
          "text": [
            "Trial 14, C: 2.7247065026009536, penalty: l1, ROC-AUC: 0.746014811343971\n"
          ]
        },
        {
          "output_type": "stream",
          "name": "stderr",
          "text": [
            "[I 2024-05-11 03:06:53,024] Trial 15 finished with value: 0.7459025144300249 and parameters: {'C': 2.4137982774600983, 'penalty': 'l1'}. Best is trial 13 with value: 0.7466649018206928.\n"
          ]
        },
        {
          "output_type": "stream",
          "name": "stdout",
          "text": [
            "Trial 15, C: 2.4137982774600983, penalty: l1, ROC-AUC: 0.7459025144300249\n"
          ]
        },
        {
          "output_type": "stream",
          "name": "stderr",
          "text": [
            "[I 2024-05-11 03:06:54,942] Trial 16 finished with value: 0.7462218495931999 and parameters: {'C': 3.4171816888777453, 'penalty': 'l1'}. Best is trial 13 with value: 0.7466649018206928.\n"
          ]
        },
        {
          "output_type": "stream",
          "name": "stdout",
          "text": [
            "Trial 16, C: 3.4171816888777453, penalty: l1, ROC-AUC: 0.7462218495931999\n"
          ]
        },
        {
          "output_type": "stream",
          "name": "stderr",
          "text": [
            "[I 2024-05-11 03:06:57,342] Trial 17 finished with value: 0.746664521324925 and parameters: {'C': 9.979025724416182, 'penalty': 'l1'}. Best is trial 13 with value: 0.7466649018206928.\n"
          ]
        },
        {
          "output_type": "stream",
          "name": "stdout",
          "text": [
            "Trial 17, C: 9.979025724416182, penalty: l1, ROC-AUC: 0.746664521324925\n"
          ]
        },
        {
          "output_type": "stream",
          "name": "stderr",
          "text": [
            "[I 2024-05-11 03:06:59,757] Trial 18 finished with value: 0.7454529510280732 and parameters: {'C': 1.7069308877599274, 'penalty': 'l1'}. Best is trial 13 with value: 0.7466649018206928.\n"
          ]
        },
        {
          "output_type": "stream",
          "name": "stdout",
          "text": [
            "Trial 18, C: 1.7069308877599274, penalty: l1, ROC-AUC: 0.7454529510280732\n"
          ]
        },
        {
          "output_type": "stream",
          "name": "stderr",
          "text": [
            "[I 2024-05-11 03:07:00,742] Trial 19 finished with value: 0.7463173292274832 and parameters: {'C': 4.032127938205701, 'penalty': 'l1'}. Best is trial 13 with value: 0.7466649018206928.\n"
          ]
        },
        {
          "output_type": "stream",
          "name": "stdout",
          "text": [
            "Trial 19, C: 4.032127938205701, penalty: l1, ROC-AUC: 0.7463173292274832\n"
          ]
        },
        {
          "output_type": "stream",
          "name": "stderr",
          "text": [
            "[I 2024-05-11 03:07:01,052] Trial 20 finished with value: 0.7195088650342143 and parameters: {'C': 0.11208212013451366, 'penalty': 'l1'}. Best is trial 13 with value: 0.7466649018206928.\n"
          ]
        },
        {
          "output_type": "stream",
          "name": "stdout",
          "text": [
            "Trial 20, C: 0.11208212013451366, penalty: l1, ROC-AUC: 0.7195088650342143\n"
          ]
        },
        {
          "output_type": "stream",
          "name": "stderr",
          "text": [
            "[I 2024-05-11 03:07:03,559] Trial 21 finished with value: 0.7466477198772636 and parameters: {'C': 9.184293932711327, 'penalty': 'l1'}. Best is trial 13 with value: 0.7466649018206928.\n"
          ]
        },
        {
          "output_type": "stream",
          "name": "stdout",
          "text": [
            "Trial 21, C: 9.184293932711327, penalty: l1, ROC-AUC: 0.7466477198772636\n"
          ]
        },
        {
          "output_type": "stream",
          "name": "stderr",
          "text": [
            "[I 2024-05-11 03:07:06,103] Trial 22 finished with value: 0.7466568813287635 and parameters: {'C': 9.62204498029939, 'penalty': 'l1'}. Best is trial 13 with value: 0.7466649018206928.\n"
          ]
        },
        {
          "output_type": "stream",
          "name": "stdout",
          "text": [
            "Trial 22, C: 9.62204498029939, penalty: l1, ROC-AUC: 0.7466568813287635\n"
          ]
        },
        {
          "output_type": "stream",
          "name": "stderr",
          "text": [
            "[I 2024-05-11 03:07:06,380] Trial 23 finished with value: 0.7463803558974819 and parameters: {'C': 4.491494695189336, 'penalty': 'l1'}. Best is trial 13 with value: 0.7466649018206928.\n"
          ]
        },
        {
          "output_type": "stream",
          "name": "stdout",
          "text": [
            "Trial 23, C: 4.491494695189336, penalty: l1, ROC-AUC: 0.7463803558974819\n"
          ]
        },
        {
          "output_type": "stream",
          "name": "stderr",
          "text": [
            "[I 2024-05-11 03:07:07,060] Trial 24 finished with value: 0.7464319238925716 and parameters: {'C': 5.04140783303969, 'penalty': 'l1'}. Best is trial 13 with value: 0.7466649018206928.\n"
          ]
        },
        {
          "output_type": "stream",
          "name": "stdout",
          "text": [
            "Trial 24, C: 5.04140783303969, penalty: l1, ROC-AUC: 0.7464319238925716\n"
          ]
        },
        {
          "output_type": "stream",
          "name": "stderr",
          "text": [
            "[I 2024-05-11 03:07:08,900] Trial 25 finished with value: 0.7466374037451253 and parameters: {'C': 9.482361322012068, 'penalty': 'l1'}. Best is trial 13 with value: 0.7466649018206928.\n"
          ]
        },
        {
          "output_type": "stream",
          "name": "stdout",
          "text": [
            "Trial 25, C: 9.482361322012068, penalty: l1, ROC-AUC: 0.7466374037451253\n"
          ]
        },
        {
          "output_type": "stream",
          "name": "stderr",
          "text": [
            "[I 2024-05-11 03:07:09,411] Trial 26 finished with value: 0.7304132652667039 and parameters: {'C': 1.8636220084066863, 'penalty': 'l2'}. Best is trial 13 with value: 0.7466649018206928.\n"
          ]
        },
        {
          "output_type": "stream",
          "name": "stdout",
          "text": [
            "Trial 26, C: 1.8636220084066863, penalty: l2, ROC-AUC: 0.7304132652667039\n"
          ]
        },
        {
          "output_type": "stream",
          "name": "stderr",
          "text": [
            "[I 2024-05-11 03:07:12,040] Trial 27 finished with value: 0.746229864280062 and parameters: {'C': 3.477842316059722, 'penalty': 'l1'}. Best is trial 13 with value: 0.7466649018206928.\n"
          ]
        },
        {
          "output_type": "stream",
          "name": "stdout",
          "text": [
            "Trial 27, C: 3.477842316059722, penalty: l1, ROC-AUC: 0.746229864280062\n"
          ]
        },
        {
          "output_type": "stream",
          "name": "stderr",
          "text": [
            "[I 2024-05-11 03:07:14,600] Trial 28 finished with value: 0.7465453622938215 and parameters: {'C': 6.756674363639495, 'penalty': 'l1'}. Best is trial 13 with value: 0.7466649018206928.\n"
          ]
        },
        {
          "output_type": "stream",
          "name": "stdout",
          "text": [
            "Trial 28, C: 6.756674363639495, penalty: l1, ROC-AUC: 0.7465453622938215\n"
          ]
        },
        {
          "output_type": "stream",
          "name": "stderr",
          "text": [
            "[I 2024-05-11 03:07:15,099] Trial 29 finished with value: 0.7270322321184193 and parameters: {'C': 1.3078517923274338, 'penalty': 'l2'}. Best is trial 13 with value: 0.7466649018206928.\n"
          ]
        },
        {
          "output_type": "stream",
          "name": "stdout",
          "text": [
            "Trial 29, C: 1.3078517923274338, penalty: l2, ROC-AUC: 0.7270322321184193\n"
          ]
        },
        {
          "output_type": "stream",
          "name": "stderr",
          "text": [
            "[I 2024-05-11 03:07:16,271] Trial 30 finished with value: 0.7465495609406032 and parameters: {'C': 6.939431439286071, 'penalty': 'l1'}. Best is trial 13 with value: 0.7466649018206928.\n"
          ]
        },
        {
          "output_type": "stream",
          "name": "stdout",
          "text": [
            "Trial 30, C: 6.939431439286071, penalty: l1, ROC-AUC: 0.7465495609406032\n"
          ]
        },
        {
          "output_type": "stream",
          "name": "stderr",
          "text": [
            "[I 2024-05-11 03:07:18,096] Trial 31 finished with value: 0.7466228931880724 and parameters: {'C': 8.707044502349916, 'penalty': 'l1'}. Best is trial 13 with value: 0.7466649018206928.\n"
          ]
        },
        {
          "output_type": "stream",
          "name": "stdout",
          "text": [
            "Trial 31, C: 8.707044502349916, penalty: l1, ROC-AUC: 0.7466228931880724\n"
          ]
        },
        {
          "output_type": "stream",
          "name": "stderr",
          "text": [
            "[I 2024-05-11 03:07:18,362] Trial 32 finished with value: 0.7464185463790883 and parameters: {'C': 5.038474030412647, 'penalty': 'l1'}. Best is trial 13 with value: 0.7466649018206928.\n"
          ]
        },
        {
          "output_type": "stream",
          "name": "stdout",
          "text": [
            "Trial 32, C: 5.038474030412647, penalty: l1, ROC-AUC: 0.7464185463790883\n"
          ]
        },
        {
          "output_type": "stream",
          "name": "stderr",
          "text": [
            "[I 2024-05-11 03:07:20,806] Trial 33 finished with value: 0.7466366406426559 and parameters: {'C': 9.324713704973679, 'penalty': 'l1'}. Best is trial 13 with value: 0.7466649018206928.\n"
          ]
        },
        {
          "output_type": "stream",
          "name": "stdout",
          "text": [
            "Trial 33, C: 9.324713704973679, penalty: l1, ROC-AUC: 0.7466366406426559\n"
          ]
        },
        {
          "output_type": "stream",
          "name": "stderr",
          "text": [
            "[I 2024-05-11 03:07:21,960] Trial 34 finished with value: 0.7465522349656464 and parameters: {'C': 6.773425576034735, 'penalty': 'l1'}. Best is trial 13 with value: 0.7466649018206928.\n"
          ]
        },
        {
          "output_type": "stream",
          "name": "stdout",
          "text": [
            "Trial 34, C: 6.773425576034735, penalty: l1, ROC-AUC: 0.7465522349656464\n"
          ]
        },
        {
          "output_type": "stream",
          "name": "stderr",
          "text": [
            "[I 2024-05-11 03:07:23,073] Trial 35 finished with value: 0.7464701201792453 and parameters: {'C': 5.615606193912046, 'penalty': 'l1'}. Best is trial 13 with value: 0.7466649018206928.\n"
          ]
        },
        {
          "output_type": "stream",
          "name": "stdout",
          "text": [
            "Trial 35, C: 5.615606193912046, penalty: l1, ROC-AUC: 0.7464701201792453\n"
          ]
        },
        {
          "output_type": "stream",
          "name": "stderr",
          "text": [
            "[I 2024-05-11 03:07:27,414] Trial 36 finished with value: 0.7466691052170751 and parameters: {'C': 9.95864032990645, 'penalty': 'l1'}. Best is trial 36 with value: 0.7466691052170751.\n"
          ]
        },
        {
          "output_type": "stream",
          "name": "stdout",
          "text": [
            "Trial 36, C: 9.95864032990645, penalty: l1, ROC-AUC: 0.7466691052170751\n"
          ]
        },
        {
          "output_type": "stream",
          "name": "stderr",
          "text": [
            "[I 2024-05-11 03:07:29,028] Trial 37 finished with value: 0.7465522360211133 and parameters: {'C': 6.9521684657385565, 'penalty': 'l1'}. Best is trial 36 with value: 0.7466691052170751.\n"
          ]
        },
        {
          "output_type": "stream",
          "name": "stdout",
          "text": [
            "Trial 37, C: 6.9521684657385565, penalty: l1, ROC-AUC: 0.7465522360211133\n"
          ]
        },
        {
          "output_type": "stream",
          "name": "stderr",
          "text": [
            "[I 2024-05-11 03:07:29,494] Trial 38 finished with value: 0.7027313105017295 and parameters: {'C': 0.19653251261175933, 'penalty': 'l2'}. Best is trial 36 with value: 0.7466691052170751.\n"
          ]
        },
        {
          "output_type": "stream",
          "name": "stdout",
          "text": [
            "Trial 38, C: 0.19653251261175933, penalty: l2, ROC-AUC: 0.7027313105017295\n"
          ]
        },
        {
          "output_type": "stream",
          "name": "stderr",
          "text": [
            "[I 2024-05-11 03:07:30,943] Trial 39 finished with value: 0.7462863887470693 and parameters: {'C': 3.8450611839706657, 'penalty': 'l1'}. Best is trial 36 with value: 0.7466691052170751.\n"
          ]
        },
        {
          "output_type": "stream",
          "name": "stdout",
          "text": [
            "Trial 39, C: 3.8450611839706657, penalty: l1, ROC-AUC: 0.7462863887470693\n"
          ]
        },
        {
          "output_type": "stream",
          "name": "stderr",
          "text": [
            "[I 2024-05-11 03:07:31,440] Trial 40 finished with value: 0.7384739477872413 and parameters: {'C': 5.504936874659989, 'penalty': 'l2'}. Best is trial 36 with value: 0.7466691052170751.\n"
          ]
        },
        {
          "output_type": "stream",
          "name": "stdout",
          "text": [
            "Trial 40, C: 5.504936874659989, penalty: l2, ROC-AUC: 0.7384739477872413\n"
          ]
        },
        {
          "output_type": "stream",
          "name": "stderr",
          "text": [
            "[I 2024-05-11 03:07:33,614] Trial 41 finished with value: 0.746662224101516 and parameters: {'C': 9.79595926847351, 'penalty': 'l1'}. Best is trial 36 with value: 0.7466691052170751.\n"
          ]
        },
        {
          "output_type": "stream",
          "name": "stdout",
          "text": [
            "Trial 41, C: 9.79595926847351, penalty: l1, ROC-AUC: 0.746662224101516\n"
          ]
        },
        {
          "output_type": "stream",
          "name": "stderr",
          "text": [
            "[I 2024-05-11 03:07:34,849] Trial 42 finished with value: 0.7465816450192545 and parameters: {'C': 7.419115187989143, 'penalty': 'l1'}. Best is trial 36 with value: 0.7466691052170751.\n"
          ]
        },
        {
          "output_type": "stream",
          "name": "stdout",
          "text": [
            "Trial 42, C: 7.419115187989143, penalty: l1, ROC-AUC: 0.7465816450192545\n"
          ]
        },
        {
          "output_type": "stream",
          "name": "stderr",
          "text": [
            "[I 2024-05-11 03:07:37,055] Trial 43 finished with value: 0.7466072363941152 and parameters: {'C': 7.727509072187243, 'penalty': 'l1'}. Best is trial 36 with value: 0.7466691052170751.\n"
          ]
        },
        {
          "output_type": "stream",
          "name": "stdout",
          "text": [
            "Trial 43, C: 7.727509072187243, penalty: l1, ROC-AUC: 0.7466072363941152\n"
          ]
        },
        {
          "output_type": "stream",
          "name": "stderr",
          "text": [
            "[I 2024-05-11 03:07:39,337] Trial 44 finished with value: 0.7466561134766937 and parameters: {'C': 9.936858125547918, 'penalty': 'l1'}. Best is trial 36 with value: 0.7466691052170751.\n"
          ]
        },
        {
          "output_type": "stream",
          "name": "stdout",
          "text": [
            "Trial 44, C: 9.936858125547918, penalty: l1, ROC-AUC: 0.7466561134766937\n"
          ]
        },
        {
          "output_type": "stream",
          "name": "stderr",
          "text": [
            "[I 2024-05-11 03:07:40,838] Trial 45 finished with value: 0.7443181585499372 and parameters: {'C': 0.9523563763817291, 'penalty': 'l1'}. Best is trial 36 with value: 0.7466691052170751.\n"
          ]
        },
        {
          "output_type": "stream",
          "name": "stdout",
          "text": [
            "Trial 45, C: 0.9523563763817291, penalty: l1, ROC-AUC: 0.7443181585499372\n"
          ]
        },
        {
          "output_type": "stream",
          "name": "stderr",
          "text": [
            "[I 2024-05-11 03:07:42,477] Trial 46 finished with value: 0.746518615710589 and parameters: {'C': 6.202202891347047, 'penalty': 'l1'}. Best is trial 36 with value: 0.7466691052170751.\n"
          ]
        },
        {
          "output_type": "stream",
          "name": "stdout",
          "text": [
            "Trial 46, C: 6.202202891347047, penalty: l1, ROC-AUC: 0.746518615710589\n"
          ]
        },
        {
          "output_type": "stream",
          "name": "stderr",
          "text": [
            "[I 2024-05-11 03:07:42,994] Trial 47 finished with value: 0.7403336110899665 and parameters: {'C': 0.3970981213274629, 'penalty': 'l1'}. Best is trial 36 with value: 0.7466691052170751.\n"
          ]
        },
        {
          "output_type": "stream",
          "name": "stdout",
          "text": [
            "Trial 47, C: 0.3970981213274629, penalty: l1, ROC-AUC: 0.7403336110899665\n"
          ]
        },
        {
          "output_type": "stream",
          "name": "stderr",
          "text": [
            "[I 2024-05-11 03:07:45,310] Trial 48 finished with value: 0.7461397173915972 and parameters: {'C': 3.120138383133075, 'penalty': 'l1'}. Best is trial 36 with value: 0.7466691052170751.\n"
          ]
        },
        {
          "output_type": "stream",
          "name": "stdout",
          "text": [
            "Trial 48, C: 3.120138383133075, penalty: l1, ROC-AUC: 0.7461397173915972\n"
          ]
        },
        {
          "output_type": "stream",
          "name": "stderr",
          "text": [
            "[I 2024-05-11 03:07:45,822] Trial 49 finished with value: 0.7381506197933032 and parameters: {'C': 4.399497238353883, 'penalty': 'l2'}. Best is trial 36 with value: 0.7466691052170751.\n"
          ]
        },
        {
          "output_type": "stream",
          "name": "stdout",
          "text": [
            "Trial 49, C: 4.399497238353883, penalty: l2, ROC-AUC: 0.7381506197933032\n"
          ]
        },
        {
          "output_type": "stream",
          "name": "stderr",
          "text": [
            "[I 2024-05-11 03:07:48,512] Trial 50 finished with value: 0.7466209854318989 and parameters: {'C': 8.134423463040156, 'penalty': 'l1'}. Best is trial 36 with value: 0.7466691052170751.\n"
          ]
        },
        {
          "output_type": "stream",
          "name": "stdout",
          "text": [
            "Trial 50, C: 8.134423463040156, penalty: l1, ROC-AUC: 0.7466209854318989\n"
          ]
        },
        {
          "output_type": "stream",
          "name": "stderr",
          "text": [
            "[I 2024-05-11 03:07:50,746] Trial 51 finished with value: 0.7466698683195445 and parameters: {'C': 9.801601097901553, 'penalty': 'l1'}. Best is trial 51 with value: 0.7466698683195445.\n"
          ]
        },
        {
          "output_type": "stream",
          "name": "stdout",
          "text": [
            "Trial 51, C: 9.801601097901553, penalty: l1, ROC-AUC: 0.7466698683195445\n"
          ]
        },
        {
          "output_type": "stream",
          "name": "stderr",
          "text": [
            "[I 2024-05-11 03:07:54,234] Trial 52 finished with value: 0.7466175514707867 and parameters: {'C': 7.9341764891400475, 'penalty': 'l1'}. Best is trial 51 with value: 0.7466698683195445.\n"
          ]
        },
        {
          "output_type": "stream",
          "name": "stdout",
          "text": [
            "Trial 52, C: 7.9341764891400475, penalty: l1, ROC-AUC: 0.7466175514707867\n"
          ]
        },
        {
          "output_type": "stream",
          "name": "stderr",
          "text": [
            "[I 2024-05-11 03:07:55,532] Trial 53 finished with value: 0.7466580254547341 and parameters: {'C': 9.979073905845594, 'penalty': 'l1'}. Best is trial 51 with value: 0.7466698683195445.\n"
          ]
        },
        {
          "output_type": "stream",
          "name": "stdout",
          "text": [
            "Trial 53, C: 9.979073905845594, penalty: l1, ROC-AUC: 0.7466580254547341\n"
          ]
        },
        {
          "output_type": "stream",
          "name": "stderr",
          "text": [
            "[I 2024-05-11 03:07:56,166] Trial 54 finished with value: 0.7465163348469148 and parameters: {'C': 6.215462549432837, 'penalty': 'l1'}. Best is trial 51 with value: 0.7466698683195445.\n"
          ]
        },
        {
          "output_type": "stream",
          "name": "stdout",
          "text": [
            "Trial 54, C: 6.215462549432837, penalty: l1, ROC-AUC: 0.7465163348469148\n"
          ]
        },
        {
          "output_type": "stream",
          "name": "stderr",
          "text": [
            "[I 2024-05-11 03:07:56,842] Trial 55 finished with value: 0.7465931121378973 and parameters: {'C': 7.935982596548994, 'penalty': 'l1'}. Best is trial 51 with value: 0.7466698683195445.\n"
          ]
        },
        {
          "output_type": "stream",
          "name": "stdout",
          "text": [
            "Trial 55, C: 7.935982596548994, penalty: l1, ROC-AUC: 0.7465931121378973\n"
          ]
        },
        {
          "output_type": "stream",
          "name": "stderr",
          "text": [
            "[I 2024-05-11 03:07:59,524] Trial 56 finished with value: 0.7466649065702933 and parameters: {'C': 9.95598845788377, 'penalty': 'l1'}. Best is trial 51 with value: 0.7466698683195445.\n"
          ]
        },
        {
          "output_type": "stream",
          "name": "stdout",
          "text": [
            "Trial 56, C: 9.95598845788377, penalty: l1, ROC-AUC: 0.7466649065702933\n"
          ]
        },
        {
          "output_type": "stream",
          "name": "stderr",
          "text": [
            "[I 2024-05-11 03:08:00,246] Trial 57 finished with value: 0.7464147224230071 and parameters: {'C': 4.960167718335652, 'penalty': 'l1'}. Best is trial 51 with value: 0.7466698683195445.\n"
          ]
        },
        {
          "output_type": "stream",
          "name": "stdout",
          "text": [
            "Trial 57, C: 4.960167718335652, penalty: l1, ROC-AUC: 0.7464147224230071\n"
          ]
        },
        {
          "output_type": "stream",
          "name": "stderr",
          "text": [
            "[I 2024-05-11 03:08:02,223] Trial 58 finished with value: 0.7465002906966559 and parameters: {'C': 5.926574689055135, 'penalty': 'l1'}. Best is trial 51 with value: 0.7466698683195445.\n"
          ]
        },
        {
          "output_type": "stream",
          "name": "stdout",
          "text": [
            "Trial 58, C: 5.926574689055135, penalty: l1, ROC-AUC: 0.7465002906966559\n"
          ]
        },
        {
          "output_type": "stream",
          "name": "stderr",
          "text": [
            "[I 2024-05-11 03:08:04,818] Trial 59 finished with value: 0.7466156368540791 and parameters: {'C': 8.115757023342418, 'penalty': 'l1'}. Best is trial 51 with value: 0.7466698683195445.\n"
          ]
        },
        {
          "output_type": "stream",
          "name": "stdout",
          "text": [
            "Trial 59, C: 8.115757023342418, penalty: l1, ROC-AUC: 0.7466156368540791\n"
          ]
        },
        {
          "output_type": "stream",
          "name": "stderr",
          "text": [
            "[I 2024-05-11 03:08:05,398] Trial 60 finished with value: 0.7353467881703116 and parameters: {'C': 0.2390875029444315, 'penalty': 'l1'}. Best is trial 51 with value: 0.7466698683195445.\n"
          ]
        },
        {
          "output_type": "stream",
          "name": "stdout",
          "text": [
            "Trial 60, C: 0.2390875029444315, penalty: l1, ROC-AUC: 0.7353467881703116\n"
          ]
        },
        {
          "output_type": "stream",
          "name": "stderr",
          "text": [
            "[I 2024-05-11 03:08:07,238] Trial 61 finished with value: 0.7466660475298637 and parameters: {'C': 9.964064508471813, 'penalty': 'l1'}. Best is trial 51 with value: 0.7466698683195445.\n"
          ]
        },
        {
          "output_type": "stream",
          "name": "stdout",
          "text": [
            "Trial 61, C: 9.964064508471813, penalty: l1, ROC-AUC: 0.7466660475298637\n"
          ]
        },
        {
          "output_type": "stream",
          "name": "stderr",
          "text": [
            "[I 2024-05-11 03:08:09,640] Trial 62 finished with value: 0.7466190708151915 and parameters: {'C': 8.515519924332539, 'penalty': 'l1'}. Best is trial 51 with value: 0.7466698683195445.\n"
          ]
        },
        {
          "output_type": "stream",
          "name": "stdout",
          "text": [
            "Trial 62, C: 8.515519924332539, penalty: l1, ROC-AUC: 0.7466190708151915\n"
          ]
        },
        {
          "output_type": "stream",
          "name": "stderr",
          "text": [
            "[I 2024-05-11 03:08:11,242] Trial 63 finished with value: 0.7465705705342472 and parameters: {'C': 7.110331732675268, 'penalty': 'l1'}. Best is trial 51 with value: 0.7466698683195445.\n"
          ]
        },
        {
          "output_type": "stream",
          "name": "stdout",
          "text": [
            "Trial 63, C: 7.110331732675268, penalty: l1, ROC-AUC: 0.7465705705342472\n"
          ]
        },
        {
          "output_type": "stream",
          "name": "stderr",
          "text": [
            "[I 2024-05-11 03:08:13,855] Trial 64 finished with value: 0.7464876937008434 and parameters: {'C': 5.618487362439432, 'penalty': 'l1'}. Best is trial 51 with value: 0.7466698683195445.\n"
          ]
        },
        {
          "output_type": "stream",
          "name": "stdout",
          "text": [
            "Trial 64, C: 5.618487362439432, penalty: l1, ROC-AUC: 0.7464876937008434\n"
          ]
        },
        {
          "output_type": "stream",
          "name": "stderr",
          "text": [
            "[I 2024-05-11 03:08:16,811] Trial 65 finished with value: 0.7466519164131118 and parameters: {'C': 9.53169564364605, 'penalty': 'l1'}. Best is trial 51 with value: 0.7466698683195445.\n"
          ]
        },
        {
          "output_type": "stream",
          "name": "stdout",
          "text": [
            "Trial 65, C: 9.53169564364605, penalty: l1, ROC-AUC: 0.7466519164131118\n"
          ]
        },
        {
          "output_type": "stream",
          "name": "stderr",
          "text": [
            "[I 2024-05-11 03:08:17,370] Trial 66 finished with value: 0.7386079313767597 and parameters: {'C': 4.640576853632823, 'penalty': 'l2'}. Best is trial 51 with value: 0.7466698683195445.\n"
          ]
        },
        {
          "output_type": "stream",
          "name": "stdout",
          "text": [
            "Trial 66, C: 4.640576853632823, penalty: l2, ROC-AUC: 0.7386079313767597\n"
          ]
        },
        {
          "output_type": "stream",
          "name": "stderr",
          "text": [
            "[I 2024-05-11 03:08:18,254] Trial 67 finished with value: 0.743487038635952 and parameters: {'C': 0.7298761663391578, 'penalty': 'l1'}. Best is trial 51 with value: 0.7466698683195445.\n"
          ]
        },
        {
          "output_type": "stream",
          "name": "stdout",
          "text": [
            "Trial 67, C: 0.7298761663391578, penalty: l1, ROC-AUC: 0.743487038635952\n"
          ]
        },
        {
          "output_type": "stream",
          "name": "stderr",
          "text": [
            "[I 2024-05-11 03:08:21,590] Trial 68 finished with value: 0.7466553503742243 and parameters: {'C': 9.912873247174215, 'penalty': 'l1'}. Best is trial 51 with value: 0.7466698683195445.\n"
          ]
        },
        {
          "output_type": "stream",
          "name": "stdout",
          "text": [
            "Trial 68, C: 9.912873247174215, penalty: l1, ROC-AUC: 0.7466553503742243\n"
          ]
        },
        {
          "output_type": "stream",
          "name": "stderr",
          "text": [
            "[I 2024-05-11 03:08:23,426] Trial 69 finished with value: 0.7465468884987602 and parameters: {'C': 6.595619770554099, 'penalty': 'l1'}. Best is trial 51 with value: 0.7466698683195445.\n"
          ]
        },
        {
          "output_type": "stream",
          "name": "stdout",
          "text": [
            "Trial 69, C: 6.595619770554099, penalty: l1, ROC-AUC: 0.7465468884987602\n"
          ]
        },
        {
          "output_type": "stream",
          "name": "stderr",
          "text": [
            "[I 2024-05-11 03:08:25,393] Trial 70 finished with value: 0.746625949819817 and parameters: {'C': 8.563653862772348, 'penalty': 'l1'}. Best is trial 51 with value: 0.7466698683195445.\n"
          ]
        },
        {
          "output_type": "stream",
          "name": "stdout",
          "text": [
            "Trial 70, C: 8.563653862772348, penalty: l1, ROC-AUC: 0.746625949819817\n"
          ]
        },
        {
          "output_type": "stream",
          "name": "stderr",
          "text": [
            "[I 2024-05-11 03:08:27,594] Trial 71 finished with value: 0.7466610799755452 and parameters: {'C': 9.680798785324207, 'penalty': 'l1'}. Best is trial 51 with value: 0.7466698683195445.\n"
          ]
        },
        {
          "output_type": "stream",
          "name": "stdout",
          "text": [
            "Trial 71, C: 9.680798785324207, penalty: l1, ROC-AUC: 0.7466610799755452\n"
          ]
        },
        {
          "output_type": "stream",
          "name": "stderr",
          "text": [
            "[I 2024-05-11 03:08:30,205] Trial 72 finished with value: 0.7465892908204831 and parameters: {'C': 7.349084536777397, 'penalty': 'l1'}. Best is trial 51 with value: 0.7466698683195445.\n"
          ]
        },
        {
          "output_type": "stream",
          "name": "stdout",
          "text": [
            "Trial 72, C: 7.349084536777397, penalty: l1, ROC-AUC: 0.7465892908204831\n"
          ]
        },
        {
          "output_type": "stream",
          "name": "stderr",
          "text": [
            "[I 2024-05-11 03:08:31,101] Trial 73 finished with value: 0.7423919892310303 and parameters: {'C': 0.5628816938459812, 'penalty': 'l1'}. Best is trial 51 with value: 0.7466698683195445.\n"
          ]
        },
        {
          "output_type": "stream",
          "name": "stdout",
          "text": [
            "Trial 73, C: 0.5628816938459812, penalty: l1, ROC-AUC: 0.7423919892310303\n"
          ]
        },
        {
          "output_type": "stream",
          "name": "stderr",
          "text": [
            "[I 2024-05-11 03:08:33,878] Trial 74 finished with value: 0.7466309147354686 and parameters: {'C': 8.75107236525466, 'penalty': 'l1'}. Best is trial 51 with value: 0.7466698683195445.\n"
          ]
        },
        {
          "output_type": "stream",
          "name": "stdout",
          "text": [
            "Trial 74, C: 8.75107236525466, penalty: l1, ROC-AUC: 0.7466309147354686\n"
          ]
        },
        {
          "output_type": "stream",
          "name": "stderr",
          "text": [
            "[I 2024-05-11 03:08:36,198] Trial 75 finished with value: 0.7465789725774113 and parameters: {'C': 7.324563832075172, 'penalty': 'l1'}. Best is trial 51 with value: 0.7466698683195445.\n"
          ]
        },
        {
          "output_type": "stream",
          "name": "stdout",
          "text": [
            "Trial 75, C: 7.324563832075172, penalty: l1, ROC-AUC: 0.7465789725774113\n"
          ]
        },
        {
          "output_type": "stream",
          "name": "stderr",
          "text": [
            "[I 2024-05-11 03:08:39,127] Trial 76 finished with value: 0.7466721592101528 and parameters: {'C': 9.923593637499346, 'penalty': 'l1'}. Best is trial 76 with value: 0.7466721592101528.\n"
          ]
        },
        {
          "output_type": "stream",
          "name": "stdout",
          "text": [
            "Trial 76, C: 9.923593637499346, penalty: l1, ROC-AUC: 0.7466721592101528\n"
          ]
        },
        {
          "output_type": "stream",
          "name": "stderr",
          "text": [
            "[I 2024-05-11 03:08:39,643] Trial 77 finished with value: 0.7400508679039861 and parameters: {'C': 5.391158096336583, 'penalty': 'l2'}. Best is trial 76 with value: 0.7466721592101528.\n"
          ]
        },
        {
          "output_type": "stream",
          "name": "stdout",
          "text": [
            "Trial 77, C: 5.391158096336583, penalty: l2, ROC-AUC: 0.7400508679039861\n"
          ]
        },
        {
          "output_type": "stream",
          "name": "stderr",
          "text": [
            "[I 2024-05-11 03:08:41,948] Trial 78 finished with value: 0.7456939594750582 and parameters: {'C': 2.021627588343746, 'penalty': 'l1'}. Best is trial 76 with value: 0.7466721592101528.\n"
          ]
        },
        {
          "output_type": "stream",
          "name": "stdout",
          "text": [
            "Trial 78, C: 2.021627588343746, penalty: l1, ROC-AUC: 0.7456939594750582\n"
          ]
        },
        {
          "output_type": "stream",
          "name": "stderr",
          "text": [
            "[I 2024-05-11 03:08:45,160] Trial 79 finished with value: 0.7465304633249998 and parameters: {'C': 6.318544239782328, 'penalty': 'l1'}. Best is trial 76 with value: 0.7466721592101528.\n"
          ]
        },
        {
          "output_type": "stream",
          "name": "stdout",
          "text": [
            "Trial 79, C: 6.318544239782328, penalty: l1, ROC-AUC: 0.7465304633249998\n"
          ]
        },
        {
          "output_type": "stream",
          "name": "stderr",
          "text": [
            "[I 2024-05-11 03:08:45,977] Trial 80 finished with value: 0.7466259498198171 and parameters: {'C': 8.765081773396034, 'penalty': 'l1'}. Best is trial 76 with value: 0.7466721592101528.\n"
          ]
        },
        {
          "output_type": "stream",
          "name": "stdout",
          "text": [
            "Trial 80, C: 8.765081773396034, penalty: l1, ROC-AUC: 0.7466259498198171\n"
          ]
        },
        {
          "output_type": "stream",
          "name": "stderr",
          "text": [
            "[I 2024-05-11 03:08:49,555] Trial 81 finished with value: 0.7466717781866515 and parameters: {'C': 9.978402491197821, 'penalty': 'l1'}. Best is trial 76 with value: 0.7466721592101528.\n"
          ]
        },
        {
          "output_type": "stream",
          "name": "stdout",
          "text": [
            "Trial 81, C: 9.978402491197821, penalty: l1, ROC-AUC: 0.7466717781866515\n"
          ]
        },
        {
          "output_type": "stream",
          "name": "stderr",
          "text": [
            "[I 2024-05-11 03:08:51,544] Trial 82 finished with value: 0.7466007394684576 and parameters: {'C': 7.784773465302395, 'penalty': 'l1'}. Best is trial 76 with value: 0.7466721592101528.\n"
          ]
        },
        {
          "output_type": "stream",
          "name": "stdout",
          "text": [
            "Trial 82, C: 7.784773465302395, penalty: l1, ROC-AUC: 0.7466007394684576\n"
          ]
        },
        {
          "output_type": "stream",
          "name": "stderr",
          "text": [
            "[I 2024-05-11 03:08:54,175] Trial 83 finished with value: 0.7466313005085704 and parameters: {'C': 8.793420998641917, 'penalty': 'l1'}. Best is trial 76 with value: 0.7466721592101528.\n"
          ]
        },
        {
          "output_type": "stream",
          "name": "stdout",
          "text": [
            "Trial 83, C: 8.793420998641917, penalty: l1, ROC-AUC: 0.7466313005085704\n"
          ]
        },
        {
          "output_type": "stream",
          "name": "stderr",
          "text": [
            "[I 2024-05-11 03:08:56,553] Trial 84 finished with value: 0.7466553519574244 and parameters: {'C': 9.980469934186887, 'penalty': 'l1'}. Best is trial 76 with value: 0.7466721592101528.\n"
          ]
        },
        {
          "output_type": "stream",
          "name": "stdout",
          "text": [
            "Trial 84, C: 9.980469934186887, penalty: l1, ROC-AUC: 0.7466553519574244\n"
          ]
        },
        {
          "output_type": "stream",
          "name": "stderr",
          "text": [
            "[I 2024-05-11 03:08:58,589] Trial 85 finished with value: 0.7465579666779011 and parameters: {'C': 6.791173927156956, 'penalty': 'l1'}. Best is trial 76 with value: 0.7466721592101528.\n"
          ]
        },
        {
          "output_type": "stream",
          "name": "stdout",
          "text": [
            "Trial 85, C: 6.791173927156956, penalty: l1, ROC-AUC: 0.7465579666779011\n"
          ]
        },
        {
          "output_type": "stream",
          "name": "stderr",
          "text": [
            "[I 2024-05-11 03:09:01,539] Trial 86 finished with value: 0.7465953935293048 and parameters: {'C': 7.612408929075586, 'penalty': 'l1'}. Best is trial 76 with value: 0.7466721592101528.\n"
          ]
        },
        {
          "output_type": "stream",
          "name": "stdout",
          "text": [
            "Trial 86, C: 7.612408929075586, penalty: l1, ROC-AUC: 0.7465953935293048\n"
          ]
        },
        {
          "output_type": "stream",
          "name": "stderr",
          "text": [
            "[I 2024-05-11 03:09:04,730] Trial 87 finished with value: 0.7466358928444546 and parameters: {'C': 8.791020571990261, 'penalty': 'l1'}. Best is trial 76 with value: 0.7466721592101528.\n"
          ]
        },
        {
          "output_type": "stream",
          "name": "stdout",
          "text": [
            "Trial 87, C: 8.791020571990261, penalty: l1, ROC-AUC: 0.7466358928444546\n"
          ]
        },
        {
          "output_type": "stream",
          "name": "stderr",
          "text": [
            "[I 2024-05-11 03:09:06,013] Trial 88 finished with value: 0.7465037278241684 and parameters: {'C': 6.004009717387543, 'penalty': 'l1'}. Best is trial 76 with value: 0.7466721592101528.\n"
          ]
        },
        {
          "output_type": "stream",
          "name": "stdout",
          "text": [
            "Trial 88, C: 6.004009717387543, penalty: l1, ROC-AUC: 0.7465037278241684\n"
          ]
        },
        {
          "output_type": "stream",
          "name": "stderr",
          "text": [
            "[I 2024-05-11 03:09:06,531] Trial 89 finished with value: 0.7378197895416163 and parameters: {'C': 4.215877691358116, 'penalty': 'l2'}. Best is trial 76 with value: 0.7466721592101528.\n"
          ]
        },
        {
          "output_type": "stream",
          "name": "stdout",
          "text": [
            "Trial 89, C: 4.215877691358116, penalty: l2, ROC-AUC: 0.7378197895416163\n"
          ]
        },
        {
          "output_type": "stream",
          "name": "stderr",
          "text": [
            "[I 2024-05-11 03:09:07,813] Trial 90 finished with value: 0.7450874159737633 and parameters: {'C': 1.3441775872959927, 'penalty': 'l1'}. Best is trial 76 with value: 0.7466721592101528.\n"
          ]
        },
        {
          "output_type": "stream",
          "name": "stdout",
          "text": [
            "Trial 90, C: 1.3441775872959927, penalty: l1, ROC-AUC: 0.7450874159737633\n"
          ]
        },
        {
          "output_type": "stream",
          "name": "stderr",
          "text": [
            "[I 2024-05-11 03:09:10,080] Trial 91 finished with value: 0.7466599347941079 and parameters: {'C': 9.875114516801837, 'penalty': 'l1'}. Best is trial 76 with value: 0.7466721592101528.\n"
          ]
        },
        {
          "output_type": "stream",
          "name": "stdout",
          "text": [
            "Trial 91, C: 9.875114516801837, penalty: l1, ROC-AUC: 0.7466599347941079\n"
          ]
        },
        {
          "output_type": "stream",
          "name": "stderr",
          "text": [
            "[I 2024-05-11 03:09:11,831] Trial 92 finished with value: 0.7466381721249287 and parameters: {'C': 8.972613390366254, 'penalty': 'l1'}. Best is trial 76 with value: 0.7466721592101528.\n"
          ]
        },
        {
          "output_type": "stream",
          "name": "stdout",
          "text": [
            "Trial 92, C: 8.972613390366254, penalty: l1, ROC-AUC: 0.7466381721249287\n"
          ]
        },
        {
          "output_type": "stream",
          "name": "stderr",
          "text": [
            "[I 2024-05-11 03:09:14,097] Trial 93 finished with value: 0.7465995963979538 and parameters: {'C': 8.037745383967186, 'penalty': 'l1'}. Best is trial 76 with value: 0.7466721592101528.\n"
          ]
        },
        {
          "output_type": "stream",
          "name": "stdout",
          "text": [
            "Trial 93, C: 8.037745383967186, penalty: l1, ROC-AUC: 0.7465995963979538\n"
          ]
        },
        {
          "output_type": "stream",
          "name": "stderr",
          "text": [
            "[I 2024-05-11 03:09:15,705] Trial 94 finished with value: 0.7465644636035585 and parameters: {'C': 7.0472618627406485, 'penalty': 'l1'}. Best is trial 76 with value: 0.7466721592101528.\n"
          ]
        },
        {
          "output_type": "stream",
          "name": "stdout",
          "text": [
            "Trial 94, C: 7.0472618627406485, penalty: l1, ROC-AUC: 0.7465644636035585\n"
          ]
        },
        {
          "output_type": "stream",
          "name": "stderr",
          "text": [
            "[I 2024-05-11 03:09:18,465] Trial 95 finished with value: 0.7466687241935739 and parameters: {'C': 9.980226399150729, 'penalty': 'l1'}. Best is trial 76 with value: 0.7466721592101528.\n"
          ]
        },
        {
          "output_type": "stream",
          "name": "stdout",
          "text": [
            "Trial 95, C: 9.980226399150729, penalty: l1, ROC-AUC: 0.7466687241935739\n"
          ]
        },
        {
          "output_type": "stream",
          "name": "stderr",
          "text": [
            "[I 2024-05-11 03:09:21,128] Trial 96 finished with value: 0.7466209843764321 and parameters: {'C': 8.320485959762067, 'penalty': 'l1'}. Best is trial 76 with value: 0.7466721592101528.\n"
          ]
        },
        {
          "output_type": "stream",
          "name": "stdout",
          "text": [
            "Trial 96, C: 8.320485959762067, penalty: l1, ROC-AUC: 0.7466209843764321\n"
          ]
        },
        {
          "output_type": "stream",
          "name": "stderr",
          "text": [
            "[I 2024-05-11 03:09:22,834] Trial 97 finished with value: 0.7465522275773793 and parameters: {'C': 6.594769192617902, 'penalty': 'l1'}. Best is trial 76 with value: 0.7466721592101528.\n"
          ]
        },
        {
          "output_type": "stream",
          "name": "stdout",
          "text": [
            "Trial 97, C: 6.594769192617902, penalty: l1, ROC-AUC: 0.7465522275773793\n"
          ]
        },
        {
          "output_type": "stream",
          "name": "stderr",
          "text": [
            "[I 2024-05-11 03:09:24,938] Trial 98 finished with value: 0.7465969218451771 and parameters: {'C': 7.5908446548909945, 'penalty': 'l1'}. Best is trial 76 with value: 0.7466721592101528.\n"
          ]
        },
        {
          "output_type": "stream",
          "name": "stdout",
          "text": [
            "Trial 98, C: 7.5908446548909945, penalty: l1, ROC-AUC: 0.7465969218451771\n"
          ]
        },
        {
          "output_type": "stream",
          "name": "stderr",
          "text": [
            "[I 2024-05-11 03:09:27,016] Trial 99 finished with value: 0.7466370274712245 and parameters: {'C': 8.919622767153033, 'penalty': 'l1'}. Best is trial 76 with value: 0.7466721592101528.\n"
          ]
        },
        {
          "output_type": "stream",
          "name": "stdout",
          "text": [
            "Trial 99, C: 8.919622767153033, penalty: l1, ROC-AUC: 0.7466370274712245\n",
            "Best Parameters:  {'C': 9.923593637499346, 'penalty': 'l1'}\n",
            "Best ROC-AUC Score:  0.7466721592101528\n"
          ]
        }
      ]
    },
    {
      "cell_type": "code",
      "source": [
        "# Decision Tree\n",
        "def objective_function(trial):\n",
        "    max_depth = trial.suggest_int('max_depth', 1, 10)\n",
        "    min_samples_split = trial.suggest_int('min_samples_split', 2, 10)\n",
        "    min_samples_leaf = trial.suggest_int('min_samples_leaf', 1, 10)\n",
        "    criterion = trial.suggest_categorical('criterion', ['gini', 'entropy'])\n",
        "\n",
        "    model = DecisionTreeClassifier(\n",
        "        max_depth=max_depth,\n",
        "        min_samples_split=min_samples_split,\n",
        "        min_samples_leaf=min_samples_leaf,\n",
        "        criterion=criterion\n",
        "    )\n",
        "    metrics = ['roc_auc','accuracy','precison','recall','f1-score']\n",
        "    # Using cross_val_score to get the average precision score for each fold\n",
        "    scores = cross_val_score(model, X_train_oversampled, y_train_oversampled, cv=5, scoring='roc_auc')\n",
        "    roc_auc = np.mean(scores)\n",
        "    # Printing intermediate results\n",
        "    print(f\"Trial {trial.number}, max_depth: {max_depth}, min_samples_split: {min_samples_split}, \"\n",
        "          f\"min_samples_leaf: {min_samples_leaf}, criterion: {criterion}, ROC-AUC: {roc_auc}\")\n",
        "    return roc_auc\n",
        "\n",
        "study_dt = optuna.create_study(direction=\"maximize\")\n",
        "study_dt.optimize(objective_function, n_trials=100)\n",
        "\n",
        "best_params_dt = study_dt.best_params\n",
        "print(\"Best Parameters: \", best_params_dt)\n",
        "print(\"Best ROC-AUC Score: \", study_dt.best_value)\n",
        "\n",
        "# Create and save model\n",
        "best_model_dt = DecisionTreeClassifier(**best_params_dt)\n",
        "with open('best_models_dt_8_features.pkl', 'wb') as file:\n",
        "    pickle.dump(best_model_dt, file)"
      ],
      "metadata": {
        "colab": {
          "base_uri": "https://localhost:8080/"
        },
        "id": "5D-ue6l1nr8P",
        "outputId": "7f438009-6270-441f-cd90-22102ef58f16"
      },
      "execution_count": 17,
      "outputs": [
        {
          "output_type": "stream",
          "name": "stderr",
          "text": [
            "[I 2024-05-11 03:17:30,877] A new study created in memory with name: no-name-ff53c9c5-ca7a-4c12-8e10-dc579f5d07cf\n",
            "[I 2024-05-11 03:17:31,012] Trial 0 finished with value: 0.6200912404575778 and parameters: {'max_depth': 1, 'min_samples_split': 6, 'min_samples_leaf': 6, 'criterion': 'entropy'}. Best is trial 0 with value: 0.6200912404575778.\n"
          ]
        },
        {
          "output_type": "stream",
          "name": "stdout",
          "text": [
            "Trial 0, max_depth: 1, min_samples_split: 6, min_samples_leaf: 6, criterion: entropy, ROC-AUC: 0.6200912404575778\n"
          ]
        },
        {
          "output_type": "stream",
          "name": "stderr",
          "text": [
            "[I 2024-05-11 03:17:31,294] Trial 1 finished with value: 0.9468523160402704 and parameters: {'max_depth': 8, 'min_samples_split': 7, 'min_samples_leaf': 5, 'criterion': 'entropy'}. Best is trial 1 with value: 0.9468523160402704.\n"
          ]
        },
        {
          "output_type": "stream",
          "name": "stdout",
          "text": [
            "Trial 1, max_depth: 8, min_samples_split: 7, min_samples_leaf: 5, criterion: entropy, ROC-AUC: 0.9468523160402704\n"
          ]
        },
        {
          "output_type": "stream",
          "name": "stderr",
          "text": [
            "[I 2024-05-11 03:17:31,551] Trial 2 finished with value: 0.9577235572012113 and parameters: {'max_depth': 8, 'min_samples_split': 6, 'min_samples_leaf': 9, 'criterion': 'gini'}. Best is trial 2 with value: 0.9577235572012113.\n"
          ]
        },
        {
          "output_type": "stream",
          "name": "stdout",
          "text": [
            "Trial 2, max_depth: 8, min_samples_split: 6, min_samples_leaf: 9, criterion: gini, ROC-AUC: 0.9577235572012113\n"
          ]
        },
        {
          "output_type": "stream",
          "name": "stderr",
          "text": [
            "[I 2024-05-11 03:17:31,818] Trial 3 finished with value: 0.9635856573339341 and parameters: {'max_depth': 10, 'min_samples_split': 8, 'min_samples_leaf': 9, 'criterion': 'gini'}. Best is trial 3 with value: 0.9635856573339341.\n"
          ]
        },
        {
          "output_type": "stream",
          "name": "stdout",
          "text": [
            "Trial 3, max_depth: 10, min_samples_split: 8, min_samples_leaf: 9, criterion: gini, ROC-AUC: 0.9635856573339341\n"
          ]
        },
        {
          "output_type": "stream",
          "name": "stderr",
          "text": [
            "[I 2024-05-11 03:17:32,054] Trial 4 finished with value: 0.9393207714634549 and parameters: {'max_depth': 7, 'min_samples_split': 6, 'min_samples_leaf': 4, 'criterion': 'gini'}. Best is trial 3 with value: 0.9635856573339341.\n"
          ]
        },
        {
          "output_type": "stream",
          "name": "stdout",
          "text": [
            "Trial 4, max_depth: 7, min_samples_split: 6, min_samples_leaf: 4, criterion: gini, ROC-AUC: 0.9393207714634549\n"
          ]
        },
        {
          "output_type": "stream",
          "name": "stderr",
          "text": [
            "[I 2024-05-11 03:17:32,316] Trial 5 finished with value: 0.9624919322759329 and parameters: {'max_depth': 10, 'min_samples_split': 10, 'min_samples_leaf': 7, 'criterion': 'gini'}. Best is trial 3 with value: 0.9635856573339341.\n"
          ]
        },
        {
          "output_type": "stream",
          "name": "stdout",
          "text": [
            "Trial 5, max_depth: 10, min_samples_split: 10, min_samples_leaf: 7, criterion: gini, ROC-AUC: 0.9624919322759329\n"
          ]
        },
        {
          "output_type": "stream",
          "name": "stderr",
          "text": [
            "[I 2024-05-11 03:17:32,546] Trial 6 finished with value: 0.8818120386897806 and parameters: {'max_depth': 5, 'min_samples_split': 10, 'min_samples_leaf': 1, 'criterion': 'entropy'}. Best is trial 3 with value: 0.9635856573339341.\n"
          ]
        },
        {
          "output_type": "stream",
          "name": "stdout",
          "text": [
            "Trial 6, max_depth: 5, min_samples_split: 10, min_samples_leaf: 1, criterion: entropy, ROC-AUC: 0.8818120386897806\n"
          ]
        },
        {
          "output_type": "stream",
          "name": "stderr",
          "text": [
            "[I 2024-05-11 03:17:32,791] Trial 7 finished with value: 0.9398321965639658 and parameters: {'max_depth': 7, 'min_samples_split': 6, 'min_samples_leaf': 8, 'criterion': 'gini'}. Best is trial 3 with value: 0.9635856573339341.\n"
          ]
        },
        {
          "output_type": "stream",
          "name": "stdout",
          "text": [
            "Trial 7, max_depth: 7, min_samples_split: 6, min_samples_leaf: 8, criterion: gini, ROC-AUC: 0.9398321965639658\n"
          ]
        },
        {
          "output_type": "stream",
          "name": "stderr",
          "text": [
            "[I 2024-05-11 03:17:33,067] Trial 8 finished with value: 0.9604910319522298 and parameters: {'max_depth': 9, 'min_samples_split': 5, 'min_samples_leaf': 8, 'criterion': 'entropy'}. Best is trial 3 with value: 0.9635856573339341.\n",
            "[I 2024-05-11 03:17:33,238] Trial 9 finished with value: 0.733584655009923 and parameters: {'max_depth': 2, 'min_samples_split': 3, 'min_samples_leaf': 8, 'criterion': 'entropy'}. Best is trial 3 with value: 0.9635856573339341.\n"
          ]
        },
        {
          "output_type": "stream",
          "name": "stdout",
          "text": [
            "Trial 8, max_depth: 9, min_samples_split: 5, min_samples_leaf: 8, criterion: entropy, ROC-AUC: 0.9604910319522298\n",
            "Trial 9, max_depth: 2, min_samples_split: 3, min_samples_leaf: 8, criterion: entropy, ROC-AUC: 0.733584655009923\n"
          ]
        },
        {
          "output_type": "stream",
          "name": "stderr",
          "text": [
            "[I 2024-05-11 03:17:33,446] Trial 10 finished with value: 0.8626916521824961 and parameters: {'max_depth': 4, 'min_samples_split': 8, 'min_samples_leaf': 10, 'criterion': 'gini'}. Best is trial 3 with value: 0.9635856573339341.\n"
          ]
        },
        {
          "output_type": "stream",
          "name": "stdout",
          "text": [
            "Trial 10, max_depth: 4, min_samples_split: 8, min_samples_leaf: 10, criterion: gini, ROC-AUC: 0.8626916521824961\n"
          ]
        },
        {
          "output_type": "stream",
          "name": "stderr",
          "text": [
            "[I 2024-05-11 03:17:33,731] Trial 11 finished with value: 0.9618895642011512 and parameters: {'max_depth': 10, 'min_samples_split': 10, 'min_samples_leaf': 6, 'criterion': 'gini'}. Best is trial 3 with value: 0.9635856573339341.\n"
          ]
        },
        {
          "output_type": "stream",
          "name": "stdout",
          "text": [
            "Trial 11, max_depth: 10, min_samples_split: 10, min_samples_leaf: 6, criterion: gini, ROC-AUC: 0.9618895642011512\n"
          ]
        },
        {
          "output_type": "stream",
          "name": "stderr",
          "text": [
            "[I 2024-05-11 03:17:34,008] Trial 12 finished with value: 0.9640032617300459 and parameters: {'max_depth': 10, 'min_samples_split': 9, 'min_samples_leaf': 10, 'criterion': 'gini'}. Best is trial 12 with value: 0.9640032617300459.\n"
          ]
        },
        {
          "output_type": "stream",
          "name": "stdout",
          "text": [
            "Trial 12, max_depth: 10, min_samples_split: 9, min_samples_leaf: 10, criterion: gini, ROC-AUC: 0.9640032617300459\n"
          ]
        },
        {
          "output_type": "stream",
          "name": "stderr",
          "text": [
            "[I 2024-05-11 03:17:34,287] Trial 13 finished with value: 0.9633010992728552 and parameters: {'max_depth': 10, 'min_samples_split': 8, 'min_samples_leaf': 10, 'criterion': 'gini'}. Best is trial 12 with value: 0.9640032617300459.\n"
          ]
        },
        {
          "output_type": "stream",
          "name": "stdout",
          "text": [
            "Trial 13, max_depth: 10, min_samples_split: 8, min_samples_leaf: 10, criterion: gini, ROC-AUC: 0.9633010992728552\n"
          ]
        },
        {
          "output_type": "stream",
          "name": "stderr",
          "text": [
            "[I 2024-05-11 03:17:34,533] Trial 14 finished with value: 0.9267046429412936 and parameters: {'max_depth': 6, 'min_samples_split': 8, 'min_samples_leaf': 10, 'criterion': 'gini'}. Best is trial 12 with value: 0.9640032617300459.\n"
          ]
        },
        {
          "output_type": "stream",
          "name": "stdout",
          "text": [
            "Trial 14, max_depth: 6, min_samples_split: 8, min_samples_leaf: 10, criterion: gini, ROC-AUC: 0.9267046429412936\n"
          ]
        },
        {
          "output_type": "stream",
          "name": "stderr",
          "text": [
            "[I 2024-05-11 03:17:34,810] Trial 15 finished with value: 0.958693118468587 and parameters: {'max_depth': 9, 'min_samples_split': 9, 'min_samples_leaf': 3, 'criterion': 'gini'}. Best is trial 12 with value: 0.9640032617300459.\n"
          ]
        },
        {
          "output_type": "stream",
          "name": "stdout",
          "text": [
            "Trial 15, max_depth: 9, min_samples_split: 9, min_samples_leaf: 3, criterion: gini, ROC-AUC: 0.958693118468587\n"
          ]
        },
        {
          "output_type": "stream",
          "name": "stderr",
          "text": [
            "[I 2024-05-11 03:17:35,016] Trial 16 finished with value: 0.8633069634461885 and parameters: {'max_depth': 4, 'min_samples_split': 4, 'min_samples_leaf': 9, 'criterion': 'gini'}. Best is trial 12 with value: 0.9640032617300459.\n"
          ]
        },
        {
          "output_type": "stream",
          "name": "stdout",
          "text": [
            "Trial 16, max_depth: 4, min_samples_split: 4, min_samples_leaf: 9, criterion: gini, ROC-AUC: 0.8633069634461885\n"
          ]
        },
        {
          "output_type": "stream",
          "name": "stderr",
          "text": [
            "[I 2024-05-11 03:17:35,281] Trial 17 finished with value: 0.9583362345475972 and parameters: {'max_depth': 8, 'min_samples_split': 9, 'min_samples_leaf': 9, 'criterion': 'gini'}. Best is trial 12 with value: 0.9640032617300459.\n"
          ]
        },
        {
          "output_type": "stream",
          "name": "stdout",
          "text": [
            "Trial 17, max_depth: 8, min_samples_split: 9, min_samples_leaf: 9, criterion: gini, ROC-AUC: 0.9583362345475972\n"
          ]
        },
        {
          "output_type": "stream",
          "name": "stderr",
          "text": [
            "[I 2024-05-11 03:17:35,554] Trial 18 finished with value: 0.9623546033845104 and parameters: {'max_depth': 9, 'min_samples_split': 2, 'min_samples_leaf': 7, 'criterion': 'gini'}. Best is trial 12 with value: 0.9640032617300459.\n"
          ]
        },
        {
          "output_type": "stream",
          "name": "stdout",
          "text": [
            "Trial 18, max_depth: 9, min_samples_split: 2, min_samples_leaf: 7, criterion: gini, ROC-AUC: 0.9623546033845104\n"
          ]
        },
        {
          "output_type": "stream",
          "name": "stderr",
          "text": [
            "[I 2024-05-11 03:17:35,792] Trial 19 finished with value: 0.9264872948927272 and parameters: {'max_depth': 6, 'min_samples_split': 9, 'min_samples_leaf': 1, 'criterion': 'gini'}. Best is trial 12 with value: 0.9640032617300459.\n"
          ]
        },
        {
          "output_type": "stream",
          "name": "stdout",
          "text": [
            "Trial 19, max_depth: 6, min_samples_split: 9, min_samples_leaf: 1, criterion: gini, ROC-AUC: 0.9264872948927272\n"
          ]
        },
        {
          "output_type": "stream",
          "name": "stderr",
          "text": [
            "[I 2024-05-11 03:17:36,069] Trial 20 finished with value: 0.9627107527006334 and parameters: {'max_depth': 10, 'min_samples_split': 7, 'min_samples_leaf': 7, 'criterion': 'gini'}. Best is trial 12 with value: 0.9640032617300459.\n"
          ]
        },
        {
          "output_type": "stream",
          "name": "stdout",
          "text": [
            "Trial 20, max_depth: 10, min_samples_split: 7, min_samples_leaf: 7, criterion: gini, ROC-AUC: 0.9627107527006334\n"
          ]
        },
        {
          "output_type": "stream",
          "name": "stderr",
          "text": [
            "[I 2024-05-11 03:17:36,346] Trial 21 finished with value: 0.9626147149882993 and parameters: {'max_depth': 10, 'min_samples_split': 8, 'min_samples_leaf': 10, 'criterion': 'gini'}. Best is trial 12 with value: 0.9640032617300459.\n"
          ]
        },
        {
          "output_type": "stream",
          "name": "stdout",
          "text": [
            "Trial 21, max_depth: 10, min_samples_split: 8, min_samples_leaf: 10, criterion: gini, ROC-AUC: 0.9626147149882993\n"
          ]
        },
        {
          "output_type": "stream",
          "name": "stderr",
          "text": [
            "[I 2024-05-11 03:17:36,620] Trial 22 finished with value: 0.9618395419371353 and parameters: {'max_depth': 9, 'min_samples_split': 7, 'min_samples_leaf': 10, 'criterion': 'gini'}. Best is trial 12 with value: 0.9640032617300459.\n"
          ]
        },
        {
          "output_type": "stream",
          "name": "stdout",
          "text": [
            "Trial 22, max_depth: 9, min_samples_split: 7, min_samples_leaf: 10, criterion: gini, ROC-AUC: 0.9618395419371353\n"
          ]
        },
        {
          "output_type": "stream",
          "name": "stderr",
          "text": [
            "[I 2024-05-11 03:17:36,896] Trial 23 finished with value: 0.9634924947130614 and parameters: {'max_depth': 10, 'min_samples_split': 8, 'min_samples_leaf': 9, 'criterion': 'gini'}. Best is trial 12 with value: 0.9640032617300459.\n"
          ]
        },
        {
          "output_type": "stream",
          "name": "stdout",
          "text": [
            "Trial 23, max_depth: 10, min_samples_split: 8, min_samples_leaf: 9, criterion: gini, ROC-AUC: 0.9634924947130614\n"
          ]
        },
        {
          "output_type": "stream",
          "name": "stderr",
          "text": [
            "[I 2024-05-11 03:17:37,167] Trial 24 finished with value: 0.9580576823562644 and parameters: {'max_depth': 8, 'min_samples_split': 9, 'min_samples_leaf': 9, 'criterion': 'gini'}. Best is trial 12 with value: 0.9640032617300459.\n"
          ]
        },
        {
          "output_type": "stream",
          "name": "stdout",
          "text": [
            "Trial 24, max_depth: 8, min_samples_split: 9, min_samples_leaf: 9, criterion: gini, ROC-AUC: 0.9580576823562644\n"
          ]
        },
        {
          "output_type": "stream",
          "name": "stderr",
          "text": [
            "[I 2024-05-11 03:17:37,436] Trial 25 finished with value: 0.9606292498105333 and parameters: {'max_depth': 9, 'min_samples_split': 7, 'min_samples_leaf': 8, 'criterion': 'gini'}. Best is trial 12 with value: 0.9640032617300459.\n"
          ]
        },
        {
          "output_type": "stream",
          "name": "stdout",
          "text": [
            "Trial 25, max_depth: 9, min_samples_split: 7, min_samples_leaf: 8, criterion: gini, ROC-AUC: 0.9606292498105333\n"
          ]
        },
        {
          "output_type": "stream",
          "name": "stderr",
          "text": [
            "[I 2024-05-11 03:17:37,720] Trial 26 finished with value: 0.9327739296163257 and parameters: {'max_depth': 7, 'min_samples_split': 9, 'min_samples_leaf': 9, 'criterion': 'entropy'}. Best is trial 12 with value: 0.9640032617300459.\n"
          ]
        },
        {
          "output_type": "stream",
          "name": "stdout",
          "text": [
            "Trial 26, max_depth: 7, min_samples_split: 9, min_samples_leaf: 9, criterion: entropy, ROC-AUC: 0.9327739296163257\n"
          ]
        },
        {
          "output_type": "stream",
          "name": "stderr",
          "text": [
            "[I 2024-05-11 03:17:38,135] Trial 27 finished with value: 0.9625755136334009 and parameters: {'max_depth': 10, 'min_samples_split': 8, 'min_samples_leaf': 7, 'criterion': 'gini'}. Best is trial 12 with value: 0.9640032617300459.\n"
          ]
        },
        {
          "output_type": "stream",
          "name": "stdout",
          "text": [
            "Trial 27, max_depth: 10, min_samples_split: 8, min_samples_leaf: 7, criterion: gini, ROC-AUC: 0.9625755136334009\n"
          ]
        },
        {
          "output_type": "stream",
          "name": "stderr",
          "text": [
            "[I 2024-05-11 03:17:38,533] Trial 28 finished with value: 0.9584386137681081 and parameters: {'max_depth': 9, 'min_samples_split': 10, 'min_samples_leaf': 3, 'criterion': 'gini'}. Best is trial 12 with value: 0.9640032617300459.\n"
          ]
        },
        {
          "output_type": "stream",
          "name": "stdout",
          "text": [
            "Trial 28, max_depth: 9, min_samples_split: 10, min_samples_leaf: 3, criterion: gini, ROC-AUC: 0.9584386137681081\n"
          ]
        },
        {
          "output_type": "stream",
          "name": "stderr",
          "text": [
            "[I 2024-05-11 03:17:38,785] Trial 29 finished with value: 0.6200912404575778 and parameters: {'max_depth': 1, 'min_samples_split': 5, 'min_samples_leaf': 6, 'criterion': 'entropy'}. Best is trial 12 with value: 0.9640032617300459.\n"
          ]
        },
        {
          "output_type": "stream",
          "name": "stdout",
          "text": [
            "Trial 29, max_depth: 1, min_samples_split: 5, min_samples_leaf: 6, criterion: entropy, ROC-AUC: 0.6200912404575778\n"
          ]
        },
        {
          "output_type": "stream",
          "name": "stderr",
          "text": [
            "[I 2024-05-11 03:17:39,087] Trial 30 finished with value: 0.8145689932341625 and parameters: {'max_depth': 3, 'min_samples_split': 7, 'min_samples_leaf': 5, 'criterion': 'gini'}. Best is trial 12 with value: 0.9640032617300459.\n"
          ]
        },
        {
          "output_type": "stream",
          "name": "stdout",
          "text": [
            "Trial 30, max_depth: 3, min_samples_split: 7, min_samples_leaf: 5, criterion: gini, ROC-AUC: 0.8145689932341625\n"
          ]
        },
        {
          "output_type": "stream",
          "name": "stderr",
          "text": [
            "[I 2024-05-11 03:17:39,514] Trial 31 finished with value: 0.9630188914723901 and parameters: {'max_depth': 10, 'min_samples_split': 8, 'min_samples_leaf': 10, 'criterion': 'gini'}. Best is trial 12 with value: 0.9640032617300459.\n"
          ]
        },
        {
          "output_type": "stream",
          "name": "stdout",
          "text": [
            "Trial 31, max_depth: 10, min_samples_split: 8, min_samples_leaf: 10, criterion: gini, ROC-AUC: 0.9630188914723901\n"
          ]
        },
        {
          "output_type": "stream",
          "name": "stderr",
          "text": [
            "[I 2024-05-11 03:17:39,943] Trial 32 finished with value: 0.9626423289013438 and parameters: {'max_depth': 10, 'min_samples_split': 8, 'min_samples_leaf': 9, 'criterion': 'gini'}. Best is trial 12 with value: 0.9640032617300459.\n"
          ]
        },
        {
          "output_type": "stream",
          "name": "stdout",
          "text": [
            "Trial 32, max_depth: 10, min_samples_split: 8, min_samples_leaf: 9, criterion: gini, ROC-AUC: 0.9626423289013438\n"
          ]
        },
        {
          "output_type": "stream",
          "name": "stderr",
          "text": [
            "[I 2024-05-11 03:17:40,343] Trial 33 finished with value: 0.9579706918411534 and parameters: {'max_depth': 8, 'min_samples_split': 9, 'min_samples_leaf': 10, 'criterion': 'gini'}. Best is trial 12 with value: 0.9640032617300459.\n"
          ]
        },
        {
          "output_type": "stream",
          "name": "stdout",
          "text": [
            "Trial 33, max_depth: 8, min_samples_split: 9, min_samples_leaf: 10, criterion: gini, ROC-AUC: 0.9579706918411534\n"
          ]
        },
        {
          "output_type": "stream",
          "name": "stderr",
          "text": [
            "[I 2024-05-11 03:17:40,756] Trial 34 finished with value: 0.961823327328994 and parameters: {'max_depth': 9, 'min_samples_split': 7, 'min_samples_leaf': 9, 'criterion': 'gini'}. Best is trial 12 with value: 0.9640032617300459.\n"
          ]
        },
        {
          "output_type": "stream",
          "name": "stdout",
          "text": [
            "Trial 34, max_depth: 9, min_samples_split: 7, min_samples_leaf: 9, criterion: gini, ROC-AUC: 0.961823327328994\n"
          ]
        },
        {
          "output_type": "stream",
          "name": "stderr",
          "text": [
            "[I 2024-05-11 03:17:41,168] Trial 35 finished with value: 0.9579274725881561 and parameters: {'max_depth': 8, 'min_samples_split': 6, 'min_samples_leaf': 8, 'criterion': 'gini'}. Best is trial 12 with value: 0.9640032617300459.\n"
          ]
        },
        {
          "output_type": "stream",
          "name": "stdout",
          "text": [
            "Trial 35, max_depth: 8, min_samples_split: 6, min_samples_leaf: 8, criterion: gini, ROC-AUC: 0.9579274725881561\n"
          ]
        },
        {
          "output_type": "stream",
          "name": "stderr",
          "text": [
            "[I 2024-05-11 03:17:41,589] Trial 36 finished with value: 0.9632936972844487 and parameters: {'max_depth': 10, 'min_samples_split': 8, 'min_samples_leaf': 10, 'criterion': 'entropy'}. Best is trial 12 with value: 0.9640032617300459.\n"
          ]
        },
        {
          "output_type": "stream",
          "name": "stdout",
          "text": [
            "Trial 36, max_depth: 10, min_samples_split: 8, min_samples_leaf: 10, criterion: entropy, ROC-AUC: 0.9632936972844487\n"
          ]
        },
        {
          "output_type": "stream",
          "name": "stderr",
          "text": [
            "[I 2024-05-11 03:17:41,857] Trial 37 finished with value: 0.9389151561142999 and parameters: {'max_depth': 7, 'min_samples_split': 5, 'min_samples_leaf': 9, 'criterion': 'gini'}. Best is trial 12 with value: 0.9640032617300459.\n"
          ]
        },
        {
          "output_type": "stream",
          "name": "stdout",
          "text": [
            "Trial 37, max_depth: 7, min_samples_split: 5, min_samples_leaf: 9, criterion: gini, ROC-AUC: 0.9389151561142999\n"
          ]
        },
        {
          "output_type": "stream",
          "name": "stderr",
          "text": [
            "[I 2024-05-11 03:17:42,119] Trial 38 finished with value: 0.9584912892116983 and parameters: {'max_depth': 8, 'min_samples_split': 10, 'min_samples_leaf': 8, 'criterion': 'gini'}. Best is trial 12 with value: 0.9640032617300459.\n"
          ]
        },
        {
          "output_type": "stream",
          "name": "stdout",
          "text": [
            "Trial 38, max_depth: 8, min_samples_split: 10, min_samples_leaf: 8, criterion: gini, ROC-AUC: 0.9584912892116983\n"
          ]
        },
        {
          "output_type": "stream",
          "name": "stderr",
          "text": [
            "[I 2024-05-11 03:17:42,418] Trial 39 finished with value: 0.9597826039804691 and parameters: {'max_depth': 9, 'min_samples_split': 9, 'min_samples_leaf': 7, 'criterion': 'entropy'}. Best is trial 12 with value: 0.9640032617300459.\n"
          ]
        },
        {
          "output_type": "stream",
          "name": "stdout",
          "text": [
            "Trial 39, max_depth: 9, min_samples_split: 9, min_samples_leaf: 7, criterion: entropy, ROC-AUC: 0.9597826039804691\n"
          ]
        },
        {
          "output_type": "stream",
          "name": "stderr",
          "text": [
            "[I 2024-05-11 03:17:42,697] Trial 40 finished with value: 0.9643442445165231 and parameters: {'max_depth': 10, 'min_samples_split': 6, 'min_samples_leaf': 10, 'criterion': 'gini'}. Best is trial 40 with value: 0.9643442445165231.\n"
          ]
        },
        {
          "output_type": "stream",
          "name": "stdout",
          "text": [
            "Trial 40, max_depth: 10, min_samples_split: 6, min_samples_leaf: 10, criterion: gini, ROC-AUC: 0.9643442445165231\n"
          ]
        },
        {
          "output_type": "stream",
          "name": "stderr",
          "text": [
            "[I 2024-05-11 03:17:42,999] Trial 41 finished with value: 0.9634851402206592 and parameters: {'max_depth': 10, 'min_samples_split': 6, 'min_samples_leaf': 10, 'criterion': 'gini'}. Best is trial 40 with value: 0.9643442445165231.\n"
          ]
        },
        {
          "output_type": "stream",
          "name": "stdout",
          "text": [
            "Trial 41, max_depth: 10, min_samples_split: 6, min_samples_leaf: 10, criterion: gini, ROC-AUC: 0.9634851402206592\n"
          ]
        },
        {
          "output_type": "stream",
          "name": "stderr",
          "text": [
            "[I 2024-05-11 03:17:43,281] Trial 42 finished with value: 0.9627376512710797 and parameters: {'max_depth': 10, 'min_samples_split': 6, 'min_samples_leaf': 9, 'criterion': 'gini'}. Best is trial 40 with value: 0.9643442445165231.\n"
          ]
        },
        {
          "output_type": "stream",
          "name": "stdout",
          "text": [
            "Trial 42, max_depth: 10, min_samples_split: 6, min_samples_leaf: 9, criterion: gini, ROC-AUC: 0.9627376512710797\n"
          ]
        },
        {
          "output_type": "stream",
          "name": "stderr",
          "text": [
            "[I 2024-05-11 03:17:43,554] Trial 43 finished with value: 0.9616606397931319 and parameters: {'max_depth': 9, 'min_samples_split': 5, 'min_samples_leaf': 10, 'criterion': 'gini'}. Best is trial 40 with value: 0.9643442445165231.\n"
          ]
        },
        {
          "output_type": "stream",
          "name": "stdout",
          "text": [
            "Trial 43, max_depth: 9, min_samples_split: 5, min_samples_leaf: 10, criterion: gini, ROC-AUC: 0.9616606397931319\n"
          ]
        },
        {
          "output_type": "stream",
          "name": "stderr",
          "text": [
            "[I 2024-05-11 03:17:43,833] Trial 44 finished with value: 0.9613280508699515 and parameters: {'max_depth': 10, 'min_samples_split': 4, 'min_samples_leaf': 8, 'criterion': 'gini'}. Best is trial 40 with value: 0.9643442445165231.\n"
          ]
        },
        {
          "output_type": "stream",
          "name": "stdout",
          "text": [
            "Trial 44, max_depth: 10, min_samples_split: 4, min_samples_leaf: 8, criterion: gini, ROC-AUC: 0.9613280508699515\n"
          ]
        },
        {
          "output_type": "stream",
          "name": "stderr",
          "text": [
            "[I 2024-05-11 03:17:44,129] Trial 45 finished with value: 0.964331534585767 and parameters: {'max_depth': 10, 'min_samples_split': 6, 'min_samples_leaf': 10, 'criterion': 'gini'}. Best is trial 40 with value: 0.9643442445165231.\n"
          ]
        },
        {
          "output_type": "stream",
          "name": "stdout",
          "text": [
            "Trial 45, max_depth: 10, min_samples_split: 6, min_samples_leaf: 10, criterion: gini, ROC-AUC: 0.964331534585767\n"
          ]
        },
        {
          "output_type": "stream",
          "name": "stderr",
          "text": [
            "[I 2024-05-11 03:17:44,409] Trial 46 finished with value: 0.9613459719039813 and parameters: {'max_depth': 9, 'min_samples_split': 7, 'min_samples_leaf': 9, 'criterion': 'gini'}. Best is trial 40 with value: 0.9643442445165231.\n"
          ]
        },
        {
          "output_type": "stream",
          "name": "stdout",
          "text": [
            "Trial 46, max_depth: 9, min_samples_split: 7, min_samples_leaf: 9, criterion: gini, ROC-AUC: 0.9613459719039813\n"
          ]
        },
        {
          "output_type": "stream",
          "name": "stderr",
          "text": [
            "[I 2024-05-11 03:17:44,729] Trial 47 finished with value: 0.9633639998145757 and parameters: {'max_depth': 10, 'min_samples_split': 5, 'min_samples_leaf': 10, 'criterion': 'entropy'}. Best is trial 40 with value: 0.9643442445165231.\n"
          ]
        },
        {
          "output_type": "stream",
          "name": "stdout",
          "text": [
            "Trial 47, max_depth: 10, min_samples_split: 5, min_samples_leaf: 10, criterion: entropy, ROC-AUC: 0.9633639998145757\n"
          ]
        },
        {
          "output_type": "stream",
          "name": "stderr",
          "text": [
            "[I 2024-05-11 03:17:44,961] Trial 48 finished with value: 0.9020531818143247 and parameters: {'max_depth': 5, 'min_samples_split': 4, 'min_samples_leaf': 8, 'criterion': 'gini'}. Best is trial 40 with value: 0.9643442445165231.\n"
          ]
        },
        {
          "output_type": "stream",
          "name": "stdout",
          "text": [
            "Trial 48, max_depth: 5, min_samples_split: 4, min_samples_leaf: 8, criterion: gini, ROC-AUC: 0.9020531818143247\n"
          ]
        },
        {
          "output_type": "stream",
          "name": "stderr",
          "text": [
            "[I 2024-05-11 03:17:45,234] Trial 49 finished with value: 0.9562636155212381 and parameters: {'max_depth': 8, 'min_samples_split': 6, 'min_samples_leaf': 4, 'criterion': 'gini'}. Best is trial 40 with value: 0.9643442445165231.\n"
          ]
        },
        {
          "output_type": "stream",
          "name": "stdout",
          "text": [
            "Trial 49, max_depth: 8, min_samples_split: 6, min_samples_leaf: 4, criterion: gini, ROC-AUC: 0.9562636155212381\n"
          ]
        },
        {
          "output_type": "stream",
          "name": "stderr",
          "text": [
            "[I 2024-05-11 03:17:45,510] Trial 50 finished with value: 0.961907927211888 and parameters: {'max_depth': 9, 'min_samples_split': 7, 'min_samples_leaf': 9, 'criterion': 'gini'}. Best is trial 40 with value: 0.9643442445165231.\n"
          ]
        },
        {
          "output_type": "stream",
          "name": "stdout",
          "text": [
            "Trial 50, max_depth: 9, min_samples_split: 7, min_samples_leaf: 9, criterion: gini, ROC-AUC: 0.961907927211888\n"
          ]
        },
        {
          "output_type": "stream",
          "name": "stderr",
          "text": [
            "[I 2024-05-11 03:17:45,788] Trial 51 finished with value: 0.9637729747144361 and parameters: {'max_depth': 10, 'min_samples_split': 6, 'min_samples_leaf': 10, 'criterion': 'gini'}. Best is trial 40 with value: 0.9643442445165231.\n"
          ]
        },
        {
          "output_type": "stream",
          "name": "stdout",
          "text": [
            "Trial 51, max_depth: 10, min_samples_split: 6, min_samples_leaf: 10, criterion: gini, ROC-AUC: 0.9637729747144361\n"
          ]
        },
        {
          "output_type": "stream",
          "name": "stderr",
          "text": [
            "[I 2024-05-11 03:17:46,088] Trial 52 finished with value: 0.9635067466807576 and parameters: {'max_depth': 10, 'min_samples_split': 5, 'min_samples_leaf': 10, 'criterion': 'gini'}. Best is trial 40 with value: 0.9643442445165231.\n"
          ]
        },
        {
          "output_type": "stream",
          "name": "stdout",
          "text": [
            "Trial 52, max_depth: 10, min_samples_split: 5, min_samples_leaf: 10, criterion: gini, ROC-AUC: 0.9635067466807576\n"
          ]
        },
        {
          "output_type": "stream",
          "name": "stderr",
          "text": [
            "[I 2024-05-11 03:17:46,367] Trial 53 finished with value: 0.9641738586699606 and parameters: {'max_depth': 10, 'min_samples_split': 5, 'min_samples_leaf': 10, 'criterion': 'gini'}. Best is trial 40 with value: 0.9643442445165231.\n"
          ]
        },
        {
          "output_type": "stream",
          "name": "stdout",
          "text": [
            "Trial 53, max_depth: 10, min_samples_split: 5, min_samples_leaf: 10, criterion: gini, ROC-AUC: 0.9641738586699606\n"
          ]
        },
        {
          "output_type": "stream",
          "name": "stderr",
          "text": [
            "[I 2024-05-11 03:17:46,638] Trial 54 finished with value: 0.9615320153361008 and parameters: {'max_depth': 9, 'min_samples_split': 6, 'min_samples_leaf': 10, 'criterion': 'gini'}. Best is trial 40 with value: 0.9643442445165231.\n"
          ]
        },
        {
          "output_type": "stream",
          "name": "stdout",
          "text": [
            "Trial 54, max_depth: 9, min_samples_split: 6, min_samples_leaf: 10, criterion: gini, ROC-AUC: 0.9615320153361008\n"
          ]
        },
        {
          "output_type": "stream",
          "name": "stderr",
          "text": [
            "[I 2024-05-11 03:17:46,917] Trial 55 finished with value: 0.9643738471928153 and parameters: {'max_depth': 10, 'min_samples_split': 6, 'min_samples_leaf': 10, 'criterion': 'gini'}. Best is trial 55 with value: 0.9643738471928153.\n"
          ]
        },
        {
          "output_type": "stream",
          "name": "stdout",
          "text": [
            "Trial 55, max_depth: 10, min_samples_split: 6, min_samples_leaf: 10, criterion: gini, ROC-AUC: 0.9643738471928153\n"
          ]
        },
        {
          "output_type": "stream",
          "name": "stderr",
          "text": [
            "[I 2024-05-11 03:17:47,211] Trial 56 finished with value: 0.9639545057622785 and parameters: {'max_depth': 10, 'min_samples_split': 6, 'min_samples_leaf': 10, 'criterion': 'gini'}. Best is trial 55 with value: 0.9643738471928153.\n"
          ]
        },
        {
          "output_type": "stream",
          "name": "stdout",
          "text": [
            "Trial 56, max_depth: 10, min_samples_split: 6, min_samples_leaf: 10, criterion: gini, ROC-AUC: 0.9639545057622785\n"
          ]
        },
        {
          "output_type": "stream",
          "name": "stderr",
          "text": [
            "[I 2024-05-11 03:17:47,484] Trial 57 finished with value: 0.9613040841223054 and parameters: {'max_depth': 9, 'min_samples_split': 5, 'min_samples_leaf': 10, 'criterion': 'gini'}. Best is trial 55 with value: 0.9643738471928153.\n"
          ]
        },
        {
          "output_type": "stream",
          "name": "stdout",
          "text": [
            "Trial 57, max_depth: 9, min_samples_split: 5, min_samples_leaf: 10, criterion: gini, ROC-AUC: 0.9613040841223054\n"
          ]
        },
        {
          "output_type": "stream",
          "name": "stderr",
          "text": [
            "[I 2024-05-11 03:17:47,780] Trial 58 finished with value: 0.9638309842231785 and parameters: {'max_depth': 10, 'min_samples_split': 4, 'min_samples_leaf': 9, 'criterion': 'gini'}. Best is trial 55 with value: 0.9643738471928153.\n"
          ]
        },
        {
          "output_type": "stream",
          "name": "stdout",
          "text": [
            "Trial 58, max_depth: 10, min_samples_split: 4, min_samples_leaf: 9, criterion: gini, ROC-AUC: 0.9638309842231785\n"
          ]
        },
        {
          "output_type": "stream",
          "name": "stderr",
          "text": [
            "[I 2024-05-11 03:17:48,067] Trial 59 finished with value: 0.9637503278279766 and parameters: {'max_depth': 10, 'min_samples_split': 3, 'min_samples_leaf': 10, 'criterion': 'gini'}. Best is trial 55 with value: 0.9643738471928153.\n"
          ]
        },
        {
          "output_type": "stream",
          "name": "stdout",
          "text": [
            "Trial 59, max_depth: 10, min_samples_split: 3, min_samples_leaf: 10, criterion: gini, ROC-AUC: 0.9637503278279766\n"
          ]
        },
        {
          "output_type": "stream",
          "name": "stderr",
          "text": [
            "[I 2024-05-11 03:17:48,344] Trial 60 finished with value: 0.954529126354697 and parameters: {'max_depth': 9, 'min_samples_split': 6, 'min_samples_leaf': 2, 'criterion': 'gini'}. Best is trial 55 with value: 0.9643738471928153.\n"
          ]
        },
        {
          "output_type": "stream",
          "name": "stdout",
          "text": [
            "Trial 60, max_depth: 9, min_samples_split: 6, min_samples_leaf: 2, criterion: gini, ROC-AUC: 0.954529126354697\n"
          ]
        },
        {
          "output_type": "stream",
          "name": "stderr",
          "text": [
            "[I 2024-05-11 03:17:48,621] Trial 61 finished with value: 0.9629214887776651 and parameters: {'max_depth': 10, 'min_samples_split': 4, 'min_samples_leaf': 9, 'criterion': 'gini'}. Best is trial 55 with value: 0.9643738471928153.\n"
          ]
        },
        {
          "output_type": "stream",
          "name": "stdout",
          "text": [
            "Trial 61, max_depth: 10, min_samples_split: 4, min_samples_leaf: 9, criterion: gini, ROC-AUC: 0.9629214887776651\n"
          ]
        },
        {
          "output_type": "stream",
          "name": "stderr",
          "text": [
            "[I 2024-05-11 03:17:48,898] Trial 62 finished with value: 0.9627024129300082 and parameters: {'max_depth': 10, 'min_samples_split': 3, 'min_samples_leaf': 10, 'criterion': 'gini'}. Best is trial 55 with value: 0.9643738471928153.\n"
          ]
        },
        {
          "output_type": "stream",
          "name": "stdout",
          "text": [
            "Trial 62, max_depth: 10, min_samples_split: 3, min_samples_leaf: 10, criterion: gini, ROC-AUC: 0.9627024129300082\n"
          ]
        },
        {
          "output_type": "stream",
          "name": "stderr",
          "text": [
            "[I 2024-05-11 03:17:49,202] Trial 63 finished with value: 0.9631516430683298 and parameters: {'max_depth': 10, 'min_samples_split': 4, 'min_samples_leaf': 9, 'criterion': 'gini'}. Best is trial 55 with value: 0.9643738471928153.\n"
          ]
        },
        {
          "output_type": "stream",
          "name": "stdout",
          "text": [
            "Trial 63, max_depth: 10, min_samples_split: 4, min_samples_leaf: 9, criterion: gini, ROC-AUC: 0.9631516430683298\n"
          ]
        },
        {
          "output_type": "stream",
          "name": "stderr",
          "text": [
            "[I 2024-05-11 03:17:49,476] Trial 64 finished with value: 0.9606172647215765 and parameters: {'max_depth': 9, 'min_samples_split': 5, 'min_samples_leaf': 10, 'criterion': 'gini'}. Best is trial 55 with value: 0.9643738471928153.\n"
          ]
        },
        {
          "output_type": "stream",
          "name": "stdout",
          "text": [
            "Trial 64, max_depth: 9, min_samples_split: 5, min_samples_leaf: 10, criterion: gini, ROC-AUC: 0.9606172647215765\n"
          ]
        },
        {
          "output_type": "stream",
          "name": "stderr",
          "text": [
            "[I 2024-05-11 03:17:49,753] Trial 65 finished with value: 0.9647524185809772 and parameters: {'max_depth': 10, 'min_samples_split': 6, 'min_samples_leaf': 10, 'criterion': 'gini'}. Best is trial 65 with value: 0.9647524185809772.\n"
          ]
        },
        {
          "output_type": "stream",
          "name": "stdout",
          "text": [
            "Trial 65, max_depth: 10, min_samples_split: 6, min_samples_leaf: 10, criterion: gini, ROC-AUC: 0.9647524185809772\n"
          ]
        },
        {
          "output_type": "stream",
          "name": "stderr",
          "text": [
            "[I 2024-05-11 03:17:50,067] Trial 66 finished with value: 0.9597838998297871 and parameters: {'max_depth': 9, 'min_samples_split': 6, 'min_samples_leaf': 10, 'criterion': 'entropy'}. Best is trial 65 with value: 0.9647524185809772.\n"
          ]
        },
        {
          "output_type": "stream",
          "name": "stdout",
          "text": [
            "Trial 66, max_depth: 9, min_samples_split: 6, min_samples_leaf: 10, criterion: entropy, ROC-AUC: 0.9597838998297871\n"
          ]
        },
        {
          "output_type": "stream",
          "name": "stderr",
          "text": [
            "[I 2024-05-11 03:17:50,349] Trial 67 finished with value: 0.9638315821450995 and parameters: {'max_depth': 10, 'min_samples_split': 7, 'min_samples_leaf': 10, 'criterion': 'gini'}. Best is trial 65 with value: 0.9647524185809772.\n"
          ]
        },
        {
          "output_type": "stream",
          "name": "stdout",
          "text": [
            "Trial 67, max_depth: 10, min_samples_split: 7, min_samples_leaf: 10, criterion: gini, ROC-AUC: 0.9638315821450995\n"
          ]
        },
        {
          "output_type": "stream",
          "name": "stderr",
          "text": [
            "[I 2024-05-11 03:17:50,622] Trial 68 finished with value: 0.9614915128545508 and parameters: {'max_depth': 9, 'min_samples_split': 6, 'min_samples_leaf': 10, 'criterion': 'gini'}. Best is trial 65 with value: 0.9647524185809772.\n"
          ]
        },
        {
          "output_type": "stream",
          "name": "stdout",
          "text": [
            "Trial 68, max_depth: 9, min_samples_split: 6, min_samples_leaf: 10, criterion: gini, ROC-AUC: 0.9614915128545508\n"
          ]
        },
        {
          "output_type": "stream",
          "name": "stderr",
          "text": [
            "[I 2024-05-11 03:17:50,866] Trial 69 finished with value: 0.9275478194521088 and parameters: {'max_depth': 6, 'min_samples_split': 5, 'min_samples_leaf': 9, 'criterion': 'gini'}. Best is trial 65 with value: 0.9647524185809772.\n"
          ]
        },
        {
          "output_type": "stream",
          "name": "stdout",
          "text": [
            "Trial 69, max_depth: 6, min_samples_split: 5, min_samples_leaf: 9, criterion: gini, ROC-AUC: 0.9275478194521088\n"
          ]
        },
        {
          "output_type": "stream",
          "name": "stderr",
          "text": [
            "[I 2024-05-11 03:17:51,155] Trial 70 finished with value: 0.9633986798137297 and parameters: {'max_depth': 10, 'min_samples_split': 6, 'min_samples_leaf': 10, 'criterion': 'gini'}. Best is trial 65 with value: 0.9647524185809772.\n"
          ]
        },
        {
          "output_type": "stream",
          "name": "stdout",
          "text": [
            "Trial 70, max_depth: 10, min_samples_split: 6, min_samples_leaf: 10, criterion: gini, ROC-AUC: 0.9633986798137297\n"
          ]
        },
        {
          "output_type": "stream",
          "name": "stderr",
          "text": [
            "[I 2024-05-11 03:17:51,438] Trial 71 finished with value: 0.9647682244596147 and parameters: {'max_depth': 10, 'min_samples_split': 7, 'min_samples_leaf': 10, 'criterion': 'gini'}. Best is trial 71 with value: 0.9647682244596147.\n"
          ]
        },
        {
          "output_type": "stream",
          "name": "stdout",
          "text": [
            "Trial 71, max_depth: 10, min_samples_split: 7, min_samples_leaf: 10, criterion: gini, ROC-AUC: 0.9647682244596147\n"
          ]
        },
        {
          "output_type": "stream",
          "name": "stderr",
          "text": [
            "[I 2024-05-11 03:17:51,814] Trial 72 finished with value: 0.9640255777276755 and parameters: {'max_depth': 10, 'min_samples_split': 7, 'min_samples_leaf': 10, 'criterion': 'gini'}. Best is trial 71 with value: 0.9647682244596147.\n"
          ]
        },
        {
          "output_type": "stream",
          "name": "stdout",
          "text": [
            "Trial 72, max_depth: 10, min_samples_split: 7, min_samples_leaf: 10, criterion: gini, ROC-AUC: 0.9640255777276755\n"
          ]
        },
        {
          "output_type": "stream",
          "name": "stderr",
          "text": [
            "[I 2024-05-11 03:17:52,246] Trial 73 finished with value: 0.9631051618953025 and parameters: {'max_depth': 10, 'min_samples_split': 7, 'min_samples_leaf': 9, 'criterion': 'gini'}. Best is trial 71 with value: 0.9647682244596147.\n"
          ]
        },
        {
          "output_type": "stream",
          "name": "stdout",
          "text": [
            "Trial 73, max_depth: 10, min_samples_split: 7, min_samples_leaf: 9, criterion: gini, ROC-AUC: 0.9631051618953025\n"
          ]
        },
        {
          "output_type": "stream",
          "name": "stderr",
          "text": [
            "[I 2024-05-11 03:17:52,534] Trial 74 finished with value: 0.8140656041937158 and parameters: {'max_depth': 3, 'min_samples_split': 7, 'min_samples_leaf': 10, 'criterion': 'gini'}. Best is trial 71 with value: 0.9647682244596147.\n"
          ]
        },
        {
          "output_type": "stream",
          "name": "stdout",
          "text": [
            "Trial 74, max_depth: 3, min_samples_split: 7, min_samples_leaf: 10, criterion: gini, ROC-AUC: 0.8140656041937158\n"
          ]
        },
        {
          "output_type": "stream",
          "name": "stderr",
          "text": [
            "[I 2024-05-11 03:17:52,943] Trial 75 finished with value: 0.963764191383904 and parameters: {'max_depth': 10, 'min_samples_split': 7, 'min_samples_leaf': 9, 'criterion': 'gini'}. Best is trial 71 with value: 0.9647682244596147.\n"
          ]
        },
        {
          "output_type": "stream",
          "name": "stdout",
          "text": [
            "Trial 75, max_depth: 10, min_samples_split: 7, min_samples_leaf: 9, criterion: gini, ROC-AUC: 0.963764191383904\n"
          ]
        },
        {
          "output_type": "stream",
          "name": "stderr",
          "text": [
            "[I 2024-05-11 03:17:53,362] Trial 76 finished with value: 0.9616019070257906 and parameters: {'max_depth': 9, 'min_samples_split': 6, 'min_samples_leaf': 10, 'criterion': 'gini'}. Best is trial 71 with value: 0.9647682244596147.\n"
          ]
        },
        {
          "output_type": "stream",
          "name": "stdout",
          "text": [
            "Trial 76, max_depth: 9, min_samples_split: 6, min_samples_leaf: 10, criterion: gini, ROC-AUC: 0.9616019070257906\n"
          ]
        },
        {
          "output_type": "stream",
          "name": "stderr",
          "text": [
            "[I 2024-05-11 03:17:53,835] Trial 77 finished with value: 0.9637201158834955 and parameters: {'max_depth': 10, 'min_samples_split': 5, 'min_samples_leaf': 10, 'criterion': 'entropy'}. Best is trial 71 with value: 0.9647682244596147.\n"
          ]
        },
        {
          "output_type": "stream",
          "name": "stdout",
          "text": [
            "Trial 77, max_depth: 10, min_samples_split: 5, min_samples_leaf: 10, criterion: entropy, ROC-AUC: 0.9637201158834955\n"
          ]
        },
        {
          "output_type": "stream",
          "name": "stderr",
          "text": [
            "[I 2024-05-11 03:17:54,239] Trial 78 finished with value: 0.9578973012791454 and parameters: {'max_depth': 8, 'min_samples_split': 7, 'min_samples_leaf': 9, 'criterion': 'gini'}. Best is trial 71 with value: 0.9647682244596147.\n"
          ]
        },
        {
          "output_type": "stream",
          "name": "stdout",
          "text": [
            "Trial 78, max_depth: 8, min_samples_split: 7, min_samples_leaf: 9, criterion: gini, ROC-AUC: 0.9578973012791454\n"
          ]
        },
        {
          "output_type": "stream",
          "name": "stderr",
          "text": [
            "[I 2024-05-11 03:17:54,672] Trial 79 finished with value: 0.9610996391549123 and parameters: {'max_depth': 10, 'min_samples_split': 8, 'min_samples_leaf': 8, 'criterion': 'gini'}. Best is trial 71 with value: 0.9647682244596147.\n"
          ]
        },
        {
          "output_type": "stream",
          "name": "stdout",
          "text": [
            "Trial 79, max_depth: 10, min_samples_split: 8, min_samples_leaf: 8, criterion: gini, ROC-AUC: 0.9610996391549123\n"
          ]
        },
        {
          "output_type": "stream",
          "name": "stderr",
          "text": [
            "[I 2024-05-11 03:17:55,091] Trial 80 finished with value: 0.962011321263691 and parameters: {'max_depth': 9, 'min_samples_split': 6, 'min_samples_leaf': 10, 'criterion': 'gini'}. Best is trial 71 with value: 0.9647682244596147.\n"
          ]
        },
        {
          "output_type": "stream",
          "name": "stdout",
          "text": [
            "Trial 80, max_depth: 9, min_samples_split: 6, min_samples_leaf: 10, criterion: gini, ROC-AUC: 0.962011321263691\n"
          ]
        },
        {
          "output_type": "stream",
          "name": "stderr",
          "text": [
            "[I 2024-05-11 03:17:55,444] Trial 81 finished with value: 0.9647025295696402 and parameters: {'max_depth': 10, 'min_samples_split': 6, 'min_samples_leaf': 10, 'criterion': 'gini'}. Best is trial 71 with value: 0.9647682244596147.\n"
          ]
        },
        {
          "output_type": "stream",
          "name": "stdout",
          "text": [
            "Trial 81, max_depth: 10, min_samples_split: 6, min_samples_leaf: 10, criterion: gini, ROC-AUC: 0.9647025295696402\n"
          ]
        },
        {
          "output_type": "stream",
          "name": "stderr",
          "text": [
            "[I 2024-05-11 03:17:55,720] Trial 82 finished with value: 0.9637966008101847 and parameters: {'max_depth': 10, 'min_samples_split': 6, 'min_samples_leaf': 10, 'criterion': 'gini'}. Best is trial 71 with value: 0.9647682244596147.\n"
          ]
        },
        {
          "output_type": "stream",
          "name": "stdout",
          "text": [
            "Trial 82, max_depth: 10, min_samples_split: 6, min_samples_leaf: 10, criterion: gini, ROC-AUC: 0.9637966008101847\n"
          ]
        },
        {
          "output_type": "stream",
          "name": "stderr",
          "text": [
            "[I 2024-05-11 03:17:56,009] Trial 83 finished with value: 0.9636878584444286 and parameters: {'max_depth': 10, 'min_samples_split': 5, 'min_samples_leaf': 9, 'criterion': 'gini'}. Best is trial 71 with value: 0.9647682244596147.\n"
          ]
        },
        {
          "output_type": "stream",
          "name": "stdout",
          "text": [
            "Trial 83, max_depth: 10, min_samples_split: 5, min_samples_leaf: 9, criterion: gini, ROC-AUC: 0.9636878584444286\n"
          ]
        },
        {
          "output_type": "stream",
          "name": "stderr",
          "text": [
            "[I 2024-05-11 03:17:56,296] Trial 84 finished with value: 0.9634237313173412 and parameters: {'max_depth': 10, 'min_samples_split': 7, 'min_samples_leaf': 10, 'criterion': 'gini'}. Best is trial 71 with value: 0.9647682244596147.\n"
          ]
        },
        {
          "output_type": "stream",
          "name": "stdout",
          "text": [
            "Trial 84, max_depth: 10, min_samples_split: 7, min_samples_leaf: 10, criterion: gini, ROC-AUC: 0.9634237313173412\n"
          ]
        },
        {
          "output_type": "stream",
          "name": "stderr",
          "text": [
            "[I 2024-05-11 03:17:56,575] Trial 85 finished with value: 0.9611280095737591 and parameters: {'max_depth': 9, 'min_samples_split': 6, 'min_samples_leaf': 10, 'criterion': 'gini'}. Best is trial 71 with value: 0.9647682244596147.\n"
          ]
        },
        {
          "output_type": "stream",
          "name": "stdout",
          "text": [
            "Trial 85, max_depth: 9, min_samples_split: 6, min_samples_leaf: 10, criterion: gini, ROC-AUC: 0.9611280095737591\n"
          ]
        },
        {
          "output_type": "stream",
          "name": "stderr",
          "text": [
            "[I 2024-05-11 03:17:56,852] Trial 86 finished with value: 0.9617320268153573 and parameters: {'max_depth': 9, 'min_samples_split': 7, 'min_samples_leaf': 9, 'criterion': 'gini'}. Best is trial 71 with value: 0.9647682244596147.\n"
          ]
        },
        {
          "output_type": "stream",
          "name": "stdout",
          "text": [
            "Trial 86, max_depth: 9, min_samples_split: 7, min_samples_leaf: 9, criterion: gini, ROC-AUC: 0.9617320268153573\n"
          ]
        },
        {
          "output_type": "stream",
          "name": "stderr",
          "text": [
            "[I 2024-05-11 03:17:57,136] Trial 87 finished with value: 0.9635497522017353 and parameters: {'max_depth': 10, 'min_samples_split': 5, 'min_samples_leaf': 10, 'criterion': 'gini'}. Best is trial 71 with value: 0.9647682244596147.\n"
          ]
        },
        {
          "output_type": "stream",
          "name": "stdout",
          "text": [
            "Trial 87, max_depth: 10, min_samples_split: 5, min_samples_leaf: 10, criterion: gini, ROC-AUC: 0.9635497522017353\n"
          ]
        },
        {
          "output_type": "stream",
          "name": "stderr",
          "text": [
            "[I 2024-05-11 03:17:57,378] Trial 88 finished with value: 0.902506588434626 and parameters: {'max_depth': 5, 'min_samples_split': 6, 'min_samples_leaf': 5, 'criterion': 'gini'}. Best is trial 71 with value: 0.9647682244596147.\n"
          ]
        },
        {
          "output_type": "stream",
          "name": "stdout",
          "text": [
            "Trial 88, max_depth: 5, min_samples_split: 6, min_samples_leaf: 5, criterion: gini, ROC-AUC: 0.902506588434626\n"
          ]
        },
        {
          "output_type": "stream",
          "name": "stderr",
          "text": [
            "[I 2024-05-11 03:17:57,700] Trial 89 finished with value: 0.9625694478659159 and parameters: {'max_depth': 10, 'min_samples_split': 6, 'min_samples_leaf': 6, 'criterion': 'entropy'}. Best is trial 71 with value: 0.9647682244596147.\n",
            "[I 2024-05-11 03:17:57,847] Trial 90 finished with value: 0.6542278948213017 and parameters: {'max_depth': 1, 'min_samples_split': 5, 'min_samples_leaf': 9, 'criterion': 'gini'}. Best is trial 71 with value: 0.9647682244596147.\n"
          ]
        },
        {
          "output_type": "stream",
          "name": "stdout",
          "text": [
            "Trial 89, max_depth: 10, min_samples_split: 6, min_samples_leaf: 6, criterion: entropy, ROC-AUC: 0.9625694478659159\n",
            "Trial 90, max_depth: 1, min_samples_split: 5, min_samples_leaf: 9, criterion: gini, ROC-AUC: 0.6542278948213017\n"
          ]
        },
        {
          "output_type": "stream",
          "name": "stderr",
          "text": [
            "[I 2024-05-11 03:17:58,127] Trial 91 finished with value: 0.9627074651855345 and parameters: {'max_depth': 10, 'min_samples_split': 6, 'min_samples_leaf': 10, 'criterion': 'gini'}. Best is trial 71 with value: 0.9647682244596147.\n"
          ]
        },
        {
          "output_type": "stream",
          "name": "stdout",
          "text": [
            "Trial 91, max_depth: 10, min_samples_split: 6, min_samples_leaf: 10, criterion: gini, ROC-AUC: 0.9627074651855345\n"
          ]
        },
        {
          "output_type": "stream",
          "name": "stderr",
          "text": [
            "[I 2024-05-11 03:17:58,413] Trial 92 finished with value: 0.9638177265051727 and parameters: {'max_depth': 10, 'min_samples_split': 6, 'min_samples_leaf': 10, 'criterion': 'gini'}. Best is trial 71 with value: 0.9647682244596147.\n"
          ]
        },
        {
          "output_type": "stream",
          "name": "stdout",
          "text": [
            "Trial 92, max_depth: 10, min_samples_split: 6, min_samples_leaf: 10, criterion: gini, ROC-AUC: 0.9638177265051727\n"
          ]
        },
        {
          "output_type": "stream",
          "name": "stderr",
          "text": [
            "[I 2024-05-11 03:17:58,696] Trial 93 finished with value: 0.9636394288797575 and parameters: {'max_depth': 10, 'min_samples_split': 7, 'min_samples_leaf': 10, 'criterion': 'gini'}. Best is trial 71 with value: 0.9647682244596147.\n"
          ]
        },
        {
          "output_type": "stream",
          "name": "stdout",
          "text": [
            "Trial 93, max_depth: 10, min_samples_split: 7, min_samples_leaf: 10, criterion: gini, ROC-AUC: 0.9636394288797575\n"
          ]
        },
        {
          "output_type": "stream",
          "name": "stderr",
          "text": [
            "[I 2024-05-11 03:17:58,982] Trial 94 finished with value: 0.9629443982114821 and parameters: {'max_depth': 10, 'min_samples_split': 6, 'min_samples_leaf': 10, 'criterion': 'gini'}. Best is trial 71 with value: 0.9647682244596147.\n"
          ]
        },
        {
          "output_type": "stream",
          "name": "stdout",
          "text": [
            "Trial 94, max_depth: 10, min_samples_split: 6, min_samples_leaf: 10, criterion: gini, ROC-AUC: 0.9629443982114821\n"
          ]
        },
        {
          "output_type": "stream",
          "name": "stderr",
          "text": [
            "[I 2024-05-11 03:17:59,261] Trial 95 finished with value: 0.9610519310017734 and parameters: {'max_depth': 9, 'min_samples_split': 10, 'min_samples_leaf': 10, 'criterion': 'gini'}. Best is trial 71 with value: 0.9647682244596147.\n"
          ]
        },
        {
          "output_type": "stream",
          "name": "stdout",
          "text": [
            "Trial 95, max_depth: 9, min_samples_split: 10, min_samples_leaf: 10, criterion: gini, ROC-AUC: 0.9610519310017734\n"
          ]
        },
        {
          "output_type": "stream",
          "name": "stderr",
          "text": [
            "[I 2024-05-11 03:17:59,554] Trial 96 finished with value: 0.9605900030705641 and parameters: {'max_depth': 10, 'min_samples_split': 9, 'min_samples_leaf': 4, 'criterion': 'gini'}. Best is trial 71 with value: 0.9647682244596147.\n"
          ]
        },
        {
          "output_type": "stream",
          "name": "stdout",
          "text": [
            "Trial 96, max_depth: 10, min_samples_split: 9, min_samples_leaf: 4, criterion: gini, ROC-AUC: 0.9605900030705641\n"
          ]
        },
        {
          "output_type": "stream",
          "name": "stderr",
          "text": [
            "[I 2024-05-11 03:17:59,825] Trial 97 finished with value: 0.96138304834042 and parameters: {'max_depth': 9, 'min_samples_split': 6, 'min_samples_leaf': 9, 'criterion': 'gini'}. Best is trial 71 with value: 0.9647682244596147.\n"
          ]
        },
        {
          "output_type": "stream",
          "name": "stdout",
          "text": [
            "Trial 97, max_depth: 9, min_samples_split: 6, min_samples_leaf: 9, criterion: gini, ROC-AUC: 0.96138304834042\n"
          ]
        },
        {
          "output_type": "stream",
          "name": "stderr",
          "text": [
            "[I 2024-05-11 03:18:00,104] Trial 98 finished with value: 0.9636035366770267 and parameters: {'max_depth': 10, 'min_samples_split': 8, 'min_samples_leaf': 10, 'criterion': 'gini'}. Best is trial 71 with value: 0.9647682244596147.\n"
          ]
        },
        {
          "output_type": "stream",
          "name": "stdout",
          "text": [
            "Trial 98, max_depth: 10, min_samples_split: 8, min_samples_leaf: 10, criterion: gini, ROC-AUC: 0.9636035366770267\n"
          ]
        },
        {
          "output_type": "stream",
          "name": "stderr",
          "text": [
            "[I 2024-05-11 03:18:00,380] Trial 99 finished with value: 0.9611161229070782 and parameters: {'max_depth': 9, 'min_samples_split': 5, 'min_samples_leaf': 10, 'criterion': 'gini'}. Best is trial 71 with value: 0.9647682244596147.\n"
          ]
        },
        {
          "output_type": "stream",
          "name": "stdout",
          "text": [
            "Trial 99, max_depth: 9, min_samples_split: 5, min_samples_leaf: 10, criterion: gini, ROC-AUC: 0.9611161229070782\n",
            "Best Parameters:  {'max_depth': 10, 'min_samples_split': 7, 'min_samples_leaf': 10, 'criterion': 'gini'}\n",
            "Best ROC-AUC Score:  0.9647682244596147\n"
          ]
        }
      ]
    },
    {
      "cell_type": "code",
      "source": [
        "# KNN\n",
        "def objective_function(trial):\n",
        "    n_neighbors = trial.suggest_int('n_neighbors', 1, 10)\n",
        "    weights = trial.suggest_categorical('weights', ['uniform', 'distance'])\n",
        "    p = trial.suggest_int('p', 1, 5)\n",
        "    metric = trial.suggest_categorical('metric', ['euclidean', 'manhattan', 'minkowski'])\n",
        "\n",
        "    model = KNeighborsClassifier(\n",
        "        n_neighbors=n_neighbors,\n",
        "        weights=weights,\n",
        "        p=p,\n",
        "        metric=metric\n",
        "    )\n",
        "    metrics = ['roc_auc','accuracy','precison','recall','f1-score']\n",
        "    # Using cross_val_score to get the average precision score for each fold\n",
        "    scores = cross_val_score(model, X_train_oversampled, y_train_oversampled, cv=5, scoring='roc_auc')\n",
        "    roc_auc = np.mean(scores)\n",
        "    # Printing intermediate results\n",
        "    print(f\"Trial {trial.number}, n_neighbors: {n_neighbors}, weights: {weights}, p: {p}, metric: {metric}, \"\n",
        "          f\"ROC-AUC: {roc_auc}\")\n",
        "    return roc_auc\n",
        "\n",
        "\n",
        "study_knn = optuna.create_study(direction=\"maximize\")\n",
        "study_knn.optimize(objective_function, n_trials=100)\n",
        "\n",
        "best_params_knn = study_knn.best_params\n",
        "print(\"Best Parameters: \", best_params_knn)\n",
        "print(\"Best ROC-AUC Score: \", study_knn.best_value)\n",
        "\n",
        "# Create and save model\n",
        "best_model_knn = KNeighborsClassifier(**best_params_knn)\n",
        "with open('best_models_knn_8_features.pkl', 'wb') as file:\n",
        "    pickle.dump(best_model_knn, file)"
      ],
      "metadata": {
        "colab": {
          "base_uri": "https://localhost:8080/"
        },
        "id": "j6TM7v9Cpy2s",
        "outputId": "8b901e7c-9d86-49ca-96fe-1a643663c74c"
      },
      "execution_count": 18,
      "outputs": [
        {
          "output_type": "stream",
          "name": "stderr",
          "text": [
            "[I 2024-05-11 03:19:24,019] A new study created in memory with name: no-name-750593a6-6824-4293-8b69-9fd890bc820b\n",
            "[I 2024-05-11 03:19:24,585] Trial 0 finished with value: 0.925883568432222 and parameters: {'n_neighbors': 8, 'weights': 'distance', 'p': 5, 'metric': 'minkowski'}. Best is trial 0 with value: 0.925883568432222.\n"
          ]
        },
        {
          "output_type": "stream",
          "name": "stdout",
          "text": [
            "Trial 0, n_neighbors: 8, weights: distance, p: 5, metric: minkowski, ROC-AUC: 0.925883568432222\n"
          ]
        },
        {
          "output_type": "stream",
          "name": "stderr",
          "text": [
            "[I 2024-05-11 03:19:24,818] Trial 1 finished with value: 0.9472897043692482 and parameters: {'n_neighbors': 7, 'weights': 'distance', 'p': 5, 'metric': 'manhattan'}. Best is trial 1 with value: 0.9472897043692482.\n"
          ]
        },
        {
          "output_type": "stream",
          "name": "stdout",
          "text": [
            "Trial 1, n_neighbors: 7, weights: distance, p: 5, metric: manhattan, ROC-AUC: 0.9472897043692482\n"
          ]
        },
        {
          "output_type": "stream",
          "name": "stderr",
          "text": [
            "[I 2024-05-11 03:19:25,076] Trial 2 finished with value: 0.9479818187828585 and parameters: {'n_neighbors': 9, 'weights': 'distance', 'p': 4, 'metric': 'manhattan'}. Best is trial 2 with value: 0.9479818187828585.\n"
          ]
        },
        {
          "output_type": "stream",
          "name": "stdout",
          "text": [
            "Trial 2, n_neighbors: 9, weights: distance, p: 4, metric: manhattan, ROC-AUC: 0.9479818187828585\n"
          ]
        },
        {
          "output_type": "stream",
          "name": "stderr",
          "text": [
            "[I 2024-05-11 03:19:25,306] Trial 3 finished with value: 0.9414991197618294 and parameters: {'n_neighbors': 4, 'weights': 'distance', 'p': 1, 'metric': 'minkowski'}. Best is trial 2 with value: 0.9479818187828585.\n",
            "[I 2024-05-11 03:19:25,500] Trial 4 finished with value: 0.9074294242095281 and parameters: {'n_neighbors': 2, 'weights': 'uniform', 'p': 2, 'metric': 'euclidean'}. Best is trial 2 with value: 0.9479818187828585.\n"
          ]
        },
        {
          "output_type": "stream",
          "name": "stdout",
          "text": [
            "Trial 3, n_neighbors: 4, weights: distance, p: 1, metric: minkowski, ROC-AUC: 0.9414991197618294\n",
            "Trial 4, n_neighbors: 2, weights: uniform, p: 2, metric: euclidean, ROC-AUC: 0.9074294242095281\n"
          ]
        },
        {
          "output_type": "stream",
          "name": "stderr",
          "text": [
            "[I 2024-05-11 03:19:25,715] Trial 5 finished with value: 0.923686948948719 and parameters: {'n_neighbors': 8, 'weights': 'uniform', 'p': 5, 'metric': 'euclidean'}. Best is trial 2 with value: 0.9479818187828585.\n"
          ]
        },
        {
          "output_type": "stream",
          "name": "stdout",
          "text": [
            "Trial 5, n_neighbors: 8, weights: uniform, p: 5, metric: euclidean, ROC-AUC: 0.923686948948719\n"
          ]
        },
        {
          "output_type": "stream",
          "name": "stderr",
          "text": [
            "[I 2024-05-11 03:19:25,928] Trial 6 finished with value: 0.9250031310421514 and parameters: {'n_neighbors': 6, 'weights': 'uniform', 'p': 1, 'metric': 'euclidean'}. Best is trial 2 with value: 0.9479818187828585.\n"
          ]
        },
        {
          "output_type": "stream",
          "name": "stdout",
          "text": [
            "Trial 6, n_neighbors: 6, weights: uniform, p: 1, metric: euclidean, ROC-AUC: 0.9250031310421514\n"
          ]
        },
        {
          "output_type": "stream",
          "name": "stderr",
          "text": [
            "[I 2024-05-11 03:19:26,377] Trial 7 finished with value: 0.9036037902001428 and parameters: {'n_neighbors': 2, 'weights': 'distance', 'p': 4, 'metric': 'minkowski'}. Best is trial 2 with value: 0.9479818187828585.\n"
          ]
        },
        {
          "output_type": "stream",
          "name": "stdout",
          "text": [
            "Trial 7, n_neighbors: 2, weights: distance, p: 4, metric: minkowski, ROC-AUC: 0.9036037902001428\n"
          ]
        },
        {
          "output_type": "stream",
          "name": "stderr",
          "text": [
            "[I 2024-05-11 03:19:26,598] Trial 8 finished with value: 0.934080327532868 and parameters: {'n_neighbors': 9, 'weights': 'distance', 'p': 3, 'metric': 'euclidean'}. Best is trial 2 with value: 0.9479818187828585.\n"
          ]
        },
        {
          "output_type": "stream",
          "name": "stdout",
          "text": [
            "Trial 8, n_neighbors: 9, weights: distance, p: 3, metric: euclidean, ROC-AUC: 0.934080327532868\n"
          ]
        },
        {
          "output_type": "stream",
          "name": "stderr",
          "text": [
            "[I 2024-05-11 03:19:26,804] Trial 9 finished with value: 0.9240271089988548 and parameters: {'n_neighbors': 2, 'weights': 'distance', 'p': 1, 'metric': 'minkowski'}. Best is trial 2 with value: 0.9479818187828585.\n"
          ]
        },
        {
          "output_type": "stream",
          "name": "stdout",
          "text": [
            "Trial 9, n_neighbors: 2, weights: distance, p: 1, metric: minkowski, ROC-AUC: 0.9240271089988548\n"
          ]
        },
        {
          "output_type": "stream",
          "name": "stderr",
          "text": [
            "[I 2024-05-11 03:19:27,064] Trial 10 finished with value: 0.939503659841554 and parameters: {'n_neighbors': 10, 'weights': 'uniform', 'p': 3, 'metric': 'manhattan'}. Best is trial 2 with value: 0.9479818187828585.\n"
          ]
        },
        {
          "output_type": "stream",
          "name": "stdout",
          "text": [
            "Trial 10, n_neighbors: 10, weights: uniform, p: 3, metric: manhattan, ROC-AUC: 0.939503659841554\n"
          ]
        },
        {
          "output_type": "stream",
          "name": "stderr",
          "text": [
            "[I 2024-05-11 03:19:27,323] Trial 11 finished with value: 0.9462745706857278 and parameters: {'n_neighbors': 6, 'weights': 'distance', 'p': 4, 'metric': 'manhattan'}. Best is trial 2 with value: 0.9479818187828585.\n"
          ]
        },
        {
          "output_type": "stream",
          "name": "stdout",
          "text": [
            "Trial 11, n_neighbors: 6, weights: distance, p: 4, metric: manhattan, ROC-AUC: 0.9462745706857278\n"
          ]
        },
        {
          "output_type": "stream",
          "name": "stderr",
          "text": [
            "[I 2024-05-11 03:19:27,563] Trial 12 finished with value: 0.9472897043692482 and parameters: {'n_neighbors': 7, 'weights': 'distance', 'p': 4, 'metric': 'manhattan'}. Best is trial 2 with value: 0.9479818187828585.\n"
          ]
        },
        {
          "output_type": "stream",
          "name": "stdout",
          "text": [
            "Trial 12, n_neighbors: 7, weights: distance, p: 4, metric: manhattan, ROC-AUC: 0.9472897043692482\n"
          ]
        },
        {
          "output_type": "stream",
          "name": "stderr",
          "text": [
            "[I 2024-05-11 03:19:27,953] Trial 13 finished with value: 0.9482379985090897 and parameters: {'n_neighbors': 10, 'weights': 'distance', 'p': 5, 'metric': 'manhattan'}. Best is trial 13 with value: 0.9482379985090897.\n"
          ]
        },
        {
          "output_type": "stream",
          "name": "stdout",
          "text": [
            "Trial 13, n_neighbors: 10, weights: distance, p: 5, metric: manhattan, ROC-AUC: 0.9482379985090897\n"
          ]
        },
        {
          "output_type": "stream",
          "name": "stderr",
          "text": [
            "[I 2024-05-11 03:19:28,224] Trial 14 finished with value: 0.9482379985090897 and parameters: {'n_neighbors': 10, 'weights': 'distance', 'p': 4, 'metric': 'manhattan'}. Best is trial 13 with value: 0.9482379985090897.\n"
          ]
        },
        {
          "output_type": "stream",
          "name": "stdout",
          "text": [
            "Trial 14, n_neighbors: 10, weights: distance, p: 4, metric: manhattan, ROC-AUC: 0.9482379985090897\n"
          ]
        },
        {
          "output_type": "stream",
          "name": "stderr",
          "text": [
            "[I 2024-05-11 03:19:28,486] Trial 15 finished with value: 0.9482379985090897 and parameters: {'n_neighbors': 10, 'weights': 'distance', 'p': 5, 'metric': 'manhattan'}. Best is trial 13 with value: 0.9482379985090897.\n"
          ]
        },
        {
          "output_type": "stream",
          "name": "stdout",
          "text": [
            "Trial 15, n_neighbors: 10, weights: distance, p: 5, metric: manhattan, ROC-AUC: 0.9482379985090897\n"
          ]
        },
        {
          "output_type": "stream",
          "name": "stderr",
          "text": [
            "[I 2024-05-11 03:19:28,723] Trial 16 finished with value: 0.9414991197618294 and parameters: {'n_neighbors': 4, 'weights': 'distance', 'p': 4, 'metric': 'manhattan'}. Best is trial 13 with value: 0.9482379985090897.\n"
          ]
        },
        {
          "output_type": "stream",
          "name": "stdout",
          "text": [
            "Trial 16, n_neighbors: 4, weights: distance, p: 4, metric: manhattan, ROC-AUC: 0.9414991197618294\n"
          ]
        },
        {
          "output_type": "stream",
          "name": "stderr",
          "text": [
            "[I 2024-05-11 03:19:28,983] Trial 17 finished with value: 0.9482379985090897 and parameters: {'n_neighbors': 10, 'weights': 'distance', 'p': 3, 'metric': 'manhattan'}. Best is trial 13 with value: 0.9482379985090897.\n"
          ]
        },
        {
          "output_type": "stream",
          "name": "stdout",
          "text": [
            "Trial 17, n_neighbors: 10, weights: distance, p: 3, metric: manhattan, ROC-AUC: 0.9482379985090897\n"
          ]
        },
        {
          "output_type": "stream",
          "name": "stderr",
          "text": [
            "[I 2024-05-11 03:19:29,243] Trial 18 finished with value: 0.9363162568204789 and parameters: {'n_neighbors': 4, 'weights': 'uniform', 'p': 2, 'metric': 'manhattan'}. Best is trial 13 with value: 0.9482379985090897.\n"
          ]
        },
        {
          "output_type": "stream",
          "name": "stdout",
          "text": [
            "Trial 18, n_neighbors: 4, weights: uniform, p: 2, metric: manhattan, ROC-AUC: 0.9363162568204789\n"
          ]
        },
        {
          "output_type": "stream",
          "name": "stderr",
          "text": [
            "[I 2024-05-11 03:19:29,658] Trial 19 finished with value: 0.9479818187828585 and parameters: {'n_neighbors': 9, 'weights': 'distance', 'p': 5, 'metric': 'manhattan'}. Best is trial 13 with value: 0.9482379985090897.\n"
          ]
        },
        {
          "output_type": "stream",
          "name": "stdout",
          "text": [
            "Trial 19, n_neighbors: 9, weights: distance, p: 5, metric: manhattan, ROC-AUC: 0.9479818187828585\n"
          ]
        },
        {
          "output_type": "stream",
          "name": "stderr",
          "text": [
            "[I 2024-05-11 03:19:30,060] Trial 20 finished with value: 0.9474685125767097 and parameters: {'n_neighbors': 8, 'weights': 'distance', 'p': 4, 'metric': 'manhattan'}. Best is trial 13 with value: 0.9482379985090897.\n"
          ]
        },
        {
          "output_type": "stream",
          "name": "stdout",
          "text": [
            "Trial 20, n_neighbors: 8, weights: distance, p: 4, metric: manhattan, ROC-AUC: 0.9474685125767097\n"
          ]
        },
        {
          "output_type": "stream",
          "name": "stderr",
          "text": [
            "[I 2024-05-11 03:19:30,504] Trial 21 finished with value: 0.9482379985090897 and parameters: {'n_neighbors': 10, 'weights': 'distance', 'p': 5, 'metric': 'manhattan'}. Best is trial 13 with value: 0.9482379985090897.\n"
          ]
        },
        {
          "output_type": "stream",
          "name": "stdout",
          "text": [
            "Trial 21, n_neighbors: 10, weights: distance, p: 5, metric: manhattan, ROC-AUC: 0.9482379985090897\n"
          ]
        },
        {
          "output_type": "stream",
          "name": "stderr",
          "text": [
            "[I 2024-05-11 03:19:30,932] Trial 22 finished with value: 0.9482379985090897 and parameters: {'n_neighbors': 10, 'weights': 'distance', 'p': 5, 'metric': 'manhattan'}. Best is trial 13 with value: 0.9482379985090897.\n"
          ]
        },
        {
          "output_type": "stream",
          "name": "stdout",
          "text": [
            "Trial 22, n_neighbors: 10, weights: distance, p: 5, metric: manhattan, ROC-AUC: 0.9482379985090897\n"
          ]
        },
        {
          "output_type": "stream",
          "name": "stderr",
          "text": [
            "[I 2024-05-11 03:19:31,363] Trial 23 finished with value: 0.9479818187828585 and parameters: {'n_neighbors': 9, 'weights': 'distance', 'p': 5, 'metric': 'manhattan'}. Best is trial 13 with value: 0.9482379985090897.\n"
          ]
        },
        {
          "output_type": "stream",
          "name": "stdout",
          "text": [
            "Trial 23, n_neighbors: 9, weights: distance, p: 5, metric: manhattan, ROC-AUC: 0.9479818187828585\n"
          ]
        },
        {
          "output_type": "stream",
          "name": "stderr",
          "text": [
            "[I 2024-05-11 03:19:31,805] Trial 24 finished with value: 0.9482379985090897 and parameters: {'n_neighbors': 10, 'weights': 'distance', 'p': 4, 'metric': 'manhattan'}. Best is trial 13 with value: 0.9482379985090897.\n"
          ]
        },
        {
          "output_type": "stream",
          "name": "stdout",
          "text": [
            "Trial 24, n_neighbors: 10, weights: distance, p: 4, metric: manhattan, ROC-AUC: 0.9482379985090897\n"
          ]
        },
        {
          "output_type": "stream",
          "name": "stderr",
          "text": [
            "[I 2024-05-11 03:19:32,240] Trial 25 finished with value: 0.9474685125767097 and parameters: {'n_neighbors': 8, 'weights': 'distance', 'p': 5, 'metric': 'manhattan'}. Best is trial 13 with value: 0.9482379985090897.\n"
          ]
        },
        {
          "output_type": "stream",
          "name": "stdout",
          "text": [
            "Trial 25, n_neighbors: 8, weights: distance, p: 5, metric: manhattan, ROC-AUC: 0.9474685125767097\n"
          ]
        },
        {
          "output_type": "stream",
          "name": "stderr",
          "text": [
            "[I 2024-05-11 03:19:32,669] Trial 26 finished with value: 0.9398713633523279 and parameters: {'n_neighbors': 7, 'weights': 'uniform', 'p': 4, 'metric': 'manhattan'}. Best is trial 13 with value: 0.9482379985090897.\n"
          ]
        },
        {
          "output_type": "stream",
          "name": "stdout",
          "text": [
            "Trial 26, n_neighbors: 7, weights: uniform, p: 4, metric: manhattan, ROC-AUC: 0.9398713633523279\n"
          ]
        },
        {
          "output_type": "stream",
          "name": "stderr",
          "text": [
            "[I 2024-05-11 03:19:33,022] Trial 27 finished with value: 0.9479818187828585 and parameters: {'n_neighbors': 9, 'weights': 'distance', 'p': 5, 'metric': 'manhattan'}. Best is trial 13 with value: 0.9482379985090897.\n"
          ]
        },
        {
          "output_type": "stream",
          "name": "stdout",
          "text": [
            "Trial 27, n_neighbors: 9, weights: distance, p: 5, metric: manhattan, ROC-AUC: 0.9479818187828585\n"
          ]
        },
        {
          "output_type": "stream",
          "name": "stderr",
          "text": [
            "[I 2024-05-11 03:19:33,449] Trial 28 finished with value: 0.863879782673483 and parameters: {'n_neighbors': 1, 'weights': 'distance', 'p': 4, 'metric': 'minkowski'}. Best is trial 13 with value: 0.9482379985090897.\n"
          ]
        },
        {
          "output_type": "stream",
          "name": "stdout",
          "text": [
            "Trial 28, n_neighbors: 1, weights: distance, p: 4, metric: minkowski, ROC-AUC: 0.863879782673483\n"
          ]
        },
        {
          "output_type": "stream",
          "name": "stderr",
          "text": [
            "[I 2024-05-11 03:19:33,671] Trial 29 finished with value: 0.9342073128500165 and parameters: {'n_neighbors': 8, 'weights': 'distance', 'p': 5, 'metric': 'euclidean'}. Best is trial 13 with value: 0.9482379985090897.\n"
          ]
        },
        {
          "output_type": "stream",
          "name": "stdout",
          "text": [
            "Trial 29, n_neighbors: 8, weights: distance, p: 5, metric: euclidean, ROC-AUC: 0.9342073128500165\n"
          ]
        },
        {
          "output_type": "stream",
          "name": "stderr",
          "text": [
            "[I 2024-05-11 03:19:34,197] Trial 30 finished with value: 0.9272838427290351 and parameters: {'n_neighbors': 5, 'weights': 'distance', 'p': 3, 'metric': 'minkowski'}. Best is trial 13 with value: 0.9482379985090897.\n"
          ]
        },
        {
          "output_type": "stream",
          "name": "stdout",
          "text": [
            "Trial 30, n_neighbors: 5, weights: distance, p: 3, metric: minkowski, ROC-AUC: 0.9272838427290351\n"
          ]
        },
        {
          "output_type": "stream",
          "name": "stderr",
          "text": [
            "[I 2024-05-11 03:19:34,467] Trial 31 finished with value: 0.9482379985090897 and parameters: {'n_neighbors': 10, 'weights': 'distance', 'p': 2, 'metric': 'manhattan'}. Best is trial 13 with value: 0.9482379985090897.\n"
          ]
        },
        {
          "output_type": "stream",
          "name": "stdout",
          "text": [
            "Trial 31, n_neighbors: 10, weights: distance, p: 2, metric: manhattan, ROC-AUC: 0.9482379985090897\n"
          ]
        },
        {
          "output_type": "stream",
          "name": "stderr",
          "text": [
            "[I 2024-05-11 03:19:34,724] Trial 32 finished with value: 0.9482379985090897 and parameters: {'n_neighbors': 10, 'weights': 'distance', 'p': 3, 'metric': 'manhattan'}. Best is trial 13 with value: 0.9482379985090897.\n"
          ]
        },
        {
          "output_type": "stream",
          "name": "stdout",
          "text": [
            "Trial 32, n_neighbors: 10, weights: distance, p: 3, metric: manhattan, ROC-AUC: 0.9482379985090897\n"
          ]
        },
        {
          "output_type": "stream",
          "name": "stderr",
          "text": [
            "[I 2024-05-11 03:19:34,982] Trial 33 finished with value: 0.9479818187828585 and parameters: {'n_neighbors': 9, 'weights': 'distance', 'p': 3, 'metric': 'manhattan'}. Best is trial 13 with value: 0.9482379985090897.\n"
          ]
        },
        {
          "output_type": "stream",
          "name": "stdout",
          "text": [
            "Trial 33, n_neighbors: 9, weights: distance, p: 3, metric: manhattan, ROC-AUC: 0.9479818187828585\n"
          ]
        },
        {
          "output_type": "stream",
          "name": "stderr",
          "text": [
            "[I 2024-05-11 03:19:35,242] Trial 34 finished with value: 0.9479818187828585 and parameters: {'n_neighbors': 9, 'weights': 'distance', 'p': 5, 'metric': 'manhattan'}. Best is trial 13 with value: 0.9482379985090897.\n"
          ]
        },
        {
          "output_type": "stream",
          "name": "stdout",
          "text": [
            "Trial 34, n_neighbors: 9, weights: distance, p: 5, metric: manhattan, ROC-AUC: 0.9479818187828585\n"
          ]
        },
        {
          "output_type": "stream",
          "name": "stderr",
          "text": [
            "[I 2024-05-11 03:19:35,514] Trial 35 finished with value: 0.9482379985090897 and parameters: {'n_neighbors': 10, 'weights': 'distance', 'p': 2, 'metric': 'manhattan'}. Best is trial 13 with value: 0.9482379985090897.\n"
          ]
        },
        {
          "output_type": "stream",
          "name": "stdout",
          "text": [
            "Trial 35, n_neighbors: 10, weights: distance, p: 2, metric: manhattan, ROC-AUC: 0.9482379985090897\n"
          ]
        },
        {
          "output_type": "stream",
          "name": "stderr",
          "text": [
            "[I 2024-05-11 03:19:35,766] Trial 36 finished with value: 0.9474685125767097 and parameters: {'n_neighbors': 8, 'weights': 'distance', 'p': 3, 'metric': 'manhattan'}. Best is trial 13 with value: 0.9482379985090897.\n"
          ]
        },
        {
          "output_type": "stream",
          "name": "stdout",
          "text": [
            "Trial 36, n_neighbors: 8, weights: distance, p: 3, metric: manhattan, ROC-AUC: 0.9474685125767097\n"
          ]
        },
        {
          "output_type": "stream",
          "name": "stderr",
          "text": [
            "[I 2024-05-11 03:19:36,008] Trial 37 finished with value: 0.9230246250844848 and parameters: {'n_neighbors': 9, 'weights': 'uniform', 'p': 5, 'metric': 'euclidean'}. Best is trial 13 with value: 0.9482379985090897.\n"
          ]
        },
        {
          "output_type": "stream",
          "name": "stdout",
          "text": [
            "Trial 37, n_neighbors: 9, weights: uniform, p: 5, metric: euclidean, ROC-AUC: 0.9230246250844848\n"
          ]
        },
        {
          "output_type": "stream",
          "name": "stderr",
          "text": [
            "[I 2024-05-11 03:19:36,282] Trial 38 finished with value: 0.9482379985090897 and parameters: {'n_neighbors': 10, 'weights': 'distance', 'p': 4, 'metric': 'manhattan'}. Best is trial 13 with value: 0.9482379985090897.\n"
          ]
        },
        {
          "output_type": "stream",
          "name": "stdout",
          "text": [
            "Trial 38, n_neighbors: 10, weights: distance, p: 4, metric: manhattan, ROC-AUC: 0.9482379985090897\n"
          ]
        },
        {
          "output_type": "stream",
          "name": "stderr",
          "text": [
            "[I 2024-05-11 03:19:36,867] Trial 39 finished with value: 0.9272752390917193 and parameters: {'n_neighbors': 8, 'weights': 'distance', 'p': 4, 'metric': 'minkowski'}. Best is trial 13 with value: 0.9482379985090897.\n"
          ]
        },
        {
          "output_type": "stream",
          "name": "stdout",
          "text": [
            "Trial 39, n_neighbors: 8, weights: distance, p: 4, metric: minkowski, ROC-AUC: 0.9272752390917193\n"
          ]
        },
        {
          "output_type": "stream",
          "name": "stderr",
          "text": [
            "[I 2024-05-11 03:19:37,090] Trial 40 finished with value: 0.924409583503105 and parameters: {'n_neighbors': 7, 'weights': 'uniform', 'p': 5, 'metric': 'euclidean'}. Best is trial 13 with value: 0.9482379985090897.\n"
          ]
        },
        {
          "output_type": "stream",
          "name": "stdout",
          "text": [
            "Trial 40, n_neighbors: 7, weights: uniform, p: 5, metric: euclidean, ROC-AUC: 0.924409583503105\n"
          ]
        },
        {
          "output_type": "stream",
          "name": "stderr",
          "text": [
            "[I 2024-05-11 03:19:37,358] Trial 41 finished with value: 0.9482379985090897 and parameters: {'n_neighbors': 10, 'weights': 'distance', 'p': 5, 'metric': 'manhattan'}. Best is trial 13 with value: 0.9482379985090897.\n"
          ]
        },
        {
          "output_type": "stream",
          "name": "stdout",
          "text": [
            "Trial 41, n_neighbors: 10, weights: distance, p: 5, metric: manhattan, ROC-AUC: 0.9482379985090897\n"
          ]
        },
        {
          "output_type": "stream",
          "name": "stderr",
          "text": [
            "[I 2024-05-11 03:19:37,631] Trial 42 finished with value: 0.9482379985090897 and parameters: {'n_neighbors': 10, 'weights': 'distance', 'p': 5, 'metric': 'manhattan'}. Best is trial 13 with value: 0.9482379985090897.\n"
          ]
        },
        {
          "output_type": "stream",
          "name": "stdout",
          "text": [
            "Trial 42, n_neighbors: 10, weights: distance, p: 5, metric: manhattan, ROC-AUC: 0.9482379985090897\n"
          ]
        },
        {
          "output_type": "stream",
          "name": "stderr",
          "text": [
            "[I 2024-05-11 03:19:37,889] Trial 43 finished with value: 0.9479818187828585 and parameters: {'n_neighbors': 9, 'weights': 'distance', 'p': 5, 'metric': 'manhattan'}. Best is trial 13 with value: 0.9482379985090897.\n"
          ]
        },
        {
          "output_type": "stream",
          "name": "stdout",
          "text": [
            "Trial 43, n_neighbors: 9, weights: distance, p: 5, metric: manhattan, ROC-AUC: 0.9479818187828585\n"
          ]
        },
        {
          "output_type": "stream",
          "name": "stderr",
          "text": [
            "[I 2024-05-11 03:19:38,156] Trial 44 finished with value: 0.9482379985090897 and parameters: {'n_neighbors': 10, 'weights': 'distance', 'p': 4, 'metric': 'manhattan'}. Best is trial 13 with value: 0.9482379985090897.\n"
          ]
        },
        {
          "output_type": "stream",
          "name": "stdout",
          "text": [
            "Trial 44, n_neighbors: 10, weights: distance, p: 4, metric: manhattan, ROC-AUC: 0.9482379985090897\n"
          ]
        },
        {
          "output_type": "stream",
          "name": "stderr",
          "text": [
            "[I 2024-05-11 03:19:38,417] Trial 45 finished with value: 0.9479818187828585 and parameters: {'n_neighbors': 9, 'weights': 'distance', 'p': 3, 'metric': 'manhattan'}. Best is trial 13 with value: 0.9482379985090897.\n"
          ]
        },
        {
          "output_type": "stream",
          "name": "stdout",
          "text": [
            "Trial 45, n_neighbors: 9, weights: distance, p: 3, metric: manhattan, ROC-AUC: 0.9479818187828585\n"
          ]
        },
        {
          "output_type": "stream",
          "name": "stderr",
          "text": [
            "[I 2024-05-11 03:19:38,688] Trial 46 finished with value: 0.9482379985090897 and parameters: {'n_neighbors': 10, 'weights': 'distance', 'p': 5, 'metric': 'manhattan'}. Best is trial 13 with value: 0.9482379985090897.\n"
          ]
        },
        {
          "output_type": "stream",
          "name": "stdout",
          "text": [
            "Trial 46, n_neighbors: 10, weights: distance, p: 5, metric: manhattan, ROC-AUC: 0.9482379985090897\n"
          ]
        },
        {
          "output_type": "stream",
          "name": "stderr",
          "text": [
            "[I 2024-05-11 03:19:39,280] Trial 47 finished with value: 0.9151427700336774 and parameters: {'n_neighbors': 9, 'weights': 'uniform', 'p': 4, 'metric': 'minkowski'}. Best is trial 13 with value: 0.9482379985090897.\n"
          ]
        },
        {
          "output_type": "stream",
          "name": "stdout",
          "text": [
            "Trial 47, n_neighbors: 9, weights: uniform, p: 4, metric: minkowski, ROC-AUC: 0.9151427700336774\n"
          ]
        },
        {
          "output_type": "stream",
          "name": "stderr",
          "text": [
            "[I 2024-05-11 03:19:39,564] Trial 48 finished with value: 0.9482379985090897 and parameters: {'n_neighbors': 10, 'weights': 'distance', 'p': 2, 'metric': 'manhattan'}. Best is trial 13 with value: 0.9482379985090897.\n"
          ]
        },
        {
          "output_type": "stream",
          "name": "stdout",
          "text": [
            "Trial 48, n_neighbors: 10, weights: distance, p: 2, metric: manhattan, ROC-AUC: 0.9482379985090897\n"
          ]
        },
        {
          "output_type": "stream",
          "name": "stderr",
          "text": [
            "[I 2024-05-11 03:19:39,816] Trial 49 finished with value: 0.9462745706857278 and parameters: {'n_neighbors': 6, 'weights': 'distance', 'p': 5, 'metric': 'manhattan'}. Best is trial 13 with value: 0.9482379985090897.\n"
          ]
        },
        {
          "output_type": "stream",
          "name": "stdout",
          "text": [
            "Trial 49, n_neighbors: 6, weights: distance, p: 5, metric: manhattan, ROC-AUC: 0.9462745706857278\n"
          ]
        },
        {
          "output_type": "stream",
          "name": "stderr",
          "text": [
            "[I 2024-05-11 03:19:40,048] Trial 50 finished with value: 0.934080327532868 and parameters: {'n_neighbors': 9, 'weights': 'distance', 'p': 4, 'metric': 'euclidean'}. Best is trial 13 with value: 0.9482379985090897.\n"
          ]
        },
        {
          "output_type": "stream",
          "name": "stdout",
          "text": [
            "Trial 50, n_neighbors: 9, weights: distance, p: 4, metric: euclidean, ROC-AUC: 0.934080327532868\n"
          ]
        },
        {
          "output_type": "stream",
          "name": "stderr",
          "text": [
            "[I 2024-05-11 03:19:40,310] Trial 51 finished with value: 0.9482379985090897 and parameters: {'n_neighbors': 10, 'weights': 'distance', 'p': 5, 'metric': 'manhattan'}. Best is trial 13 with value: 0.9482379985090897.\n"
          ]
        },
        {
          "output_type": "stream",
          "name": "stdout",
          "text": [
            "Trial 51, n_neighbors: 10, weights: distance, p: 5, metric: manhattan, ROC-AUC: 0.9482379985090897\n"
          ]
        },
        {
          "output_type": "stream",
          "name": "stderr",
          "text": [
            "[I 2024-05-11 03:19:40,570] Trial 52 finished with value: 0.9482379985090897 and parameters: {'n_neighbors': 10, 'weights': 'distance', 'p': 5, 'metric': 'manhattan'}. Best is trial 13 with value: 0.9482379985090897.\n"
          ]
        },
        {
          "output_type": "stream",
          "name": "stdout",
          "text": [
            "Trial 52, n_neighbors: 10, weights: distance, p: 5, metric: manhattan, ROC-AUC: 0.9482379985090897\n"
          ]
        },
        {
          "output_type": "stream",
          "name": "stderr",
          "text": [
            "[I 2024-05-11 03:19:40,851] Trial 53 finished with value: 0.9482379985090897 and parameters: {'n_neighbors': 10, 'weights': 'distance', 'p': 5, 'metric': 'manhattan'}. Best is trial 13 with value: 0.9482379985090897.\n"
          ]
        },
        {
          "output_type": "stream",
          "name": "stdout",
          "text": [
            "Trial 53, n_neighbors: 10, weights: distance, p: 5, metric: manhattan, ROC-AUC: 0.9482379985090897\n"
          ]
        },
        {
          "output_type": "stream",
          "name": "stderr",
          "text": [
            "[I 2024-05-11 03:19:41,110] Trial 54 finished with value: 0.9479818187828585 and parameters: {'n_neighbors': 9, 'weights': 'distance', 'p': 5, 'metric': 'manhattan'}. Best is trial 13 with value: 0.9482379985090897.\n"
          ]
        },
        {
          "output_type": "stream",
          "name": "stdout",
          "text": [
            "Trial 54, n_neighbors: 9, weights: distance, p: 5, metric: manhattan, ROC-AUC: 0.9479818187828585\n"
          ]
        },
        {
          "output_type": "stream",
          "name": "stderr",
          "text": [
            "[I 2024-05-11 03:19:41,377] Trial 55 finished with value: 0.9482379985090897 and parameters: {'n_neighbors': 10, 'weights': 'distance', 'p': 3, 'metric': 'manhattan'}. Best is trial 13 with value: 0.9482379985090897.\n"
          ]
        },
        {
          "output_type": "stream",
          "name": "stdout",
          "text": [
            "Trial 55, n_neighbors: 10, weights: distance, p: 3, metric: manhattan, ROC-AUC: 0.9482379985090897\n"
          ]
        },
        {
          "output_type": "stream",
          "name": "stderr",
          "text": [
            "[I 2024-05-11 03:19:41,609] Trial 56 finished with value: 0.9356528249800105 and parameters: {'n_neighbors': 3, 'weights': 'distance', 'p': 4, 'metric': 'manhattan'}. Best is trial 13 with value: 0.9482379985090897.\n"
          ]
        },
        {
          "output_type": "stream",
          "name": "stdout",
          "text": [
            "Trial 56, n_neighbors: 3, weights: distance, p: 4, metric: manhattan, ROC-AUC: 0.9356528249800105\n"
          ]
        },
        {
          "output_type": "stream",
          "name": "stderr",
          "text": [
            "[I 2024-05-11 03:19:41,871] Trial 57 finished with value: 0.9396118583780607 and parameters: {'n_neighbors': 8, 'weights': 'uniform', 'p': 5, 'metric': 'manhattan'}. Best is trial 13 with value: 0.9482379985090897.\n"
          ]
        },
        {
          "output_type": "stream",
          "name": "stdout",
          "text": [
            "Trial 57, n_neighbors: 8, weights: uniform, p: 5, metric: manhattan, ROC-AUC: 0.9396118583780607\n"
          ]
        },
        {
          "output_type": "stream",
          "name": "stderr",
          "text": [
            "[I 2024-05-11 03:19:42,136] Trial 58 finished with value: 0.9479818187828585 and parameters: {'n_neighbors': 9, 'weights': 'distance', 'p': 5, 'metric': 'manhattan'}. Best is trial 13 with value: 0.9482379985090897.\n"
          ]
        },
        {
          "output_type": "stream",
          "name": "stdout",
          "text": [
            "Trial 58, n_neighbors: 9, weights: distance, p: 5, metric: manhattan, ROC-AUC: 0.9479818187828585\n"
          ]
        },
        {
          "output_type": "stream",
          "name": "stderr",
          "text": [
            "[I 2024-05-11 03:19:42,387] Trial 59 finished with value: 0.9472897043692482 and parameters: {'n_neighbors': 7, 'weights': 'distance', 'p': 5, 'metric': 'manhattan'}. Best is trial 13 with value: 0.9482379985090897.\n"
          ]
        },
        {
          "output_type": "stream",
          "name": "stdout",
          "text": [
            "Trial 59, n_neighbors: 7, weights: distance, p: 5, metric: manhattan, ROC-AUC: 0.9472897043692482\n"
          ]
        },
        {
          "output_type": "stream",
          "name": "stderr",
          "text": [
            "[I 2024-05-11 03:19:43,035] Trial 60 finished with value: 0.9268710546916278 and parameters: {'n_neighbors': 10, 'weights': 'distance', 'p': 4, 'metric': 'minkowski'}. Best is trial 13 with value: 0.9482379985090897.\n"
          ]
        },
        {
          "output_type": "stream",
          "name": "stdout",
          "text": [
            "Trial 60, n_neighbors: 10, weights: distance, p: 4, metric: minkowski, ROC-AUC: 0.9268710546916278\n"
          ]
        },
        {
          "output_type": "stream",
          "name": "stderr",
          "text": [
            "[I 2024-05-11 03:19:43,470] Trial 61 finished with value: 0.9482379985090897 and parameters: {'n_neighbors': 10, 'weights': 'distance', 'p': 4, 'metric': 'manhattan'}. Best is trial 13 with value: 0.9482379985090897.\n"
          ]
        },
        {
          "output_type": "stream",
          "name": "stdout",
          "text": [
            "Trial 61, n_neighbors: 10, weights: distance, p: 4, metric: manhattan, ROC-AUC: 0.9482379985090897\n"
          ]
        },
        {
          "output_type": "stream",
          "name": "stderr",
          "text": [
            "[I 2024-05-11 03:19:43,904] Trial 62 finished with value: 0.9482379985090897 and parameters: {'n_neighbors': 10, 'weights': 'distance', 'p': 1, 'metric': 'manhattan'}. Best is trial 13 with value: 0.9482379985090897.\n"
          ]
        },
        {
          "output_type": "stream",
          "name": "stdout",
          "text": [
            "Trial 62, n_neighbors: 10, weights: distance, p: 1, metric: manhattan, ROC-AUC: 0.9482379985090897\n"
          ]
        },
        {
          "output_type": "stream",
          "name": "stderr",
          "text": [
            "[I 2024-05-11 03:19:44,333] Trial 63 finished with value: 0.9479818187828585 and parameters: {'n_neighbors': 9, 'weights': 'distance', 'p': 3, 'metric': 'manhattan'}. Best is trial 13 with value: 0.9482379985090897.\n"
          ]
        },
        {
          "output_type": "stream",
          "name": "stdout",
          "text": [
            "Trial 63, n_neighbors: 9, weights: distance, p: 3, metric: manhattan, ROC-AUC: 0.9479818187828585\n"
          ]
        },
        {
          "output_type": "stream",
          "name": "stderr",
          "text": [
            "[I 2024-05-11 03:19:44,774] Trial 64 finished with value: 0.9482379985090897 and parameters: {'n_neighbors': 10, 'weights': 'distance', 'p': 3, 'metric': 'manhattan'}. Best is trial 13 with value: 0.9482379985090897.\n"
          ]
        },
        {
          "output_type": "stream",
          "name": "stdout",
          "text": [
            "Trial 64, n_neighbors: 10, weights: distance, p: 3, metric: manhattan, ROC-AUC: 0.9482379985090897\n"
          ]
        },
        {
          "output_type": "stream",
          "name": "stderr",
          "text": [
            "[I 2024-05-11 03:19:45,208] Trial 65 finished with value: 0.9479818187828585 and parameters: {'n_neighbors': 9, 'weights': 'distance', 'p': 5, 'metric': 'manhattan'}. Best is trial 13 with value: 0.9482379985090897.\n"
          ]
        },
        {
          "output_type": "stream",
          "name": "stdout",
          "text": [
            "Trial 65, n_neighbors: 9, weights: distance, p: 5, metric: manhattan, ROC-AUC: 0.9479818187828585\n"
          ]
        },
        {
          "output_type": "stream",
          "name": "stderr",
          "text": [
            "[I 2024-05-11 03:19:45,591] Trial 66 finished with value: 0.9342073128500165 and parameters: {'n_neighbors': 8, 'weights': 'distance', 'p': 4, 'metric': 'euclidean'}. Best is trial 13 with value: 0.9482379985090897.\n"
          ]
        },
        {
          "output_type": "stream",
          "name": "stdout",
          "text": [
            "Trial 66, n_neighbors: 8, weights: distance, p: 4, metric: euclidean, ROC-AUC: 0.9342073128500165\n"
          ]
        },
        {
          "output_type": "stream",
          "name": "stderr",
          "text": [
            "[I 2024-05-11 03:19:46,032] Trial 67 finished with value: 0.9482379985090897 and parameters: {'n_neighbors': 10, 'weights': 'distance', 'p': 5, 'metric': 'manhattan'}. Best is trial 13 with value: 0.9482379985090897.\n"
          ]
        },
        {
          "output_type": "stream",
          "name": "stdout",
          "text": [
            "Trial 67, n_neighbors: 10, weights: distance, p: 5, metric: manhattan, ROC-AUC: 0.9482379985090897\n"
          ]
        },
        {
          "output_type": "stream",
          "name": "stderr",
          "text": [
            "[I 2024-05-11 03:19:46,456] Trial 68 finished with value: 0.9398425620391754 and parameters: {'n_neighbors': 9, 'weights': 'uniform', 'p': 3, 'metric': 'manhattan'}. Best is trial 13 with value: 0.9482379985090897.\n"
          ]
        },
        {
          "output_type": "stream",
          "name": "stdout",
          "text": [
            "Trial 68, n_neighbors: 9, weights: uniform, p: 3, metric: manhattan, ROC-AUC: 0.9398425620391754\n"
          ]
        },
        {
          "output_type": "stream",
          "name": "stderr",
          "text": [
            "[I 2024-05-11 03:19:46,781] Trial 69 finished with value: 0.9444288569594713 and parameters: {'n_neighbors': 5, 'weights': 'distance', 'p': 4, 'metric': 'manhattan'}. Best is trial 13 with value: 0.9482379985090897.\n"
          ]
        },
        {
          "output_type": "stream",
          "name": "stdout",
          "text": [
            "Trial 69, n_neighbors: 5, weights: distance, p: 4, metric: manhattan, ROC-AUC: 0.9444288569594713\n"
          ]
        },
        {
          "output_type": "stream",
          "name": "stderr",
          "text": [
            "[I 2024-05-11 03:19:47,378] Trial 70 finished with value: 0.9251499842017736 and parameters: {'n_neighbors': 10, 'weights': 'distance', 'p': 5, 'metric': 'minkowski'}. Best is trial 13 with value: 0.9482379985090897.\n"
          ]
        },
        {
          "output_type": "stream",
          "name": "stdout",
          "text": [
            "Trial 70, n_neighbors: 10, weights: distance, p: 5, metric: minkowski, ROC-AUC: 0.9251499842017736\n"
          ]
        },
        {
          "output_type": "stream",
          "name": "stderr",
          "text": [
            "[I 2024-05-11 03:19:47,635] Trial 71 finished with value: 0.9482379985090897 and parameters: {'n_neighbors': 10, 'weights': 'distance', 'p': 2, 'metric': 'manhattan'}. Best is trial 13 with value: 0.9482379985090897.\n"
          ]
        },
        {
          "output_type": "stream",
          "name": "stdout",
          "text": [
            "Trial 71, n_neighbors: 10, weights: distance, p: 2, metric: manhattan, ROC-AUC: 0.9482379985090897\n"
          ]
        },
        {
          "output_type": "stream",
          "name": "stderr",
          "text": [
            "[I 2024-05-11 03:19:47,915] Trial 72 finished with value: 0.9482379985090897 and parameters: {'n_neighbors': 10, 'weights': 'distance', 'p': 2, 'metric': 'manhattan'}. Best is trial 13 with value: 0.9482379985090897.\n"
          ]
        },
        {
          "output_type": "stream",
          "name": "stdout",
          "text": [
            "Trial 72, n_neighbors: 10, weights: distance, p: 2, metric: manhattan, ROC-AUC: 0.9482379985090897\n"
          ]
        },
        {
          "output_type": "stream",
          "name": "stderr",
          "text": [
            "[I 2024-05-11 03:19:48,177] Trial 73 finished with value: 0.9479818187828585 and parameters: {'n_neighbors': 9, 'weights': 'distance', 'p': 2, 'metric': 'manhattan'}. Best is trial 13 with value: 0.9482379985090897.\n"
          ]
        },
        {
          "output_type": "stream",
          "name": "stdout",
          "text": [
            "Trial 73, n_neighbors: 9, weights: distance, p: 2, metric: manhattan, ROC-AUC: 0.9479818187828585\n"
          ]
        },
        {
          "output_type": "stream",
          "name": "stderr",
          "text": [
            "[I 2024-05-11 03:19:48,447] Trial 74 finished with value: 0.9482379985090897 and parameters: {'n_neighbors': 10, 'weights': 'distance', 'p': 1, 'metric': 'manhattan'}. Best is trial 13 with value: 0.9482379985090897.\n"
          ]
        },
        {
          "output_type": "stream",
          "name": "stdout",
          "text": [
            "Trial 74, n_neighbors: 10, weights: distance, p: 1, metric: manhattan, ROC-AUC: 0.9482379985090897\n"
          ]
        },
        {
          "output_type": "stream",
          "name": "stderr",
          "text": [
            "[I 2024-05-11 03:19:48,705] Trial 75 finished with value: 0.9479818187828585 and parameters: {'n_neighbors': 9, 'weights': 'distance', 'p': 5, 'metric': 'manhattan'}. Best is trial 13 with value: 0.9482379985090897.\n"
          ]
        },
        {
          "output_type": "stream",
          "name": "stdout",
          "text": [
            "Trial 75, n_neighbors: 9, weights: distance, p: 5, metric: manhattan, ROC-AUC: 0.9479818187828585\n"
          ]
        },
        {
          "output_type": "stream",
          "name": "stderr",
          "text": [
            "[I 2024-05-11 03:19:48,976] Trial 76 finished with value: 0.9482379985090897 and parameters: {'n_neighbors': 10, 'weights': 'distance', 'p': 2, 'metric': 'manhattan'}. Best is trial 13 with value: 0.9482379985090897.\n"
          ]
        },
        {
          "output_type": "stream",
          "name": "stdout",
          "text": [
            "Trial 76, n_neighbors: 10, weights: distance, p: 2, metric: manhattan, ROC-AUC: 0.9482379985090897\n"
          ]
        },
        {
          "output_type": "stream",
          "name": "stderr",
          "text": [
            "[I 2024-05-11 03:19:49,220] Trial 77 finished with value: 0.9356528249800105 and parameters: {'n_neighbors': 3, 'weights': 'distance', 'p': 4, 'metric': 'manhattan'}. Best is trial 13 with value: 0.9482379985090897.\n"
          ]
        },
        {
          "output_type": "stream",
          "name": "stdout",
          "text": [
            "Trial 77, n_neighbors: 3, weights: distance, p: 4, metric: manhattan, ROC-AUC: 0.9356528249800105\n"
          ]
        },
        {
          "output_type": "stream",
          "name": "stderr",
          "text": [
            "[I 2024-05-11 03:19:49,462] Trial 78 finished with value: 0.9334525556924426 and parameters: {'n_neighbors': 10, 'weights': 'distance', 'p': 5, 'metric': 'euclidean'}. Best is trial 13 with value: 0.9482379985090897.\n"
          ]
        },
        {
          "output_type": "stream",
          "name": "stdout",
          "text": [
            "Trial 78, n_neighbors: 10, weights: distance, p: 5, metric: euclidean, ROC-AUC: 0.9334525556924426\n"
          ]
        },
        {
          "output_type": "stream",
          "name": "stderr",
          "text": [
            "[I 2024-05-11 03:19:49,723] Trial 79 finished with value: 0.9396118583780607 and parameters: {'n_neighbors': 8, 'weights': 'uniform', 'p': 1, 'metric': 'manhattan'}. Best is trial 13 with value: 0.9482379985090897.\n"
          ]
        },
        {
          "output_type": "stream",
          "name": "stdout",
          "text": [
            "Trial 79, n_neighbors: 8, weights: uniform, p: 1, metric: manhattan, ROC-AUC: 0.9396118583780607\n"
          ]
        },
        {
          "output_type": "stream",
          "name": "stderr",
          "text": [
            "[I 2024-05-11 03:19:49,959] Trial 80 finished with value: 0.8853035235322435 and parameters: {'n_neighbors': 1, 'weights': 'distance', 'p': 3, 'metric': 'manhattan'}. Best is trial 13 with value: 0.9482379985090897.\n"
          ]
        },
        {
          "output_type": "stream",
          "name": "stdout",
          "text": [
            "Trial 80, n_neighbors: 1, weights: distance, p: 3, metric: manhattan, ROC-AUC: 0.8853035235322435\n"
          ]
        },
        {
          "output_type": "stream",
          "name": "stderr",
          "text": [
            "[I 2024-05-11 03:19:50,226] Trial 81 finished with value: 0.9482379985090897 and parameters: {'n_neighbors': 10, 'weights': 'distance', 'p': 3, 'metric': 'manhattan'}. Best is trial 13 with value: 0.9482379985090897.\n"
          ]
        },
        {
          "output_type": "stream",
          "name": "stdout",
          "text": [
            "Trial 81, n_neighbors: 10, weights: distance, p: 3, metric: manhattan, ROC-AUC: 0.9482379985090897\n"
          ]
        },
        {
          "output_type": "stream",
          "name": "stderr",
          "text": [
            "[I 2024-05-11 03:19:50,486] Trial 82 finished with value: 0.9482379985090897 and parameters: {'n_neighbors': 10, 'weights': 'distance', 'p': 3, 'metric': 'manhattan'}. Best is trial 13 with value: 0.9482379985090897.\n"
          ]
        },
        {
          "output_type": "stream",
          "name": "stdout",
          "text": [
            "Trial 82, n_neighbors: 10, weights: distance, p: 3, metric: manhattan, ROC-AUC: 0.9482379985090897\n"
          ]
        },
        {
          "output_type": "stream",
          "name": "stderr",
          "text": [
            "[I 2024-05-11 03:19:50,753] Trial 83 finished with value: 0.9482379985090897 and parameters: {'n_neighbors': 10, 'weights': 'distance', 'p': 3, 'metric': 'manhattan'}. Best is trial 13 with value: 0.9482379985090897.\n"
          ]
        },
        {
          "output_type": "stream",
          "name": "stdout",
          "text": [
            "Trial 83, n_neighbors: 10, weights: distance, p: 3, metric: manhattan, ROC-AUC: 0.9482379985090897\n"
          ]
        },
        {
          "output_type": "stream",
          "name": "stderr",
          "text": [
            "[I 2024-05-11 03:19:51,023] Trial 84 finished with value: 0.9479818187828585 and parameters: {'n_neighbors': 9, 'weights': 'distance', 'p': 4, 'metric': 'manhattan'}. Best is trial 13 with value: 0.9482379985090897.\n"
          ]
        },
        {
          "output_type": "stream",
          "name": "stdout",
          "text": [
            "Trial 84, n_neighbors: 9, weights: distance, p: 4, metric: manhattan, ROC-AUC: 0.9479818187828585\n"
          ]
        },
        {
          "output_type": "stream",
          "name": "stderr",
          "text": [
            "[I 2024-05-11 03:19:51,293] Trial 85 finished with value: 0.9482379985090897 and parameters: {'n_neighbors': 10, 'weights': 'distance', 'p': 5, 'metric': 'manhattan'}. Best is trial 13 with value: 0.9482379985090897.\n"
          ]
        },
        {
          "output_type": "stream",
          "name": "stdout",
          "text": [
            "Trial 85, n_neighbors: 10, weights: distance, p: 5, metric: manhattan, ROC-AUC: 0.9482379985090897\n"
          ]
        },
        {
          "output_type": "stream",
          "name": "stderr",
          "text": [
            "[I 2024-05-11 03:19:51,553] Trial 86 finished with value: 0.9479818187828585 and parameters: {'n_neighbors': 9, 'weights': 'distance', 'p': 3, 'metric': 'manhattan'}. Best is trial 13 with value: 0.9482379985090897.\n"
          ]
        },
        {
          "output_type": "stream",
          "name": "stdout",
          "text": [
            "Trial 86, n_neighbors: 9, weights: distance, p: 3, metric: manhattan, ROC-AUC: 0.9479818187828585\n"
          ]
        },
        {
          "output_type": "stream",
          "name": "stderr",
          "text": [
            "[I 2024-05-11 03:19:51,794] Trial 87 finished with value: 0.9334525556924426 and parameters: {'n_neighbors': 10, 'weights': 'distance', 'p': 2, 'metric': 'minkowski'}. Best is trial 13 with value: 0.9482379985090897.\n"
          ]
        },
        {
          "output_type": "stream",
          "name": "stdout",
          "text": [
            "Trial 87, n_neighbors: 10, weights: distance, p: 2, metric: minkowski, ROC-AUC: 0.9334525556924426\n"
          ]
        },
        {
          "output_type": "stream",
          "name": "stderr",
          "text": [
            "[I 2024-05-11 03:19:52,067] Trial 88 finished with value: 0.9479818187828585 and parameters: {'n_neighbors': 9, 'weights': 'distance', 'p': 5, 'metric': 'manhattan'}. Best is trial 13 with value: 0.9482379985090897.\n"
          ]
        },
        {
          "output_type": "stream",
          "name": "stdout",
          "text": [
            "Trial 88, n_neighbors: 9, weights: distance, p: 5, metric: manhattan, ROC-AUC: 0.9479818187828585\n"
          ]
        },
        {
          "output_type": "stream",
          "name": "stderr",
          "text": [
            "[I 2024-05-11 03:19:52,337] Trial 89 finished with value: 0.9482379985090897 and parameters: {'n_neighbors': 10, 'weights': 'distance', 'p': 3, 'metric': 'manhattan'}. Best is trial 13 with value: 0.9482379985090897.\n"
          ]
        },
        {
          "output_type": "stream",
          "name": "stdout",
          "text": [
            "Trial 89, n_neighbors: 10, weights: distance, p: 3, metric: manhattan, ROC-AUC: 0.9482379985090897\n"
          ]
        },
        {
          "output_type": "stream",
          "name": "stderr",
          "text": [
            "[I 2024-05-11 03:19:52,577] Trial 90 finished with value: 0.9217726786982279 and parameters: {'n_neighbors': 10, 'weights': 'uniform', 'p': 5, 'metric': 'euclidean'}. Best is trial 13 with value: 0.9482379985090897.\n"
          ]
        },
        {
          "output_type": "stream",
          "name": "stdout",
          "text": [
            "Trial 90, n_neighbors: 10, weights: uniform, p: 5, metric: euclidean, ROC-AUC: 0.9217726786982279\n"
          ]
        },
        {
          "output_type": "stream",
          "name": "stderr",
          "text": [
            "[I 2024-05-11 03:19:52,842] Trial 91 finished with value: 0.9482379985090897 and parameters: {'n_neighbors': 10, 'weights': 'distance', 'p': 2, 'metric': 'manhattan'}. Best is trial 13 with value: 0.9482379985090897.\n"
          ]
        },
        {
          "output_type": "stream",
          "name": "stdout",
          "text": [
            "Trial 91, n_neighbors: 10, weights: distance, p: 2, metric: manhattan, ROC-AUC: 0.9482379985090897\n"
          ]
        },
        {
          "output_type": "stream",
          "name": "stderr",
          "text": [
            "[I 2024-05-11 03:19:53,121] Trial 92 finished with value: 0.9482379985090897 and parameters: {'n_neighbors': 10, 'weights': 'distance', 'p': 2, 'metric': 'manhattan'}. Best is trial 13 with value: 0.9482379985090897.\n"
          ]
        },
        {
          "output_type": "stream",
          "name": "stdout",
          "text": [
            "Trial 92, n_neighbors: 10, weights: distance, p: 2, metric: manhattan, ROC-AUC: 0.9482379985090897\n"
          ]
        },
        {
          "output_type": "stream",
          "name": "stderr",
          "text": [
            "[I 2024-05-11 03:19:53,384] Trial 93 finished with value: 0.9479818187828585 and parameters: {'n_neighbors': 9, 'weights': 'distance', 'p': 2, 'metric': 'manhattan'}. Best is trial 13 with value: 0.9482379985090897.\n"
          ]
        },
        {
          "output_type": "stream",
          "name": "stdout",
          "text": [
            "Trial 93, n_neighbors: 9, weights: distance, p: 2, metric: manhattan, ROC-AUC: 0.9479818187828585\n"
          ]
        },
        {
          "output_type": "stream",
          "name": "stderr",
          "text": [
            "[I 2024-05-11 03:19:53,651] Trial 94 finished with value: 0.9482379985090897 and parameters: {'n_neighbors': 10, 'weights': 'distance', 'p': 2, 'metric': 'manhattan'}. Best is trial 13 with value: 0.9482379985090897.\n"
          ]
        },
        {
          "output_type": "stream",
          "name": "stdout",
          "text": [
            "Trial 94, n_neighbors: 10, weights: distance, p: 2, metric: manhattan, ROC-AUC: 0.9482379985090897\n"
          ]
        },
        {
          "output_type": "stream",
          "name": "stderr",
          "text": [
            "[I 2024-05-11 03:19:53,916] Trial 95 finished with value: 0.9482379985090897 and parameters: {'n_neighbors': 10, 'weights': 'distance', 'p': 5, 'metric': 'manhattan'}. Best is trial 13 with value: 0.9482379985090897.\n"
          ]
        },
        {
          "output_type": "stream",
          "name": "stdout",
          "text": [
            "Trial 95, n_neighbors: 10, weights: distance, p: 5, metric: manhattan, ROC-AUC: 0.9482379985090897\n"
          ]
        },
        {
          "output_type": "stream",
          "name": "stderr",
          "text": [
            "[I 2024-05-11 03:19:54,193] Trial 96 finished with value: 0.9479818187828585 and parameters: {'n_neighbors': 9, 'weights': 'distance', 'p': 4, 'metric': 'manhattan'}. Best is trial 13 with value: 0.9482379985090897.\n"
          ]
        },
        {
          "output_type": "stream",
          "name": "stdout",
          "text": [
            "Trial 96, n_neighbors: 9, weights: distance, p: 4, metric: manhattan, ROC-AUC: 0.9479818187828585\n"
          ]
        },
        {
          "output_type": "stream",
          "name": "stderr",
          "text": [
            "[I 2024-05-11 03:19:54,458] Trial 97 finished with value: 0.9482379985090897 and parameters: {'n_neighbors': 10, 'weights': 'distance', 'p': 5, 'metric': 'manhattan'}. Best is trial 13 with value: 0.9482379985090897.\n"
          ]
        },
        {
          "output_type": "stream",
          "name": "stdout",
          "text": [
            "Trial 97, n_neighbors: 10, weights: distance, p: 5, metric: manhattan, ROC-AUC: 0.9482379985090897\n"
          ]
        },
        {
          "output_type": "stream",
          "name": "stderr",
          "text": [
            "[I 2024-05-11 03:19:54,728] Trial 98 finished with value: 0.9482379985090897 and parameters: {'n_neighbors': 10, 'weights': 'distance', 'p': 3, 'metric': 'manhattan'}. Best is trial 13 with value: 0.9482379985090897.\n"
          ]
        },
        {
          "output_type": "stream",
          "name": "stdout",
          "text": [
            "Trial 98, n_neighbors: 10, weights: distance, p: 3, metric: manhattan, ROC-AUC: 0.9482379985090897\n"
          ]
        },
        {
          "output_type": "stream",
          "name": "stderr",
          "text": [
            "[I 2024-05-11 03:19:54,985] Trial 99 finished with value: 0.9479818187828585 and parameters: {'n_neighbors': 9, 'weights': 'distance', 'p': 5, 'metric': 'manhattan'}. Best is trial 13 with value: 0.9482379985090897.\n"
          ]
        },
        {
          "output_type": "stream",
          "name": "stdout",
          "text": [
            "Trial 99, n_neighbors: 9, weights: distance, p: 5, metric: manhattan, ROC-AUC: 0.9479818187828585\n",
            "Best Parameters:  {'n_neighbors': 10, 'weights': 'distance', 'p': 5, 'metric': 'manhattan'}\n",
            "Best ROC-AUC Score:  0.9482379985090897\n"
          ]
        }
      ]
    },
    {
      "cell_type": "code",
      "source": [
        "# Random Forest\n",
        "def objective_function(trial):\n",
        "    n_estimators = trial.suggest_int('n_estimators', 2, 50)\n",
        "    max_depth = trial.suggest_int('max_depth', 1, 10)\n",
        "    min_samples_split = trial.suggest_int('min_samples_split', 2, 10)\n",
        "    min_samples_leaf = trial.suggest_int('min_samples_leaf', 1, 10)\n",
        "\n",
        "    model = RandomForestClassifier(\n",
        "        n_estimators=n_estimators,\n",
        "        max_depth=max_depth,\n",
        "        min_samples_split=min_samples_split,\n",
        "        min_samples_leaf=min_samples_leaf,\n",
        "        n_jobs=-1\n",
        "    )\n",
        "\n",
        "    # Using cross_val_score to get the average ROC-AUC score for each fold\n",
        "    scores = cross_val_score(model, X_train_oversampled, y_train_oversampled, cv=5, scoring='roc_auc')\n",
        "    roc_auc = np.mean(scores)\n",
        "    # Printing intermediate results\n",
        "    print(f\"Trial {trial.number}, n_estimators: {n_estimators}, max_depth: {max_depth}, \"\n",
        "          f\"min_samples_split: {min_samples_split}, min_samples_leaf: {min_samples_leaf}, ROC-AUC: {roc_auc}\")\n",
        "    return roc_auc\n",
        "\n",
        "\n",
        "study_rf = optuna.create_study(direction=\"maximize\")\n",
        "study_rf.optimize(objective_function, n_trials=100)\n",
        "\n",
        "best_params_rf = study_rf.best_params\n",
        "print(\"Best Parameters: \", best_params_rf)\n",
        "print(\"Best ROC-AUC: Score: \", study_rf.best_value)\n",
        "\n",
        "# Create and save model\n",
        "best_model_rf = RandomForestClassifier(**best_params_rf, n_jobs=-1)\n",
        "with open('best_models_rf_8_features.pkl', 'wb') as file:\n",
        "    pickle.dump(best_model_rf, file)"
      ],
      "metadata": {
        "colab": {
          "base_uri": "https://localhost:8080/"
        },
        "id": "o-ZvEJF0q24m",
        "outputId": "79841d93-4b27-45b4-8968-67528774d9cc"
      },
      "execution_count": 19,
      "outputs": [
        {
          "output_type": "stream",
          "name": "stderr",
          "text": [
            "[I 2024-05-11 03:24:11,941] A new study created in memory with name: no-name-f1185cef-cd23-4d83-a567-d566b4c7f0c3\n",
            "[I 2024-05-11 03:24:12,248] Trial 0 finished with value: 0.9713800637970552 and parameters: {'n_estimators': 3, 'max_depth': 9, 'min_samples_split': 9, 'min_samples_leaf': 5}. Best is trial 0 with value: 0.9713800637970552.\n"
          ]
        },
        {
          "output_type": "stream",
          "name": "stdout",
          "text": [
            "Trial 0, n_estimators: 3, max_depth: 9, min_samples_split: 9, min_samples_leaf: 5, ROC-AUC: 0.9713800637970552\n"
          ]
        },
        {
          "output_type": "stream",
          "name": "stderr",
          "text": [
            "[I 2024-05-11 03:24:13,294] Trial 1 finished with value: 0.98320204197566 and parameters: {'n_estimators': 29, 'max_depth': 8, 'min_samples_split': 4, 'min_samples_leaf': 2}. Best is trial 1 with value: 0.98320204197566.\n"
          ]
        },
        {
          "output_type": "stream",
          "name": "stdout",
          "text": [
            "Trial 1, n_estimators: 29, max_depth: 8, min_samples_split: 4, min_samples_leaf: 2, ROC-AUC: 0.98320204197566\n"
          ]
        },
        {
          "output_type": "stream",
          "name": "stderr",
          "text": [
            "[I 2024-05-11 03:24:13,872] Trial 2 finished with value: 0.8968586345920452 and parameters: {'n_estimators': 23, 'max_depth': 2, 'min_samples_split': 8, 'min_samples_leaf': 10}. Best is trial 1 with value: 0.98320204197566.\n"
          ]
        },
        {
          "output_type": "stream",
          "name": "stdout",
          "text": [
            "Trial 2, n_estimators: 23, max_depth: 2, min_samples_split: 8, min_samples_leaf: 10, ROC-AUC: 0.8968586345920452\n"
          ]
        },
        {
          "output_type": "stream",
          "name": "stderr",
          "text": [
            "[I 2024-05-11 03:24:14,765] Trial 3 finished with value: 0.971385965175592 and parameters: {'n_estimators': 28, 'max_depth': 6, 'min_samples_split': 6, 'min_samples_leaf': 10}. Best is trial 1 with value: 0.98320204197566.\n"
          ]
        },
        {
          "output_type": "stream",
          "name": "stdout",
          "text": [
            "Trial 3, n_estimators: 28, max_depth: 6, min_samples_split: 6, min_samples_leaf: 10, ROC-AUC: 0.971385965175592\n"
          ]
        },
        {
          "output_type": "stream",
          "name": "stderr",
          "text": [
            "[I 2024-05-11 03:24:15,571] Trial 4 finished with value: 0.986344939129754 and parameters: {'n_estimators': 20, 'max_depth': 10, 'min_samples_split': 7, 'min_samples_leaf': 6}. Best is trial 4 with value: 0.986344939129754.\n"
          ]
        },
        {
          "output_type": "stream",
          "name": "stdout",
          "text": [
            "Trial 4, n_estimators: 20, max_depth: 10, min_samples_split: 7, min_samples_leaf: 6, ROC-AUC: 0.986344939129754\n"
          ]
        },
        {
          "output_type": "stream",
          "name": "stderr",
          "text": [
            "[I 2024-05-11 03:24:16,154] Trial 5 finished with value: 0.9460416969849493 and parameters: {'n_estimators': 19, 'max_depth': 4, 'min_samples_split': 8, 'min_samples_leaf': 2}. Best is trial 4 with value: 0.986344939129754.\n"
          ]
        },
        {
          "output_type": "stream",
          "name": "stdout",
          "text": [
            "Trial 5, n_estimators: 19, max_depth: 4, min_samples_split: 8, min_samples_leaf: 2, ROC-AUC: 0.9460416969849493\n"
          ]
        },
        {
          "output_type": "stream",
          "name": "stderr",
          "text": [
            "[I 2024-05-11 03:24:17,168] Trial 6 finished with value: 0.9522567987680425 and parameters: {'n_estimators': 37, 'max_depth': 4, 'min_samples_split': 4, 'min_samples_leaf': 4}. Best is trial 4 with value: 0.986344939129754.\n"
          ]
        },
        {
          "output_type": "stream",
          "name": "stdout",
          "text": [
            "Trial 6, n_estimators: 37, max_depth: 4, min_samples_split: 4, min_samples_leaf: 4, ROC-AUC: 0.9522567987680425\n"
          ]
        },
        {
          "output_type": "stream",
          "name": "stderr",
          "text": [
            "[I 2024-05-11 03:24:18,147] Trial 7 finished with value: 0.9046003471409072 and parameters: {'n_estimators': 45, 'max_depth': 2, 'min_samples_split': 2, 'min_samples_leaf': 1}. Best is trial 4 with value: 0.986344939129754.\n"
          ]
        },
        {
          "output_type": "stream",
          "name": "stdout",
          "text": [
            "Trial 7, n_estimators: 45, max_depth: 2, min_samples_split: 2, min_samples_leaf: 1, ROC-AUC: 0.9046003471409072\n"
          ]
        },
        {
          "output_type": "stream",
          "name": "stderr",
          "text": [
            "[I 2024-05-11 03:24:19,046] Trial 8 finished with value: 0.9446836798831793 and parameters: {'n_estimators': 34, 'max_depth': 4, 'min_samples_split': 6, 'min_samples_leaf': 3}. Best is trial 4 with value: 0.986344939129754.\n"
          ]
        },
        {
          "output_type": "stream",
          "name": "stdout",
          "text": [
            "Trial 8, n_estimators: 34, max_depth: 4, min_samples_split: 6, min_samples_leaf: 3, ROC-AUC: 0.9446836798831793\n"
          ]
        },
        {
          "output_type": "stream",
          "name": "stderr",
          "text": [
            "[I 2024-05-11 03:24:20,975] Trial 9 finished with value: 0.9852606486252776 and parameters: {'n_estimators': 42, 'max_depth': 9, 'min_samples_split': 10, 'min_samples_leaf': 4}. Best is trial 4 with value: 0.986344939129754.\n"
          ]
        },
        {
          "output_type": "stream",
          "name": "stdout",
          "text": [
            "Trial 9, n_estimators: 42, max_depth: 9, min_samples_split: 10, min_samples_leaf: 4, ROC-AUC: 0.9852606486252776\n"
          ]
        },
        {
          "output_type": "stream",
          "name": "stderr",
          "text": [
            "[I 2024-05-11 03:24:22,007] Trial 10 finished with value: 0.9852577869910176 and parameters: {'n_estimators': 14, 'max_depth': 10, 'min_samples_split': 7, 'min_samples_leaf': 7}. Best is trial 4 with value: 0.986344939129754.\n"
          ]
        },
        {
          "output_type": "stream",
          "name": "stdout",
          "text": [
            "Trial 10, n_estimators: 14, max_depth: 10, min_samples_split: 7, min_samples_leaf: 7, ROC-AUC: 0.9852577869910176\n"
          ]
        },
        {
          "output_type": "stream",
          "name": "stderr",
          "text": [
            "[I 2024-05-11 03:24:24,087] Trial 11 finished with value: 0.9782794972457174 and parameters: {'n_estimators': 48, 'max_depth': 7, 'min_samples_split': 10, 'min_samples_leaf': 7}. Best is trial 4 with value: 0.986344939129754.\n"
          ]
        },
        {
          "output_type": "stream",
          "name": "stdout",
          "text": [
            "Trial 11, n_estimators: 48, max_depth: 7, min_samples_split: 10, min_samples_leaf: 7, ROC-AUC: 0.9782794972457174\n"
          ]
        },
        {
          "output_type": "stream",
          "name": "stderr",
          "text": [
            "[I 2024-05-11 03:24:24,665] Trial 12 finished with value: 0.9859859136667029 and parameters: {'n_estimators': 11, 'max_depth': 10, 'min_samples_split': 10, 'min_samples_leaf': 7}. Best is trial 4 with value: 0.986344939129754.\n"
          ]
        },
        {
          "output_type": "stream",
          "name": "stdout",
          "text": [
            "Trial 12, n_estimators: 11, max_depth: 10, min_samples_split: 10, min_samples_leaf: 7, ROC-AUC: 0.9859859136667029\n"
          ]
        },
        {
          "output_type": "stream",
          "name": "stderr",
          "text": [
            "[I 2024-05-11 03:24:25,147] Trial 13 finished with value: 0.983592192098075 and parameters: {'n_estimators': 8, 'max_depth': 10, 'min_samples_split': 5, 'min_samples_leaf': 7}. Best is trial 4 with value: 0.986344939129754.\n"
          ]
        },
        {
          "output_type": "stream",
          "name": "stdout",
          "text": [
            "Trial 13, n_estimators: 8, max_depth: 10, min_samples_split: 5, min_samples_leaf: 7, ROC-AUC: 0.983592192098075\n"
          ]
        },
        {
          "output_type": "stream",
          "name": "stderr",
          "text": [
            "[I 2024-05-11 03:24:25,756] Trial 14 finished with value: 0.9804806003520277 and parameters: {'n_estimators': 14, 'max_depth': 8, 'min_samples_split': 8, 'min_samples_leaf': 8}. Best is trial 4 with value: 0.986344939129754.\n"
          ]
        },
        {
          "output_type": "stream",
          "name": "stdout",
          "text": [
            "Trial 14, n_estimators: 14, max_depth: 8, min_samples_split: 8, min_samples_leaf: 8, ROC-AUC: 0.9804806003520277\n"
          ]
        },
        {
          "output_type": "stream",
          "name": "stderr",
          "text": [
            "[I 2024-05-11 03:24:26,388] Trial 15 finished with value: 0.9838600624380363 and parameters: {'n_estimators': 13, 'max_depth': 10, 'min_samples_split': 9, 'min_samples_leaf': 6}. Best is trial 4 with value: 0.986344939129754.\n"
          ]
        },
        {
          "output_type": "stream",
          "name": "stdout",
          "text": [
            "Trial 15, n_estimators: 13, max_depth: 10, min_samples_split: 9, min_samples_leaf: 6, ROC-AUC: 0.9838600624380363\n"
          ]
        },
        {
          "output_type": "stream",
          "name": "stderr",
          "text": [
            "[I 2024-05-11 03:24:27,110] Trial 16 finished with value: 0.9691775917503535 and parameters: {'n_estimators': 20, 'max_depth': 6, 'min_samples_split': 2, 'min_samples_leaf': 9}. Best is trial 4 with value: 0.986344939129754.\n"
          ]
        },
        {
          "output_type": "stream",
          "name": "stdout",
          "text": [
            "Trial 16, n_estimators: 20, max_depth: 6, min_samples_split: 2, min_samples_leaf: 9, ROC-AUC: 0.9691775917503535\n"
          ]
        },
        {
          "output_type": "stream",
          "name": "stderr",
          "text": [
            "[I 2024-05-11 03:24:27,406] Trial 17 finished with value: 0.9595227609929712 and parameters: {'n_estimators': 2, 'max_depth': 8, 'min_samples_split': 7, 'min_samples_leaf': 5}. Best is trial 4 with value: 0.986344939129754.\n"
          ]
        },
        {
          "output_type": "stream",
          "name": "stdout",
          "text": [
            "Trial 17, n_estimators: 2, max_depth: 8, min_samples_split: 7, min_samples_leaf: 5, ROC-AUC: 0.9595227609929712\n"
          ]
        },
        {
          "output_type": "stream",
          "name": "stderr",
          "text": [
            "[I 2024-05-11 03:24:27,926] Trial 18 finished with value: 0.9838491950883814 and parameters: {'n_estimators': 10, 'max_depth': 9, 'min_samples_split': 10, 'min_samples_leaf': 8}. Best is trial 4 with value: 0.986344939129754.\n"
          ]
        },
        {
          "output_type": "stream",
          "name": "stdout",
          "text": [
            "Trial 18, n_estimators: 10, max_depth: 9, min_samples_split: 10, min_samples_leaf: 8, ROC-AUC: 0.9838491950883814\n"
          ]
        },
        {
          "output_type": "stream",
          "name": "stderr",
          "text": [
            "[I 2024-05-11 03:24:28,660] Trial 19 finished with value: 0.9761445737524921 and parameters: {'n_estimators': 19, 'max_depth': 7, 'min_samples_split': 4, 'min_samples_leaf': 6}. Best is trial 4 with value: 0.986344939129754.\n"
          ]
        },
        {
          "output_type": "stream",
          "name": "stdout",
          "text": [
            "Trial 19, n_estimators: 19, max_depth: 7, min_samples_split: 4, min_samples_leaf: 6, ROC-AUC: 0.9761445737524921\n"
          ]
        },
        {
          "output_type": "stream",
          "name": "stderr",
          "text": [
            "[I 2024-05-11 03:24:28,990] Trial 20 finished with value: 0.8173241475216606 and parameters: {'n_estimators': 7, 'max_depth': 1, 'min_samples_split': 9, 'min_samples_leaf': 8}. Best is trial 4 with value: 0.986344939129754.\n"
          ]
        },
        {
          "output_type": "stream",
          "name": "stdout",
          "text": [
            "Trial 20, n_estimators: 7, max_depth: 1, min_samples_split: 9, min_samples_leaf: 8, ROC-AUC: 0.8173241475216606\n"
          ]
        },
        {
          "output_type": "stream",
          "name": "stderr",
          "text": [
            "[I 2024-05-11 03:24:30,378] Trial 21 finished with value: 0.9855420104691326 and parameters: {'n_estimators': 39, 'max_depth': 9, 'min_samples_split': 10, 'min_samples_leaf': 4}. Best is trial 4 with value: 0.986344939129754.\n"
          ]
        },
        {
          "output_type": "stream",
          "name": "stdout",
          "text": [
            "Trial 21, n_estimators: 39, max_depth: 9, min_samples_split: 10, min_samples_leaf: 4, ROC-AUC: 0.9855420104691326\n"
          ]
        },
        {
          "output_type": "stream",
          "name": "stderr",
          "text": [
            "[I 2024-05-11 03:24:31,707] Trial 22 finished with value: 0.9873530170179661 and parameters: {'n_estimators': 34, 'max_depth': 10, 'min_samples_split': 10, 'min_samples_leaf': 4}. Best is trial 22 with value: 0.9873530170179661.\n"
          ]
        },
        {
          "output_type": "stream",
          "name": "stdout",
          "text": [
            "Trial 22, n_estimators: 34, max_depth: 10, min_samples_split: 10, min_samples_leaf: 4, ROC-AUC: 0.9873530170179661\n"
          ]
        },
        {
          "output_type": "stream",
          "name": "stderr",
          "text": [
            "[I 2024-05-11 03:24:32,863] Trial 23 finished with value: 0.987338412788238 and parameters: {'n_estimators': 31, 'max_depth': 10, 'min_samples_split': 9, 'min_samples_leaf': 6}. Best is trial 22 with value: 0.9873530170179661.\n"
          ]
        },
        {
          "output_type": "stream",
          "name": "stdout",
          "text": [
            "Trial 23, n_estimators: 31, max_depth: 10, min_samples_split: 9, min_samples_leaf: 6, ROC-AUC: 0.987338412788238\n"
          ]
        },
        {
          "output_type": "stream",
          "name": "stderr",
          "text": [
            "[I 2024-05-11 03:24:34,447] Trial 24 finished with value: 0.9877172617641585 and parameters: {'n_estimators': 32, 'max_depth': 10, 'min_samples_split': 7, 'min_samples_leaf': 5}. Best is trial 24 with value: 0.9877172617641585.\n"
          ]
        },
        {
          "output_type": "stream",
          "name": "stdout",
          "text": [
            "Trial 24, n_estimators: 32, max_depth: 10, min_samples_split: 7, min_samples_leaf: 5, ROC-AUC: 0.9877172617641585\n"
          ]
        },
        {
          "output_type": "stream",
          "name": "stderr",
          "text": [
            "[I 2024-05-11 03:24:36,282] Trial 25 finished with value: 0.9790561131199459 and parameters: {'n_estimators': 32, 'max_depth': 7, 'min_samples_split': 9, 'min_samples_leaf': 3}. Best is trial 24 with value: 0.9877172617641585.\n"
          ]
        },
        {
          "output_type": "stream",
          "name": "stdout",
          "text": [
            "Trial 25, n_estimators: 32, max_depth: 7, min_samples_split: 9, min_samples_leaf: 3, ROC-AUC: 0.9790561131199459\n"
          ]
        },
        {
          "output_type": "stream",
          "name": "stderr",
          "text": [
            "[I 2024-05-11 03:24:37,649] Trial 26 finished with value: 0.9856929686028615 and parameters: {'n_estimators': 33, 'max_depth': 9, 'min_samples_split': 8, 'min_samples_leaf': 5}. Best is trial 24 with value: 0.9877172617641585.\n"
          ]
        },
        {
          "output_type": "stream",
          "name": "stdout",
          "text": [
            "Trial 26, n_estimators: 33, max_depth: 9, min_samples_split: 8, min_samples_leaf: 5, ROC-AUC: 0.9856929686028615\n"
          ]
        },
        {
          "output_type": "stream",
          "name": "stderr",
          "text": [
            "[I 2024-05-11 03:24:38,572] Trial 27 finished with value: 0.9814322200037718 and parameters: {'n_estimators': 25, 'max_depth': 8, 'min_samples_split': 9, 'min_samples_leaf': 4}. Best is trial 24 with value: 0.9877172617641585.\n"
          ]
        },
        {
          "output_type": "stream",
          "name": "stdout",
          "text": [
            "Trial 27, n_estimators: 25, max_depth: 8, min_samples_split: 9, min_samples_leaf: 4, ROC-AUC: 0.9814322200037718\n"
          ]
        },
        {
          "output_type": "stream",
          "name": "stderr",
          "text": [
            "[I 2024-05-11 03:24:39,970] Trial 28 finished with value: 0.9875015536470746 and parameters: {'n_estimators': 37, 'max_depth': 10, 'min_samples_split': 7, 'min_samples_leaf': 3}. Best is trial 24 with value: 0.9877172617641585.\n"
          ]
        },
        {
          "output_type": "stream",
          "name": "stdout",
          "text": [
            "Trial 28, n_estimators: 37, max_depth: 10, min_samples_split: 7, min_samples_leaf: 3, ROC-AUC: 0.9875015536470746\n"
          ]
        },
        {
          "output_type": "stream",
          "name": "stderr",
          "text": [
            "[I 2024-05-11 03:24:41,331] Trial 29 finished with value: 0.9854101148567376 and parameters: {'n_estimators': 38, 'max_depth': 9, 'min_samples_split': 6, 'min_samples_leaf': 3}. Best is trial 24 with value: 0.9877172617641585.\n"
          ]
        },
        {
          "output_type": "stream",
          "name": "stdout",
          "text": [
            "Trial 29, n_estimators: 38, max_depth: 9, min_samples_split: 6, min_samples_leaf: 3, ROC-AUC: 0.9854101148567376\n"
          ]
        },
        {
          "output_type": "stream",
          "name": "stderr",
          "text": [
            "[I 2024-05-11 03:24:42,578] Trial 30 finished with value: 0.9627519948005172 and parameters: {'n_estimators': 43, 'max_depth': 5, 'min_samples_split': 5, 'min_samples_leaf': 1}. Best is trial 24 with value: 0.9877172617641585.\n"
          ]
        },
        {
          "output_type": "stream",
          "name": "stdout",
          "text": [
            "Trial 30, n_estimators: 43, max_depth: 5, min_samples_split: 5, min_samples_leaf: 1, ROC-AUC: 0.9627519948005172\n"
          ]
        },
        {
          "output_type": "stream",
          "name": "stderr",
          "text": [
            "[I 2024-05-11 03:24:43,901] Trial 31 finished with value: 0.9876724479647498 and parameters: {'n_estimators': 35, 'max_depth': 10, 'min_samples_split': 7, 'min_samples_leaf': 5}. Best is trial 24 with value: 0.9877172617641585.\n"
          ]
        },
        {
          "output_type": "stream",
          "name": "stdout",
          "text": [
            "Trial 31, n_estimators: 35, max_depth: 10, min_samples_split: 7, min_samples_leaf: 5, ROC-AUC: 0.9876724479647498\n"
          ]
        },
        {
          "output_type": "stream",
          "name": "stderr",
          "text": [
            "[I 2024-05-11 03:24:45,232] Trial 32 finished with value: 0.9877124140053176 and parameters: {'n_estimators': 36, 'max_depth': 10, 'min_samples_split': 7, 'min_samples_leaf': 5}. Best is trial 24 with value: 0.9877172617641585.\n"
          ]
        },
        {
          "output_type": "stream",
          "name": "stdout",
          "text": [
            "Trial 32, n_estimators: 36, max_depth: 10, min_samples_split: 7, min_samples_leaf: 5, ROC-AUC: 0.9877124140053176\n"
          ]
        },
        {
          "output_type": "stream",
          "name": "stderr",
          "text": [
            "[I 2024-05-11 03:24:46,668] Trial 33 finished with value: 0.9851654099012832 and parameters: {'n_estimators': 41, 'max_depth': 9, 'min_samples_split': 7, 'min_samples_leaf': 5}. Best is trial 24 with value: 0.9877172617641585.\n"
          ]
        },
        {
          "output_type": "stream",
          "name": "stdout",
          "text": [
            "Trial 33, n_estimators: 41, max_depth: 9, min_samples_split: 7, min_samples_leaf: 5, ROC-AUC: 0.9851654099012832\n"
          ]
        },
        {
          "output_type": "stream",
          "name": "stderr",
          "text": [
            "[I 2024-05-11 03:24:48,272] Trial 34 finished with value: 0.9826139475056428 and parameters: {'n_estimators': 28, 'max_depth': 8, 'min_samples_split': 5, 'min_samples_leaf': 2}. Best is trial 24 with value: 0.9877172617641585.\n"
          ]
        },
        {
          "output_type": "stream",
          "name": "stdout",
          "text": [
            "Trial 34, n_estimators: 28, max_depth: 8, min_samples_split: 5, min_samples_leaf: 2, ROC-AUC: 0.9826139475056428\n"
          ]
        },
        {
          "output_type": "stream",
          "name": "stderr",
          "text": [
            "[I 2024-05-11 03:24:50,427] Trial 35 finished with value: 0.9856954463110867 and parameters: {'n_estimators': 36, 'max_depth': 9, 'min_samples_split': 6, 'min_samples_leaf': 3}. Best is trial 24 with value: 0.9877172617641585.\n"
          ]
        },
        {
          "output_type": "stream",
          "name": "stdout",
          "text": [
            "Trial 35, n_estimators: 36, max_depth: 9, min_samples_split: 6, min_samples_leaf: 3, ROC-AUC: 0.9856954463110867\n"
          ]
        },
        {
          "output_type": "stream",
          "name": "stderr",
          "text": [
            "[I 2024-05-11 03:24:51,510] Trial 36 finished with value: 0.9873499136818171 and parameters: {'n_estimators': 29, 'max_depth': 10, 'min_samples_split': 7, 'min_samples_leaf': 5}. Best is trial 24 with value: 0.9877172617641585.\n"
          ]
        },
        {
          "output_type": "stream",
          "name": "stdout",
          "text": [
            "Trial 36, n_estimators: 29, max_depth: 10, min_samples_split: 7, min_samples_leaf: 5, ROC-AUC: 0.9873499136818171\n"
          ]
        },
        {
          "output_type": "stream",
          "name": "stderr",
          "text": [
            "[I 2024-05-11 03:24:53,138] Trial 37 finished with value: 0.982692992466965 and parameters: {'n_estimators': 49, 'max_depth': 8, 'min_samples_split': 8, 'min_samples_leaf': 5}. Best is trial 24 with value: 0.9877172617641585.\n"
          ]
        },
        {
          "output_type": "stream",
          "name": "stdout",
          "text": [
            "Trial 37, n_estimators: 49, max_depth: 8, min_samples_split: 8, min_samples_leaf: 5, ROC-AUC: 0.982692992466965\n"
          ]
        },
        {
          "output_type": "stream",
          "name": "stderr",
          "text": [
            "[I 2024-05-11 03:24:54,158] Trial 38 finished with value: 0.9879986278298805 and parameters: {'n_estimators': 26, 'max_depth': 10, 'min_samples_split': 7, 'min_samples_leaf': 2}. Best is trial 38 with value: 0.9879986278298805.\n"
          ]
        },
        {
          "output_type": "stream",
          "name": "stdout",
          "text": [
            "Trial 38, n_estimators: 26, max_depth: 10, min_samples_split: 7, min_samples_leaf: 2, ROC-AUC: 0.9879986278298805\n"
          ]
        },
        {
          "output_type": "stream",
          "name": "stderr",
          "text": [
            "[I 2024-05-11 03:24:55,065] Trial 39 finished with value: 0.9774993394888998 and parameters: {'n_estimators': 26, 'max_depth': 7, 'min_samples_split': 8, 'min_samples_leaf': 1}. Best is trial 38 with value: 0.9879986278298805.\n"
          ]
        },
        {
          "output_type": "stream",
          "name": "stdout",
          "text": [
            "Trial 39, n_estimators: 26, max_depth: 7, min_samples_split: 8, min_samples_leaf: 1, ROC-AUC: 0.9774993394888998\n"
          ]
        },
        {
          "output_type": "stream",
          "name": "stderr",
          "text": [
            "[I 2024-05-11 03:24:56,126] Trial 40 finished with value: 0.985024973979578 and parameters: {'n_estimators': 29, 'max_depth': 9, 'min_samples_split': 5, 'min_samples_leaf': 2}. Best is trial 38 with value: 0.9879986278298805.\n"
          ]
        },
        {
          "output_type": "stream",
          "name": "stdout",
          "text": [
            "Trial 40, n_estimators: 29, max_depth: 9, min_samples_split: 5, min_samples_leaf: 2, ROC-AUC: 0.985024973979578\n"
          ]
        },
        {
          "output_type": "stream",
          "name": "stderr",
          "text": [
            "[I 2024-05-11 03:24:57,051] Trial 41 finished with value: 0.9878900894330762 and parameters: {'n_estimators': 23, 'max_depth': 10, 'min_samples_split': 7, 'min_samples_leaf': 3}. Best is trial 38 with value: 0.9879986278298805.\n"
          ]
        },
        {
          "output_type": "stream",
          "name": "stdout",
          "text": [
            "Trial 41, n_estimators: 23, max_depth: 10, min_samples_split: 7, min_samples_leaf: 3, ROC-AUC: 0.9878900894330762\n"
          ]
        },
        {
          "output_type": "stream",
          "name": "stderr",
          "text": [
            "[I 2024-05-11 03:24:57,949] Trial 42 finished with value: 0.9874953873463805 and parameters: {'n_estimators': 22, 'max_depth': 10, 'min_samples_split': 6, 'min_samples_leaf': 2}. Best is trial 38 with value: 0.9879986278298805.\n"
          ]
        },
        {
          "output_type": "stream",
          "name": "stdout",
          "text": [
            "Trial 42, n_estimators: 22, max_depth: 10, min_samples_split: 6, min_samples_leaf: 2, ROC-AUC: 0.9874953873463805\n"
          ]
        },
        {
          "output_type": "stream",
          "name": "stderr",
          "text": [
            "[I 2024-05-11 03:24:58,626] Trial 43 finished with value: 0.9238905368771009 and parameters: {'n_estimators': 24, 'max_depth': 3, 'min_samples_split': 7, 'min_samples_leaf': 4}. Best is trial 38 with value: 0.9879986278298805.\n"
          ]
        },
        {
          "output_type": "stream",
          "name": "stdout",
          "text": [
            "Trial 43, n_estimators: 24, max_depth: 3, min_samples_split: 7, min_samples_leaf: 4, ROC-AUC: 0.9238905368771009\n"
          ]
        },
        {
          "output_type": "stream",
          "name": "stderr",
          "text": [
            "[I 2024-05-11 03:24:59,353] Trial 44 finished with value: 0.9859066090605573 and parameters: {'n_estimators': 17, 'max_depth': 10, 'min_samples_split': 6, 'min_samples_leaf': 6}. Best is trial 38 with value: 0.9879986278298805.\n"
          ]
        },
        {
          "output_type": "stream",
          "name": "stdout",
          "text": [
            "Trial 44, n_estimators: 17, max_depth: 10, min_samples_split: 6, min_samples_leaf: 6, ROC-AUC: 0.9859066090605573\n"
          ]
        },
        {
          "output_type": "stream",
          "name": "stderr",
          "text": [
            "[I 2024-05-11 03:25:00,593] Trial 45 finished with value: 0.9851462705947425 and parameters: {'n_estimators': 31, 'max_depth': 9, 'min_samples_split': 8, 'min_samples_leaf': 3}. Best is trial 38 with value: 0.9879986278298805.\n"
          ]
        },
        {
          "output_type": "stream",
          "name": "stdout",
          "text": [
            "Trial 45, n_estimators: 31, max_depth: 9, min_samples_split: 8, min_samples_leaf: 3, ROC-AUC: 0.9851462705947425\n"
          ]
        },
        {
          "output_type": "stream",
          "name": "stderr",
          "text": [
            "[I 2024-05-11 03:25:02,372] Trial 46 finished with value: 0.9865845060730078 and parameters: {'n_estimators': 27, 'max_depth': 10, 'min_samples_split': 7, 'min_samples_leaf': 4}. Best is trial 38 with value: 0.9879986278298805.\n"
          ]
        },
        {
          "output_type": "stream",
          "name": "stdout",
          "text": [
            "Trial 46, n_estimators: 27, max_depth: 10, min_samples_split: 7, min_samples_leaf: 4, ROC-AUC: 0.9865845060730078\n"
          ]
        },
        {
          "output_type": "stream",
          "name": "stderr",
          "text": [
            "[I 2024-05-11 03:25:03,766] Trial 47 finished with value: 0.9846165175777646 and parameters: {'n_estimators': 22, 'max_depth': 9, 'min_samples_split': 7, 'min_samples_leaf': 1}. Best is trial 38 with value: 0.9879986278298805.\n"
          ]
        },
        {
          "output_type": "stream",
          "name": "stdout",
          "text": [
            "Trial 47, n_estimators: 22, max_depth: 9, min_samples_split: 7, min_samples_leaf: 1, ROC-AUC: 0.9846165175777646\n"
          ]
        },
        {
          "output_type": "stream",
          "name": "stderr",
          "text": [
            "[I 2024-05-11 03:25:05,087] Trial 48 finished with value: 0.9872203802040371 and parameters: {'n_estimators': 35, 'max_depth': 10, 'min_samples_split': 6, 'min_samples_leaf': 2}. Best is trial 38 with value: 0.9879986278298805.\n"
          ]
        },
        {
          "output_type": "stream",
          "name": "stdout",
          "text": [
            "Trial 48, n_estimators: 35, max_depth: 10, min_samples_split: 6, min_samples_leaf: 2, ROC-AUC: 0.9872203802040371\n"
          ]
        },
        {
          "output_type": "stream",
          "name": "stderr",
          "text": [
            "[I 2024-05-11 03:25:06,611] Trial 49 finished with value: 0.9833816518101276 and parameters: {'n_estimators': 46, 'max_depth': 8, 'min_samples_split': 8, 'min_samples_leaf': 5}. Best is trial 38 with value: 0.9879986278298805.\n"
          ]
        },
        {
          "output_type": "stream",
          "name": "stdout",
          "text": [
            "Trial 49, n_estimators: 46, max_depth: 8, min_samples_split: 8, min_samples_leaf: 5, ROC-AUC: 0.9833816518101276\n"
          ]
        },
        {
          "output_type": "stream",
          "name": "stderr",
          "text": [
            "[I 2024-05-11 03:25:07,852] Trial 50 finished with value: 0.9711338516350636 and parameters: {'n_estimators': 40, 'max_depth': 6, 'min_samples_split': 7, 'min_samples_leaf': 7}. Best is trial 38 with value: 0.9879986278298805.\n"
          ]
        },
        {
          "output_type": "stream",
          "name": "stdout",
          "text": [
            "Trial 50, n_estimators: 40, max_depth: 6, min_samples_split: 7, min_samples_leaf: 7, ROC-AUC: 0.9711338516350636\n"
          ]
        },
        {
          "output_type": "stream",
          "name": "stderr",
          "text": [
            "[I 2024-05-11 03:25:09,232] Trial 51 finished with value: 0.987781330971452 and parameters: {'n_estimators': 37, 'max_depth': 10, 'min_samples_split': 7, 'min_samples_leaf': 3}. Best is trial 38 with value: 0.9879986278298805.\n"
          ]
        },
        {
          "output_type": "stream",
          "name": "stdout",
          "text": [
            "Trial 51, n_estimators: 37, max_depth: 10, min_samples_split: 7, min_samples_leaf: 3, ROC-AUC: 0.987781330971452\n"
          ]
        },
        {
          "output_type": "stream",
          "name": "stderr",
          "text": [
            "[I 2024-05-11 03:25:10,833] Trial 52 finished with value: 0.9874993680392761 and parameters: {'n_estimators': 44, 'max_depth': 10, 'min_samples_split': 8, 'min_samples_leaf': 2}. Best is trial 38 with value: 0.9879986278298805.\n"
          ]
        },
        {
          "output_type": "stream",
          "name": "stdout",
          "text": [
            "Trial 52, n_estimators: 44, max_depth: 10, min_samples_split: 8, min_samples_leaf: 2, ROC-AUC: 0.9874993680392761\n"
          ]
        },
        {
          "output_type": "stream",
          "name": "stderr",
          "text": [
            "[I 2024-05-11 03:25:11,977] Trial 53 finished with value: 0.9874612804656786 and parameters: {'n_estimators': 31, 'max_depth': 10, 'min_samples_split': 6, 'min_samples_leaf': 3}. Best is trial 38 with value: 0.9879986278298805.\n"
          ]
        },
        {
          "output_type": "stream",
          "name": "stdout",
          "text": [
            "Trial 53, n_estimators: 31, max_depth: 10, min_samples_split: 6, min_samples_leaf: 3, ROC-AUC: 0.9874612804656786\n"
          ]
        },
        {
          "output_type": "stream",
          "name": "stderr",
          "text": [
            "[I 2024-05-11 03:25:13,303] Trial 54 finished with value: 0.9856501111110971 and parameters: {'n_estimators': 35, 'max_depth': 9, 'min_samples_split': 7, 'min_samples_leaf': 4}. Best is trial 38 with value: 0.9879986278298805.\n"
          ]
        },
        {
          "output_type": "stream",
          "name": "stdout",
          "text": [
            "Trial 54, n_estimators: 35, max_depth: 9, min_samples_split: 7, min_samples_leaf: 4, ROC-AUC: 0.9856501111110971\n"
          ]
        },
        {
          "output_type": "stream",
          "name": "stderr",
          "text": [
            "[I 2024-05-11 03:25:15,483] Trial 55 finished with value: 0.987424428579794 and parameters: {'n_estimators': 39, 'max_depth': 10, 'min_samples_split': 8, 'min_samples_leaf': 6}. Best is trial 38 with value: 0.9879986278298805.\n"
          ]
        },
        {
          "output_type": "stream",
          "name": "stdout",
          "text": [
            "Trial 55, n_estimators: 39, max_depth: 10, min_samples_split: 8, min_samples_leaf: 6, ROC-AUC: 0.987424428579794\n"
          ]
        },
        {
          "output_type": "stream",
          "name": "stderr",
          "text": [
            "[I 2024-05-11 03:25:17,265] Trial 56 finished with value: 0.9859669353188435 and parameters: {'n_estimators': 30, 'max_depth': 9, 'min_samples_split': 7, 'min_samples_leaf': 4}. Best is trial 38 with value: 0.9879986278298805.\n"
          ]
        },
        {
          "output_type": "stream",
          "name": "stdout",
          "text": [
            "Trial 56, n_estimators: 30, max_depth: 9, min_samples_split: 7, min_samples_leaf: 4, ROC-AUC: 0.9859669353188435\n"
          ]
        },
        {
          "output_type": "stream",
          "name": "stderr",
          "text": [
            "[I 2024-05-11 03:25:18,016] Trial 57 finished with value: 0.9864349802076762 and parameters: {'n_estimators': 17, 'max_depth': 10, 'min_samples_split': 6, 'min_samples_leaf': 5}. Best is trial 38 with value: 0.9879986278298805.\n"
          ]
        },
        {
          "output_type": "stream",
          "name": "stdout",
          "text": [
            "Trial 57, n_estimators: 17, max_depth: 10, min_samples_split: 6, min_samples_leaf: 5, ROC-AUC: 0.9864349802076762\n"
          ]
        },
        {
          "output_type": "stream",
          "name": "stderr",
          "text": [
            "[I 2024-05-11 03:25:18,994] Trial 58 finished with value: 0.9588657888729569 and parameters: {'n_estimators': 33, 'max_depth': 5, 'min_samples_split': 3, 'min_samples_leaf': 10}. Best is trial 38 with value: 0.9879986278298805.\n"
          ]
        },
        {
          "output_type": "stream",
          "name": "stdout",
          "text": [
            "Trial 58, n_estimators: 33, max_depth: 5, min_samples_split: 3, min_samples_leaf: 10, ROC-AUC: 0.9588657888729569\n"
          ]
        },
        {
          "output_type": "stream",
          "name": "stderr",
          "text": [
            "[I 2024-05-11 03:25:19,909] Trial 59 finished with value: 0.9850020959458974 and parameters: {'n_estimators': 23, 'max_depth': 9, 'min_samples_split': 7, 'min_samples_leaf': 3}. Best is trial 38 with value: 0.9879986278298805.\n"
          ]
        },
        {
          "output_type": "stream",
          "name": "stdout",
          "text": [
            "Trial 59, n_estimators: 23, max_depth: 9, min_samples_split: 7, min_samples_leaf: 3, ROC-AUC: 0.9850020959458974\n"
          ]
        },
        {
          "output_type": "stream",
          "name": "stderr",
          "text": [
            "[I 2024-05-11 03:25:21,202] Trial 60 finished with value: 0.9831408742464969 and parameters: {'n_estimators': 37, 'max_depth': 8, 'min_samples_split': 6, 'min_samples_leaf': 2}. Best is trial 38 with value: 0.9879986278298805.\n"
          ]
        },
        {
          "output_type": "stream",
          "name": "stdout",
          "text": [
            "Trial 60, n_estimators: 37, max_depth: 8, min_samples_split: 6, min_samples_leaf: 2, ROC-AUC: 0.9831408742464969\n"
          ]
        },
        {
          "output_type": "stream",
          "name": "stderr",
          "text": [
            "[I 2024-05-11 03:25:22,588] Trial 61 finished with value: 0.9882900746586525 and parameters: {'n_estimators': 37, 'max_depth': 10, 'min_samples_split': 7, 'min_samples_leaf': 3}. Best is trial 61 with value: 0.9882900746586525.\n"
          ]
        },
        {
          "output_type": "stream",
          "name": "stdout",
          "text": [
            "Trial 61, n_estimators: 37, max_depth: 10, min_samples_split: 7, min_samples_leaf: 3, ROC-AUC: 0.9882900746586525\n"
          ]
        },
        {
          "output_type": "stream",
          "name": "stderr",
          "text": [
            "[I 2024-05-11 03:25:24,087] Trial 62 finished with value: 0.9876763927717752 and parameters: {'n_estimators': 41, 'max_depth': 10, 'min_samples_split': 7, 'min_samples_leaf': 4}. Best is trial 61 with value: 0.9882900746586525.\n"
          ]
        },
        {
          "output_type": "stream",
          "name": "stdout",
          "text": [
            "Trial 62, n_estimators: 41, max_depth: 10, min_samples_split: 7, min_samples_leaf: 4, ROC-AUC: 0.9876763927717752\n"
          ]
        },
        {
          "output_type": "stream",
          "name": "stderr",
          "text": [
            "[I 2024-05-11 03:25:25,636] Trial 63 finished with value: 0.9877760090441681 and parameters: {'n_estimators': 42, 'max_depth': 10, 'min_samples_split': 7, 'min_samples_leaf': 4}. Best is trial 61 with value: 0.9882900746586525.\n"
          ]
        },
        {
          "output_type": "stream",
          "name": "stdout",
          "text": [
            "Trial 63, n_estimators: 42, max_depth: 10, min_samples_split: 7, min_samples_leaf: 4, ROC-AUC: 0.9877760090441681\n"
          ]
        },
        {
          "output_type": "stream",
          "name": "stderr",
          "text": [
            "[I 2024-05-11 03:25:27,217] Trial 64 finished with value: 0.9881584051800114 and parameters: {'n_estimators': 43, 'max_depth': 10, 'min_samples_split': 8, 'min_samples_leaf': 3}. Best is trial 61 with value: 0.9882900746586525.\n"
          ]
        },
        {
          "output_type": "stream",
          "name": "stdout",
          "text": [
            "Trial 64, n_estimators: 43, max_depth: 10, min_samples_split: 8, min_samples_leaf: 3, ROC-AUC: 0.9881584051800114\n"
          ]
        },
        {
          "output_type": "stream",
          "name": "stderr",
          "text": [
            "[I 2024-05-11 03:25:29,968] Trial 65 finished with value: 0.9877681080838496 and parameters: {'n_estimators': 45, 'max_depth': 10, 'min_samples_split': 8, 'min_samples_leaf': 3}. Best is trial 61 with value: 0.9882900746586525.\n"
          ]
        },
        {
          "output_type": "stream",
          "name": "stdout",
          "text": [
            "Trial 65, n_estimators: 45, max_depth: 10, min_samples_split: 8, min_samples_leaf: 3, ROC-AUC: 0.9877681080838496\n"
          ]
        },
        {
          "output_type": "stream",
          "name": "stderr",
          "text": [
            "[I 2024-05-11 03:25:32,247] Trial 66 finished with value: 0.9860308572885236 and parameters: {'n_estimators': 48, 'max_depth': 9, 'min_samples_split': 8, 'min_samples_leaf': 3}. Best is trial 61 with value: 0.9882900746586525.\n"
          ]
        },
        {
          "output_type": "stream",
          "name": "stdout",
          "text": [
            "Trial 66, n_estimators: 48, max_depth: 9, min_samples_split: 8, min_samples_leaf: 3, ROC-AUC: 0.9860308572885236\n"
          ]
        },
        {
          "output_type": "stream",
          "name": "stderr",
          "text": [
            "[I 2024-05-11 03:25:34,997] Trial 67 finished with value: 0.9876132906359031 and parameters: {'n_estimators': 46, 'max_depth': 10, 'min_samples_split': 9, 'min_samples_leaf': 2}. Best is trial 61 with value: 0.9882900746586525.\n"
          ]
        },
        {
          "output_type": "stream",
          "name": "stdout",
          "text": [
            "Trial 67, n_estimators: 46, max_depth: 10, min_samples_split: 9, min_samples_leaf: 2, ROC-AUC: 0.9876132906359031\n"
          ]
        },
        {
          "output_type": "stream",
          "name": "stderr",
          "text": [
            "[I 2024-05-11 03:25:36,271] Trial 68 finished with value: 0.8670855523994284 and parameters: {'n_estimators': 50, 'max_depth': 1, 'min_samples_split': 8, 'min_samples_leaf': 3}. Best is trial 61 with value: 0.9882900746586525.\n"
          ]
        },
        {
          "output_type": "stream",
          "name": "stdout",
          "text": [
            "Trial 68, n_estimators: 50, max_depth: 1, min_samples_split: 8, min_samples_leaf: 3, ROC-AUC: 0.8670855523994284\n"
          ]
        },
        {
          "output_type": "stream",
          "name": "stderr",
          "text": [
            "[I 2024-05-11 03:25:38,406] Trial 69 finished with value: 0.9857675581751113 and parameters: {'n_estimators': 43, 'max_depth': 9, 'min_samples_split': 8, 'min_samples_leaf': 3}. Best is trial 61 with value: 0.9882900746586525.\n"
          ]
        },
        {
          "output_type": "stream",
          "name": "stdout",
          "text": [
            "Trial 69, n_estimators: 43, max_depth: 9, min_samples_split: 8, min_samples_leaf: 3, ROC-AUC: 0.9857675581751113\n"
          ]
        },
        {
          "output_type": "stream",
          "name": "stderr",
          "text": [
            "[I 2024-05-11 03:25:39,440] Trial 70 finished with value: 0.8980104427775952 and parameters: {'n_estimators': 47, 'max_depth': 2, 'min_samples_split': 9, 'min_samples_leaf': 2}. Best is trial 61 with value: 0.9882900746586525.\n"
          ]
        },
        {
          "output_type": "stream",
          "name": "stdout",
          "text": [
            "Trial 70, n_estimators: 47, max_depth: 2, min_samples_split: 9, min_samples_leaf: 2, ROC-AUC: 0.8980104427775952\n"
          ]
        },
        {
          "output_type": "stream",
          "name": "stderr",
          "text": [
            "[I 2024-05-11 03:25:41,288] Trial 71 finished with value: 0.9872148395312663 and parameters: {'n_estimators': 42, 'max_depth': 10, 'min_samples_split': 8, 'min_samples_leaf': 4}. Best is trial 61 with value: 0.9882900746586525.\n"
          ]
        },
        {
          "output_type": "stream",
          "name": "stdout",
          "text": [
            "Trial 71, n_estimators: 42, max_depth: 10, min_samples_split: 8, min_samples_leaf: 4, ROC-AUC: 0.9872148395312663\n"
          ]
        },
        {
          "output_type": "stream",
          "name": "stderr",
          "text": [
            "[I 2024-05-11 03:25:43,990] Trial 72 finished with value: 0.9880552702452985 and parameters: {'n_estimators': 44, 'max_depth': 10, 'min_samples_split': 7, 'min_samples_leaf': 3}. Best is trial 61 with value: 0.9882900746586525.\n"
          ]
        },
        {
          "output_type": "stream",
          "name": "stdout",
          "text": [
            "Trial 72, n_estimators: 44, max_depth: 10, min_samples_split: 7, min_samples_leaf: 3, ROC-AUC: 0.9880552702452985\n"
          ]
        },
        {
          "output_type": "stream",
          "name": "stderr",
          "text": [
            "[I 2024-05-11 03:25:45,602] Trial 73 finished with value: 0.9874918011341876 and parameters: {'n_estimators': 45, 'max_depth': 10, 'min_samples_split': 6, 'min_samples_leaf': 3}. Best is trial 61 with value: 0.9882900746586525.\n"
          ]
        },
        {
          "output_type": "stream",
          "name": "stdout",
          "text": [
            "Trial 73, n_estimators: 45, max_depth: 10, min_samples_split: 6, min_samples_leaf: 3, ROC-AUC: 0.9874918011341876\n"
          ]
        },
        {
          "output_type": "stream",
          "name": "stderr",
          "text": [
            "[I 2024-05-11 03:25:47,146] Trial 74 finished with value: 0.9856683387582214 and parameters: {'n_estimators': 44, 'max_depth': 9, 'min_samples_split': 8, 'min_samples_leaf': 3}. Best is trial 61 with value: 0.9882900746586525.\n"
          ]
        },
        {
          "output_type": "stream",
          "name": "stdout",
          "text": [
            "Trial 74, n_estimators: 44, max_depth: 9, min_samples_split: 8, min_samples_leaf: 3, ROC-AUC: 0.9856683387582214\n"
          ]
        },
        {
          "output_type": "stream",
          "name": "stderr",
          "text": [
            "[I 2024-05-11 03:25:48,623] Trial 75 finished with value: 0.9875272479299447 and parameters: {'n_estimators': 40, 'max_depth': 10, 'min_samples_split': 7, 'min_samples_leaf': 2}. Best is trial 61 with value: 0.9882900746586525.\n"
          ]
        },
        {
          "output_type": "stream",
          "name": "stdout",
          "text": [
            "Trial 75, n_estimators: 40, max_depth: 10, min_samples_split: 7, min_samples_leaf: 2, ROC-AUC: 0.9875272479299447\n"
          ]
        },
        {
          "output_type": "stream",
          "name": "stderr",
          "text": [
            "[I 2024-05-11 03:25:50,104] Trial 76 finished with value: 0.9859878784180817 and parameters: {'n_estimators': 42, 'max_depth': 9, 'min_samples_split': 7, 'min_samples_leaf': 3}. Best is trial 61 with value: 0.9882900746586525.\n"
          ]
        },
        {
          "output_type": "stream",
          "name": "stdout",
          "text": [
            "Trial 76, n_estimators: 42, max_depth: 9, min_samples_split: 7, min_samples_leaf: 3, ROC-AUC: 0.9859878784180817\n"
          ]
        },
        {
          "output_type": "stream",
          "name": "stderr",
          "text": [
            "[I 2024-05-11 03:25:51,529] Trial 77 finished with value: 0.9875904677503609 and parameters: {'n_estimators': 38, 'max_depth': 10, 'min_samples_split': 7, 'min_samples_leaf': 1}. Best is trial 61 with value: 0.9882900746586525.\n"
          ]
        },
        {
          "output_type": "stream",
          "name": "stdout",
          "text": [
            "Trial 77, n_estimators: 38, max_depth: 10, min_samples_split: 7, min_samples_leaf: 1, ROC-AUC: 0.9875904677503609\n"
          ]
        },
        {
          "output_type": "stream",
          "name": "stderr",
          "text": [
            "[I 2024-05-11 03:25:53,139] Trial 78 finished with value: 0.9877161194852547 and parameters: {'n_estimators': 44, 'max_depth': 10, 'min_samples_split': 8, 'min_samples_leaf': 2}. Best is trial 61 with value: 0.9882900746586525.\n"
          ]
        },
        {
          "output_type": "stream",
          "name": "stdout",
          "text": [
            "Trial 78, n_estimators: 44, max_depth: 10, min_samples_split: 8, min_samples_leaf: 2, ROC-AUC: 0.9877161194852547\n"
          ]
        },
        {
          "output_type": "stream",
          "name": "stderr",
          "text": [
            "[I 2024-05-11 03:25:55,398] Trial 79 finished with value: 0.9877595843981408 and parameters: {'n_estimators': 47, 'max_depth': 10, 'min_samples_split': 9, 'min_samples_leaf': 3}. Best is trial 61 with value: 0.9882900746586525.\n"
          ]
        },
        {
          "output_type": "stream",
          "name": "stdout",
          "text": [
            "Trial 79, n_estimators: 47, max_depth: 10, min_samples_split: 9, min_samples_leaf: 3, ROC-AUC: 0.9877595843981408\n"
          ]
        },
        {
          "output_type": "stream",
          "name": "stderr",
          "text": [
            "[I 2024-05-11 03:25:57,631] Trial 80 finished with value: 0.9861714982346473 and parameters: {'n_estimators': 40, 'max_depth': 9, 'min_samples_split': 7, 'min_samples_leaf': 4}. Best is trial 61 with value: 0.9882900746586525.\n"
          ]
        },
        {
          "output_type": "stream",
          "name": "stdout",
          "text": [
            "Trial 80, n_estimators: 40, max_depth: 9, min_samples_split: 7, min_samples_leaf: 4, ROC-AUC: 0.9861714982346473\n"
          ]
        },
        {
          "output_type": "stream",
          "name": "stderr",
          "text": [
            "[I 2024-05-11 03:25:59,326] Trial 81 finished with value: 0.9878467986722059 and parameters: {'n_estimators': 48, 'max_depth': 10, 'min_samples_split': 9, 'min_samples_leaf': 3}. Best is trial 61 with value: 0.9882900746586525.\n"
          ]
        },
        {
          "output_type": "stream",
          "name": "stdout",
          "text": [
            "Trial 81, n_estimators: 48, max_depth: 10, min_samples_split: 9, min_samples_leaf: 3, ROC-AUC: 0.9878467986722059\n"
          ]
        },
        {
          "output_type": "stream",
          "name": "stderr",
          "text": [
            "[I 2024-05-11 03:26:01,054] Trial 82 finished with value: 0.9879569954711609 and parameters: {'n_estimators': 50, 'max_depth': 10, 'min_samples_split': 9, 'min_samples_leaf': 3}. Best is trial 61 with value: 0.9882900746586525.\n"
          ]
        },
        {
          "output_type": "stream",
          "name": "stdout",
          "text": [
            "Trial 82, n_estimators: 50, max_depth: 10, min_samples_split: 9, min_samples_leaf: 3, ROC-AUC: 0.9879569954711609\n"
          ]
        },
        {
          "output_type": "stream",
          "name": "stderr",
          "text": [
            "[I 2024-05-11 03:26:02,065] Trial 83 finished with value: 0.9863587549258106 and parameters: {'n_estimators': 26, 'max_depth': 10, 'min_samples_split': 9, 'min_samples_leaf': 4}. Best is trial 61 with value: 0.9882900746586525.\n"
          ]
        },
        {
          "output_type": "stream",
          "name": "stdout",
          "text": [
            "Trial 83, n_estimators: 26, max_depth: 10, min_samples_split: 9, min_samples_leaf: 4, ROC-AUC: 0.9863587549258106\n"
          ]
        },
        {
          "output_type": "stream",
          "name": "stderr",
          "text": [
            "[I 2024-05-11 03:26:03,890] Trial 84 finished with value: 0.9876866846281779 and parameters: {'n_estimators': 50, 'max_depth': 10, 'min_samples_split': 10, 'min_samples_leaf': 2}. Best is trial 61 with value: 0.9882900746586525.\n"
          ]
        },
        {
          "output_type": "stream",
          "name": "stdout",
          "text": [
            "Trial 84, n_estimators: 50, max_depth: 10, min_samples_split: 10, min_samples_leaf: 2, ROC-AUC: 0.9876866846281779\n"
          ]
        },
        {
          "output_type": "stream",
          "name": "stderr",
          "text": [
            "[I 2024-05-11 03:26:05,592] Trial 85 finished with value: 0.9856739609657993 and parameters: {'n_estimators': 49, 'max_depth': 9, 'min_samples_split': 9, 'min_samples_leaf': 3}. Best is trial 61 with value: 0.9882900746586525.\n"
          ]
        },
        {
          "output_type": "stream",
          "name": "stdout",
          "text": [
            "Trial 85, n_estimators: 49, max_depth: 9, min_samples_split: 9, min_samples_leaf: 3, ROC-AUC: 0.9856739609657993\n"
          ]
        },
        {
          "output_type": "stream",
          "name": "stderr",
          "text": [
            "[I 2024-05-11 03:26:07,480] Trial 86 finished with value: 0.9876075504799143 and parameters: {'n_estimators': 48, 'max_depth': 10, 'min_samples_split': 10, 'min_samples_leaf': 3}. Best is trial 61 with value: 0.9882900746586525.\n"
          ]
        },
        {
          "output_type": "stream",
          "name": "stdout",
          "text": [
            "Trial 86, n_estimators: 48, max_depth: 10, min_samples_split: 10, min_samples_leaf: 3, ROC-AUC: 0.9876075504799143\n"
          ]
        },
        {
          "output_type": "stream",
          "name": "stderr",
          "text": [
            "[I 2024-05-11 03:26:08,877] Trial 87 finished with value: 0.9863678316761026 and parameters: {'n_estimators': 20, 'max_depth': 10, 'min_samples_split': 9, 'min_samples_leaf': 4}. Best is trial 61 with value: 0.9882900746586525.\n"
          ]
        },
        {
          "output_type": "stream",
          "name": "stdout",
          "text": [
            "Trial 87, n_estimators: 20, max_depth: 10, min_samples_split: 9, min_samples_leaf: 4, ROC-AUC: 0.9863678316761026\n"
          ]
        },
        {
          "output_type": "stream",
          "name": "stderr",
          "text": [
            "[I 2024-05-11 03:26:11,235] Trial 88 finished with value: 0.9858452893441807 and parameters: {'n_estimators': 46, 'max_depth': 9, 'min_samples_split': 7, 'min_samples_leaf': 2}. Best is trial 61 with value: 0.9882900746586525.\n"
          ]
        },
        {
          "output_type": "stream",
          "name": "stdout",
          "text": [
            "Trial 88, n_estimators: 46, max_depth: 9, min_samples_split: 7, min_samples_leaf: 2, ROC-AUC: 0.9858452893441807\n"
          ]
        },
        {
          "output_type": "stream",
          "name": "stderr",
          "text": [
            "[I 2024-05-11 03:26:12,805] Trial 89 finished with value: 0.9881179441255317 and parameters: {'n_estimators': 43, 'max_depth': 10, 'min_samples_split': 6, 'min_samples_leaf': 3}. Best is trial 61 with value: 0.9882900746586525.\n"
          ]
        },
        {
          "output_type": "stream",
          "name": "stdout",
          "text": [
            "Trial 89, n_estimators: 43, max_depth: 10, min_samples_split: 6, min_samples_leaf: 3, ROC-AUC: 0.9881179441255317\n"
          ]
        },
        {
          "output_type": "stream",
          "name": "stderr",
          "text": [
            "[I 2024-05-11 03:26:14,542] Trial 90 finished with value: 0.9859328693374788 and parameters: {'n_estimators': 49, 'max_depth': 9, 'min_samples_split': 5, 'min_samples_leaf': 1}. Best is trial 61 with value: 0.9882900746586525.\n"
          ]
        },
        {
          "output_type": "stream",
          "name": "stdout",
          "text": [
            "Trial 90, n_estimators: 49, max_depth: 9, min_samples_split: 5, min_samples_leaf: 1, ROC-AUC: 0.9859328693374788\n"
          ]
        },
        {
          "output_type": "stream",
          "name": "stderr",
          "text": [
            "[I 2024-05-11 03:26:16,240] Trial 91 finished with value: 0.9875570991686595 and parameters: {'n_estimators': 47, 'max_depth': 10, 'min_samples_split': 6, 'min_samples_leaf': 3}. Best is trial 61 with value: 0.9882900746586525.\n"
          ]
        },
        {
          "output_type": "stream",
          "name": "stdout",
          "text": [
            "Trial 91, n_estimators: 47, max_depth: 10, min_samples_split: 6, min_samples_leaf: 3, ROC-AUC: 0.9875570991686595\n"
          ]
        },
        {
          "output_type": "stream",
          "name": "stderr",
          "text": [
            "[I 2024-05-11 03:26:17,821] Trial 92 finished with value: 0.9875833209210443 and parameters: {'n_estimators': 43, 'max_depth': 10, 'min_samples_split': 6, 'min_samples_leaf': 3}. Best is trial 61 with value: 0.9882900746586525.\n"
          ]
        },
        {
          "output_type": "stream",
          "name": "stdout",
          "text": [
            "Trial 92, n_estimators: 43, max_depth: 10, min_samples_split: 6, min_samples_leaf: 3, ROC-AUC: 0.9875833209210443\n"
          ]
        },
        {
          "output_type": "stream",
          "name": "stderr",
          "text": [
            "[I 2024-05-11 03:26:19,333] Trial 93 finished with value: 0.9870968301673342 and parameters: {'n_estimators': 41, 'max_depth': 10, 'min_samples_split': 6, 'min_samples_leaf': 4}. Best is trial 61 with value: 0.9882900746586525.\n"
          ]
        },
        {
          "output_type": "stream",
          "name": "stdout",
          "text": [
            "Trial 93, n_estimators: 41, max_depth: 10, min_samples_split: 6, min_samples_leaf: 4, ROC-AUC: 0.9870968301673342\n"
          ]
        },
        {
          "output_type": "stream",
          "name": "stderr",
          "text": [
            "[I 2024-05-11 03:26:21,102] Trial 94 finished with value: 0.9883812171161415 and parameters: {'n_estimators': 45, 'max_depth': 10, 'min_samples_split': 7, 'min_samples_leaf': 3}. Best is trial 94 with value: 0.9883812171161415.\n"
          ]
        },
        {
          "output_type": "stream",
          "name": "stdout",
          "text": [
            "Trial 94, n_estimators: 45, max_depth: 10, min_samples_split: 7, min_samples_leaf: 3, ROC-AUC: 0.9883812171161415\n"
          ]
        },
        {
          "output_type": "stream",
          "name": "stderr",
          "text": [
            "[I 2024-05-11 03:26:23,949] Trial 95 finished with value: 0.9881872070208975 and parameters: {'n_estimators': 45, 'max_depth': 10, 'min_samples_split': 7, 'min_samples_leaf': 2}. Best is trial 94 with value: 0.9883812171161415.\n"
          ]
        },
        {
          "output_type": "stream",
          "name": "stdout",
          "text": [
            "Trial 95, n_estimators: 45, max_depth: 10, min_samples_split: 7, min_samples_leaf: 2, ROC-AUC: 0.9881872070208975\n"
          ]
        },
        {
          "output_type": "stream",
          "name": "stderr",
          "text": [
            "[I 2024-05-11 03:26:25,146] Trial 96 finished with value: 0.9489391975889931 and parameters: {'n_estimators': 45, 'max_depth': 4, 'min_samples_split': 6, 'min_samples_leaf': 2}. Best is trial 94 with value: 0.9883812171161415.\n"
          ]
        },
        {
          "output_type": "stream",
          "name": "stdout",
          "text": [
            "Trial 96, n_estimators: 45, max_depth: 4, min_samples_split: 6, min_samples_leaf: 2, ROC-AUC: 0.9489391975889931\n"
          ]
        },
        {
          "output_type": "stream",
          "name": "stderr",
          "text": [
            "[I 2024-05-11 03:26:26,809] Trial 97 finished with value: 0.9857730880293477 and parameters: {'n_estimators': 48, 'max_depth': 9, 'min_samples_split': 8, 'min_samples_leaf': 2}. Best is trial 94 with value: 0.9883812171161415.\n"
          ]
        },
        {
          "output_type": "stream",
          "name": "stdout",
          "text": [
            "Trial 97, n_estimators: 48, max_depth: 9, min_samples_split: 8, min_samples_leaf: 2, ROC-AUC: 0.9857730880293477\n"
          ]
        },
        {
          "output_type": "stream",
          "name": "stderr",
          "text": [
            "[I 2024-05-11 03:26:27,201] Trial 98 finished with value: 0.9797426240605132 and parameters: {'n_estimators': 5, 'max_depth': 10, 'min_samples_split': 6, 'min_samples_leaf': 1}. Best is trial 94 with value: 0.9883812171161415.\n"
          ]
        },
        {
          "output_type": "stream",
          "name": "stdout",
          "text": [
            "Trial 98, n_estimators: 5, max_depth: 10, min_samples_split: 6, min_samples_leaf: 1, ROC-AUC: 0.9797426240605132\n"
          ]
        },
        {
          "output_type": "stream",
          "name": "stderr",
          "text": [
            "[I 2024-05-11 03:26:28,306] Trial 99 finished with value: 0.9269621393623115 and parameters: {'n_estimators': 46, 'max_depth': 3, 'min_samples_split': 7, 'min_samples_leaf': 3}. Best is trial 94 with value: 0.9883812171161415.\n"
          ]
        },
        {
          "output_type": "stream",
          "name": "stdout",
          "text": [
            "Trial 99, n_estimators: 46, max_depth: 3, min_samples_split: 7, min_samples_leaf: 3, ROC-AUC: 0.9269621393623115\n",
            "Best Parameters:  {'n_estimators': 45, 'max_depth': 10, 'min_samples_split': 7, 'min_samples_leaf': 3}\n",
            "Best ROC-AUC: Score:  0.9883812171161415\n"
          ]
        }
      ]
    },
    {
      "cell_type": "code",
      "source": [
        "label_encoder = LabelEncoder()\n",
        "# Fit the encoder and transform the target variable\n",
        "y_train_oversampled_encoded = label_encoder.fit_transform(y_train_oversampled)\n",
        "# This suppresses printing logs\n",
        "optuna.logging.set_verbosity(optuna.logging.WARNING)\n",
        "\n",
        "def objective_function(trial):\n",
        "    n_estimators = trial.suggest_int('n_estimators', 2, 50)\n",
        "    max_depth = trial.suggest_int('max_depth', 1, 10)\n",
        "    learning_rate = trial.suggest_float('learning_rate', 0.001, 0.9, log=True)\n",
        "    min_child_weight = trial.suggest_int('min_child_weight', 1, 10)\n",
        "    subsample = trial.suggest_float('subsample', 0.5, 1.0)\n",
        "    colsample_bytree = trial.suggest_float('colsample_bytree', 0.5, 1.0)\n",
        "    gamma = trial.suggest_float('gamma', 0, 1.0)\n",
        "    reg_alpha = trial.suggest_float('reg_alpha', 0, 1)\n",
        "    reg_lambda = trial.suggest_float('reg_lambda', 0, 1)\n",
        "\n",
        "    model = XGBClassifier(\n",
        "        n_estimators=n_estimators,\n",
        "        max_depth=max_depth,\n",
        "        learning_rate=learning_rate,\n",
        "        min_child_weight=min_child_weight,\n",
        "        subsample=subsample,\n",
        "        colsample_bytree=colsample_bytree,\n",
        "        gamma=gamma,\n",
        "        reg_alpha=reg_alpha,\n",
        "        reg_lambda=reg_lambda,\n",
        "        use_label_encoder=False,\n",
        "        n_jobs=-1\n",
        "    )\n",
        "\n",
        "    # Using cross_val_score to get the average ROC-AUC score for each fold\n",
        "    scores = cross_val_score(model, X_train_oversampled, y_train_oversampled_encoded, cv=5, scoring='roc_auc')\n",
        "    roc_auc = np.mean(scores)\n",
        "    # Printing intermediate results\n",
        "    print(f\"Trial {trial.number}, n_estimators: {n_estimators}, max_depth: {max_depth}, learning_rate: {learning_rate},\"\n",
        "          f\"min_child_weight: {min_child_weight}, subsample: {subsample}, colsample_bytree: {colsample_bytree}, \"\n",
        "          f\"gamma: {gamma}, reg_alpha: {reg_alpha}, reg_lambda: {reg_lambda}, ROC-AUC: {roc_auc}\")\n",
        "    return roc_auc\n",
        "\n",
        "\n",
        "study_xgb = optuna.create_study(direction=\"maximize\")\n",
        "study_xgb.optimize(objective_function, n_trials=100)\n",
        "\n",
        "best_params_xgb = study_xgb.best_params\n",
        "print(\"Best Parameters: \", best_params_xgb)\n",
        "print(\"Best ROC-AUC Score: \", study_xgb.best_value)\n",
        "\n",
        "best_model_xgb = XGBClassifier(**best_params_xgb, use_label_encoder=False, n_jobs=-1)\n",
        "with open('best_models_xgb_8_features.pkl', 'wb') as file:\n",
        "    pickle.dump(best_model_xgb, file)"
      ],
      "metadata": {
        "colab": {
          "base_uri": "https://localhost:8080/"
        },
        "id": "MoH6yVDtr5z7",
        "outputId": "fbfaf82f-f328-4816-fa68-085ff9f398d8"
      },
      "execution_count": 22,
      "outputs": [
        {
          "output_type": "stream",
          "name": "stdout",
          "text": [
            "Trial 0, n_estimators: 10, max_depth: 3, learning_rate: 0.7897556921350515,min_child_weight: 1, subsample: 0.8863322946209868, colsample_bytree: 0.9013839074424221, gamma: 0.16368015196267438, reg_alpha: 0.7528856955143486, reg_lambda: 0.49558268950776585, ROC-AUC: 0.9837970001460346\n",
            "Trial 1, n_estimators: 30, max_depth: 1, learning_rate: 0.0027131225788462466,min_child_weight: 6, subsample: 0.7207044600936032, colsample_bytree: 0.6370567279382376, gamma: 0.7058803684540864, reg_alpha: 0.844160657477311, reg_lambda: 0.3624498280654168, ROC-AUC: 0.8332608288356728\n",
            "Trial 2, n_estimators: 32, max_depth: 4, learning_rate: 0.14012760305789973,min_child_weight: 7, subsample: 0.9813525335168373, colsample_bytree: 0.902782211148908, gamma: 0.448260737770909, reg_alpha: 0.24079831216831704, reg_lambda: 0.7306282963917448, ROC-AUC: 0.9833692561446004\n",
            "Trial 3, n_estimators: 41, max_depth: 10, learning_rate: 0.15722811333219644,min_child_weight: 10, subsample: 0.9033332053013357, colsample_bytree: 0.964808579549806, gamma: 0.9061865511229114, reg_alpha: 0.2911560610304702, reg_lambda: 0.5156338812937095, ROC-AUC: 0.9915740737339792\n",
            "Trial 4, n_estimators: 44, max_depth: 3, learning_rate: 0.053658154162928164,min_child_weight: 6, subsample: 0.8478404431701975, colsample_bytree: 0.9074033501114839, gamma: 0.924550032525072, reg_alpha: 0.6344159557414856, reg_lambda: 0.3344228682571395, ROC-AUC: 0.9573600737104213\n",
            "Trial 5, n_estimators: 41, max_depth: 8, learning_rate: 0.0010404081702863307,min_child_weight: 2, subsample: 0.6581200908240472, colsample_bytree: 0.6955277624153194, gamma: 0.40769917304507663, reg_alpha: 0.37206244674108835, reg_lambda: 0.7524401345569394, ROC-AUC: 0.9864446870716257\n",
            "Trial 6, n_estimators: 29, max_depth: 4, learning_rate: 0.5867844094530583,min_child_weight: 10, subsample: 0.9675135011686976, colsample_bytree: 0.6214411791910719, gamma: 0.14923222665743474, reg_alpha: 0.9257392205634296, reg_lambda: 0.1317506852870548, ROC-AUC: 0.989912557692341\n",
            "Trial 7, n_estimators: 38, max_depth: 10, learning_rate: 0.0038678913877312074,min_child_weight: 7, subsample: 0.5991780997823888, colsample_bytree: 0.6072567697524048, gamma: 0.0665464231880889, reg_alpha: 0.21708464291775087, reg_lambda: 0.7658610794576581, ROC-AUC: 0.9871052100456963\n",
            "Trial 8, n_estimators: 46, max_depth: 7, learning_rate: 0.011366429051699217,min_child_weight: 9, subsample: 0.6157388029815138, colsample_bytree: 0.5406513063921646, gamma: 0.2701846017347306, reg_alpha: 0.4502939611033747, reg_lambda: 0.9912511091816519, ROC-AUC: 0.9822177870277476\n",
            "Trial 9, n_estimators: 42, max_depth: 3, learning_rate: 0.0050373165440165905,min_child_weight: 3, subsample: 0.7127041986808023, colsample_bytree: 0.9652341284633248, gamma: 0.5236670105739569, reg_alpha: 0.12955538726408278, reg_lambda: 0.09327842299631017, ROC-AUC: 0.9072673008206508\n",
            "Trial 10, n_estimators: 16, max_depth: 10, learning_rate: 0.1331449261990995,min_child_weight: 4, subsample: 0.5049211548128814, colsample_bytree: 0.801618578198179, gamma: 0.9831595876872535, reg_alpha: 0.04206774224191351, reg_lambda: 0.5652800119800994, ROC-AUC: 0.9887002409166212\n",
            "Trial 11, n_estimators: 22, max_depth: 6, learning_rate: 0.720465444393417,min_child_weight: 10, subsample: 0.9866444650782029, colsample_bytree: 0.7793026898406433, gamma: 0.7457371091973966, reg_alpha: 0.9552316328546323, reg_lambda: 0.01158038691249906, ROC-AUC: 0.990314378902351\n",
            "Trial 12, n_estimators: 19, max_depth: 7, learning_rate: 0.2194994179170246,min_child_weight: 9, subsample: 0.8437775204991182, colsample_bytree: 0.7843982412858925, gamma: 0.7641515775888523, reg_alpha: 0.5907573035631664, reg_lambda: 0.0018395274350700725, ROC-AUC: 0.9894152866649838\n",
            "Trial 13, n_estimators: 3, max_depth: 8, learning_rate: 0.04220644023846539,min_child_weight: 10, subsample: 0.9198257660351234, colsample_bytree: 0.9918111574846095, gamma: 0.7721417146499858, reg_alpha: 0.34756346231095747, reg_lambda: 0.27645337902326556, ROC-AUC: 0.9572435931900948\n",
            "Trial 14, n_estimators: 22, max_depth: 6, learning_rate: 0.3427162142969471,min_child_weight: 8, subsample: 0.7992146286257222, colsample_bytree: 0.8470917425377551, gamma: 0.620319786969879, reg_alpha: 0.7076498561067228, reg_lambda: 0.5374886245905776, ROC-AUC: 0.9903853598337395\n",
            "Trial 15, n_estimators: 49, max_depth: 9, learning_rate: 0.28278930282209913,min_child_weight: 8, subsample: 0.8033081886182484, colsample_bytree: 0.8456443222818235, gamma: 0.5873069149213033, reg_alpha: 0.6641581133296763, reg_lambda: 0.5371657039026312, ROC-AUC: 0.9918087667955898\n",
            "Trial 16, n_estimators: 50, max_depth: 9, learning_rate: 0.076072617202591,min_child_weight: 8, subsample: 0.7815645534701996, colsample_bytree: 0.846260823055588, gamma: 0.8750081061392595, reg_alpha: 0.5215914358368723, reg_lambda: 0.6181818431022864, ROC-AUC: 0.9904231555707768\n",
            "Trial 17, n_estimators: 36, max_depth: 9, learning_rate: 0.021279777112379914,min_child_weight: 5, subsample: 0.9113602986073093, colsample_bytree: 0.9452909463318632, gamma: 0.5852320392004494, reg_alpha: 0.40993482430002015, reg_lambda: 0.40625249374974365, ROC-AUC: 0.9844138407810658\n",
            "Trial 18, n_estimators: 50, max_depth: 10, learning_rate: 0.2637620659856438,min_child_weight: 8, subsample: 0.8219421396512064, colsample_bytree: 0.7081215717118885, gamma: 0.3509937412140949, reg_alpha: 0.25130685389235374, reg_lambda: 0.9002340839058949, ROC-AUC: 0.9921073981866153\n",
            "Trial 19, n_estimators: 47, max_depth: 9, learning_rate: 0.3227471191898028,min_child_weight: 8, subsample: 0.7618692271153938, colsample_bytree: 0.7090608043528549, gamma: 0.3245856541165557, reg_alpha: 0.014177721303636148, reg_lambda: 0.9846982102345821, ROC-AUC: 0.9916747737068705\n",
            "Trial 20, n_estimators: 50, max_depth: 8, learning_rate: 0.026312260301426686,min_child_weight: 5, subsample: 0.8287831318627537, colsample_bytree: 0.6955763570497505, gamma: 0.3404880623951893, reg_alpha: 0.5248892945515817, reg_lambda: 0.8764205102353289, ROC-AUC: 0.9881921218018777\n",
            "Trial 21, n_estimators: 47, max_depth: 9, learning_rate: 0.3542833789004383,min_child_weight: 8, subsample: 0.7538238252898194, colsample_bytree: 0.7301362177750004, gamma: 0.30038602680321796, reg_alpha: 0.03242397515606702, reg_lambda: 0.9933690669408561, ROC-AUC: 0.9913367847518659\n",
            "Trial 22, n_estimators: 35, max_depth: 9, learning_rate: 0.30817749772753616,min_child_weight: 7, subsample: 0.7162543046075683, colsample_bytree: 0.6825806898178668, gamma: 0.23116075326231086, reg_alpha: 0.1422288463114616, reg_lambda: 0.8678262137124046, ROC-AUC: 0.9912765489998545\n",
            "Trial 23, n_estimators: 50, max_depth: 10, learning_rate: 0.10012976247210381,min_child_weight: 9, subsample: 0.7877898399028674, colsample_bytree: 0.7388110489522384, gamma: 0.41920251945479936, reg_alpha: 0.1070829779379847, reg_lambda: 0.8813156887992933, ROC-AUC: 0.991257396763846\n",
            "Trial 24, n_estimators: 47, max_depth: 7, learning_rate: 0.5166976023272137,min_child_weight: 8, subsample: 0.6724378877598236, colsample_bytree: 0.8352634075909463, gamma: 0.5060215219269844, reg_alpha: 0.01042441278701602, reg_lambda: 0.6522615034041657, ROC-AUC: 0.9904228122802122\n",
            "Trial 25, n_estimators: 38, max_depth: 8, learning_rate: 0.2133227604982214,min_child_weight: 7, subsample: 0.7585239134955245, colsample_bytree: 0.544536752710467, gamma: 0.3596994698293553, reg_alpha: 0.22463361958706274, reg_lambda: 0.8119522801887935, ROC-AUC: 0.9915563822639702\n",
            "Trial 26, n_estimators: 44, max_depth: 9, learning_rate: 0.07065712267925896,min_child_weight: 6, subsample: 0.8235108856234438, colsample_bytree: 0.6610041004591948, gamma: 0.6205408579891141, reg_alpha: 0.735999647946234, reg_lambda: 0.9407578445160989, ROC-AUC: 0.9902469760032876\n",
            "Trial 27, n_estimators: 46, max_depth: 10, learning_rate: 0.4270699399142466,min_child_weight: 9, subsample: 0.8665698354637742, colsample_bytree: 0.7362650654901648, gamma: 0.04027063296450517, reg_alpha: 0.6339139470904088, reg_lambda: 0.6694578357102161, ROC-AUC: 0.9913648543626854\n",
            "Trial 28, n_estimators: 40, max_depth: 7, learning_rate: 0.21851968301429103,min_child_weight: 8, subsample: 0.9419457427288738, colsample_bytree: 0.8249755048754919, gamma: 0.20224935031767333, reg_alpha: 0.8154339836385859, reg_lambda: 0.9297358100511417, ROC-AUC: 0.9918192478444098\n",
            "Trial 29, n_estimators: 34, max_depth: 5, learning_rate: 0.8390370580347977,min_child_weight: 1, subsample: 0.9416586022181879, colsample_bytree: 0.8152236559029847, gamma: 0.21865535453410356, reg_alpha: 0.8237801741318781, reg_lambda: 0.20473723134709398, ROC-AUC: 0.9904355422648365\n",
            "Trial 30, n_estimators: 11, max_depth: 7, learning_rate: 0.01052269885723372,min_child_weight: 4, subsample: 0.872547357492975, colsample_bytree: 0.8629044097773624, gamma: 0.14242533577624064, reg_alpha: 0.8362794036428248, reg_lambda: 0.44308543047424104, ROC-AUC: 0.9794879306953505\n",
            "Trial 31, n_estimators: 39, max_depth: 8, learning_rate: 0.23853087592060648,min_child_weight: 8, subsample: 0.8035193934978219, colsample_bytree: 0.7646983399929534, gamma: 0.19270763583012473, reg_alpha: 0.7592687904648858, reg_lambda: 0.9181231848836496, ROC-AUC: 0.9916720002040851\n",
            "Trial 32, n_estimators: 44, max_depth: 1, learning_rate: 0.10542657396570518,min_child_weight: 7, subsample: 0.7346776904417947, colsample_bytree: 0.8810075668615516, gamma: 0.34521191230096643, reg_alpha: 0.9066920258921685, reg_lambda: 0.8211094150672915, ROC-AUC: 0.8975488689554844\n",
            "Trial 33, n_estimators: 50, max_depth: 9, learning_rate: 0.16236545077029813,min_child_weight: 9, subsample: 0.9404617828942771, colsample_bytree: 0.7203318558790662, gamma: 0.11363735278229803, reg_alpha: 0.7855592004613904, reg_lambda: 0.9484491361969719, ROC-AUC: 0.991715580426715\n",
            "Trial 34, n_estimators: 50, max_depth: 6, learning_rate: 0.17095000536056645,min_child_weight: 9, subsample: 0.9466038211473011, colsample_bytree: 0.8136343704476947, gamma: 0.10726979208781051, reg_alpha: 0.7725589036567543, reg_lambda: 0.8137780695705095, ROC-AUC: 0.9911715202939027\n",
            "Trial 35, n_estimators: 29, max_depth: 10, learning_rate: 0.040071114434153135,min_child_weight: 9, subsample: 0.8782315938290154, colsample_bytree: 0.6485799989781995, gamma: 0.008701254586957627, reg_alpha: 0.6764873257021041, reg_lambda: 0.6999391736115999, ROC-AUC: 0.9886297499856773\n",
            "Trial 36, n_estimators: 42, max_depth: 8, learning_rate: 0.1484209447135136,min_child_weight: 7, subsample: 0.9408634575135425, colsample_bytree: 0.5784841123429602, gamma: 0.45334497893505, reg_alpha: 0.8889558401969756, reg_lambda: 0.9209917518419838, ROC-AUC: 0.9911128735471024\n",
            "Trial 37, n_estimators: 32, max_depth: 9, learning_rate: 0.5025264606172267,min_child_weight: 6, subsample: 0.8972957370303345, colsample_bytree: 0.9218452534488302, gamma: 0.2533998433960253, reg_alpha: 0.5775180893749471, reg_lambda: 0.7674389713352148, ROC-AUC: 0.9917233705630236\n",
            "Trial 38, n_estimators: 27, max_depth: 5, learning_rate: 0.6717923746460996,min_child_weight: 6, subsample: 0.9942219403533542, colsample_bytree: 0.9212834801389529, gamma: 0.25641924777228764, reg_alpha: 0.5821835845874999, reg_lambda: 0.7510497359113751, ROC-AUC: 0.9901752968806354\n",
            "Trial 39, n_estimators: 31, max_depth: 10, learning_rate: 0.4314901716743009,min_child_weight: 6, subsample: 0.8994868888535584, colsample_bytree: 0.8922245739442257, gamma: 0.41612222654849507, reg_alpha: 0.2963258084153228, reg_lambda: 0.6014118207252083, ROC-AUC: 0.9915376891560037\n",
            "Trial 40, n_estimators: 39, max_depth: 7, learning_rate: 0.8755386635214892,min_child_weight: 5, subsample: 0.8651043406791592, colsample_bytree: 0.9157742148333923, gamma: 0.18636061266021425, reg_alpha: 0.49013158957089886, reg_lambda: 0.8475576850575737, ROC-AUC: 0.9898333330378026\n",
            "Trial 41, n_estimators: 33, max_depth: 9, learning_rate: 0.24790914947374074,min_child_weight: 8, subsample: 0.925134434074843, colsample_bytree: 0.760048474958528, gamma: 0.1032183126920464, reg_alpha: 0.9988243680474667, reg_lambda: 0.9488872442050857, ROC-AUC: 0.9917563879381597\n",
            "Trial 42, n_estimators: 33, max_depth: 10, learning_rate: 0.22911425132406288,min_child_weight: 7, subsample: 0.8894847051729454, colsample_bytree: 0.7590925858478149, gamma: 0.09609684467294854, reg_alpha: 0.9642151053448156, reg_lambda: 0.7792152616495647, ROC-AUC: 0.992018286974911\n",
            "Trial 43, n_estimators: 26, max_depth: 10, learning_rate: 0.23955112099505665,min_child_weight: 7, subsample: 0.9723590670368326, colsample_bytree: 0.7590540439008274, gamma: 0.07338761121792314, reg_alpha: 0.991611255758713, reg_lambda: 0.8926358618113831, ROC-AUC: 0.9915743539604047\n",
            "Trial 44, n_estimators: 34, max_depth: 10, learning_rate: 0.0012216045136273909,min_child_weight: 8, subsample: 0.8498446101081065, colsample_bytree: 0.7871006768118141, gamma: 0.0052587072163268744, reg_alpha: 0.9994366112884219, reg_lambda: 0.7180438873179982, ROC-AUC: 0.9836935583343603\n",
            "Trial 45, n_estimators: 37, max_depth: 8, learning_rate: 0.11211758780300078,min_child_weight: 7, subsample: 0.8202866390075646, colsample_bytree: 0.8239788370315122, gamma: 0.15697492182940687, reg_alpha: 0.8742764768773876, reg_lambda: 0.4598980873019866, ROC-AUC: 0.9903847210124814\n",
            "Trial 46, n_estimators: 42, max_depth: 10, learning_rate: 0.07139373952236384,min_child_weight: 10, subsample: 0.8448279487355502, colsample_bytree: 0.7628421021724511, gamma: 0.0829095390946018, reg_alpha: 0.9471341517483307, reg_lambda: 0.7864562404219906, ROC-AUC: 0.9894168395204584\n",
            "Trial 47, n_estimators: 40, max_depth: 9, learning_rate: 0.26851380386458207,min_child_weight: 8, subsample: 0.9117022368653604, colsample_bytree: 0.874215367591529, gamma: 0.5844925934213032, reg_alpha: 0.8080085526227302, reg_lambda: 0.9590401143300026, ROC-AUC: 0.9920364043257589\n",
            "Trial 48, n_estimators: 44, max_depth: 4, learning_rate: 0.16615097775060408,min_child_weight: 8, subsample: 0.9650395218660506, colsample_bytree: 0.8747787152035417, gamma: 0.5553089662852768, reg_alpha: 0.8087930136197667, reg_lambda: 0.2733892122061579, ROC-AUC: 0.98884577395119\n",
            "Trial 49, n_estimators: 39, max_depth: 8, learning_rate: 0.05218245354438064,min_child_weight: 9, subsample: 0.5056394492580031, colsample_bytree: 0.8592643347091239, gamma: 0.666769354609496, reg_alpha: 0.6694179396759702, reg_lambda: 0.8373506706024902, ROC-AUC: 0.9860366180261142\n",
            "Trial 50, n_estimators: 41, max_depth: 2, learning_rate: 0.31196667728779576,min_child_weight: 7, subsample: 0.8905740733876091, colsample_bytree: 0.7922951320636704, gamma: 0.47323725782345316, reg_alpha: 0.8723893528429085, reg_lambda: 0.9976686222634197, ROC-AUC: 0.9811063061162653\n",
            "Trial 51, n_estimators: 27, max_depth: 9, learning_rate: 0.23984076269249985,min_child_weight: 8, subsample: 0.9182629549727873, colsample_bytree: 0.8280283094371238, gamma: 0.659050894374749, reg_alpha: 0.9363404751614958, reg_lambda: 0.9529562563179832, ROC-AUC: 0.9916949381355045\n",
            "Trial 52, n_estimators: 25, max_depth: 9, learning_rate: 0.1884310068791458,min_child_weight: 8, subsample: 0.9147988263605958, colsample_bytree: 0.8056260275364291, gamma: 0.8180015944976038, reg_alpha: 0.9772379836898085, reg_lambda: 0.8989633429624044, ROC-AUC: 0.9911173766960454\n",
            "Trial 53, n_estimators: 33, max_depth: 10, learning_rate: 0.1281733179237574,min_child_weight: 8, subsample: 0.9637999781275017, colsample_bytree: 0.6718350315191454, gamma: 0.5574544718027745, reg_alpha: 0.7108806418290925, reg_lambda: 0.9640757760072368, ROC-AUC: 0.9910513430012401\n",
            "Trial 54, n_estimators: 36, max_depth: 9, learning_rate: 0.6410341102911007,min_child_weight: 7, subsample: 0.9259787732279664, colsample_bytree: 0.7068258911632482, gamma: 0.3752211121748363, reg_alpha: 0.863314984798411, reg_lambda: 0.9272585975732133, ROC-AUC: 0.9905266744315245\n",
            "Trial 55, n_estimators: 46, max_depth: 7, learning_rate: 0.40684277893180454,min_child_weight: 9, subsample: 0.8568529566319809, colsample_bytree: 0.774571082107947, gamma: 0.2905879681243455, reg_alpha: 0.907692618271911, reg_lambda: 0.8587108270451765, ROC-AUC: 0.9915280485225935\n",
            "Trial 56, n_estimators: 30, max_depth: 9, learning_rate: 0.2798087412755863,min_child_weight: 10, subsample: 0.8896799158534584, colsample_bytree: 0.8408834848188349, gamma: 0.7005789810059849, reg_alpha: 0.8075141172082224, reg_lambda: 0.37396943607952604, ROC-AUC: 0.9914244336143703\n",
            "Trial 57, n_estimators: 48, max_depth: 8, learning_rate: 0.5763561457362739,min_child_weight: 8, subsample: 0.6951085813674639, colsample_bytree: 0.9445668944754223, gamma: 0.1361135986104297, reg_alpha: 0.9572258772237178, reg_lambda: 0.5282219247531055, ROC-AUC: 0.9909148471369598\n",
            "Trial 58, n_estimators: 23, max_depth: 10, learning_rate: 0.08734150535737159,min_child_weight: 9, subsample: 0.7737333669508577, colsample_bytree: 0.6169068733935926, gamma: 0.20102602747325876, reg_alpha: 0.6445053557548662, reg_lambda: 0.8018466557571382, ROC-AUC: 0.9887848149405796\n",
            "Trial 59, n_estimators: 44, max_depth: 10, learning_rate: 0.2710901762794947,min_child_weight: 6, subsample: 0.8320784171656435, colsample_bytree: 0.7461627044081114, gamma: 0.5414522044747351, reg_alpha: 0.4025500920139095, reg_lambda: 0.9603954952258403, ROC-AUC: 0.9920091123300768\n",
            "Trial 60, n_estimators: 44, max_depth: 10, learning_rate: 0.35760456473337027,min_child_weight: 6, subsample: 0.8028637178631015, colsample_bytree: 0.7193958096314872, gamma: 0.6104768040261604, reg_alpha: 0.27133383481591666, reg_lambda: 0.9043447368073535, ROC-AUC: 0.992015657279472\n",
            "Trial 61, n_estimators: 45, max_depth: 10, learning_rate: 0.37399142856730205,min_child_weight: 6, subsample: 0.8119413578275786, colsample_bytree: 0.7071087623788507, gamma: 0.6016418285908617, reg_alpha: 0.3136890334256802, reg_lambda: 0.8908418741720202, ROC-AUC: 0.9920506731809231\n",
            "Trial 62, n_estimators: 45, max_depth: 10, learning_rate: 0.39185235789599726,min_child_weight: 5, subsample: 0.8151480556578413, colsample_bytree: 0.7438552536045083, gamma: 0.5307425822715452, reg_alpha: 0.30599802073346116, reg_lambda: 0.9028737982558824, ROC-AUC: 0.9918801216260791\n",
            "Trial 63, n_estimators: 43, max_depth: 10, learning_rate: 0.34874420811005313,min_child_weight: 5, subsample: 0.8293714349611315, colsample_bytree: 0.6941223685838944, gamma: 0.534708959480658, reg_alpha: 0.2916041963861352, reg_lambda: 0.8868585485364691, ROC-AUC: 0.9912668970201766\n",
            "Trial 64, n_estimators: 46, max_depth: 10, learning_rate: 0.4415332098484871,min_child_weight: 5, subsample: 0.7971699008435611, colsample_bytree: 0.74301434639774, gamma: 0.6068287765246492, reg_alpha: 0.3466739289906584, reg_lambda: 0.9742992589009223, ROC-AUC: 0.9915999110325956\n",
            "Trial 65, n_estimators: 48, max_depth: 10, learning_rate: 0.35939501978280347,min_child_weight: 4, subsample: 0.74017719743029, colsample_bytree: 0.7200841980164847, gamma: 0.4848052635306588, reg_alpha: 0.18755974234201156, reg_lambda: 0.854415971611476, ROC-AUC: 0.9912980770915455\n",
            "Trial 66, n_estimators: 44, max_depth: 10, learning_rate: 0.5131641784550987,min_child_weight: 6, subsample: 0.8127388682983304, colsample_bytree: 0.6368398235263633, gamma: 0.6597477696219068, reg_alpha: 0.3900137926681131, reg_lambda: 0.9988214017318102, ROC-AUC: 0.9912035750833512\n",
            "Trial 67, n_estimators: 45, max_depth: 10, learning_rate: 0.6664096612851359,min_child_weight: 6, subsample: 0.7700392673387512, colsample_bytree: 0.682048590850175, gamma: 0.5006498109620122, reg_alpha: 0.26205016277222254, reg_lambda: 0.9042186995101152, ROC-AUC: 0.9904934240621006\n",
            "Trial 68, n_estimators: 41, max_depth: 10, learning_rate: 0.18888309022001246,min_child_weight: 5, subsample: 0.8353521765093666, colsample_bytree: 0.7225216096690611, gamma: 0.725925163400991, reg_alpha: 0.33634043617288367, reg_lambda: 0.7786045664121546, ROC-AUC: 0.9916997407731412\n",
            "Trial 69, n_estimators: 48, max_depth: 9, learning_rate: 0.016376932854983817,min_child_weight: 4, subsample: 0.7885342607181025, colsample_bytree: 0.7055853865988092, gamma: 0.5671635091223456, reg_alpha: 0.4386511916603627, reg_lambda: 0.8687931387946812, ROC-AUC: 0.9884294939019986\n",
            "Trial 70, n_estimators: 3, max_depth: 10, learning_rate: 0.12732998538837142,min_child_weight: 3, subsample: 0.8136432332184289, colsample_bytree: 0.6611777726659094, gamma: 0.6319104780015897, reg_alpha: 0.2601524180686175, reg_lambda: 0.8339284446867559, ROC-AUC: 0.9793693305338979\n",
            "Trial 71, n_estimators: 41, max_depth: 10, learning_rate: 0.2790573132348985,min_child_weight: 6, subsample: 0.8357530673380221, colsample_bytree: 0.7429381364306147, gamma: 0.5818295073452642, reg_alpha: 0.31772974445582913, reg_lambda: 0.9253651285384437, ROC-AUC: 0.9919426577678998\n",
            "Trial 72, n_estimators: 42, max_depth: 10, learning_rate: 0.29617927491036733,min_child_weight: 6, subsample: 0.8527174292449637, colsample_bytree: 0.7400837852360281, gamma: 0.5285412671972823, reg_alpha: 0.19281021115255545, reg_lambda: 0.9625417076090448, ROC-AUC: 0.9917644371915584\n",
            "Trial 73, n_estimators: 45, max_depth: 10, learning_rate: 0.2051894684224901,min_child_weight: 6, subsample: 0.8784047774231809, colsample_bytree: 0.6976437158402096, gamma: 0.44453578281756356, reg_alpha: 0.3164865980902014, reg_lambda: 0.9356513992225386, ROC-AUC: 0.9922485771569214\n",
            "Trial 74, n_estimators: 40, max_depth: 10, learning_rate: 0.19144443220039478,min_child_weight: 6, subsample: 0.8697645403980905, colsample_bytree: 0.6871368492554036, gamma: 0.5926594186855348, reg_alpha: 0.3791958295975642, reg_lambda: 0.9265660321948127, ROC-AUC: 0.9919205948184266\n",
            "Trial 75, n_estimators: 43, max_depth: 9, learning_rate: 0.2769393726069412,min_child_weight: 6, subsample: 0.8383009617443581, colsample_bytree: 0.7094771306925319, gamma: 0.44737429136129814, reg_alpha: 0.42226636408363527, reg_lambda: 0.9711704309100818, ROC-AUC: 0.9918104091018725\n",
            "Trial 76, n_estimators: 37, max_depth: 9, learning_rate: 0.511646939819243,min_child_weight: 7, subsample: 0.8772495390484265, colsample_bytree: 0.6713489654200352, gamma: 0.3806705968767832, reg_alpha: 0.2601627945403532, reg_lambda: 0.8740489080722793, ROC-AUC: 0.9912481677624733\n",
            "Trial 77, n_estimators: 48, max_depth: 10, learning_rate: 0.006161086736780229,min_child_weight: 7, subsample: 0.7977689292079249, colsample_bytree: 0.6381547412690471, gamma: 0.6784674996500216, reg_alpha: 0.3190648450862128, reg_lambda: 0.7343236421244114, ROC-AUC: 0.9873951752630002\n",
            "Trial 78, n_estimators: 45, max_depth: 9, learning_rate: 0.1397764091658015,min_child_weight: 6, subsample: 0.8601222472976554, colsample_bytree: 0.7302984073347598, gamma: 0.6304280203984305, reg_alpha: 0.1461741952764833, reg_lambda: 0.934781212534784, ROC-AUC: 0.991872335447771\n",
            "Trial 79, n_estimators: 40, max_depth: 10, learning_rate: 0.2066690957132701,min_child_weight: 7, subsample: 0.8802159779805868, colsample_bytree: 0.7531847335694237, gamma: 0.44389157213935715, reg_alpha: 0.4587965714360259, reg_lambda: 0.8246344946531048, ROC-AUC: 0.9923036287200612\n",
            "Trial 80, n_estimators: 49, max_depth: 10, learning_rate: 0.09070024589667429,min_child_weight: 7, subsample: 0.8904617894131972, colsample_bytree: 0.7732902824829871, gamma: 0.4526053829275827, reg_alpha: 0.4719867433475452, reg_lambda: 0.8031697032353559, ROC-AUC: 0.9913539144496903\n",
            "Trial 81, n_estimators: 43, max_depth: 10, learning_rate: 0.20261959154470727,min_child_weight: 6, subsample: 0.9083750802643932, colsample_bytree: 0.7169987628404357, gamma: 0.5763624475435866, reg_alpha: 0.3638802259157097, reg_lambda: 0.9091569485838944, ROC-AUC: 0.9920264246236512\n",
            "Trial 82, n_estimators: 43, max_depth: 10, learning_rate: 0.20436573771239813,min_child_weight: 7, subsample: 0.9086439792552442, colsample_bytree: 0.7524194005448075, gamma: 0.5178423747563944, reg_alpha: 0.3903858290560577, reg_lambda: 0.8376631443345937, ROC-AUC: 0.992198244585677\n",
            "Trial 83, n_estimators: 43, max_depth: 9, learning_rate: 0.20171092364755594,min_child_weight: 7, subsample: 0.9033865941783061, colsample_bytree: 0.7152425701804797, gamma: 0.5074421890040101, reg_alpha: 0.3672888512266519, reg_lambda: 0.8308209938021183, ROC-AUC: 0.9918371593792387\n",
            "Trial 84, n_estimators: 38, max_depth: 10, learning_rate: 0.2171661580862065,min_child_weight: 7, subsample: 0.9299376809087664, colsample_bytree: 0.7560119170614692, gamma: 0.4250144738553438, reg_alpha: 0.5533318379499922, reg_lambda: 0.7517143676096466, ROC-AUC: 0.9919731327874712\n",
            "Trial 85, n_estimators: 40, max_depth: 10, learning_rate: 0.1649691693138147,min_child_weight: 7, subsample: 0.9079807026000575, colsample_bytree: 0.5871161892863054, gamma: 0.467172497582107, reg_alpha: 0.22410238709251368, reg_lambda: 0.8537665317637813, ROC-AUC: 0.9914808543817684\n",
            "Trial 86, n_estimators: 47, max_depth: 9, learning_rate: 0.11549940198460733,min_child_weight: 6, subsample: 0.8814421183820461, colsample_bytree: 0.9902212604321907, gamma: 0.3911006558678452, reg_alpha: 0.36556346681340446, reg_lambda: 0.7909149252260823, ROC-AUC: 0.9915298198596879\n",
            "Trial 87, n_estimators: 46, max_depth: 9, learning_rate: 0.44763054354479015,min_child_weight: 7, subsample: 0.9075581601291652, colsample_bytree: 0.7010641835206184, gamma: 0.3229046783674262, reg_alpha: 0.45957712188356437, reg_lambda: 0.661627120361475, ROC-AUC: 0.9911590161791656\n",
            "Trial 88, n_estimators: 16, max_depth: 10, learning_rate: 0.05861435724927164,min_child_weight: 5, subsample: 0.9539291439500219, colsample_bytree: 0.7997451268246367, gamma: 0.4316058322896365, reg_alpha: 0.2751424218900332, reg_lambda: 0.8799479759490316, ROC-AUC: 0.9880737126799091\n",
            "Trial 89, n_estimators: 37, max_depth: 10, learning_rate: 0.33311672088161537,min_child_weight: 6, subsample: 0.928723076880795, colsample_bytree: 0.727664140352188, gamma: 0.6007478782707325, reg_alpha: 0.5008234639316204, reg_lambda: 0.9077341718898567, ROC-AUC: 0.9916691792052952\n",
            "Trial 90, n_estimators: 39, max_depth: 3, learning_rate: 0.7710949451007174,min_child_weight: 7, subsample: 0.9825460461413171, colsample_bytree: 0.6918028167043199, gamma: 0.4892764414948294, reg_alpha: 0.4214747552462041, reg_lambda: 0.6980251191956393, ROC-AUC: 0.98944848980227\n",
            "Trial 91, n_estimators: 43, max_depth: 10, learning_rate: 0.2435162470485204,min_child_weight: 6, subsample: 0.8648986519323131, colsample_bytree: 0.6731242008603204, gamma: 0.5530469651632126, reg_alpha: 0.39699496602350065, reg_lambda: 0.9526466744412978, ROC-AUC: 0.9920158752333584\n",
            "Trial 92, n_estimators: 42, max_depth: 10, learning_rate: 0.2335616424419459,min_child_weight: 6, subsample: 0.8696485404338884, colsample_bytree: 0.674842194097658, gamma: 0.6354983272513911, reg_alpha: 0.18948030169957447, reg_lambda: 0.827943708536972, ROC-AUC: 0.9920526440012356\n",
            "Trial 93, n_estimators: 42, max_depth: 10, learning_rate: 0.22529247460572666,min_child_weight: 6, subsample: 0.8837301461741942, colsample_bytree: 0.6708549537886612, gamma: 0.6393136262031407, reg_alpha: 0.33983479519732696, reg_lambda: 0.824496537935691, ROC-AUC: 0.9920438852103057\n",
            "Trial 94, n_estimators: 42, max_depth: 9, learning_rate: 0.15594735784975286,min_child_weight: 6, subsample: 0.8828302807640885, colsample_bytree: 0.6564763638696868, gamma: 0.6409289995255352, reg_alpha: 0.20003261143358123, reg_lambda: 0.8184096781115653, ROC-AUC: 0.9919767514552671\n",
            "Trial 95, n_estimators: 40, max_depth: 10, learning_rate: 0.21714623307672543,min_child_weight: 7, subsample: 0.8972902797258169, colsample_bytree: 0.645979198247604, gamma: 0.6981941575940703, reg_alpha: 0.1586803758234816, reg_lambda: 0.7719404193244591, ROC-AUC: 0.9921945992673458\n",
            "Trial 96, n_estimators: 40, max_depth: 10, learning_rate: 0.1839200011989538,min_child_weight: 5, subsample: 0.917486573917233, colsample_bytree: 0.6519203943297119, gamma: 0.7165181029810159, reg_alpha: 0.06752942158141882, reg_lambda: 0.844849529214985, ROC-AUC: 0.992059237502102\n",
            "Trial 97, n_estimators: 35, max_depth: 9, learning_rate: 0.14970004572369164,min_child_weight: 5, subsample: 0.8985819171796321, colsample_bytree: 0.6352274944864186, gamma: 0.7529590240910263, reg_alpha: 0.07331640983391904, reg_lambda: 0.7373359519629163, ROC-AUC: 0.9914940688256367\n",
            "Trial 98, n_estimators: 40, max_depth: 10, learning_rate: 0.17348695811648113,min_child_weight: 8, subsample: 0.9186333607388395, colsample_bytree: 0.6219372655026938, gamma: 0.7003051327322516, reg_alpha: 0.12815179401955396, reg_lambda: 0.8417929973895711, ROC-AUC: 0.9912754032906836\n",
            "Trial 99, n_estimators: 39, max_depth: 9, learning_rate: 0.1271466354120416,min_child_weight: 5, subsample: 0.9551859496044018, colsample_bytree: 0.6485427899231214, gamma: 0.8023925656681621, reg_alpha: 0.16044108579271854, reg_lambda: 0.7637170101661265, ROC-AUC: 0.9917169783924422\n",
            "Best Parameters:  {'n_estimators': 40, 'max_depth': 10, 'learning_rate': 0.2066690957132701, 'min_child_weight': 7, 'subsample': 0.8802159779805868, 'colsample_bytree': 0.7531847335694237, 'gamma': 0.44389157213935715, 'reg_alpha': 0.4587965714360259, 'reg_lambda': 0.8246344946531048}\n",
            "Best ROC-AUC Score:  0.9923036287200612\n"
          ]
        }
      ]
    },
    {
      "cell_type": "code",
      "source": [
        "# Model selection - Compare Performance\n",
        "with open('best_models_lr_8_features.pkl', 'rb') as file:\n",
        "    best_model_lr = pickle.load(file)\n",
        "with open('best_models_dt_8_features.pkl', 'rb') as file:\n",
        "    best_model_dt = pickle.load(file)\n",
        "with open('best_models_knn_8_features.pkl', 'rb') as file:\n",
        "    best_model_knn = pickle.load(file)\n",
        "with open('best_models_rf_8_features.pkl', 'rb') as file:\n",
        "    best_model_rf = pickle.load(file)\n",
        "with open('best_models_xgb_8_features.pkl', 'rb') as file:\n",
        "    best_model_xgb = pickle.load(file)\n",
        "\n",
        "print(\"Testing Performances...Please wait\")\n",
        "best_model_lr.fit(X_train_oversampled, y_train_oversampled)\n",
        "predicted_probs = best_model_lr.predict_proba(X_test_transformed)[:, 1]\n",
        "lr_performance = roc_auc_score(y_test, predicted_probs)\n",
        "\n",
        "best_model_dt.fit(X_train_oversampled, y_train_oversampled)\n",
        "predicted_probs = best_model_dt.predict_proba(X_test_transformed)[:, 1]\n",
        "dt_performance = roc_auc_score(y_test, predicted_probs)\n",
        "\n",
        "best_model_knn.fit(X_train_oversampled, y_train_oversampled)\n",
        "predicted_probs = best_model_knn.predict_proba(X_test_transformed)[:, 1]\n",
        "knn_performance = roc_auc_score(y_test, predicted_probs)\n",
        "\n",
        "best_model_rf.fit(X_train_oversampled, y_train_oversampled)\n",
        "predicted_probs = best_model_rf.predict_proba(X_test_transformed)[:, 1]\n",
        "rf_performance = roc_auc_score(y_test, predicted_probs)\n",
        "\n",
        "best_model_xgb.fit(X_train_oversampled, y_train_oversampled_encoded)\n",
        "predicted_probs = best_model_xgb.predict_proba(X_test_transformed)[:, 1]\n",
        "xgb_performance = roc_auc_score(y_test, predicted_probs)\n",
        "\n",
        "# Test performance of the models are\n",
        "print(f\"Logistic Regression Test ROCAUC: {lr_performance}\")\n",
        "print(f\"Decision Tree Test ROCAUC: {dt_performance}\")\n",
        "print(f\"KNN Test ROCAUC: {knn_performance}\")\n",
        "print(f\"Random Forest Test ROCAUC: {rf_performance}\")\n",
        "print(f\"XGBoost Test ROCAUC: {xgb_performance}\")"
      ],
      "metadata": {
        "colab": {
          "base_uri": "https://localhost:8080/"
        },
        "id": "Og4cBUYivQZz",
        "outputId": "dd2f8bdf-c602-4c60-df89-922eef08f4c3"
      },
      "execution_count": 23,
      "outputs": [
        {
          "output_type": "stream",
          "name": "stdout",
          "text": [
            "Testing Performances...Please wait\n",
            "Logistic Regression Test ROCAUC: 0.7764652014652015\n",
            "Decision Tree Test ROCAUC: 0.5483974358974358\n",
            "KNN Test ROCAUC: 0.7525641025641026\n",
            "Random Forest Test ROCAUC: 0.7332417582417582\n",
            "XGBoost Test ROCAUC: 0.7761904761904761\n"
          ]
        }
      ]
    }
  ]
}