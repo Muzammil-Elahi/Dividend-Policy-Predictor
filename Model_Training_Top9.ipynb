{
  "nbformat": 4,
  "nbformat_minor": 0,
  "metadata": {
    "colab": {
      "provenance": [],
      "authorship_tag": "ABX9TyMkawX3/53audP8gV65CKDG",
      "include_colab_link": true
    },
    "kernelspec": {
      "name": "python3",
      "display_name": "Python 3"
    },
    "language_info": {
      "name": "python"
    }
  },
  "cells": [
    {
      "cell_type": "markdown",
      "metadata": {
        "id": "view-in-github",
        "colab_type": "text"
      },
      "source": [
        "<a href=\"https://colab.research.google.com/github/Muzammil-Elahi/Dividend-Policy-Predictor/blob/main/Model_Training_Top9.ipynb\" target=\"_parent\"><img src=\"https://colab.research.google.com/assets/colab-badge.svg\" alt=\"Open In Colab\"/></a>"
      ]
    },
    {
      "cell_type": "code",
      "execution_count": null,
      "metadata": {
        "colab": {
          "base_uri": "https://localhost:8080/"
        },
        "id": "VKJTxBG-l-IL",
        "outputId": "61760f58-6186-4672-e379-6431c713b721"
      },
      "outputs": [
        {
          "output_type": "stream",
          "name": "stdout",
          "text": [
            "Collecting optuna\n",
            "  Downloading optuna-3.6.1-py3-none-any.whl (380 kB)\n",
            "\u001b[2K     \u001b[90m━━━━━━━━━━━━━━━━━━━━━━━━━━━━━━━━━━━━━━━━\u001b[0m \u001b[32m380.1/380.1 kB\u001b[0m \u001b[31m5.4 MB/s\u001b[0m eta \u001b[36m0:00:00\u001b[0m\n",
            "\u001b[?25hCollecting alembic>=1.5.0 (from optuna)\n",
            "  Downloading alembic-1.13.1-py3-none-any.whl (233 kB)\n",
            "\u001b[2K     \u001b[90m━━━━━━━━━━━━━━━━━━━━━━━━━━━━━━━━━━━━━━━━\u001b[0m \u001b[32m233.4/233.4 kB\u001b[0m \u001b[31m7.7 MB/s\u001b[0m eta \u001b[36m0:00:00\u001b[0m\n",
            "\u001b[?25hCollecting colorlog (from optuna)\n",
            "  Downloading colorlog-6.8.2-py3-none-any.whl (11 kB)\n",
            "Requirement already satisfied: numpy in /usr/local/lib/python3.10/dist-packages (from optuna) (1.25.2)\n",
            "Requirement already satisfied: packaging>=20.0 in /usr/local/lib/python3.10/dist-packages (from optuna) (24.0)\n",
            "Requirement already satisfied: sqlalchemy>=1.3.0 in /usr/local/lib/python3.10/dist-packages (from optuna) (2.0.30)\n",
            "Requirement already satisfied: tqdm in /usr/local/lib/python3.10/dist-packages (from optuna) (4.66.4)\n",
            "Requirement already satisfied: PyYAML in /usr/local/lib/python3.10/dist-packages (from optuna) (6.0.1)\n",
            "Collecting Mako (from alembic>=1.5.0->optuna)\n",
            "  Downloading Mako-1.3.3-py3-none-any.whl (78 kB)\n",
            "\u001b[2K     \u001b[90m━━━━━━━━━━━━━━━━━━━━━━━━━━━━━━━━━━━━━━━━\u001b[0m \u001b[32m78.8/78.8 kB\u001b[0m \u001b[31m6.0 MB/s\u001b[0m eta \u001b[36m0:00:00\u001b[0m\n",
            "\u001b[?25hRequirement already satisfied: typing-extensions>=4 in /usr/local/lib/python3.10/dist-packages (from alembic>=1.5.0->optuna) (4.11.0)\n",
            "Requirement already satisfied: greenlet!=0.4.17 in /usr/local/lib/python3.10/dist-packages (from sqlalchemy>=1.3.0->optuna) (3.0.3)\n",
            "Requirement already satisfied: MarkupSafe>=0.9.2 in /usr/local/lib/python3.10/dist-packages (from Mako->alembic>=1.5.0->optuna) (2.1.5)\n",
            "Installing collected packages: Mako, colorlog, alembic, optuna\n",
            "Successfully installed Mako-1.3.3 alembic-1.13.1 colorlog-6.8.2 optuna-3.6.1\n"
          ]
        }
      ],
      "source": [
        "\n",
        "import pandas as pd\n",
        "import numpy as np\n",
        "import os\n",
        "import warnings\n",
        "!pip install optuna\n",
        "import optuna\n",
        "\n"
      ]
    },
    {
      "cell_type": "code",
      "source": [
        "import matplotlib.pyplot as plt\n",
        "import seaborn as sns"
      ],
      "metadata": {
        "id": "TCynC9oOmKtw"
      },
      "execution_count": null,
      "outputs": []
    },
    {
      "cell_type": "code",
      "source": [
        "from imblearn.over_sampling import SMOTENC\n",
        "from sklearn.model_selection import train_test_split\n",
        "from sklearn.ensemble import RandomForestClassifier\n",
        "from sklearn.metrics import roc_auc_score, make_scorer, accuracy_score, precision_score, recall_score, f1_score\n",
        "from sklearn.neighbors import KNeighborsClassifier\n",
        "from sklearn.linear_model import LogisticRegression\n",
        "from sklearn.tree import DecisionTreeClassifier\n",
        "from sklearn.svm import SVC\n",
        "from sklearn.pipeline import Pipeline\n",
        "from sklearn.preprocessing import OrdinalEncoder, LabelEncoder\n",
        "from sklearn.compose import ColumnTransformer\n",
        "from sklearn.model_selection import cross_val_score, GridSearchCV\n",
        "import pickle\n",
        "\n",
        "from xgboost import XGBClassifier"
      ],
      "metadata": {
        "id": "IbVqkrqUrtw8"
      },
      "execution_count": 16,
      "outputs": []
    },
    {
      "cell_type": "code",
      "source": [
        "from google.colab import drive\n",
        "drive.mount('/content/drive')\n",
        "\n",
        "# Import necessary libraries\n",
        "import pandas as pd\n",
        "\n",
        "# Define the path to your CSV files directory\n",
        "csv_directory = '/content/drive/My Drive/path/to/csv/files/'\n",
        "\n",
        "\n",
        "warnings.filterwarnings('ignore')\n",
        "\n",
        "X_test_transformed = pd.read_csv('/content/drive/My Drive/X_test_transformed.csv')\n",
        "y_test = pd.read_csv('/content/drive/My Drive/y_test.csv')\n",
        "X_train_oversampled = pd.read_csv('/content/drive/My Drive/X_train_oversampled.csv')\n",
        "y_train_oversampled = pd.read_csv('/content/drive/My Drive/y_train_oversampled.csv')\n",
        "X_validate_transformed = pd.read_csv('/content/drive/My Drive/X_validate_transformed.csv')\n",
        "y_validate = pd.read_csv('/content/drive/My Drive/y_validate.csv')\n",
        "\n"
      ],
      "metadata": {
        "colab": {
          "base_uri": "https://localhost:8080/"
        },
        "id": "xKJ3mla5rpcR",
        "outputId": "d7fbc5af-190a-4098-873a-88b8d235f2e1"
      },
      "execution_count": 19,
      "outputs": [
        {
          "output_type": "stream",
          "name": "stdout",
          "text": [
            "Drive already mounted at /content/drive; to attempt to forcibly remount, call drive.mount(\"/content/drive\", force_remount=True).\n"
          ]
        }
      ]
    },
    {
      "cell_type": "code",
      "source": [
        "# testing if file read correctly\n",
        "X_train_oversampled.info()\n",
        "\n",
        "\n"
      ],
      "metadata": {
        "colab": {
          "base_uri": "https://localhost:8080/"
        },
        "id": "OZZc9eWGsdky",
        "outputId": "bab6cce0-b765-42c9-ba03-46353630b2b0"
      },
      "execution_count": 24,
      "outputs": [
        {
          "output_type": "stream",
          "name": "stdout",
          "text": [
            "<class 'pandas.core.frame.DataFrame'>\n",
            "RangeIndex: 7236 entries, 0 to 7235\n",
            "Data columns (total 92 columns):\n",
            " #   Column                                                Non-Null Count  Dtype  \n",
            "---  ------                                                --------------  -----  \n",
            " 0   industry                                              7236 non-null   float64\n",
            " 1   sector                                                7236 non-null   float64\n",
            " 2   symbol                                                7236 non-null   float64\n",
            " 3   year                                                  7236 non-null   float64\n",
            " 4   adjDividend                                           7236 non-null   float64\n",
            " 5   dps_growth                                            7236 non-null   float64\n",
            " 6   dps_growth_rate                                       7236 non-null   float64\n",
            " 7   interestRate                                          7236 non-null   float64\n",
            " 8   interestRate_percentage_change                        7236 non-null   float64\n",
            " 9   currentRatio                                          7236 non-null   float64\n",
            " 10  currentRatio_percentage_change                        7236 non-null   float64\n",
            " 11  quickRatio                                            7236 non-null   float64\n",
            " 12  daysOfSalesOutstanding                                7236 non-null   float64\n",
            " 13  daysOfSalesOutstanding_percentage_change              7236 non-null   float64\n",
            " 14  daysOfInventoryOutstanding                            7236 non-null   float64\n",
            " 15  daysOfInventoryOutstanding_percentage_change          7236 non-null   float64\n",
            " 16  operatingCycle_percentage_change                      7236 non-null   float64\n",
            " 17  daysOfPayablesOutstanding                             7236 non-null   float64\n",
            " 18  grossProfitMargin                                     7236 non-null   float64\n",
            " 19  grossProfitMargin_percentage_change                   7236 non-null   float64\n",
            " 20  operatingProfitMargin                                 7236 non-null   float64\n",
            " 21  operatingProfitMargin_percentage_change               7236 non-null   float64\n",
            " 22  pretaxProfitMargin                                    7236 non-null   float64\n",
            " 23  pretaxProfitMargin_percentage_change                  7236 non-null   float64\n",
            " 24  netProfitMargin                                       7236 non-null   float64\n",
            " 25  netProfitMargin_percentage_change                     7236 non-null   float64\n",
            " 26  effectiveTaxRate                                      7236 non-null   float64\n",
            " 27  effectiveTaxRate_percentage_change                    7236 non-null   float64\n",
            " 28  returnOnAssets                                        7236 non-null   float64\n",
            " 29  returnOnAssets_percentage_change                      7236 non-null   float64\n",
            " 30  returnOnEquity                                        7236 non-null   float64\n",
            " 31  returnOnEquity_percentage_change                      7236 non-null   float64\n",
            " 32  returnOnCapitalEmployed                               7236 non-null   float64\n",
            " 33  netIncomePerEBT                                       7236 non-null   float64\n",
            " 34  netIncomePerEBT_percentage_change                     7236 non-null   float64\n",
            " 35  ebtPerEbit                                            7236 non-null   float64\n",
            " 36  ebtPerEbit_percentage_change                          7236 non-null   float64\n",
            " 37  debtRatio                                             7236 non-null   float64\n",
            " 38  debtRatio_percentage_change                           7236 non-null   float64\n",
            " 39  debtEquityRatio                                       7236 non-null   float64\n",
            " 40  debtEquityRatio_percentage_change                     7236 non-null   float64\n",
            " 41  longTermDebtToCapitalization                          7236 non-null   float64\n",
            " 42  longTermDebtToCapitalization_percentage_change        7236 non-null   float64\n",
            " 43  totalDebtToCapitalization                             7236 non-null   float64\n",
            " 44  interestCoverage                                      7236 non-null   float64\n",
            " 45  interestCoverage_percentage_change                    7236 non-null   float64\n",
            " 46  cashFlowToDebtRatio                                   7236 non-null   float64\n",
            " 47  cashFlowToDebtRatio_percentage_change                 7236 non-null   float64\n",
            " 48  companyEquityMultiplier                               7236 non-null   float64\n",
            " 49  companyEquityMultiplier_percentage_change             7236 non-null   float64\n",
            " 50  receivablesTurnover                                   7236 non-null   float64\n",
            " 51  receivablesTurnover_percentage_change                 7236 non-null   float64\n",
            " 52  payablesTurnover                                      7236 non-null   float64\n",
            " 53  payablesTurnover_percentage_change                    7236 non-null   float64\n",
            " 54  inventoryTurnover                                     7236 non-null   float64\n",
            " 55  inventoryTurnover_percentage_change                   7236 non-null   float64\n",
            " 56  fixedAssetTurnover                                    7236 non-null   float64\n",
            " 57  fixedAssetTurnover_percentage_change                  7236 non-null   float64\n",
            " 58  assetTurnover                                         7236 non-null   float64\n",
            " 59  assetTurnover_percentage_change                       7236 non-null   float64\n",
            " 60  operatingCashFlowPerShare                             7236 non-null   float64\n",
            " 61  operatingCashFlowPerShare_percentage_change           7236 non-null   float64\n",
            " 62  freeCashFlowPerShare                                  7236 non-null   float64\n",
            " 63  freeCashFlowPerShare_percentage_change                7236 non-null   float64\n",
            " 64  cashPerShare                                          7236 non-null   float64\n",
            " 65  cashPerShare_percentage_change                        7236 non-null   float64\n",
            " 66  payoutRatio                                           7236 non-null   float64\n",
            " 67  payoutRatio_percentage_change                         7236 non-null   float64\n",
            " 68  operatingCashFlowSalesRatio                           7236 non-null   float64\n",
            " 69  freeCashFlowOperatingCashFlowRatio                    7236 non-null   float64\n",
            " 70  freeCashFlowOperatingCashFlowRatio_percentage_change  7236 non-null   float64\n",
            " 71  shortTermCoverageRatios                               7236 non-null   float64\n",
            " 72  shortTermCoverageRatios_percentage_change             7236 non-null   float64\n",
            " 73  capitalExpenditureCoverageRatio                       7236 non-null   float64\n",
            " 74  capitalExpenditureCoverageRatio_percentage_change     7236 non-null   float64\n",
            " 75  dividendPaidAndCapexCoverageRatio                     7236 non-null   float64\n",
            " 76  dividendPaidAndCapexCoverageRatio_percentage_change   7236 non-null   float64\n",
            " 77  priceBookValueRatio                                   7236 non-null   float64\n",
            " 78  priceToSalesRatio                                     7236 non-null   float64\n",
            " 79  priceToSalesRatio_percentage_change                   7236 non-null   float64\n",
            " 80  priceEarningsRatio                                    7236 non-null   float64\n",
            " 81  priceEarningsRatio_percentage_change                  7236 non-null   float64\n",
            " 82  priceToFreeCashFlowsRatio                             7236 non-null   float64\n",
            " 83  priceToFreeCashFlowsRatio_percentage_change           7236 non-null   float64\n",
            " 84  priceToOperatingCashFlowsRatio                        7236 non-null   float64\n",
            " 85  priceToOperatingCashFlowsRatio_percentage_change      7236 non-null   float64\n",
            " 86  priceEarningsToGrowthRatio                            7236 non-null   float64\n",
            " 87  priceEarningsToGrowthRatio_percentage_change          7236 non-null   float64\n",
            " 88  dividendYield                                         7236 non-null   float64\n",
            " 89  dividendYield_percentage_change                       7236 non-null   float64\n",
            " 90  enterpriseValueMultiple                               7236 non-null   float64\n",
            " 91  enterpriseValueMultiple_percentage_change             7236 non-null   float64\n",
            "dtypes: float64(92)\n",
            "memory usage: 5.1 MB\n"
          ]
        }
      ]
    },
    {
      "cell_type": "code",
      "source": [
        "# test top 9 features\n",
        "cols = ['dps_growth_rate','dps_growth','interestRate','year','dividendYield','interestRate_percentage_change','freeCashFlowPerShare','adjDividend','debtRatio']\n",
        "X_train_oversampled = X_train_oversampled[cols]\n",
        "X_validate_transformed = X_validate_transformed[cols]\n",
        "X_test_transformed = X_test_transformed[cols]\n",
        "X_test_transformed.info()"
      ],
      "metadata": {
        "colab": {
          "base_uri": "https://localhost:8080/"
        },
        "id": "oQWf5prUtoCT",
        "outputId": "80920813-58b6-4032-b139-e960a352042d"
      },
      "execution_count": 25,
      "outputs": [
        {
          "output_type": "stream",
          "name": "stdout",
          "text": [
            "<class 'pandas.core.frame.DataFrame'>\n",
            "RangeIndex: 479 entries, 0 to 478\n",
            "Data columns (total 9 columns):\n",
            " #   Column                          Non-Null Count  Dtype  \n",
            "---  ------                          --------------  -----  \n",
            " 0   dps_growth_rate                 479 non-null    float64\n",
            " 1   dps_growth                      479 non-null    float64\n",
            " 2   interestRate                    479 non-null    float64\n",
            " 3   year                            479 non-null    float64\n",
            " 4   dividendYield                   479 non-null    float64\n",
            " 5   interestRate_percentage_change  479 non-null    float64\n",
            " 6   freeCashFlowPerShare            479 non-null    float64\n",
            " 7   adjDividend                     479 non-null    float64\n",
            " 8   debtRatio                       479 non-null    float64\n",
            "dtypes: float64(9)\n",
            "memory usage: 33.8 KB\n"
          ]
        }
      ]
    },
    {
      "cell_type": "code",
      "source": [
        "# Logistic Regression\n",
        "def objective_function(trial):\n",
        "    C = trial.suggest_float('C', 0.1, 10, log=True)\n",
        "    penalty = trial.suggest_categorical('penalty', ['l1', 'l2'])\n",
        "\n",
        "    model = LogisticRegression(\n",
        "        C=C,\n",
        "        penalty=penalty,\n",
        "        solver='liblinear',\n",
        "        n_jobs=-1\n",
        "    )\n",
        "    metrics = ['roc_auc','accuracy','precison','recall','f1-score']\n",
        "    # Using cross_val_score to get the average precision score for each fold\n",
        "    scores = cross_val_score(model, X_train_oversampled, y_train_oversampled, cv=5, scoring='roc_auc')\n",
        "    roc_auc = np.mean(scores)\n",
        "    # Printing intermediate results\n",
        "    print(f\"Trial {trial.number}, C: {C}, penalty: {penalty}, ROC-AUC: {roc_auc}\")\n",
        "    return roc_auc\n",
        "\n",
        "\n",
        "study_lr = optuna.create_study(direction=\"maximize\")\n",
        "study_lr.optimize(objective_function, n_trials=100)\n",
        "\n",
        "best_params_lr = study_lr.best_params\n",
        "print(\"Best Parameters: \", best_params_lr)\n",
        "print(\"Best ROC-AUC Score: \", study_lr.best_value)\n"
      ],
      "metadata": {
        "colab": {
          "base_uri": "https://localhost:8080/"
        },
        "id": "TDUiZBKk1-KV",
        "outputId": "c5fd1e68-b580-4ac3-d00f-b0502118422c"
      },
      "execution_count": 29,
      "outputs": [
        {
          "output_type": "stream",
          "name": "stderr",
          "text": [
            "[I 2024-05-13 21:25:14,868] A new study created in memory with name: no-name-bdc8fb49-db40-4482-b6c5-10d03cc9a70f\n",
            "[I 2024-05-13 21:25:16,121] Trial 0 finished with value: 0.7384883491034844 and parameters: {'C': 0.22728087753458193, 'penalty': 'l1'}. Best is trial 0 with value: 0.7384883491034844.\n"
          ]
        },
        {
          "output_type": "stream",
          "name": "stdout",
          "text": [
            "Trial 0, C: 0.22728087753458193, penalty: l1, ROC-AUC: 0.7384883491034844\n"
          ]
        },
        {
          "output_type": "stream",
          "name": "stderr",
          "text": [
            "[I 2024-05-13 21:25:20,459] Trial 1 finished with value: 0.7486069712186458 and parameters: {'C': 2.0739932174785642, 'penalty': 'l1'}. Best is trial 1 with value: 0.7486069712186458.\n"
          ]
        },
        {
          "output_type": "stream",
          "name": "stdout",
          "text": [
            "Trial 1, C: 2.0739932174785642, penalty: l1, ROC-AUC: 0.7486069712186458\n"
          ]
        },
        {
          "output_type": "stream",
          "name": "stderr",
          "text": [
            "[I 2024-05-13 21:25:21,034] Trial 2 finished with value: 0.7404271444435395 and parameters: {'C': 0.269843470387359, 'penalty': 'l1'}. Best is trial 1 with value: 0.7486069712186458.\n"
          ]
        },
        {
          "output_type": "stream",
          "name": "stdout",
          "text": [
            "Trial 2, C: 0.269843470387359, penalty: l1, ROC-AUC: 0.7404271444435395\n"
          ]
        },
        {
          "output_type": "stream",
          "name": "stderr",
          "text": [
            "[I 2024-05-13 21:25:23,900] Trial 3 finished with value: 0.7484370014898547 and parameters: {'C': 1.7624353767800751, 'penalty': 'l1'}. Best is trial 1 with value: 0.7486069712186458.\n"
          ]
        },
        {
          "output_type": "stream",
          "name": "stdout",
          "text": [
            "Trial 3, C: 1.7624353767800751, penalty: l1, ROC-AUC: 0.7484370014898547\n"
          ]
        },
        {
          "output_type": "stream",
          "name": "stderr",
          "text": [
            "[I 2024-05-13 21:25:24,452] Trial 4 finished with value: 0.738803574806819 and parameters: {'C': 2.7079151984486627, 'penalty': 'l2'}. Best is trial 1 with value: 0.7486069712186458.\n"
          ]
        },
        {
          "output_type": "stream",
          "name": "stdout",
          "text": [
            "Trial 4, C: 2.7079151984486627, penalty: l2, ROC-AUC: 0.738803574806819\n"
          ]
        },
        {
          "output_type": "stream",
          "name": "stderr",
          "text": [
            "[I 2024-05-13 21:25:24,978] Trial 5 finished with value: 0.7222876915941319 and parameters: {'C': 0.45356694460991304, 'penalty': 'l2'}. Best is trial 1 with value: 0.7486069712186458.\n"
          ]
        },
        {
          "output_type": "stream",
          "name": "stdout",
          "text": [
            "Trial 5, C: 0.45356694460991304, penalty: l2, ROC-AUC: 0.7222876915941319\n"
          ]
        },
        {
          "output_type": "stream",
          "name": "stderr",
          "text": [
            "[I 2024-05-13 21:25:25,496] Trial 6 finished with value: 0.7250274278870277 and parameters: {'C': 0.603421313900363, 'penalty': 'l2'}. Best is trial 1 with value: 0.7486069712186458.\n"
          ]
        },
        {
          "output_type": "stream",
          "name": "stdout",
          "text": [
            "Trial 6, C: 0.603421313900363, penalty: l2, ROC-AUC: 0.7250274278870277\n"
          ]
        },
        {
          "output_type": "stream",
          "name": "stderr",
          "text": [
            "[I 2024-05-13 21:25:26,306] Trial 7 finished with value: 0.7438803519922547 and parameters: {'C': 0.41283046430347436, 'penalty': 'l1'}. Best is trial 1 with value: 0.7486069712186458.\n"
          ]
        },
        {
          "output_type": "stream",
          "name": "stdout",
          "text": [
            "Trial 7, C: 0.41283046430347436, penalty: l1, ROC-AUC: 0.7438803519922547\n"
          ]
        },
        {
          "output_type": "stream",
          "name": "stderr",
          "text": [
            "[I 2024-05-13 21:25:26,761] Trial 8 finished with value: 0.7111358730650075 and parameters: {'C': 0.108902694256122, 'penalty': 'l2'}. Best is trial 1 with value: 0.7486069712186458.\n"
          ]
        },
        {
          "output_type": "stream",
          "name": "stdout",
          "text": [
            "Trial 8, C: 0.108902694256122, penalty: l2, ROC-AUC: 0.7111358730650075\n"
          ]
        },
        {
          "output_type": "stream",
          "name": "stderr",
          "text": [
            "[I 2024-05-13 21:25:27,258] Trial 9 finished with value: 0.7212345225826191 and parameters: {'C': 0.42675470456187925, 'penalty': 'l2'}. Best is trial 1 with value: 0.7486069712186458.\n"
          ]
        },
        {
          "output_type": "stream",
          "name": "stdout",
          "text": [
            "Trial 9, C: 0.42675470456187925, penalty: l2, ROC-AUC: 0.7212345225826191\n"
          ]
        },
        {
          "output_type": "stream",
          "name": "stderr",
          "text": [
            "[I 2024-05-13 21:25:30,161] Trial 10 finished with value: 0.7495121859548363 and parameters: {'C': 8.415168381550444, 'penalty': 'l1'}. Best is trial 10 with value: 0.7495121859548363.\n"
          ]
        },
        {
          "output_type": "stream",
          "name": "stdout",
          "text": [
            "Trial 10, C: 8.415168381550444, penalty: l1, ROC-AUC: 0.7495121859548363\n"
          ]
        },
        {
          "output_type": "stream",
          "name": "stderr",
          "text": [
            "[I 2024-05-13 21:25:31,438] Trial 11 finished with value: 0.7494808755333221 and parameters: {'C': 7.492699193875553, 'penalty': 'l1'}. Best is trial 10 with value: 0.7495121859548363.\n"
          ]
        },
        {
          "output_type": "stream",
          "name": "stdout",
          "text": [
            "Trial 11, C: 7.492699193875553, penalty: l1, ROC-AUC: 0.7494808755333221\n"
          ]
        },
        {
          "output_type": "stream",
          "name": "stderr",
          "text": [
            "[I 2024-05-13 21:25:35,635] Trial 12 finished with value: 0.7495056995838463 and parameters: {'C': 7.93906220023321, 'penalty': 'l1'}. Best is trial 10 with value: 0.7495121859548363.\n"
          ]
        },
        {
          "output_type": "stream",
          "name": "stdout",
          "text": [
            "Trial 12, C: 7.93906220023321, penalty: l1, ROC-AUC: 0.7495056995838463\n"
          ]
        },
        {
          "output_type": "stream",
          "name": "stderr",
          "text": [
            "[I 2024-05-13 21:25:39,025] Trial 13 finished with value: 0.7495587842846742 and parameters: {'C': 9.77496194102807, 'penalty': 'l1'}. Best is trial 13 with value: 0.7495587842846742.\n"
          ]
        },
        {
          "output_type": "stream",
          "name": "stdout",
          "text": [
            "Trial 13, C: 9.77496194102807, penalty: l1, ROC-AUC: 0.7495587842846742\n"
          ]
        },
        {
          "output_type": "stream",
          "name": "stderr",
          "text": [
            "[I 2024-05-13 21:25:40,707] Trial 14 finished with value: 0.7492681161265062 and parameters: {'C': 4.434831472467348, 'penalty': 'l1'}. Best is trial 13 with value: 0.7495587842846742.\n"
          ]
        },
        {
          "output_type": "stream",
          "name": "stdout",
          "text": [
            "Trial 14, C: 4.434831472467348, penalty: l1, ROC-AUC: 0.7492681161265062\n"
          ]
        },
        {
          "output_type": "stream",
          "name": "stderr",
          "text": [
            "[I 2024-05-13 21:25:44,211] Trial 15 finished with value: 0.749530147888203 and parameters: {'C': 8.950967928879532, 'penalty': 'l1'}. Best is trial 13 with value: 0.7495587842846742.\n"
          ]
        },
        {
          "output_type": "stream",
          "name": "stdout",
          "text": [
            "Trial 15, C: 8.950967928879532, penalty: l1, ROC-AUC: 0.749530147888203\n"
          ]
        },
        {
          "output_type": "stream",
          "name": "stderr",
          "text": [
            "[I 2024-05-13 21:25:46,120] Trial 16 finished with value: 0.7492383213552631 and parameters: {'C': 4.230239154157698, 'penalty': 'l1'}. Best is trial 13 with value: 0.7495587842846742.\n"
          ]
        },
        {
          "output_type": "stream",
          "name": "stdout",
          "text": [
            "Trial 16, C: 4.230239154157698, penalty: l1, ROC-AUC: 0.7492383213552631\n"
          ]
        },
        {
          "output_type": "stream",
          "name": "stderr",
          "text": [
            "[I 2024-05-13 21:25:48,647] Trial 17 finished with value: 0.7479534499472119 and parameters: {'C': 1.2705612829122903, 'penalty': 'l1'}. Best is trial 13 with value: 0.7495587842846742.\n"
          ]
        },
        {
          "output_type": "stream",
          "name": "stdout",
          "text": [
            "Trial 17, C: 1.2705612829122903, penalty: l1, ROC-AUC: 0.7479534499472119\n"
          ]
        },
        {
          "output_type": "stream",
          "name": "stderr",
          "text": [
            "[I 2024-05-13 21:25:52,061] Trial 18 finished with value: 0.7491993614383867 and parameters: {'C': 3.9357302608278744, 'penalty': 'l1'}. Best is trial 13 with value: 0.7495587842846742.\n"
          ]
        },
        {
          "output_type": "stream",
          "name": "stdout",
          "text": [
            "Trial 18, C: 3.9357302608278744, penalty: l1, ROC-AUC: 0.7491993614383867\n"
          ]
        },
        {
          "output_type": "stream",
          "name": "stderr",
          "text": [
            "[I 2024-05-13 21:25:53,606] Trial 19 finished with value: 0.7495396850858704 and parameters: {'C': 9.735394196441385, 'penalty': 'l1'}. Best is trial 13 with value: 0.7495587842846742.\n"
          ]
        },
        {
          "output_type": "stream",
          "name": "stdout",
          "text": [
            "Trial 19, C: 9.735394196441385, penalty: l1, ROC-AUC: 0.7495396850858704\n"
          ]
        },
        {
          "output_type": "stream",
          "name": "stderr",
          "text": [
            "[I 2024-05-13 21:25:55,966] Trial 20 finished with value: 0.7494033383062706 and parameters: {'C': 5.862579378060815, 'penalty': 'l1'}. Best is trial 13 with value: 0.7495587842846742.\n"
          ]
        },
        {
          "output_type": "stream",
          "name": "stdout",
          "text": [
            "Trial 20, C: 5.862579378060815, penalty: l1, ROC-AUC: 0.7494033383062706\n"
          ]
        },
        {
          "output_type": "stream",
          "name": "stderr",
          "text": [
            "[I 2024-05-13 21:25:58,195] Trial 21 finished with value: 0.749544280588155 and parameters: {'C': 9.796816378245586, 'penalty': 'l1'}. Best is trial 13 with value: 0.7495587842846742.\n"
          ]
        },
        {
          "output_type": "stream",
          "name": "stdout",
          "text": [
            "Trial 21, C: 9.796816378245586, penalty: l1, ROC-AUC: 0.749544280588155\n"
          ]
        },
        {
          "output_type": "stream",
          "name": "stderr",
          "text": [
            "[I 2024-05-13 21:25:59,399] Trial 22 finished with value: 0.7493743098038972 and parameters: {'C': 5.369405619229475, 'penalty': 'l1'}. Best is trial 13 with value: 0.7495587842846742.\n"
          ]
        },
        {
          "output_type": "stream",
          "name": "stdout",
          "text": [
            "Trial 22, C: 5.369405619229475, penalty: l1, ROC-AUC: 0.7493743098038972\n"
          ]
        },
        {
          "output_type": "stream",
          "name": "stderr",
          "text": [
            "[I 2024-05-13 21:26:03,555] Trial 23 finished with value: 0.7489915870010909 and parameters: {'C': 3.0227199680525274, 'penalty': 'l1'}. Best is trial 13 with value: 0.7495587842846742.\n"
          ]
        },
        {
          "output_type": "stream",
          "name": "stdout",
          "text": [
            "Trial 23, C: 3.0227199680525274, penalty: l1, ROC-AUC: 0.7489915870010909\n"
          ]
        },
        {
          "output_type": "stream",
          "name": "stderr",
          "text": [
            "[I 2024-05-13 21:26:07,373] Trial 24 finished with value: 0.7495427406621483 and parameters: {'C': 9.735486263908948, 'penalty': 'l1'}. Best is trial 13 with value: 0.7495587842846742.\n"
          ]
        },
        {
          "output_type": "stream",
          "name": "stdout",
          "text": [
            "Trial 24, C: 9.735486263908948, penalty: l1, ROC-AUC: 0.7495427406621483\n"
          ]
        },
        {
          "output_type": "stream",
          "name": "stderr",
          "text": [
            "[I 2024-05-13 21:26:09,110] Trial 25 finished with value: 0.7494056260304787 and parameters: {'C': 6.065087329363148, 'penalty': 'l1'}. Best is trial 13 with value: 0.7495587842846742.\n"
          ]
        },
        {
          "output_type": "stream",
          "name": "stdout",
          "text": [
            "Trial 25, C: 6.065087329363148, penalty: l1, ROC-AUC: 0.7494056260304787\n"
          ]
        },
        {
          "output_type": "stream",
          "name": "stderr",
          "text": [
            "[I 2024-05-13 21:26:09,653] Trial 26 finished with value: 0.7314912921036774 and parameters: {'C': 1.1018328299980442, 'penalty': 'l2'}. Best is trial 13 with value: 0.7495587842846742.\n"
          ]
        },
        {
          "output_type": "stream",
          "name": "stdout",
          "text": [
            "Trial 26, C: 1.1018328299980442, penalty: l2, ROC-AUC: 0.7314912921036774\n"
          ]
        },
        {
          "output_type": "stream",
          "name": "stderr",
          "text": [
            "[I 2024-05-13 21:26:12,094] Trial 27 finished with value: 0.7489904481524539 and parameters: {'C': 2.9992144612881066, 'penalty': 'l1'}. Best is trial 13 with value: 0.7495587842846742.\n"
          ]
        },
        {
          "output_type": "stream",
          "name": "stdout",
          "text": [
            "Trial 27, C: 2.9992144612881066, penalty: l1, ROC-AUC: 0.7489904481524539\n"
          ]
        },
        {
          "output_type": "stream",
          "name": "stderr",
          "text": [
            "[I 2024-05-13 21:26:12,403] Trial 28 finished with value: 0.7493613212299159 and parameters: {'C': 5.273413980671462, 'penalty': 'l1'}. Best is trial 13 with value: 0.7495587842846742.\n"
          ]
        },
        {
          "output_type": "stream",
          "name": "stdout",
          "text": [
            "Trial 28, C: 5.273413980671462, penalty: l1, ROC-AUC: 0.7493613212299159\n"
          ]
        },
        {
          "output_type": "stream",
          "name": "stderr",
          "text": [
            "[I 2024-05-13 21:26:14,950] Trial 29 finished with value: 0.748425162319178 and parameters: {'C': 1.7468785427456528, 'penalty': 'l1'}. Best is trial 13 with value: 0.7495587842846742.\n"
          ]
        },
        {
          "output_type": "stream",
          "name": "stdout",
          "text": [
            "Trial 29, C: 1.7468785427456528, penalty: l1, ROC-AUC: 0.748425162319178\n"
          ]
        },
        {
          "output_type": "stream",
          "name": "stderr",
          "text": [
            "[I 2024-05-13 21:26:16,204] Trial 30 finished with value: 0.7467262555758726 and parameters: {'C': 0.753399991507403, 'penalty': 'l1'}. Best is trial 13 with value: 0.7495587842846742.\n"
          ]
        },
        {
          "output_type": "stream",
          "name": "stdout",
          "text": [
            "Trial 30, C: 0.753399991507403, penalty: l1, ROC-AUC: 0.7467262555758726\n"
          ]
        },
        {
          "output_type": "stream",
          "name": "stderr",
          "text": [
            "[I 2024-05-13 21:26:18,805] Trial 31 finished with value: 0.7495477171879342 and parameters: {'C': 9.734565576910239, 'penalty': 'l1'}. Best is trial 13 with value: 0.7495587842846742.\n"
          ]
        },
        {
          "output_type": "stream",
          "name": "stdout",
          "text": [
            "Trial 31, C: 9.734565576910239, penalty: l1, ROC-AUC: 0.7495477171879342\n"
          ]
        },
        {
          "output_type": "stream",
          "name": "stderr",
          "text": [
            "[I 2024-05-13 21:26:21,539] Trial 32 finished with value: 0.7494346545328517 and parameters: {'C': 6.573216437711604, 'penalty': 'l1'}. Best is trial 13 with value: 0.7495587842846742.\n"
          ]
        },
        {
          "output_type": "stream",
          "name": "stdout",
          "text": [
            "Trial 32, C: 6.573216437711604, penalty: l1, ROC-AUC: 0.7494346545328517\n"
          ]
        },
        {
          "output_type": "stream",
          "name": "stderr",
          "text": [
            "[I 2024-05-13 21:26:23,368] Trial 33 finished with value: 0.7495301452495362 and parameters: {'C': 8.870072938006656, 'penalty': 'l1'}. Best is trial 13 with value: 0.7495587842846742.\n"
          ]
        },
        {
          "output_type": "stream",
          "name": "stdout",
          "text": [
            "Trial 33, C: 8.870072938006656, penalty: l1, ROC-AUC: 0.7495301452495362\n"
          ]
        },
        {
          "output_type": "stream",
          "name": "stderr",
          "text": [
            "[I 2024-05-13 21:26:25,195] Trial 34 finished with value: 0.7495450331359568 and parameters: {'C': 9.932062962744022, 'penalty': 'l1'}. Best is trial 13 with value: 0.7495587842846742.\n"
          ]
        },
        {
          "output_type": "stream",
          "name": "stdout",
          "text": [
            "Trial 34, C: 9.932062962744022, penalty: l1, ROC-AUC: 0.7495450331359568\n"
          ]
        },
        {
          "output_type": "stream",
          "name": "stderr",
          "text": [
            "[I 2024-05-13 21:26:27,433] Trial 35 finished with value: 0.7491340597097813 and parameters: {'C': 3.5527768433233113, 'penalty': 'l1'}. Best is trial 13 with value: 0.7495587842846742.\n"
          ]
        },
        {
          "output_type": "stream",
          "name": "stdout",
          "text": [
            "Trial 35, C: 3.5527768433233113, penalty: l1, ROC-AUC: 0.7491340597097813\n"
          ]
        },
        {
          "output_type": "stream",
          "name": "stderr",
          "text": [
            "[I 2024-05-13 21:26:30,329] Trial 36 finished with value: 0.748772735440121 and parameters: {'C': 2.373840368615841, 'penalty': 'l1'}. Best is trial 13 with value: 0.7495587842846742.\n"
          ]
        },
        {
          "output_type": "stream",
          "name": "stdout",
          "text": [
            "Trial 36, C: 2.373840368615841, penalty: l1, ROC-AUC: 0.748772735440121\n"
          ]
        },
        {
          "output_type": "stream",
          "name": "stderr",
          "text": [
            "[I 2024-05-13 21:26:30,895] Trial 37 finished with value: 0.7445334853796532 and parameters: {'C': 6.738262608013493, 'penalty': 'l2'}. Best is trial 13 with value: 0.7495587842846742.\n"
          ]
        },
        {
          "output_type": "stream",
          "name": "stdout",
          "text": [
            "Trial 37, C: 6.738262608013493, penalty: l2, ROC-AUC: 0.7445334853796532\n"
          ]
        },
        {
          "output_type": "stream",
          "name": "stderr",
          "text": [
            "[I 2024-05-13 21:26:32,789] Trial 38 finished with value: 0.7493120372649006 and parameters: {'C': 4.8488967769020705, 'penalty': 'l1'}. Best is trial 13 with value: 0.7495587842846742.\n"
          ]
        },
        {
          "output_type": "stream",
          "name": "stdout",
          "text": [
            "Trial 38, C: 4.8488967769020705, penalty: l1, ROC-AUC: 0.7493120372649006\n"
          ]
        },
        {
          "output_type": "stream",
          "name": "stderr",
          "text": [
            "[I 2024-05-13 21:26:33,462] Trial 39 finished with value: 0.7109536525335023 and parameters: {'C': 0.10382416233600092, 'penalty': 'l2'}. Best is trial 13 with value: 0.7495587842846742.\n"
          ]
        },
        {
          "output_type": "stream",
          "name": "stdout",
          "text": [
            "Trial 39, C: 0.10382416233600092, penalty: l2, ROC-AUC: 0.7109536525335023\n"
          ]
        },
        {
          "output_type": "stream",
          "name": "stderr",
          "text": [
            "[I 2024-05-13 21:26:36,856] Trial 40 finished with value: 0.7484163797802459 and parameters: {'C': 1.7373743806885038, 'penalty': 'l1'}. Best is trial 13 with value: 0.7495587842846742.\n"
          ]
        },
        {
          "output_type": "stream",
          "name": "stdout",
          "text": [
            "Trial 40, C: 1.7373743806885038, penalty: l1, ROC-AUC: 0.7484163797802459\n"
          ]
        },
        {
          "output_type": "stream",
          "name": "stderr",
          "text": [
            "[I 2024-05-13 21:26:39,141] Trial 41 finished with value: 0.7495542104194581 and parameters: {'C': 9.984533472666321, 'penalty': 'l1'}. Best is trial 13 with value: 0.7495587842846742.\n"
          ]
        },
        {
          "output_type": "stream",
          "name": "stdout",
          "text": [
            "Trial 41, C: 9.984533472666321, penalty: l1, ROC-AUC: 0.7495542104194581\n"
          ]
        },
        {
          "output_type": "stream",
          "name": "stderr",
          "text": [
            "[I 2024-05-13 21:26:42,431] Trial 42 finished with value: 0.7494885155294837 and parameters: {'C': 7.286343618426734, 'penalty': 'l1'}. Best is trial 13 with value: 0.7495587842846742.\n"
          ]
        },
        {
          "output_type": "stream",
          "name": "stdout",
          "text": [
            "Trial 42, C: 7.286343618426734, penalty: l1, ROC-AUC: 0.7494885155294837\n"
          ]
        },
        {
          "output_type": "stream",
          "name": "stderr",
          "text": [
            "[I 2024-05-13 21:26:45,277] Trial 43 finished with value: 0.7495587911452081 and parameters: {'C': 9.840559221964382, 'penalty': 'l1'}. Best is trial 43 with value: 0.7495587911452081.\n"
          ]
        },
        {
          "output_type": "stream",
          "name": "stdout",
          "text": [
            "Trial 43, C: 9.840559221964382, penalty: l1, ROC-AUC: 0.7495587911452081\n"
          ]
        },
        {
          "output_type": "stream",
          "name": "stderr",
          "text": [
            "[I 2024-05-13 21:26:45,854] Trial 44 finished with value: 0.7410160938416344 and parameters: {'C': 0.28641651619129826, 'penalty': 'l1'}. Best is trial 43 with value: 0.7495587911452081.\n"
          ]
        },
        {
          "output_type": "stream",
          "name": "stdout",
          "text": [
            "Trial 44, C: 0.28641651619129826, penalty: l1, ROC-AUC: 0.7410160938416344\n"
          ]
        },
        {
          "output_type": "stream",
          "name": "stderr",
          "text": [
            "[I 2024-05-13 21:26:47,002] Trial 45 finished with value: 0.7494629188772891 and parameters: {'C': 7.219072422469645, 'penalty': 'l1'}. Best is trial 43 with value: 0.7495587911452081.\n"
          ]
        },
        {
          "output_type": "stream",
          "name": "stdout",
          "text": [
            "Trial 45, C: 7.219072422469645, penalty: l1, ROC-AUC: 0.7494629188772891\n"
          ]
        },
        {
          "output_type": "stream",
          "name": "stderr",
          "text": [
            "[I 2024-05-13 21:26:47,836] Trial 46 finished with value: 0.745211946275222 and parameters: {'C': 7.727925885126973, 'penalty': 'l2'}. Best is trial 43 with value: 0.7495587911452081.\n"
          ]
        },
        {
          "output_type": "stream",
          "name": "stdout",
          "text": [
            "Trial 46, C: 7.727925885126973, penalty: l2, ROC-AUC: 0.745211946275222\n"
          ]
        },
        {
          "output_type": "stream",
          "name": "stderr",
          "text": [
            "[I 2024-05-13 21:26:52,307] Trial 47 finished with value: 0.7494121213729359 and parameters: {'C': 6.09858316684079, 'penalty': 'l1'}. Best is trial 43 with value: 0.7495587911452081.\n"
          ]
        },
        {
          "output_type": "stream",
          "name": "stdout",
          "text": [
            "Trial 47, C: 6.09858316684079, penalty: l1, ROC-AUC: 0.7494121213729359\n"
          ]
        },
        {
          "output_type": "stream",
          "name": "stderr",
          "text": [
            "[I 2024-05-13 21:26:55,514] Trial 48 finished with value: 0.7491634655415222 and parameters: {'C': 3.8194810707436653, 'penalty': 'l1'}. Best is trial 43 with value: 0.7495587911452081.\n"
          ]
        },
        {
          "output_type": "stream",
          "name": "stdout",
          "text": [
            "Trial 48, C: 3.8194810707436653, penalty: l1, ROC-AUC: 0.7491634655415222\n"
          ]
        },
        {
          "output_type": "stream",
          "name": "stderr",
          "text": [
            "[I 2024-05-13 21:26:55,822] Trial 49 finished with value: 0.7493246490372475 and parameters: {'C': 4.951366009929852, 'penalty': 'l1'}. Best is trial 43 with value: 0.7495587911452081.\n"
          ]
        },
        {
          "output_type": "stream",
          "name": "stdout",
          "text": [
            "Trial 49, C: 4.951366009929852, penalty: l1, ROC-AUC: 0.7493246490372475\n"
          ]
        },
        {
          "output_type": "stream",
          "name": "stderr",
          "text": [
            "[I 2024-05-13 21:26:56,415] Trial 50 finished with value: 0.7458346078094493 and parameters: {'C': 9.98324103529374, 'penalty': 'l2'}. Best is trial 43 with value: 0.7495587911452081.\n"
          ]
        },
        {
          "output_type": "stream",
          "name": "stdout",
          "text": [
            "Trial 50, C: 9.98324103529374, penalty: l2, ROC-AUC: 0.7458346078094493\n"
          ]
        },
        {
          "output_type": "stream",
          "name": "stderr",
          "text": [
            "[I 2024-05-13 21:27:00,421] Trial 51 finished with value: 0.7495725349056579 and parameters: {'C': 9.987482428027754, 'penalty': 'l1'}. Best is trial 51 with value: 0.7495725349056579.\n"
          ]
        },
        {
          "output_type": "stream",
          "name": "stdout",
          "text": [
            "Trial 51, C: 9.987482428027754, penalty: l1, ROC-AUC: 0.7495725349056579\n"
          ]
        },
        {
          "output_type": "stream",
          "name": "stderr",
          "text": [
            "[I 2024-05-13 21:27:00,850] Trial 52 finished with value: 0.7327906534871799 and parameters: {'C': 0.1570117335621931, 'penalty': 'l1'}. Best is trial 51 with value: 0.7495725349056579.\n"
          ]
        },
        {
          "output_type": "stream",
          "name": "stdout",
          "text": [
            "Trial 52, C: 0.1570117335621931, penalty: l1, ROC-AUC: 0.7327906534871799\n"
          ]
        },
        {
          "output_type": "stream",
          "name": "stderr",
          "text": [
            "[I 2024-05-13 21:27:05,268] Trial 53 finished with value: 0.7495125727834048 and parameters: {'C': 8.381905009278183, 'penalty': 'l1'}. Best is trial 51 with value: 0.7495725349056579.\n"
          ]
        },
        {
          "output_type": "stream",
          "name": "stdout",
          "text": [
            "Trial 53, C: 8.381905009278183, penalty: l1, ROC-AUC: 0.7495125727834048\n"
          ]
        },
        {
          "output_type": "stream",
          "name": "stderr",
          "text": [
            "[I 2024-05-13 21:27:08,483] Trial 54 finished with value: 0.74951563574795 and parameters: {'C': 8.039379582362823, 'penalty': 'l1'}. Best is trial 51 with value: 0.7495725349056579.\n"
          ]
        },
        {
          "output_type": "stream",
          "name": "stdout",
          "text": [
            "Trial 54, C: 8.039379582362823, penalty: l1, ROC-AUC: 0.74951563574795\n"
          ]
        },
        {
          "output_type": "stream",
          "name": "stderr",
          "text": [
            "[I 2024-05-13 21:27:09,401] Trial 55 finished with value: 0.7494025788979348 and parameters: {'C': 5.971123038393981, 'penalty': 'l1'}. Best is trial 51 with value: 0.7495725349056579.\n"
          ]
        },
        {
          "output_type": "stream",
          "name": "stdout",
          "text": [
            "Trial 55, C: 5.971123038393981, penalty: l1, ROC-AUC: 0.7494025788979348\n"
          ]
        },
        {
          "output_type": "stream",
          "name": "stderr",
          "text": [
            "[I 2024-05-13 21:27:10,998] Trial 56 finished with value: 0.7494655923745988 and parameters: {'C': 7.201821722177919, 'penalty': 'l1'}. Best is trial 51 with value: 0.7495725349056579.\n"
          ]
        },
        {
          "output_type": "stream",
          "name": "stdout",
          "text": [
            "Trial 56, C: 7.201821722177919, penalty: l1, ROC-AUC: 0.7494655923745988\n"
          ]
        },
        {
          "output_type": "stream",
          "name": "stderr",
          "text": [
            "[I 2024-05-13 21:27:13,625] Trial 57 finished with value: 0.7495534372900543 and parameters: {'C': 9.960391219690605, 'penalty': 'l1'}. Best is trial 51 with value: 0.7495725349056579.\n"
          ]
        },
        {
          "output_type": "stream",
          "name": "stdout",
          "text": [
            "Trial 57, C: 9.960391219690605, penalty: l1, ROC-AUC: 0.7495534372900543\n"
          ]
        },
        {
          "output_type": "stream",
          "name": "stderr",
          "text": [
            "[I 2024-05-13 21:27:15,767] Trial 58 finished with value: 0.7495205901089339 and parameters: {'C': 8.606797554708013, 'penalty': 'l1'}. Best is trial 51 with value: 0.7495725349056579.\n"
          ]
        },
        {
          "output_type": "stream",
          "name": "stdout",
          "text": [
            "Trial 58, C: 8.606797554708013, penalty: l1, ROC-AUC: 0.7495205901089339\n"
          ]
        },
        {
          "output_type": "stream",
          "name": "stderr",
          "text": [
            "[I 2024-05-13 21:27:17,646] Trial 59 finished with value: 0.7492749903815314 and parameters: {'C': 4.4335378802356304, 'penalty': 'l1'}. Best is trial 51 with value: 0.7495725349056579.\n"
          ]
        },
        {
          "output_type": "stream",
          "name": "stdout",
          "text": [
            "Trial 59, C: 4.4335378802356304, penalty: l1, ROC-AUC: 0.7492749903815314\n"
          ]
        },
        {
          "output_type": "stream",
          "name": "stderr",
          "text": [
            "[I 2024-05-13 21:27:18,136] Trial 60 finished with value: 0.749381564026957 and parameters: {'C': 5.788310234875589, 'penalty': 'l1'}. Best is trial 51 with value: 0.7495725349056579.\n"
          ]
        },
        {
          "output_type": "stream",
          "name": "stdout",
          "text": [
            "Trial 60, C: 5.788310234875589, penalty: l1, ROC-AUC: 0.749381564026957\n"
          ]
        },
        {
          "output_type": "stream",
          "name": "stderr",
          "text": [
            "[I 2024-05-13 21:27:20,369] Trial 61 finished with value: 0.7495549650781934 and parameters: {'C': 9.862869144405096, 'penalty': 'l1'}. Best is trial 51 with value: 0.7495725349056579.\n"
          ]
        },
        {
          "output_type": "stream",
          "name": "stdout",
          "text": [
            "Trial 61, C: 9.862869144405096, penalty: l1, ROC-AUC: 0.7495549650781934\n"
          ]
        },
        {
          "output_type": "stream",
          "name": "stderr",
          "text": [
            "[I 2024-05-13 21:27:23,174] Trial 62 finished with value: 0.7495194517880305 and parameters: {'C': 8.47837360324137, 'penalty': 'l1'}. Best is trial 51 with value: 0.7495725349056579.\n"
          ]
        },
        {
          "output_type": "stream",
          "name": "stdout",
          "text": [
            "Trial 62, C: 8.47837360324137, penalty: l1, ROC-AUC: 0.7495194517880305\n"
          ]
        },
        {
          "output_type": "stream",
          "name": "stderr",
          "text": [
            "[I 2024-05-13 21:27:25,298] Trial 63 finished with value: 0.7494480220194009 and parameters: {'C': 6.814329675530662, 'penalty': 'l1'}. Best is trial 51 with value: 0.7495725349056579.\n"
          ]
        },
        {
          "output_type": "stream",
          "name": "stdout",
          "text": [
            "Trial 63, C: 6.814329675530662, penalty: l1, ROC-AUC: 0.7494480220194009\n"
          ]
        },
        {
          "output_type": "stream",
          "name": "stderr",
          "text": [
            "[I 2024-05-13 21:27:27,778] Trial 64 finished with value: 0.7495026397857014 and parameters: {'C': 8.205374343272007, 'penalty': 'l1'}. Best is trial 51 with value: 0.7495725349056579.\n"
          ]
        },
        {
          "output_type": "stream",
          "name": "stdout",
          "text": [
            "Trial 64, C: 8.205374343272007, penalty: l1, ROC-AUC: 0.7495026397857014\n"
          ]
        },
        {
          "output_type": "stream",
          "name": "stderr",
          "text": [
            "[I 2024-05-13 21:27:31,220] Trial 65 finished with value: 0.7495648959649632 and parameters: {'C': 9.946742517513668, 'penalty': 'l1'}. Best is trial 51 with value: 0.7495725349056579.\n"
          ]
        },
        {
          "output_type": "stream",
          "name": "stdout",
          "text": [
            "Trial 65, C: 9.946742517513668, penalty: l1, ROC-AUC: 0.7495648959649632\n"
          ]
        },
        {
          "output_type": "stream",
          "name": "stderr",
          "text": [
            "[I 2024-05-13 21:27:31,865] Trial 66 finished with value: 0.7493559742352964 and parameters: {'C': 5.20516392327175, 'penalty': 'l1'}. Best is trial 51 with value: 0.7495725349056579.\n"
          ]
        },
        {
          "output_type": "stream",
          "name": "stdout",
          "text": [
            "Trial 66, C: 5.20516392327175, penalty: l1, ROC-AUC: 0.7493559742352964\n"
          ]
        },
        {
          "output_type": "stream",
          "name": "stderr",
          "text": [
            "[I 2024-05-13 21:27:34,241] Trial 67 finished with value: 0.7494507013217779 and parameters: {'C': 6.713788995314122, 'penalty': 'l1'}. Best is trial 51 with value: 0.7495725349056579.\n"
          ]
        },
        {
          "output_type": "stream",
          "name": "stdout",
          "text": [
            "Trial 67, C: 6.713788995314122, penalty: l1, ROC-AUC: 0.7494507013217779\n"
          ]
        },
        {
          "output_type": "stream",
          "name": "stderr",
          "text": [
            "[I 2024-05-13 21:27:35,589] Trial 68 finished with value: 0.7455727718368369 and parameters: {'C': 0.5618246804103273, 'penalty': 'l1'}. Best is trial 51 with value: 0.7495725349056579.\n"
          ]
        },
        {
          "output_type": "stream",
          "name": "stdout",
          "text": [
            "Trial 68, C: 0.5618246804103273, penalty: l1, ROC-AUC: 0.7455727718368369\n"
          ]
        },
        {
          "output_type": "stream",
          "name": "stderr",
          "text": [
            "[I 2024-05-13 21:27:40,497] Trial 69 finished with value: 0.74955228946995 and parameters: {'C': 9.916487956369476, 'penalty': 'l1'}. Best is trial 51 with value: 0.7495725349056579.\n"
          ]
        },
        {
          "output_type": "stream",
          "name": "stdout",
          "text": [
            "Trial 69, C: 9.916487956369476, penalty: l1, ROC-AUC: 0.74955228946995\n"
          ]
        },
        {
          "output_type": "stream",
          "name": "stderr",
          "text": [
            "[I 2024-05-13 21:27:42,479] Trial 70 finished with value: 0.7495099024524952 and parameters: {'C': 8.192359486359749, 'penalty': 'l1'}. Best is trial 51 with value: 0.7495725349056579.\n"
          ]
        },
        {
          "output_type": "stream",
          "name": "stdout",
          "text": [
            "Trial 70, C: 8.192359486359749, penalty: l1, ROC-AUC: 0.7495099024524952\n"
          ]
        },
        {
          "output_type": "stream",
          "name": "stderr",
          "text": [
            "[I 2024-05-13 21:27:44,961] Trial 71 finished with value: 0.7495603152392134 and parameters: {'C': 9.786804528936784, 'penalty': 'l1'}. Best is trial 51 with value: 0.7495725349056579.\n"
          ]
        },
        {
          "output_type": "stream",
          "name": "stdout",
          "text": [
            "Trial 71, C: 9.786804528936784, penalty: l1, ROC-AUC: 0.7495603152392134\n"
          ]
        },
        {
          "output_type": "stream",
          "name": "stderr",
          "text": [
            "[I 2024-05-13 21:27:47,307] Trial 72 finished with value: 0.7495431095477819 and parameters: {'C': 8.911056181538711, 'penalty': 'l1'}. Best is trial 51 with value: 0.7495725349056579.\n"
          ]
        },
        {
          "output_type": "stream",
          "name": "stdout",
          "text": [
            "Trial 72, C: 8.911056181538711, penalty: l1, ROC-AUC: 0.7495431095477819\n"
          ]
        },
        {
          "output_type": "stream",
          "name": "stderr",
          "text": [
            "[I 2024-05-13 21:27:50,873] Trial 73 finished with value: 0.7494881265899814 and parameters: {'C': 7.498090632959687, 'penalty': 'l1'}. Best is trial 51 with value: 0.7495725349056579.\n"
          ]
        },
        {
          "output_type": "stream",
          "name": "stdout",
          "text": [
            "Trial 73, C: 7.498090632959687, penalty: l1, ROC-AUC: 0.7494881265899814\n"
          ]
        },
        {
          "output_type": "stream",
          "name": "stderr",
          "text": [
            "[I 2024-05-13 21:27:51,716] Trial 74 finished with value: 0.7444302781454673 and parameters: {'C': 6.346424782057467, 'penalty': 'l2'}. Best is trial 51 with value: 0.7495725349056579.\n"
          ]
        },
        {
          "output_type": "stream",
          "name": "stdout",
          "text": [
            "Trial 74, C: 6.346424782057467, penalty: l2, ROC-AUC: 0.7444302781454673\n"
          ]
        },
        {
          "output_type": "stream",
          "name": "stderr",
          "text": [
            "[I 2024-05-13 21:27:55,305] Trial 75 finished with value: 0.7495244072044811 and parameters: {'C': 8.974478361134295, 'penalty': 'l1'}. Best is trial 51 with value: 0.7495725349056579.\n"
          ]
        },
        {
          "output_type": "stream",
          "name": "stdout",
          "text": [
            "Trial 75, C: 8.974478361134295, penalty: l1, ROC-AUC: 0.7495244072044811\n"
          ]
        },
        {
          "output_type": "stream",
          "name": "stderr",
          "text": [
            "[I 2024-05-13 21:27:56,261] Trial 76 finished with value: 0.7493758360088361 and parameters: {'C': 5.486271419458109, 'penalty': 'l1'}. Best is trial 51 with value: 0.7495725349056579.\n"
          ]
        },
        {
          "output_type": "stream",
          "name": "stdout",
          "text": [
            "Trial 76, C: 5.486271419458109, penalty: l1, ROC-AUC: 0.7493758360088361\n"
          ]
        },
        {
          "output_type": "stream",
          "name": "stderr",
          "text": [
            "[I 2024-05-13 21:27:59,513] Trial 77 finished with value: 0.7494908043091584 and parameters: {'C': 7.4405335619806925, 'penalty': 'l1'}. Best is trial 51 with value: 0.7495725349056579.\n"
          ]
        },
        {
          "output_type": "stream",
          "name": "stdout",
          "text": [
            "Trial 77, C: 7.4405335619806925, penalty: l1, ROC-AUC: 0.7494908043091584\n"
          ]
        },
        {
          "output_type": "stream",
          "name": "stderr",
          "text": [
            "[I 2024-05-13 21:28:01,259] Trial 78 finished with value: 0.749525172417884 and parameters: {'C': 9.057818166412462, 'penalty': 'l1'}. Best is trial 51 with value: 0.7495725349056579.\n"
          ]
        },
        {
          "output_type": "stream",
          "name": "stdout",
          "text": [
            "Trial 78, C: 9.057818166412462, penalty: l1, ROC-AUC: 0.749525172417884\n"
          ]
        },
        {
          "output_type": "stream",
          "name": "stderr",
          "text": [
            "[I 2024-05-13 21:28:03,010] Trial 79 finished with value: 0.7481429057033749 and parameters: {'C': 1.420098103454051, 'penalty': 'l1'}. Best is trial 51 with value: 0.7495725349056579.\n"
          ]
        },
        {
          "output_type": "stream",
          "name": "stdout",
          "text": [
            "Trial 79, C: 1.420098103454051, penalty: l1, ROC-AUC: 0.7481429057033749\n"
          ]
        },
        {
          "output_type": "stream",
          "name": "stderr",
          "text": [
            "[I 2024-05-13 21:28:06,654] Trial 80 finished with value: 0.7495599305215782 and parameters: {'C': 9.969007541583052, 'penalty': 'l1'}. Best is trial 51 with value: 0.7495725349056579.\n"
          ]
        },
        {
          "output_type": "stream",
          "name": "stdout",
          "text": [
            "Trial 80, C: 9.969007541583052, penalty: l1, ROC-AUC: 0.7495599305215782\n"
          ]
        },
        {
          "output_type": "stream",
          "name": "stderr",
          "text": [
            "[I 2024-05-13 21:28:07,145] Trial 81 finished with value: 0.7495186733812929 and parameters: {'C': 9.118992777380164, 'penalty': 'l1'}. Best is trial 51 with value: 0.7495725349056579.\n"
          ]
        },
        {
          "output_type": "stream",
          "name": "stdout",
          "text": [
            "Trial 81, C: 9.118992777380164, penalty: l1, ROC-AUC: 0.7495186733812929\n"
          ]
        },
        {
          "output_type": "stream",
          "name": "stderr",
          "text": [
            "[I 2024-05-13 21:28:11,051] Trial 82 finished with value: 0.749561459365184 and parameters: {'C': 9.88414935496999, 'penalty': 'l1'}. Best is trial 51 with value: 0.7495725349056579.\n"
          ]
        },
        {
          "output_type": "stream",
          "name": "stdout",
          "text": [
            "Trial 82, C: 9.88414935496999, penalty: l1, ROC-AUC: 0.749561459365184\n"
          ]
        },
        {
          "output_type": "stream",
          "name": "stderr",
          "text": [
            "[I 2024-05-13 21:28:14,712] Trial 83 finished with value: 0.7495014993538643 and parameters: {'C': 7.6737301023532245, 'penalty': 'l1'}. Best is trial 51 with value: 0.7495725349056579.\n"
          ]
        },
        {
          "output_type": "stream",
          "name": "stdout",
          "text": [
            "Trial 83, C: 7.6737301023532245, penalty: l1, ROC-AUC: 0.7495014993538643\n"
          ]
        },
        {
          "output_type": "stream",
          "name": "stderr",
          "text": [
            "[I 2024-05-13 21:28:15,874] Trial 84 finished with value: 0.7494392400082022 and parameters: {'C': 6.40443742770522, 'penalty': 'l1'}. Best is trial 51 with value: 0.7495725349056579.\n"
          ]
        },
        {
          "output_type": "stream",
          "name": "stdout",
          "text": [
            "Trial 84, C: 6.40443742770522, penalty: l1, ROC-AUC: 0.7494392400082022\n"
          ]
        },
        {
          "output_type": "stream",
          "name": "stderr",
          "text": [
            "[I 2024-05-13 21:28:19,003] Trial 85 finished with value: 0.7495072300106521 and parameters: {'C': 8.016799686301933, 'penalty': 'l1'}. Best is trial 51 with value: 0.7495725349056579.\n"
          ]
        },
        {
          "output_type": "stream",
          "name": "stdout",
          "text": [
            "Trial 85, C: 8.016799686301933, penalty: l1, ROC-AUC: 0.7495072300106521\n"
          ]
        },
        {
          "output_type": "stream",
          "name": "stderr",
          "text": [
            "[I 2024-05-13 21:28:19,776] Trial 86 finished with value: 0.7449187977701618 and parameters: {'C': 6.812592453935803, 'penalty': 'l2'}. Best is trial 51 with value: 0.7495725349056579.\n"
          ]
        },
        {
          "output_type": "stream",
          "name": "stdout",
          "text": [
            "Trial 86, C: 6.812592453935803, penalty: l2, ROC-AUC: 0.7449187977701618\n"
          ]
        },
        {
          "output_type": "stream",
          "name": "stderr",
          "text": [
            "[I 2024-05-13 21:28:21,112] Trial 87 finished with value: 0.7493807993412875 and parameters: {'C': 5.687012041182605, 'penalty': 'l1'}. Best is trial 51 with value: 0.7495725349056579.\n"
          ]
        },
        {
          "output_type": "stream",
          "name": "stdout",
          "text": [
            "Trial 87, C: 5.687012041182605, penalty: l1, ROC-AUC: 0.7493807993412875\n"
          ]
        },
        {
          "output_type": "stream",
          "name": "stderr",
          "text": [
            "[I 2024-05-13 21:28:25,780] Trial 88 finished with value: 0.7495503790751097 and parameters: {'C': 9.251070358907977, 'penalty': 'l1'}. Best is trial 51 with value: 0.7495725349056579.\n"
          ]
        },
        {
          "output_type": "stream",
          "name": "stdout",
          "text": [
            "Trial 88, C: 9.251070358907977, penalty: l1, ROC-AUC: 0.7495503790751097\n"
          ]
        },
        {
          "output_type": "stream",
          "name": "stderr",
          "text": [
            "[I 2024-05-13 21:28:27,046] Trial 89 finished with value: 0.7471807733388082 and parameters: {'C': 0.8941034530784743, 'penalty': 'l1'}. Best is trial 51 with value: 0.7495725349056579.\n"
          ]
        },
        {
          "output_type": "stream",
          "name": "stdout",
          "text": [
            "Trial 89, C: 0.8941034530784743, penalty: l1, ROC-AUC: 0.7471807733388082\n"
          ]
        },
        {
          "output_type": "stream",
          "name": "stderr",
          "text": [
            "[I 2024-05-13 21:28:27,505] Trial 90 finished with value: 0.7493219718458041 and parameters: {'C': 4.821684885712819, 'penalty': 'l1'}. Best is trial 51 with value: 0.7495725349056579.\n"
          ]
        },
        {
          "output_type": "stream",
          "name": "stdout",
          "text": [
            "Trial 90, C: 4.821684885712819, penalty: l1, ROC-AUC: 0.7493219718458041\n"
          ]
        },
        {
          "output_type": "stream",
          "name": "stderr",
          "text": [
            "[I 2024-05-13 21:28:30,400] Trial 91 finished with value: 0.749545421019992 and parameters: {'C': 9.617322432685258, 'penalty': 'l1'}. Best is trial 51 with value: 0.7495725349056579.\n"
          ]
        },
        {
          "output_type": "stream",
          "name": "stdout",
          "text": [
            "Trial 91, C: 9.617322432685258, penalty: l1, ROC-AUC: 0.749545421019992\n"
          ]
        },
        {
          "output_type": "stream",
          "name": "stderr",
          "text": [
            "[I 2024-05-13 21:28:33,631] Trial 92 finished with value: 0.74956031471148 and parameters: {'C': 9.863547159624135, 'penalty': 'l1'}. Best is trial 51 with value: 0.7495725349056579.\n"
          ]
        },
        {
          "output_type": "stream",
          "name": "stdout",
          "text": [
            "Trial 92, C: 9.863547159624135, penalty: l1, ROC-AUC: 0.74956031471148\n"
          ]
        },
        {
          "output_type": "stream",
          "name": "stderr",
          "text": [
            "[I 2024-05-13 21:28:36,262] Trial 93 finished with value: 0.7494972938465485 and parameters: {'C': 8.091930023008072, 'penalty': 'l1'}. Best is trial 51 with value: 0.7495725349056579.\n"
          ]
        },
        {
          "output_type": "stream",
          "name": "stdout",
          "text": [
            "Trial 93, C: 8.091930023008072, penalty: l1, ROC-AUC: 0.7494972938465485\n"
          ]
        },
        {
          "output_type": "stream",
          "name": "stderr",
          "text": [
            "[I 2024-05-13 21:28:37,807] Trial 94 finished with value: 0.749550764320478 and parameters: {'C': 9.988059945429812, 'penalty': 'l1'}. Best is trial 51 with value: 0.7495725349056579.\n"
          ]
        },
        {
          "output_type": "stream",
          "name": "stdout",
          "text": [
            "Trial 94, C: 9.988059945429812, penalty: l1, ROC-AUC: 0.749550764320478\n"
          ]
        },
        {
          "output_type": "stream",
          "name": "stderr",
          "text": [
            "[I 2024-05-13 21:28:40,900] Trial 95 finished with value: 0.7494655876249984 and parameters: {'C': 7.086203626129049, 'penalty': 'l1'}. Best is trial 51 with value: 0.7495725349056579.\n"
          ]
        },
        {
          "output_type": "stream",
          "name": "stdout",
          "text": [
            "Trial 95, C: 7.086203626129049, penalty: l1, ROC-AUC: 0.7494655876249984\n"
          ]
        },
        {
          "output_type": "stream",
          "name": "stderr",
          "text": [
            "[I 2024-05-13 21:28:41,576] Trial 96 finished with value: 0.7428120644748337 and parameters: {'C': 0.3523054164184358, 'penalty': 'l1'}. Best is trial 51 with value: 0.7495725349056579.\n"
          ]
        },
        {
          "output_type": "stream",
          "name": "stdout",
          "text": [
            "Trial 96, C: 0.3523054164184358, penalty: l1, ROC-AUC: 0.7428120644748337\n"
          ]
        },
        {
          "output_type": "stream",
          "name": "stderr",
          "text": [
            "[I 2024-05-13 21:28:43,147] Trial 97 finished with value: 0.749517538754523 and parameters: {'C': 8.796779664172865, 'penalty': 'l1'}. Best is trial 51 with value: 0.7495725349056579.\n"
          ]
        },
        {
          "output_type": "stream",
          "name": "stdout",
          "text": [
            "Trial 97, C: 8.796779664172865, penalty: l1, ROC-AUC: 0.749517538754523\n"
          ]
        },
        {
          "output_type": "stream",
          "name": "stderr",
          "text": [
            "[I 2024-05-13 21:28:43,689] Trial 98 finished with value: 0.7447837471037463 and parameters: {'C': 7.66289607442248, 'penalty': 'l2'}. Best is trial 51 with value: 0.7495725349056579.\n"
          ]
        },
        {
          "output_type": "stream",
          "name": "stdout",
          "text": [
            "Trial 98, C: 7.66289607442248, penalty: l2, ROC-AUC: 0.7447837471037463\n"
          ]
        },
        {
          "output_type": "stream",
          "name": "stderr",
          "text": [
            "[I 2024-05-13 21:28:45,363] Trial 99 finished with value: 0.7495209695492351 and parameters: {'C': 8.62580778038581, 'penalty': 'l1'}. Best is trial 51 with value: 0.7495725349056579.\n"
          ]
        },
        {
          "output_type": "stream",
          "name": "stdout",
          "text": [
            "Trial 99, C: 8.62580778038581, penalty: l1, ROC-AUC: 0.7495209695492351\n",
            "Best Parameters:  {'C': 9.987482428027754, 'penalty': 'l1'}\n",
            "Best ROC-AUC Score:  0.7495725349056579\n"
          ]
        }
      ]
    },
    {
      "cell_type": "code",
      "source": [
        "# Create and save model\n",
        "best_model_lr = LogisticRegression(**best_params_lr, solver='liblinear', n_jobs=-1)\n",
        "with open('best_models_lr_9_features.pkl', 'wb') as file:\n",
        "    pickle.dump(best_model_lr, file)\n"
      ],
      "metadata": {
        "id": "cfK4zd-s3D2Y"
      },
      "execution_count": 31,
      "outputs": []
    },
    {
      "cell_type": "code",
      "source": [
        "# Decision Tree\n",
        "def objective_function(trial):\n",
        "    max_depth = trial.suggest_int('max_depth', 1, 10)\n",
        "    min_samples_split = trial.suggest_int('min_samples_split', 2, 10)\n",
        "    min_samples_leaf = trial.suggest_int('min_samples_leaf', 1, 10)\n",
        "    criterion = trial.suggest_categorical('criterion', ['gini', 'entropy'])\n",
        "\n",
        "    model = DecisionTreeClassifier(\n",
        "        max_depth=max_depth,\n",
        "        min_samples_split=min_samples_split,\n",
        "        min_samples_leaf=min_samples_leaf,\n",
        "        criterion=criterion\n",
        "    )\n",
        "    metrics = ['roc_auc','accuracy','precison','recall','f1-score']\n",
        "    # Using cross_val_score to get the average precision score for each fold\n",
        "    scores = cross_val_score(model, X_train_oversampled, y_train_oversampled, cv=5, scoring='roc_auc')\n",
        "    roc_auc = np.mean(scores)\n",
        "    # Printing intermediate results\n",
        "    print(f\"Trial {trial.number}, max_depth: {max_depth}, min_samples_split: {min_samples_split}, \"\n",
        "          f\"min_samples_leaf: {min_samples_leaf}, criterion: {criterion}, ROC-AUC: {roc_auc}\")\n",
        "    return roc_auc\n",
        "\n",
        "study_dt = optuna.create_study(direction=\"maximize\")\n",
        "study_dt.optimize(objective_function, n_trials=100)\n",
        "\n",
        "best_params_dt = study_dt.best_params\n",
        "print(\"Best Parameters: \", best_params_dt)\n",
        "print(\"Best ROC-AUC Score: \", study_dt.best_value)\n"
      ],
      "metadata": {
        "colab": {
          "base_uri": "https://localhost:8080/"
        },
        "id": "yOuRBSbm3Qrh",
        "outputId": "2850d47c-a837-45c4-d38c-9f244838d5ad"
      },
      "execution_count": 32,
      "outputs": [
        {
          "output_type": "stream",
          "name": "stderr",
          "text": [
            "[I 2024-05-13 21:30:21,292] A new study created in memory with name: no-name-1ba150b3-23b5-4dc1-a086-8e7e18c8cca1\n",
            "[I 2024-05-13 21:30:21,680] Trial 0 finished with value: 0.9281645738027324 and parameters: {'max_depth': 6, 'min_samples_split': 8, 'min_samples_leaf': 3, 'criterion': 'gini'}. Best is trial 0 with value: 0.9281645738027324.\n"
          ]
        },
        {
          "output_type": "stream",
          "name": "stdout",
          "text": [
            "Trial 0, max_depth: 6, min_samples_split: 8, min_samples_leaf: 3, criterion: gini, ROC-AUC: 0.9281645738027324\n"
          ]
        },
        {
          "output_type": "stream",
          "name": "stderr",
          "text": [
            "[I 2024-05-13 21:30:22,093] Trial 1 finished with value: 0.8844063944630551 and parameters: {'max_depth': 5, 'min_samples_split': 9, 'min_samples_leaf': 7, 'criterion': 'entropy'}. Best is trial 0 with value: 0.9281645738027324.\n"
          ]
        },
        {
          "output_type": "stream",
          "name": "stdout",
          "text": [
            "Trial 1, max_depth: 5, min_samples_split: 9, min_samples_leaf: 7, criterion: entropy, ROC-AUC: 0.8844063944630551\n"
          ]
        },
        {
          "output_type": "stream",
          "name": "stderr",
          "text": [
            "[I 2024-05-13 21:30:22,573] Trial 2 finished with value: 0.948657019605464 and parameters: {'max_depth': 8, 'min_samples_split': 9, 'min_samples_leaf': 2, 'criterion': 'entropy'}. Best is trial 2 with value: 0.948657019605464.\n"
          ]
        },
        {
          "output_type": "stream",
          "name": "stdout",
          "text": [
            "Trial 2, max_depth: 8, min_samples_split: 9, min_samples_leaf: 2, criterion: entropy, ROC-AUC: 0.948657019605464\n"
          ]
        },
        {
          "output_type": "stream",
          "name": "stderr",
          "text": [
            "[I 2024-05-13 21:30:23,046] Trial 3 finished with value: 0.9612888935807906 and parameters: {'max_depth': 9, 'min_samples_split': 4, 'min_samples_leaf': 8, 'criterion': 'entropy'}. Best is trial 3 with value: 0.9612888935807906.\n",
            "[I 2024-05-13 21:30:23,225] Trial 4 finished with value: 0.7657172558429901 and parameters: {'max_depth': 2, 'min_samples_split': 3, 'min_samples_leaf': 4, 'criterion': 'gini'}. Best is trial 3 with value: 0.9612888935807906.\n"
          ]
        },
        {
          "output_type": "stream",
          "name": "stdout",
          "text": [
            "Trial 3, max_depth: 9, min_samples_split: 4, min_samples_leaf: 8, criterion: entropy, ROC-AUC: 0.9612888935807906\n",
            "Trial 4, max_depth: 2, min_samples_split: 3, min_samples_leaf: 4, criterion: gini, ROC-AUC: 0.7657172558429901\n"
          ]
        },
        {
          "output_type": "stream",
          "name": "stderr",
          "text": [
            "[I 2024-05-13 21:30:23,513] Trial 5 finished with value: 0.9608955232292825 and parameters: {'max_depth': 9, 'min_samples_split': 5, 'min_samples_leaf': 7, 'criterion': 'gini'}. Best is trial 3 with value: 0.9612888935807906.\n"
          ]
        },
        {
          "output_type": "stream",
          "name": "stdout",
          "text": [
            "Trial 5, max_depth: 9, min_samples_split: 5, min_samples_leaf: 7, criterion: gini, ROC-AUC: 0.9608955232292825\n"
          ]
        },
        {
          "output_type": "stream",
          "name": "stderr",
          "text": [
            "[I 2024-05-13 21:30:23,844] Trial 6 finished with value: 0.9641985246643372 and parameters: {'max_depth': 10, 'min_samples_split': 3, 'min_samples_leaf': 10, 'criterion': 'entropy'}. Best is trial 6 with value: 0.9641985246643372.\n"
          ]
        },
        {
          "output_type": "stream",
          "name": "stdout",
          "text": [
            "Trial 6, max_depth: 10, min_samples_split: 3, min_samples_leaf: 10, criterion: entropy, ROC-AUC: 0.9641985246643372\n"
          ]
        },
        {
          "output_type": "stream",
          "name": "stderr",
          "text": [
            "[I 2024-05-13 21:30:24,074] Trial 7 finished with value: 0.9037991829568461 and parameters: {'max_depth': 5, 'min_samples_split': 7, 'min_samples_leaf': 8, 'criterion': 'gini'}. Best is trial 6 with value: 0.9641985246643372.\n"
          ]
        },
        {
          "output_type": "stream",
          "name": "stdout",
          "text": [
            "Trial 7, max_depth: 5, min_samples_split: 7, min_samples_leaf: 8, criterion: gini, ROC-AUC: 0.9037991829568461\n"
          ]
        },
        {
          "output_type": "stream",
          "name": "stderr",
          "text": [
            "[I 2024-05-13 21:30:24,301] Trial 8 finished with value: 0.8625363030431682 and parameters: {'max_depth': 4, 'min_samples_split': 4, 'min_samples_leaf': 3, 'criterion': 'gini'}. Best is trial 6 with value: 0.9641985246643372.\n"
          ]
        },
        {
          "output_type": "stream",
          "name": "stdout",
          "text": [
            "Trial 8, max_depth: 4, min_samples_split: 4, min_samples_leaf: 3, criterion: gini, ROC-AUC: 0.8625363030431682\n"
          ]
        },
        {
          "output_type": "stream",
          "name": "stderr",
          "text": [
            "[I 2024-05-13 21:30:24,597] Trial 9 finished with value: 0.9353028920992529 and parameters: {'max_depth': 7, 'min_samples_split': 10, 'min_samples_leaf': 6, 'criterion': 'entropy'}. Best is trial 6 with value: 0.9641985246643372.\n"
          ]
        },
        {
          "output_type": "stream",
          "name": "stdout",
          "text": [
            "Trial 9, max_depth: 7, min_samples_split: 10, min_samples_leaf: 6, criterion: entropy, ROC-AUC: 0.9353028920992529\n"
          ]
        },
        {
          "output_type": "stream",
          "name": "stderr",
          "text": [
            "[I 2024-05-13 21:30:24,948] Trial 10 finished with value: 0.9646236152223301 and parameters: {'max_depth': 10, 'min_samples_split': 2, 'min_samples_leaf': 10, 'criterion': 'entropy'}. Best is trial 10 with value: 0.9646236152223301.\n"
          ]
        },
        {
          "output_type": "stream",
          "name": "stdout",
          "text": [
            "Trial 10, max_depth: 10, min_samples_split: 2, min_samples_leaf: 10, criterion: entropy, ROC-AUC: 0.9646236152223301\n"
          ]
        },
        {
          "output_type": "stream",
          "name": "stderr",
          "text": [
            "[I 2024-05-13 21:30:25,303] Trial 11 finished with value: 0.9638663790371973 and parameters: {'max_depth': 10, 'min_samples_split': 3, 'min_samples_leaf': 10, 'criterion': 'entropy'}. Best is trial 10 with value: 0.9646236152223301.\n"
          ]
        },
        {
          "output_type": "stream",
          "name": "stdout",
          "text": [
            "Trial 11, max_depth: 10, min_samples_split: 3, min_samples_leaf: 10, criterion: entropy, ROC-AUC: 0.9638663790371973\n"
          ]
        },
        {
          "output_type": "stream",
          "name": "stderr",
          "text": [
            "[I 2024-05-13 21:30:25,653] Trial 12 finished with value: 0.963180809836849 and parameters: {'max_depth': 10, 'min_samples_split': 2, 'min_samples_leaf': 10, 'criterion': 'entropy'}. Best is trial 10 with value: 0.9646236152223301.\n"
          ]
        },
        {
          "output_type": "stream",
          "name": "stdout",
          "text": [
            "Trial 12, max_depth: 10, min_samples_split: 2, min_samples_leaf: 10, criterion: entropy, ROC-AUC: 0.963180809836849\n"
          ]
        },
        {
          "output_type": "stream",
          "name": "stderr",
          "text": [
            "[I 2024-05-13 21:30:25,976] Trial 13 finished with value: 0.9487602851541886 and parameters: {'max_depth': 8, 'min_samples_split': 2, 'min_samples_leaf': 10, 'criterion': 'entropy'}. Best is trial 10 with value: 0.9646236152223301.\n",
            "[I 2024-05-13 21:30:26,137] Trial 14 finished with value: 0.6200912404575778 and parameters: {'max_depth': 1, 'min_samples_split': 6, 'min_samples_leaf': 9, 'criterion': 'entropy'}. Best is trial 10 with value: 0.9646236152223301.\n"
          ]
        },
        {
          "output_type": "stream",
          "name": "stdout",
          "text": [
            "Trial 13, max_depth: 8, min_samples_split: 2, min_samples_leaf: 10, criterion: entropy, ROC-AUC: 0.9487602851541886\n",
            "Trial 14, max_depth: 1, min_samples_split: 6, min_samples_leaf: 9, criterion: entropy, ROC-AUC: 0.6200912404575778\n"
          ]
        },
        {
          "output_type": "stream",
          "name": "stderr",
          "text": [
            "[I 2024-05-13 21:30:26,511] Trial 15 finished with value: 0.9625806556036018 and parameters: {'max_depth': 10, 'min_samples_split': 2, 'min_samples_leaf': 5, 'criterion': 'entropy'}. Best is trial 10 with value: 0.9646236152223301.\n"
          ]
        },
        {
          "output_type": "stream",
          "name": "stdout",
          "text": [
            "Trial 15, max_depth: 10, min_samples_split: 2, min_samples_leaf: 5, criterion: entropy, ROC-AUC: 0.9625806556036018\n"
          ]
        },
        {
          "output_type": "stream",
          "name": "stderr",
          "text": [
            "[I 2024-05-13 21:30:26,824] Trial 16 finished with value: 0.933605878599453 and parameters: {'max_depth': 7, 'min_samples_split': 4, 'min_samples_leaf': 9, 'criterion': 'entropy'}. Best is trial 10 with value: 0.9646236152223301.\n"
          ]
        },
        {
          "output_type": "stream",
          "name": "stdout",
          "text": [
            "Trial 16, max_depth: 7, min_samples_split: 4, min_samples_leaf: 9, criterion: entropy, ROC-AUC: 0.933605878599453\n"
          ]
        },
        {
          "output_type": "stream",
          "name": "stderr",
          "text": [
            "[I 2024-05-13 21:30:27,051] Trial 17 finished with value: 0.7907162320402303 and parameters: {'max_depth': 3, 'min_samples_split': 6, 'min_samples_leaf': 1, 'criterion': 'entropy'}. Best is trial 10 with value: 0.9646236152223301.\n"
          ]
        },
        {
          "output_type": "stream",
          "name": "stdout",
          "text": [
            "Trial 17, max_depth: 3, min_samples_split: 6, min_samples_leaf: 1, criterion: entropy, ROC-AUC: 0.7907162320402303\n"
          ]
        },
        {
          "output_type": "stream",
          "name": "stderr",
          "text": [
            "[I 2024-05-13 21:30:27,390] Trial 18 finished with value: 0.9493445984145286 and parameters: {'max_depth': 8, 'min_samples_split': 3, 'min_samples_leaf': 8, 'criterion': 'entropy'}. Best is trial 10 with value: 0.9646236152223301.\n"
          ]
        },
        {
          "output_type": "stream",
          "name": "stdout",
          "text": [
            "Trial 18, max_depth: 8, min_samples_split: 3, min_samples_leaf: 8, criterion: entropy, ROC-AUC: 0.9493445984145286\n"
          ]
        },
        {
          "output_type": "stream",
          "name": "stderr",
          "text": [
            "[I 2024-05-13 21:30:27,737] Trial 19 finished with value: 0.9605274954263457 and parameters: {'max_depth': 9, 'min_samples_split': 5, 'min_samples_leaf': 9, 'criterion': 'entropy'}. Best is trial 10 with value: 0.9646236152223301.\n"
          ]
        },
        {
          "output_type": "stream",
          "name": "stdout",
          "text": [
            "Trial 19, max_depth: 9, min_samples_split: 5, min_samples_leaf: 9, criterion: entropy, ROC-AUC: 0.9605274954263457\n"
          ]
        },
        {
          "output_type": "stream",
          "name": "stderr",
          "text": [
            "[I 2024-05-13 21:30:28,044] Trial 20 finished with value: 0.9353505437849199 and parameters: {'max_depth': 7, 'min_samples_split': 2, 'min_samples_leaf': 7, 'criterion': 'entropy'}. Best is trial 10 with value: 0.9646236152223301.\n"
          ]
        },
        {
          "output_type": "stream",
          "name": "stdout",
          "text": [
            "Trial 20, max_depth: 7, min_samples_split: 2, min_samples_leaf: 7, criterion: entropy, ROC-AUC: 0.9353505437849199\n"
          ]
        },
        {
          "output_type": "stream",
          "name": "stderr",
          "text": [
            "[I 2024-05-13 21:30:28,402] Trial 21 finished with value: 0.9638777229300958 and parameters: {'max_depth': 10, 'min_samples_split': 3, 'min_samples_leaf': 10, 'criterion': 'entropy'}. Best is trial 10 with value: 0.9646236152223301.\n"
          ]
        },
        {
          "output_type": "stream",
          "name": "stdout",
          "text": [
            "Trial 21, max_depth: 10, min_samples_split: 3, min_samples_leaf: 10, criterion: entropy, ROC-AUC: 0.9638777229300958\n"
          ]
        },
        {
          "output_type": "stream",
          "name": "stderr",
          "text": [
            "[I 2024-05-13 21:30:28,760] Trial 22 finished with value: 0.9638055778188679 and parameters: {'max_depth': 10, 'min_samples_split': 3, 'min_samples_leaf': 10, 'criterion': 'entropy'}. Best is trial 10 with value: 0.9646236152223301.\n"
          ]
        },
        {
          "output_type": "stream",
          "name": "stdout",
          "text": [
            "Trial 22, max_depth: 10, min_samples_split: 3, min_samples_leaf: 10, criterion: entropy, ROC-AUC: 0.9638055778188679\n"
          ]
        },
        {
          "output_type": "stream",
          "name": "stderr",
          "text": [
            "[I 2024-05-13 21:30:29,095] Trial 23 finished with value: 0.9600604432040034 and parameters: {'max_depth': 9, 'min_samples_split': 5, 'min_samples_leaf': 9, 'criterion': 'entropy'}. Best is trial 10 with value: 0.9646236152223301.\n"
          ]
        },
        {
          "output_type": "stream",
          "name": "stdout",
          "text": [
            "Trial 23, max_depth: 9, min_samples_split: 5, min_samples_leaf: 9, criterion: entropy, ROC-AUC: 0.9600604432040034\n"
          ]
        },
        {
          "output_type": "stream",
          "name": "stderr",
          "text": [
            "[I 2024-05-13 21:30:29,459] Trial 24 finished with value: 0.9634908513513121 and parameters: {'max_depth': 10, 'min_samples_split': 4, 'min_samples_leaf': 10, 'criterion': 'entropy'}. Best is trial 10 with value: 0.9646236152223301.\n"
          ]
        },
        {
          "output_type": "stream",
          "name": "stdout",
          "text": [
            "Trial 24, max_depth: 10, min_samples_split: 4, min_samples_leaf: 10, criterion: entropy, ROC-AUC: 0.9634908513513121\n"
          ]
        },
        {
          "output_type": "stream",
          "name": "stderr",
          "text": [
            "[I 2024-05-13 21:30:29,785] Trial 25 finished with value: 0.9495705727929462 and parameters: {'max_depth': 8, 'min_samples_split': 3, 'min_samples_leaf': 8, 'criterion': 'entropy'}. Best is trial 10 with value: 0.9646236152223301.\n"
          ]
        },
        {
          "output_type": "stream",
          "name": "stdout",
          "text": [
            "Trial 25, max_depth: 8, min_samples_split: 3, min_samples_leaf: 8, criterion: entropy, ROC-AUC: 0.9495705727929462\n"
          ]
        },
        {
          "output_type": "stream",
          "name": "stderr",
          "text": [
            "[I 2024-05-13 21:30:30,090] Trial 26 finished with value: 0.9609578601517516 and parameters: {'max_depth': 9, 'min_samples_split': 2, 'min_samples_leaf': 9, 'criterion': 'gini'}. Best is trial 10 with value: 0.9646236152223301.\n"
          ]
        },
        {
          "output_type": "stream",
          "name": "stdout",
          "text": [
            "Trial 26, max_depth: 9, min_samples_split: 2, min_samples_leaf: 9, criterion: gini, ROC-AUC: 0.9609578601517516\n"
          ]
        },
        {
          "output_type": "stream",
          "name": "stderr",
          "text": [
            "[I 2024-05-13 21:30:30,461] Trial 27 finished with value: 0.9641902305426496 and parameters: {'max_depth': 10, 'min_samples_split': 3, 'min_samples_leaf': 6, 'criterion': 'entropy'}. Best is trial 10 with value: 0.9646236152223301.\n"
          ]
        },
        {
          "output_type": "stream",
          "name": "stdout",
          "text": [
            "Trial 27, max_depth: 10, min_samples_split: 3, min_samples_leaf: 6, criterion: entropy, ROC-AUC: 0.9641902305426496\n"
          ]
        },
        {
          "output_type": "stream",
          "name": "stderr",
          "text": [
            "[I 2024-05-13 21:30:30,755] Trial 28 finished with value: 0.9116482166854688 and parameters: {'max_depth': 6, 'min_samples_split': 6, 'min_samples_leaf': 5, 'criterion': 'entropy'}. Best is trial 10 with value: 0.9646236152223301.\n"
          ]
        },
        {
          "output_type": "stream",
          "name": "stdout",
          "text": [
            "Trial 28, max_depth: 6, min_samples_split: 6, min_samples_leaf: 5, criterion: entropy, ROC-AUC: 0.9116482166854688\n"
          ]
        },
        {
          "output_type": "stream",
          "name": "stderr",
          "text": [
            "[I 2024-05-13 21:30:31,062] Trial 29 finished with value: 0.9591692756749574 and parameters: {'max_depth': 9, 'min_samples_split': 7, 'min_samples_leaf': 6, 'criterion': 'gini'}. Best is trial 10 with value: 0.9646236152223301.\n"
          ]
        },
        {
          "output_type": "stream",
          "name": "stdout",
          "text": [
            "Trial 29, max_depth: 9, min_samples_split: 7, min_samples_leaf: 6, criterion: gini, ROC-AUC: 0.9591692756749574\n"
          ]
        },
        {
          "output_type": "stream",
          "name": "stderr",
          "text": [
            "[I 2024-05-13 21:30:31,385] Trial 30 finished with value: 0.9344068797138994 and parameters: {'max_depth': 7, 'min_samples_split': 4, 'min_samples_leaf': 4, 'criterion': 'entropy'}. Best is trial 10 with value: 0.9646236152223301.\n"
          ]
        },
        {
          "output_type": "stream",
          "name": "stdout",
          "text": [
            "Trial 30, max_depth: 7, min_samples_split: 4, min_samples_leaf: 4, criterion: entropy, ROC-AUC: 0.9344068797138994\n"
          ]
        },
        {
          "output_type": "stream",
          "name": "stderr",
          "text": [
            "[I 2024-05-13 21:30:31,743] Trial 31 finished with value: 0.9629077117700122 and parameters: {'max_depth': 10, 'min_samples_split': 3, 'min_samples_leaf': 10, 'criterion': 'entropy'}. Best is trial 10 with value: 0.9646236152223301.\n"
          ]
        },
        {
          "output_type": "stream",
          "name": "stdout",
          "text": [
            "Trial 31, max_depth: 10, min_samples_split: 3, min_samples_leaf: 10, criterion: entropy, ROC-AUC: 0.9629077117700122\n"
          ]
        },
        {
          "output_type": "stream",
          "name": "stderr",
          "text": [
            "[I 2024-05-13 21:30:32,096] Trial 32 finished with value: 0.9641686375397525 and parameters: {'max_depth': 10, 'min_samples_split': 2, 'min_samples_leaf': 7, 'criterion': 'entropy'}. Best is trial 10 with value: 0.9646236152223301.\n"
          ]
        },
        {
          "output_type": "stream",
          "name": "stdout",
          "text": [
            "Trial 32, max_depth: 10, min_samples_split: 2, min_samples_leaf: 7, criterion: entropy, ROC-AUC: 0.9641686375397525\n"
          ]
        },
        {
          "output_type": "stream",
          "name": "stderr",
          "text": [
            "[I 2024-05-13 21:30:32,440] Trial 33 finished with value: 0.95036986062097 and parameters: {'max_depth': 8, 'min_samples_split': 2, 'min_samples_leaf': 6, 'criterion': 'entropy'}. Best is trial 10 with value: 0.9646236152223301.\n"
          ]
        },
        {
          "output_type": "stream",
          "name": "stdout",
          "text": [
            "Trial 33, max_depth: 8, min_samples_split: 2, min_samples_leaf: 6, criterion: entropy, ROC-AUC: 0.95036986062097\n"
          ]
        },
        {
          "output_type": "stream",
          "name": "stderr",
          "text": [
            "[I 2024-05-13 21:30:32,783] Trial 34 finished with value: 0.9620641043648911 and parameters: {'max_depth': 9, 'min_samples_split': 2, 'min_samples_leaf': 7, 'criterion': 'entropy'}. Best is trial 10 with value: 0.9646236152223301.\n"
          ]
        },
        {
          "output_type": "stream",
          "name": "stdout",
          "text": [
            "Trial 34, max_depth: 9, min_samples_split: 2, min_samples_leaf: 7, criterion: entropy, ROC-AUC: 0.9620641043648911\n"
          ]
        },
        {
          "output_type": "stream",
          "name": "stderr",
          "text": [
            "[I 2024-05-13 21:30:33,200] Trial 35 finished with value: 0.9619978946710033 and parameters: {'max_depth': 10, 'min_samples_split': 3, 'min_samples_leaf': 4, 'criterion': 'entropy'}. Best is trial 10 with value: 0.9646236152223301.\n"
          ]
        },
        {
          "output_type": "stream",
          "name": "stdout",
          "text": [
            "Trial 35, max_depth: 10, min_samples_split: 3, min_samples_leaf: 4, criterion: entropy, ROC-AUC: 0.9619978946710033\n"
          ]
        },
        {
          "output_type": "stream",
          "name": "stderr",
          "text": [
            "[I 2024-05-13 21:30:33,733] Trial 36 finished with value: 0.9623392012219096 and parameters: {'max_depth': 9, 'min_samples_split': 2, 'min_samples_leaf': 7, 'criterion': 'entropy'}. Best is trial 10 with value: 0.9646236152223301.\n"
          ]
        },
        {
          "output_type": "stream",
          "name": "stdout",
          "text": [
            "Trial 36, max_depth: 9, min_samples_split: 2, min_samples_leaf: 7, criterion: entropy, ROC-AUC: 0.9623392012219096\n"
          ]
        },
        {
          "output_type": "stream",
          "name": "stderr",
          "text": [
            "[I 2024-05-13 21:30:34,163] Trial 37 finished with value: 0.9565017040194244 and parameters: {'max_depth': 8, 'min_samples_split': 4, 'min_samples_leaf': 8, 'criterion': 'gini'}. Best is trial 10 with value: 0.9646236152223301.\n"
          ]
        },
        {
          "output_type": "stream",
          "name": "stdout",
          "text": [
            "Trial 37, max_depth: 8, min_samples_split: 4, min_samples_leaf: 8, criterion: gini, ROC-AUC: 0.9565017040194244\n"
          ]
        },
        {
          "output_type": "stream",
          "name": "stderr",
          "text": [
            "[I 2024-05-13 21:30:34,707] Trial 38 finished with value: 0.9635650113485899 and parameters: {'max_depth': 10, 'min_samples_split': 8, 'min_samples_leaf': 5, 'criterion': 'entropy'}. Best is trial 10 with value: 0.9646236152223301.\n"
          ]
        },
        {
          "output_type": "stream",
          "name": "stdout",
          "text": [
            "Trial 38, max_depth: 10, min_samples_split: 8, min_samples_leaf: 5, criterion: entropy, ROC-AUC: 0.9635650113485899\n"
          ]
        },
        {
          "output_type": "stream",
          "name": "stderr",
          "text": [
            "[I 2024-05-13 21:30:35,162] Trial 39 finished with value: 0.9595500983737242 and parameters: {'max_depth': 9, 'min_samples_split': 5, 'min_samples_leaf': 3, 'criterion': 'gini'}. Best is trial 10 with value: 0.9646236152223301.\n"
          ]
        },
        {
          "output_type": "stream",
          "name": "stdout",
          "text": [
            "Trial 39, max_depth: 9, min_samples_split: 5, min_samples_leaf: 3, criterion: gini, ROC-AUC: 0.9595500983737242\n"
          ]
        },
        {
          "output_type": "stream",
          "name": "stderr",
          "text": [
            "[I 2024-05-13 21:30:35,588] Trial 40 finished with value: 0.8843024217515995 and parameters: {'max_depth': 5, 'min_samples_split': 3, 'min_samples_leaf': 6, 'criterion': 'entropy'}. Best is trial 10 with value: 0.9646236152223301.\n"
          ]
        },
        {
          "output_type": "stream",
          "name": "stdout",
          "text": [
            "Trial 40, max_depth: 5, min_samples_split: 3, min_samples_leaf: 6, criterion: entropy, ROC-AUC: 0.8843024217515995\n"
          ]
        },
        {
          "output_type": "stream",
          "name": "stderr",
          "text": [
            "[I 2024-05-13 21:30:36,121] Trial 41 finished with value: 0.9632149697547556 and parameters: {'max_depth': 10, 'min_samples_split': 3, 'min_samples_leaf': 9, 'criterion': 'entropy'}. Best is trial 10 with value: 0.9646236152223301.\n"
          ]
        },
        {
          "output_type": "stream",
          "name": "stdout",
          "text": [
            "Trial 41, max_depth: 10, min_samples_split: 3, min_samples_leaf: 9, criterion: entropy, ROC-AUC: 0.9632149697547556\n"
          ]
        },
        {
          "output_type": "stream",
          "name": "stderr",
          "text": [
            "[I 2024-05-13 21:30:36,693] Trial 42 finished with value: 0.9641568271305452 and parameters: {'max_depth': 10, 'min_samples_split': 4, 'min_samples_leaf': 8, 'criterion': 'entropy'}. Best is trial 10 with value: 0.9646236152223301.\n"
          ]
        },
        {
          "output_type": "stream",
          "name": "stdout",
          "text": [
            "Trial 42, max_depth: 10, min_samples_split: 4, min_samples_leaf: 8, criterion: entropy, ROC-AUC: 0.9641568271305452\n"
          ]
        },
        {
          "output_type": "stream",
          "name": "stderr",
          "text": [
            "[I 2024-05-13 21:30:37,095] Trial 43 finished with value: 0.841630428006971 and parameters: {'max_depth': 4, 'min_samples_split': 4, 'min_samples_leaf': 7, 'criterion': 'entropy'}. Best is trial 10 with value: 0.9646236152223301.\n"
          ]
        },
        {
          "output_type": "stream",
          "name": "stdout",
          "text": [
            "Trial 43, max_depth: 4, min_samples_split: 4, min_samples_leaf: 7, criterion: entropy, ROC-AUC: 0.841630428006971\n"
          ]
        },
        {
          "output_type": "stream",
          "name": "stderr",
          "text": [
            "[I 2024-05-13 21:30:37,621] Trial 44 finished with value: 0.9608804844111148 and parameters: {'max_depth': 9, 'min_samples_split': 2, 'min_samples_leaf': 8, 'criterion': 'entropy'}. Best is trial 10 with value: 0.9646236152223301.\n"
          ]
        },
        {
          "output_type": "stream",
          "name": "stdout",
          "text": [
            "Trial 44, max_depth: 9, min_samples_split: 2, min_samples_leaf: 8, criterion: entropy, ROC-AUC: 0.9608804844111148\n"
          ]
        },
        {
          "output_type": "stream",
          "name": "stderr",
          "text": [
            "[I 2024-05-13 21:30:38,153] Trial 45 finished with value: 0.9636185322210571 and parameters: {'max_depth': 10, 'min_samples_split': 3, 'min_samples_leaf': 8, 'criterion': 'entropy'}. Best is trial 10 with value: 0.9646236152223301.\n"
          ]
        },
        {
          "output_type": "stream",
          "name": "stdout",
          "text": [
            "Trial 45, max_depth: 10, min_samples_split: 3, min_samples_leaf: 8, criterion: entropy, ROC-AUC: 0.9636185322210571\n"
          ]
        },
        {
          "output_type": "stream",
          "name": "stderr",
          "text": [
            "[I 2024-05-13 21:30:38,497] Trial 46 finished with value: 0.9624885555738926 and parameters: {'max_depth': 9, 'min_samples_split': 4, 'min_samples_leaf': 6, 'criterion': 'entropy'}. Best is trial 10 with value: 0.9646236152223301.\n"
          ]
        },
        {
          "output_type": "stream",
          "name": "stdout",
          "text": [
            "Trial 46, max_depth: 9, min_samples_split: 4, min_samples_leaf: 6, criterion: entropy, ROC-AUC: 0.9624885555738926\n"
          ]
        },
        {
          "output_type": "stream",
          "name": "stderr",
          "text": [
            "[I 2024-05-13 21:30:38,824] Trial 47 finished with value: 0.9613521165676071 and parameters: {'max_depth': 10, 'min_samples_split': 2, 'min_samples_leaf': 7, 'criterion': 'gini'}. Best is trial 10 with value: 0.9646236152223301.\n"
          ]
        },
        {
          "output_type": "stream",
          "name": "stdout",
          "text": [
            "Trial 47, max_depth: 10, min_samples_split: 2, min_samples_leaf: 7, criterion: gini, ROC-AUC: 0.9613521165676071\n"
          ]
        },
        {
          "output_type": "stream",
          "name": "stderr",
          "text": [
            "[I 2024-05-13 21:30:39,172] Trial 48 finished with value: 0.9632898788695681 and parameters: {'max_depth': 10, 'min_samples_split': 4, 'min_samples_leaf': 9, 'criterion': 'entropy'}. Best is trial 10 with value: 0.9646236152223301.\n"
          ]
        },
        {
          "output_type": "stream",
          "name": "stdout",
          "text": [
            "Trial 48, max_depth: 10, min_samples_split: 4, min_samples_leaf: 9, criterion: entropy, ROC-AUC: 0.9632898788695681\n"
          ]
        },
        {
          "output_type": "stream",
          "name": "stderr",
          "text": [
            "[I 2024-05-13 21:30:39,390] Trial 49 finished with value: 0.733584655009923 and parameters: {'max_depth': 2, 'min_samples_split': 10, 'min_samples_leaf': 5, 'criterion': 'entropy'}. Best is trial 10 with value: 0.9646236152223301.\n"
          ]
        },
        {
          "output_type": "stream",
          "name": "stdout",
          "text": [
            "Trial 49, max_depth: 2, min_samples_split: 10, min_samples_leaf: 5, criterion: entropy, ROC-AUC: 0.733584655009923\n"
          ]
        },
        {
          "output_type": "stream",
          "name": "stderr",
          "text": [
            "[I 2024-05-13 21:30:39,746] Trial 50 finished with value: 0.9624289591708726 and parameters: {'max_depth': 9, 'min_samples_split': 5, 'min_samples_leaf': 7, 'criterion': 'entropy'}. Best is trial 10 with value: 0.9646236152223301.\n"
          ]
        },
        {
          "output_type": "stream",
          "name": "stdout",
          "text": [
            "Trial 50, max_depth: 9, min_samples_split: 5, min_samples_leaf: 7, criterion: entropy, ROC-AUC: 0.9624289591708726\n"
          ]
        },
        {
          "output_type": "stream",
          "name": "stderr",
          "text": [
            "[I 2024-05-13 21:30:40,097] Trial 51 finished with value: 0.9644538740020933 and parameters: {'max_depth': 10, 'min_samples_split': 3, 'min_samples_leaf': 10, 'criterion': 'entropy'}. Best is trial 10 with value: 0.9646236152223301.\n"
          ]
        },
        {
          "output_type": "stream",
          "name": "stdout",
          "text": [
            "Trial 51, max_depth: 10, min_samples_split: 3, min_samples_leaf: 10, criterion: entropy, ROC-AUC: 0.9644538740020933\n"
          ]
        },
        {
          "output_type": "stream",
          "name": "stderr",
          "text": [
            "[I 2024-05-13 21:30:40,424] Trial 52 finished with value: 0.9488842697793309 and parameters: {'max_depth': 8, 'min_samples_split': 2, 'min_samples_leaf': 10, 'criterion': 'entropy'}. Best is trial 10 with value: 0.9646236152223301.\n"
          ]
        },
        {
          "output_type": "stream",
          "name": "stdout",
          "text": [
            "Trial 52, max_depth: 8, min_samples_split: 2, min_samples_leaf: 10, criterion: entropy, ROC-AUC: 0.9488842697793309\n"
          ]
        },
        {
          "output_type": "stream",
          "name": "stderr",
          "text": [
            "[I 2024-05-13 21:30:40,797] Trial 53 finished with value: 0.963634919661881 and parameters: {'max_depth': 10, 'min_samples_split': 3, 'min_samples_leaf': 10, 'criterion': 'entropy'}. Best is trial 10 with value: 0.9646236152223301.\n"
          ]
        },
        {
          "output_type": "stream",
          "name": "stdout",
          "text": [
            "Trial 53, max_depth: 10, min_samples_split: 3, min_samples_leaf: 10, criterion: entropy, ROC-AUC: 0.963634919661881\n"
          ]
        },
        {
          "output_type": "stream",
          "name": "stderr",
          "text": [
            "[I 2024-05-13 21:30:41,148] Trial 54 finished with value: 0.9632902134525319 and parameters: {'max_depth': 10, 'min_samples_split': 2, 'min_samples_leaf': 9, 'criterion': 'entropy'}. Best is trial 10 with value: 0.9646236152223301.\n"
          ]
        },
        {
          "output_type": "stream",
          "name": "stdout",
          "text": [
            "Trial 54, max_depth: 10, min_samples_split: 2, min_samples_leaf: 9, criterion: entropy, ROC-AUC: 0.9632902134525319\n"
          ]
        },
        {
          "output_type": "stream",
          "name": "stderr",
          "text": [
            "[I 2024-05-13 21:30:41,490] Trial 55 finished with value: 0.9596790943550555 and parameters: {'max_depth': 9, 'min_samples_split': 3, 'min_samples_leaf': 10, 'criterion': 'entropy'}. Best is trial 10 with value: 0.9646236152223301.\n"
          ]
        },
        {
          "output_type": "stream",
          "name": "stdout",
          "text": [
            "Trial 55, max_depth: 9, min_samples_split: 3, min_samples_leaf: 10, criterion: entropy, ROC-AUC: 0.9596790943550555\n"
          ]
        },
        {
          "output_type": "stream",
          "name": "stderr",
          "text": [
            "[I 2024-05-13 21:30:41,800] Trial 56 finished with value: 0.9111702245501316 and parameters: {'max_depth': 6, 'min_samples_split': 2, 'min_samples_leaf': 8, 'criterion': 'entropy'}. Best is trial 10 with value: 0.9646236152223301.\n"
          ]
        },
        {
          "output_type": "stream",
          "name": "stdout",
          "text": [
            "Trial 56, max_depth: 6, min_samples_split: 2, min_samples_leaf: 8, criterion: entropy, ROC-AUC: 0.9111702245501316\n"
          ]
        },
        {
          "output_type": "stream",
          "name": "stderr",
          "text": [
            "[I 2024-05-13 21:30:42,145] Trial 57 finished with value: 0.9631171084597223 and parameters: {'max_depth': 10, 'min_samples_split': 4, 'min_samples_leaf': 9, 'criterion': 'entropy'}. Best is trial 10 with value: 0.9646236152223301.\n"
          ]
        },
        {
          "output_type": "stream",
          "name": "stdout",
          "text": [
            "Trial 57, max_depth: 10, min_samples_split: 4, min_samples_leaf: 9, criterion: entropy, ROC-AUC: 0.9631171084597223\n"
          ]
        },
        {
          "output_type": "stream",
          "name": "stderr",
          "text": [
            "[I 2024-05-13 21:30:42,492] Trial 58 finished with value: 0.9602253047375303 and parameters: {'max_depth': 9, 'min_samples_split': 3, 'min_samples_leaf': 10, 'criterion': 'entropy'}. Best is trial 10 with value: 0.9646236152223301.\n"
          ]
        },
        {
          "output_type": "stream",
          "name": "stdout",
          "text": [
            "Trial 58, max_depth: 9, min_samples_split: 3, min_samples_leaf: 10, criterion: entropy, ROC-AUC: 0.9602253047375303\n"
          ]
        },
        {
          "output_type": "stream",
          "name": "stderr",
          "text": [
            "[I 2024-05-13 21:30:42,865] Trial 59 finished with value: 0.9633442789458488 and parameters: {'max_depth': 10, 'min_samples_split': 3, 'min_samples_leaf': 9, 'criterion': 'entropy'}. Best is trial 10 with value: 0.9646236152223301.\n"
          ]
        },
        {
          "output_type": "stream",
          "name": "stdout",
          "text": [
            "Trial 59, max_depth: 10, min_samples_split: 3, min_samples_leaf: 9, criterion: entropy, ROC-AUC: 0.9633442789458488\n"
          ]
        },
        {
          "output_type": "stream",
          "name": "stderr",
          "text": [
            "[I 2024-05-13 21:30:43,150] Trial 60 finished with value: 0.9400056155581374 and parameters: {'max_depth': 7, 'min_samples_split': 7, 'min_samples_leaf': 2, 'criterion': 'gini'}. Best is trial 10 with value: 0.9646236152223301.\n"
          ]
        },
        {
          "output_type": "stream",
          "name": "stdout",
          "text": [
            "Trial 60, max_depth: 7, min_samples_split: 7, min_samples_leaf: 2, criterion: gini, ROC-AUC: 0.9400056155581374\n"
          ]
        },
        {
          "output_type": "stream",
          "name": "stderr",
          "text": [
            "[I 2024-05-13 21:30:43,509] Trial 61 finished with value: 0.9633469052110207 and parameters: {'max_depth': 10, 'min_samples_split': 3, 'min_samples_leaf': 10, 'criterion': 'entropy'}. Best is trial 10 with value: 0.9646236152223301.\n"
          ]
        },
        {
          "output_type": "stream",
          "name": "stdout",
          "text": [
            "Trial 61, max_depth: 10, min_samples_split: 3, min_samples_leaf: 10, criterion: entropy, ROC-AUC: 0.9633469052110207\n"
          ]
        },
        {
          "output_type": "stream",
          "name": "stderr",
          "text": [
            "[I 2024-05-13 21:30:43,867] Trial 62 finished with value: 0.9635340262747052 and parameters: {'max_depth': 10, 'min_samples_split': 3, 'min_samples_leaf': 10, 'criterion': 'entropy'}. Best is trial 10 with value: 0.9646236152223301.\n"
          ]
        },
        {
          "output_type": "stream",
          "name": "stdout",
          "text": [
            "Trial 62, max_depth: 10, min_samples_split: 3, min_samples_leaf: 10, criterion: entropy, ROC-AUC: 0.9635340262747052\n"
          ]
        },
        {
          "output_type": "stream",
          "name": "stderr",
          "text": [
            "[I 2024-05-13 21:30:44,218] Trial 63 finished with value: 0.9601073996009406 and parameters: {'max_depth': 9, 'min_samples_split': 2, 'min_samples_leaf': 9, 'criterion': 'entropy'}. Best is trial 10 with value: 0.9646236152223301.\n"
          ]
        },
        {
          "output_type": "stream",
          "name": "stdout",
          "text": [
            "Trial 63, max_depth: 9, min_samples_split: 2, min_samples_leaf: 9, criterion: entropy, ROC-AUC: 0.9601073996009406\n"
          ]
        },
        {
          "output_type": "stream",
          "name": "stderr",
          "text": [
            "[I 2024-05-13 21:30:44,571] Trial 64 finished with value: 0.9646218132766995 and parameters: {'max_depth': 10, 'min_samples_split': 2, 'min_samples_leaf': 10, 'criterion': 'entropy'}. Best is trial 10 with value: 0.9646236152223301.\n"
          ]
        },
        {
          "output_type": "stream",
          "name": "stdout",
          "text": [
            "Trial 64, max_depth: 10, min_samples_split: 2, min_samples_leaf: 10, criterion: entropy, ROC-AUC: 0.9646218132766995\n"
          ]
        },
        {
          "output_type": "stream",
          "name": "stderr",
          "text": [
            "[I 2024-05-13 21:30:44,913] Trial 65 finished with value: 0.9493333270849702 and parameters: {'max_depth': 8, 'min_samples_split': 2, 'min_samples_leaf': 8, 'criterion': 'entropy'}. Best is trial 10 with value: 0.9646236152223301.\n"
          ]
        },
        {
          "output_type": "stream",
          "name": "stdout",
          "text": [
            "Trial 65, max_depth: 8, min_samples_split: 2, min_samples_leaf: 8, criterion: entropy, ROC-AUC: 0.9493333270849702\n"
          ]
        },
        {
          "output_type": "stream",
          "name": "stderr",
          "text": [
            "[I 2024-05-13 21:30:45,277] Trial 66 finished with value: 0.9649359025061974 and parameters: {'max_depth': 10, 'min_samples_split': 9, 'min_samples_leaf': 6, 'criterion': 'entropy'}. Best is trial 66 with value: 0.9649359025061974.\n"
          ]
        },
        {
          "output_type": "stream",
          "name": "stdout",
          "text": [
            "Trial 66, max_depth: 10, min_samples_split: 9, min_samples_leaf: 6, criterion: entropy, ROC-AUC: 0.9649359025061974\n"
          ]
        },
        {
          "output_type": "stream",
          "name": "stderr",
          "text": [
            "[I 2024-05-13 21:30:45,625] Trial 67 finished with value: 0.9624994247706145 and parameters: {'max_depth': 9, 'min_samples_split': 9, 'min_samples_leaf': 6, 'criterion': 'entropy'}. Best is trial 66 with value: 0.9649359025061974.\n"
          ]
        },
        {
          "output_type": "stream",
          "name": "stdout",
          "text": [
            "Trial 67, max_depth: 9, min_samples_split: 9, min_samples_leaf: 6, criterion: entropy, ROC-AUC: 0.9624994247706145\n"
          ]
        },
        {
          "output_type": "stream",
          "name": "stderr",
          "text": [
            "[I 2024-05-13 21:30:45,987] Trial 68 finished with value: 0.9634040806371541 and parameters: {'max_depth': 10, 'min_samples_split': 8, 'min_samples_leaf': 5, 'criterion': 'entropy'}. Best is trial 66 with value: 0.9649359025061974.\n"
          ]
        },
        {
          "output_type": "stream",
          "name": "stdout",
          "text": [
            "Trial 68, max_depth: 10, min_samples_split: 8, min_samples_leaf: 5, criterion: entropy, ROC-AUC: 0.9634040806371541\n"
          ]
        },
        {
          "output_type": "stream",
          "name": "stderr",
          "text": [
            "[I 2024-05-13 21:30:46,343] Trial 69 finished with value: 0.9619391072832568 and parameters: {'max_depth': 10, 'min_samples_split': 2, 'min_samples_leaf': 4, 'criterion': 'entropy'}. Best is trial 66 with value: 0.9649359025061974.\n"
          ]
        },
        {
          "output_type": "stream",
          "name": "stdout",
          "text": [
            "Trial 69, max_depth: 10, min_samples_split: 2, min_samples_leaf: 4, criterion: entropy, ROC-AUC: 0.9619391072832568\n"
          ]
        },
        {
          "output_type": "stream",
          "name": "stderr",
          "text": [
            "[I 2024-05-13 21:30:46,686] Trial 70 finished with value: 0.9627923970127252 and parameters: {'max_depth': 9, 'min_samples_split': 2, 'min_samples_leaf': 6, 'criterion': 'entropy'}. Best is trial 66 with value: 0.9649359025061974.\n"
          ]
        },
        {
          "output_type": "stream",
          "name": "stdout",
          "text": [
            "Trial 70, max_depth: 9, min_samples_split: 2, min_samples_leaf: 6, criterion: entropy, ROC-AUC: 0.9627923970127252\n"
          ]
        },
        {
          "output_type": "stream",
          "name": "stderr",
          "text": [
            "[I 2024-05-13 21:30:47,054] Trial 71 finished with value: 0.9646809874930143 and parameters: {'max_depth': 10, 'min_samples_split': 5, 'min_samples_leaf': 7, 'criterion': 'entropy'}. Best is trial 66 with value: 0.9649359025061974.\n"
          ]
        },
        {
          "output_type": "stream",
          "name": "stdout",
          "text": [
            "Trial 71, max_depth: 10, min_samples_split: 5, min_samples_leaf: 7, criterion: entropy, ROC-AUC: 0.9646809874930143\n"
          ]
        },
        {
          "output_type": "stream",
          "name": "stderr",
          "text": [
            "[I 2024-05-13 21:30:47,421] Trial 72 finished with value: 0.9644305582135726 and parameters: {'max_depth': 10, 'min_samples_split': 6, 'min_samples_leaf': 6, 'criterion': 'entropy'}. Best is trial 66 with value: 0.9649359025061974.\n"
          ]
        },
        {
          "output_type": "stream",
          "name": "stdout",
          "text": [
            "Trial 72, max_depth: 10, min_samples_split: 6, min_samples_leaf: 6, criterion: entropy, ROC-AUC: 0.9644305582135726\n"
          ]
        },
        {
          "output_type": "stream",
          "name": "stderr",
          "text": [
            "[I 2024-05-13 21:30:47,778] Trial 73 finished with value: 0.9632918225116116 and parameters: {'max_depth': 10, 'min_samples_split': 6, 'min_samples_leaf': 5, 'criterion': 'entropy'}. Best is trial 66 with value: 0.9649359025061974.\n"
          ]
        },
        {
          "output_type": "stream",
          "name": "stdout",
          "text": [
            "Trial 73, max_depth: 10, min_samples_split: 6, min_samples_leaf: 5, criterion: entropy, ROC-AUC: 0.9632918225116116\n"
          ]
        },
        {
          "output_type": "stream",
          "name": "stderr",
          "text": [
            "[I 2024-05-13 21:30:48,149] Trial 74 finished with value: 0.9640519353714059 and parameters: {'max_depth': 10, 'min_samples_split': 7, 'min_samples_leaf': 6, 'criterion': 'entropy'}. Best is trial 66 with value: 0.9649359025061974.\n"
          ]
        },
        {
          "output_type": "stream",
          "name": "stdout",
          "text": [
            "Trial 74, max_depth: 10, min_samples_split: 7, min_samples_leaf: 6, criterion: entropy, ROC-AUC: 0.9640519353714059\n"
          ]
        },
        {
          "output_type": "stream",
          "name": "stderr",
          "text": [
            "[I 2024-05-13 21:30:48,674] Trial 75 finished with value: 0.9602294244881715 and parameters: {'max_depth': 9, 'min_samples_split': 6, 'min_samples_leaf': 10, 'criterion': 'entropy'}. Best is trial 66 with value: 0.9649359025061974.\n"
          ]
        },
        {
          "output_type": "stream",
          "name": "stdout",
          "text": [
            "Trial 75, max_depth: 9, min_samples_split: 6, min_samples_leaf: 10, criterion: entropy, ROC-AUC: 0.9602294244881715\n"
          ]
        },
        {
          "output_type": "stream",
          "name": "stderr",
          "text": [
            "[I 2024-05-13 21:30:49,147] Trial 76 finished with value: 0.9601142767584994 and parameters: {'max_depth': 10, 'min_samples_split': 9, 'min_samples_leaf': 6, 'criterion': 'gini'}. Best is trial 66 with value: 0.9649359025061974.\n"
          ]
        },
        {
          "output_type": "stream",
          "name": "stdout",
          "text": [
            "Trial 76, max_depth: 10, min_samples_split: 9, min_samples_leaf: 6, criterion: gini, ROC-AUC: 0.9601142767584994\n"
          ]
        },
        {
          "output_type": "stream",
          "name": "stderr",
          "text": [
            "[I 2024-05-13 21:30:49,426] Trial 77 finished with value: 0.6200912404575778 and parameters: {'max_depth': 1, 'min_samples_split': 5, 'min_samples_leaf': 10, 'criterion': 'entropy'}. Best is trial 66 with value: 0.9649359025061974.\n"
          ]
        },
        {
          "output_type": "stream",
          "name": "stdout",
          "text": [
            "Trial 77, max_depth: 1, min_samples_split: 5, min_samples_leaf: 10, criterion: entropy, ROC-AUC: 0.6200912404575778\n"
          ]
        },
        {
          "output_type": "stream",
          "name": "stderr",
          "text": [
            "[I 2024-05-13 21:30:49,957] Trial 78 finished with value: 0.9623048241417166 and parameters: {'max_depth': 9, 'min_samples_split': 6, 'min_samples_leaf': 7, 'criterion': 'entropy'}. Best is trial 66 with value: 0.9649359025061974.\n"
          ]
        },
        {
          "output_type": "stream",
          "name": "stdout",
          "text": [
            "Trial 78, max_depth: 9, min_samples_split: 6, min_samples_leaf: 7, criterion: entropy, ROC-AUC: 0.9623048241417166\n"
          ]
        },
        {
          "output_type": "stream",
          "name": "stderr",
          "text": [
            "[I 2024-05-13 21:30:50,515] Trial 79 finished with value: 0.9641669680552006 and parameters: {'max_depth': 10, 'min_samples_split': 5, 'min_samples_leaf': 5, 'criterion': 'entropy'}. Best is trial 66 with value: 0.9649359025061974.\n"
          ]
        },
        {
          "output_type": "stream",
          "name": "stdout",
          "text": [
            "Trial 79, max_depth: 10, min_samples_split: 5, min_samples_leaf: 5, criterion: entropy, ROC-AUC: 0.9641669680552006\n"
          ]
        },
        {
          "output_type": "stream",
          "name": "stderr",
          "text": [
            "[I 2024-05-13 21:30:51,059] Trial 80 finished with value: 0.9632911454296833 and parameters: {'max_depth': 10, 'min_samples_split': 7, 'min_samples_leaf': 9, 'criterion': 'entropy'}. Best is trial 66 with value: 0.9649359025061974.\n"
          ]
        },
        {
          "output_type": "stream",
          "name": "stdout",
          "text": [
            "Trial 80, max_depth: 10, min_samples_split: 7, min_samples_leaf: 9, criterion: entropy, ROC-AUC: 0.9632911454296833\n"
          ]
        },
        {
          "output_type": "stream",
          "name": "stderr",
          "text": [
            "[I 2024-05-13 21:30:51,629] Trial 81 finished with value: 0.964393278072049 and parameters: {'max_depth': 10, 'min_samples_split': 2, 'min_samples_leaf': 6, 'criterion': 'entropy'}. Best is trial 66 with value: 0.9649359025061974.\n"
          ]
        },
        {
          "output_type": "stream",
          "name": "stdout",
          "text": [
            "Trial 81, max_depth: 10, min_samples_split: 2, min_samples_leaf: 6, criterion: entropy, ROC-AUC: 0.964393278072049\n"
          ]
        },
        {
          "output_type": "stream",
          "name": "stderr",
          "text": [
            "[I 2024-05-13 21:30:52,172] Trial 82 finished with value: 0.9645719174048285 and parameters: {'max_depth': 10, 'min_samples_split': 3, 'min_samples_leaf': 6, 'criterion': 'entropy'}. Best is trial 66 with value: 0.9649359025061974.\n"
          ]
        },
        {
          "output_type": "stream",
          "name": "stdout",
          "text": [
            "Trial 82, max_depth: 10, min_samples_split: 3, min_samples_leaf: 6, criterion: entropy, ROC-AUC: 0.9645719174048285\n"
          ]
        },
        {
          "output_type": "stream",
          "name": "stderr",
          "text": [
            "[I 2024-05-13 21:30:52,576] Trial 83 finished with value: 0.841630428006971 and parameters: {'max_depth': 4, 'min_samples_split': 8, 'min_samples_leaf': 6, 'criterion': 'entropy'}. Best is trial 66 with value: 0.9649359025061974.\n"
          ]
        },
        {
          "output_type": "stream",
          "name": "stdout",
          "text": [
            "Trial 83, max_depth: 4, min_samples_split: 8, min_samples_leaf: 6, criterion: entropy, ROC-AUC: 0.841630428006971\n"
          ]
        },
        {
          "output_type": "stream",
          "name": "stderr",
          "text": [
            "[I 2024-05-13 21:30:53,124] Trial 84 finished with value: 0.963378134625461 and parameters: {'max_depth': 10, 'min_samples_split': 2, 'min_samples_leaf': 5, 'criterion': 'entropy'}. Best is trial 66 with value: 0.9649359025061974.\n"
          ]
        },
        {
          "output_type": "stream",
          "name": "stdout",
          "text": [
            "Trial 84, max_depth: 10, min_samples_split: 2, min_samples_leaf: 5, criterion: entropy, ROC-AUC: 0.963378134625461\n"
          ]
        },
        {
          "output_type": "stream",
          "name": "stderr",
          "text": [
            "[I 2024-05-13 21:30:53,529] Trial 85 finished with value: 0.9625775398657185 and parameters: {'max_depth': 9, 'min_samples_split': 5, 'min_samples_leaf': 6, 'criterion': 'entropy'}. Best is trial 66 with value: 0.9649359025061974.\n"
          ]
        },
        {
          "output_type": "stream",
          "name": "stdout",
          "text": [
            "Trial 85, max_depth: 9, min_samples_split: 5, min_samples_leaf: 6, criterion: entropy, ROC-AUC: 0.9625775398657185\n"
          ]
        },
        {
          "output_type": "stream",
          "name": "stderr",
          "text": [
            "[I 2024-05-13 21:30:53,897] Trial 86 finished with value: 0.964420249469702 and parameters: {'max_depth': 10, 'min_samples_split': 3, 'min_samples_leaf': 6, 'criterion': 'entropy'}. Best is trial 66 with value: 0.9649359025061974.\n"
          ]
        },
        {
          "output_type": "stream",
          "name": "stdout",
          "text": [
            "Trial 86, max_depth: 10, min_samples_split: 3, min_samples_leaf: 6, criterion: entropy, ROC-AUC: 0.964420249469702\n"
          ]
        },
        {
          "output_type": "stream",
          "name": "stderr",
          "text": [
            "[I 2024-05-13 21:30:54,258] Trial 87 finished with value: 0.964249300267755 and parameters: {'max_depth': 10, 'min_samples_split': 3, 'min_samples_leaf': 7, 'criterion': 'entropy'}. Best is trial 66 with value: 0.9649359025061974.\n"
          ]
        },
        {
          "output_type": "stream",
          "name": "stdout",
          "text": [
            "Trial 87, max_depth: 10, min_samples_split: 3, min_samples_leaf: 7, criterion: entropy, ROC-AUC: 0.964249300267755\n"
          ]
        },
        {
          "output_type": "stream",
          "name": "stderr",
          "text": [
            "[I 2024-05-13 21:30:54,616] Trial 88 finished with value: 0.9606292862241365 and parameters: {'max_depth': 9, 'min_samples_split': 10, 'min_samples_leaf': 4, 'criterion': 'entropy'}. Best is trial 66 with value: 0.9649359025061974.\n"
          ]
        },
        {
          "output_type": "stream",
          "name": "stdout",
          "text": [
            "Trial 88, max_depth: 9, min_samples_split: 10, min_samples_leaf: 4, criterion: entropy, ROC-AUC: 0.9606292862241365\n"
          ]
        },
        {
          "output_type": "stream",
          "name": "stderr",
          "text": [
            "[I 2024-05-13 21:30:54,941] Trial 89 finished with value: 0.9612686869334862 and parameters: {'max_depth': 10, 'min_samples_split': 6, 'min_samples_leaf': 6, 'criterion': 'gini'}. Best is trial 66 with value: 0.9649359025061974.\n"
          ]
        },
        {
          "output_type": "stream",
          "name": "stdout",
          "text": [
            "Trial 89, max_depth: 10, min_samples_split: 6, min_samples_leaf: 6, criterion: gini, ROC-AUC: 0.9612686869334862\n"
          ]
        },
        {
          "output_type": "stream",
          "name": "stderr",
          "text": [
            "[I 2024-05-13 21:30:55,301] Trial 90 finished with value: 0.9638971311167941 and parameters: {'max_depth': 10, 'min_samples_split': 2, 'min_samples_leaf': 6, 'criterion': 'entropy'}. Best is trial 66 with value: 0.9649359025061974.\n"
          ]
        },
        {
          "output_type": "stream",
          "name": "stdout",
          "text": [
            "Trial 90, max_depth: 10, min_samples_split: 2, min_samples_leaf: 6, criterion: entropy, ROC-AUC: 0.9638971311167941\n"
          ]
        },
        {
          "output_type": "stream",
          "name": "stderr",
          "text": [
            "[I 2024-05-13 21:30:55,672] Trial 91 finished with value: 0.9640165701104563 and parameters: {'max_depth': 10, 'min_samples_split': 3, 'min_samples_leaf': 7, 'criterion': 'entropy'}. Best is trial 66 with value: 0.9649359025061974.\n"
          ]
        },
        {
          "output_type": "stream",
          "name": "stdout",
          "text": [
            "Trial 91, max_depth: 10, min_samples_split: 3, min_samples_leaf: 7, criterion: entropy, ROC-AUC: 0.9640165701104563\n"
          ]
        },
        {
          "output_type": "stream",
          "name": "stderr",
          "text": [
            "[I 2024-05-13 21:30:56,032] Trial 92 finished with value: 0.9636620008280768 and parameters: {'max_depth': 10, 'min_samples_split': 3, 'min_samples_leaf': 7, 'criterion': 'entropy'}. Best is trial 66 with value: 0.9649359025061974.\n"
          ]
        },
        {
          "output_type": "stream",
          "name": "stdout",
          "text": [
            "Trial 92, max_depth: 10, min_samples_split: 3, min_samples_leaf: 7, criterion: entropy, ROC-AUC: 0.9636620008280768\n"
          ]
        },
        {
          "output_type": "stream",
          "name": "stderr",
          "text": [
            "[I 2024-05-13 21:30:56,391] Trial 93 finished with value: 0.9620360012430021 and parameters: {'max_depth': 9, 'min_samples_split': 4, 'min_samples_leaf': 7, 'criterion': 'entropy'}. Best is trial 66 with value: 0.9649359025061974.\n"
          ]
        },
        {
          "output_type": "stream",
          "name": "stdout",
          "text": [
            "Trial 93, max_depth: 9, min_samples_split: 4, min_samples_leaf: 7, criterion: entropy, ROC-AUC: 0.9620360012430021\n"
          ]
        },
        {
          "output_type": "stream",
          "name": "stderr",
          "text": [
            "[I 2024-05-13 21:30:56,757] Trial 94 finished with value: 0.9643025965896687 and parameters: {'max_depth': 10, 'min_samples_split': 3, 'min_samples_leaf': 6, 'criterion': 'entropy'}. Best is trial 66 with value: 0.9649359025061974.\n"
          ]
        },
        {
          "output_type": "stream",
          "name": "stdout",
          "text": [
            "Trial 94, max_depth: 10, min_samples_split: 3, min_samples_leaf: 6, criterion: entropy, ROC-AUC: 0.9643025965896687\n"
          ]
        },
        {
          "output_type": "stream",
          "name": "stderr",
          "text": [
            "[I 2024-05-13 21:30:57,118] Trial 95 finished with value: 0.9640782713780677 and parameters: {'max_depth': 10, 'min_samples_split': 2, 'min_samples_leaf': 6, 'criterion': 'entropy'}. Best is trial 66 with value: 0.9649359025061974.\n"
          ]
        },
        {
          "output_type": "stream",
          "name": "stdout",
          "text": [
            "Trial 95, max_depth: 10, min_samples_split: 2, min_samples_leaf: 6, criterion: entropy, ROC-AUC: 0.9640782713780677\n"
          ]
        },
        {
          "output_type": "stream",
          "name": "stderr",
          "text": [
            "[I 2024-05-13 21:30:57,482] Trial 96 finished with value: 0.9635744831073177 and parameters: {'max_depth': 10, 'min_samples_split': 3, 'min_samples_leaf': 5, 'criterion': 'entropy'}. Best is trial 66 with value: 0.9649359025061974.\n"
          ]
        },
        {
          "output_type": "stream",
          "name": "stdout",
          "text": [
            "Trial 96, max_depth: 10, min_samples_split: 3, min_samples_leaf: 5, criterion: entropy, ROC-AUC: 0.9635744831073177\n"
          ]
        },
        {
          "output_type": "stream",
          "name": "stderr",
          "text": [
            "[I 2024-05-13 21:30:57,834] Trial 97 finished with value: 0.9629599386402287 and parameters: {'max_depth': 9, 'min_samples_split': 4, 'min_samples_leaf': 6, 'criterion': 'entropy'}. Best is trial 66 with value: 0.9649359025061974.\n"
          ]
        },
        {
          "output_type": "stream",
          "name": "stdout",
          "text": [
            "Trial 97, max_depth: 9, min_samples_split: 4, min_samples_leaf: 6, criterion: entropy, ROC-AUC: 0.9629599386402287\n"
          ]
        },
        {
          "output_type": "stream",
          "name": "stderr",
          "text": [
            "[I 2024-05-13 21:30:58,195] Trial 98 finished with value: 0.9632600463653883 and parameters: {'max_depth': 10, 'min_samples_split': 2, 'min_samples_leaf': 5, 'criterion': 'entropy'}. Best is trial 66 with value: 0.9649359025061974.\n"
          ]
        },
        {
          "output_type": "stream",
          "name": "stdout",
          "text": [
            "Trial 98, max_depth: 10, min_samples_split: 2, min_samples_leaf: 5, criterion: entropy, ROC-AUC: 0.9632600463653883\n"
          ]
        },
        {
          "output_type": "stream",
          "name": "stderr",
          "text": [
            "[I 2024-05-13 21:30:58,556] Trial 99 finished with value: 0.9620179319158921 and parameters: {'max_depth': 9, 'min_samples_split': 3, 'min_samples_leaf': 6, 'criterion': 'entropy'}. Best is trial 66 with value: 0.9649359025061974.\n"
          ]
        },
        {
          "output_type": "stream",
          "name": "stdout",
          "text": [
            "Trial 99, max_depth: 9, min_samples_split: 3, min_samples_leaf: 6, criterion: entropy, ROC-AUC: 0.9620179319158921\n",
            "Best Parameters:  {'max_depth': 10, 'min_samples_split': 9, 'min_samples_leaf': 6, 'criterion': 'entropy'}\n",
            "Best ROC-AUC Score:  0.9649359025061974\n"
          ]
        }
      ]
    },
    {
      "cell_type": "code",
      "source": [
        "# Create and save model\n",
        "best_model_dt = DecisionTreeClassifier(**best_params_dt)\n",
        "with open('best_models_dt_9_features.pkl', 'wb') as file:\n",
        "    pickle.dump(best_model_dt, file)"
      ],
      "metadata": {
        "id": "7IboNYqB3dEe"
      },
      "execution_count": 34,
      "outputs": []
    },
    {
      "cell_type": "code",
      "source": [
        "# KNN\n",
        "def objective_function(trial):\n",
        "    n_neighbors = trial.suggest_int('n_neighbors', 1, 10)\n",
        "    weights = trial.suggest_categorical('weights', ['uniform', 'distance'])\n",
        "    p = trial.suggest_int('p', 1, 5)\n",
        "    metric = trial.suggest_categorical('metric', ['euclidean', 'manhattan', 'minkowski'])\n",
        "\n",
        "    model = KNeighborsClassifier(\n",
        "        n_neighbors=n_neighbors,\n",
        "        weights=weights,\n",
        "        p=p,\n",
        "        metric=metric\n",
        "    )\n",
        "    metrics = ['roc_auc','accuracy','precison','recall','f1-score']\n",
        "    # Using cross_val_score to get the average precision score for each fold\n",
        "    scores = cross_val_score(model, X_train_oversampled, y_train_oversampled, cv=5, scoring='roc_auc')\n",
        "    roc_auc = np.mean(scores)\n",
        "    # Printing intermediate results\n",
        "    print(f\"Trial {trial.number}, n_neighbors: {n_neighbors}, weights: {weights}, p: {p}, metric: {metric}, \"\n",
        "          f\"ROC-AUC: {roc_auc}\")\n",
        "    return roc_auc\n",
        "\n",
        "\n",
        "study_knn = optuna.create_study(direction=\"maximize\")\n",
        "study_knn.optimize(objective_function, n_trials=100)\n",
        "\n",
        "best_params_knn = study_knn.best_params\n",
        "print(\"Best Parameters: \", best_params_knn)\n",
        "print(\"Best ROC-AUC Score: \", study_knn.best_value)"
      ],
      "metadata": {
        "colab": {
          "base_uri": "https://localhost:8080/"
        },
        "id": "QRNvSgE93mTG",
        "outputId": "10e44da3-52ef-4867-ff19-cc2032f913e8"
      },
      "execution_count": 35,
      "outputs": [
        {
          "output_type": "stream",
          "name": "stderr",
          "text": [
            "[I 2024-05-13 21:31:48,347] A new study created in memory with name: no-name-74601f39-9752-4437-8490-cbb2f4dae9d4\n",
            "[I 2024-05-13 21:31:48,608] Trial 0 finished with value: 0.9262938956488721 and parameters: {'n_neighbors': 2, 'weights': 'distance', 'p': 5, 'metric': 'manhattan'}. Best is trial 0 with value: 0.9262938956488721.\n"
          ]
        },
        {
          "output_type": "stream",
          "name": "stdout",
          "text": [
            "Trial 0, n_neighbors: 2, weights: distance, p: 5, metric: manhattan, ROC-AUC: 0.9262938956488721\n"
          ]
        },
        {
          "output_type": "stream",
          "name": "stderr",
          "text": [
            "[I 2024-05-13 21:31:48,857] Trial 1 finished with value: 0.934229249407345 and parameters: {'n_neighbors': 9, 'weights': 'distance', 'p': 2, 'metric': 'minkowski'}. Best is trial 1 with value: 0.934229249407345.\n"
          ]
        },
        {
          "output_type": "stream",
          "name": "stdout",
          "text": [
            "Trial 1, n_neighbors: 9, weights: distance, p: 2, metric: minkowski, ROC-AUC: 0.934229249407345\n"
          ]
        },
        {
          "output_type": "stream",
          "name": "stderr",
          "text": [
            "[I 2024-05-13 21:31:49,101] Trial 2 finished with value: 0.9262938956488721 and parameters: {'n_neighbors': 2, 'weights': 'distance', 'p': 2, 'metric': 'manhattan'}. Best is trial 1 with value: 0.934229249407345.\n"
          ]
        },
        {
          "output_type": "stream",
          "name": "stdout",
          "text": [
            "Trial 2, n_neighbors: 2, weights: distance, p: 2, metric: manhattan, ROC-AUC: 0.9262938956488721\n"
          ]
        },
        {
          "output_type": "stream",
          "name": "stderr",
          "text": [
            "[I 2024-05-13 21:31:49,347] Trial 3 finished with value: 0.9225337633790438 and parameters: {'n_neighbors': 10, 'weights': 'uniform', 'p': 5, 'metric': 'euclidean'}. Best is trial 1 with value: 0.934229249407345.\n"
          ]
        },
        {
          "output_type": "stream",
          "name": "stdout",
          "text": [
            "Trial 3, n_neighbors: 10, weights: uniform, p: 5, metric: euclidean, ROC-AUC: 0.9225337633790438\n"
          ]
        },
        {
          "output_type": "stream",
          "name": "stderr",
          "text": [
            "[I 2024-05-13 21:31:50,002] Trial 4 finished with value: 0.926995098422909 and parameters: {'n_neighbors': 9, 'weights': 'distance', 'p': 4, 'metric': 'minkowski'}. Best is trial 1 with value: 0.934229249407345.\n"
          ]
        },
        {
          "output_type": "stream",
          "name": "stdout",
          "text": [
            "Trial 4, n_neighbors: 9, weights: distance, p: 4, metric: minkowski, ROC-AUC: 0.926995098422909\n"
          ]
        },
        {
          "output_type": "stream",
          "name": "stderr",
          "text": [
            "[I 2024-05-13 21:31:50,216] Trial 5 finished with value: 0.8876525450280063 and parameters: {'n_neighbors': 1, 'weights': 'uniform', 'p': 5, 'metric': 'manhattan'}. Best is trial 1 with value: 0.934229249407345.\n"
          ]
        },
        {
          "output_type": "stream",
          "name": "stdout",
          "text": [
            "Trial 5, n_neighbors: 1, weights: uniform, p: 5, metric: manhattan, ROC-AUC: 0.8876525450280063\n"
          ]
        },
        {
          "output_type": "stream",
          "name": "stderr",
          "text": [
            "[I 2024-05-13 21:31:50,430] Trial 6 finished with value: 0.9083119867819253 and parameters: {'n_neighbors': 2, 'weights': 'uniform', 'p': 5, 'metric': 'euclidean'}. Best is trial 1 with value: 0.934229249407345.\n"
          ]
        },
        {
          "output_type": "stream",
          "name": "stdout",
          "text": [
            "Trial 6, n_neighbors: 2, weights: uniform, p: 5, metric: euclidean, ROC-AUC: 0.9083119867819253\n"
          ]
        },
        {
          "output_type": "stream",
          "name": "stderr",
          "text": [
            "[I 2024-05-13 21:31:50,683] Trial 7 finished with value: 0.934229249407345 and parameters: {'n_neighbors': 9, 'weights': 'distance', 'p': 1, 'metric': 'euclidean'}. Best is trial 1 with value: 0.934229249407345.\n"
          ]
        },
        {
          "output_type": "stream",
          "name": "stdout",
          "text": [
            "Trial 7, n_neighbors: 9, weights: distance, p: 1, metric: euclidean, ROC-AUC: 0.934229249407345\n"
          ]
        },
        {
          "output_type": "stream",
          "name": "stderr",
          "text": [
            "[I 2024-05-13 21:31:50,925] Trial 8 finished with value: 0.9243038489537557 and parameters: {'n_neighbors': 8, 'weights': 'uniform', 'p': 5, 'metric': 'euclidean'}. Best is trial 1 with value: 0.934229249407345.\n"
          ]
        },
        {
          "output_type": "stream",
          "name": "stdout",
          "text": [
            "Trial 8, n_neighbors: 8, weights: uniform, p: 5, metric: euclidean, ROC-AUC: 0.9243038489537557\n"
          ]
        },
        {
          "output_type": "stream",
          "name": "stderr",
          "text": [
            "[I 2024-05-13 21:31:51,157] Trial 9 finished with value: 0.9262938956488721 and parameters: {'n_neighbors': 2, 'weights': 'distance', 'p': 1, 'metric': 'minkowski'}. Best is trial 1 with value: 0.934229249407345.\n"
          ]
        },
        {
          "output_type": "stream",
          "name": "stdout",
          "text": [
            "Trial 9, n_neighbors: 2, weights: distance, p: 1, metric: minkowski, ROC-AUC: 0.9262938956488721\n"
          ]
        },
        {
          "output_type": "stream",
          "name": "stderr",
          "text": [
            "[I 2024-05-13 21:31:52,591] Trial 10 finished with value: 0.9286115069815116 and parameters: {'n_neighbors': 6, 'weights': 'distance', 'p': 3, 'metric': 'minkowski'}. Best is trial 1 with value: 0.934229249407345.\n"
          ]
        },
        {
          "output_type": "stream",
          "name": "stdout",
          "text": [
            "Trial 10, n_neighbors: 6, weights: distance, p: 3, metric: minkowski, ROC-AUC: 0.9286115069815116\n"
          ]
        },
        {
          "output_type": "stream",
          "name": "stderr",
          "text": [
            "[I 2024-05-13 21:31:53,027] Trial 11 finished with value: 0.9345677064618588 and parameters: {'n_neighbors': 7, 'weights': 'distance', 'p': 1, 'metric': 'euclidean'}. Best is trial 11 with value: 0.9345677064618588.\n"
          ]
        },
        {
          "output_type": "stream",
          "name": "stdout",
          "text": [
            "Trial 11, n_neighbors: 7, weights: distance, p: 1, metric: euclidean, ROC-AUC: 0.9345677064618588\n"
          ]
        },
        {
          "output_type": "stream",
          "name": "stderr",
          "text": [
            "[I 2024-05-13 21:31:53,264] Trial 12 finished with value: 0.9339341625375752 and parameters: {'n_neighbors': 6, 'weights': 'distance', 'p': 2, 'metric': 'minkowski'}. Best is trial 11 with value: 0.9345677064618588.\n"
          ]
        },
        {
          "output_type": "stream",
          "name": "stdout",
          "text": [
            "Trial 12, n_neighbors: 6, weights: distance, p: 2, metric: minkowski, ROC-AUC: 0.9339341625375752\n"
          ]
        },
        {
          "output_type": "stream",
          "name": "stderr",
          "text": [
            "[I 2024-05-13 21:31:53,513] Trial 13 finished with value: 0.9345677064618588 and parameters: {'n_neighbors': 7, 'weights': 'distance', 'p': 2, 'metric': 'euclidean'}. Best is trial 11 with value: 0.9345677064618588.\n"
          ]
        },
        {
          "output_type": "stream",
          "name": "stdout",
          "text": [
            "Trial 13, n_neighbors: 7, weights: distance, p: 2, metric: euclidean, ROC-AUC: 0.9345677064618588\n"
          ]
        },
        {
          "output_type": "stream",
          "name": "stderr",
          "text": [
            "[I 2024-05-13 21:31:53,755] Trial 14 finished with value: 0.9292747746968985 and parameters: {'n_neighbors': 4, 'weights': 'distance', 'p': 1, 'metric': 'euclidean'}. Best is trial 11 with value: 0.9345677064618588.\n"
          ]
        },
        {
          "output_type": "stream",
          "name": "stdout",
          "text": [
            "Trial 14, n_neighbors: 4, weights: distance, p: 1, metric: euclidean, ROC-AUC: 0.9292747746968985\n"
          ]
        },
        {
          "output_type": "stream",
          "name": "stderr",
          "text": [
            "[I 2024-05-13 21:31:54,001] Trial 15 finished with value: 0.9345677064618588 and parameters: {'n_neighbors': 7, 'weights': 'distance', 'p': 3, 'metric': 'euclidean'}. Best is trial 11 with value: 0.9345677064618588.\n"
          ]
        },
        {
          "output_type": "stream",
          "name": "stdout",
          "text": [
            "Trial 15, n_neighbors: 7, weights: distance, p: 3, metric: euclidean, ROC-AUC: 0.9345677064618588\n"
          ]
        },
        {
          "output_type": "stream",
          "name": "stderr",
          "text": [
            "[I 2024-05-13 21:31:54,241] Trial 16 finished with value: 0.9292747746968985 and parameters: {'n_neighbors': 4, 'weights': 'distance', 'p': 2, 'metric': 'euclidean'}. Best is trial 11 with value: 0.9345677064618588.\n"
          ]
        },
        {
          "output_type": "stream",
          "name": "stdout",
          "text": [
            "Trial 16, n_neighbors: 4, weights: distance, p: 2, metric: euclidean, ROC-AUC: 0.9292747746968985\n"
          ]
        },
        {
          "output_type": "stream",
          "name": "stderr",
          "text": [
            "[I 2024-05-13 21:31:54,630] Trial 17 finished with value: 0.9323111108711684 and parameters: {'n_neighbors': 5, 'weights': 'distance', 'p': 1, 'metric': 'euclidean'}. Best is trial 11 with value: 0.9345677064618588.\n"
          ]
        },
        {
          "output_type": "stream",
          "name": "stdout",
          "text": [
            "Trial 17, n_neighbors: 5, weights: distance, p: 1, metric: euclidean, ROC-AUC: 0.9323111108711684\n"
          ]
        },
        {
          "output_type": "stream",
          "name": "stderr",
          "text": [
            "[I 2024-05-13 21:31:55,026] Trial 18 finished with value: 0.9249507637948555 and parameters: {'n_neighbors': 7, 'weights': 'uniform', 'p': 2, 'metric': 'euclidean'}. Best is trial 11 with value: 0.9345677064618588.\n"
          ]
        },
        {
          "output_type": "stream",
          "name": "stdout",
          "text": [
            "Trial 18, n_neighbors: 7, weights: uniform, p: 2, metric: euclidean, ROC-AUC: 0.9249507637948555\n"
          ]
        },
        {
          "output_type": "stream",
          "name": "stderr",
          "text": [
            "[I 2024-05-13 21:31:55,416] Trial 19 finished with value: 0.9345677064618588 and parameters: {'n_neighbors': 7, 'weights': 'distance', 'p': 3, 'metric': 'euclidean'}. Best is trial 11 with value: 0.9345677064618588.\n"
          ]
        },
        {
          "output_type": "stream",
          "name": "stdout",
          "text": [
            "Trial 19, n_neighbors: 7, weights: distance, p: 3, metric: euclidean, ROC-AUC: 0.9345677064618588\n"
          ]
        },
        {
          "output_type": "stream",
          "name": "stderr",
          "text": [
            "[I 2024-05-13 21:31:55,840] Trial 20 finished with value: 0.9459960646710661 and parameters: {'n_neighbors': 5, 'weights': 'distance', 'p': 1, 'metric': 'manhattan'}. Best is trial 20 with value: 0.9459960646710661.\n"
          ]
        },
        {
          "output_type": "stream",
          "name": "stdout",
          "text": [
            "Trial 20, n_neighbors: 5, weights: distance, p: 1, metric: manhattan, ROC-AUC: 0.9459960646710661\n"
          ]
        },
        {
          "output_type": "stream",
          "name": "stderr",
          "text": [
            "[I 2024-05-13 21:31:56,275] Trial 21 finished with value: 0.9459960646710661 and parameters: {'n_neighbors': 5, 'weights': 'distance', 'p': 1, 'metric': 'manhattan'}. Best is trial 20 with value: 0.9459960646710661.\n"
          ]
        },
        {
          "output_type": "stream",
          "name": "stdout",
          "text": [
            "Trial 21, n_neighbors: 5, weights: distance, p: 1, metric: manhattan, ROC-AUC: 0.9459960646710661\n"
          ]
        },
        {
          "output_type": "stream",
          "name": "stderr",
          "text": [
            "[I 2024-05-13 21:31:56,707] Trial 22 finished with value: 0.9459960646710661 and parameters: {'n_neighbors': 5, 'weights': 'distance', 'p': 1, 'metric': 'manhattan'}. Best is trial 20 with value: 0.9459960646710661.\n"
          ]
        },
        {
          "output_type": "stream",
          "name": "stdout",
          "text": [
            "Trial 22, n_neighbors: 5, weights: distance, p: 1, metric: manhattan, ROC-AUC: 0.9459960646710661\n"
          ]
        },
        {
          "output_type": "stream",
          "name": "stderr",
          "text": [
            "[I 2024-05-13 21:31:57,147] Trial 23 finished with value: 0.942541360998215 and parameters: {'n_neighbors': 4, 'weights': 'distance', 'p': 1, 'metric': 'manhattan'}. Best is trial 20 with value: 0.9459960646710661.\n"
          ]
        },
        {
          "output_type": "stream",
          "name": "stdout",
          "text": [
            "Trial 23, n_neighbors: 4, weights: distance, p: 1, metric: manhattan, ROC-AUC: 0.942541360998215\n"
          ]
        },
        {
          "output_type": "stream",
          "name": "stderr",
          "text": [
            "[I 2024-05-13 21:31:57,585] Trial 24 finished with value: 0.9459960646710661 and parameters: {'n_neighbors': 5, 'weights': 'distance', 'p': 1, 'metric': 'manhattan'}. Best is trial 20 with value: 0.9459960646710661.\n"
          ]
        },
        {
          "output_type": "stream",
          "name": "stdout",
          "text": [
            "Trial 24, n_neighbors: 5, weights: distance, p: 1, metric: manhattan, ROC-AUC: 0.9459960646710661\n"
          ]
        },
        {
          "output_type": "stream",
          "name": "stderr",
          "text": [
            "[I 2024-05-13 21:31:58,012] Trial 25 finished with value: 0.9377033013691559 and parameters: {'n_neighbors': 3, 'weights': 'distance', 'p': 1, 'metric': 'manhattan'}. Best is trial 20 with value: 0.9459960646710661.\n"
          ]
        },
        {
          "output_type": "stream",
          "name": "stdout",
          "text": [
            "Trial 25, n_neighbors: 3, weights: distance, p: 1, metric: manhattan, ROC-AUC: 0.9377033013691559\n"
          ]
        },
        {
          "output_type": "stream",
          "name": "stderr",
          "text": [
            "[I 2024-05-13 21:31:58,458] Trial 26 finished with value: 0.9399734562774793 and parameters: {'n_neighbors': 5, 'weights': 'uniform', 'p': 4, 'metric': 'manhattan'}. Best is trial 20 with value: 0.9459960646710661.\n"
          ]
        },
        {
          "output_type": "stream",
          "name": "stdout",
          "text": [
            "Trial 26, n_neighbors: 5, weights: uniform, p: 4, metric: manhattan, ROC-AUC: 0.9399734562774793\n"
          ]
        },
        {
          "output_type": "stream",
          "name": "stderr",
          "text": [
            "[I 2024-05-13 21:31:58,878] Trial 27 finished with value: 0.9377033013691559 and parameters: {'n_neighbors': 3, 'weights': 'distance', 'p': 2, 'metric': 'manhattan'}. Best is trial 20 with value: 0.9459960646710661.\n"
          ]
        },
        {
          "output_type": "stream",
          "name": "stdout",
          "text": [
            "Trial 27, n_neighbors: 3, weights: distance, p: 2, metric: manhattan, ROC-AUC: 0.9377033013691559\n"
          ]
        },
        {
          "output_type": "stream",
          "name": "stderr",
          "text": [
            "[I 2024-05-13 21:31:59,317] Trial 28 finished with value: 0.9477449076578462 and parameters: {'n_neighbors': 6, 'weights': 'distance', 'p': 1, 'metric': 'manhattan'}. Best is trial 28 with value: 0.9477449076578462.\n"
          ]
        },
        {
          "output_type": "stream",
          "name": "stdout",
          "text": [
            "Trial 28, n_neighbors: 6, weights: distance, p: 1, metric: manhattan, ROC-AUC: 0.9477449076578462\n"
          ]
        },
        {
          "output_type": "stream",
          "name": "stderr",
          "text": [
            "[I 2024-05-13 21:31:59,580] Trial 29 finished with value: 0.9477449076578462 and parameters: {'n_neighbors': 6, 'weights': 'distance', 'p': 3, 'metric': 'manhattan'}. Best is trial 28 with value: 0.9477449076578462.\n"
          ]
        },
        {
          "output_type": "stream",
          "name": "stdout",
          "text": [
            "Trial 29, n_neighbors: 6, weights: distance, p: 3, metric: manhattan, ROC-AUC: 0.9477449076578462\n"
          ]
        },
        {
          "output_type": "stream",
          "name": "stderr",
          "text": [
            "[I 2024-05-13 21:31:59,840] Trial 30 finished with value: 0.9477449076578462 and parameters: {'n_neighbors': 6, 'weights': 'distance', 'p': 4, 'metric': 'manhattan'}. Best is trial 28 with value: 0.9477449076578462.\n"
          ]
        },
        {
          "output_type": "stream",
          "name": "stdout",
          "text": [
            "Trial 30, n_neighbors: 6, weights: distance, p: 4, metric: manhattan, ROC-AUC: 0.9477449076578462\n"
          ]
        },
        {
          "output_type": "stream",
          "name": "stderr",
          "text": [
            "[I 2024-05-13 21:32:00,121] Trial 31 finished with value: 0.9477449076578462 and parameters: {'n_neighbors': 6, 'weights': 'distance', 'p': 4, 'metric': 'manhattan'}. Best is trial 28 with value: 0.9477449076578462.\n"
          ]
        },
        {
          "output_type": "stream",
          "name": "stdout",
          "text": [
            "Trial 31, n_neighbors: 6, weights: distance, p: 4, metric: manhattan, ROC-AUC: 0.9477449076578462\n"
          ]
        },
        {
          "output_type": "stream",
          "name": "stderr",
          "text": [
            "[I 2024-05-13 21:32:00,389] Trial 32 finished with value: 0.9477449076578462 and parameters: {'n_neighbors': 6, 'weights': 'distance', 'p': 4, 'metric': 'manhattan'}. Best is trial 28 with value: 0.9477449076578462.\n"
          ]
        },
        {
          "output_type": "stream",
          "name": "stdout",
          "text": [
            "Trial 32, n_neighbors: 6, weights: distance, p: 4, metric: manhattan, ROC-AUC: 0.9477449076578462\n"
          ]
        },
        {
          "output_type": "stream",
          "name": "stderr",
          "text": [
            "[I 2024-05-13 21:32:00,666] Trial 33 finished with value: 0.9490059381826628 and parameters: {'n_neighbors': 8, 'weights': 'distance', 'p': 4, 'metric': 'manhattan'}. Best is trial 33 with value: 0.9490059381826628.\n"
          ]
        },
        {
          "output_type": "stream",
          "name": "stdout",
          "text": [
            "Trial 33, n_neighbors: 8, weights: distance, p: 4, metric: manhattan, ROC-AUC: 0.9490059381826628\n"
          ]
        },
        {
          "output_type": "stream",
          "name": "stderr",
          "text": [
            "[I 2024-05-13 21:32:00,948] Trial 34 finished with value: 0.9490059381826628 and parameters: {'n_neighbors': 8, 'weights': 'distance', 'p': 3, 'metric': 'manhattan'}. Best is trial 33 with value: 0.9490059381826628.\n"
          ]
        },
        {
          "output_type": "stream",
          "name": "stdout",
          "text": [
            "Trial 34, n_neighbors: 8, weights: distance, p: 3, metric: manhattan, ROC-AUC: 0.9490059381826628\n"
          ]
        },
        {
          "output_type": "stream",
          "name": "stderr",
          "text": [
            "[I 2024-05-13 21:32:01,246] Trial 35 finished with value: 0.9490059381826628 and parameters: {'n_neighbors': 8, 'weights': 'distance', 'p': 3, 'metric': 'manhattan'}. Best is trial 33 with value: 0.9490059381826628.\n"
          ]
        },
        {
          "output_type": "stream",
          "name": "stdout",
          "text": [
            "Trial 35, n_neighbors: 8, weights: distance, p: 3, metric: manhattan, ROC-AUC: 0.9490059381826628\n"
          ]
        },
        {
          "output_type": "stream",
          "name": "stderr",
          "text": [
            "[I 2024-05-13 21:32:01,531] Trial 36 finished with value: 0.9490860153904788 and parameters: {'n_neighbors': 10, 'weights': 'distance', 'p': 3, 'metric': 'manhattan'}. Best is trial 36 with value: 0.9490860153904788.\n"
          ]
        },
        {
          "output_type": "stream",
          "name": "stdout",
          "text": [
            "Trial 36, n_neighbors: 10, weights: distance, p: 3, metric: manhattan, ROC-AUC: 0.9490860153904788\n"
          ]
        },
        {
          "output_type": "stream",
          "name": "stderr",
          "text": [
            "[I 2024-05-13 21:32:01,817] Trial 37 finished with value: 0.9402317057740323 and parameters: {'n_neighbors': 10, 'weights': 'uniform', 'p': 3, 'metric': 'manhattan'}. Best is trial 36 with value: 0.9490860153904788.\n"
          ]
        },
        {
          "output_type": "stream",
          "name": "stdout",
          "text": [
            "Trial 37, n_neighbors: 10, weights: uniform, p: 3, metric: manhattan, ROC-AUC: 0.9402317057740323\n"
          ]
        },
        {
          "output_type": "stream",
          "name": "stderr",
          "text": [
            "[I 2024-05-13 21:32:02,105] Trial 38 finished with value: 0.9490059381826628 and parameters: {'n_neighbors': 8, 'weights': 'distance', 'p': 3, 'metric': 'manhattan'}. Best is trial 36 with value: 0.9490860153904788.\n"
          ]
        },
        {
          "output_type": "stream",
          "name": "stdout",
          "text": [
            "Trial 38, n_neighbors: 8, weights: distance, p: 3, metric: manhattan, ROC-AUC: 0.9490059381826628\n"
          ]
        },
        {
          "output_type": "stream",
          "name": "stderr",
          "text": [
            "[I 2024-05-13 21:32:02,391] Trial 39 finished with value: 0.9411461819671985 and parameters: {'n_neighbors': 8, 'weights': 'uniform', 'p': 4, 'metric': 'manhattan'}. Best is trial 36 with value: 0.9490860153904788.\n"
          ]
        },
        {
          "output_type": "stream",
          "name": "stdout",
          "text": [
            "Trial 39, n_neighbors: 8, weights: uniform, p: 4, metric: manhattan, ROC-AUC: 0.9411461819671985\n"
          ]
        },
        {
          "output_type": "stream",
          "name": "stderr",
          "text": [
            "[I 2024-05-13 21:32:02,674] Trial 40 finished with value: 0.9490860153904788 and parameters: {'n_neighbors': 10, 'weights': 'distance', 'p': 3, 'metric': 'manhattan'}. Best is trial 36 with value: 0.9490860153904788.\n"
          ]
        },
        {
          "output_type": "stream",
          "name": "stdout",
          "text": [
            "Trial 40, n_neighbors: 10, weights: distance, p: 3, metric: manhattan, ROC-AUC: 0.9490860153904788\n"
          ]
        },
        {
          "output_type": "stream",
          "name": "stderr",
          "text": [
            "[I 2024-05-13 21:32:02,959] Trial 41 finished with value: 0.9490860153904788 and parameters: {'n_neighbors': 10, 'weights': 'distance', 'p': 3, 'metric': 'manhattan'}. Best is trial 36 with value: 0.9490860153904788.\n"
          ]
        },
        {
          "output_type": "stream",
          "name": "stdout",
          "text": [
            "Trial 41, n_neighbors: 10, weights: distance, p: 3, metric: manhattan, ROC-AUC: 0.9490860153904788\n"
          ]
        },
        {
          "output_type": "stream",
          "name": "stderr",
          "text": [
            "[I 2024-05-13 21:32:03,259] Trial 42 finished with value: 0.9490860153904788 and parameters: {'n_neighbors': 10, 'weights': 'distance', 'p': 3, 'metric': 'manhattan'}. Best is trial 36 with value: 0.9490860153904788.\n"
          ]
        },
        {
          "output_type": "stream",
          "name": "stdout",
          "text": [
            "Trial 42, n_neighbors: 10, weights: distance, p: 3, metric: manhattan, ROC-AUC: 0.9490860153904788\n"
          ]
        },
        {
          "output_type": "stream",
          "name": "stderr",
          "text": [
            "[I 2024-05-13 21:32:03,555] Trial 43 finished with value: 0.9490860153904788 and parameters: {'n_neighbors': 10, 'weights': 'distance', 'p': 3, 'metric': 'manhattan'}. Best is trial 36 with value: 0.9490860153904788.\n"
          ]
        },
        {
          "output_type": "stream",
          "name": "stdout",
          "text": [
            "Trial 43, n_neighbors: 10, weights: distance, p: 3, metric: manhattan, ROC-AUC: 0.9490860153904788\n"
          ]
        },
        {
          "output_type": "stream",
          "name": "stderr",
          "text": [
            "[I 2024-05-13 21:32:04,240] Trial 44 finished with value: 0.9292233341494203 and parameters: {'n_neighbors': 10, 'weights': 'distance', 'p': 3, 'metric': 'minkowski'}. Best is trial 36 with value: 0.9490860153904788.\n"
          ]
        },
        {
          "output_type": "stream",
          "name": "stdout",
          "text": [
            "Trial 44, n_neighbors: 10, weights: distance, p: 3, metric: minkowski, ROC-AUC: 0.9292233341494203\n"
          ]
        },
        {
          "output_type": "stream",
          "name": "stderr",
          "text": [
            "[I 2024-05-13 21:32:04,527] Trial 45 finished with value: 0.9490860153904788 and parameters: {'n_neighbors': 10, 'weights': 'distance', 'p': 3, 'metric': 'manhattan'}. Best is trial 36 with value: 0.9490860153904788.\n"
          ]
        },
        {
          "output_type": "stream",
          "name": "stdout",
          "text": [
            "Trial 45, n_neighbors: 10, weights: distance, p: 3, metric: manhattan, ROC-AUC: 0.9490860153904788\n"
          ]
        },
        {
          "output_type": "stream",
          "name": "stderr",
          "text": [
            "[I 2024-05-13 21:32:04,809] Trial 46 finished with value: 0.9490057819735818 and parameters: {'n_neighbors': 9, 'weights': 'distance', 'p': 3, 'metric': 'manhattan'}. Best is trial 36 with value: 0.9490860153904788.\n"
          ]
        },
        {
          "output_type": "stream",
          "name": "stdout",
          "text": [
            "Trial 46, n_neighbors: 9, weights: distance, p: 3, metric: manhattan, ROC-AUC: 0.9490057819735818\n"
          ]
        },
        {
          "output_type": "stream",
          "name": "stderr",
          "text": [
            "[I 2024-05-13 21:32:05,062] Trial 47 finished with value: 0.9233057795291207 and parameters: {'n_neighbors': 9, 'weights': 'uniform', 'p': 2, 'metric': 'minkowski'}. Best is trial 36 with value: 0.9490860153904788.\n"
          ]
        },
        {
          "output_type": "stream",
          "name": "stdout",
          "text": [
            "Trial 47, n_neighbors: 9, weights: uniform, p: 2, metric: minkowski, ROC-AUC: 0.9233057795291207\n"
          ]
        },
        {
          "output_type": "stream",
          "name": "stderr",
          "text": [
            "[I 2024-05-13 21:32:05,355] Trial 48 finished with value: 0.9490057819735818 and parameters: {'n_neighbors': 9, 'weights': 'distance', 'p': 3, 'metric': 'manhattan'}. Best is trial 36 with value: 0.9490860153904788.\n"
          ]
        },
        {
          "output_type": "stream",
          "name": "stdout",
          "text": [
            "Trial 48, n_neighbors: 9, weights: distance, p: 3, metric: manhattan, ROC-AUC: 0.9490057819735818\n"
          ]
        },
        {
          "output_type": "stream",
          "name": "stderr",
          "text": [
            "[I 2024-05-13 21:32:05,641] Trial 49 finished with value: 0.9490860153904788 and parameters: {'n_neighbors': 10, 'weights': 'distance', 'p': 2, 'metric': 'manhattan'}. Best is trial 36 with value: 0.9490860153904788.\n"
          ]
        },
        {
          "output_type": "stream",
          "name": "stdout",
          "text": [
            "Trial 49, n_neighbors: 10, weights: distance, p: 2, metric: manhattan, ROC-AUC: 0.9490860153904788\n"
          ]
        },
        {
          "output_type": "stream",
          "name": "stderr",
          "text": [
            "[I 2024-05-13 21:32:06,338] Trial 50 finished with value: 0.9292233341494203 and parameters: {'n_neighbors': 10, 'weights': 'distance', 'p': 3, 'metric': 'minkowski'}. Best is trial 36 with value: 0.9490860153904788.\n"
          ]
        },
        {
          "output_type": "stream",
          "name": "stdout",
          "text": [
            "Trial 50, n_neighbors: 10, weights: distance, p: 3, metric: minkowski, ROC-AUC: 0.9292233341494203\n"
          ]
        },
        {
          "output_type": "stream",
          "name": "stderr",
          "text": [
            "[I 2024-05-13 21:32:06,614] Trial 51 finished with value: 0.9490860153904788 and parameters: {'n_neighbors': 10, 'weights': 'distance', 'p': 3, 'metric': 'manhattan'}. Best is trial 36 with value: 0.9490860153904788.\n"
          ]
        },
        {
          "output_type": "stream",
          "name": "stdout",
          "text": [
            "Trial 51, n_neighbors: 10, weights: distance, p: 3, metric: manhattan, ROC-AUC: 0.9490860153904788\n"
          ]
        },
        {
          "output_type": "stream",
          "name": "stderr",
          "text": [
            "[I 2024-05-13 21:32:06,895] Trial 52 finished with value: 0.9490860153904788 and parameters: {'n_neighbors': 10, 'weights': 'distance', 'p': 3, 'metric': 'manhattan'}. Best is trial 36 with value: 0.9490860153904788.\n"
          ]
        },
        {
          "output_type": "stream",
          "name": "stdout",
          "text": [
            "Trial 52, n_neighbors: 10, weights: distance, p: 3, metric: manhattan, ROC-AUC: 0.9490860153904788\n"
          ]
        },
        {
          "output_type": "stream",
          "name": "stderr",
          "text": [
            "[I 2024-05-13 21:32:07,177] Trial 53 finished with value: 0.9490057819735818 and parameters: {'n_neighbors': 9, 'weights': 'distance', 'p': 3, 'metric': 'manhattan'}. Best is trial 36 with value: 0.9490860153904788.\n"
          ]
        },
        {
          "output_type": "stream",
          "name": "stdout",
          "text": [
            "Trial 53, n_neighbors: 9, weights: distance, p: 3, metric: manhattan, ROC-AUC: 0.9490057819735818\n"
          ]
        },
        {
          "output_type": "stream",
          "name": "stderr",
          "text": [
            "[I 2024-05-13 21:32:07,472] Trial 54 finished with value: 0.9490860153904788 and parameters: {'n_neighbors': 10, 'weights': 'distance', 'p': 3, 'metric': 'manhattan'}. Best is trial 36 with value: 0.9490860153904788.\n"
          ]
        },
        {
          "output_type": "stream",
          "name": "stdout",
          "text": [
            "Trial 54, n_neighbors: 10, weights: distance, p: 3, metric: manhattan, ROC-AUC: 0.9490860153904788\n"
          ]
        },
        {
          "output_type": "stream",
          "name": "stderr",
          "text": [
            "[I 2024-05-13 21:32:07,748] Trial 55 finished with value: 0.9490057819735818 and parameters: {'n_neighbors': 9, 'weights': 'distance', 'p': 3, 'metric': 'manhattan'}. Best is trial 36 with value: 0.9490860153904788.\n"
          ]
        },
        {
          "output_type": "stream",
          "name": "stdout",
          "text": [
            "Trial 55, n_neighbors: 9, weights: distance, p: 3, metric: manhattan, ROC-AUC: 0.9490057819735818\n"
          ]
        },
        {
          "output_type": "stream",
          "name": "stderr",
          "text": [
            "[I 2024-05-13 21:32:08,034] Trial 56 finished with value: 0.9490057819735818 and parameters: {'n_neighbors': 9, 'weights': 'distance', 'p': 2, 'metric': 'manhattan'}. Best is trial 36 with value: 0.9490860153904788.\n"
          ]
        },
        {
          "output_type": "stream",
          "name": "stdout",
          "text": [
            "Trial 56, n_neighbors: 9, weights: distance, p: 2, metric: manhattan, ROC-AUC: 0.9490057819735818\n"
          ]
        },
        {
          "output_type": "stream",
          "name": "stderr",
          "text": [
            "[I 2024-05-13 21:32:08,339] Trial 57 finished with value: 0.9490860153904788 and parameters: {'n_neighbors': 10, 'weights': 'distance', 'p': 3, 'metric': 'manhattan'}. Best is trial 36 with value: 0.9490860153904788.\n"
          ]
        },
        {
          "output_type": "stream",
          "name": "stdout",
          "text": [
            "Trial 57, n_neighbors: 10, weights: distance, p: 3, metric: manhattan, ROC-AUC: 0.9490860153904788\n"
          ]
        },
        {
          "output_type": "stream",
          "name": "stderr",
          "text": [
            "[I 2024-05-13 21:32:08,627] Trial 58 finished with value: 0.9402317057740323 and parameters: {'n_neighbors': 10, 'weights': 'uniform', 'p': 4, 'metric': 'manhattan'}. Best is trial 36 with value: 0.9490860153904788.\n"
          ]
        },
        {
          "output_type": "stream",
          "name": "stdout",
          "text": [
            "Trial 58, n_neighbors: 10, weights: uniform, p: 4, metric: manhattan, ROC-AUC: 0.9402317057740323\n"
          ]
        },
        {
          "output_type": "stream",
          "name": "stderr",
          "text": [
            "[I 2024-05-13 21:32:09,311] Trial 59 finished with value: 0.9293066120601938 and parameters: {'n_neighbors': 9, 'weights': 'distance', 'p': 3, 'metric': 'minkowski'}. Best is trial 36 with value: 0.9490860153904788.\n"
          ]
        },
        {
          "output_type": "stream",
          "name": "stdout",
          "text": [
            "Trial 59, n_neighbors: 9, weights: distance, p: 3, metric: minkowski, ROC-AUC: 0.9293066120601938\n"
          ]
        },
        {
          "output_type": "stream",
          "name": "stderr",
          "text": [
            "[I 2024-05-13 21:32:09,780] Trial 60 finished with value: 0.9490860153904788 and parameters: {'n_neighbors': 10, 'weights': 'distance', 'p': 2, 'metric': 'manhattan'}. Best is trial 36 with value: 0.9490860153904788.\n"
          ]
        },
        {
          "output_type": "stream",
          "name": "stdout",
          "text": [
            "Trial 60, n_neighbors: 10, weights: distance, p: 2, metric: manhattan, ROC-AUC: 0.9490860153904788\n"
          ]
        },
        {
          "output_type": "stream",
          "name": "stderr",
          "text": [
            "[I 2024-05-13 21:32:10,244] Trial 61 finished with value: 0.9490860153904788 and parameters: {'n_neighbors': 10, 'weights': 'distance', 'p': 2, 'metric': 'manhattan'}. Best is trial 36 with value: 0.9490860153904788.\n"
          ]
        },
        {
          "output_type": "stream",
          "name": "stdout",
          "text": [
            "Trial 61, n_neighbors: 10, weights: distance, p: 2, metric: manhattan, ROC-AUC: 0.9490860153904788\n"
          ]
        },
        {
          "output_type": "stream",
          "name": "stderr",
          "text": [
            "[I 2024-05-13 21:32:10,722] Trial 62 finished with value: 0.9490860153904788 and parameters: {'n_neighbors': 10, 'weights': 'distance', 'p': 2, 'metric': 'manhattan'}. Best is trial 36 with value: 0.9490860153904788.\n"
          ]
        },
        {
          "output_type": "stream",
          "name": "stdout",
          "text": [
            "Trial 62, n_neighbors: 10, weights: distance, p: 2, metric: manhattan, ROC-AUC: 0.9490860153904788\n"
          ]
        },
        {
          "output_type": "stream",
          "name": "stderr",
          "text": [
            "[I 2024-05-13 21:32:11,186] Trial 63 finished with value: 0.9490057819735818 and parameters: {'n_neighbors': 9, 'weights': 'distance', 'p': 3, 'metric': 'manhattan'}. Best is trial 36 with value: 0.9490860153904788.\n"
          ]
        },
        {
          "output_type": "stream",
          "name": "stdout",
          "text": [
            "Trial 63, n_neighbors: 9, weights: distance, p: 3, metric: manhattan, ROC-AUC: 0.9490057819735818\n"
          ]
        },
        {
          "output_type": "stream",
          "name": "stderr",
          "text": [
            "[I 2024-05-13 21:32:11,576] Trial 64 finished with value: 0.8876525450280063 and parameters: {'n_neighbors': 1, 'weights': 'distance', 'p': 3, 'metric': 'manhattan'}. Best is trial 36 with value: 0.9490860153904788.\n"
          ]
        },
        {
          "output_type": "stream",
          "name": "stdout",
          "text": [
            "Trial 64, n_neighbors: 1, weights: distance, p: 3, metric: manhattan, ROC-AUC: 0.8876525450280063\n"
          ]
        },
        {
          "output_type": "stream",
          "name": "stderr",
          "text": [
            "[I 2024-05-13 21:32:12,050] Trial 65 finished with value: 0.9490860153904788 and parameters: {'n_neighbors': 10, 'weights': 'distance', 'p': 3, 'metric': 'manhattan'}. Best is trial 36 with value: 0.9490860153904788.\n"
          ]
        },
        {
          "output_type": "stream",
          "name": "stdout",
          "text": [
            "Trial 65, n_neighbors: 10, weights: distance, p: 3, metric: manhattan, ROC-AUC: 0.9490860153904788\n"
          ]
        },
        {
          "output_type": "stream",
          "name": "stderr",
          "text": [
            "[I 2024-05-13 21:32:12,531] Trial 66 finished with value: 0.9490057819735818 and parameters: {'n_neighbors': 9, 'weights': 'distance', 'p': 2, 'metric': 'manhattan'}. Best is trial 36 with value: 0.9490860153904788.\n"
          ]
        },
        {
          "output_type": "stream",
          "name": "stdout",
          "text": [
            "Trial 66, n_neighbors: 9, weights: distance, p: 2, metric: manhattan, ROC-AUC: 0.9490057819735818\n"
          ]
        },
        {
          "output_type": "stream",
          "name": "stderr",
          "text": [
            "[I 2024-05-13 21:32:13,002] Trial 67 finished with value: 0.9490860153904788 and parameters: {'n_neighbors': 10, 'weights': 'distance', 'p': 4, 'metric': 'manhattan'}. Best is trial 36 with value: 0.9490860153904788.\n"
          ]
        },
        {
          "output_type": "stream",
          "name": "stdout",
          "text": [
            "Trial 67, n_neighbors: 10, weights: distance, p: 4, metric: manhattan, ROC-AUC: 0.9490860153904788\n"
          ]
        },
        {
          "output_type": "stream",
          "name": "stderr",
          "text": [
            "[I 2024-05-13 21:32:13,455] Trial 68 finished with value: 0.934229249407345 and parameters: {'n_neighbors': 9, 'weights': 'distance', 'p': 2, 'metric': 'euclidean'}. Best is trial 36 with value: 0.9490860153904788.\n"
          ]
        },
        {
          "output_type": "stream",
          "name": "stdout",
          "text": [
            "Trial 68, n_neighbors: 9, weights: distance, p: 2, metric: euclidean, ROC-AUC: 0.934229249407345\n"
          ]
        },
        {
          "output_type": "stream",
          "name": "stderr",
          "text": [
            "[I 2024-05-13 21:32:13,925] Trial 69 finished with value: 0.9490860153904788 and parameters: {'n_neighbors': 10, 'weights': 'distance', 'p': 3, 'metric': 'manhattan'}. Best is trial 36 with value: 0.9490860153904788.\n"
          ]
        },
        {
          "output_type": "stream",
          "name": "stdout",
          "text": [
            "Trial 69, n_neighbors: 10, weights: distance, p: 3, metric: manhattan, ROC-AUC: 0.9490860153904788\n"
          ]
        },
        {
          "output_type": "stream",
          "name": "stderr",
          "text": [
            "[I 2024-05-13 21:32:14,213] Trial 70 finished with value: 0.9490057819735818 and parameters: {'n_neighbors': 9, 'weights': 'distance', 'p': 4, 'metric': 'manhattan'}. Best is trial 36 with value: 0.9490860153904788.\n"
          ]
        },
        {
          "output_type": "stream",
          "name": "stdout",
          "text": [
            "Trial 70, n_neighbors: 9, weights: distance, p: 4, metric: manhattan, ROC-AUC: 0.9490057819735818\n"
          ]
        },
        {
          "output_type": "stream",
          "name": "stderr",
          "text": [
            "[I 2024-05-13 21:32:14,498] Trial 71 finished with value: 0.9490860153904788 and parameters: {'n_neighbors': 10, 'weights': 'distance', 'p': 3, 'metric': 'manhattan'}. Best is trial 36 with value: 0.9490860153904788.\n"
          ]
        },
        {
          "output_type": "stream",
          "name": "stdout",
          "text": [
            "Trial 71, n_neighbors: 10, weights: distance, p: 3, metric: manhattan, ROC-AUC: 0.9490860153904788\n"
          ]
        },
        {
          "output_type": "stream",
          "name": "stderr",
          "text": [
            "[I 2024-05-13 21:32:14,794] Trial 72 finished with value: 0.9490860153904788 and parameters: {'n_neighbors': 10, 'weights': 'distance', 'p': 3, 'metric': 'manhattan'}. Best is trial 36 with value: 0.9490860153904788.\n"
          ]
        },
        {
          "output_type": "stream",
          "name": "stdout",
          "text": [
            "Trial 72, n_neighbors: 10, weights: distance, p: 3, metric: manhattan, ROC-AUC: 0.9490860153904788\n"
          ]
        },
        {
          "output_type": "stream",
          "name": "stderr",
          "text": [
            "[I 2024-05-13 21:32:15,085] Trial 73 finished with value: 0.9490860153904788 and parameters: {'n_neighbors': 10, 'weights': 'distance', 'p': 3, 'metric': 'manhattan'}. Best is trial 36 with value: 0.9490860153904788.\n"
          ]
        },
        {
          "output_type": "stream",
          "name": "stdout",
          "text": [
            "Trial 73, n_neighbors: 10, weights: distance, p: 3, metric: manhattan, ROC-AUC: 0.9490860153904788\n"
          ]
        },
        {
          "output_type": "stream",
          "name": "stderr",
          "text": [
            "[I 2024-05-13 21:32:15,382] Trial 74 finished with value: 0.9490860153904788 and parameters: {'n_neighbors': 10, 'weights': 'distance', 'p': 3, 'metric': 'manhattan'}. Best is trial 36 with value: 0.9490860153904788.\n"
          ]
        },
        {
          "output_type": "stream",
          "name": "stdout",
          "text": [
            "Trial 74, n_neighbors: 10, weights: distance, p: 3, metric: manhattan, ROC-AUC: 0.9490860153904788\n"
          ]
        },
        {
          "output_type": "stream",
          "name": "stderr",
          "text": [
            "[I 2024-05-13 21:32:15,682] Trial 75 finished with value: 0.9490860153904788 and parameters: {'n_neighbors': 10, 'weights': 'distance', 'p': 3, 'metric': 'manhattan'}. Best is trial 36 with value: 0.9490860153904788.\n"
          ]
        },
        {
          "output_type": "stream",
          "name": "stdout",
          "text": [
            "Trial 75, n_neighbors: 10, weights: distance, p: 3, metric: manhattan, ROC-AUC: 0.9490860153904788\n"
          ]
        },
        {
          "output_type": "stream",
          "name": "stderr",
          "text": [
            "[I 2024-05-13 21:32:15,960] Trial 76 finished with value: 0.9407098976564544 and parameters: {'n_neighbors': 9, 'weights': 'uniform', 'p': 5, 'metric': 'manhattan'}. Best is trial 36 with value: 0.9490860153904788.\n"
          ]
        },
        {
          "output_type": "stream",
          "name": "stdout",
          "text": [
            "Trial 76, n_neighbors: 9, weights: uniform, p: 5, metric: manhattan, ROC-AUC: 0.9407098976564544\n"
          ]
        },
        {
          "output_type": "stream",
          "name": "stderr",
          "text": [
            "[I 2024-05-13 21:32:16,225] Trial 77 finished with value: 0.9340136312688024 and parameters: {'n_neighbors': 10, 'weights': 'distance', 'p': 3, 'metric': 'euclidean'}. Best is trial 36 with value: 0.9490860153904788.\n"
          ]
        },
        {
          "output_type": "stream",
          "name": "stdout",
          "text": [
            "Trial 77, n_neighbors: 10, weights: distance, p: 3, metric: euclidean, ROC-AUC: 0.9340136312688024\n"
          ]
        },
        {
          "output_type": "stream",
          "name": "stderr",
          "text": [
            "[I 2024-05-13 21:32:16,513] Trial 78 finished with value: 0.9490057819735818 and parameters: {'n_neighbors': 9, 'weights': 'distance', 'p': 3, 'metric': 'manhattan'}. Best is trial 36 with value: 0.9490860153904788.\n"
          ]
        },
        {
          "output_type": "stream",
          "name": "stdout",
          "text": [
            "Trial 78, n_neighbors: 9, weights: distance, p: 3, metric: manhattan, ROC-AUC: 0.9490057819735818\n"
          ]
        },
        {
          "output_type": "stream",
          "name": "stderr",
          "text": [
            "[I 2024-05-13 21:32:16,778] Trial 79 finished with value: 0.9340136312688024 and parameters: {'n_neighbors': 10, 'weights': 'distance', 'p': 2, 'metric': 'minkowski'}. Best is trial 36 with value: 0.9490860153904788.\n"
          ]
        },
        {
          "output_type": "stream",
          "name": "stdout",
          "text": [
            "Trial 79, n_neighbors: 10, weights: distance, p: 2, metric: minkowski, ROC-AUC: 0.9340136312688024\n"
          ]
        },
        {
          "output_type": "stream",
          "name": "stderr",
          "text": [
            "[I 2024-05-13 21:32:17,052] Trial 80 finished with value: 0.9490059381826628 and parameters: {'n_neighbors': 8, 'weights': 'distance', 'p': 4, 'metric': 'manhattan'}. Best is trial 36 with value: 0.9490860153904788.\n"
          ]
        },
        {
          "output_type": "stream",
          "name": "stdout",
          "text": [
            "Trial 80, n_neighbors: 8, weights: distance, p: 4, metric: manhattan, ROC-AUC: 0.9490059381826628\n"
          ]
        },
        {
          "output_type": "stream",
          "name": "stderr",
          "text": [
            "[I 2024-05-13 21:32:17,345] Trial 81 finished with value: 0.9490860153904788 and parameters: {'n_neighbors': 10, 'weights': 'distance', 'p': 3, 'metric': 'manhattan'}. Best is trial 36 with value: 0.9490860153904788.\n"
          ]
        },
        {
          "output_type": "stream",
          "name": "stdout",
          "text": [
            "Trial 81, n_neighbors: 10, weights: distance, p: 3, metric: manhattan, ROC-AUC: 0.9490860153904788\n"
          ]
        },
        {
          "output_type": "stream",
          "name": "stderr",
          "text": [
            "[I 2024-05-13 21:32:17,632] Trial 82 finished with value: 0.9490860153904788 and parameters: {'n_neighbors': 10, 'weights': 'distance', 'p': 3, 'metric': 'manhattan'}. Best is trial 36 with value: 0.9490860153904788.\n"
          ]
        },
        {
          "output_type": "stream",
          "name": "stdout",
          "text": [
            "Trial 82, n_neighbors: 10, weights: distance, p: 3, metric: manhattan, ROC-AUC: 0.9490860153904788\n"
          ]
        },
        {
          "output_type": "stream",
          "name": "stderr",
          "text": [
            "[I 2024-05-13 21:32:17,926] Trial 83 finished with value: 0.9490860153904788 and parameters: {'n_neighbors': 10, 'weights': 'distance', 'p': 3, 'metric': 'manhattan'}. Best is trial 36 with value: 0.9490860153904788.\n"
          ]
        },
        {
          "output_type": "stream",
          "name": "stdout",
          "text": [
            "Trial 83, n_neighbors: 10, weights: distance, p: 3, metric: manhattan, ROC-AUC: 0.9490860153904788\n"
          ]
        },
        {
          "output_type": "stream",
          "name": "stderr",
          "text": [
            "[I 2024-05-13 21:32:18,223] Trial 84 finished with value: 0.9490860153904788 and parameters: {'n_neighbors': 10, 'weights': 'distance', 'p': 3, 'metric': 'manhattan'}. Best is trial 36 with value: 0.9490860153904788.\n"
          ]
        },
        {
          "output_type": "stream",
          "name": "stdout",
          "text": [
            "Trial 84, n_neighbors: 10, weights: distance, p: 3, metric: manhattan, ROC-AUC: 0.9490860153904788\n"
          ]
        },
        {
          "output_type": "stream",
          "name": "stderr",
          "text": [
            "[I 2024-05-13 21:32:18,511] Trial 85 finished with value: 0.9490860153904788 and parameters: {'n_neighbors': 10, 'weights': 'distance', 'p': 3, 'metric': 'manhattan'}. Best is trial 36 with value: 0.9490860153904788.\n"
          ]
        },
        {
          "output_type": "stream",
          "name": "stdout",
          "text": [
            "Trial 85, n_neighbors: 10, weights: distance, p: 3, metric: manhattan, ROC-AUC: 0.9490860153904788\n"
          ]
        },
        {
          "output_type": "stream",
          "name": "stderr",
          "text": [
            "[I 2024-05-13 21:32:18,807] Trial 86 finished with value: 0.9490057819735818 and parameters: {'n_neighbors': 9, 'weights': 'distance', 'p': 3, 'metric': 'manhattan'}. Best is trial 36 with value: 0.9490860153904788.\n"
          ]
        },
        {
          "output_type": "stream",
          "name": "stdout",
          "text": [
            "Trial 86, n_neighbors: 9, weights: distance, p: 3, metric: manhattan, ROC-AUC: 0.9490057819735818\n"
          ]
        },
        {
          "output_type": "stream",
          "name": "stderr",
          "text": [
            "[I 2024-05-13 21:32:19,091] Trial 87 finished with value: 0.9407098976564544 and parameters: {'n_neighbors': 9, 'weights': 'uniform', 'p': 3, 'metric': 'manhattan'}. Best is trial 36 with value: 0.9490860153904788.\n"
          ]
        },
        {
          "output_type": "stream",
          "name": "stdout",
          "text": [
            "Trial 87, n_neighbors: 9, weights: uniform, p: 3, metric: manhattan, ROC-AUC: 0.9407098976564544\n"
          ]
        },
        {
          "output_type": "stream",
          "name": "stderr",
          "text": [
            "[I 2024-05-13 21:32:19,384] Trial 88 finished with value: 0.9490057819735818 and parameters: {'n_neighbors': 9, 'weights': 'distance', 'p': 3, 'metric': 'manhattan'}. Best is trial 36 with value: 0.9490860153904788.\n"
          ]
        },
        {
          "output_type": "stream",
          "name": "stdout",
          "text": [
            "Trial 88, n_neighbors: 9, weights: distance, p: 3, metric: manhattan, ROC-AUC: 0.9490057819735818\n"
          ]
        },
        {
          "output_type": "stream",
          "name": "stderr",
          "text": [
            "[I 2024-05-13 21:32:19,670] Trial 89 finished with value: 0.9490860153904788 and parameters: {'n_neighbors': 10, 'weights': 'distance', 'p': 3, 'metric': 'manhattan'}. Best is trial 36 with value: 0.9490860153904788.\n"
          ]
        },
        {
          "output_type": "stream",
          "name": "stdout",
          "text": [
            "Trial 89, n_neighbors: 10, weights: distance, p: 3, metric: manhattan, ROC-AUC: 0.9490860153904788\n"
          ]
        },
        {
          "output_type": "stream",
          "name": "stderr",
          "text": [
            "[I 2024-05-13 21:32:19,945] Trial 90 finished with value: 0.9377033013691559 and parameters: {'n_neighbors': 3, 'weights': 'distance', 'p': 3, 'metric': 'manhattan'}. Best is trial 36 with value: 0.9490860153904788.\n"
          ]
        },
        {
          "output_type": "stream",
          "name": "stdout",
          "text": [
            "Trial 90, n_neighbors: 3, weights: distance, p: 3, metric: manhattan, ROC-AUC: 0.9377033013691559\n"
          ]
        },
        {
          "output_type": "stream",
          "name": "stderr",
          "text": [
            "[I 2024-05-13 21:32:20,246] Trial 91 finished with value: 0.9490860153904788 and parameters: {'n_neighbors': 10, 'weights': 'distance', 'p': 3, 'metric': 'manhattan'}. Best is trial 36 with value: 0.9490860153904788.\n"
          ]
        },
        {
          "output_type": "stream",
          "name": "stdout",
          "text": [
            "Trial 91, n_neighbors: 10, weights: distance, p: 3, metric: manhattan, ROC-AUC: 0.9490860153904788\n"
          ]
        },
        {
          "output_type": "stream",
          "name": "stderr",
          "text": [
            "[I 2024-05-13 21:32:20,547] Trial 92 finished with value: 0.9490860153904788 and parameters: {'n_neighbors': 10, 'weights': 'distance', 'p': 3, 'metric': 'manhattan'}. Best is trial 36 with value: 0.9490860153904788.\n"
          ]
        },
        {
          "output_type": "stream",
          "name": "stdout",
          "text": [
            "Trial 92, n_neighbors: 10, weights: distance, p: 3, metric: manhattan, ROC-AUC: 0.9490860153904788\n"
          ]
        },
        {
          "output_type": "stream",
          "name": "stderr",
          "text": [
            "[I 2024-05-13 21:32:20,851] Trial 93 finished with value: 0.9490860153904788 and parameters: {'n_neighbors': 10, 'weights': 'distance', 'p': 3, 'metric': 'manhattan'}. Best is trial 36 with value: 0.9490860153904788.\n"
          ]
        },
        {
          "output_type": "stream",
          "name": "stdout",
          "text": [
            "Trial 93, n_neighbors: 10, weights: distance, p: 3, metric: manhattan, ROC-AUC: 0.9490860153904788\n"
          ]
        },
        {
          "output_type": "stream",
          "name": "stderr",
          "text": [
            "[I 2024-05-13 21:32:21,143] Trial 94 finished with value: 0.9490860153904788 and parameters: {'n_neighbors': 10, 'weights': 'distance', 'p': 3, 'metric': 'manhattan'}. Best is trial 36 with value: 0.9490860153904788.\n"
          ]
        },
        {
          "output_type": "stream",
          "name": "stdout",
          "text": [
            "Trial 94, n_neighbors: 10, weights: distance, p: 3, metric: manhattan, ROC-AUC: 0.9490860153904788\n"
          ]
        },
        {
          "output_type": "stream",
          "name": "stderr",
          "text": [
            "[I 2024-05-13 21:32:21,451] Trial 95 finished with value: 0.9490057819735818 and parameters: {'n_neighbors': 9, 'weights': 'distance', 'p': 3, 'metric': 'manhattan'}. Best is trial 36 with value: 0.9490860153904788.\n"
          ]
        },
        {
          "output_type": "stream",
          "name": "stdout",
          "text": [
            "Trial 95, n_neighbors: 9, weights: distance, p: 3, metric: manhattan, ROC-AUC: 0.9490057819735818\n"
          ]
        },
        {
          "output_type": "stream",
          "name": "stderr",
          "text": [
            "[I 2024-05-13 21:32:21,713] Trial 96 finished with value: 0.9340136312688024 and parameters: {'n_neighbors': 10, 'weights': 'distance', 'p': 3, 'metric': 'euclidean'}. Best is trial 36 with value: 0.9490860153904788.\n"
          ]
        },
        {
          "output_type": "stream",
          "name": "stdout",
          "text": [
            "Trial 96, n_neighbors: 10, weights: distance, p: 3, metric: euclidean, ROC-AUC: 0.9340136312688024\n"
          ]
        },
        {
          "output_type": "stream",
          "name": "stderr",
          "text": [
            "[I 2024-05-13 21:32:21,980] Trial 97 finished with value: 0.9340136312688024 and parameters: {'n_neighbors': 10, 'weights': 'distance', 'p': 2, 'metric': 'minkowski'}. Best is trial 36 with value: 0.9490860153904788.\n"
          ]
        },
        {
          "output_type": "stream",
          "name": "stdout",
          "text": [
            "Trial 97, n_neighbors: 10, weights: distance, p: 2, metric: minkowski, ROC-AUC: 0.9340136312688024\n"
          ]
        },
        {
          "output_type": "stream",
          "name": "stderr",
          "text": [
            "[I 2024-05-13 21:32:22,289] Trial 98 finished with value: 0.9490057819735818 and parameters: {'n_neighbors': 9, 'weights': 'distance', 'p': 4, 'metric': 'manhattan'}. Best is trial 36 with value: 0.9490860153904788.\n"
          ]
        },
        {
          "output_type": "stream",
          "name": "stdout",
          "text": [
            "Trial 98, n_neighbors: 9, weights: distance, p: 4, metric: manhattan, ROC-AUC: 0.9490057819735818\n"
          ]
        },
        {
          "output_type": "stream",
          "name": "stderr",
          "text": [
            "[I 2024-05-13 21:32:22,578] Trial 99 finished with value: 0.9402317057740323 and parameters: {'n_neighbors': 10, 'weights': 'uniform', 'p': 3, 'metric': 'manhattan'}. Best is trial 36 with value: 0.9490860153904788.\n"
          ]
        },
        {
          "output_type": "stream",
          "name": "stdout",
          "text": [
            "Trial 99, n_neighbors: 10, weights: uniform, p: 3, metric: manhattan, ROC-AUC: 0.9402317057740323\n",
            "Best Parameters:  {'n_neighbors': 10, 'weights': 'distance', 'p': 3, 'metric': 'manhattan'}\n",
            "Best ROC-AUC Score:  0.9490860153904788\n"
          ]
        }
      ]
    },
    {
      "cell_type": "code",
      "source": [
        "# Create and save model\n",
        "best_model_knn = KNeighborsClassifier(**best_params_knn)\n",
        "with open('best_models_knn_9_features.pkl', 'wb') as file:\n",
        "    pickle.dump(best_model_knn, file)"
      ],
      "metadata": {
        "id": "zJrVRw7s7KO7"
      },
      "execution_count": 36,
      "outputs": []
    },
    {
      "cell_type": "code",
      "source": [
        "\n",
        "# Random Forest\n",
        "def objective_function(trial):\n",
        "    n_estimators = trial.suggest_int('n_estimators', 2, 50)\n",
        "    max_depth = trial.suggest_int('max_depth', 1, 10)\n",
        "    min_samples_split = trial.suggest_int('min_samples_split', 2, 10)\n",
        "    min_samples_leaf = trial.suggest_int('min_samples_leaf', 1, 10)\n",
        "\n",
        "    model = RandomForestClassifier(\n",
        "        n_estimators=n_estimators,\n",
        "        max_depth=max_depth,\n",
        "        min_samples_split=min_samples_split,\n",
        "        min_samples_leaf=min_samples_leaf,\n",
        "        n_jobs=-1\n",
        "    )\n",
        "\n",
        "    # Using cross_val_score to get the average ROC-AUC score for each fold\n",
        "    scores = cross_val_score(model, X_train_oversampled, y_train_oversampled, cv=5, scoring='roc_auc')\n",
        "    roc_auc = np.mean(scores)\n",
        "    # Printing intermediate results\n",
        "    print(f\"Trial {trial.number}, n_estimators: {n_estimators}, max_depth: {max_depth}, \"\n",
        "          f\"min_samples_split: {min_samples_split}, min_samples_leaf: {min_samples_leaf}, ROC-AUC: {roc_auc}\")\n",
        "    return roc_auc\n",
        "\n",
        "study_rf = optuna.create_study(direction=\"maximize\")\n",
        "study_rf.optimize(objective_function, n_trials=100)\n",
        "\n",
        "best_params_rf = study_rf.best_params\n",
        "print(\"Best Parameters: \", best_params_rf)\n",
        "print(\"Best ROC-AUC: Score: \", study_rf.best_value)"
      ],
      "metadata": {
        "colab": {
          "base_uri": "https://localhost:8080/"
        },
        "id": "i3bx5G3i7WyA",
        "outputId": "af00b497-f11b-463c-eff7-a8516305ba35"
      },
      "execution_count": 38,
      "outputs": [
        {
          "output_type": "stream",
          "name": "stderr",
          "text": [
            "[I 2024-05-13 21:48:30,811] A new study created in memory with name: no-name-6300bfdf-14b7-47b1-91f1-cb2f0c612e95\n",
            "[I 2024-05-13 21:48:31,187] Trial 0 finished with value: 0.9216865307094599 and parameters: {'n_estimators': 5, 'max_depth': 4, 'min_samples_split': 2, 'min_samples_leaf': 5}. Best is trial 0 with value: 0.9216865307094599.\n"
          ]
        },
        {
          "output_type": "stream",
          "name": "stdout",
          "text": [
            "Trial 0, n_estimators: 5, max_depth: 4, min_samples_split: 2, min_samples_leaf: 5, ROC-AUC: 0.9216865307094599\n"
          ]
        },
        {
          "output_type": "stream",
          "name": "stderr",
          "text": [
            "[I 2024-05-13 21:48:31,657] Trial 1 finished with value: 0.936748302640571 and parameters: {'n_estimators': 8, 'max_depth': 4, 'min_samples_split': 5, 'min_samples_leaf': 8}. Best is trial 1 with value: 0.936748302640571.\n"
          ]
        },
        {
          "output_type": "stream",
          "name": "stdout",
          "text": [
            "Trial 1, n_estimators: 8, max_depth: 4, min_samples_split: 5, min_samples_leaf: 8, ROC-AUC: 0.936748302640571\n"
          ]
        },
        {
          "output_type": "stream",
          "name": "stderr",
          "text": [
            "[I 2024-05-13 21:48:32,470] Trial 2 finished with value: 0.9192624544444714 and parameters: {'n_estimators': 23, 'max_depth': 3, 'min_samples_split': 6, 'min_samples_leaf': 5}. Best is trial 1 with value: 0.936748302640571.\n"
          ]
        },
        {
          "output_type": "stream",
          "name": "stdout",
          "text": [
            "Trial 2, n_estimators: 23, max_depth: 3, min_samples_split: 6, min_samples_leaf: 5, ROC-AUC: 0.9192624544444714\n"
          ]
        },
        {
          "output_type": "stream",
          "name": "stderr",
          "text": [
            "[I 2024-05-13 21:48:33,550] Trial 3 finished with value: 0.9420541791776419 and parameters: {'n_estimators': 30, 'max_depth': 4, 'min_samples_split': 10, 'min_samples_leaf': 9}. Best is trial 3 with value: 0.9420541791776419.\n"
          ]
        },
        {
          "output_type": "stream",
          "name": "stdout",
          "text": [
            "Trial 3, n_estimators: 30, max_depth: 4, min_samples_split: 10, min_samples_leaf: 9, ROC-AUC: 0.9420541791776419\n"
          ]
        },
        {
          "output_type": "stream",
          "name": "stderr",
          "text": [
            "[I 2024-05-13 21:48:34,208] Trial 4 finished with value: 0.9821298352462824 and parameters: {'n_estimators': 6, 'max_depth': 10, 'min_samples_split': 3, 'min_samples_leaf': 3}. Best is trial 4 with value: 0.9821298352462824.\n"
          ]
        },
        {
          "output_type": "stream",
          "name": "stdout",
          "text": [
            "Trial 4, n_estimators: 6, max_depth: 10, min_samples_split: 3, min_samples_leaf: 3, ROC-AUC: 0.9821298352462824\n"
          ]
        },
        {
          "output_type": "stream",
          "name": "stderr",
          "text": [
            "[I 2024-05-13 21:48:36,429] Trial 5 finished with value: 0.9476827417209925 and parameters: {'n_estimators': 40, 'max_depth': 4, 'min_samples_split': 10, 'min_samples_leaf': 8}. Best is trial 4 with value: 0.9821298352462824.\n"
          ]
        },
        {
          "output_type": "stream",
          "name": "stdout",
          "text": [
            "Trial 5, n_estimators: 40, max_depth: 4, min_samples_split: 10, min_samples_leaf: 8, ROC-AUC: 0.9476827417209925\n"
          ]
        },
        {
          "output_type": "stream",
          "name": "stderr",
          "text": [
            "[I 2024-05-13 21:48:37,220] Trial 6 finished with value: 0.8502905731661594 and parameters: {'n_estimators': 20, 'max_depth': 1, 'min_samples_split': 9, 'min_samples_leaf': 6}. Best is trial 4 with value: 0.9821298352462824.\n"
          ]
        },
        {
          "output_type": "stream",
          "name": "stdout",
          "text": [
            "Trial 6, n_estimators: 20, max_depth: 1, min_samples_split: 9, min_samples_leaf: 6, ROC-AUC: 0.8502905731661594\n"
          ]
        },
        {
          "output_type": "stream",
          "name": "stderr",
          "text": [
            "[I 2024-05-13 21:48:38,110] Trial 7 finished with value: 0.9820379692663277 and parameters: {'n_estimators': 7, 'max_depth': 10, 'min_samples_split': 4, 'min_samples_leaf': 6}. Best is trial 4 with value: 0.9821298352462824.\n"
          ]
        },
        {
          "output_type": "stream",
          "name": "stdout",
          "text": [
            "Trial 7, n_estimators: 7, max_depth: 10, min_samples_split: 4, min_samples_leaf: 6, ROC-AUC: 0.9820379692663277\n"
          ]
        },
        {
          "output_type": "stream",
          "name": "stderr",
          "text": [
            "[I 2024-05-13 21:48:39,192] Trial 8 finished with value: 0.8475048140366777 and parameters: {'n_estimators': 46, 'max_depth': 1, 'min_samples_split': 7, 'min_samples_leaf': 5}. Best is trial 4 with value: 0.9821298352462824.\n"
          ]
        },
        {
          "output_type": "stream",
          "name": "stdout",
          "text": [
            "Trial 8, n_estimators: 46, max_depth: 1, min_samples_split: 7, min_samples_leaf: 5, ROC-AUC: 0.8475048140366777\n"
          ]
        },
        {
          "output_type": "stream",
          "name": "stderr",
          "text": [
            "[I 2024-05-13 21:48:39,921] Trial 9 finished with value: 0.9235972284688263 and parameters: {'n_estimators': 21, 'max_depth': 3, 'min_samples_split': 4, 'min_samples_leaf': 3}. Best is trial 4 with value: 0.9821298352462824.\n"
          ]
        },
        {
          "output_type": "stream",
          "name": "stdout",
          "text": [
            "Trial 9, n_estimators: 21, max_depth: 3, min_samples_split: 4, min_samples_leaf: 3, ROC-AUC: 0.9235972284688263\n"
          ]
        },
        {
          "output_type": "stream",
          "name": "stderr",
          "text": [
            "[I 2024-05-13 21:48:40,786] Trial 10 finished with value: 0.9864526405414157 and parameters: {'n_estimators': 14, 'max_depth': 10, 'min_samples_split': 2, 'min_samples_leaf': 1}. Best is trial 10 with value: 0.9864526405414157.\n"
          ]
        },
        {
          "output_type": "stream",
          "name": "stdout",
          "text": [
            "Trial 10, n_estimators: 14, max_depth: 10, min_samples_split: 2, min_samples_leaf: 1, ROC-AUC: 0.9864526405414157\n"
          ]
        },
        {
          "output_type": "stream",
          "name": "stderr",
          "text": [
            "[I 2024-05-13 21:48:41,687] Trial 11 finished with value: 0.9860287851434018 and parameters: {'n_estimators': 15, 'max_depth': 10, 'min_samples_split': 2, 'min_samples_leaf': 1}. Best is trial 10 with value: 0.9864526405414157.\n"
          ]
        },
        {
          "output_type": "stream",
          "name": "stdout",
          "text": [
            "Trial 11, n_estimators: 15, max_depth: 10, min_samples_split: 2, min_samples_leaf: 1, ROC-AUC: 0.9860287851434018\n"
          ]
        },
        {
          "output_type": "stream",
          "name": "stderr",
          "text": [
            "[I 2024-05-13 21:48:42,485] Trial 12 finished with value: 0.9808637878240762 and parameters: {'n_estimators': 14, 'max_depth': 8, 'min_samples_split': 2, 'min_samples_leaf': 1}. Best is trial 10 with value: 0.9864526405414157.\n"
          ]
        },
        {
          "output_type": "stream",
          "name": "stdout",
          "text": [
            "Trial 12, n_estimators: 14, max_depth: 8, min_samples_split: 2, min_samples_leaf: 1, ROC-AUC: 0.9808637878240762\n"
          ]
        },
        {
          "output_type": "stream",
          "name": "stderr",
          "text": [
            "[I 2024-05-13 21:48:45,003] Trial 13 finished with value: 0.981698660714003 and parameters: {'n_estimators': 32, 'max_depth': 8, 'min_samples_split': 2, 'min_samples_leaf': 1}. Best is trial 10 with value: 0.9864526405414157.\n"
          ]
        },
        {
          "output_type": "stream",
          "name": "stdout",
          "text": [
            "Trial 13, n_estimators: 32, max_depth: 8, min_samples_split: 2, min_samples_leaf: 1, ROC-AUC: 0.981698660714003\n"
          ]
        },
        {
          "output_type": "stream",
          "name": "stderr",
          "text": [
            "[I 2024-05-13 21:48:46,298] Trial 14 finished with value: 0.9810021975134638 and parameters: {'n_estimators': 14, 'max_depth': 8, 'min_samples_split': 4, 'min_samples_leaf': 3}. Best is trial 10 with value: 0.9864526405414157.\n"
          ]
        },
        {
          "output_type": "stream",
          "name": "stdout",
          "text": [
            "Trial 14, n_estimators: 14, max_depth: 8, min_samples_split: 4, min_samples_leaf: 3, ROC-AUC: 0.9810021975134638\n"
          ]
        },
        {
          "output_type": "stream",
          "name": "stderr",
          "text": [
            "[I 2024-05-13 21:48:47,416] Trial 15 finished with value: 0.9760176528188161 and parameters: {'n_estimators': 15, 'max_depth': 7, 'min_samples_split': 8, 'min_samples_leaf': 2}. Best is trial 10 with value: 0.9864526405414157.\n"
          ]
        },
        {
          "output_type": "stream",
          "name": "stdout",
          "text": [
            "Trial 15, n_estimators: 15, max_depth: 7, min_samples_split: 8, min_samples_leaf: 2, ROC-AUC: 0.9760176528188161\n"
          ]
        },
        {
          "output_type": "stream",
          "name": "stderr",
          "text": [
            "[I 2024-05-13 21:48:49,331] Trial 16 finished with value: 0.988185781085301 and parameters: {'n_estimators': 29, 'max_depth': 10, 'min_samples_split': 3, 'min_samples_leaf': 1}. Best is trial 16 with value: 0.988185781085301.\n"
          ]
        },
        {
          "output_type": "stream",
          "name": "stdout",
          "text": [
            "Trial 16, n_estimators: 29, max_depth: 10, min_samples_split: 3, min_samples_leaf: 1, ROC-AUC: 0.988185781085301\n"
          ]
        },
        {
          "output_type": "stream",
          "name": "stderr",
          "text": [
            "[I 2024-05-13 21:48:52,509] Trial 17 finished with value: 0.9859501497031837 and parameters: {'n_estimators': 34, 'max_depth': 9, 'min_samples_split': 3, 'min_samples_leaf': 2}. Best is trial 16 with value: 0.988185781085301.\n"
          ]
        },
        {
          "output_type": "stream",
          "name": "stdout",
          "text": [
            "Trial 17, n_estimators: 34, max_depth: 9, min_samples_split: 3, min_samples_leaf: 2, ROC-AUC: 0.9859501497031837\n"
          ]
        },
        {
          "output_type": "stream",
          "name": "stderr",
          "text": [
            "[I 2024-05-13 21:48:53,847] Trial 18 finished with value: 0.9695440284371456 and parameters: {'n_estimators': 28, 'max_depth': 6, 'min_samples_split': 6, 'min_samples_leaf': 4}. Best is trial 16 with value: 0.988185781085301.\n"
          ]
        },
        {
          "output_type": "stream",
          "name": "stdout",
          "text": [
            "Trial 18, n_estimators: 28, max_depth: 6, min_samples_split: 6, min_samples_leaf: 4, ROC-AUC: 0.9695440284371456\n"
          ]
        },
        {
          "output_type": "stream",
          "name": "stderr",
          "text": [
            "[I 2024-05-13 21:48:55,316] Trial 19 finished with value: 0.9718880422708528 and parameters: {'n_estimators': 36, 'max_depth': 6, 'min_samples_split': 3, 'min_samples_leaf': 2}. Best is trial 16 with value: 0.988185781085301.\n"
          ]
        },
        {
          "output_type": "stream",
          "name": "stdout",
          "text": [
            "Trial 19, n_estimators: 36, max_depth: 6, min_samples_split: 3, min_samples_leaf: 2, ROC-AUC: 0.9718880422708528\n"
          ]
        },
        {
          "output_type": "stream",
          "name": "stderr",
          "text": [
            "[I 2024-05-13 21:48:57,636] Trial 20 finished with value: 0.9866002349025719 and parameters: {'n_estimators': 50, 'max_depth': 9, 'min_samples_split': 5, 'min_samples_leaf': 4}. Best is trial 16 with value: 0.988185781085301.\n"
          ]
        },
        {
          "output_type": "stream",
          "name": "stdout",
          "text": [
            "Trial 20, n_estimators: 50, max_depth: 9, min_samples_split: 5, min_samples_leaf: 4, ROC-AUC: 0.9866002349025719\n"
          ]
        },
        {
          "output_type": "stream",
          "name": "stderr",
          "text": [
            "[I 2024-05-13 21:49:00,236] Trial 21 finished with value: 0.9863674540828683 and parameters: {'n_estimators': 49, 'max_depth': 9, 'min_samples_split': 5, 'min_samples_leaf': 4}. Best is trial 16 with value: 0.988185781085301.\n"
          ]
        },
        {
          "output_type": "stream",
          "name": "stdout",
          "text": [
            "Trial 21, n_estimators: 49, max_depth: 9, min_samples_split: 5, min_samples_leaf: 4, ROC-AUC: 0.9863674540828683\n"
          ]
        },
        {
          "output_type": "stream",
          "name": "stderr",
          "text": [
            "[I 2024-05-13 21:49:05,096] Trial 22 finished with value: 0.9867524556384154 and parameters: {'n_estimators': 43, 'max_depth': 9, 'min_samples_split': 5, 'min_samples_leaf': 1}. Best is trial 16 with value: 0.988185781085301.\n"
          ]
        },
        {
          "output_type": "stream",
          "name": "stdout",
          "text": [
            "Trial 22, n_estimators: 43, max_depth: 9, min_samples_split: 5, min_samples_leaf: 1, ROC-AUC: 0.9867524556384154\n"
          ]
        },
        {
          "output_type": "stream",
          "name": "stderr",
          "text": [
            "[I 2024-05-13 21:49:10,117] Trial 23 finished with value: 0.9862612788761458 and parameters: {'n_estimators': 42, 'max_depth': 9, 'min_samples_split': 5, 'min_samples_leaf': 4}. Best is trial 16 with value: 0.988185781085301.\n"
          ]
        },
        {
          "output_type": "stream",
          "name": "stdout",
          "text": [
            "Trial 23, n_estimators: 42, max_depth: 9, min_samples_split: 5, min_samples_leaf: 4, ROC-AUC: 0.9862612788761458\n"
          ]
        },
        {
          "output_type": "stream",
          "name": "stderr",
          "text": [
            "[I 2024-05-13 21:49:12,582] Trial 24 finished with value: 0.9791792473027441 and parameters: {'n_estimators': 50, 'max_depth': 7, 'min_samples_split': 6, 'min_samples_leaf': 7}. Best is trial 16 with value: 0.988185781085301.\n"
          ]
        },
        {
          "output_type": "stream",
          "name": "stdout",
          "text": [
            "Trial 24, n_estimators: 50, max_depth: 7, min_samples_split: 6, min_samples_leaf: 7, ROC-AUC: 0.9791792473027441\n"
          ]
        },
        {
          "output_type": "stream",
          "name": "stderr",
          "text": [
            "[I 2024-05-13 21:49:14,591] Trial 25 finished with value: 0.9847293712504278 and parameters: {'n_estimators': 43, 'max_depth': 9, 'min_samples_split': 7, 'min_samples_leaf': 10}. Best is trial 16 with value: 0.988185781085301.\n"
          ]
        },
        {
          "output_type": "stream",
          "name": "stdout",
          "text": [
            "Trial 25, n_estimators: 43, max_depth: 9, min_samples_split: 7, min_samples_leaf: 10, ROC-AUC: 0.9847293712504278\n"
          ]
        },
        {
          "output_type": "stream",
          "name": "stderr",
          "text": [
            "[I 2024-05-13 21:49:16,245] Trial 26 finished with value: 0.9764927999434946 and parameters: {'n_estimators': 38, 'max_depth': 7, 'min_samples_split': 4, 'min_samples_leaf': 2}. Best is trial 16 with value: 0.988185781085301.\n"
          ]
        },
        {
          "output_type": "stream",
          "name": "stdout",
          "text": [
            "Trial 26, n_estimators: 38, max_depth: 7, min_samples_split: 4, min_samples_leaf: 2, ROC-AUC: 0.9764927999434946\n"
          ]
        },
        {
          "output_type": "stream",
          "name": "stderr",
          "text": [
            "[I 2024-05-13 21:49:18,323] Trial 27 finished with value: 0.9826247056144879 and parameters: {'n_estimators': 46, 'max_depth': 8, 'min_samples_split': 5, 'min_samples_leaf': 3}. Best is trial 16 with value: 0.988185781085301.\n"
          ]
        },
        {
          "output_type": "stream",
          "name": "stdout",
          "text": [
            "Trial 27, n_estimators: 46, max_depth: 8, min_samples_split: 5, min_samples_leaf: 3, ROC-AUC: 0.9826247056144879\n"
          ]
        },
        {
          "output_type": "stream",
          "name": "stderr",
          "text": [
            "[I 2024-05-13 21:49:21,509] Trial 28 finished with value: 0.9861507659648951 and parameters: {'n_estimators': 45, 'max_depth': 9, 'min_samples_split': 7, 'min_samples_leaf': 2}. Best is trial 16 with value: 0.988185781085301.\n"
          ]
        },
        {
          "output_type": "stream",
          "name": "stdout",
          "text": [
            "Trial 28, n_estimators: 45, max_depth: 9, min_samples_split: 7, min_samples_leaf: 2, ROC-AUC: 0.9861507659648951\n"
          ]
        },
        {
          "output_type": "stream",
          "name": "stderr",
          "text": [
            "[I 2024-05-13 21:49:23,192] Trial 29 finished with value: 0.9595812225053546 and parameters: {'n_estimators': 25, 'max_depth': 5, 'min_samples_split': 3, 'min_samples_leaf': 4}. Best is trial 16 with value: 0.988185781085301.\n"
          ]
        },
        {
          "output_type": "stream",
          "name": "stdout",
          "text": [
            "Trial 29, n_estimators: 25, max_depth: 5, min_samples_split: 3, min_samples_leaf: 4, ROC-AUC: 0.9595812225053546\n"
          ]
        },
        {
          "output_type": "stream",
          "name": "stderr",
          "text": [
            "[I 2024-05-13 21:49:25,306] Trial 30 finished with value: 0.986777350932946 and parameters: {'n_estimators': 39, 'max_depth': 10, 'min_samples_split': 6, 'min_samples_leaf': 7}. Best is trial 16 with value: 0.988185781085301.\n"
          ]
        },
        {
          "output_type": "stream",
          "name": "stdout",
          "text": [
            "Trial 30, n_estimators: 39, max_depth: 10, min_samples_split: 6, min_samples_leaf: 7, ROC-AUC: 0.986777350932946\n"
          ]
        },
        {
          "output_type": "stream",
          "name": "stderr",
          "text": [
            "[I 2024-05-13 21:49:27,176] Trial 31 finished with value: 0.9877749013318006 and parameters: {'n_estimators': 39, 'max_depth': 10, 'min_samples_split': 6, 'min_samples_leaf': 7}. Best is trial 16 with value: 0.988185781085301.\n"
          ]
        },
        {
          "output_type": "stream",
          "name": "stdout",
          "text": [
            "Trial 31, n_estimators: 39, max_depth: 10, min_samples_split: 6, min_samples_leaf: 7, ROC-AUC: 0.9877749013318006\n"
          ]
        },
        {
          "output_type": "stream",
          "name": "stderr",
          "text": [
            "[I 2024-05-13 21:49:28,948] Trial 32 finished with value: 0.9871219394577511 and parameters: {'n_estimators': 35, 'max_depth': 10, 'min_samples_split': 6, 'min_samples_leaf': 7}. Best is trial 16 with value: 0.988185781085301.\n"
          ]
        },
        {
          "output_type": "stream",
          "name": "stdout",
          "text": [
            "Trial 32, n_estimators: 35, max_depth: 10, min_samples_split: 6, min_samples_leaf: 7, ROC-AUC: 0.9871219394577511\n"
          ]
        },
        {
          "output_type": "stream",
          "name": "stderr",
          "text": [
            "[I 2024-05-13 21:49:30,667] Trial 33 finished with value: 0.9881659148260276 and parameters: {'n_estimators': 36, 'max_depth': 10, 'min_samples_split': 8, 'min_samples_leaf': 7}. Best is trial 16 with value: 0.988185781085301.\n"
          ]
        },
        {
          "output_type": "stream",
          "name": "stdout",
          "text": [
            "Trial 33, n_estimators: 36, max_depth: 10, min_samples_split: 8, min_samples_leaf: 7, ROC-AUC: 0.9881659148260276\n"
          ]
        },
        {
          "output_type": "stream",
          "name": "stderr",
          "text": [
            "[I 2024-05-13 21:49:32,296] Trial 34 finished with value: 0.9875029748330706 and parameters: {'n_estimators': 33, 'max_depth': 10, 'min_samples_split': 8, 'min_samples_leaf': 7}. Best is trial 16 with value: 0.988185781085301.\n"
          ]
        },
        {
          "output_type": "stream",
          "name": "stdout",
          "text": [
            "Trial 34, n_estimators: 33, max_depth: 10, min_samples_split: 8, min_samples_leaf: 7, ROC-AUC: 0.9875029748330706\n"
          ]
        },
        {
          "output_type": "stream",
          "name": "stderr",
          "text": [
            "[I 2024-05-13 21:49:33,989] Trial 35 finished with value: 0.9863871712574616 and parameters: {'n_estimators': 31, 'max_depth': 10, 'min_samples_split': 8, 'min_samples_leaf': 8}. Best is trial 16 with value: 0.988185781085301.\n"
          ]
        },
        {
          "output_type": "stream",
          "name": "stdout",
          "text": [
            "Trial 35, n_estimators: 31, max_depth: 10, min_samples_split: 8, min_samples_leaf: 8, ROC-AUC: 0.9863871712574616\n"
          ]
        },
        {
          "output_type": "stream",
          "name": "stderr",
          "text": [
            "[I 2024-05-13 21:49:34,484] Trial 36 finished with value: 0.9697453566111884 and parameters: {'n_estimators': 2, 'max_depth': 10, 'min_samples_split': 9, 'min_samples_leaf': 8}. Best is trial 16 with value: 0.988185781085301.\n"
          ]
        },
        {
          "output_type": "stream",
          "name": "stdout",
          "text": [
            "Trial 36, n_estimators: 2, max_depth: 10, min_samples_split: 9, min_samples_leaf: 8, ROC-AUC: 0.9697453566111884\n"
          ]
        },
        {
          "output_type": "stream",
          "name": "stderr",
          "text": [
            "[I 2024-05-13 21:49:36,635] Trial 37 finished with value: 0.9827406826771685 and parameters: {'n_estimators': 27, 'max_depth': 8, 'min_samples_split': 8, 'min_samples_leaf': 6}. Best is trial 16 with value: 0.988185781085301.\n"
          ]
        },
        {
          "output_type": "stream",
          "name": "stdout",
          "text": [
            "Trial 37, n_estimators: 27, max_depth: 8, min_samples_split: 8, min_samples_leaf: 6, ROC-AUC: 0.9827406826771685\n"
          ]
        },
        {
          "output_type": "stream",
          "name": "stderr",
          "text": [
            "[I 2024-05-13 21:49:38,770] Trial 38 finished with value: 0.98746301776397 and parameters: {'n_estimators': 30, 'max_depth': 10, 'min_samples_split': 9, 'min_samples_leaf': 9}. Best is trial 16 with value: 0.988185781085301.\n"
          ]
        },
        {
          "output_type": "stream",
          "name": "stdout",
          "text": [
            "Trial 38, n_estimators: 30, max_depth: 10, min_samples_split: 9, min_samples_leaf: 9, ROC-AUC: 0.98746301776397\n"
          ]
        },
        {
          "output_type": "stream",
          "name": "stderr",
          "text": [
            "[I 2024-05-13 21:49:39,765] Trial 39 finished with value: 0.9012883196179651 and parameters: {'n_estimators': 37, 'max_depth': 2, 'min_samples_split': 10, 'min_samples_leaf': 7}. Best is trial 16 with value: 0.988185781085301.\n"
          ]
        },
        {
          "output_type": "stream",
          "name": "stdout",
          "text": [
            "Trial 39, n_estimators: 37, max_depth: 2, min_samples_split: 10, min_samples_leaf: 7, ROC-AUC: 0.9012883196179651\n"
          ]
        },
        {
          "output_type": "stream",
          "name": "stderr",
          "text": [
            "[I 2024-05-13 21:49:40,959] Trial 40 finished with value: 0.9850412505963915 and parameters: {'n_estimators': 24, 'max_depth': 9, 'min_samples_split': 8, 'min_samples_leaf': 9}. Best is trial 16 with value: 0.988185781085301.\n"
          ]
        },
        {
          "output_type": "stream",
          "name": "stdout",
          "text": [
            "Trial 40, n_estimators: 24, max_depth: 9, min_samples_split: 8, min_samples_leaf: 9, ROC-AUC: 0.9850412505963915\n"
          ]
        },
        {
          "output_type": "stream",
          "name": "stderr",
          "text": [
            "[I 2024-05-13 21:49:42,361] Trial 41 finished with value: 0.9872936111266968 and parameters: {'n_estimators': 28, 'max_depth': 10, 'min_samples_split': 9, 'min_samples_leaf': 9}. Best is trial 16 with value: 0.988185781085301.\n"
          ]
        },
        {
          "output_type": "stream",
          "name": "stdout",
          "text": [
            "Trial 41, n_estimators: 28, max_depth: 10, min_samples_split: 9, min_samples_leaf: 9, ROC-AUC: 0.9872936111266968\n"
          ]
        },
        {
          "output_type": "stream",
          "name": "stderr",
          "text": [
            "[I 2024-05-13 21:49:43,942] Trial 42 finished with value: 0.9869657398760788 and parameters: {'n_estimators': 33, 'max_depth': 10, 'min_samples_split': 9, 'min_samples_leaf': 10}. Best is trial 16 with value: 0.988185781085301.\n"
          ]
        },
        {
          "output_type": "stream",
          "name": "stdout",
          "text": [
            "Trial 42, n_estimators: 33, max_depth: 10, min_samples_split: 9, min_samples_leaf: 10, ROC-AUC: 0.9869657398760788\n"
          ]
        },
        {
          "output_type": "stream",
          "name": "stderr",
          "text": [
            "[I 2024-05-13 21:49:45,436] Trial 43 finished with value: 0.9870286393623326 and parameters: {'n_estimators': 30, 'max_depth': 10, 'min_samples_split': 10, 'min_samples_leaf': 8}. Best is trial 16 with value: 0.988185781085301.\n"
          ]
        },
        {
          "output_type": "stream",
          "name": "stdout",
          "text": [
            "Trial 43, n_estimators: 30, max_depth: 10, min_samples_split: 10, min_samples_leaf: 8, ROC-AUC: 0.9870286393623326\n"
          ]
        },
        {
          "output_type": "stream",
          "name": "stderr",
          "text": [
            "[I 2024-05-13 21:49:46,553] Trial 44 finished with value: 0.9848136072611554 and parameters: {'n_estimators': 21, 'max_depth': 9, 'min_samples_split': 7, 'min_samples_leaf': 6}. Best is trial 16 with value: 0.988185781085301.\n"
          ]
        },
        {
          "output_type": "stream",
          "name": "stdout",
          "text": [
            "Trial 44, n_estimators: 21, max_depth: 9, min_samples_split: 7, min_samples_leaf: 6, ROC-AUC: 0.9848136072611554\n"
          ]
        },
        {
          "output_type": "stream",
          "name": "stderr",
          "text": [
            "[I 2024-05-13 21:49:48,050] Trial 45 finished with value: 0.9878713702023072 and parameters: {'n_estimators': 30, 'max_depth': 10, 'min_samples_split': 9, 'min_samples_leaf': 5}. Best is trial 16 with value: 0.988185781085301.\n"
          ]
        },
        {
          "output_type": "stream",
          "name": "stdout",
          "text": [
            "Trial 45, n_estimators: 30, max_depth: 10, min_samples_split: 9, min_samples_leaf: 5, ROC-AUC: 0.9878713702023072\n"
          ]
        },
        {
          "output_type": "stream",
          "name": "stderr",
          "text": [
            "[I 2024-05-13 21:49:51,020] Trial 46 finished with value: 0.9841049985407118 and parameters: {'n_estimators': 40, 'max_depth': 8, 'min_samples_split': 8, 'min_samples_leaf': 5}. Best is trial 16 with value: 0.988185781085301.\n"
          ]
        },
        {
          "output_type": "stream",
          "name": "stdout",
          "text": [
            "Trial 46, n_estimators: 40, max_depth: 8, min_samples_split: 8, min_samples_leaf: 5, ROC-AUC: 0.9841049985407118\n"
          ]
        },
        {
          "output_type": "stream",
          "name": "stderr",
          "text": [
            "[I 2024-05-13 21:49:53,482] Trial 47 finished with value: 0.9872973875867735 and parameters: {'n_estimators': 33, 'max_depth': 10, 'min_samples_split': 10, 'min_samples_leaf': 5}. Best is trial 16 with value: 0.988185781085301.\n"
          ]
        },
        {
          "output_type": "stream",
          "name": "stdout",
          "text": [
            "Trial 47, n_estimators: 33, max_depth: 10, min_samples_split: 10, min_samples_leaf: 5, ROC-AUC: 0.9872973875867735\n"
          ]
        },
        {
          "output_type": "stream",
          "name": "stderr",
          "text": [
            "[I 2024-05-13 21:49:54,175] Trial 48 finished with value: 0.9185744228401657 and parameters: {'n_estimators': 18, 'max_depth': 3, 'min_samples_split': 9, 'min_samples_leaf': 7}. Best is trial 16 with value: 0.988185781085301.\n"
          ]
        },
        {
          "output_type": "stream",
          "name": "stdout",
          "text": [
            "Trial 48, n_estimators: 18, max_depth: 3, min_samples_split: 9, min_samples_leaf: 7, ROC-AUC: 0.9185744228401657\n"
          ]
        },
        {
          "output_type": "stream",
          "name": "stderr",
          "text": [
            "[I 2024-05-13 21:49:55,921] Trial 49 finished with value: 0.985380519304846 and parameters: {'n_estimators': 36, 'max_depth': 9, 'min_samples_split': 7, 'min_samples_leaf': 6}. Best is trial 16 with value: 0.988185781085301.\n"
          ]
        },
        {
          "output_type": "stream",
          "name": "stdout",
          "text": [
            "Trial 49, n_estimators: 36, max_depth: 9, min_samples_split: 7, min_samples_leaf: 6, ROC-AUC: 0.985380519304846\n"
          ]
        },
        {
          "output_type": "stream",
          "name": "stderr",
          "text": [
            "[I 2024-05-13 21:49:57,901] Trial 50 finished with value: 0.9877916763927928 and parameters: {'n_estimators': 41, 'max_depth': 10, 'min_samples_split': 8, 'min_samples_leaf': 7}. Best is trial 16 with value: 0.988185781085301.\n"
          ]
        },
        {
          "output_type": "stream",
          "name": "stdout",
          "text": [
            "Trial 50, n_estimators: 41, max_depth: 10, min_samples_split: 8, min_samples_leaf: 7, ROC-AUC: 0.9877916763927928\n"
          ]
        },
        {
          "output_type": "stream",
          "name": "stderr",
          "text": [
            "[I 2024-05-13 21:49:59,865] Trial 51 finished with value: 0.9876022905613027 and parameters: {'n_estimators': 40, 'max_depth': 10, 'min_samples_split': 8, 'min_samples_leaf': 7}. Best is trial 16 with value: 0.988185781085301.\n"
          ]
        },
        {
          "output_type": "stream",
          "name": "stdout",
          "text": [
            "Trial 51, n_estimators: 40, max_depth: 10, min_samples_split: 8, min_samples_leaf: 7, ROC-AUC: 0.9876022905613027\n"
          ]
        },
        {
          "output_type": "stream",
          "name": "stderr",
          "text": [
            "[I 2024-05-13 21:50:01,834] Trial 52 finished with value: 0.9872248200249739 and parameters: {'n_estimators': 41, 'max_depth': 10, 'min_samples_split': 8, 'min_samples_leaf': 8}. Best is trial 16 with value: 0.988185781085301.\n"
          ]
        },
        {
          "output_type": "stream",
          "name": "stdout",
          "text": [
            "Trial 52, n_estimators: 41, max_depth: 10, min_samples_split: 8, min_samples_leaf: 8, ROC-AUC: 0.9872248200249739\n"
          ]
        },
        {
          "output_type": "stream",
          "name": "stderr",
          "text": [
            "[I 2024-05-13 21:50:04,069] Trial 53 finished with value: 0.984684721312234 and parameters: {'n_estimators': 38, 'max_depth': 9, 'min_samples_split': 9, 'min_samples_leaf': 6}. Best is trial 16 with value: 0.988185781085301.\n"
          ]
        },
        {
          "output_type": "stream",
          "name": "stdout",
          "text": [
            "Trial 53, n_estimators: 38, max_depth: 9, min_samples_split: 9, min_samples_leaf: 6, ROC-AUC: 0.984684721312234\n"
          ]
        },
        {
          "output_type": "stream",
          "name": "stderr",
          "text": [
            "[I 2024-05-13 21:50:06,973] Trial 54 finished with value: 0.9873018289909108 and parameters: {'n_estimators': 35, 'max_depth': 10, 'min_samples_split': 7, 'min_samples_leaf': 8}. Best is trial 16 with value: 0.988185781085301.\n"
          ]
        },
        {
          "output_type": "stream",
          "name": "stdout",
          "text": [
            "Trial 54, n_estimators: 35, max_depth: 10, min_samples_split: 7, min_samples_leaf: 8, ROC-AUC: 0.9873018289909108\n"
          ]
        },
        {
          "output_type": "stream",
          "name": "stderr",
          "text": [
            "[I 2024-05-13 21:50:09,361] Trial 55 finished with value: 0.9859180323773297 and parameters: {'n_estimators': 45, 'max_depth': 9, 'min_samples_split': 8, 'min_samples_leaf': 7}. Best is trial 16 with value: 0.988185781085301.\n"
          ]
        },
        {
          "output_type": "stream",
          "name": "stdout",
          "text": [
            "Trial 55, n_estimators: 45, max_depth: 9, min_samples_split: 8, min_samples_leaf: 7, ROC-AUC: 0.9859180323773297\n"
          ]
        },
        {
          "output_type": "stream",
          "name": "stderr",
          "text": [
            "[I 2024-05-13 21:50:11,165] Trial 56 finished with value: 0.9821853150650612 and parameters: {'n_estimators': 40, 'max_depth': 8, 'min_samples_split': 9, 'min_samples_leaf': 6}. Best is trial 16 with value: 0.988185781085301.\n"
          ]
        },
        {
          "output_type": "stream",
          "name": "stdout",
          "text": [
            "Trial 56, n_estimators: 40, max_depth: 8, min_samples_split: 9, min_samples_leaf: 6, ROC-AUC: 0.9821853150650612\n"
          ]
        },
        {
          "output_type": "stream",
          "name": "stderr",
          "text": [
            "[I 2024-05-13 21:50:12,863] Trial 57 finished with value: 0.9614613745288766 and parameters: {'n_estimators': 47, 'max_depth': 5, 'min_samples_split': 7, 'min_samples_leaf': 5}. Best is trial 16 with value: 0.988185781085301.\n"
          ]
        },
        {
          "output_type": "stream",
          "name": "stdout",
          "text": [
            "Trial 57, n_estimators: 47, max_depth: 5, min_samples_split: 7, min_samples_leaf: 5, ROC-AUC: 0.9614613745288766\n"
          ]
        },
        {
          "output_type": "stream",
          "name": "stderr",
          "text": [
            "[I 2024-05-13 21:50:14,917] Trial 58 finished with value: 0.9879345393603188 and parameters: {'n_estimators': 43, 'max_depth': 10, 'min_samples_split': 3, 'min_samples_leaf': 7}. Best is trial 16 with value: 0.988185781085301.\n"
          ]
        },
        {
          "output_type": "stream",
          "name": "stdout",
          "text": [
            "Trial 58, n_estimators: 43, max_depth: 10, min_samples_split: 3, min_samples_leaf: 7, ROC-AUC: 0.9879345393603188\n"
          ]
        },
        {
          "output_type": "stream",
          "name": "stderr",
          "text": [
            "[I 2024-05-13 21:50:16,891] Trial 59 finished with value: 0.9860204237357081 and parameters: {'n_estimators': 42, 'max_depth': 9, 'min_samples_split': 3, 'min_samples_leaf': 6}. Best is trial 16 with value: 0.988185781085301.\n"
          ]
        },
        {
          "output_type": "stream",
          "name": "stdout",
          "text": [
            "Trial 59, n_estimators: 42, max_depth: 9, min_samples_split: 3, min_samples_leaf: 6, ROC-AUC: 0.9860204237357081\n"
          ]
        },
        {
          "output_type": "stream",
          "name": "stderr",
          "text": [
            "[I 2024-05-13 21:50:19,679] Trial 60 finished with value: 0.9856287740588898 and parameters: {'n_estimators': 44, 'max_depth': 9, 'min_samples_split': 4, 'min_samples_leaf': 8}. Best is trial 16 with value: 0.988185781085301.\n"
          ]
        },
        {
          "output_type": "stream",
          "name": "stdout",
          "text": [
            "Trial 60, n_estimators: 44, max_depth: 9, min_samples_split: 4, min_samples_leaf: 8, ROC-AUC: 0.9856287740588898\n"
          ]
        },
        {
          "output_type": "stream",
          "name": "stderr",
          "text": [
            "[I 2024-05-13 21:50:22,654] Trial 61 finished with value: 0.9873809298919711 and parameters: {'n_estimators': 38, 'max_depth': 10, 'min_samples_split': 2, 'min_samples_leaf': 7}. Best is trial 16 with value: 0.988185781085301.\n"
          ]
        },
        {
          "output_type": "stream",
          "name": "stdout",
          "text": [
            "Trial 61, n_estimators: 38, max_depth: 10, min_samples_split: 2, min_samples_leaf: 7, ROC-AUC: 0.9873809298919711\n"
          ]
        },
        {
          "output_type": "stream",
          "name": "stderr",
          "text": [
            "[I 2024-05-13 21:50:24,581] Trial 62 finished with value: 0.9875427245029522 and parameters: {'n_estimators': 40, 'max_depth': 10, 'min_samples_split': 3, 'min_samples_leaf': 7}. Best is trial 16 with value: 0.988185781085301.\n"
          ]
        },
        {
          "output_type": "stream",
          "name": "stdout",
          "text": [
            "Trial 62, n_estimators: 40, max_depth: 10, min_samples_split: 3, min_samples_leaf: 7, ROC-AUC: 0.9875427245029522\n"
          ]
        },
        {
          "output_type": "stream",
          "name": "stderr",
          "text": [
            "[I 2024-05-13 21:50:26,781] Trial 63 finished with value: 0.9879421060015403 and parameters: {'n_estimators': 47, 'max_depth': 10, 'min_samples_split': 4, 'min_samples_leaf': 7}. Best is trial 16 with value: 0.988185781085301.\n"
          ]
        },
        {
          "output_type": "stream",
          "name": "stdout",
          "text": [
            "Trial 63, n_estimators: 47, max_depth: 10, min_samples_split: 4, min_samples_leaf: 7, ROC-AUC: 0.9879421060015403\n"
          ]
        },
        {
          "output_type": "stream",
          "name": "stderr",
          "text": [
            "[I 2024-05-13 21:50:28,922] Trial 64 finished with value: 0.9854427343209041 and parameters: {'n_estimators': 47, 'max_depth': 9, 'min_samples_split': 4, 'min_samples_leaf': 8}. Best is trial 16 with value: 0.988185781085301.\n"
          ]
        },
        {
          "output_type": "stream",
          "name": "stdout",
          "text": [
            "Trial 64, n_estimators: 47, max_depth: 9, min_samples_split: 4, min_samples_leaf: 8, ROC-AUC: 0.9854427343209041\n"
          ]
        },
        {
          "output_type": "stream",
          "name": "stderr",
          "text": [
            "[I 2024-05-13 21:50:31,203] Trial 65 finished with value: 0.9885741939094249 and parameters: {'n_estimators': 48, 'max_depth': 10, 'min_samples_split': 2, 'min_samples_leaf': 6}. Best is trial 65 with value: 0.9885741939094249.\n"
          ]
        },
        {
          "output_type": "stream",
          "name": "stdout",
          "text": [
            "Trial 65, n_estimators: 48, max_depth: 10, min_samples_split: 2, min_samples_leaf: 6, ROC-AUC: 0.9885741939094249\n"
          ]
        },
        {
          "output_type": "stream",
          "name": "stderr",
          "text": [
            "[I 2024-05-13 21:50:34,187] Trial 66 finished with value: 0.9880109968448721 and parameters: {'n_estimators': 48, 'max_depth': 10, 'min_samples_split': 2, 'min_samples_leaf': 6}. Best is trial 65 with value: 0.9885741939094249.\n"
          ]
        },
        {
          "output_type": "stream",
          "name": "stdout",
          "text": [
            "Trial 66, n_estimators: 48, max_depth: 10, min_samples_split: 2, min_samples_leaf: 6, ROC-AUC: 0.9880109968448721\n"
          ]
        },
        {
          "output_type": "stream",
          "name": "stderr",
          "text": [
            "[I 2024-05-13 21:50:37,563] Trial 67 finished with value: 0.9856460998096657 and parameters: {'n_estimators': 48, 'max_depth': 9, 'min_samples_split': 2, 'min_samples_leaf': 5}. Best is trial 65 with value: 0.9885741939094249.\n"
          ]
        },
        {
          "output_type": "stream",
          "name": "stdout",
          "text": [
            "Trial 67, n_estimators: 48, max_depth: 9, min_samples_split: 2, min_samples_leaf: 5, ROC-AUC: 0.9856460998096657\n"
          ]
        },
        {
          "output_type": "stream",
          "name": "stderr",
          "text": [
            "[I 2024-05-13 21:50:39,905] Trial 68 finished with value: 0.9880818339689142 and parameters: {'n_estimators': 50, 'max_depth': 10, 'min_samples_split': 2, 'min_samples_leaf': 6}. Best is trial 65 with value: 0.9885741939094249.\n"
          ]
        },
        {
          "output_type": "stream",
          "name": "stdout",
          "text": [
            "Trial 68, n_estimators: 50, max_depth: 10, min_samples_split: 2, min_samples_leaf: 6, ROC-AUC: 0.9880818339689142\n"
          ]
        },
        {
          "output_type": "stream",
          "name": "stderr",
          "text": [
            "[I 2024-05-13 21:50:42,165] Trial 69 finished with value: 0.985440814162996 and parameters: {'n_estimators': 50, 'max_depth': 9, 'min_samples_split': 2, 'min_samples_leaf': 6}. Best is trial 65 with value: 0.9885741939094249.\n"
          ]
        },
        {
          "output_type": "stream",
          "name": "stdout",
          "text": [
            "Trial 69, n_estimators: 50, max_depth: 9, min_samples_split: 2, min_samples_leaf: 6, ROC-AUC: 0.985440814162996\n"
          ]
        },
        {
          "output_type": "stream",
          "name": "stderr",
          "text": [
            "[I 2024-05-13 21:50:43,783] Trial 70 finished with value: 0.9494657464727462 and parameters: {'n_estimators': 48, 'max_depth': 4, 'min_samples_split': 3, 'min_samples_leaf': 6}. Best is trial 65 with value: 0.9885741939094249.\n"
          ]
        },
        {
          "output_type": "stream",
          "name": "stdout",
          "text": [
            "Trial 70, n_estimators: 48, max_depth: 4, min_samples_split: 3, min_samples_leaf: 6, ROC-AUC: 0.9494657464727462\n"
          ]
        },
        {
          "output_type": "stream",
          "name": "stderr",
          "text": [
            "[I 2024-05-13 21:50:45,930] Trial 71 finished with value: 0.9880721165502973 and parameters: {'n_estimators': 45, 'max_depth': 10, 'min_samples_split': 2, 'min_samples_leaf': 6}. Best is trial 65 with value: 0.9885741939094249.\n"
          ]
        },
        {
          "output_type": "stream",
          "name": "stdout",
          "text": [
            "Trial 71, n_estimators: 45, max_depth: 10, min_samples_split: 2, min_samples_leaf: 6, ROC-AUC: 0.9880721165502973\n"
          ]
        },
        {
          "output_type": "stream",
          "name": "stderr",
          "text": [
            "[I 2024-05-13 21:50:49,791] Trial 72 finished with value: 0.9877066511567936 and parameters: {'n_estimators': 46, 'max_depth': 10, 'min_samples_split': 2, 'min_samples_leaf': 6}. Best is trial 65 with value: 0.9885741939094249.\n"
          ]
        },
        {
          "output_type": "stream",
          "name": "stdout",
          "text": [
            "Trial 72, n_estimators: 46, max_depth: 10, min_samples_split: 2, min_samples_leaf: 6, ROC-AUC: 0.9877066511567936\n"
          ]
        },
        {
          "output_type": "stream",
          "name": "stderr",
          "text": [
            "[I 2024-05-13 21:50:52,866] Trial 73 finished with value: 0.9876247097308084 and parameters: {'n_estimators': 49, 'max_depth': 10, 'min_samples_split': 2, 'min_samples_leaf': 6}. Best is trial 65 with value: 0.9885741939094249.\n"
          ]
        },
        {
          "output_type": "stream",
          "name": "stdout",
          "text": [
            "Trial 73, n_estimators: 49, max_depth: 10, min_samples_split: 2, min_samples_leaf: 6, ROC-AUC: 0.9876247097308084\n"
          ]
        },
        {
          "output_type": "stream",
          "name": "stderr",
          "text": [
            "[I 2024-05-13 21:50:54,970] Trial 74 finished with value: 0.9875550370504719 and parameters: {'n_estimators': 44, 'max_depth': 10, 'min_samples_split': 3, 'min_samples_leaf': 6}. Best is trial 65 with value: 0.9885741939094249.\n"
          ]
        },
        {
          "output_type": "stream",
          "name": "stdout",
          "text": [
            "Trial 74, n_estimators: 44, max_depth: 10, min_samples_split: 3, min_samples_leaf: 6, ROC-AUC: 0.9875550370504719\n"
          ]
        },
        {
          "output_type": "stream",
          "name": "stderr",
          "text": [
            "[I 2024-05-13 21:50:57,130] Trial 75 finished with value: 0.9856902491927473 and parameters: {'n_estimators': 47, 'max_depth': 9, 'min_samples_split': 2, 'min_samples_leaf': 7}. Best is trial 65 with value: 0.9885741939094249.\n"
          ]
        },
        {
          "output_type": "stream",
          "name": "stdout",
          "text": [
            "Trial 75, n_estimators: 47, max_depth: 9, min_samples_split: 2, min_samples_leaf: 7, ROC-AUC: 0.9856902491927473\n"
          ]
        },
        {
          "output_type": "stream",
          "name": "stderr",
          "text": [
            "[I 2024-05-13 21:50:59,279] Trial 76 finished with value: 0.9883353755559723 and parameters: {'n_estimators': 44, 'max_depth': 10, 'min_samples_split': 3, 'min_samples_leaf': 5}. Best is trial 65 with value: 0.9885741939094249.\n"
          ]
        },
        {
          "output_type": "stream",
          "name": "stdout",
          "text": [
            "Trial 76, n_estimators: 44, max_depth: 10, min_samples_split: 3, min_samples_leaf: 5, ROC-AUC: 0.9883353755559723\n"
          ]
        },
        {
          "output_type": "stream",
          "name": "stderr",
          "text": [
            "[I 2024-05-13 21:51:01,444] Trial 77 finished with value: 0.9880234178416017 and parameters: {'n_estimators': 45, 'max_depth': 10, 'min_samples_split': 2, 'min_samples_leaf': 4}. Best is trial 65 with value: 0.9885741939094249.\n"
          ]
        },
        {
          "output_type": "stream",
          "name": "stdout",
          "text": [
            "Trial 77, n_estimators: 45, max_depth: 10, min_samples_split: 2, min_samples_leaf: 4, ROC-AUC: 0.9880234178416017\n"
          ]
        },
        {
          "output_type": "stream",
          "name": "stderr",
          "text": [
            "[I 2024-05-13 21:51:02,335] Trial 78 finished with value: 0.9784778994020273 and parameters: {'n_estimators': 10, 'max_depth': 8, 'min_samples_split': 2, 'min_samples_leaf': 4}. Best is trial 65 with value: 0.9885741939094249.\n"
          ]
        },
        {
          "output_type": "stream",
          "name": "stdout",
          "text": [
            "Trial 78, n_estimators: 10, max_depth: 8, min_samples_split: 2, min_samples_leaf: 4, ROC-AUC: 0.9784778994020273\n"
          ]
        },
        {
          "output_type": "stream",
          "name": "stderr",
          "text": [
            "[I 2024-05-13 21:51:05,550] Trial 79 finished with value: 0.9782968039980912 and parameters: {'n_estimators': 45, 'max_depth': 7, 'min_samples_split': 2, 'min_samples_leaf': 3}. Best is trial 65 with value: 0.9885741939094249.\n"
          ]
        },
        {
          "output_type": "stream",
          "name": "stdout",
          "text": [
            "Trial 79, n_estimators: 45, max_depth: 7, min_samples_split: 2, min_samples_leaf: 3, ROC-AUC: 0.9782968039980912\n"
          ]
        },
        {
          "output_type": "stream",
          "name": "stderr",
          "text": [
            "[I 2024-05-13 21:51:08,290] Trial 80 finished with value: 0.9857398848920613 and parameters: {'n_estimators': 49, 'max_depth': 9, 'min_samples_split': 2, 'min_samples_leaf': 5}. Best is trial 65 with value: 0.9885741939094249.\n"
          ]
        },
        {
          "output_type": "stream",
          "name": "stdout",
          "text": [
            "Trial 80, n_estimators: 49, max_depth: 9, min_samples_split: 2, min_samples_leaf: 5, ROC-AUC: 0.9857398848920613\n"
          ]
        },
        {
          "output_type": "stream",
          "name": "stderr",
          "text": [
            "[I 2024-05-13 21:51:10,565] Trial 81 finished with value: 0.9874267891312085 and parameters: {'n_estimators': 48, 'max_depth': 10, 'min_samples_split': 3, 'min_samples_leaf': 5}. Best is trial 65 with value: 0.9885741939094249.\n"
          ]
        },
        {
          "output_type": "stream",
          "name": "stdout",
          "text": [
            "Trial 81, n_estimators: 48, max_depth: 10, min_samples_split: 3, min_samples_leaf: 5, ROC-AUC: 0.9874267891312085\n"
          ]
        },
        {
          "output_type": "stream",
          "name": "stderr",
          "text": [
            "[I 2024-05-13 21:51:12,915] Trial 82 finished with value: 0.9875102380275977 and parameters: {'n_estimators': 50, 'max_depth': 10, 'min_samples_split': 2, 'min_samples_leaf': 4}. Best is trial 65 with value: 0.9885741939094249.\n"
          ]
        },
        {
          "output_type": "stream",
          "name": "stdout",
          "text": [
            "Trial 82, n_estimators: 50, max_depth: 10, min_samples_split: 2, min_samples_leaf: 4, ROC-AUC: 0.9875102380275977\n"
          ]
        },
        {
          "output_type": "stream",
          "name": "stderr",
          "text": [
            "[I 2024-05-13 21:51:15,142] Trial 83 finished with value: 0.9882913691886369 and parameters: {'n_estimators': 46, 'max_depth': 10, 'min_samples_split': 3, 'min_samples_leaf': 1}. Best is trial 65 with value: 0.9885741939094249.\n"
          ]
        },
        {
          "output_type": "stream",
          "name": "stdout",
          "text": [
            "Trial 83, n_estimators: 46, max_depth: 10, min_samples_split: 3, min_samples_leaf: 1, ROC-AUC: 0.9882913691886369\n"
          ]
        },
        {
          "output_type": "stream",
          "name": "stderr",
          "text": [
            "[I 2024-05-13 21:51:17,785] Trial 84 finished with value: 0.9881882717229942 and parameters: {'n_estimators': 46, 'max_depth': 10, 'min_samples_split': 3, 'min_samples_leaf': 1}. Best is trial 65 with value: 0.9885741939094249.\n"
          ]
        },
        {
          "output_type": "stream",
          "name": "stdout",
          "text": [
            "Trial 84, n_estimators: 46, max_depth: 10, min_samples_split: 3, min_samples_leaf: 1, ROC-AUC: 0.9881882717229942\n"
          ]
        },
        {
          "output_type": "stream",
          "name": "stderr",
          "text": [
            "[I 2024-05-13 21:51:21,508] Trial 85 finished with value: 0.9882214162818752 and parameters: {'n_estimators': 46, 'max_depth': 10, 'min_samples_split': 3, 'min_samples_leaf': 1}. Best is trial 65 with value: 0.9885741939094249.\n"
          ]
        },
        {
          "output_type": "stream",
          "name": "stdout",
          "text": [
            "Trial 85, n_estimators: 46, max_depth: 10, min_samples_split: 3, min_samples_leaf: 1, ROC-AUC: 0.9882214162818752\n"
          ]
        },
        {
          "output_type": "stream",
          "name": "stderr",
          "text": [
            "[I 2024-05-13 21:51:23,577] Trial 86 finished with value: 0.9855547159141548 and parameters: {'n_estimators': 44, 'max_depth': 9, 'min_samples_split': 3, 'min_samples_leaf': 1}. Best is trial 65 with value: 0.9885741939094249.\n"
          ]
        },
        {
          "output_type": "stream",
          "name": "stdout",
          "text": [
            "Trial 86, n_estimators: 44, max_depth: 9, min_samples_split: 3, min_samples_leaf: 1, ROC-AUC: 0.9855547159141548\n"
          ]
        },
        {
          "output_type": "stream",
          "name": "stderr",
          "text": [
            "[I 2024-05-13 21:51:25,647] Trial 87 finished with value: 0.9886170453322553 and parameters: {'n_estimators': 42, 'max_depth': 10, 'min_samples_split': 3, 'min_samples_leaf': 1}. Best is trial 87 with value: 0.9886170453322553.\n"
          ]
        },
        {
          "output_type": "stream",
          "name": "stdout",
          "text": [
            "Trial 87, n_estimators: 42, max_depth: 10, min_samples_split: 3, min_samples_leaf: 1, ROC-AUC: 0.9886170453322553\n"
          ]
        },
        {
          "output_type": "stream",
          "name": "stderr",
          "text": [
            "[I 2024-05-13 21:51:27,781] Trial 88 finished with value: 0.9883625342989756 and parameters: {'n_estimators': 43, 'max_depth': 10, 'min_samples_split': 4, 'min_samples_leaf': 1}. Best is trial 87 with value: 0.9886170453322553.\n"
          ]
        },
        {
          "output_type": "stream",
          "name": "stdout",
          "text": [
            "Trial 88, n_estimators: 43, max_depth: 10, min_samples_split: 4, min_samples_leaf: 1, ROC-AUC: 0.9883625342989756\n"
          ]
        },
        {
          "output_type": "stream",
          "name": "stderr",
          "text": [
            "[I 2024-05-13 21:51:28,913] Trial 89 finished with value: 0.8469973010237226 and parameters: {'n_estimators': 42, 'max_depth': 1, 'min_samples_split': 4, 'min_samples_leaf': 1}. Best is trial 87 with value: 0.9886170453322553.\n"
          ]
        },
        {
          "output_type": "stream",
          "name": "stdout",
          "text": [
            "Trial 89, n_estimators: 42, max_depth: 1, min_samples_split: 4, min_samples_leaf: 1, ROC-AUC: 0.8469973010237226\n"
          ]
        },
        {
          "output_type": "stream",
          "name": "stderr",
          "text": [
            "[I 2024-05-13 21:51:30,979] Trial 90 finished with value: 0.9862926824426017 and parameters: {'n_estimators': 43, 'max_depth': 9, 'min_samples_split': 3, 'min_samples_leaf': 2}. Best is trial 87 with value: 0.9886170453322553.\n"
          ]
        },
        {
          "output_type": "stream",
          "name": "stdout",
          "text": [
            "Trial 90, n_estimators: 43, max_depth: 9, min_samples_split: 3, min_samples_leaf: 2, ROC-AUC: 0.9862926824426017\n"
          ]
        },
        {
          "output_type": "stream",
          "name": "stderr",
          "text": [
            "[I 2024-05-13 21:51:34,556] Trial 91 finished with value: 0.9886783895882341 and parameters: {'n_estimators': 46, 'max_depth': 10, 'min_samples_split': 3, 'min_samples_leaf': 1}. Best is trial 91 with value: 0.9886783895882341.\n"
          ]
        },
        {
          "output_type": "stream",
          "name": "stdout",
          "text": [
            "Trial 91, n_estimators: 46, max_depth: 10, min_samples_split: 3, min_samples_leaf: 1, ROC-AUC: 0.9886783895882341\n"
          ]
        },
        {
          "output_type": "stream",
          "name": "stderr",
          "text": [
            "[I 2024-05-13 21:51:37,570] Trial 92 finished with value: 0.9888881828695804 and parameters: {'n_estimators': 46, 'max_depth': 10, 'min_samples_split': 3, 'min_samples_leaf': 1}. Best is trial 92 with value: 0.9888881828695804.\n"
          ]
        },
        {
          "output_type": "stream",
          "name": "stdout",
          "text": [
            "Trial 92, n_estimators: 46, max_depth: 10, min_samples_split: 3, min_samples_leaf: 1, ROC-AUC: 0.9888881828695804\n"
          ]
        },
        {
          "output_type": "stream",
          "name": "stderr",
          "text": [
            "[I 2024-05-13 21:51:39,810] Trial 93 finished with value: 0.9886969373056541 and parameters: {'n_estimators': 46, 'max_depth': 10, 'min_samples_split': 3, 'min_samples_leaf': 1}. Best is trial 92 with value: 0.9888881828695804.\n"
          ]
        },
        {
          "output_type": "stream",
          "name": "stdout",
          "text": [
            "Trial 93, n_estimators: 46, max_depth: 10, min_samples_split: 3, min_samples_leaf: 1, ROC-AUC: 0.9886969373056541\n"
          ]
        },
        {
          "output_type": "stream",
          "name": "stderr",
          "text": [
            "[I 2024-05-13 21:51:42,086] Trial 94 finished with value: 0.988454558335078 and parameters: {'n_estimators': 46, 'max_depth': 10, 'min_samples_split': 3, 'min_samples_leaf': 1}. Best is trial 92 with value: 0.9888881828695804.\n"
          ]
        },
        {
          "output_type": "stream",
          "name": "stdout",
          "text": [
            "Trial 94, n_estimators: 46, max_depth: 10, min_samples_split: 3, min_samples_leaf: 1, ROC-AUC: 0.988454558335078\n"
          ]
        },
        {
          "output_type": "stream",
          "name": "stderr",
          "text": [
            "[I 2024-05-13 21:51:44,252] Trial 95 finished with value: 0.9882904195324173 and parameters: {'n_estimators': 44, 'max_depth': 10, 'min_samples_split': 4, 'min_samples_leaf': 1}. Best is trial 92 with value: 0.9888881828695804.\n"
          ]
        },
        {
          "output_type": "stream",
          "name": "stdout",
          "text": [
            "Trial 95, n_estimators: 44, max_depth: 10, min_samples_split: 4, min_samples_leaf: 1, ROC-AUC: 0.9882904195324173\n"
          ]
        },
        {
          "output_type": "stream",
          "name": "stderr",
          "text": [
            "[I 2024-05-13 21:51:46,324] Trial 96 finished with value: 0.9883604370865182 and parameters: {'n_estimators': 42, 'max_depth': 10, 'min_samples_split': 4, 'min_samples_leaf': 2}. Best is trial 92 with value: 0.9888881828695804.\n"
          ]
        },
        {
          "output_type": "stream",
          "name": "stdout",
          "text": [
            "Trial 96, n_estimators: 42, max_depth: 10, min_samples_split: 4, min_samples_leaf: 2, ROC-AUC: 0.9883604370865182\n"
          ]
        },
        {
          "output_type": "stream",
          "name": "stderr",
          "text": [
            "[I 2024-05-13 21:51:49,540] Trial 97 finished with value: 0.9863763239616752 and parameters: {'n_estimators': 42, 'max_depth': 9, 'min_samples_split': 4, 'min_samples_leaf': 2}. Best is trial 92 with value: 0.9888881828695804.\n"
          ]
        },
        {
          "output_type": "stream",
          "name": "stdout",
          "text": [
            "Trial 97, n_estimators: 42, max_depth: 9, min_samples_split: 4, min_samples_leaf: 2, ROC-AUC: 0.9863763239616752\n"
          ]
        },
        {
          "output_type": "stream",
          "name": "stderr",
          "text": [
            "[I 2024-05-13 21:51:52,088] Trial 98 finished with value: 0.9702672796479874 and parameters: {'n_estimators': 44, 'max_depth': 6, 'min_samples_split': 3, 'min_samples_leaf': 2}. Best is trial 92 with value: 0.9888881828695804.\n"
          ]
        },
        {
          "output_type": "stream",
          "name": "stdout",
          "text": [
            "Trial 98, n_estimators: 44, max_depth: 6, min_samples_split: 3, min_samples_leaf: 2, ROC-AUC: 0.9702672796479874\n"
          ]
        },
        {
          "output_type": "stream",
          "name": "stderr",
          "text": [
            "[I 2024-05-13 21:51:54,107] Trial 99 finished with value: 0.9884081803339267 and parameters: {'n_estimators': 41, 'max_depth': 10, 'min_samples_split': 4, 'min_samples_leaf': 1}. Best is trial 92 with value: 0.9888881828695804.\n"
          ]
        },
        {
          "output_type": "stream",
          "name": "stdout",
          "text": [
            "Trial 99, n_estimators: 41, max_depth: 10, min_samples_split: 4, min_samples_leaf: 1, ROC-AUC: 0.9884081803339267\n",
            "Best Parameters:  {'n_estimators': 46, 'max_depth': 10, 'min_samples_split': 3, 'min_samples_leaf': 1}\n",
            "Best ROC-AUC: Score:  0.9888881828695804\n"
          ]
        }
      ]
    },
    {
      "cell_type": "code",
      "source": [
        "# Create and save model\n",
        "best_model_rf = RandomForestClassifier(**best_params_rf, n_jobs=-1)\n",
        "with open('best_models_rf_9_features.pkl', 'wb') as file:\n",
        "    pickle.dump(best_model_rf, file)\n",
        "\n",
        "label_encoder = LabelEncoder()\n",
        "# Fit the encoder and transform the target variable\n",
        "y_train_oversampled_encoded = label_encoder.fit_transform(y_train_oversampled)\n",
        "# This suppresses printing logs\n",
        "optuna.logging.set_verbosity(optuna.logging.WARNING)"
      ],
      "metadata": {
        "id": "KH8nCQTi_YQ2"
      },
      "execution_count": 40,
      "outputs": []
    },
    {
      "cell_type": "code",
      "source": [
        "label_encoder = LabelEncoder()\n",
        "# Fit the encoder and transform the target variable\n",
        "y_train_oversampled_encoded = label_encoder.fit_transform(y_train_oversampled)\n",
        "# This suppresses printing logs\n",
        "optuna.logging.set_verbosity(optuna.logging.WARNING)\n",
        "\n",
        "def objective_function(trial):\n",
        "    n_estimators = trial.suggest_int('n_estimators', 2, 50)\n",
        "    max_depth = trial.suggest_int('max_depth', 1, 10)\n",
        "    learning_rate = trial.suggest_float('learning_rate', 0.001, 0.9, log=True)\n",
        "    min_child_weight = trial.suggest_int('min_child_weight', 1, 10)\n",
        "    subsample = trial.suggest_float('subsample', 0.5, 1.0)\n",
        "    colsample_bytree = trial.suggest_float('colsample_bytree', 0.5, 1.0)\n",
        "    gamma = trial.suggest_float('gamma', 0, 1.0)\n",
        "    reg_alpha = trial.suggest_float('reg_alpha', 0, 1)\n",
        "    reg_lambda = trial.suggest_float('reg_lambda', 0, 1)\n",
        "\n",
        "    model = XGBClassifier(\n",
        "        n_estimators=n_estimators,\n",
        "        max_depth=max_depth,\n",
        "        learning_rate=learning_rate,\n",
        "        min_child_weight=min_child_weight,\n",
        "        subsample=subsample,\n",
        "        colsample_bytree=colsample_bytree,\n",
        "        gamma=gamma,\n",
        "        reg_alpha=reg_alpha,\n",
        "        reg_lambda=reg_lambda,\n",
        "        use_label_encoder=False,\n",
        "        n_jobs=-1\n",
        "    )\n",
        "\n",
        "    # Using cross_val_score to get the average ROC-AUC score for each fold\n",
        "    scores = cross_val_score(model, X_train_oversampled, y_train_oversampled_encoded, cv=5, scoring='roc_auc')\n",
        "    roc_auc = np.mean(scores)\n",
        "    # Printing intermediate results\n",
        "    print(f\"Trial {trial.number}, n_estimators: {n_estimators}, max_depth: {max_depth}, learning_rate: {learning_rate},\"\n",
        "          f\"min_child_weight: {min_child_weight}, subsample: {subsample}, colsample_bytree: {colsample_bytree}, \"\n",
        "          f\"gamma: {gamma}, reg_alpha: {reg_alpha}, reg_lambda: {reg_lambda}, ROC-AUC: {roc_auc}\")\n",
        "    return roc_auc\n",
        "\n",
        "\n",
        "study_xgb = optuna.create_study(direction=\"maximize\")\n",
        "study_xgb.optimize(objective_function, n_trials=100)\n",
        "\n",
        "best_params_xgb = study_xgb.best_params\n",
        "print(\"Best Parameters: \", best_params_xgb)\n",
        "print(\"Best ROC-AUC Score: \", study_xgb.best_value)\n",
        "\n",
        "best_model_xgb = XGBClassifier(**best_params_xgb, use_label_encoder=False, n_jobs=-1)\n",
        "with open('best_models_xgb_9_features.pkl', 'wb') as file:\n",
        "    pickle.dump(best_model_xgb, file)\n",
        ""
      ],
      "metadata": {
        "colab": {
          "base_uri": "https://localhost:8080/"
        },
        "id": "uEZKxLfk_jqd",
        "outputId": "5489bf86-86e5-4000-8334-9923f3dc4e34"
      },
      "execution_count": 41,
      "outputs": [
        {
          "output_type": "stream",
          "name": "stdout",
          "text": [
            "Trial 0, n_estimators: 36, max_depth: 3, learning_rate: 0.004319387223562214,min_child_weight: 6, subsample: 0.990328144354381, colsample_bytree: 0.7049814464590884, gamma: 0.10689411429280582, reg_alpha: 0.34716903645578956, reg_lambda: 0.8986552674694452, ROC-AUC: 0.9162646594306398\n",
            "Trial 1, n_estimators: 11, max_depth: 2, learning_rate: 0.003435431435329658,min_child_weight: 7, subsample: 0.704812756869506, colsample_bytree: 0.5406827275992673, gamma: 0.43241203367026515, reg_alpha: 0.01011455339208911, reg_lambda: 0.41558177488256065, ROC-AUC: 0.8600690146495833\n",
            "Trial 2, n_estimators: 47, max_depth: 4, learning_rate: 0.004584903404826095,min_child_weight: 4, subsample: 0.7747186294038515, colsample_bytree: 0.6263304686156592, gamma: 0.5699253522578187, reg_alpha: 0.4007507877207517, reg_lambda: 0.6635227179441499, ROC-AUC: 0.9524717472129239\n",
            "Trial 3, n_estimators: 17, max_depth: 4, learning_rate: 0.030103760648190973,min_child_weight: 4, subsample: 0.5907478879898802, colsample_bytree: 0.8975496195940649, gamma: 0.7875033204350698, reg_alpha: 0.3632689153498081, reg_lambda: 0.6222687596747345, ROC-AUC: 0.9413412615141397\n",
            "Trial 4, n_estimators: 33, max_depth: 8, learning_rate: 0.0010649976108409516,min_child_weight: 10, subsample: 0.9707472632808692, colsample_bytree: 0.8999167774190583, gamma: 0.775671228857514, reg_alpha: 0.797197380608107, reg_lambda: 0.5654112656485851, ROC-AUC: 0.9701342707820244\n",
            "Trial 5, n_estimators: 13, max_depth: 1, learning_rate: 0.0010688445622156545,min_child_weight: 8, subsample: 0.5140368709428104, colsample_bytree: 0.5312984883791085, gamma: 0.846343571379062, reg_alpha: 0.7721899548310382, reg_lambda: 0.6860413898450928, ROC-AUC: 0.8025810400045967\n",
            "Trial 6, n_estimators: 24, max_depth: 3, learning_rate: 0.002039790029183955,min_child_weight: 3, subsample: 0.5621226888270131, colsample_bytree: 0.6378865141046538, gamma: 0.2124350057237071, reg_alpha: 0.7695344213193341, reg_lambda: 0.9191192991592395, ROC-AUC: 0.9198946352334311\n",
            "Trial 7, n_estimators: 39, max_depth: 4, learning_rate: 0.13041077700583983,min_child_weight: 7, subsample: 0.800568727643491, colsample_bytree: 0.8418261761778723, gamma: 0.23337018324656367, reg_alpha: 0.16644171406987962, reg_lambda: 0.4335125432792716, ROC-AUC: 0.9852637712236951\n",
            "Trial 8, n_estimators: 42, max_depth: 1, learning_rate: 0.010866465383855646,min_child_weight: 4, subsample: 0.7786670162053468, colsample_bytree: 0.7426554507518762, gamma: 0.8616481327722924, reg_alpha: 0.06795670815793198, reg_lambda: 0.885160118625605, ROC-AUC: 0.8122644190269751\n",
            "Trial 9, n_estimators: 21, max_depth: 9, learning_rate: 0.002190483547244861,min_child_weight: 2, subsample: 0.5656600658569434, colsample_bytree: 0.7052003562724789, gamma: 0.36432245407386565, reg_alpha: 0.9678061692136929, reg_lambda: 0.3570741902621818, ROC-AUC: 0.9842374646328921\n",
            "Trial 10, n_estimators: 2, max_depth: 6, learning_rate: 0.3429701986971806,min_child_weight: 10, subsample: 0.8724217032584266, colsample_bytree: 0.8321171098456431, gamma: 0.06150547769327408, reg_alpha: 0.2185583906969033, reg_lambda: 0.06519418934746557, ROC-AUC: 0.9510122665080596\n",
            "Trial 11, n_estimators: 27, max_depth: 10, learning_rate: 0.14096838905989156,min_child_weight: 1, subsample: 0.674447489547358, colsample_bytree: 0.8129250039383904, gamma: 0.3618708044545898, reg_alpha: 0.999069843054504, reg_lambda: 0.292600301132701, ROC-AUC: 0.9915182276682337\n",
            "Trial 12, n_estimators: 32, max_depth: 7, learning_rate: 0.1639280241195758,min_child_weight: 1, subsample: 0.6666296680348713, colsample_bytree: 0.998101032013577, gamma: 0.23184994794806524, reg_alpha: 0.6151784018009364, reg_lambda: 0.2146435833102628, ROC-AUC: 0.991030741081633\n",
            "Trial 13, n_estimators: 31, max_depth: 10, learning_rate: 0.09708901498696727,min_child_weight: 1, subsample: 0.6583906543695028, colsample_bytree: 0.9975658992074757, gamma: 0.5855362702947711, reg_alpha: 0.6220624294606267, reg_lambda: 0.13783354277153892, ROC-AUC: 0.9909227694704803\n",
            "Trial 14, n_estimators: 29, max_depth: 7, learning_rate: 0.8611921196299598,min_child_weight: 1, subsample: 0.6680382216451137, colsample_bytree: 0.9885986424428523, gamma: 0.3044259920385989, reg_alpha: 0.9986587067534604, reg_lambda: 0.22724823319184426, ROC-AUC: 0.9906872660742627\n",
            "Trial 15, n_estimators: 26, max_depth: 10, learning_rate: 0.06568447072147604,min_child_weight: 2, subsample: 0.6372411518289127, colsample_bytree: 0.9212369436767196, gamma: 0.5000312858443525, reg_alpha: 0.5651757823158903, reg_lambda: 0.2355657173457804, ROC-AUC: 0.9876608225260923\n",
            "Trial 16, n_estimators: 48, max_depth: 8, learning_rate: 0.27303670983846845,min_child_weight: 1, subsample: 0.7249438747593807, colsample_bytree: 0.808542290825208, gamma: 0.1766209539681367, reg_alpha: 0.6418028156907283, reg_lambda: 0.27444780084656495, ROC-AUC: 0.9923623438083343\n",
            "Trial 17, n_estimators: 50, max_depth: 9, learning_rate: 0.3602492684305449,min_child_weight: 3, subsample: 0.8547080646297456, colsample_bytree: 0.8154407458831918, gamma: 0.13333092384921408, reg_alpha: 0.9005550814264544, reg_lambda: 0.006832156807743128, ROC-AUC: 0.9921532268173164\n",
            "Trial 18, n_estimators: 50, max_depth: 8, learning_rate: 0.6265309553930246,min_child_weight: 3, subsample: 0.8640240162585776, colsample_bytree: 0.7838641923477223, gamma: 0.01134362108346243, reg_alpha: 0.8618374547030723, reg_lambda: 0.006514299291362626, ROC-AUC: 0.9913739192389762\n",
            "Trial 19, n_estimators: 44, max_depth: 8, learning_rate: 0.3324888023610768,min_child_weight: 5, subsample: 0.8586108129108171, colsample_bytree: 0.7408773747848593, gamma: 0.1354310829874316, reg_alpha: 0.7142491656107183, reg_lambda: 0.1278591288455863, ROC-AUC: 0.9920999991007424\n",
            "Trial 20, n_estimators: 50, max_depth: 6, learning_rate: 0.03775177934945507,min_child_weight: 3, subsample: 0.9361405248514552, colsample_bytree: 0.6345387907672453, gamma: 0.15706985054827394, reg_alpha: 0.49297244546061086, reg_lambda: 0.021841668627362032, ROC-AUC: 0.986091174047609\n",
            "Trial 21, n_estimators: 44, max_depth: 8, learning_rate: 0.45887945113412615,min_child_weight: 5, subsample: 0.8472869489631921, colsample_bytree: 0.7796939064150218, gamma: 0.12417071085025151, reg_alpha: 0.8605472642730521, reg_lambda: 0.12418244372724709, ROC-AUC: 0.9911857358479956\n",
            "Trial 22, n_estimators: 44, max_depth: 9, learning_rate: 0.2721816996203981,min_child_weight: 5, subsample: 0.7309651933405817, colsample_bytree: 0.7359340154629417, gamma: 0.9873470395663173, reg_alpha: 0.6908059608666409, reg_lambda: 0.12798033175966506, ROC-AUC: 0.9918641070288894\n",
            "Trial 23, n_estimators: 39, max_depth: 9, learning_rate: 0.29668243777000247,min_child_weight: 2, subsample: 0.9047035258896697, colsample_bytree: 0.8608235492148529, gamma: 0.0001332725105741006, reg_alpha: 0.6946678236210455, reg_lambda: 0.2982810728681124, ROC-AUC: 0.9921778682720908\n",
            "Trial 24, n_estimators: 38, max_depth: 9, learning_rate: 0.22459647201874783,min_child_weight: 2, subsample: 0.9276267419865853, colsample_bytree: 0.8672832734982542, gamma: 0.028217655435580358, reg_alpha: 0.8685766986692504, reg_lambda: 0.4972125640355066, ROC-AUC: 0.992588534029705\n",
            "Trial 25, n_estimators: 38, max_depth: 7, learning_rate: 0.059479638040678184,min_child_weight: 2, subsample: 0.904699456833467, colsample_bytree: 0.8588649847068313, gamma: 0.010897134831509664, reg_alpha: 0.5064800198456563, reg_lambda: 0.4554420874923391, ROC-AUC: 0.9869397471599817\n",
            "Trial 26, n_estimators: 41, max_depth: 9, learning_rate: 0.21370636565297407,min_child_weight: 2, subsample: 0.9443606677282474, colsample_bytree: 0.9551982740176092, gamma: 0.02132867167391471, reg_alpha: 0.7104171907890605, reg_lambda: 0.326729683704275, ROC-AUC: 0.9929363261600012\n",
            "Trial 27, n_estimators: 34, max_depth: 10, learning_rate: 0.2151484077869427,min_child_weight: 2, subsample: 0.8112934058256831, colsample_bytree: 0.9321937098047747, gamma: 0.2781692741671788, reg_alpha: 0.6287394556711455, reg_lambda: 0.5573312712806562, ROC-AUC: 0.9923228297714074\n",
            "Trial 28, n_estimators: 42, max_depth: 5, learning_rate: 0.013914130959242137,min_child_weight: 1, subsample: 0.9596695630901684, colsample_bytree: 0.9590866733502234, gamma: 0.09067795178995362, reg_alpha: 0.9188443348348134, reg_lambda: 0.7550765967358433, ROC-AUC: 0.9544564572042212\n",
            "Trial 29, n_estimators: 36, max_depth: 7, learning_rate: 0.09593444588774318,min_child_weight: 6, subsample: 0.9300190725123467, colsample_bytree: 0.8790143614488247, gamma: 0.07706450555614165, reg_alpha: 0.5193256168183743, reg_lambda: 0.3630438993662779, ROC-AUC: 0.9886560622443369\n",
            "Trial 30, n_estimators: 36, max_depth: 9, learning_rate: 0.017955852428770007,min_child_weight: 3, subsample: 0.9822156520285505, colsample_bytree: 0.9460770525934452, gamma: 0.19192923158512498, reg_alpha: 0.8102719735320929, reg_lambda: 0.5010691096214283, ROC-AUC: 0.9829717678895179\n",
            "Trial 31, n_estimators: 34, max_depth: 10, learning_rate: 0.21572655319898246,min_child_weight: 2, subsample: 0.816146529279544, colsample_bytree: 0.9226613535150281, gamma: 0.2761217690073256, reg_alpha: 0.6421315137409869, reg_lambda: 0.535264073452457, ROC-AUC: 0.9926201742845825\n",
            "Trial 32, n_estimators: 46, max_depth: 10, learning_rate: 0.5385855839263137,min_child_weight: 2, subsample: 0.7155597963668091, colsample_bytree: 0.9612423603547882, gamma: 0.3023930817193493, reg_alpha: 0.6848527302523668, reg_lambda: 0.5025563252906435, ROC-AUC: 0.9920732298249744\n",
            "Trial 33, n_estimators: 40, max_depth: 9, learning_rate: 0.2020907079456762,min_child_weight: 4, subsample: 0.7475201695506288, colsample_bytree: 0.8967088614651448, gamma: 0.07282329297263865, reg_alpha: 0.4066810691315932, reg_lambda: 0.3706064007981009, ROC-AUC: 0.9924273120094428\n",
            "Trial 34, n_estimators: 41, max_depth: 9, learning_rate: 0.053816111093473645,min_child_weight: 4, subsample: 0.8182402510424568, colsample_bytree: 0.8980235556622241, gamma: 0.05072454352375837, reg_alpha: 0.4402773137313052, reg_lambda: 0.3836900766786228, ROC-AUC: 0.9890368807212366\n",
            "Trial 35, n_estimators: 35, max_depth: 10, learning_rate: 0.20283684650773542,min_child_weight: 4, subsample: 0.7576972135445302, colsample_bytree: 0.9326401208900128, gamma: 0.44450550878403033, reg_alpha: 0.2985322573996041, reg_lambda: 0.5630796319775937, ROC-AUC: 0.9920665967441046\n",
            "Trial 36, n_estimators: 39, max_depth: 9, learning_rate: 0.09299173145195802,min_child_weight: 3, subsample: 0.8998118988172952, colsample_bytree: 0.9061557127384626, gamma: 0.6077304206220248, reg_alpha: 0.38599095862835403, reg_lambda: 0.6302636083450268, ROC-AUC: 0.9907084152533863\n",
            "Trial 37, n_estimators: 29, max_depth: 8, learning_rate: 0.6175380222748956,min_child_weight: 9, subsample: 0.9468730856152636, colsample_bytree: 0.8729163977444386, gamma: 0.07214785452465722, reg_alpha: 0.28664354245855816, reg_lambda: 0.7335145598548725, ROC-AUC: 0.9910666264238299\n",
            "Trial 38, n_estimators: 37, max_depth: 10, learning_rate: 0.19173770336582352,min_child_weight: 7, subsample: 0.9875664192141654, colsample_bytree: 0.5029433668801391, gamma: 0.6742808089667078, reg_alpha: 0.7468508568056494, reg_lambda: 0.4736336250328115, ROC-AUC: 0.9920650462634303\n",
            "Trial 39, n_estimators: 32, max_depth: 5, learning_rate: 0.8349194905780521,min_child_weight: 4, subsample: 0.7764227016704078, colsample_bytree: 0.9678489958498365, gamma: 0.24858371355793107, reg_alpha: 0.5644988750638742, reg_lambda: 0.3951118636612931, ROC-AUC: 0.9892940739594269\n",
            "Trial 40, n_estimators: 20, max_depth: 9, learning_rate: 0.007892429863440725,min_child_weight: 2, subsample: 0.8220170666087251, colsample_bytree: 0.9115482203551714, gamma: 0.3644148644255288, reg_alpha: 0.45383077330386273, reg_lambda: 0.8129061374327653, ROC-AUC: 0.9823464006662445\n",
            "Trial 41, n_estimators: 46, max_depth: 8, learning_rate: 0.11632648571624792,min_child_weight: 1, subsample: 0.7398345834802719, colsample_bytree: 0.7882162577136077, gamma: 0.1715743824539414, reg_alpha: 0.6531785463201463, reg_lambda: 0.3055089225662002, ROC-AUC: 0.9918229979178174\n",
            "Trial 42, n_estimators: 41, max_depth: 8, learning_rate: 0.22376996620663578,min_child_weight: 2, subsample: 0.7172313244920299, colsample_bytree: 0.8852575019069729, gamma: 0.18033645035689383, reg_alpha: 0.8192403911836006, reg_lambda: 0.9875575176258937, ROC-AUC: 0.9922072007488916\n",
            "Trial 43, n_estimators: 48, max_depth: 9, learning_rate: 0.40231719095979973,min_child_weight: 1, subsample: 0.6986025761171123, colsample_bytree: 0.8157626733016359, gamma: 0.10330305140406539, reg_alpha: 0.5966061499638895, reg_lambda: 0.33546949353265926, ROC-AUC: 0.9925101993975142\n",
            "Trial 44, n_estimators: 40, max_depth: 2, learning_rate: 0.46341161901331135,min_child_weight: 3, subsample: 0.7556729375708429, colsample_bytree: 0.8469922388832498, gamma: 0.029109359052593348, reg_alpha: 0.5736952787136289, reg_lambda: 0.33811897470123875, ROC-AUC: 0.9867065032542364\n",
            "Trial 45, n_estimators: 44, max_depth: 10, learning_rate: 0.12463574367650351,min_child_weight: 1, subsample: 0.619186390430931, colsample_bytree: 0.8380160998486301, gamma: 0.10155086067180374, reg_alpha: 0.7477680035195828, reg_lambda: 0.43076423687240545, ROC-AUC: 0.9926842711978784\n",
            "Trial 46, n_estimators: 44, max_depth: 10, learning_rate: 0.12421429433620966,min_child_weight: 1, subsample: 0.6081981681461406, colsample_bytree: 0.8340856584491868, gamma: 0.11614735504370889, reg_alpha: 0.7456096495051489, reg_lambda: 0.43576077491681964, ROC-AUC: 0.9922079216326904\n",
            "Trial 47, n_estimators: 47, max_depth: 10, learning_rate: 0.034151996166286655,min_child_weight: 1, subsample: 0.5226129152448067, colsample_bytree: 0.7015073228765353, gamma: 0.10626874966231692, reg_alpha: 0.7855008892874978, reg_lambda: 0.5368541565806945, ROC-AUC: 0.9894313284404428\n",
            "Trial 48, n_estimators: 43, max_depth: 9, learning_rate: 0.07152270104079078,min_child_weight: 2, subsample: 0.6155813282596821, colsample_bytree: 0.7084756403486085, gamma: 0.22692846726850907, reg_alpha: 0.8658081529338516, reg_lambda: 0.6049500128023032, ROC-AUC: 0.9902909641638216\n",
            "Trial 49, n_estimators: 47, max_depth: 10, learning_rate: 0.40451977936255806,min_child_weight: 1, subsample: 0.6814935639847598, colsample_bytree: 0.7686755678107678, gamma: 0.42071835108148037, reg_alpha: 0.9320973958463715, reg_lambda: 0.4124597779837317, ROC-AUC: 0.9921645804732823\n",
            "Trial 50, n_estimators: 34, max_depth: 6, learning_rate: 0.15595449041009365,min_child_weight: 2, subsample: 0.6951387901480316, colsample_bytree: 0.8221363370376719, gamma: 0.04691365014039528, reg_alpha: 0.7391843214790946, reg_lambda: 0.5205993201011311, ROC-AUC: 0.9897935733409866\n",
            "Trial 51, n_estimators: 38, max_depth: 9, learning_rate: 0.24353738612295614,min_child_weight: 3, subsample: 0.7905725669688064, colsample_bytree: 0.8895650726940324, gamma: 0.09110019626392256, reg_alpha: 0.5880854406357747, reg_lambda: 0.3408658856132993, ROC-AUC: 0.9924918474691786\n",
            "Trial 52, n_estimators: 8, max_depth: 9, learning_rate: 0.26562627373946984,min_child_weight: 2, subsample: 0.8867184644167492, colsample_bytree: 0.8521752098721713, gamma: 0.04474286891608381, reg_alpha: 0.5996433214745045, reg_lambda: 0.19998857209965648, ROC-AUC: 0.9864094917408248\n",
            "Trial 53, n_estimators: 31, max_depth: 10, learning_rate: 0.15932258995361534,min_child_weight: 3, subsample: 0.7912284938591845, colsample_bytree: 0.9811550305987953, gamma: 0.14213532659643532, reg_alpha: 0.5368954861035535, reg_lambda: 0.32387874254586374, ROC-AUC: 0.9919170959461082\n",
            "Trial 54, n_estimators: 37, max_depth: 9, learning_rate: 0.6839715184523444,min_child_weight: 1, subsample: 0.6464189122780937, colsample_bytree: 0.9238496471022035, gamma: 0.2599940910882081, reg_alpha: 0.6623795300178899, reg_lambda: 0.2506305266005274, ROC-AUC: 0.9906632571079459\n",
            "Trial 55, n_estimators: 48, max_depth: 8, learning_rate: 0.4102894670223781,min_child_weight: 2, subsample: 0.5517786189218422, colsample_bytree: 0.9408422457331825, gamma: 0.09873183572380084, reg_alpha: 0.583470382192656, reg_lambda: 0.45643722877675735, ROC-AUC: 0.9918528103681286\n",
            "Trial 56, n_estimators: 45, max_depth: 3, learning_rate: 0.08453294439180321,min_child_weight: 3, subsample: 0.8392470131992664, colsample_bytree: 0.5937650069944862, gamma: 0.0003639977441162595, reg_alpha: 0.8305363598780073, reg_lambda: 0.6024159309731068, ROC-AUC: 0.9706307692077114\n",
            "Trial 57, n_estimators: 42, max_depth: 10, learning_rate: 0.04818716953920689,min_child_weight: 1, subsample: 0.5897593367787866, colsample_bytree: 0.8728372641298131, gamma: 0.1553119363130397, reg_alpha: 0.7169463724920198, reg_lambda: 0.17387271822763473, ROC-AUC: 0.9900447211294271\n",
            "Trial 58, n_estimators: 24, max_depth: 7, learning_rate: 0.34798437794068376,min_child_weight: 1, subsample: 0.8327469013024319, colsample_bytree: 0.792804195836706, gamma: 0.21743470929446332, reg_alpha: 0.7807258444316338, reg_lambda: 0.4248133405927752, ROC-AUC: 0.9918881004270714\n",
            "Trial 59, n_estimators: 29, max_depth: 9, learning_rate: 0.022867952064151632,min_child_weight: 2, subsample: 0.7940774805250786, colsample_bytree: 0.8016851986780811, gamma: 0.3408688955174027, reg_alpha: 0.6155019782106439, reg_lambda: 0.2646030914188199, ROC-AUC: 0.9868091468691711\n",
            "Trial 60, n_estimators: 49, max_depth: 8, learning_rate: 0.12025418908551248,min_child_weight: 1, subsample: 0.918386387773006, colsample_bytree: 0.8251944277779475, gamma: 0.20695121041082032, reg_alpha: 0.4798228229022476, reg_lambda: 0.6684484883125714, ROC-AUC: 0.9918243330832721\n",
            "Trial 61, n_estimators: 40, max_depth: 9, learning_rate: 0.1714159499576169,min_child_weight: 4, subsample: 0.7615183781438836, colsample_bytree: 0.889672642634785, gamma: 0.08688042808198342, reg_alpha: 0.4344776995661722, reg_lambda: 0.35085630205512525, ROC-AUC: 0.9922731634635573\n",
            "Trial 62, n_estimators: 38, max_depth: 9, learning_rate: 0.22500390881299712,min_child_weight: 2, subsample: 0.6894789112800678, colsample_bytree: 0.9119388629992846, gamma: 0.04454300758833269, reg_alpha: 0.33299847863420473, reg_lambda: 0.3720228819801078, ROC-AUC: 0.9925278861179228\n",
            "Trial 63, n_estimators: 38, max_depth: 10, learning_rate: 0.26433773872084854,min_child_weight: 2, subsample: 0.7019756497480153, colsample_bytree: 0.9212149255502203, gamma: 0.03706935937717263, reg_alpha: 0.08789521550485246, reg_lambda: 0.4648361652722653, ROC-AUC: 0.9922549907007046\n",
            "Trial 64, n_estimators: 33, max_depth: 10, learning_rate: 0.2346549393223017,min_child_weight: 3, subsample: 0.6356467185962595, colsample_bytree: 0.8609304017405113, gamma: 0.11740652300848867, reg_alpha: 0.546767693017491, reg_lambda: 0.32152970373059564, ROC-AUC: 0.9919238606964569\n",
            "Trial 65, n_estimators: 43, max_depth: 9, learning_rate: 0.31228125341075164,min_child_weight: 1, subsample: 0.9669677017534322, colsample_bytree: 0.9452698658744003, gamma: 0.03566143085307402, reg_alpha: 0.6656162208929252, reg_lambda: 0.394333612472766, ROC-AUC: 0.9928890523314353\n",
            "Trial 66, n_estimators: 43, max_depth: 8, learning_rate: 0.34037401814796375,min_child_weight: 1, subsample: 0.9615963764224624, colsample_bytree: 0.9740501674112666, gamma: 0.055643662713566716, reg_alpha: 0.6804177141219163, reg_lambda: 0.4968785019603734, ROC-AUC: 0.9924360776609067\n",
            "Trial 67, n_estimators: 43, max_depth: 9, learning_rate: 0.4634678118092443,min_child_weight: 1, subsample: 0.9740367092987049, colsample_bytree: 0.9463706554258461, gamma: 0.016405771293665758, reg_alpha: 0.1837035751565576, reg_lambda: 0.3940065089141427, ROC-AUC: 0.9920857355229117\n",
            "Trial 68, n_estimators: 45, max_depth: 4, learning_rate: 0.556398621314811,min_child_weight: 2, subsample: 0.8788087449390346, colsample_bytree: 0.9546625178811983, gamma: 0.14191756180503953, reg_alpha: 0.7145180764121789, reg_lambda: 0.28376269011789457, ROC-AUC: 0.9911040390264324\n",
            "Trial 69, n_estimators: 41, max_depth: 10, learning_rate: 0.3109537212496348,min_child_weight: 2, subsample: 0.9986053276834677, colsample_bytree: 0.9898234827851865, gamma: 0.026752466098592415, reg_alpha: 0.6451302517691931, reg_lambda: 0.4249115186712886, ROC-AUC: 0.9929336642728257\n",
            "Trial 70, n_estimators: 36, max_depth: 10, learning_rate: 0.0014354931276813845,min_child_weight: 2, subsample: 0.9423918654916443, colsample_bytree: 0.9813884547363835, gamma: 0.025366977690816833, reg_alpha: 0.3382630826908782, reg_lambda: 0.4212187941903921, ROC-AUC: 0.9845299912041622\n",
            "Trial 71, n_estimators: 41, max_depth: 10, learning_rate: 0.3091589691411951,min_child_weight: 1, subsample: 0.9564564469385735, colsample_bytree: 0.9997396406550734, gamma: 0.06295945236546369, reg_alpha: 0.647087505144634, reg_lambda: 0.4833824480310025, ROC-AUC: 0.9927149367292006\n",
            "Trial 72, n_estimators: 41, max_depth: 10, learning_rate: 0.3111831592840882,min_child_weight: 2, subsample: 0.9978925376884354, colsample_bytree: 0.9911290606431552, gamma: 0.06578258491569224, reg_alpha: 0.8457826357247329, reg_lambda: 0.4816457962895507, ROC-AUC: 0.992892102102646\n",
            "Trial 73, n_estimators: 42, max_depth: 10, learning_rate: 0.3163258394372564,min_child_weight: 1, subsample: 0.9989752517733819, colsample_bytree: 0.9931809165562722, gamma: 0.0047261840603825545, reg_alpha: 0.8474699738461762, reg_lambda: 0.4816611589592535, ROC-AUC: 0.9929199680083803\n",
            "Trial 74, n_estimators: 41, max_depth: 10, learning_rate: 0.2854281280394116,min_child_weight: 1, subsample: 0.9921949447614751, colsample_bytree: 0.997900809744181, gamma: 0.07086902861830718, reg_alpha: 0.8356910187939143, reg_lambda: 0.5877887437848339, ROC-AUC: 0.9930468060879154\n",
            "Trial 75, n_estimators: 42, max_depth: 10, learning_rate: 0.3274886102850971,min_child_weight: 1, subsample: 0.9974529059298701, colsample_bytree: 0.9949772337488059, gamma: 0.06899665370954755, reg_alpha: 0.8953859257868303, reg_lambda: 0.5832719228656948, ROC-AUC: 0.9928132634850761\n",
            "Trial 76, n_estimators: 41, max_depth: 10, learning_rate: 0.753590231739168,min_child_weight: 1, subsample: 0.9979789122832786, colsample_bytree: 0.987933790157743, gamma: 0.0024056777434415047, reg_alpha: 0.9274202856679085, reg_lambda: 0.5697179146604141, ROC-AUC: 0.9914550054730175\n",
            "Trial 77, n_estimators: 42, max_depth: 10, learning_rate: 0.2979493697184795,min_child_weight: 1, subsample: 0.9608915977652963, colsample_bytree: 0.9934750724390979, gamma: 0.061842861770178045, reg_alpha: 0.8949728271502354, reg_lambda: 0.5823453693131913, ROC-AUC: 0.992921083109015\n",
            "Trial 78, n_estimators: 42, max_depth: 10, learning_rate: 0.54201510982678,min_child_weight: 8, subsample: 0.9971240455599977, colsample_bytree: 0.9687932145546966, gamma: 0.7241719258209709, reg_alpha: 0.9632526835925107, reg_lambda: 0.6416101676167691, ROC-AUC: 0.9909462908111528\n",
            "Trial 79, n_estimators: 46, max_depth: 10, learning_rate: 0.32604120725022434,min_child_weight: 1, subsample: 0.9801849491111416, colsample_bytree: 0.9885904477475377, gamma: 0.07088001086761951, reg_alpha: 0.8873396364923262, reg_lambda: 0.7208946000718741, ROC-AUC: 0.9926365245202028\n",
            "Trial 80, n_estimators: 40, max_depth: 10, learning_rate: 0.0050603801391635355,min_child_weight: 6, subsample: 0.9662378178155995, colsample_bytree: 0.9996766656969904, gamma: 0.16267579227808981, reg_alpha: 0.9681778924748616, reg_lambda: 0.5923454364572395, ROC-AUC: 0.9793254787924429\n",
            "Trial 81, n_estimators: 41, max_depth: 10, learning_rate: 0.27887023443631614,min_child_weight: 1, subsample: 0.9489584716483838, colsample_bytree: 0.9993464826974883, gamma: 0.07062001463697726, reg_alpha: 0.833620706306839, reg_lambda: 0.485579878126595, ROC-AUC: 0.9928650726543211\n",
            "Trial 82, n_estimators: 45, max_depth: 10, learning_rate: 0.28017939411526166,min_child_weight: 1, subsample: 0.9533289346993802, colsample_bytree: 0.9541456548909863, gamma: 0.9606581800308864, reg_alpha: 0.8462959365583649, reg_lambda: 0.5217556974193351, ROC-AUC: 0.9922054354807311\n",
            "Trial 83, n_estimators: 39, max_depth: 10, learning_rate: 0.4699847904621987,min_child_weight: 1, subsample: 0.9845742660149258, colsample_bytree: 0.9800253291375404, gamma: 0.02556365783425754, reg_alpha: 0.8099490523463543, reg_lambda: 0.5499933297213004, ROC-AUC: 0.9920900798241069\n",
            "Trial 84, n_estimators: 15, max_depth: 10, learning_rate: 0.18820747857522419,min_child_weight: 1, subsample: 0.919283217500752, colsample_bytree: 0.9674816469898623, gamma: 0.12826262892500034, reg_alpha: 0.910734971759909, reg_lambda: 0.6515415005442807, ROC-AUC: 0.9896265636687316\n",
            "Trial 85, n_estimators: 42, max_depth: 10, learning_rate: 0.38301861110987323,min_child_weight: 2, subsample: 0.9723647579476998, colsample_bytree: 0.9906059344303768, gamma: 0.06827219152507186, reg_alpha: 0.8412689966533196, reg_lambda: 0.5779512387748132, ROC-AUC: 0.9925012532612338\n",
            "Trial 86, n_estimators: 43, max_depth: 10, learning_rate: 0.29862661848018257,min_child_weight: 1, subsample: 0.9974880757777925, colsample_bytree: 0.9391299767063974, gamma: 0.0015486421528034672, reg_alpha: 0.8838650051488726, reg_lambda: 0.45335321345648777, ROC-AUC: 0.9925676320936707\n",
            "Trial 87, n_estimators: 40, max_depth: 9, learning_rate: 0.5905895400438962,min_child_weight: 1, subsample: 0.9406864467562637, colsample_bytree: 0.9587613469691585, gamma: 0.07874897061699282, reg_alpha: 0.9546877079729891, reg_lambda: 0.6826692774915762, ROC-AUC: 0.9914253568839209\n",
            "Trial 88, n_estimators: 36, max_depth: 9, learning_rate: 0.14922941752826102,min_child_weight: 2, subsample: 0.9700925488871046, colsample_bytree: 0.9668748066516296, gamma: 0.1864989225386779, reg_alpha: 0.7689873823112283, reg_lambda: 0.5257541491959503, ROC-AUC: 0.991712328797486\n",
            "Trial 89, n_estimators: 39, max_depth: 10, learning_rate: 0.18300517986532713,min_child_weight: 2, subsample: 0.9880542482922895, colsample_bytree: 0.9738096278619438, gamma: 0.042517057326237305, reg_alpha: 0.9993305130392639, reg_lambda: 0.4865219067591875, ROC-AUC: 0.9921644453735367\n",
            "Trial 90, n_estimators: 2, max_depth: 5, learning_rate: 0.4908444113100459,min_child_weight: 1, subsample: 0.9276449923157387, colsample_bytree: 0.9946479664471108, gamma: 0.12353355634042984, reg_alpha: 0.8020008622276513, reg_lambda: 0.6165948101238681, ROC-AUC: 0.9394904052899488\n",
            "Trial 91, n_estimators: 41, max_depth: 10, learning_rate: 0.3092360468677618,min_child_weight: 1, subsample: 0.954412734499455, colsample_bytree: 0.996561886997886, gamma: 0.06259718731278746, reg_alpha: 0.8788132278961425, reg_lambda: 0.477507305734684, ROC-AUC: 0.9926581341467013\n",
            "Trial 92, n_estimators: 42, max_depth: 10, learning_rate: 0.3987923371275202,min_child_weight: 1, subsample: 0.9535272317665928, colsample_bytree: 0.9794117780308675, gamma: 0.05948129086783663, reg_alpha: 0.7635828077303136, reg_lambda: 0.5516544781718654, ROC-AUC: 0.9927882742540035\n",
            "Trial 93, n_estimators: 45, max_depth: 10, learning_rate: 0.3943258841203837,min_child_weight: 1, subsample: 0.9846206154022167, colsample_bytree: 0.9500181599169973, gamma: 0.03060492095634046, reg_alpha: 0.7619032102047967, reg_lambda: 0.5869935421314665, ROC-AUC: 0.9930798374479861\n",
            "Trial 94, n_estimators: 44, max_depth: 9, learning_rate: 0.2549340419773221,min_child_weight: 2, subsample: 0.978616403956381, colsample_bytree: 0.9472659439952326, gamma: 0.0933912987006775, reg_alpha: 0.8397847229917169, reg_lambda: 0.5825893728363107, ROC-AUC: 0.9926181108470615\n",
            "Trial 95, n_estimators: 46, max_depth: 10, learning_rate: 0.6967050737220585,min_child_weight: 1, subsample: 0.9991076563773913, colsample_bytree: 0.935195278859761, gamma: 0.01568427814304615, reg_alpha: 0.8566229639234024, reg_lambda: 0.511958819177609, ROC-AUC: 0.9919961110904942\n",
            "Trial 96, n_estimators: 45, max_depth: 9, learning_rate: 0.8894900930964349,min_child_weight: 2, subsample: 0.9878381799423344, colsample_bytree: 0.9614830198949216, gamma: 0.030500945439666305, reg_alpha: 0.7943353077487297, reg_lambda: 0.4051025734613485, ROC-AUC: 0.9912203678234117\n",
            "Trial 97, n_estimators: 49, max_depth: 10, learning_rate: 0.36353435424543273,min_child_weight: 1, subsample: 0.9698733334952976, colsample_bytree: 0.9863526360151744, gamma: 0.1520998518284064, reg_alpha: 0.722223302392646, reg_lambda: 0.7100479579310025, ROC-AUC: 0.9926504123518658\n",
            "Trial 98, n_estimators: 37, max_depth: 10, learning_rate: 0.5039066215048341,min_child_weight: 1, subsample: 0.9347023264900596, colsample_bytree: 0.9535914138852893, gamma: 0.11445948210471814, reg_alpha: 0.8982239549227281, reg_lambda: 0.6295195140209724, ROC-AUC: 0.9921598931453893\n",
            "Trial 99, n_estimators: 47, max_depth: 10, learning_rate: 0.42146657227740775,min_child_weight: 3, subsample: 0.9164707059123414, colsample_bytree: 0.9718682699879555, gamma: 0.032190673720433244, reg_alpha: 0.8243053696779534, reg_lambda: 0.4534857046429783, ROC-AUC: 0.9926443027825101\n",
            "Best Parameters:  {'n_estimators': 45, 'max_depth': 10, 'learning_rate': 0.3943258841203837, 'min_child_weight': 1, 'subsample': 0.9846206154022167, 'colsample_bytree': 0.9500181599169973, 'gamma': 0.03060492095634046, 'reg_alpha': 0.7619032102047967, 'reg_lambda': 0.5869935421314665}\n",
            "Best ROC-AUC Score:  0.9930798374479861\n"
          ]
        }
      ]
    },
    {
      "cell_type": "code",
      "source": [
        "# Model selection - Compare Performance\n",
        "with open('best_models_lr_9_features.pkl', 'rb') as file:\n",
        "    best_model_lr = pickle.load(file)\n",
        "with open('best_models_dt_9_features.pkl', 'rb') as file:\n",
        "    best_model_dt = pickle.load(file)\n",
        "with open('best_models_knn_9_features.pkl', 'rb') as file:\n",
        "    best_model_knn = pickle.load(file)\n",
        "with open('best_models_rf_9_features.pkl', 'rb') as file:\n",
        "    best_model_rf = pickle.load(file)\n",
        "with open('best_models_xgb_9_features.pkl', 'rb') as file:\n",
        "    best_model_xgb = pickle.load(file)\n",
        "\n",
        "print(\"Testing Performances...Please wait\")\n",
        "best_model_lr.fit(X_train_oversampled, y_train_oversampled)\n",
        "predicted_probs = best_model_lr.predict_proba(X_test_transformed)[:, 1]\n",
        "lr_performance = roc_auc_score(y_test, predicted_probs)\n",
        "\n",
        "best_model_dt.fit(X_train_oversampled, y_train_oversampled)\n",
        "predicted_probs = best_model_dt.predict_proba(X_test_transformed)[:, 1]\n",
        "dt_performance = roc_auc_score(y_test, predicted_probs)\n",
        "\n",
        "best_model_knn.fit(X_train_oversampled, y_train_oversampled)\n",
        "predicted_probs = best_model_knn.predict_proba(X_test_transformed)[:, 1]\n",
        "knn_performance = roc_auc_score(y_test, predicted_probs)\n",
        "\n",
        "best_model_rf.fit(X_train_oversampled, y_train_oversampled)\n",
        "predicted_probs = best_model_rf.predict_proba(X_test_transformed)[:, 1]\n",
        "rf_performance = roc_auc_score(y_test, predicted_probs)\n",
        "\n",
        "best_model_xgb.fit(X_train_oversampled, y_train_oversampled_encoded)\n",
        "predicted_probs = best_model_xgb.predict_proba(X_test_transformed)[:, 1]\n",
        "xgb_performance = roc_auc_score(y_test, predicted_probs)\n",
        "\n",
        "# Test performance of the models are\n",
        "print(f\"Logistic Regression Test ROCAUC: {lr_performance}\")\n",
        "print(f\"Decision Tree Test ROCAUC: {dt_performance}\")\n",
        "print(f\"KNN Test ROCAUC: {knn_performance}\")\n",
        "print(f\"Random Forest Test ROCAUC: {rf_performance}\")\n",
        "print(f\"XGBoost Test ROCAUC: {xgb_performance}\")"
      ],
      "metadata": {
        "colab": {
          "base_uri": "https://localhost:8080/"
        },
        "id": "pONgxY5xAUdN",
        "outputId": "07534291-1e09-465c-f41d-5c1726ad73fc"
      },
      "execution_count": 42,
      "outputs": [
        {
          "output_type": "stream",
          "name": "stdout",
          "text": [
            "Testing Performances...Please wait\n",
            "Logistic Regression Test ROCAUC: 0.7553113553113553\n",
            "Decision Tree Test ROCAUC: 0.5163003663003662\n",
            "KNN Test ROCAUC: 0.7565934065934066\n",
            "Random Forest Test ROCAUC: 0.7597985347985348\n",
            "XGBoost Test ROCAUC: 0.8017399267399268\n"
          ]
        }
      ]
    }
  ]
}